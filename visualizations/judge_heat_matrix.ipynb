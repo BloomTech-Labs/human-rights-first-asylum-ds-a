{
  "cells": [
    {
      "cell_type": "code",
      "execution_count": 1,
      "metadata": {
        "id": "-syn0oQJ1wDF"
      },
      "outputs": [],
      "source": [
        "import pandas as pd\n",
        "import plotly.express as px\n"
      ]
    },
    {
      "cell_type": "code",
      "execution_count": 2,
      "metadata": {
        "colab": {
          "base_uri": "https://localhost:8080/"
        },
        "id": "T5ZZb0XO2EJv",
        "outputId": "2c188272-bcda-4351-b234-5f54f3fbc0dd"
      },
      "outputs": [
        {
          "name": "stdout",
          "output_type": "stream",
          "text": [
            "    Unnamed: 0   0     Case ID Hearing Date  \\\n",
            "0            0   1  17-0043108   11/20/2018   \n",
            "1            1   2  17-0043495   10/09/2020   \n",
            "2            2   3  14-0027984   09/14/2020   \n",
            "3            3   4  16-0027174   03/06/2020   \n",
            "4            4   5  16-0027162   01/13/2020   \n",
            "5            5   6  16-0028537   09/10/2019   \n",
            "6            6   7  13-0030778   06/14/2019   \n",
            "7            7   8  15-0028748   06/06/2019   \n",
            "8            8   9  12-0026846   02/13/2019   \n",
            "9            9  10  15-0030122   01/15/2019   \n",
            "10          10  11  15-0027098   12/03/2018   \n",
            "11          11  12  15-0028766   10/24/2018   \n",
            "12          12  13  15-0030122   06/04/2019   \n",
            "13          13  14  16-0029372   02/13/2020   \n",
            "14          14  15  69-0041036   09/25/2019   \n",
            "15          15  16  17-0043794   08/18/2020   \n",
            "16          16  17  16-0030069   11/28/2018   \n",
            "17          17  18  16-0028551   12/30/2019   \n",
            "18          18  19  16-0026989   12/30/2019   \n",
            "19          19  20  17-0043522   12/20/2019   \n",
            "20          20  21  18-0044835   08/20/2020   \n",
            "21          21  22  12-0027842   12/19/2019   \n",
            "22          22  23  15-0029304   01/09/2019   \n",
            "23          23  24  15-0028141   02/07/2019   \n",
            "24          24  25  16-0027995   06/24/2019   \n",
            "25          25  26  18-0044545   12/09/2019   \n",
            "26          26  27  15-0029100   03/20/2019   \n",
            "27          27  28  16-0030845   03/08/2019   \n",
            "28          28  29  12-0026846   04/22/2019   \n",
            "29          29  30  17-0043828   04/12/2019   \n",
            "30          30  31  14-0028410   07/09/2019   \n",
            "31          31  32  17-0043757   04/20/2020   \n",
            "32          32  33  17-0042789   03/25/2020   \n",
            "33          33  34  14-0027984   10/20/2020   \n",
            "34          34  35  14-0028382   01/17/2019   \n",
            "35          35  36  13-0030127   03/18/2019   \n",
            "36          36  37  15-0029734   07/31/2019   \n",
            "37          37  38  15-0027261   10/24/2018   \n",
            "38          38  39  17-0043659   06/03/2020   \n",
            "39          39  40  14-0030314   04/06/2020   \n",
            "40          40  41  16-0042109   05/15/2020   \n",
            "41          41  42  14-0027380   08/16/2019   \n",
            "42          42  43  17-0042734   10/21/2019   \n",
            "43          43  44  16-0030069   12/23/2019   \n",
            "44          44  45  14-0027612   01/28/2020   \n",
            "45          45  46  16-0028224   11/04/2019   \n",
            "\n",
            "                                      Type of Hearing  \\\n",
            "0                      IH Scheduled, IJ not specified   \n",
            "1                                  Individual Hearing   \n",
            "2                                  Individual Hearing   \n",
            "3                                  Individual Hearing   \n",
            "4                                  Individual Hearing   \n",
            "5                                  Individual Hearing   \n",
            "6                                  Individual Hearing   \n",
            "7                                  Individual Hearing   \n",
            "8                                  Individual Hearing   \n",
            "9                                  Individual Hearing   \n",
            "10                                 Individual Hearing   \n",
            "11                                 Individual Hearing   \n",
            "12            Individual Hearing (06/04), IJ Williams   \n",
            "13  Individual Hearing - 1pm - IJ Choi (Reschedule...   \n",
            "14                Individual Hearing 9/25/2019 @ 1 pm   \n",
            "15  Individual Hearing - CANCELED Client COVID tes...   \n",
            "16                       Individual Hearing - IJ Bain   \n",
            "17                      Individual Hearing, IJ Bryant   \n",
            "18                      Individual Hearing, IJ Bryant   \n",
            "19                      Individual Hearing, IJ Burman   \n",
            "20                    Individual Hearing, IJ Crosland   \n",
            "21  Individual Hearing, IJ Crosland - Change of Ve...   \n",
            "22                     Individual Hearing, IJ Dornell   \n",
            "23                        Individual Hearing, IJ Hong   \n",
            "24                      Individual Hearing, IJ Mahasa   \n",
            "25              Individual Hearing, IJ Nelson Padilla   \n",
            "26               Individual Hearing, IJ not specified   \n",
            "27               Individual Hearing, IJ not specified   \n",
            "28                    Individual Hearing (IJ Perlman)   \n",
            "29                      Individual Hearing, IJ Slavin   \n",
            "30                    Individual Hearing, IJ Williams   \n",
            "31          Individual Hearing - POSTPONED - COVID-19   \n",
            "32          Individual Hearing - POSTPONED (COVID-19)   \n",
            "33                   Individual Hearing (Rescheduled)   \n",
            "34      Individual Hearing - rescheduled (Judge Hong)   \n",
            "35             Individual Hearing - Visiting Judge #3   \n",
            "36                                Individual, IJ Hong   \n",
            "37               Immigration Court Individual Hearing   \n",
            "38            (POSTPONED COVID-19) Individual Hearing   \n",
            "39  (POSTPONED COVID-19) Individual Hearing, IJ Br...   \n",
            "40  (POSTPONED-COVID-19) Individual Hearing, IJ Ko...   \n",
            "41                       POSTPONED Individual Hearing   \n",
            "42       RESCHEDULED - Individual Hearing, IJ Koelsch   \n",
            "43        RESCHEDULED TO 2021 - IH - IJ Bain (2nd IH)   \n",
            "44      RESET to 2022 - IH - rescheduled (Judge Snow)   \n",
            "45                                 Individual Hearing   \n",
            "\n",
            "               Hearing Location Decision Date              Judge's Name  \\\n",
            "0   Arlington Immigration Court           NaN            Thomas G. Snow   \n",
            "1   Baltimore Immigration Court           NaN                       NaN   \n",
            "2   Arlington Immigration Court           NaN         Thomas M. O'Leary   \n",
            "3   Arlington Immigration Court           NaN                       NaN   \n",
            "4   Arlington Immigration Court    01/13/2020             Elise  Manuel   \n",
            "5   Arlington Immigration Court           NaN            Jungyoun  Hong   \n",
            "6   Arlington Immigration Court    02/03/2020           Emmett D. Soper   \n",
            "7   Arlington Immigration Court    06/06/2019             Quynh Vu Bain   \n",
            "8   Arlington Immigration Court           NaN                       NaN   \n",
            "9   Baltimore Immigration Court    06/04/2019          Denise N. Slavin   \n",
            "10  Arlington Immigration Court    06/18/2019            Thomas G. Snow   \n",
            "11  Arlington Immigration Court    12/03/2018           Paul W. Schmidt   \n",
            "12  Baltimore Immigration Court    06/04/2019          Denise N. Slavin   \n",
            "13  Arlington Immigration Court    02/13/2020             Quynh Vu Bain   \n",
            "14  Baltimore Immigration Court    01/20/2020       Phillip T. Williams   \n",
            "15  Baltimore Immigration Court           NaN                       NaN   \n",
            "16  Arlington Immigration Court           NaN             Quynh Vu Bain   \n",
            "17  Arlington Immigration Court           NaN                       NaN   \n",
            "18  Arlington Immigration Court           NaN                       NaN   \n",
            "19  Arlington Immigration Court    01/19/2020          Lawrence  Burman   \n",
            "20  Baltimore Immigration Court           NaN                       NaN   \n",
            "21  Baltimore Immigration Court           NaN         David W. Crosland   \n",
            "22  Baltimore Immigration Court           NaN                       NaN   \n",
            "23  Arlington Immigration Court           NaN                       NaN   \n",
            "24  Baltimore Immigration Court    10/31/2019          Denise N. Slavin   \n",
            "25  Baltimore Immigration Court           NaN                       NaN   \n",
            "26  Baltimore Immigration Court           NaN  Lisa  Dornell (Williams)   \n",
            "27  Baltimore Immigration Court    03/08/2019          Lawrence  Burman   \n",
            "28  Arlington Immigration Court           NaN                       NaN   \n",
            "29  Baltimore Immigration Court    09/10/2019          Denise N. Slavin   \n",
            "30  Baltimore Immigration Court           NaN          John Milo Bryant   \n",
            "31  Baltimore Immigration Court           NaN         David W. Crosland   \n",
            "32  Arlington Immigration Court           NaN            Thomas G. Snow   \n",
            "33  Arlington Immigration Court           NaN         Thomas M. O'Leary   \n",
            "34  Arlington Immigration Court           NaN                       NaN   \n",
            "35  Arlington Immigration Court    03/28/2019            Thomas G. Snow   \n",
            "36  Arlington Immigration Court           NaN                       NaN   \n",
            "37  Arlington Immigration Court    12/03/2018           Paul W. Schmidt   \n",
            "38  Baltimore Immigration Court           NaN                       NaN   \n",
            "39  Arlington Immigration Court           NaN          John Milo Bryant   \n",
            "40  Baltimore Immigration Court           NaN                       NaN   \n",
            "41  Arlington Immigration Court           NaN                       NaN   \n",
            "42  Baltimore Immigration Court           NaN             Quynh Vu Bain   \n",
            "43  Arlington Immigration Court           NaN             Quynh Vu Bain   \n",
            "44  Arlington Immigration Court           NaN            Thomas G. Snow   \n",
            "45  Baltimore Immigration Court    11/04/2019         David W. Crosland   \n",
            "\n",
            "     Outcome                                Protected Ground  \\\n",
            "0    Granted                                    Social Group   \n",
            "1    Pending                                    Social Group   \n",
            "2    Pending                               Political Opinion   \n",
            "3        NaN                       Nationality, Social Group   \n",
            "4    Granted    Nationality, Political Opinion, Social Group   \n",
            "5    Pending                                    Social Group   \n",
            "6    Granted                               Political Opinion   \n",
            "7    Granted                                    Social Group   \n",
            "8        NaN  Nationality, Political Opinion, Race, Religion   \n",
            "9    Granted                                        Religion   \n",
            "10   Granted                                    Social Group   \n",
            "11   Granted                                    Social Group   \n",
            "12   Granted                                        Religion   \n",
            "13   Granted                                    Social Group   \n",
            "14  Appealed                                    Social Group   \n",
            "15   Pending                                    Social Group   \n",
            "16   Pending                       Nationality, Social Group   \n",
            "17       NaN                                    Social Group   \n",
            "18       NaN                       Nationality, Social Group   \n",
            "19   Granted                                        Religion   \n",
            "20   Pending                                    Social Group   \n",
            "21   Pending                                    Social Group   \n",
            "22       NaN                          Religion, Social Group   \n",
            "23   Pending                                    Social Group   \n",
            "24   Granted                       Nationality, Social Group   \n",
            "25   Pending                                    Social Group   \n",
            "26   Pending                                    Social Group   \n",
            "27   Granted    Nationality, Political Opinion, Social Group   \n",
            "28       NaN  Nationality, Political Opinion, Race, Religion   \n",
            "29   Granted                                    Social Group   \n",
            "30   Pending                                    Social Group   \n",
            "31   Pending                  Nationality, Political Opinion   \n",
            "32   Pending                       Nationality, Social Group   \n",
            "33   Pending                               Political Opinion   \n",
            "34       NaN                               Political Opinion   \n",
            "35   Granted                                    Social Group   \n",
            "36       NaN    Nationality, Political Opinion, Social Group   \n",
            "37   Granted                                    Social Group   \n",
            "38   Pending                                    Social Group   \n",
            "39   Pending                                            None   \n",
            "40   Pending                       Nationality, Social Group   \n",
            "41   Pending                                    Social Group   \n",
            "42   Pending                                    Social Group   \n",
            "43   Pending                       Nationality, Social Group   \n",
            "44   Pending                               Political Opinion   \n",
            "45   Granted    Nationality, Political Opinion, Social Group   \n",
            "\n",
            "                        If Social Group, Type  \\\n",
            "0                           Domestic Violence   \n",
            "1                      Family or Kinship Ties   \n",
            "2                                         NaN   \n",
            "3                                         NaN   \n",
            "4                                         NaN   \n",
            "5                                         NaN   \n",
            "6                                         NaN   \n",
            "7                           Domestic Violence   \n",
            "8                                         NaN   \n",
            "9                                         NaN   \n",
            "10                                        NaN   \n",
            "11  Domestic Violence, Family or Kinship Ties   \n",
            "12                                        NaN   \n",
            "13                          Domestic Violence   \n",
            "14                                      Other   \n",
            "15                         Sexual Orientation   \n",
            "16  Domestic Violence, Family or Kinship Ties   \n",
            "17                                        NaN   \n",
            "18                                        NaN   \n",
            "19                                        NaN   \n",
            "20                                        NaN   \n",
            "21                                        NaN   \n",
            "22                                        NaN   \n",
            "23                                        NaN   \n",
            "24  Domestic Violence, Family or Kinship Ties   \n",
            "25                          Domestic Violence   \n",
            "26                                        NaN   \n",
            "27                                        NaN   \n",
            "28                                        NaN   \n",
            "29                          Domestic Violence   \n",
            "30                                        NaN   \n",
            "31                                        NaN   \n",
            "32                                        NaN   \n",
            "33                                        NaN   \n",
            "34                                        NaN   \n",
            "35                                        NaN   \n",
            "36                                        NaN   \n",
            "37                                        NaN   \n",
            "38                          Domestic Violence   \n",
            "39                                        NaN   \n",
            "40  Gender, Sexual Orientation, Transgendered   \n",
            "41                                        NaN   \n",
            "42                          Domestic Violence   \n",
            "43  Domestic Violence, Family or Kinship Ties   \n",
            "44                                        NaN   \n",
            "45                                        NaN   \n",
            "\n",
            "                                           Country  Latitude  Longitude   Iso  \n",
            "0                                         Honduras    15.200    -86.242   HND  \n",
            "1                                         Honduras    15.200    -86.242   HND  \n",
            "2                                          Eritrea    15.179     39.782   ERI  \n",
            "3                                      El Salvador    13.794    -88.897   SLV  \n",
            "4                                      El Salvador    13.794    -88.897   SLV  \n",
            "5                                      El Salvador    13.794    -88.897   SLV  \n",
            "6   Congo, Democratic Republic of (Congo-Kinshasa)     4.038     21.759   COD  \n",
            "7                                      El Salvador    13.794    -88.897   SLV  \n",
            "8                                            China    35.862    104.195   CHN  \n",
            "9                                          Eritrea    15.179     39.782   ERI  \n",
            "10                                     El Salvador    13.794    -88.897   SLV  \n",
            "11                                        Honduras    15.200    -86.242   HND  \n",
            "12                                         Eritrea    15.179     39.782   ERI  \n",
            "13                                        Honduras    15.200    -86.242   HND  \n",
            "14                                        Honduras    15.200    -86.242   HND  \n",
            "15                                     El Salvador    13.794    -88.897   SLV  \n",
            "16                                        Honduras    15.200    -86.242   HND  \n",
            "17                                     El Salvador    13.794    -88.897   SLV  \n",
            "18                                     El Salvador    13.794    -88.897   SLV  \n",
            "19                                           Egypt    26.821     30.803   EGY  \n",
            "20                                     El Salvador    13.794    -88.897   SLV  \n",
            "21                                     El Salvador    13.794    -88.897   SLV  \n",
            "22                                     El Salvador    13.794    -88.897   SLV  \n",
            "23                                     El Salvador    13.794    -88.897   SLV  \n",
            "24                                     El Salvador    13.794    -88.897   SLV  \n",
            "25                                       Nicaragua    12.806    -85.207   NIC  \n",
            "26                                        Honduras    15.200    -86.242   HND  \n",
            "27                                     El Salvador    13.794    -88.897   SLV  \n",
            "28                                           China    35.862    104.195   CHN  \n",
            "29                                       Guatemala    15.784    -90.231   GTM  \n",
            "30                                        Ethiopia     9.145     40.490   ETH  \n",
            "31                                        Cameroon     7.370     12.355   CMR  \n",
            "32                                     El Salvador    13.794    -88.897   SLV  \n",
            "33                                         Eritrea    15.179     39.782   ERI  \n",
            "34                                        Ethiopia     9.145     40.490  ETH   \n",
            "35                                        Honduras    15.200    -86.242   HND  \n",
            "36                                         Belarus    53.710     27.953   BLR  \n",
            "37                                        Honduras    15.200    -86.242   HND  \n",
            "38                                        Honduras    15.200    -86.242   HND  \n",
            "39                                        Honduras    15.200    -86.242   HND  \n",
            "40                                     El Salvador    13.794    -88.897   SLV  \n",
            "41                                        Honduras    15.200    -86.242   HND  \n",
            "42                                     El Salvador    13.794    -88.897   SLV  \n",
            "43                                        Honduras    15.200    -86.242   HND  \n",
            "44                                        Cameroon     7.370     12.355   CMR  \n",
            "45                                        Honduras    15.200    -86.242   HND  \n",
            "Index(['Unnamed: 0', '0', 'Case ID', 'Hearing Date', 'Type of Hearing',\n",
            "       'Hearing Location', 'Decision Date', 'Judge's Name', 'Outcome',\n",
            "       'Protected Ground', 'If Social Group, Type', 'Country', 'Latitude',\n",
            "       'Longitude', 'Iso'],\n",
            "      dtype='object')\n"
          ]
        }
      ],
      "source": [
        "\n",
        "#using the dummy data that is already in the visualization folder\n",
        "data = pd.read_csv(\"https://raw.githubusercontent.com/Lambda-School-Labs/human-rights-first-asylum-ds-a/main/visualizations/test_data_v4.csv\")\n",
        "\n",
        "print(data)\n",
        "print(data.columns)"
      ]
    },
    {
      "cell_type": "code",
      "execution_count": 3,
      "metadata": {
        "colab": {
          "base_uri": "https://localhost:8080/"
        },
        "id": "Rs7OZzjS2pIe",
        "outputId": "d74c8b05-7c49-4d43-af1b-08a3997b9c0d"
      },
      "outputs": [
        {
          "name": "stdout",
          "output_type": "stream",
          "text": [
            "                       Judge   Outcome  \\\n",
            "0             Thomas G. Snow   Granted   \n",
            "1                        NaN   Pending   \n",
            "2          Thomas M. O'Leary   Pending   \n",
            "3                        NaN       NaN   \n",
            "4              Elise  Manuel   Granted   \n",
            "5             Jungyoun  Hong   Pending   \n",
            "6            Emmett D. Soper   Granted   \n",
            "7              Quynh Vu Bain   Granted   \n",
            "8                        NaN       NaN   \n",
            "9           Denise N. Slavin   Granted   \n",
            "10            Thomas G. Snow   Granted   \n",
            "11           Paul W. Schmidt   Granted   \n",
            "12          Denise N. Slavin   Granted   \n",
            "13             Quynh Vu Bain   Granted   \n",
            "14       Phillip T. Williams  Appealed   \n",
            "15                       NaN   Pending   \n",
            "16             Quynh Vu Bain   Pending   \n",
            "17                       NaN       NaN   \n",
            "18                       NaN       NaN   \n",
            "19          Lawrence  Burman   Granted   \n",
            "20                       NaN   Pending   \n",
            "21         David W. Crosland   Pending   \n",
            "22                       NaN       NaN   \n",
            "23                       NaN   Pending   \n",
            "24          Denise N. Slavin   Granted   \n",
            "25                       NaN   Pending   \n",
            "26  Lisa  Dornell (Williams)   Pending   \n",
            "27          Lawrence  Burman   Granted   \n",
            "28                       NaN       NaN   \n",
            "29          Denise N. Slavin   Granted   \n",
            "30          John Milo Bryant   Pending   \n",
            "31         David W. Crosland   Pending   \n",
            "32            Thomas G. Snow   Pending   \n",
            "33         Thomas M. O'Leary   Pending   \n",
            "34                       NaN       NaN   \n",
            "35            Thomas G. Snow   Granted   \n",
            "36                       NaN       NaN   \n",
            "37           Paul W. Schmidt   Granted   \n",
            "38                       NaN   Pending   \n",
            "39          John Milo Bryant   Pending   \n",
            "40                       NaN   Pending   \n",
            "41                       NaN   Pending   \n",
            "42             Quynh Vu Bain   Pending   \n",
            "43             Quynh Vu Bain   Pending   \n",
            "44            Thomas G. Snow   Pending   \n",
            "45         David W. Crosland   Granted   \n",
            "\n",
            "                                                PG  \\\n",
            "0                                     Social Group   \n",
            "1                                     Social Group   \n",
            "2                                Political Opinion   \n",
            "3                        Nationality, Social Group   \n",
            "4     Nationality, Political Opinion, Social Group   \n",
            "5                                     Social Group   \n",
            "6                                Political Opinion   \n",
            "7                                     Social Group   \n",
            "8   Nationality, Political Opinion, Race, Religion   \n",
            "9                                         Religion   \n",
            "10                                    Social Group   \n",
            "11                                    Social Group   \n",
            "12                                        Religion   \n",
            "13                                    Social Group   \n",
            "14                                    Social Group   \n",
            "15                                    Social Group   \n",
            "16                       Nationality, Social Group   \n",
            "17                                    Social Group   \n",
            "18                       Nationality, Social Group   \n",
            "19                                        Religion   \n",
            "20                                    Social Group   \n",
            "21                                    Social Group   \n",
            "22                          Religion, Social Group   \n",
            "23                                    Social Group   \n",
            "24                       Nationality, Social Group   \n",
            "25                                    Social Group   \n",
            "26                                    Social Group   \n",
            "27    Nationality, Political Opinion, Social Group   \n",
            "28  Nationality, Political Opinion, Race, Religion   \n",
            "29                                    Social Group   \n",
            "30                                    Social Group   \n",
            "31                  Nationality, Political Opinion   \n",
            "32                       Nationality, Social Group   \n",
            "33                               Political Opinion   \n",
            "34                               Political Opinion   \n",
            "35                                    Social Group   \n",
            "36    Nationality, Political Opinion, Social Group   \n",
            "37                                    Social Group   \n",
            "38                                    Social Group   \n",
            "39                                            None   \n",
            "40                       Nationality, Social Group   \n",
            "41                                    Social Group   \n",
            "42                                    Social Group   \n",
            "43                       Nationality, Social Group   \n",
            "44                               Political Opinion   \n",
            "45    Nationality, Political Opinion, Social Group   \n",
            "\n",
            "                                            Origin  \n",
            "0                                         Honduras  \n",
            "1                                         Honduras  \n",
            "2                                          Eritrea  \n",
            "3                                      El Salvador  \n",
            "4                                      El Salvador  \n",
            "5                                      El Salvador  \n",
            "6   Congo, Democratic Republic of (Congo-Kinshasa)  \n",
            "7                                      El Salvador  \n",
            "8                                            China  \n",
            "9                                          Eritrea  \n",
            "10                                     El Salvador  \n",
            "11                                        Honduras  \n",
            "12                                         Eritrea  \n",
            "13                                        Honduras  \n",
            "14                                        Honduras  \n",
            "15                                     El Salvador  \n",
            "16                                        Honduras  \n",
            "17                                     El Salvador  \n",
            "18                                     El Salvador  \n",
            "19                                           Egypt  \n",
            "20                                     El Salvador  \n",
            "21                                     El Salvador  \n",
            "22                                     El Salvador  \n",
            "23                                     El Salvador  \n",
            "24                                     El Salvador  \n",
            "25                                       Nicaragua  \n",
            "26                                        Honduras  \n",
            "27                                     El Salvador  \n",
            "28                                           China  \n",
            "29                                       Guatemala  \n",
            "30                                        Ethiopia  \n",
            "31                                        Cameroon  \n",
            "32                                     El Salvador  \n",
            "33                                         Eritrea  \n",
            "34                                        Ethiopia  \n",
            "35                                        Honduras  \n",
            "36                                         Belarus  \n",
            "37                                        Honduras  \n",
            "38                                        Honduras  \n",
            "39                                        Honduras  \n",
            "40                                     El Salvador  \n",
            "41                                        Honduras  \n",
            "42                                     El Salvador  \n",
            "43                                        Honduras  \n",
            "44                                        Cameroon  \n",
            "45                                        Honduras  \n"
          ]
        }
      ],
      "source": [
        "df = pd.DataFrame(data, columns = [\"Judge's Name\", \"Outcome\", \"Protected Ground\", \"Country\"])\n",
        "df.columns = ['Judge', 'Outcome', 'PG', 'Origin']\n",
        "print(df)#['Outcome'])"
      ]
    },
    {
      "cell_type": "code",
      "execution_count": 4,
      "metadata": {
        "colab": {
          "base_uri": "https://localhost:8080/"
        },
        "id": "esaGkq1A5dbL",
        "outputId": "b2a7a304-22b3-4680-9c4c-e3d85ee720e6"
      },
      "outputs": [
        {
          "name": "stdout",
          "output_type": "stream",
          "text": [
            "['Granted' 'Pending' nan 'Appealed']\n"
          ]
        }
      ],
      "source": [
        "print(df['Outcome'].unique())"
      ]
    },
    {
      "cell_type": "code",
      "execution_count": 5,
      "metadata": {
        "id": "NpQnTsA62EMB"
      },
      "outputs": [],
      "source": [
        "# df['Outcome'] = df['Outcome'].replace(['Pending'], 0)\n",
        "# df['Outcome'] = df['Outcome'].replace(['NaN'], 0)\n",
        "# df['Outcome'] = df['Outcome'].replace(['Appealed'], 1)\n",
        "# df['Outcome'] = df['Outcome'].replace(['Granted'], 3)\n"
      ]
    },
    {
      "cell_type": "code",
      "execution_count": 6,
      "metadata": {
        "colab": {
          "base_uri": "https://localhost:8080/",
          "height": 1000
        },
        "id": "hclWxN8d7WbK",
        "outputId": "18bc3d77-e311-47d9-b1ba-1a341eab000b"
      },
      "outputs": [
        {
          "data": {
            "text/html": [
              "<div>\n",
              "<style scoped>\n",
              "    .dataframe tbody tr th:only-of-type {\n",
              "        vertical-align: middle;\n",
              "    }\n",
              "\n",
              "    .dataframe tbody tr th {\n",
              "        vertical-align: top;\n",
              "    }\n",
              "\n",
              "    .dataframe thead th {\n",
              "        text-align: right;\n",
              "    }\n",
              "</style>\n",
              "<table border=\"1\" class=\"dataframe\">\n",
              "  <thead>\n",
              "    <tr style=\"text-align: right;\">\n",
              "      <th></th>\n",
              "      <th>Judge</th>\n",
              "      <th>Outcome</th>\n",
              "      <th>PG</th>\n",
              "      <th>Origin</th>\n",
              "    </tr>\n",
              "  </thead>\n",
              "  <tbody>\n",
              "    <tr>\n",
              "      <th>0</th>\n",
              "      <td>Thomas G. Snow</td>\n",
              "      <td>Granted</td>\n",
              "      <td>Social Group</td>\n",
              "      <td>Honduras</td>\n",
              "    </tr>\n",
              "    <tr>\n",
              "      <th>1</th>\n",
              "      <td>NaN</td>\n",
              "      <td>Pending</td>\n",
              "      <td>Social Group</td>\n",
              "      <td>Honduras</td>\n",
              "    </tr>\n",
              "    <tr>\n",
              "      <th>2</th>\n",
              "      <td>Thomas M. O'Leary</td>\n",
              "      <td>Pending</td>\n",
              "      <td>Political Opinion</td>\n",
              "      <td>Eritrea</td>\n",
              "    </tr>\n",
              "    <tr>\n",
              "      <th>3</th>\n",
              "      <td>NaN</td>\n",
              "      <td>NaN</td>\n",
              "      <td>Nationality, Social Group</td>\n",
              "      <td>El Salvador</td>\n",
              "    </tr>\n",
              "    <tr>\n",
              "      <th>4</th>\n",
              "      <td>Elise  Manuel</td>\n",
              "      <td>Granted</td>\n",
              "      <td>Nationality, Political Opinion, Social Group</td>\n",
              "      <td>El Salvador</td>\n",
              "    </tr>\n",
              "    <tr>\n",
              "      <th>5</th>\n",
              "      <td>Jungyoun  Hong</td>\n",
              "      <td>Pending</td>\n",
              "      <td>Social Group</td>\n",
              "      <td>El Salvador</td>\n",
              "    </tr>\n",
              "    <tr>\n",
              "      <th>6</th>\n",
              "      <td>Emmett D. Soper</td>\n",
              "      <td>Granted</td>\n",
              "      <td>Political Opinion</td>\n",
              "      <td>Congo, Democratic Republic of (Congo-Kinshasa)</td>\n",
              "    </tr>\n",
              "    <tr>\n",
              "      <th>7</th>\n",
              "      <td>Quynh Vu Bain</td>\n",
              "      <td>Granted</td>\n",
              "      <td>Social Group</td>\n",
              "      <td>El Salvador</td>\n",
              "    </tr>\n",
              "    <tr>\n",
              "      <th>8</th>\n",
              "      <td>NaN</td>\n",
              "      <td>NaN</td>\n",
              "      <td>Nationality, Political Opinion, Race, Religion</td>\n",
              "      <td>China</td>\n",
              "    </tr>\n",
              "    <tr>\n",
              "      <th>9</th>\n",
              "      <td>Denise N. Slavin</td>\n",
              "      <td>Granted</td>\n",
              "      <td>Religion</td>\n",
              "      <td>Eritrea</td>\n",
              "    </tr>\n",
              "    <tr>\n",
              "      <th>10</th>\n",
              "      <td>Thomas G. Snow</td>\n",
              "      <td>Granted</td>\n",
              "      <td>Social Group</td>\n",
              "      <td>El Salvador</td>\n",
              "    </tr>\n",
              "    <tr>\n",
              "      <th>11</th>\n",
              "      <td>Paul W. Schmidt</td>\n",
              "      <td>Granted</td>\n",
              "      <td>Social Group</td>\n",
              "      <td>Honduras</td>\n",
              "    </tr>\n",
              "    <tr>\n",
              "      <th>12</th>\n",
              "      <td>Denise N. Slavin</td>\n",
              "      <td>Granted</td>\n",
              "      <td>Religion</td>\n",
              "      <td>Eritrea</td>\n",
              "    </tr>\n",
              "    <tr>\n",
              "      <th>13</th>\n",
              "      <td>Quynh Vu Bain</td>\n",
              "      <td>Granted</td>\n",
              "      <td>Social Group</td>\n",
              "      <td>Honduras</td>\n",
              "    </tr>\n",
              "    <tr>\n",
              "      <th>14</th>\n",
              "      <td>Phillip T. Williams</td>\n",
              "      <td>Appealed</td>\n",
              "      <td>Social Group</td>\n",
              "      <td>Honduras</td>\n",
              "    </tr>\n",
              "    <tr>\n",
              "      <th>15</th>\n",
              "      <td>NaN</td>\n",
              "      <td>Pending</td>\n",
              "      <td>Social Group</td>\n",
              "      <td>El Salvador</td>\n",
              "    </tr>\n",
              "    <tr>\n",
              "      <th>16</th>\n",
              "      <td>Quynh Vu Bain</td>\n",
              "      <td>Pending</td>\n",
              "      <td>Nationality, Social Group</td>\n",
              "      <td>Honduras</td>\n",
              "    </tr>\n",
              "    <tr>\n",
              "      <th>17</th>\n",
              "      <td>NaN</td>\n",
              "      <td>NaN</td>\n",
              "      <td>Social Group</td>\n",
              "      <td>El Salvador</td>\n",
              "    </tr>\n",
              "    <tr>\n",
              "      <th>18</th>\n",
              "      <td>NaN</td>\n",
              "      <td>NaN</td>\n",
              "      <td>Nationality, Social Group</td>\n",
              "      <td>El Salvador</td>\n",
              "    </tr>\n",
              "    <tr>\n",
              "      <th>19</th>\n",
              "      <td>Lawrence  Burman</td>\n",
              "      <td>Granted</td>\n",
              "      <td>Religion</td>\n",
              "      <td>Egypt</td>\n",
              "    </tr>\n",
              "    <tr>\n",
              "      <th>20</th>\n",
              "      <td>NaN</td>\n",
              "      <td>Pending</td>\n",
              "      <td>Social Group</td>\n",
              "      <td>El Salvador</td>\n",
              "    </tr>\n",
              "    <tr>\n",
              "      <th>21</th>\n",
              "      <td>David W. Crosland</td>\n",
              "      <td>Pending</td>\n",
              "      <td>Social Group</td>\n",
              "      <td>El Salvador</td>\n",
              "    </tr>\n",
              "    <tr>\n",
              "      <th>22</th>\n",
              "      <td>NaN</td>\n",
              "      <td>NaN</td>\n",
              "      <td>Religion, Social Group</td>\n",
              "      <td>El Salvador</td>\n",
              "    </tr>\n",
              "    <tr>\n",
              "      <th>23</th>\n",
              "      <td>NaN</td>\n",
              "      <td>Pending</td>\n",
              "      <td>Social Group</td>\n",
              "      <td>El Salvador</td>\n",
              "    </tr>\n",
              "    <tr>\n",
              "      <th>24</th>\n",
              "      <td>Denise N. Slavin</td>\n",
              "      <td>Granted</td>\n",
              "      <td>Nationality, Social Group</td>\n",
              "      <td>El Salvador</td>\n",
              "    </tr>\n",
              "    <tr>\n",
              "      <th>25</th>\n",
              "      <td>NaN</td>\n",
              "      <td>Pending</td>\n",
              "      <td>Social Group</td>\n",
              "      <td>Nicaragua</td>\n",
              "    </tr>\n",
              "    <tr>\n",
              "      <th>26</th>\n",
              "      <td>Lisa  Dornell (Williams)</td>\n",
              "      <td>Pending</td>\n",
              "      <td>Social Group</td>\n",
              "      <td>Honduras</td>\n",
              "    </tr>\n",
              "    <tr>\n",
              "      <th>27</th>\n",
              "      <td>Lawrence  Burman</td>\n",
              "      <td>Granted</td>\n",
              "      <td>Nationality, Political Opinion, Social Group</td>\n",
              "      <td>El Salvador</td>\n",
              "    </tr>\n",
              "    <tr>\n",
              "      <th>28</th>\n",
              "      <td>NaN</td>\n",
              "      <td>NaN</td>\n",
              "      <td>Nationality, Political Opinion, Race, Religion</td>\n",
              "      <td>China</td>\n",
              "    </tr>\n",
              "    <tr>\n",
              "      <th>29</th>\n",
              "      <td>Denise N. Slavin</td>\n",
              "      <td>Granted</td>\n",
              "      <td>Social Group</td>\n",
              "      <td>Guatemala</td>\n",
              "    </tr>\n",
              "    <tr>\n",
              "      <th>30</th>\n",
              "      <td>John Milo Bryant</td>\n",
              "      <td>Pending</td>\n",
              "      <td>Social Group</td>\n",
              "      <td>Ethiopia</td>\n",
              "    </tr>\n",
              "    <tr>\n",
              "      <th>31</th>\n",
              "      <td>David W. Crosland</td>\n",
              "      <td>Pending</td>\n",
              "      <td>Nationality, Political Opinion</td>\n",
              "      <td>Cameroon</td>\n",
              "    </tr>\n",
              "    <tr>\n",
              "      <th>32</th>\n",
              "      <td>Thomas G. Snow</td>\n",
              "      <td>Pending</td>\n",
              "      <td>Nationality, Social Group</td>\n",
              "      <td>El Salvador</td>\n",
              "    </tr>\n",
              "    <tr>\n",
              "      <th>33</th>\n",
              "      <td>Thomas M. O'Leary</td>\n",
              "      <td>Pending</td>\n",
              "      <td>Political Opinion</td>\n",
              "      <td>Eritrea</td>\n",
              "    </tr>\n",
              "    <tr>\n",
              "      <th>34</th>\n",
              "      <td>NaN</td>\n",
              "      <td>NaN</td>\n",
              "      <td>Political Opinion</td>\n",
              "      <td>Ethiopia</td>\n",
              "    </tr>\n",
              "    <tr>\n",
              "      <th>35</th>\n",
              "      <td>Thomas G. Snow</td>\n",
              "      <td>Granted</td>\n",
              "      <td>Social Group</td>\n",
              "      <td>Honduras</td>\n",
              "    </tr>\n",
              "    <tr>\n",
              "      <th>36</th>\n",
              "      <td>NaN</td>\n",
              "      <td>NaN</td>\n",
              "      <td>Nationality, Political Opinion, Social Group</td>\n",
              "      <td>Belarus</td>\n",
              "    </tr>\n",
              "    <tr>\n",
              "      <th>37</th>\n",
              "      <td>Paul W. Schmidt</td>\n",
              "      <td>Granted</td>\n",
              "      <td>Social Group</td>\n",
              "      <td>Honduras</td>\n",
              "    </tr>\n",
              "    <tr>\n",
              "      <th>38</th>\n",
              "      <td>NaN</td>\n",
              "      <td>Pending</td>\n",
              "      <td>Social Group</td>\n",
              "      <td>Honduras</td>\n",
              "    </tr>\n",
              "    <tr>\n",
              "      <th>39</th>\n",
              "      <td>John Milo Bryant</td>\n",
              "      <td>Pending</td>\n",
              "      <td>None</td>\n",
              "      <td>Honduras</td>\n",
              "    </tr>\n",
              "    <tr>\n",
              "      <th>40</th>\n",
              "      <td>NaN</td>\n",
              "      <td>Pending</td>\n",
              "      <td>Nationality, Social Group</td>\n",
              "      <td>El Salvador</td>\n",
              "    </tr>\n",
              "    <tr>\n",
              "      <th>41</th>\n",
              "      <td>NaN</td>\n",
              "      <td>Pending</td>\n",
              "      <td>Social Group</td>\n",
              "      <td>Honduras</td>\n",
              "    </tr>\n",
              "    <tr>\n",
              "      <th>42</th>\n",
              "      <td>Quynh Vu Bain</td>\n",
              "      <td>Pending</td>\n",
              "      <td>Social Group</td>\n",
              "      <td>El Salvador</td>\n",
              "    </tr>\n",
              "    <tr>\n",
              "      <th>43</th>\n",
              "      <td>Quynh Vu Bain</td>\n",
              "      <td>Pending</td>\n",
              "      <td>Nationality, Social Group</td>\n",
              "      <td>Honduras</td>\n",
              "    </tr>\n",
              "    <tr>\n",
              "      <th>44</th>\n",
              "      <td>Thomas G. Snow</td>\n",
              "      <td>Pending</td>\n",
              "      <td>Political Opinion</td>\n",
              "      <td>Cameroon</td>\n",
              "    </tr>\n",
              "    <tr>\n",
              "      <th>45</th>\n",
              "      <td>David W. Crosland</td>\n",
              "      <td>Granted</td>\n",
              "      <td>Nationality, Political Opinion, Social Group</td>\n",
              "      <td>Honduras</td>\n",
              "    </tr>\n",
              "  </tbody>\n",
              "</table>\n",
              "</div>"
            ],
            "text/plain": [
              "                       Judge   Outcome  \\\n",
              "0             Thomas G. Snow   Granted   \n",
              "1                        NaN   Pending   \n",
              "2          Thomas M. O'Leary   Pending   \n",
              "3                        NaN       NaN   \n",
              "4              Elise  Manuel   Granted   \n",
              "5             Jungyoun  Hong   Pending   \n",
              "6            Emmett D. Soper   Granted   \n",
              "7              Quynh Vu Bain   Granted   \n",
              "8                        NaN       NaN   \n",
              "9           Denise N. Slavin   Granted   \n",
              "10            Thomas G. Snow   Granted   \n",
              "11           Paul W. Schmidt   Granted   \n",
              "12          Denise N. Slavin   Granted   \n",
              "13             Quynh Vu Bain   Granted   \n",
              "14       Phillip T. Williams  Appealed   \n",
              "15                       NaN   Pending   \n",
              "16             Quynh Vu Bain   Pending   \n",
              "17                       NaN       NaN   \n",
              "18                       NaN       NaN   \n",
              "19          Lawrence  Burman   Granted   \n",
              "20                       NaN   Pending   \n",
              "21         David W. Crosland   Pending   \n",
              "22                       NaN       NaN   \n",
              "23                       NaN   Pending   \n",
              "24          Denise N. Slavin   Granted   \n",
              "25                       NaN   Pending   \n",
              "26  Lisa  Dornell (Williams)   Pending   \n",
              "27          Lawrence  Burman   Granted   \n",
              "28                       NaN       NaN   \n",
              "29          Denise N. Slavin   Granted   \n",
              "30          John Milo Bryant   Pending   \n",
              "31         David W. Crosland   Pending   \n",
              "32            Thomas G. Snow   Pending   \n",
              "33         Thomas M. O'Leary   Pending   \n",
              "34                       NaN       NaN   \n",
              "35            Thomas G. Snow   Granted   \n",
              "36                       NaN       NaN   \n",
              "37           Paul W. Schmidt   Granted   \n",
              "38                       NaN   Pending   \n",
              "39          John Milo Bryant   Pending   \n",
              "40                       NaN   Pending   \n",
              "41                       NaN   Pending   \n",
              "42             Quynh Vu Bain   Pending   \n",
              "43             Quynh Vu Bain   Pending   \n",
              "44            Thomas G. Snow   Pending   \n",
              "45         David W. Crosland   Granted   \n",
              "\n",
              "                                                PG  \\\n",
              "0                                     Social Group   \n",
              "1                                     Social Group   \n",
              "2                                Political Opinion   \n",
              "3                        Nationality, Social Group   \n",
              "4     Nationality, Political Opinion, Social Group   \n",
              "5                                     Social Group   \n",
              "6                                Political Opinion   \n",
              "7                                     Social Group   \n",
              "8   Nationality, Political Opinion, Race, Religion   \n",
              "9                                         Religion   \n",
              "10                                    Social Group   \n",
              "11                                    Social Group   \n",
              "12                                        Religion   \n",
              "13                                    Social Group   \n",
              "14                                    Social Group   \n",
              "15                                    Social Group   \n",
              "16                       Nationality, Social Group   \n",
              "17                                    Social Group   \n",
              "18                       Nationality, Social Group   \n",
              "19                                        Religion   \n",
              "20                                    Social Group   \n",
              "21                                    Social Group   \n",
              "22                          Religion, Social Group   \n",
              "23                                    Social Group   \n",
              "24                       Nationality, Social Group   \n",
              "25                                    Social Group   \n",
              "26                                    Social Group   \n",
              "27    Nationality, Political Opinion, Social Group   \n",
              "28  Nationality, Political Opinion, Race, Religion   \n",
              "29                                    Social Group   \n",
              "30                                    Social Group   \n",
              "31                  Nationality, Political Opinion   \n",
              "32                       Nationality, Social Group   \n",
              "33                               Political Opinion   \n",
              "34                               Political Opinion   \n",
              "35                                    Social Group   \n",
              "36    Nationality, Political Opinion, Social Group   \n",
              "37                                    Social Group   \n",
              "38                                    Social Group   \n",
              "39                                            None   \n",
              "40                       Nationality, Social Group   \n",
              "41                                    Social Group   \n",
              "42                                    Social Group   \n",
              "43                       Nationality, Social Group   \n",
              "44                               Political Opinion   \n",
              "45    Nationality, Political Opinion, Social Group   \n",
              "\n",
              "                                            Origin  \n",
              "0                                         Honduras  \n",
              "1                                         Honduras  \n",
              "2                                          Eritrea  \n",
              "3                                      El Salvador  \n",
              "4                                      El Salvador  \n",
              "5                                      El Salvador  \n",
              "6   Congo, Democratic Republic of (Congo-Kinshasa)  \n",
              "7                                      El Salvador  \n",
              "8                                            China  \n",
              "9                                          Eritrea  \n",
              "10                                     El Salvador  \n",
              "11                                        Honduras  \n",
              "12                                         Eritrea  \n",
              "13                                        Honduras  \n",
              "14                                        Honduras  \n",
              "15                                     El Salvador  \n",
              "16                                        Honduras  \n",
              "17                                     El Salvador  \n",
              "18                                     El Salvador  \n",
              "19                                           Egypt  \n",
              "20                                     El Salvador  \n",
              "21                                     El Salvador  \n",
              "22                                     El Salvador  \n",
              "23                                     El Salvador  \n",
              "24                                     El Salvador  \n",
              "25                                       Nicaragua  \n",
              "26                                        Honduras  \n",
              "27                                     El Salvador  \n",
              "28                                           China  \n",
              "29                                       Guatemala  \n",
              "30                                        Ethiopia  \n",
              "31                                        Cameroon  \n",
              "32                                     El Salvador  \n",
              "33                                         Eritrea  \n",
              "34                                        Ethiopia  \n",
              "35                                        Honduras  \n",
              "36                                         Belarus  \n",
              "37                                        Honduras  \n",
              "38                                        Honduras  \n",
              "39                                        Honduras  \n",
              "40                                     El Salvador  \n",
              "41                                        Honduras  \n",
              "42                                     El Salvador  \n",
              "43                                        Honduras  \n",
              "44                                        Cameroon  \n",
              "45                                        Honduras  "
            ]
          },
          "execution_count": 6,
          "metadata": {},
          "output_type": "execute_result"
        }
      ],
      "source": [
        "df"
      ]
    },
    {
      "cell_type": "code",
      "execution_count": 7,
      "metadata": {
        "colab": {
          "base_uri": "https://localhost:8080/"
        },
        "id": "Xfn2Qeay8A2t",
        "outputId": "50c6dbe1-c3b0-40be-d512-4af74f11c4f9"
      },
      "outputs": [
        {
          "data": {
            "text/plain": [
              "<bound method Series.unique of 0               Thomas G. Snow\n",
              "1                          NaN\n",
              "2            Thomas M. O'Leary\n",
              "3                          NaN\n",
              "4                Elise  Manuel\n",
              "5               Jungyoun  Hong\n",
              "6              Emmett D. Soper\n",
              "7                Quynh Vu Bain\n",
              "8                          NaN\n",
              "9             Denise N. Slavin\n",
              "10              Thomas G. Snow\n",
              "11             Paul W. Schmidt\n",
              "12            Denise N. Slavin\n",
              "13               Quynh Vu Bain\n",
              "14         Phillip T. Williams\n",
              "15                         NaN\n",
              "16               Quynh Vu Bain\n",
              "17                         NaN\n",
              "18                         NaN\n",
              "19            Lawrence  Burman\n",
              "20                         NaN\n",
              "21           David W. Crosland\n",
              "22                         NaN\n",
              "23                         NaN\n",
              "24            Denise N. Slavin\n",
              "25                         NaN\n",
              "26    Lisa  Dornell (Williams)\n",
              "27            Lawrence  Burman\n",
              "28                         NaN\n",
              "29            Denise N. Slavin\n",
              "30            John Milo Bryant\n",
              "31           David W. Crosland\n",
              "32              Thomas G. Snow\n",
              "33           Thomas M. O'Leary\n",
              "34                         NaN\n",
              "35              Thomas G. Snow\n",
              "36                         NaN\n",
              "37             Paul W. Schmidt\n",
              "38                         NaN\n",
              "39            John Milo Bryant\n",
              "40                         NaN\n",
              "41                         NaN\n",
              "42               Quynh Vu Bain\n",
              "43               Quynh Vu Bain\n",
              "44              Thomas G. Snow\n",
              "45           David W. Crosland\n",
              "Name: Judge, dtype: object>"
            ]
          },
          "execution_count": 7,
          "metadata": {},
          "output_type": "execute_result"
        }
      ],
      "source": [
        "df['Judge'].unique"
      ]
    },
    {
      "cell_type": "code",
      "execution_count": 8,
      "metadata": {
        "colab": {
          "base_uri": "https://localhost:8080/",
          "height": 107
        },
        "id": "VrCr9tkY7jpD",
        "outputId": "9fea0bcd-4b42-44ba-a7dd-8e6670f4ac85"
      },
      "outputs": [
        {
          "data": {
            "text/html": [
              "<div>\n",
              "<style scoped>\n",
              "    .dataframe tbody tr th:only-of-type {\n",
              "        vertical-align: middle;\n",
              "    }\n",
              "\n",
              "    .dataframe tbody tr th {\n",
              "        vertical-align: top;\n",
              "    }\n",
              "\n",
              "    .dataframe thead th {\n",
              "        text-align: right;\n",
              "    }\n",
              "</style>\n",
              "<table border=\"1\" class=\"dataframe\">\n",
              "  <thead>\n",
              "    <tr style=\"text-align: right;\">\n",
              "      <th></th>\n",
              "      <th>Judge</th>\n",
              "      <th>Outcome</th>\n",
              "      <th>PG</th>\n",
              "      <th>Origin</th>\n",
              "    </tr>\n",
              "  </thead>\n",
              "  <tbody>\n",
              "    <tr>\n",
              "      <th>11</th>\n",
              "      <td>Paul W. Schmidt</td>\n",
              "      <td>Granted</td>\n",
              "      <td>Social Group</td>\n",
              "      <td>Honduras</td>\n",
              "    </tr>\n",
              "    <tr>\n",
              "      <th>37</th>\n",
              "      <td>Paul W. Schmidt</td>\n",
              "      <td>Granted</td>\n",
              "      <td>Social Group</td>\n",
              "      <td>Honduras</td>\n",
              "    </tr>\n",
              "  </tbody>\n",
              "</table>\n",
              "</div>"
            ],
            "text/plain": [
              "              Judge  Outcome            PG    Origin\n",
              "11  Paul W. Schmidt  Granted  Social Group  Honduras\n",
              "37  Paul W. Schmidt  Granted  Social Group  Honduras"
            ]
          },
          "execution_count": 8,
          "metadata": {},
          "output_type": "execute_result"
        }
      ],
      "source": [
        "df[df['Judge'] == 'Paul W. Schmidt']"
      ]
    },
    {
      "cell_type": "code",
      "execution_count": 9,
      "metadata": {
        "colab": {
          "base_uri": "https://localhost:8080/"
        },
        "id": "mJU0akr2DE-b",
        "outputId": "81b4b886-04cf-4beb-e3f8-f378eaf63195"
      },
      "outputs": [
        {
          "name": "stdout",
          "output_type": "stream",
          "text": [
            "46\n"
          ]
        }
      ],
      "source": [
        "  y_len = len(df['PG'])\n",
        "  print(y_len)"
      ]
    },
    {
      "cell_type": "code",
      "execution_count": 10,
      "metadata": {
        "id": "VvLVW2mb2EOH"
      },
      "outputs": [],
      "source": [
        "def heat_matrix(df, x, y, judge): \n",
        "  # x = protected ground, y = country, (or vice-versa)\n",
        "  # judge divides the cases up so it can be specific for each judge\n",
        "\n",
        "  if_df = df.copy() #in-function data frame\n",
        "  # feel free to change this variable name\n",
        "\n",
        "  if_df['Outcome'] = if_df['Outcome'].fillna(-1)\n",
        "  if_df['Outcome'] = if_df['Outcome'].replace(['Pending'], 0)\n",
        "  if_df['Outcome'] = if_df['Outcome'].replace(['Appealed'], 1)\n",
        "  if_df['Outcome'] = if_df['Outcome'].replace(['Granted'], 2)\n",
        "  \n",
        "  # now we create a dataframe that is specific to each judge so it doesnt get too big\n",
        "  judge_df = if_df[if_df['Judge'] == judge]\n",
        "  x_len = len(judge_df[x])\n",
        "  y_len = len(judge_df[y])\n",
        "\n",
        "  #correlation = judge_df.corr()\n",
        "\n",
        "  viz = px.density_heatmap(judge_df, x, y)\n",
        "\n",
        "  return viz\n"
      ]
    },
    {
      "cell_type": "code",
      "execution_count": 11,
      "metadata": {
        "colab": {
          "base_uri": "https://localhost:8080/",
          "height": 542
        },
        "id": "ICGQmiT38g1c",
        "outputId": "e4bf6201-9186-4ccf-bffb-a03258bcd0ad"
      },
      "outputs": [
        {
          "data": {
            "application/vnd.plotly.v1+json": {
              "config": {
                "plotlyServerURL": "https://plot.ly"
              },
              "data": [
                {
                  "coloraxis": "coloraxis",
                  "hovertemplate": "Origin=%{x}<br>PG=%{y}<br>count=%{z}<extra></extra>",
                  "name": "",
                  "type": "histogram2d",
                  "x": [
                    "Eritrea",
                    "Eritrea",
                    "El Salvador",
                    "Guatemala"
                  ],
                  "xaxis": "x",
                  "xbingroup": "x",
                  "y": [
                    "Religion",
                    "Religion",
                    "Nationality, Social Group",
                    "Social Group"
                  ],
                  "yaxis": "y",
                  "ybingroup": "y"
                }
              ],
              "layout": {
                "coloraxis": {
                  "colorbar": {
                    "title": {
                      "text": "count"
                    }
                  },
                  "colorscale": [
                    [
                      0,
                      "#0d0887"
                    ],
                    [
                      0.1111111111111111,
                      "#46039f"
                    ],
                    [
                      0.2222222222222222,
                      "#7201a8"
                    ],
                    [
                      0.3333333333333333,
                      "#9c179e"
                    ],
                    [
                      0.4444444444444444,
                      "#bd3786"
                    ],
                    [
                      0.5555555555555556,
                      "#d8576b"
                    ],
                    [
                      0.6666666666666666,
                      "#ed7953"
                    ],
                    [
                      0.7777777777777778,
                      "#fb9f3a"
                    ],
                    [
                      0.8888888888888888,
                      "#fdca26"
                    ],
                    [
                      1,
                      "#f0f921"
                    ]
                  ]
                },
                "legend": {
                  "tracegroupgap": 0
                },
                "margin": {
                  "t": 60
                },
                "template": {
                  "data": {
                    "bar": [
                      {
                        "error_x": {
                          "color": "#2a3f5f"
                        },
                        "error_y": {
                          "color": "#2a3f5f"
                        },
                        "marker": {
                          "line": {
                            "color": "#E5ECF6",
                            "width": 0.5
                          },
                          "pattern": {
                            "fillmode": "overlay",
                            "size": 10,
                            "solidity": 0.2
                          }
                        },
                        "type": "bar"
                      }
                    ],
                    "barpolar": [
                      {
                        "marker": {
                          "line": {
                            "color": "#E5ECF6",
                            "width": 0.5
                          },
                          "pattern": {
                            "fillmode": "overlay",
                            "size": 10,
                            "solidity": 0.2
                          }
                        },
                        "type": "barpolar"
                      }
                    ],
                    "carpet": [
                      {
                        "aaxis": {
                          "endlinecolor": "#2a3f5f",
                          "gridcolor": "white",
                          "linecolor": "white",
                          "minorgridcolor": "white",
                          "startlinecolor": "#2a3f5f"
                        },
                        "baxis": {
                          "endlinecolor": "#2a3f5f",
                          "gridcolor": "white",
                          "linecolor": "white",
                          "minorgridcolor": "white",
                          "startlinecolor": "#2a3f5f"
                        },
                        "type": "carpet"
                      }
                    ],
                    "choropleth": [
                      {
                        "colorbar": {
                          "outlinewidth": 0,
                          "ticks": ""
                        },
                        "type": "choropleth"
                      }
                    ],
                    "contour": [
                      {
                        "colorbar": {
                          "outlinewidth": 0,
                          "ticks": ""
                        },
                        "colorscale": [
                          [
                            0,
                            "#0d0887"
                          ],
                          [
                            0.1111111111111111,
                            "#46039f"
                          ],
                          [
                            0.2222222222222222,
                            "#7201a8"
                          ],
                          [
                            0.3333333333333333,
                            "#9c179e"
                          ],
                          [
                            0.4444444444444444,
                            "#bd3786"
                          ],
                          [
                            0.5555555555555556,
                            "#d8576b"
                          ],
                          [
                            0.6666666666666666,
                            "#ed7953"
                          ],
                          [
                            0.7777777777777778,
                            "#fb9f3a"
                          ],
                          [
                            0.8888888888888888,
                            "#fdca26"
                          ],
                          [
                            1,
                            "#f0f921"
                          ]
                        ],
                        "type": "contour"
                      }
                    ],
                    "contourcarpet": [
                      {
                        "colorbar": {
                          "outlinewidth": 0,
                          "ticks": ""
                        },
                        "type": "contourcarpet"
                      }
                    ],
                    "heatmap": [
                      {
                        "colorbar": {
                          "outlinewidth": 0,
                          "ticks": ""
                        },
                        "colorscale": [
                          [
                            0,
                            "#0d0887"
                          ],
                          [
                            0.1111111111111111,
                            "#46039f"
                          ],
                          [
                            0.2222222222222222,
                            "#7201a8"
                          ],
                          [
                            0.3333333333333333,
                            "#9c179e"
                          ],
                          [
                            0.4444444444444444,
                            "#bd3786"
                          ],
                          [
                            0.5555555555555556,
                            "#d8576b"
                          ],
                          [
                            0.6666666666666666,
                            "#ed7953"
                          ],
                          [
                            0.7777777777777778,
                            "#fb9f3a"
                          ],
                          [
                            0.8888888888888888,
                            "#fdca26"
                          ],
                          [
                            1,
                            "#f0f921"
                          ]
                        ],
                        "type": "heatmap"
                      }
                    ],
                    "heatmapgl": [
                      {
                        "colorbar": {
                          "outlinewidth": 0,
                          "ticks": ""
                        },
                        "colorscale": [
                          [
                            0,
                            "#0d0887"
                          ],
                          [
                            0.1111111111111111,
                            "#46039f"
                          ],
                          [
                            0.2222222222222222,
                            "#7201a8"
                          ],
                          [
                            0.3333333333333333,
                            "#9c179e"
                          ],
                          [
                            0.4444444444444444,
                            "#bd3786"
                          ],
                          [
                            0.5555555555555556,
                            "#d8576b"
                          ],
                          [
                            0.6666666666666666,
                            "#ed7953"
                          ],
                          [
                            0.7777777777777778,
                            "#fb9f3a"
                          ],
                          [
                            0.8888888888888888,
                            "#fdca26"
                          ],
                          [
                            1,
                            "#f0f921"
                          ]
                        ],
                        "type": "heatmapgl"
                      }
                    ],
                    "histogram": [
                      {
                        "marker": {
                          "pattern": {
                            "fillmode": "overlay",
                            "size": 10,
                            "solidity": 0.2
                          }
                        },
                        "type": "histogram"
                      }
                    ],
                    "histogram2d": [
                      {
                        "colorbar": {
                          "outlinewidth": 0,
                          "ticks": ""
                        },
                        "colorscale": [
                          [
                            0,
                            "#0d0887"
                          ],
                          [
                            0.1111111111111111,
                            "#46039f"
                          ],
                          [
                            0.2222222222222222,
                            "#7201a8"
                          ],
                          [
                            0.3333333333333333,
                            "#9c179e"
                          ],
                          [
                            0.4444444444444444,
                            "#bd3786"
                          ],
                          [
                            0.5555555555555556,
                            "#d8576b"
                          ],
                          [
                            0.6666666666666666,
                            "#ed7953"
                          ],
                          [
                            0.7777777777777778,
                            "#fb9f3a"
                          ],
                          [
                            0.8888888888888888,
                            "#fdca26"
                          ],
                          [
                            1,
                            "#f0f921"
                          ]
                        ],
                        "type": "histogram2d"
                      }
                    ],
                    "histogram2dcontour": [
                      {
                        "colorbar": {
                          "outlinewidth": 0,
                          "ticks": ""
                        },
                        "colorscale": [
                          [
                            0,
                            "#0d0887"
                          ],
                          [
                            0.1111111111111111,
                            "#46039f"
                          ],
                          [
                            0.2222222222222222,
                            "#7201a8"
                          ],
                          [
                            0.3333333333333333,
                            "#9c179e"
                          ],
                          [
                            0.4444444444444444,
                            "#bd3786"
                          ],
                          [
                            0.5555555555555556,
                            "#d8576b"
                          ],
                          [
                            0.6666666666666666,
                            "#ed7953"
                          ],
                          [
                            0.7777777777777778,
                            "#fb9f3a"
                          ],
                          [
                            0.8888888888888888,
                            "#fdca26"
                          ],
                          [
                            1,
                            "#f0f921"
                          ]
                        ],
                        "type": "histogram2dcontour"
                      }
                    ],
                    "mesh3d": [
                      {
                        "colorbar": {
                          "outlinewidth": 0,
                          "ticks": ""
                        },
                        "type": "mesh3d"
                      }
                    ],
                    "parcoords": [
                      {
                        "line": {
                          "colorbar": {
                            "outlinewidth": 0,
                            "ticks": ""
                          }
                        },
                        "type": "parcoords"
                      }
                    ],
                    "pie": [
                      {
                        "automargin": true,
                        "type": "pie"
                      }
                    ],
                    "scatter": [
                      {
                        "marker": {
                          "colorbar": {
                            "outlinewidth": 0,
                            "ticks": ""
                          }
                        },
                        "type": "scatter"
                      }
                    ],
                    "scatter3d": [
                      {
                        "line": {
                          "colorbar": {
                            "outlinewidth": 0,
                            "ticks": ""
                          }
                        },
                        "marker": {
                          "colorbar": {
                            "outlinewidth": 0,
                            "ticks": ""
                          }
                        },
                        "type": "scatter3d"
                      }
                    ],
                    "scattercarpet": [
                      {
                        "marker": {
                          "colorbar": {
                            "outlinewidth": 0,
                            "ticks": ""
                          }
                        },
                        "type": "scattercarpet"
                      }
                    ],
                    "scattergeo": [
                      {
                        "marker": {
                          "colorbar": {
                            "outlinewidth": 0,
                            "ticks": ""
                          }
                        },
                        "type": "scattergeo"
                      }
                    ],
                    "scattergl": [
                      {
                        "marker": {
                          "colorbar": {
                            "outlinewidth": 0,
                            "ticks": ""
                          }
                        },
                        "type": "scattergl"
                      }
                    ],
                    "scattermapbox": [
                      {
                        "marker": {
                          "colorbar": {
                            "outlinewidth": 0,
                            "ticks": ""
                          }
                        },
                        "type": "scattermapbox"
                      }
                    ],
                    "scatterpolar": [
                      {
                        "marker": {
                          "colorbar": {
                            "outlinewidth": 0,
                            "ticks": ""
                          }
                        },
                        "type": "scatterpolar"
                      }
                    ],
                    "scatterpolargl": [
                      {
                        "marker": {
                          "colorbar": {
                            "outlinewidth": 0,
                            "ticks": ""
                          }
                        },
                        "type": "scatterpolargl"
                      }
                    ],
                    "scatterternary": [
                      {
                        "marker": {
                          "colorbar": {
                            "outlinewidth": 0,
                            "ticks": ""
                          }
                        },
                        "type": "scatterternary"
                      }
                    ],
                    "surface": [
                      {
                        "colorbar": {
                          "outlinewidth": 0,
                          "ticks": ""
                        },
                        "colorscale": [
                          [
                            0,
                            "#0d0887"
                          ],
                          [
                            0.1111111111111111,
                            "#46039f"
                          ],
                          [
                            0.2222222222222222,
                            "#7201a8"
                          ],
                          [
                            0.3333333333333333,
                            "#9c179e"
                          ],
                          [
                            0.4444444444444444,
                            "#bd3786"
                          ],
                          [
                            0.5555555555555556,
                            "#d8576b"
                          ],
                          [
                            0.6666666666666666,
                            "#ed7953"
                          ],
                          [
                            0.7777777777777778,
                            "#fb9f3a"
                          ],
                          [
                            0.8888888888888888,
                            "#fdca26"
                          ],
                          [
                            1,
                            "#f0f921"
                          ]
                        ],
                        "type": "surface"
                      }
                    ],
                    "table": [
                      {
                        "cells": {
                          "fill": {
                            "color": "#EBF0F8"
                          },
                          "line": {
                            "color": "white"
                          }
                        },
                        "header": {
                          "fill": {
                            "color": "#C8D4E3"
                          },
                          "line": {
                            "color": "white"
                          }
                        },
                        "type": "table"
                      }
                    ]
                  },
                  "layout": {
                    "annotationdefaults": {
                      "arrowcolor": "#2a3f5f",
                      "arrowhead": 0,
                      "arrowwidth": 1
                    },
                    "autotypenumbers": "strict",
                    "coloraxis": {
                      "colorbar": {
                        "outlinewidth": 0,
                        "ticks": ""
                      }
                    },
                    "colorscale": {
                      "diverging": [
                        [
                          0,
                          "#8e0152"
                        ],
                        [
                          0.1,
                          "#c51b7d"
                        ],
                        [
                          0.2,
                          "#de77ae"
                        ],
                        [
                          0.3,
                          "#f1b6da"
                        ],
                        [
                          0.4,
                          "#fde0ef"
                        ],
                        [
                          0.5,
                          "#f7f7f7"
                        ],
                        [
                          0.6,
                          "#e6f5d0"
                        ],
                        [
                          0.7,
                          "#b8e186"
                        ],
                        [
                          0.8,
                          "#7fbc41"
                        ],
                        [
                          0.9,
                          "#4d9221"
                        ],
                        [
                          1,
                          "#276419"
                        ]
                      ],
                      "sequential": [
                        [
                          0,
                          "#0d0887"
                        ],
                        [
                          0.1111111111111111,
                          "#46039f"
                        ],
                        [
                          0.2222222222222222,
                          "#7201a8"
                        ],
                        [
                          0.3333333333333333,
                          "#9c179e"
                        ],
                        [
                          0.4444444444444444,
                          "#bd3786"
                        ],
                        [
                          0.5555555555555556,
                          "#d8576b"
                        ],
                        [
                          0.6666666666666666,
                          "#ed7953"
                        ],
                        [
                          0.7777777777777778,
                          "#fb9f3a"
                        ],
                        [
                          0.8888888888888888,
                          "#fdca26"
                        ],
                        [
                          1,
                          "#f0f921"
                        ]
                      ],
                      "sequentialminus": [
                        [
                          0,
                          "#0d0887"
                        ],
                        [
                          0.1111111111111111,
                          "#46039f"
                        ],
                        [
                          0.2222222222222222,
                          "#7201a8"
                        ],
                        [
                          0.3333333333333333,
                          "#9c179e"
                        ],
                        [
                          0.4444444444444444,
                          "#bd3786"
                        ],
                        [
                          0.5555555555555556,
                          "#d8576b"
                        ],
                        [
                          0.6666666666666666,
                          "#ed7953"
                        ],
                        [
                          0.7777777777777778,
                          "#fb9f3a"
                        ],
                        [
                          0.8888888888888888,
                          "#fdca26"
                        ],
                        [
                          1,
                          "#f0f921"
                        ]
                      ]
                    },
                    "colorway": [
                      "#636efa",
                      "#EF553B",
                      "#00cc96",
                      "#ab63fa",
                      "#FFA15A",
                      "#19d3f3",
                      "#FF6692",
                      "#B6E880",
                      "#FF97FF",
                      "#FECB52"
                    ],
                    "font": {
                      "color": "#2a3f5f"
                    },
                    "geo": {
                      "bgcolor": "white",
                      "lakecolor": "white",
                      "landcolor": "#E5ECF6",
                      "showlakes": true,
                      "showland": true,
                      "subunitcolor": "white"
                    },
                    "hoverlabel": {
                      "align": "left"
                    },
                    "hovermode": "closest",
                    "mapbox": {
                      "style": "light"
                    },
                    "paper_bgcolor": "white",
                    "plot_bgcolor": "#E5ECF6",
                    "polar": {
                      "angularaxis": {
                        "gridcolor": "white",
                        "linecolor": "white",
                        "ticks": ""
                      },
                      "bgcolor": "#E5ECF6",
                      "radialaxis": {
                        "gridcolor": "white",
                        "linecolor": "white",
                        "ticks": ""
                      }
                    },
                    "scene": {
                      "xaxis": {
                        "backgroundcolor": "#E5ECF6",
                        "gridcolor": "white",
                        "gridwidth": 2,
                        "linecolor": "white",
                        "showbackground": true,
                        "ticks": "",
                        "zerolinecolor": "white"
                      },
                      "yaxis": {
                        "backgroundcolor": "#E5ECF6",
                        "gridcolor": "white",
                        "gridwidth": 2,
                        "linecolor": "white",
                        "showbackground": true,
                        "ticks": "",
                        "zerolinecolor": "white"
                      },
                      "zaxis": {
                        "backgroundcolor": "#E5ECF6",
                        "gridcolor": "white",
                        "gridwidth": 2,
                        "linecolor": "white",
                        "showbackground": true,
                        "ticks": "",
                        "zerolinecolor": "white"
                      }
                    },
                    "shapedefaults": {
                      "line": {
                        "color": "#2a3f5f"
                      }
                    },
                    "ternary": {
                      "aaxis": {
                        "gridcolor": "white",
                        "linecolor": "white",
                        "ticks": ""
                      },
                      "baxis": {
                        "gridcolor": "white",
                        "linecolor": "white",
                        "ticks": ""
                      },
                      "bgcolor": "#E5ECF6",
                      "caxis": {
                        "gridcolor": "white",
                        "linecolor": "white",
                        "ticks": ""
                      }
                    },
                    "title": {
                      "x": 0.05
                    },
                    "xaxis": {
                      "automargin": true,
                      "gridcolor": "white",
                      "linecolor": "white",
                      "ticks": "",
                      "title": {
                        "standoff": 15
                      },
                      "zerolinecolor": "white",
                      "zerolinewidth": 2
                    },
                    "yaxis": {
                      "automargin": true,
                      "gridcolor": "white",
                      "linecolor": "white",
                      "ticks": "",
                      "title": {
                        "standoff": 15
                      },
                      "zerolinecolor": "white",
                      "zerolinewidth": 2
                    }
                  }
                },
                "xaxis": {
                  "anchor": "y",
                  "domain": [
                    0,
                    1
                  ],
                  "title": {
                    "text": "Origin"
                  }
                },
                "yaxis": {
                  "anchor": "x",
                  "domain": [
                    0,
                    1
                  ],
                  "title": {
                    "text": "PG"
                  }
                }
              }
            }
          },
          "metadata": {},
          "output_type": "display_data"
        }
      ],
      "source": [
        "heat_matrix(df, 'Origin', 'PG', 'Denise N. Slavin')"
      ]
    },
    {
      "cell_type": "code",
      "execution_count": 12,
      "metadata": {
        "colab": {
          "base_uri": "https://localhost:8080/",
          "height": 542
        },
        "id": "v7OiivL-Mg5i",
        "outputId": "b87991f0-7720-4e17-9ed4-fdb7556e2618"
      },
      "outputs": [
        {
          "data": {
            "application/vnd.plotly.v1+json": {
              "config": {
                "plotlyServerURL": "https://plot.ly"
              },
              "data": [
                {
                  "coloraxis": "coloraxis",
                  "hovertemplate": "Origin=%{x}<br>PG=%{y}<br>count=%{z}<extra></extra>",
                  "name": "",
                  "type": "histogram2d",
                  "x": [
                    "El Salvador",
                    "Honduras",
                    "Honduras",
                    "El Salvador",
                    "Honduras"
                  ],
                  "xaxis": "x",
                  "xbingroup": "x",
                  "y": [
                    "Social Group",
                    "Social Group",
                    "Nationality, Social Group",
                    "Social Group",
                    "Nationality, Social Group"
                  ],
                  "yaxis": "y",
                  "ybingroup": "y"
                }
              ],
              "layout": {
                "coloraxis": {
                  "colorbar": {
                    "title": {
                      "text": "count"
                    }
                  },
                  "colorscale": [
                    [
                      0,
                      "#0d0887"
                    ],
                    [
                      0.1111111111111111,
                      "#46039f"
                    ],
                    [
                      0.2222222222222222,
                      "#7201a8"
                    ],
                    [
                      0.3333333333333333,
                      "#9c179e"
                    ],
                    [
                      0.4444444444444444,
                      "#bd3786"
                    ],
                    [
                      0.5555555555555556,
                      "#d8576b"
                    ],
                    [
                      0.6666666666666666,
                      "#ed7953"
                    ],
                    [
                      0.7777777777777778,
                      "#fb9f3a"
                    ],
                    [
                      0.8888888888888888,
                      "#fdca26"
                    ],
                    [
                      1,
                      "#f0f921"
                    ]
                  ]
                },
                "legend": {
                  "tracegroupgap": 0
                },
                "margin": {
                  "t": 60
                },
                "template": {
                  "data": {
                    "bar": [
                      {
                        "error_x": {
                          "color": "#2a3f5f"
                        },
                        "error_y": {
                          "color": "#2a3f5f"
                        },
                        "marker": {
                          "line": {
                            "color": "#E5ECF6",
                            "width": 0.5
                          },
                          "pattern": {
                            "fillmode": "overlay",
                            "size": 10,
                            "solidity": 0.2
                          }
                        },
                        "type": "bar"
                      }
                    ],
                    "barpolar": [
                      {
                        "marker": {
                          "line": {
                            "color": "#E5ECF6",
                            "width": 0.5
                          },
                          "pattern": {
                            "fillmode": "overlay",
                            "size": 10,
                            "solidity": 0.2
                          }
                        },
                        "type": "barpolar"
                      }
                    ],
                    "carpet": [
                      {
                        "aaxis": {
                          "endlinecolor": "#2a3f5f",
                          "gridcolor": "white",
                          "linecolor": "white",
                          "minorgridcolor": "white",
                          "startlinecolor": "#2a3f5f"
                        },
                        "baxis": {
                          "endlinecolor": "#2a3f5f",
                          "gridcolor": "white",
                          "linecolor": "white",
                          "minorgridcolor": "white",
                          "startlinecolor": "#2a3f5f"
                        },
                        "type": "carpet"
                      }
                    ],
                    "choropleth": [
                      {
                        "colorbar": {
                          "outlinewidth": 0,
                          "ticks": ""
                        },
                        "type": "choropleth"
                      }
                    ],
                    "contour": [
                      {
                        "colorbar": {
                          "outlinewidth": 0,
                          "ticks": ""
                        },
                        "colorscale": [
                          [
                            0,
                            "#0d0887"
                          ],
                          [
                            0.1111111111111111,
                            "#46039f"
                          ],
                          [
                            0.2222222222222222,
                            "#7201a8"
                          ],
                          [
                            0.3333333333333333,
                            "#9c179e"
                          ],
                          [
                            0.4444444444444444,
                            "#bd3786"
                          ],
                          [
                            0.5555555555555556,
                            "#d8576b"
                          ],
                          [
                            0.6666666666666666,
                            "#ed7953"
                          ],
                          [
                            0.7777777777777778,
                            "#fb9f3a"
                          ],
                          [
                            0.8888888888888888,
                            "#fdca26"
                          ],
                          [
                            1,
                            "#f0f921"
                          ]
                        ],
                        "type": "contour"
                      }
                    ],
                    "contourcarpet": [
                      {
                        "colorbar": {
                          "outlinewidth": 0,
                          "ticks": ""
                        },
                        "type": "contourcarpet"
                      }
                    ],
                    "heatmap": [
                      {
                        "colorbar": {
                          "outlinewidth": 0,
                          "ticks": ""
                        },
                        "colorscale": [
                          [
                            0,
                            "#0d0887"
                          ],
                          [
                            0.1111111111111111,
                            "#46039f"
                          ],
                          [
                            0.2222222222222222,
                            "#7201a8"
                          ],
                          [
                            0.3333333333333333,
                            "#9c179e"
                          ],
                          [
                            0.4444444444444444,
                            "#bd3786"
                          ],
                          [
                            0.5555555555555556,
                            "#d8576b"
                          ],
                          [
                            0.6666666666666666,
                            "#ed7953"
                          ],
                          [
                            0.7777777777777778,
                            "#fb9f3a"
                          ],
                          [
                            0.8888888888888888,
                            "#fdca26"
                          ],
                          [
                            1,
                            "#f0f921"
                          ]
                        ],
                        "type": "heatmap"
                      }
                    ],
                    "heatmapgl": [
                      {
                        "colorbar": {
                          "outlinewidth": 0,
                          "ticks": ""
                        },
                        "colorscale": [
                          [
                            0,
                            "#0d0887"
                          ],
                          [
                            0.1111111111111111,
                            "#46039f"
                          ],
                          [
                            0.2222222222222222,
                            "#7201a8"
                          ],
                          [
                            0.3333333333333333,
                            "#9c179e"
                          ],
                          [
                            0.4444444444444444,
                            "#bd3786"
                          ],
                          [
                            0.5555555555555556,
                            "#d8576b"
                          ],
                          [
                            0.6666666666666666,
                            "#ed7953"
                          ],
                          [
                            0.7777777777777778,
                            "#fb9f3a"
                          ],
                          [
                            0.8888888888888888,
                            "#fdca26"
                          ],
                          [
                            1,
                            "#f0f921"
                          ]
                        ],
                        "type": "heatmapgl"
                      }
                    ],
                    "histogram": [
                      {
                        "marker": {
                          "pattern": {
                            "fillmode": "overlay",
                            "size": 10,
                            "solidity": 0.2
                          }
                        },
                        "type": "histogram"
                      }
                    ],
                    "histogram2d": [
                      {
                        "colorbar": {
                          "outlinewidth": 0,
                          "ticks": ""
                        },
                        "colorscale": [
                          [
                            0,
                            "#0d0887"
                          ],
                          [
                            0.1111111111111111,
                            "#46039f"
                          ],
                          [
                            0.2222222222222222,
                            "#7201a8"
                          ],
                          [
                            0.3333333333333333,
                            "#9c179e"
                          ],
                          [
                            0.4444444444444444,
                            "#bd3786"
                          ],
                          [
                            0.5555555555555556,
                            "#d8576b"
                          ],
                          [
                            0.6666666666666666,
                            "#ed7953"
                          ],
                          [
                            0.7777777777777778,
                            "#fb9f3a"
                          ],
                          [
                            0.8888888888888888,
                            "#fdca26"
                          ],
                          [
                            1,
                            "#f0f921"
                          ]
                        ],
                        "type": "histogram2d"
                      }
                    ],
                    "histogram2dcontour": [
                      {
                        "colorbar": {
                          "outlinewidth": 0,
                          "ticks": ""
                        },
                        "colorscale": [
                          [
                            0,
                            "#0d0887"
                          ],
                          [
                            0.1111111111111111,
                            "#46039f"
                          ],
                          [
                            0.2222222222222222,
                            "#7201a8"
                          ],
                          [
                            0.3333333333333333,
                            "#9c179e"
                          ],
                          [
                            0.4444444444444444,
                            "#bd3786"
                          ],
                          [
                            0.5555555555555556,
                            "#d8576b"
                          ],
                          [
                            0.6666666666666666,
                            "#ed7953"
                          ],
                          [
                            0.7777777777777778,
                            "#fb9f3a"
                          ],
                          [
                            0.8888888888888888,
                            "#fdca26"
                          ],
                          [
                            1,
                            "#f0f921"
                          ]
                        ],
                        "type": "histogram2dcontour"
                      }
                    ],
                    "mesh3d": [
                      {
                        "colorbar": {
                          "outlinewidth": 0,
                          "ticks": ""
                        },
                        "type": "mesh3d"
                      }
                    ],
                    "parcoords": [
                      {
                        "line": {
                          "colorbar": {
                            "outlinewidth": 0,
                            "ticks": ""
                          }
                        },
                        "type": "parcoords"
                      }
                    ],
                    "pie": [
                      {
                        "automargin": true,
                        "type": "pie"
                      }
                    ],
                    "scatter": [
                      {
                        "marker": {
                          "colorbar": {
                            "outlinewidth": 0,
                            "ticks": ""
                          }
                        },
                        "type": "scatter"
                      }
                    ],
                    "scatter3d": [
                      {
                        "line": {
                          "colorbar": {
                            "outlinewidth": 0,
                            "ticks": ""
                          }
                        },
                        "marker": {
                          "colorbar": {
                            "outlinewidth": 0,
                            "ticks": ""
                          }
                        },
                        "type": "scatter3d"
                      }
                    ],
                    "scattercarpet": [
                      {
                        "marker": {
                          "colorbar": {
                            "outlinewidth": 0,
                            "ticks": ""
                          }
                        },
                        "type": "scattercarpet"
                      }
                    ],
                    "scattergeo": [
                      {
                        "marker": {
                          "colorbar": {
                            "outlinewidth": 0,
                            "ticks": ""
                          }
                        },
                        "type": "scattergeo"
                      }
                    ],
                    "scattergl": [
                      {
                        "marker": {
                          "colorbar": {
                            "outlinewidth": 0,
                            "ticks": ""
                          }
                        },
                        "type": "scattergl"
                      }
                    ],
                    "scattermapbox": [
                      {
                        "marker": {
                          "colorbar": {
                            "outlinewidth": 0,
                            "ticks": ""
                          }
                        },
                        "type": "scattermapbox"
                      }
                    ],
                    "scatterpolar": [
                      {
                        "marker": {
                          "colorbar": {
                            "outlinewidth": 0,
                            "ticks": ""
                          }
                        },
                        "type": "scatterpolar"
                      }
                    ],
                    "scatterpolargl": [
                      {
                        "marker": {
                          "colorbar": {
                            "outlinewidth": 0,
                            "ticks": ""
                          }
                        },
                        "type": "scatterpolargl"
                      }
                    ],
                    "scatterternary": [
                      {
                        "marker": {
                          "colorbar": {
                            "outlinewidth": 0,
                            "ticks": ""
                          }
                        },
                        "type": "scatterternary"
                      }
                    ],
                    "surface": [
                      {
                        "colorbar": {
                          "outlinewidth": 0,
                          "ticks": ""
                        },
                        "colorscale": [
                          [
                            0,
                            "#0d0887"
                          ],
                          [
                            0.1111111111111111,
                            "#46039f"
                          ],
                          [
                            0.2222222222222222,
                            "#7201a8"
                          ],
                          [
                            0.3333333333333333,
                            "#9c179e"
                          ],
                          [
                            0.4444444444444444,
                            "#bd3786"
                          ],
                          [
                            0.5555555555555556,
                            "#d8576b"
                          ],
                          [
                            0.6666666666666666,
                            "#ed7953"
                          ],
                          [
                            0.7777777777777778,
                            "#fb9f3a"
                          ],
                          [
                            0.8888888888888888,
                            "#fdca26"
                          ],
                          [
                            1,
                            "#f0f921"
                          ]
                        ],
                        "type": "surface"
                      }
                    ],
                    "table": [
                      {
                        "cells": {
                          "fill": {
                            "color": "#EBF0F8"
                          },
                          "line": {
                            "color": "white"
                          }
                        },
                        "header": {
                          "fill": {
                            "color": "#C8D4E3"
                          },
                          "line": {
                            "color": "white"
                          }
                        },
                        "type": "table"
                      }
                    ]
                  },
                  "layout": {
                    "annotationdefaults": {
                      "arrowcolor": "#2a3f5f",
                      "arrowhead": 0,
                      "arrowwidth": 1
                    },
                    "autotypenumbers": "strict",
                    "coloraxis": {
                      "colorbar": {
                        "outlinewidth": 0,
                        "ticks": ""
                      }
                    },
                    "colorscale": {
                      "diverging": [
                        [
                          0,
                          "#8e0152"
                        ],
                        [
                          0.1,
                          "#c51b7d"
                        ],
                        [
                          0.2,
                          "#de77ae"
                        ],
                        [
                          0.3,
                          "#f1b6da"
                        ],
                        [
                          0.4,
                          "#fde0ef"
                        ],
                        [
                          0.5,
                          "#f7f7f7"
                        ],
                        [
                          0.6,
                          "#e6f5d0"
                        ],
                        [
                          0.7,
                          "#b8e186"
                        ],
                        [
                          0.8,
                          "#7fbc41"
                        ],
                        [
                          0.9,
                          "#4d9221"
                        ],
                        [
                          1,
                          "#276419"
                        ]
                      ],
                      "sequential": [
                        [
                          0,
                          "#0d0887"
                        ],
                        [
                          0.1111111111111111,
                          "#46039f"
                        ],
                        [
                          0.2222222222222222,
                          "#7201a8"
                        ],
                        [
                          0.3333333333333333,
                          "#9c179e"
                        ],
                        [
                          0.4444444444444444,
                          "#bd3786"
                        ],
                        [
                          0.5555555555555556,
                          "#d8576b"
                        ],
                        [
                          0.6666666666666666,
                          "#ed7953"
                        ],
                        [
                          0.7777777777777778,
                          "#fb9f3a"
                        ],
                        [
                          0.8888888888888888,
                          "#fdca26"
                        ],
                        [
                          1,
                          "#f0f921"
                        ]
                      ],
                      "sequentialminus": [
                        [
                          0,
                          "#0d0887"
                        ],
                        [
                          0.1111111111111111,
                          "#46039f"
                        ],
                        [
                          0.2222222222222222,
                          "#7201a8"
                        ],
                        [
                          0.3333333333333333,
                          "#9c179e"
                        ],
                        [
                          0.4444444444444444,
                          "#bd3786"
                        ],
                        [
                          0.5555555555555556,
                          "#d8576b"
                        ],
                        [
                          0.6666666666666666,
                          "#ed7953"
                        ],
                        [
                          0.7777777777777778,
                          "#fb9f3a"
                        ],
                        [
                          0.8888888888888888,
                          "#fdca26"
                        ],
                        [
                          1,
                          "#f0f921"
                        ]
                      ]
                    },
                    "colorway": [
                      "#636efa",
                      "#EF553B",
                      "#00cc96",
                      "#ab63fa",
                      "#FFA15A",
                      "#19d3f3",
                      "#FF6692",
                      "#B6E880",
                      "#FF97FF",
                      "#FECB52"
                    ],
                    "font": {
                      "color": "#2a3f5f"
                    },
                    "geo": {
                      "bgcolor": "white",
                      "lakecolor": "white",
                      "landcolor": "#E5ECF6",
                      "showlakes": true,
                      "showland": true,
                      "subunitcolor": "white"
                    },
                    "hoverlabel": {
                      "align": "left"
                    },
                    "hovermode": "closest",
                    "mapbox": {
                      "style": "light"
                    },
                    "paper_bgcolor": "white",
                    "plot_bgcolor": "#E5ECF6",
                    "polar": {
                      "angularaxis": {
                        "gridcolor": "white",
                        "linecolor": "white",
                        "ticks": ""
                      },
                      "bgcolor": "#E5ECF6",
                      "radialaxis": {
                        "gridcolor": "white",
                        "linecolor": "white",
                        "ticks": ""
                      }
                    },
                    "scene": {
                      "xaxis": {
                        "backgroundcolor": "#E5ECF6",
                        "gridcolor": "white",
                        "gridwidth": 2,
                        "linecolor": "white",
                        "showbackground": true,
                        "ticks": "",
                        "zerolinecolor": "white"
                      },
                      "yaxis": {
                        "backgroundcolor": "#E5ECF6",
                        "gridcolor": "white",
                        "gridwidth": 2,
                        "linecolor": "white",
                        "showbackground": true,
                        "ticks": "",
                        "zerolinecolor": "white"
                      },
                      "zaxis": {
                        "backgroundcolor": "#E5ECF6",
                        "gridcolor": "white",
                        "gridwidth": 2,
                        "linecolor": "white",
                        "showbackground": true,
                        "ticks": "",
                        "zerolinecolor": "white"
                      }
                    },
                    "shapedefaults": {
                      "line": {
                        "color": "#2a3f5f"
                      }
                    },
                    "ternary": {
                      "aaxis": {
                        "gridcolor": "white",
                        "linecolor": "white",
                        "ticks": ""
                      },
                      "baxis": {
                        "gridcolor": "white",
                        "linecolor": "white",
                        "ticks": ""
                      },
                      "bgcolor": "#E5ECF6",
                      "caxis": {
                        "gridcolor": "white",
                        "linecolor": "white",
                        "ticks": ""
                      }
                    },
                    "title": {
                      "x": 0.05
                    },
                    "xaxis": {
                      "automargin": true,
                      "gridcolor": "white",
                      "linecolor": "white",
                      "ticks": "",
                      "title": {
                        "standoff": 15
                      },
                      "zerolinecolor": "white",
                      "zerolinewidth": 2
                    },
                    "yaxis": {
                      "automargin": true,
                      "gridcolor": "white",
                      "linecolor": "white",
                      "ticks": "",
                      "title": {
                        "standoff": 15
                      },
                      "zerolinecolor": "white",
                      "zerolinewidth": 2
                    }
                  }
                },
                "xaxis": {
                  "anchor": "y",
                  "domain": [
                    0,
                    1
                  ],
                  "title": {
                    "text": "Origin"
                  }
                },
                "yaxis": {
                  "anchor": "x",
                  "domain": [
                    0,
                    1
                  ],
                  "title": {
                    "text": "PG"
                  }
                }
              }
            }
          },
          "metadata": {},
          "output_type": "display_data"
        }
      ],
      "source": [
        "heat_matrix(df, 'Origin', 'PG', 'Quynh Vu Bain')"
      ]
    }
  ],
  "metadata": {
    "colab": {
      "name": "judge_heat_matrix.ipynb",
      "provenance": []
    },
    "interpreter": {
      "hash": "3f8956436d8ce59f668ff26075b9e4d053dba06b7526eb5909008814682cd7e3"
    },
    "kernelspec": {
      "display_name": "Python 3.8.8 64-bit ('base': conda)",
      "name": "python3"
    },
    "language_info": {
      "codemirror_mode": {
        "name": "ipython",
        "version": 3
      },
      "file_extension": ".py",
      "mimetype": "text/x-python",
      "name": "python",
      "nbconvert_exporter": "python",
      "pygments_lexer": "ipython3",
      "version": "3.8.8"
    }
  },
  "nbformat": 4,
  "nbformat_minor": 0
}
