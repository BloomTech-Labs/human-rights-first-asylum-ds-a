{
 "metadata": {
  "language_info": {
   "codemirror_mode": {
    "name": "ipython",
    "version": 3
   },
   "file_extension": ".py",
   "mimetype": "text/x-python",
   "name": "python",
   "nbconvert_exporter": "python",
   "pygments_lexer": "ipython3",
   "version": "3.8.5-final"
  },
  "orig_nbformat": 2,
  "kernelspec": {
   "name": "python3",
   "display_name": "Python 3",
   "language": "python"
  }
 },
 "nbformat": 4,
 "nbformat_minor": 2,
 "cells": [
  {
   "source": [
    "## In order to keep the world map visuals up and running we need a few things.\n",
    "\n",
    "1) a more efficent way to get the Lat, Lon, and ISO (also known as alpha-3 code)<br>\n",
    "(https://en.wikipedia.org/wiki/List_of_ISO_3166_country_codes)<br>\n",
    "2) a script that goes through the dataset and adds Lat, Lon, and the ISO. <br>\n",
    "3) a way to break up the protected grounds\n",
    "\n",
    "These are a few of the biggest issues going on with my visuals.\n",
    "\n",
    "Right now I'm manually inputing the fields using google maps for Lat/Lon and Wikipedia for the ISO.<br>\n",
    "These two visuals are intended to grow with the data, but only if the data can be altered to fit them.\n"
   ],
   "cell_type": "markdown",
   "metadata": {}
  },
  {
   "cell_type": "code",
   "execution_count": 3,
   "metadata": {},
   "outputs": [],
   "source": [
    "import plotly.express as px\n",
    "import geopandas as gpd\n",
    "import pandas as pd"
   ]
  },
  {
   "cell_type": "code",
   "execution_count": 48,
   "metadata": {},
   "outputs": [
    {
     "output_type": "execute_result",
     "data": {
      "text/plain": [
       "   Unnamed: 0  0     Case ID Hearing Date                 Type of Hearing  \\\n",
       "0           0  1  17-0043108   11/20/2018  IH Scheduled, IJ not specified   \n",
       "1           1  2  17-0043495   10/09/2020              Individual Hearing   \n",
       "2           2  3  14-0027984   09/14/2020              Individual Hearing   \n",
       "3           3  4  16-0027174   03/06/2020              Individual Hearing   \n",
       "4           4  5  16-0027162   01/13/2020              Individual Hearing   \n",
       "\n",
       "              Hearing Location Decision Date       Judge's Name  Outcome  \\\n",
       "0  Arlington Immigration Court           NaN     Thomas G. Snow  Granted   \n",
       "1  Baltimore Immigration Court           NaN                NaN  Pending   \n",
       "2  Arlington Immigration Court           NaN  Thomas M. O'Leary  Pending   \n",
       "3  Arlington Immigration Court           NaN                NaN      NaN   \n",
       "4  Arlington Immigration Court    01/13/2020      Elise  Manuel  Granted   \n",
       "\n",
       "                               Protected Ground   If Social Group, Type  \\\n",
       "0                                  Social Group       Domestic Violence   \n",
       "1                                  Social Group  Family or Kinship Ties   \n",
       "2                             Political Opinion                     NaN   \n",
       "3                     Nationality, Social Group                     NaN   \n",
       "4  Nationality, Political Opinion, Social Group                     NaN   \n",
       "\n",
       "       Country  Latitude  Longitude  Iso  \n",
       "0     Honduras    15.200    -86.242  HND  \n",
       "1     Honduras    15.200    -86.242  HND  \n",
       "2      Eritrea    15.179     39.782  ERI  \n",
       "3  El Salvador    13.794    -88.897  SLV  \n",
       "4  El Salvador    13.794    -88.897  SLV  "
      ],
      "text/html": "<div>\n<style scoped>\n    .dataframe tbody tr th:only-of-type {\n        vertical-align: middle;\n    }\n\n    .dataframe tbody tr th {\n        vertical-align: top;\n    }\n\n    .dataframe thead th {\n        text-align: right;\n    }\n</style>\n<table border=\"1\" class=\"dataframe\">\n  <thead>\n    <tr style=\"text-align: right;\">\n      <th></th>\n      <th>Unnamed: 0</th>\n      <th>0</th>\n      <th>Case ID</th>\n      <th>Hearing Date</th>\n      <th>Type of Hearing</th>\n      <th>Hearing Location</th>\n      <th>Decision Date</th>\n      <th>Judge's Name</th>\n      <th>Outcome</th>\n      <th>Protected Ground</th>\n      <th>If Social Group, Type</th>\n      <th>Country</th>\n      <th>Latitude</th>\n      <th>Longitude</th>\n      <th>Iso</th>\n    </tr>\n  </thead>\n  <tbody>\n    <tr>\n      <th>0</th>\n      <td>0</td>\n      <td>1</td>\n      <td>17-0043108</td>\n      <td>11/20/2018</td>\n      <td>IH Scheduled, IJ not specified</td>\n      <td>Arlington Immigration Court</td>\n      <td>NaN</td>\n      <td>Thomas G. Snow</td>\n      <td>Granted</td>\n      <td>Social Group</td>\n      <td>Domestic Violence</td>\n      <td>Honduras</td>\n      <td>15.200</td>\n      <td>-86.242</td>\n      <td>HND</td>\n    </tr>\n    <tr>\n      <th>1</th>\n      <td>1</td>\n      <td>2</td>\n      <td>17-0043495</td>\n      <td>10/09/2020</td>\n      <td>Individual Hearing</td>\n      <td>Baltimore Immigration Court</td>\n      <td>NaN</td>\n      <td>NaN</td>\n      <td>Pending</td>\n      <td>Social Group</td>\n      <td>Family or Kinship Ties</td>\n      <td>Honduras</td>\n      <td>15.200</td>\n      <td>-86.242</td>\n      <td>HND</td>\n    </tr>\n    <tr>\n      <th>2</th>\n      <td>2</td>\n      <td>3</td>\n      <td>14-0027984</td>\n      <td>09/14/2020</td>\n      <td>Individual Hearing</td>\n      <td>Arlington Immigration Court</td>\n      <td>NaN</td>\n      <td>Thomas M. O'Leary</td>\n      <td>Pending</td>\n      <td>Political Opinion</td>\n      <td>NaN</td>\n      <td>Eritrea</td>\n      <td>15.179</td>\n      <td>39.782</td>\n      <td>ERI</td>\n    </tr>\n    <tr>\n      <th>3</th>\n      <td>3</td>\n      <td>4</td>\n      <td>16-0027174</td>\n      <td>03/06/2020</td>\n      <td>Individual Hearing</td>\n      <td>Arlington Immigration Court</td>\n      <td>NaN</td>\n      <td>NaN</td>\n      <td>NaN</td>\n      <td>Nationality, Social Group</td>\n      <td>NaN</td>\n      <td>El Salvador</td>\n      <td>13.794</td>\n      <td>-88.897</td>\n      <td>SLV</td>\n    </tr>\n    <tr>\n      <th>4</th>\n      <td>4</td>\n      <td>5</td>\n      <td>16-0027162</td>\n      <td>01/13/2020</td>\n      <td>Individual Hearing</td>\n      <td>Arlington Immigration Court</td>\n      <td>01/13/2020</td>\n      <td>Elise  Manuel</td>\n      <td>Granted</td>\n      <td>Nationality, Political Opinion, Social Group</td>\n      <td>NaN</td>\n      <td>El Salvador</td>\n      <td>13.794</td>\n      <td>-88.897</td>\n      <td>SLV</td>\n    </tr>\n  </tbody>\n</table>\n</div>"
     },
     "metadata": {},
     "execution_count": 48
    }
   ],
   "source": [
    "data = pd.read_csv(r\"C:\\Users\\hambr\\human-rights-first-asylum-ds-a\\Visualizations\\datav4.csv\")\n",
    "data.head()\n",
    "#Added to the DATA the columns LATITUTDE LONGITUDE and ISO, so that you can plot them on a world map."
   ]
  },
  {
   "cell_type": "code",
   "execution_count": 49,
   "metadata": {},
   "outputs": [
    {
     "output_type": "display_data",
     "data": {
      "application/vnd.plotly.v1+json": {
       "config": {
        "plotlyServerURL": "https://plot.ly"
       },
       "data": [
        {
         "customdata": [
          [
           "Thomas G. Snow",
           "11/20/2018",
           "Honduras"
          ],
          [
           null,
           "10/09/2020",
           "Honduras"
          ],
          [
           "Thomas M. O'Leary",
           "09/14/2020",
           "Eritrea"
          ],
          [
           null,
           "03/06/2020",
           "El Salvador"
          ],
          [
           "Elise  Manuel",
           "01/13/2020",
           "El Salvador"
          ],
          [
           "Jungyoun  Hong",
           "09/10/2019",
           "El Salvador"
          ],
          [
           "Emmett D. Soper",
           "06/14/2019",
           "Congo, Democratic Republic of (Congo-Kinshasa)"
          ],
          [
           "Quynh Vu Bain",
           "06/06/2019",
           "El Salvador"
          ],
          [
           null,
           "02/13/2019",
           "China"
          ],
          [
           "Denise N. Slavin",
           "01/15/2019",
           "Eritrea"
          ],
          [
           "Thomas G. Snow",
           "12/03/2018",
           "El Salvador"
          ],
          [
           "Paul W. Schmidt",
           "10/24/2018",
           "Honduras"
          ],
          [
           "Denise N. Slavin",
           "06/04/2019",
           "Eritrea"
          ],
          [
           "Quynh Vu Bain",
           "02/13/2020",
           "Honduras"
          ],
          [
           "Phillip T. Williams",
           "09/25/2019",
           "Honduras"
          ],
          [
           null,
           "08/18/2020",
           "El Salvador"
          ],
          [
           "Quynh Vu Bain",
           "11/28/2018",
           "Honduras"
          ],
          [
           null,
           "12/30/2019",
           "El Salvador"
          ],
          [
           null,
           "12/30/2019",
           "El Salvador"
          ],
          [
           "Lawrence  Burman",
           "12/20/2019",
           "Egypt"
          ],
          [
           null,
           "08/20/2020",
           "El Salvador"
          ],
          [
           "David W. Crosland",
           "12/19/2019",
           "El Salvador"
          ],
          [
           null,
           "01/09/2019",
           "El Salvador"
          ],
          [
           null,
           "02/07/2019",
           "El Salvador"
          ],
          [
           "Denise N. Slavin",
           "06/24/2019",
           "El Salvador"
          ],
          [
           null,
           "12/09/2019",
           "Nicaragua"
          ],
          [
           "Lisa  Dornell (Williams)",
           "03/20/2019",
           "Honduras"
          ],
          [
           "Lawrence  Burman",
           "03/08/2019",
           "El Salvador"
          ],
          [
           null,
           "04/22/2019",
           "China"
          ],
          [
           "Denise N. Slavin",
           "04/12/2019",
           "Guatemala"
          ],
          [
           "John Milo Bryant",
           "07/09/2019",
           "Ethiopia"
          ],
          [
           "David W. Crosland",
           "04/20/2020",
           "Cameroon"
          ],
          [
           "Thomas G. Snow",
           "03/25/2020",
           "El Salvador"
          ],
          [
           "Thomas M. O'Leary",
           "10/20/2020",
           "Eritrea"
          ],
          [
           null,
           "01/17/2019",
           "Ethiopia"
          ],
          [
           "Thomas G. Snow",
           "03/18/2019",
           "Honduras"
          ],
          [
           null,
           "07/31/2019",
           "Belarus"
          ],
          [
           "Paul W. Schmidt",
           "10/24/2018",
           "Honduras"
          ],
          [
           null,
           "06/03/2020",
           "Honduras"
          ],
          [
           "John Milo Bryant",
           "04/06/2020",
           "Honduras"
          ],
          [
           null,
           "05/15/2020",
           "El Salvador"
          ],
          [
           null,
           "08/16/2019",
           "Honduras"
          ],
          [
           "Quynh Vu Bain",
           "10/21/2019",
           "El Salvador"
          ],
          [
           "Quynh Vu Bain",
           "12/23/2019",
           "Honduras"
          ],
          [
           "Thomas G. Snow",
           "01/28/2020",
           "Cameroon"
          ],
          [
           "David W. Crosland",
           "11/04/2019",
           "Honduras"
          ]
         ],
         "hovertemplate": "<b>%{hovertext}</b><br><br>Latitude=%{lat}<br>Longitude=%{lon}<br>Judge's Name=%{customdata[0]}<br>Hearing Date=%{customdata[1]}<br>Country=%{customdata[2]}<extra></extra>",
         "hovertext": [
          "17-0043108",
          "17-0043495",
          "14-0027984",
          "16-0027174",
          "16-0027162",
          "16-0028537",
          "13-0030778",
          "15-0028748",
          "12-0026846",
          "15-0030122",
          "15-0027098",
          "15-0028766",
          "15-0030122",
          "16-0029372",
          "69-0041036",
          "17-0043794",
          "16-0030069",
          "16-0028551",
          "16-0026989",
          "17-0043522",
          "18-0044835",
          "12-0027842",
          "15-0029304",
          "15-0028141",
          "16-0027995",
          "18-0044545",
          "15-0029100",
          "16-0030845",
          "12-0026846",
          "17-0043828",
          "14-0028410",
          "17-0043757",
          "17-0042789",
          "14-0027984",
          "14-0028382",
          "13-0030127",
          "15-0029734",
          "15-0027261",
          "17-0043659",
          "14-0030314",
          "16-0042109",
          "14-0027380",
          "17-0042734",
          "16-0030069",
          "14-0027612",
          "16-0028224"
         ],
         "lat": [
          15.2,
          15.2,
          15.179,
          13.794,
          13.794,
          13.794,
          4.038,
          13.794,
          35.862,
          15.179,
          13.794,
          15.2,
          15.179,
          15.2,
          15.2,
          13.794,
          15.2,
          13.794,
          13.794,
          26.821,
          13.794,
          13.794,
          13.794,
          13.794,
          13.794,
          12.806,
          15.2,
          13.794,
          35.862,
          15.784,
          9.145,
          7.37,
          13.794,
          15.179,
          9.145,
          15.2,
          53.71,
          15.2,
          15.2,
          15.2,
          13.794,
          15.2,
          13.794,
          15.2,
          7.37,
          15.2
         ],
         "legendgroup": "",
         "lon": [
          -86.242,
          -86.242,
          39.782,
          -88.897,
          -88.897,
          -88.897,
          21.759,
          -88.897,
          104.195,
          39.782,
          -88.897,
          -86.242,
          39.782,
          -86.242,
          -86.242,
          -88.897,
          -86.242,
          -88.897,
          -88.897,
          30.803,
          -88.897,
          -88.897,
          -88.897,
          -88.897,
          -88.897,
          -85.207,
          -86.242,
          -88.897,
          104.195,
          -90.231,
          40.49,
          12.355,
          -88.897,
          39.782,
          40.49,
          -86.242,
          27.953,
          -86.242,
          -86.242,
          -86.242,
          -88.897,
          -86.242,
          -88.897,
          -86.242,
          12.355,
          -86.242
         ],
         "marker": {
          "color": "fuchsia"
         },
         "mode": "markers",
         "name": "",
         "showlegend": false,
         "subplot": "mapbox",
         "type": "scattermapbox"
        }
       ],
       "layout": {
        "height": 300,
        "legend": {
         "tracegroupgap": 0
        },
        "mapbox": {
         "center": {
          "lat": 15.781021739130438,
          "lon": -50.87721739130434
         },
         "domain": {
          "x": [
           0,
           1
          ],
          "y": [
           0,
           1
          ]
         },
         "style": "open-street-map",
         "zoom": 3
        },
        "margin": {
         "b": 0,
         "l": 0,
         "r": 0,
         "t": 0
        },
        "template": {
         "data": {
          "bar": [
           {
            "error_x": {
             "color": "#2a3f5f"
            },
            "error_y": {
             "color": "#2a3f5f"
            },
            "marker": {
             "line": {
              "color": "#E5ECF6",
              "width": 0.5
             }
            },
            "type": "bar"
           }
          ],
          "barpolar": [
           {
            "marker": {
             "line": {
              "color": "#E5ECF6",
              "width": 0.5
             }
            },
            "type": "barpolar"
           }
          ],
          "carpet": [
           {
            "aaxis": {
             "endlinecolor": "#2a3f5f",
             "gridcolor": "white",
             "linecolor": "white",
             "minorgridcolor": "white",
             "startlinecolor": "#2a3f5f"
            },
            "baxis": {
             "endlinecolor": "#2a3f5f",
             "gridcolor": "white",
             "linecolor": "white",
             "minorgridcolor": "white",
             "startlinecolor": "#2a3f5f"
            },
            "type": "carpet"
           }
          ],
          "choropleth": [
           {
            "colorbar": {
             "outlinewidth": 0,
             "ticks": ""
            },
            "type": "choropleth"
           }
          ],
          "contour": [
           {
            "colorbar": {
             "outlinewidth": 0,
             "ticks": ""
            },
            "colorscale": [
             [
              0,
              "#0d0887"
             ],
             [
              0.1111111111111111,
              "#46039f"
             ],
             [
              0.2222222222222222,
              "#7201a8"
             ],
             [
              0.3333333333333333,
              "#9c179e"
             ],
             [
              0.4444444444444444,
              "#bd3786"
             ],
             [
              0.5555555555555556,
              "#d8576b"
             ],
             [
              0.6666666666666666,
              "#ed7953"
             ],
             [
              0.7777777777777778,
              "#fb9f3a"
             ],
             [
              0.8888888888888888,
              "#fdca26"
             ],
             [
              1,
              "#f0f921"
             ]
            ],
            "type": "contour"
           }
          ],
          "contourcarpet": [
           {
            "colorbar": {
             "outlinewidth": 0,
             "ticks": ""
            },
            "type": "contourcarpet"
           }
          ],
          "heatmap": [
           {
            "colorbar": {
             "outlinewidth": 0,
             "ticks": ""
            },
            "colorscale": [
             [
              0,
              "#0d0887"
             ],
             [
              0.1111111111111111,
              "#46039f"
             ],
             [
              0.2222222222222222,
              "#7201a8"
             ],
             [
              0.3333333333333333,
              "#9c179e"
             ],
             [
              0.4444444444444444,
              "#bd3786"
             ],
             [
              0.5555555555555556,
              "#d8576b"
             ],
             [
              0.6666666666666666,
              "#ed7953"
             ],
             [
              0.7777777777777778,
              "#fb9f3a"
             ],
             [
              0.8888888888888888,
              "#fdca26"
             ],
             [
              1,
              "#f0f921"
             ]
            ],
            "type": "heatmap"
           }
          ],
          "heatmapgl": [
           {
            "colorbar": {
             "outlinewidth": 0,
             "ticks": ""
            },
            "colorscale": [
             [
              0,
              "#0d0887"
             ],
             [
              0.1111111111111111,
              "#46039f"
             ],
             [
              0.2222222222222222,
              "#7201a8"
             ],
             [
              0.3333333333333333,
              "#9c179e"
             ],
             [
              0.4444444444444444,
              "#bd3786"
             ],
             [
              0.5555555555555556,
              "#d8576b"
             ],
             [
              0.6666666666666666,
              "#ed7953"
             ],
             [
              0.7777777777777778,
              "#fb9f3a"
             ],
             [
              0.8888888888888888,
              "#fdca26"
             ],
             [
              1,
              "#f0f921"
             ]
            ],
            "type": "heatmapgl"
           }
          ],
          "histogram": [
           {
            "marker": {
             "colorbar": {
              "outlinewidth": 0,
              "ticks": ""
             }
            },
            "type": "histogram"
           }
          ],
          "histogram2d": [
           {
            "colorbar": {
             "outlinewidth": 0,
             "ticks": ""
            },
            "colorscale": [
             [
              0,
              "#0d0887"
             ],
             [
              0.1111111111111111,
              "#46039f"
             ],
             [
              0.2222222222222222,
              "#7201a8"
             ],
             [
              0.3333333333333333,
              "#9c179e"
             ],
             [
              0.4444444444444444,
              "#bd3786"
             ],
             [
              0.5555555555555556,
              "#d8576b"
             ],
             [
              0.6666666666666666,
              "#ed7953"
             ],
             [
              0.7777777777777778,
              "#fb9f3a"
             ],
             [
              0.8888888888888888,
              "#fdca26"
             ],
             [
              1,
              "#f0f921"
             ]
            ],
            "type": "histogram2d"
           }
          ],
          "histogram2dcontour": [
           {
            "colorbar": {
             "outlinewidth": 0,
             "ticks": ""
            },
            "colorscale": [
             [
              0,
              "#0d0887"
             ],
             [
              0.1111111111111111,
              "#46039f"
             ],
             [
              0.2222222222222222,
              "#7201a8"
             ],
             [
              0.3333333333333333,
              "#9c179e"
             ],
             [
              0.4444444444444444,
              "#bd3786"
             ],
             [
              0.5555555555555556,
              "#d8576b"
             ],
             [
              0.6666666666666666,
              "#ed7953"
             ],
             [
              0.7777777777777778,
              "#fb9f3a"
             ],
             [
              0.8888888888888888,
              "#fdca26"
             ],
             [
              1,
              "#f0f921"
             ]
            ],
            "type": "histogram2dcontour"
           }
          ],
          "mesh3d": [
           {
            "colorbar": {
             "outlinewidth": 0,
             "ticks": ""
            },
            "type": "mesh3d"
           }
          ],
          "parcoords": [
           {
            "line": {
             "colorbar": {
              "outlinewidth": 0,
              "ticks": ""
             }
            },
            "type": "parcoords"
           }
          ],
          "pie": [
           {
            "automargin": true,
            "type": "pie"
           }
          ],
          "scatter": [
           {
            "marker": {
             "colorbar": {
              "outlinewidth": 0,
              "ticks": ""
             }
            },
            "type": "scatter"
           }
          ],
          "scatter3d": [
           {
            "line": {
             "colorbar": {
              "outlinewidth": 0,
              "ticks": ""
             }
            },
            "marker": {
             "colorbar": {
              "outlinewidth": 0,
              "ticks": ""
             }
            },
            "type": "scatter3d"
           }
          ],
          "scattercarpet": [
           {
            "marker": {
             "colorbar": {
              "outlinewidth": 0,
              "ticks": ""
             }
            },
            "type": "scattercarpet"
           }
          ],
          "scattergeo": [
           {
            "marker": {
             "colorbar": {
              "outlinewidth": 0,
              "ticks": ""
             }
            },
            "type": "scattergeo"
           }
          ],
          "scattergl": [
           {
            "marker": {
             "colorbar": {
              "outlinewidth": 0,
              "ticks": ""
             }
            },
            "type": "scattergl"
           }
          ],
          "scattermapbox": [
           {
            "marker": {
             "colorbar": {
              "outlinewidth": 0,
              "ticks": ""
             }
            },
            "type": "scattermapbox"
           }
          ],
          "scatterpolar": [
           {
            "marker": {
             "colorbar": {
              "outlinewidth": 0,
              "ticks": ""
             }
            },
            "type": "scatterpolar"
           }
          ],
          "scatterpolargl": [
           {
            "marker": {
             "colorbar": {
              "outlinewidth": 0,
              "ticks": ""
             }
            },
            "type": "scatterpolargl"
           }
          ],
          "scatterternary": [
           {
            "marker": {
             "colorbar": {
              "outlinewidth": 0,
              "ticks": ""
             }
            },
            "type": "scatterternary"
           }
          ],
          "surface": [
           {
            "colorbar": {
             "outlinewidth": 0,
             "ticks": ""
            },
            "colorscale": [
             [
              0,
              "#0d0887"
             ],
             [
              0.1111111111111111,
              "#46039f"
             ],
             [
              0.2222222222222222,
              "#7201a8"
             ],
             [
              0.3333333333333333,
              "#9c179e"
             ],
             [
              0.4444444444444444,
              "#bd3786"
             ],
             [
              0.5555555555555556,
              "#d8576b"
             ],
             [
              0.6666666666666666,
              "#ed7953"
             ],
             [
              0.7777777777777778,
              "#fb9f3a"
             ],
             [
              0.8888888888888888,
              "#fdca26"
             ],
             [
              1,
              "#f0f921"
             ]
            ],
            "type": "surface"
           }
          ],
          "table": [
           {
            "cells": {
             "fill": {
              "color": "#EBF0F8"
             },
             "line": {
              "color": "white"
             }
            },
            "header": {
             "fill": {
              "color": "#C8D4E3"
             },
             "line": {
              "color": "white"
             }
            },
            "type": "table"
           }
          ]
         },
         "layout": {
          "annotationdefaults": {
           "arrowcolor": "#2a3f5f",
           "arrowhead": 0,
           "arrowwidth": 1
          },
          "autotypenumbers": "strict",
          "coloraxis": {
           "colorbar": {
            "outlinewidth": 0,
            "ticks": ""
           }
          },
          "colorscale": {
           "diverging": [
            [
             0,
             "#8e0152"
            ],
            [
             0.1,
             "#c51b7d"
            ],
            [
             0.2,
             "#de77ae"
            ],
            [
             0.3,
             "#f1b6da"
            ],
            [
             0.4,
             "#fde0ef"
            ],
            [
             0.5,
             "#f7f7f7"
            ],
            [
             0.6,
             "#e6f5d0"
            ],
            [
             0.7,
             "#b8e186"
            ],
            [
             0.8,
             "#7fbc41"
            ],
            [
             0.9,
             "#4d9221"
            ],
            [
             1,
             "#276419"
            ]
           ],
           "sequential": [
            [
             0,
             "#0d0887"
            ],
            [
             0.1111111111111111,
             "#46039f"
            ],
            [
             0.2222222222222222,
             "#7201a8"
            ],
            [
             0.3333333333333333,
             "#9c179e"
            ],
            [
             0.4444444444444444,
             "#bd3786"
            ],
            [
             0.5555555555555556,
             "#d8576b"
            ],
            [
             0.6666666666666666,
             "#ed7953"
            ],
            [
             0.7777777777777778,
             "#fb9f3a"
            ],
            [
             0.8888888888888888,
             "#fdca26"
            ],
            [
             1,
             "#f0f921"
            ]
           ],
           "sequentialminus": [
            [
             0,
             "#0d0887"
            ],
            [
             0.1111111111111111,
             "#46039f"
            ],
            [
             0.2222222222222222,
             "#7201a8"
            ],
            [
             0.3333333333333333,
             "#9c179e"
            ],
            [
             0.4444444444444444,
             "#bd3786"
            ],
            [
             0.5555555555555556,
             "#d8576b"
            ],
            [
             0.6666666666666666,
             "#ed7953"
            ],
            [
             0.7777777777777778,
             "#fb9f3a"
            ],
            [
             0.8888888888888888,
             "#fdca26"
            ],
            [
             1,
             "#f0f921"
            ]
           ]
          },
          "colorway": [
           "#636efa",
           "#EF553B",
           "#00cc96",
           "#ab63fa",
           "#FFA15A",
           "#19d3f3",
           "#FF6692",
           "#B6E880",
           "#FF97FF",
           "#FECB52"
          ],
          "font": {
           "color": "#2a3f5f"
          },
          "geo": {
           "bgcolor": "white",
           "lakecolor": "white",
           "landcolor": "#E5ECF6",
           "showlakes": true,
           "showland": true,
           "subunitcolor": "white"
          },
          "hoverlabel": {
           "align": "left"
          },
          "hovermode": "closest",
          "mapbox": {
           "style": "light"
          },
          "paper_bgcolor": "white",
          "plot_bgcolor": "#E5ECF6",
          "polar": {
           "angularaxis": {
            "gridcolor": "white",
            "linecolor": "white",
            "ticks": ""
           },
           "bgcolor": "#E5ECF6",
           "radialaxis": {
            "gridcolor": "white",
            "linecolor": "white",
            "ticks": ""
           }
          },
          "scene": {
           "xaxis": {
            "backgroundcolor": "#E5ECF6",
            "gridcolor": "white",
            "gridwidth": 2,
            "linecolor": "white",
            "showbackground": true,
            "ticks": "",
            "zerolinecolor": "white"
           },
           "yaxis": {
            "backgroundcolor": "#E5ECF6",
            "gridcolor": "white",
            "gridwidth": 2,
            "linecolor": "white",
            "showbackground": true,
            "ticks": "",
            "zerolinecolor": "white"
           },
           "zaxis": {
            "backgroundcolor": "#E5ECF6",
            "gridcolor": "white",
            "gridwidth": 2,
            "linecolor": "white",
            "showbackground": true,
            "ticks": "",
            "zerolinecolor": "white"
           }
          },
          "shapedefaults": {
           "line": {
            "color": "#2a3f5f"
           }
          },
          "ternary": {
           "aaxis": {
            "gridcolor": "white",
            "linecolor": "white",
            "ticks": ""
           },
           "baxis": {
            "gridcolor": "white",
            "linecolor": "white",
            "ticks": ""
           },
           "bgcolor": "#E5ECF6",
           "caxis": {
            "gridcolor": "white",
            "linecolor": "white",
            "ticks": ""
           }
          },
          "title": {
           "x": 0.05
          },
          "xaxis": {
           "automargin": true,
           "gridcolor": "white",
           "linecolor": "white",
           "ticks": "",
           "title": {
            "standoff": 15
           },
           "zerolinecolor": "white",
           "zerolinewidth": 2
          },
          "yaxis": {
           "automargin": true,
           "gridcolor": "white",
           "linecolor": "white",
           "ticks": "",
           "title": {
            "standoff": 15
           },
           "zerolinecolor": "white",
           "zerolinewidth": 2
          }
         }
        }
       }
      }
     },
     "metadata": {}
    }
   ],
   "source": [
    "# Plots a world map with country boundaries and Fuchsia colored dots representing court cases.\n",
    "# TO DO - Make it so dot's dont overlap but instead show dropdown menu(?), all cases(?) on the dot.\n",
    "# A new GEOPANDAS api needs to be made so that the countries show up in all english.\n",
    "# geopandas link - https://geopandas.org/getting_started.html\n",
    "\n",
    "fig = px.scatter_mapbox(data, lat=\"Latitude\", lon=\"Longitude\", hover_name=\"Case ID\", hover_data=[\"Judge's Name\", \"Hearing Date\", \"Country\"],\n",
    "                        color_discrete_sequence=[\"fuchsia\"], zoom=3, height=300)\n",
    "fig.update_layout(mapbox_style=\"open-street-map\")\n",
    "fig.update_layout(margin={\"r\":0,\"t\":0,\"l\":0,\"b\":0})\n",
    "fig.show()"
   ]
  },
  {
   "cell_type": "code",
   "execution_count": 45,
   "metadata": {},
   "outputs": [
    {
     "output_type": "display_data",
     "data": {
      "application/vnd.plotly.v1+json": {
       "config": {
        "plotlyServerURL": "https://plot.ly"
       },
       "data": [
        {
         "colorscale": [
          [
           0,
           "#636efa"
          ],
          [
           1,
           "#636efa"
          ]
         ],
         "geo": "geo",
         "hovertemplate": "<b>%{hovertext}</b><br><br>Protected Ground=Social Group<br>Iso=%{location}<extra></extra>",
         "hovertext": [
          "Honduras",
          "Honduras",
          "El Salvador",
          "El Salvador",
          "El Salvador",
          "Honduras",
          "Honduras",
          "Honduras",
          "El Salvador",
          "El Salvador",
          "El Salvador",
          "El Salvador",
          "El Salvador",
          "Nicaragua",
          "Honduras",
          "Guatemala",
          "Ethiopia",
          "Honduras",
          "Honduras",
          "Honduras",
          "Honduras",
          "El Salvador"
         ],
         "locations": [
          "HND",
          "HND",
          "SLV",
          "SLV",
          "SLV",
          "HND",
          "HND",
          "HND",
          "SLV",
          "SLV",
          "SLV",
          "SLV",
          "SLV",
          "NIC",
          "HND",
          "GTM",
          "ETH",
          "HND",
          "HND",
          "HND",
          "HND",
          "SLV"
         ],
         "name": "Social Group",
         "showlegend": true,
         "showscale": false,
         "type": "choropleth",
         "z": [
          1,
          1,
          1,
          1,
          1,
          1,
          1,
          1,
          1,
          1,
          1,
          1,
          1,
          1,
          1,
          1,
          1,
          1,
          1,
          1,
          1,
          1
         ]
        },
        {
         "colorscale": [
          [
           0,
           "#EF553B"
          ],
          [
           1,
           "#EF553B"
          ]
         ],
         "geo": "geo",
         "hovertemplate": "<b>%{hovertext}</b><br><br>Protected Ground=Political Opinion<br>Iso=%{location}<extra></extra>",
         "hovertext": [
          "Eritrea",
          "Congo, Democratic Republic of (Congo-Kinshasa)",
          "Eritrea",
          "Ethiopia",
          "Cameroon"
         ],
         "locations": [
          "ERI",
          "COD",
          "ERI",
          "ETH ",
          "CMR"
         ],
         "name": "Political Opinion",
         "showlegend": true,
         "showscale": false,
         "type": "choropleth",
         "z": [
          1,
          1,
          1,
          1,
          1
         ]
        },
        {
         "colorscale": [
          [
           0,
           "#00cc96"
          ],
          [
           1,
           "#00cc96"
          ]
         ],
         "geo": "geo",
         "hovertemplate": "<b>%{hovertext}</b><br><br>Protected Ground=Nationality, Social Group<br>Iso=%{location}<extra></extra>",
         "hovertext": [
          "El Salvador",
          "Honduras",
          "El Salvador",
          "El Salvador",
          "El Salvador",
          "El Salvador",
          "Honduras"
         ],
         "locations": [
          "SLV",
          "HND",
          "SLV",
          "SLV",
          "SLV",
          "SLV",
          "HND"
         ],
         "name": "Nationality, Social Group",
         "showlegend": true,
         "showscale": false,
         "type": "choropleth",
         "z": [
          1,
          1,
          1,
          1,
          1,
          1,
          1
         ]
        },
        {
         "colorscale": [
          [
           0,
           "#ab63fa"
          ],
          [
           1,
           "#ab63fa"
          ]
         ],
         "geo": "geo",
         "hovertemplate": "<b>%{hovertext}</b><br><br>Protected Ground=Nationality, Political Opinion, Social Group<br>Iso=%{location}<extra></extra>",
         "hovertext": [
          "El Salvador",
          "El Salvador",
          "Belarus",
          "Honduras"
         ],
         "locations": [
          "SLV",
          "SLV",
          "BLR",
          "HND"
         ],
         "name": "Nationality, Political Opinion, Social Group",
         "showlegend": true,
         "showscale": false,
         "type": "choropleth",
         "z": [
          1,
          1,
          1,
          1
         ]
        },
        {
         "colorscale": [
          [
           0,
           "#FFA15A"
          ],
          [
           1,
           "#FFA15A"
          ]
         ],
         "geo": "geo",
         "hovertemplate": "<b>%{hovertext}</b><br><br>Protected Ground=Nationality, Political Opinion, Race, Religion<br>Iso=%{location}<extra></extra>",
         "hovertext": [
          "China",
          "China"
         ],
         "locations": [
          "CHN",
          "CHN"
         ],
         "name": "Nationality, Political Opinion, Race, Religion",
         "showlegend": true,
         "showscale": false,
         "type": "choropleth",
         "z": [
          1,
          1
         ]
        },
        {
         "colorscale": [
          [
           0,
           "#19d3f3"
          ],
          [
           1,
           "#19d3f3"
          ]
         ],
         "geo": "geo",
         "hovertemplate": "<b>%{hovertext}</b><br><br>Protected Ground=Religion<br>Iso=%{location}<extra></extra>",
         "hovertext": [
          "Eritrea",
          "Eritrea",
          "Egypt"
         ],
         "locations": [
          "ERI",
          "ERI",
          "EGY"
         ],
         "name": "Religion",
         "showlegend": true,
         "showscale": false,
         "type": "choropleth",
         "z": [
          1,
          1,
          1
         ]
        },
        {
         "colorscale": [
          [
           0,
           "#FF6692"
          ],
          [
           1,
           "#FF6692"
          ]
         ],
         "geo": "geo",
         "hovertemplate": "<b>%{hovertext}</b><br><br>Protected Ground=Religion, Social Group<br>Iso=%{location}<extra></extra>",
         "hovertext": [
          "El Salvador"
         ],
         "locations": [
          "SLV"
         ],
         "name": "Religion, Social Group",
         "showlegend": true,
         "showscale": false,
         "type": "choropleth",
         "z": [
          1
         ]
        },
        {
         "colorscale": [
          [
           0,
           "#B6E880"
          ],
          [
           1,
           "#B6E880"
          ]
         ],
         "geo": "geo",
         "hovertemplate": "<b>%{hovertext}</b><br><br>Protected Ground=Nationality, Political Opinion<br>Iso=%{location}<extra></extra>",
         "hovertext": [
          "Cameroon"
         ],
         "locations": [
          "CMR"
         ],
         "name": "Nationality, Political Opinion",
         "showlegend": true,
         "showscale": false,
         "type": "choropleth",
         "z": [
          1
         ]
        },
        {
         "colorscale": [
          [
           0,
           "#FF97FF"
          ],
          [
           1,
           "#FF97FF"
          ]
         ],
         "geo": "geo",
         "hovertemplate": "<b>%{hovertext}</b><br><br>Protected Ground=None<br>Iso=%{location}<extra></extra>",
         "hovertext": [
          "Honduras"
         ],
         "locations": [
          "HND"
         ],
         "name": "None",
         "showlegend": true,
         "showscale": false,
         "type": "choropleth",
         "z": [
          1
         ]
        }
       ],
       "layout": {
        "geo": {
         "center": {},
         "coastlinecolor": "RebeccaPurple",
         "countrycolor": "RebeccaPurple",
         "domain": {
          "x": [
           0,
           1
          ],
          "y": [
           0,
           1
          ]
         },
         "lakecolor": "LightBlue",
         "landcolor": "LightGreen",
         "oceancolor": "LightBlue",
         "resolution": 50,
         "rivercolor": "Blue",
         "showcoastlines": true,
         "showcountries": true,
         "showlakes": true,
         "showland": true,
         "showocean": true,
         "showrivers": false
        },
        "height": 300,
        "legend": {
         "title": {
          "text": "Protected Ground"
         },
         "tracegroupgap": 0
        },
        "margin": {
         "b": 0,
         "l": 0,
         "r": 0,
         "t": 0
        },
        "template": {
         "data": {
          "bar": [
           {
            "error_x": {
             "color": "#2a3f5f"
            },
            "error_y": {
             "color": "#2a3f5f"
            },
            "marker": {
             "line": {
              "color": "#E5ECF6",
              "width": 0.5
             }
            },
            "type": "bar"
           }
          ],
          "barpolar": [
           {
            "marker": {
             "line": {
              "color": "#E5ECF6",
              "width": 0.5
             }
            },
            "type": "barpolar"
           }
          ],
          "carpet": [
           {
            "aaxis": {
             "endlinecolor": "#2a3f5f",
             "gridcolor": "white",
             "linecolor": "white",
             "minorgridcolor": "white",
             "startlinecolor": "#2a3f5f"
            },
            "baxis": {
             "endlinecolor": "#2a3f5f",
             "gridcolor": "white",
             "linecolor": "white",
             "minorgridcolor": "white",
             "startlinecolor": "#2a3f5f"
            },
            "type": "carpet"
           }
          ],
          "choropleth": [
           {
            "colorbar": {
             "outlinewidth": 0,
             "ticks": ""
            },
            "type": "choropleth"
           }
          ],
          "contour": [
           {
            "colorbar": {
             "outlinewidth": 0,
             "ticks": ""
            },
            "colorscale": [
             [
              0,
              "#0d0887"
             ],
             [
              0.1111111111111111,
              "#46039f"
             ],
             [
              0.2222222222222222,
              "#7201a8"
             ],
             [
              0.3333333333333333,
              "#9c179e"
             ],
             [
              0.4444444444444444,
              "#bd3786"
             ],
             [
              0.5555555555555556,
              "#d8576b"
             ],
             [
              0.6666666666666666,
              "#ed7953"
             ],
             [
              0.7777777777777778,
              "#fb9f3a"
             ],
             [
              0.8888888888888888,
              "#fdca26"
             ],
             [
              1,
              "#f0f921"
             ]
            ],
            "type": "contour"
           }
          ],
          "contourcarpet": [
           {
            "colorbar": {
             "outlinewidth": 0,
             "ticks": ""
            },
            "type": "contourcarpet"
           }
          ],
          "heatmap": [
           {
            "colorbar": {
             "outlinewidth": 0,
             "ticks": ""
            },
            "colorscale": [
             [
              0,
              "#0d0887"
             ],
             [
              0.1111111111111111,
              "#46039f"
             ],
             [
              0.2222222222222222,
              "#7201a8"
             ],
             [
              0.3333333333333333,
              "#9c179e"
             ],
             [
              0.4444444444444444,
              "#bd3786"
             ],
             [
              0.5555555555555556,
              "#d8576b"
             ],
             [
              0.6666666666666666,
              "#ed7953"
             ],
             [
              0.7777777777777778,
              "#fb9f3a"
             ],
             [
              0.8888888888888888,
              "#fdca26"
             ],
             [
              1,
              "#f0f921"
             ]
            ],
            "type": "heatmap"
           }
          ],
          "heatmapgl": [
           {
            "colorbar": {
             "outlinewidth": 0,
             "ticks": ""
            },
            "colorscale": [
             [
              0,
              "#0d0887"
             ],
             [
              0.1111111111111111,
              "#46039f"
             ],
             [
              0.2222222222222222,
              "#7201a8"
             ],
             [
              0.3333333333333333,
              "#9c179e"
             ],
             [
              0.4444444444444444,
              "#bd3786"
             ],
             [
              0.5555555555555556,
              "#d8576b"
             ],
             [
              0.6666666666666666,
              "#ed7953"
             ],
             [
              0.7777777777777778,
              "#fb9f3a"
             ],
             [
              0.8888888888888888,
              "#fdca26"
             ],
             [
              1,
              "#f0f921"
             ]
            ],
            "type": "heatmapgl"
           }
          ],
          "histogram": [
           {
            "marker": {
             "colorbar": {
              "outlinewidth": 0,
              "ticks": ""
             }
            },
            "type": "histogram"
           }
          ],
          "histogram2d": [
           {
            "colorbar": {
             "outlinewidth": 0,
             "ticks": ""
            },
            "colorscale": [
             [
              0,
              "#0d0887"
             ],
             [
              0.1111111111111111,
              "#46039f"
             ],
             [
              0.2222222222222222,
              "#7201a8"
             ],
             [
              0.3333333333333333,
              "#9c179e"
             ],
             [
              0.4444444444444444,
              "#bd3786"
             ],
             [
              0.5555555555555556,
              "#d8576b"
             ],
             [
              0.6666666666666666,
              "#ed7953"
             ],
             [
              0.7777777777777778,
              "#fb9f3a"
             ],
             [
              0.8888888888888888,
              "#fdca26"
             ],
             [
              1,
              "#f0f921"
             ]
            ],
            "type": "histogram2d"
           }
          ],
          "histogram2dcontour": [
           {
            "colorbar": {
             "outlinewidth": 0,
             "ticks": ""
            },
            "colorscale": [
             [
              0,
              "#0d0887"
             ],
             [
              0.1111111111111111,
              "#46039f"
             ],
             [
              0.2222222222222222,
              "#7201a8"
             ],
             [
              0.3333333333333333,
              "#9c179e"
             ],
             [
              0.4444444444444444,
              "#bd3786"
             ],
             [
              0.5555555555555556,
              "#d8576b"
             ],
             [
              0.6666666666666666,
              "#ed7953"
             ],
             [
              0.7777777777777778,
              "#fb9f3a"
             ],
             [
              0.8888888888888888,
              "#fdca26"
             ],
             [
              1,
              "#f0f921"
             ]
            ],
            "type": "histogram2dcontour"
           }
          ],
          "mesh3d": [
           {
            "colorbar": {
             "outlinewidth": 0,
             "ticks": ""
            },
            "type": "mesh3d"
           }
          ],
          "parcoords": [
           {
            "line": {
             "colorbar": {
              "outlinewidth": 0,
              "ticks": ""
             }
            },
            "type": "parcoords"
           }
          ],
          "pie": [
           {
            "automargin": true,
            "type": "pie"
           }
          ],
          "scatter": [
           {
            "marker": {
             "colorbar": {
              "outlinewidth": 0,
              "ticks": ""
             }
            },
            "type": "scatter"
           }
          ],
          "scatter3d": [
           {
            "line": {
             "colorbar": {
              "outlinewidth": 0,
              "ticks": ""
             }
            },
            "marker": {
             "colorbar": {
              "outlinewidth": 0,
              "ticks": ""
             }
            },
            "type": "scatter3d"
           }
          ],
          "scattercarpet": [
           {
            "marker": {
             "colorbar": {
              "outlinewidth": 0,
              "ticks": ""
             }
            },
            "type": "scattercarpet"
           }
          ],
          "scattergeo": [
           {
            "marker": {
             "colorbar": {
              "outlinewidth": 0,
              "ticks": ""
             }
            },
            "type": "scattergeo"
           }
          ],
          "scattergl": [
           {
            "marker": {
             "colorbar": {
              "outlinewidth": 0,
              "ticks": ""
             }
            },
            "type": "scattergl"
           }
          ],
          "scattermapbox": [
           {
            "marker": {
             "colorbar": {
              "outlinewidth": 0,
              "ticks": ""
             }
            },
            "type": "scattermapbox"
           }
          ],
          "scatterpolar": [
           {
            "marker": {
             "colorbar": {
              "outlinewidth": 0,
              "ticks": ""
             }
            },
            "type": "scatterpolar"
           }
          ],
          "scatterpolargl": [
           {
            "marker": {
             "colorbar": {
              "outlinewidth": 0,
              "ticks": ""
             }
            },
            "type": "scatterpolargl"
           }
          ],
          "scatterternary": [
           {
            "marker": {
             "colorbar": {
              "outlinewidth": 0,
              "ticks": ""
             }
            },
            "type": "scatterternary"
           }
          ],
          "surface": [
           {
            "colorbar": {
             "outlinewidth": 0,
             "ticks": ""
            },
            "colorscale": [
             [
              0,
              "#0d0887"
             ],
             [
              0.1111111111111111,
              "#46039f"
             ],
             [
              0.2222222222222222,
              "#7201a8"
             ],
             [
              0.3333333333333333,
              "#9c179e"
             ],
             [
              0.4444444444444444,
              "#bd3786"
             ],
             [
              0.5555555555555556,
              "#d8576b"
             ],
             [
              0.6666666666666666,
              "#ed7953"
             ],
             [
              0.7777777777777778,
              "#fb9f3a"
             ],
             [
              0.8888888888888888,
              "#fdca26"
             ],
             [
              1,
              "#f0f921"
             ]
            ],
            "type": "surface"
           }
          ],
          "table": [
           {
            "cells": {
             "fill": {
              "color": "#EBF0F8"
             },
             "line": {
              "color": "white"
             }
            },
            "header": {
             "fill": {
              "color": "#C8D4E3"
             },
             "line": {
              "color": "white"
             }
            },
            "type": "table"
           }
          ]
         },
         "layout": {
          "annotationdefaults": {
           "arrowcolor": "#2a3f5f",
           "arrowhead": 0,
           "arrowwidth": 1
          },
          "autotypenumbers": "strict",
          "coloraxis": {
           "colorbar": {
            "outlinewidth": 0,
            "ticks": ""
           }
          },
          "colorscale": {
           "diverging": [
            [
             0,
             "#8e0152"
            ],
            [
             0.1,
             "#c51b7d"
            ],
            [
             0.2,
             "#de77ae"
            ],
            [
             0.3,
             "#f1b6da"
            ],
            [
             0.4,
             "#fde0ef"
            ],
            [
             0.5,
             "#f7f7f7"
            ],
            [
             0.6,
             "#e6f5d0"
            ],
            [
             0.7,
             "#b8e186"
            ],
            [
             0.8,
             "#7fbc41"
            ],
            [
             0.9,
             "#4d9221"
            ],
            [
             1,
             "#276419"
            ]
           ],
           "sequential": [
            [
             0,
             "#0d0887"
            ],
            [
             0.1111111111111111,
             "#46039f"
            ],
            [
             0.2222222222222222,
             "#7201a8"
            ],
            [
             0.3333333333333333,
             "#9c179e"
            ],
            [
             0.4444444444444444,
             "#bd3786"
            ],
            [
             0.5555555555555556,
             "#d8576b"
            ],
            [
             0.6666666666666666,
             "#ed7953"
            ],
            [
             0.7777777777777778,
             "#fb9f3a"
            ],
            [
             0.8888888888888888,
             "#fdca26"
            ],
            [
             1,
             "#f0f921"
            ]
           ],
           "sequentialminus": [
            [
             0,
             "#0d0887"
            ],
            [
             0.1111111111111111,
             "#46039f"
            ],
            [
             0.2222222222222222,
             "#7201a8"
            ],
            [
             0.3333333333333333,
             "#9c179e"
            ],
            [
             0.4444444444444444,
             "#bd3786"
            ],
            [
             0.5555555555555556,
             "#d8576b"
            ],
            [
             0.6666666666666666,
             "#ed7953"
            ],
            [
             0.7777777777777778,
             "#fb9f3a"
            ],
            [
             0.8888888888888888,
             "#fdca26"
            ],
            [
             1,
             "#f0f921"
            ]
           ]
          },
          "colorway": [
           "#636efa",
           "#EF553B",
           "#00cc96",
           "#ab63fa",
           "#FFA15A",
           "#19d3f3",
           "#FF6692",
           "#B6E880",
           "#FF97FF",
           "#FECB52"
          ],
          "font": {
           "color": "#2a3f5f"
          },
          "geo": {
           "bgcolor": "white",
           "lakecolor": "white",
           "landcolor": "#E5ECF6",
           "showlakes": true,
           "showland": true,
           "subunitcolor": "white"
          },
          "hoverlabel": {
           "align": "left"
          },
          "hovermode": "closest",
          "mapbox": {
           "style": "light"
          },
          "paper_bgcolor": "white",
          "plot_bgcolor": "#E5ECF6",
          "polar": {
           "angularaxis": {
            "gridcolor": "white",
            "linecolor": "white",
            "ticks": ""
           },
           "bgcolor": "#E5ECF6",
           "radialaxis": {
            "gridcolor": "white",
            "linecolor": "white",
            "ticks": ""
           }
          },
          "scene": {
           "xaxis": {
            "backgroundcolor": "#E5ECF6",
            "gridcolor": "white",
            "gridwidth": 2,
            "linecolor": "white",
            "showbackground": true,
            "ticks": "",
            "zerolinecolor": "white"
           },
           "yaxis": {
            "backgroundcolor": "#E5ECF6",
            "gridcolor": "white",
            "gridwidth": 2,
            "linecolor": "white",
            "showbackground": true,
            "ticks": "",
            "zerolinecolor": "white"
           },
           "zaxis": {
            "backgroundcolor": "#E5ECF6",
            "gridcolor": "white",
            "gridwidth": 2,
            "linecolor": "white",
            "showbackground": true,
            "ticks": "",
            "zerolinecolor": "white"
           }
          },
          "shapedefaults": {
           "line": {
            "color": "#2a3f5f"
           }
          },
          "ternary": {
           "aaxis": {
            "gridcolor": "white",
            "linecolor": "white",
            "ticks": ""
           },
           "baxis": {
            "gridcolor": "white",
            "linecolor": "white",
            "ticks": ""
           },
           "bgcolor": "#E5ECF6",
           "caxis": {
            "gridcolor": "white",
            "linecolor": "white",
            "ticks": ""
           }
          },
          "title": {
           "x": 0.05
          },
          "xaxis": {
           "automargin": true,
           "gridcolor": "white",
           "linecolor": "white",
           "ticks": "",
           "title": {
            "standoff": 15
           },
           "zerolinecolor": "white",
           "zerolinewidth": 2
          },
          "yaxis": {
           "automargin": true,
           "gridcolor": "white",
           "linecolor": "white",
           "ticks": "",
           "title": {
            "standoff": 15
           },
           "zerolinecolor": "white",
           "zerolinewidth": 2
          }
         }
        }
       }
      }
     },
     "metadata": {}
    }
   ],
   "source": [
    "# Plots a world map and colors in countries according to \"Protected Ground\"\n",
    "# TO DO- Show how many of each protected ground per country. Main color is the larges Protected Ground.\n",
    "\n",
    "import plotly.graph_objects as go\n",
    "\n",
    "\n",
    "fig = px.choropleth(data, locations=\"Iso\",\n",
    "                    color=\"Protected Ground\", # shows the protected ground as the color\n",
    "                    hover_name=\"Country\", # hovering over the country will show its name\n",
    "                    color_continuous_scale=px.colors.sequential.Plasma)\n",
    "\n",
    "#This draws the world map                    \n",
    "fig.update_geos(\n",
    "    resolution=50,\n",
    "    showcountries=True, countrycolor=\"RebeccaPurple\",\n",
    "    showcoastlines=True, coastlinecolor=\"RebeccaPurple\",\n",
    "    showland=True, landcolor=\"LightGreen\",\n",
    "    showocean=True, oceancolor=\"LightBlue\",\n",
    "    showlakes=True, lakecolor=\"LightBlue\",\n",
    "    showrivers=False, rivercolor=\"Blue\",\n",
    ")\n",
    "\n",
    "fig.update_layout(height=300, margin={\"r\":0,\"t\":0,\"l\":0,\"b\":0})\n",
    "fig.show()"
   ]
  },
  {
   "cell_type": "code",
   "execution_count": null,
   "metadata": {},
   "outputs": [],
   "source": []
  }
 ]
}