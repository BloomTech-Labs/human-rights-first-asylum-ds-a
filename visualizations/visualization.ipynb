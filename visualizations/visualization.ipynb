{
  "nbformat": 4,
  "nbformat_minor": 2,
  "metadata": {
    "colab": {
      "name": "visualization.ipynb",
      "provenance": [],
      "collapsed_sections": []
    },
    "kernelspec": {
      "name": "python3",
      "display_name": "Python 3.8.8 64-bit ('base': conda)"
    },
    "language_info": {
      "name": "python",
      "version": "3.8.8",
      "mimetype": "text/x-python",
      "codemirror_mode": {
        "name": "ipython",
        "version": 3
      },
      "pygments_lexer": "ipython3",
      "nbconvert_exporter": "python",
      "file_extension": ".py"
    },
    "interpreter": {
      "hash": "3f8956436d8ce59f668ff26075b9e4d053dba06b7526eb5909008814682cd7e3"
    }
  },
  "cells": [
    {
      "cell_type": "code",
      "execution_count": 9,
      "source": [
        "import pandas as pd\r\n",
        "\r\n",
        "df = pd.read_csv('https://raw.githubusercontent.com/evanpersonalbiz/labs34-demo/main/notebooks/manually_scrapped.csv')\r\n",
        "\r\n",
        "print(df.shape)\r\n",
        "df.head()"
      ],
      "outputs": [
        {
          "output_type": "stream",
          "name": "stdout",
          "text": [
            "(170, 23)\n"
          ]
        },
        {
          "output_type": "execute_result",
          "data": {
            "text/html": [
              "<div>\n",
              "<style scoped>\n",
              "    .dataframe tbody tr th:only-of-type {\n",
              "        vertical-align: middle;\n",
              "    }\n",
              "\n",
              "    .dataframe tbody tr th {\n",
              "        vertical-align: top;\n",
              "    }\n",
              "\n",
              "    .dataframe thead th {\n",
              "        text-align: right;\n",
              "    }\n",
              "</style>\n",
              "<table border=\"1\" class=\"dataframe\">\n",
              "  <thead>\n",
              "    <tr style=\"text-align: right;\">\n",
              "      <th></th>\n",
              "      <th>Unnamed: 0</th>\n",
              "      <th>UUID</th>\n",
              "      <th>AWS link</th>\n",
              "      <th>YOUR NAME HERE</th>\n",
              "      <th>application</th>\n",
              "      <th>date xx/xx/xxxx</th>\n",
              "      <th>country of origin</th>\n",
              "      <th>panel members</th>\n",
              "      <th>outcome</th>\n",
              "      <th>protected grounds</th>\n",
              "      <th>...</th>\n",
              "      <th>gender</th>\n",
              "      <th>indigenous</th>\n",
              "      <th>applicant language</th>\n",
              "      <th>credibility</th>\n",
              "      <th>check for one year</th>\n",
              "      <th>city of origin</th>\n",
              "      <th>state of origin</th>\n",
              "      <th>notes/ random</th>\n",
              "      <th>Unnamed: 21</th>\n",
              "      <th>Unnamed: 22</th>\n",
              "    </tr>\n",
              "  </thead>\n",
              "  <tbody>\n",
              "    <tr>\n",
              "      <th>0</th>\n",
              "      <td>0</td>\n",
              "      <td>140194281-Ali-Fares-A047-654-200-BIA-Apr-30-20...</td>\n",
              "      <td>https://hrf-asylum-cases.s3.amazonaws.com/1401...</td>\n",
              "      <td>Francis</td>\n",
              "      <td>Waiver of removability</td>\n",
              "      <td>04/30/2013</td>\n",
              "      <td>Tunisia</td>\n",
              "      <td>Creppy, Michael J.</td>\n",
              "      <td>Dismissed</td>\n",
              "      <td>NaN</td>\n",
              "      <td>...</td>\n",
              "      <td>Male</td>\n",
              "      <td>NaN</td>\n",
              "      <td>NaN</td>\n",
              "      <td>0</td>\n",
              "      <td>0</td>\n",
              "      <td>Honolulu</td>\n",
              "      <td>HI</td>\n",
              "      <td>NaN</td>\n",
              "      <td>NaN</td>\n",
              "      <td>NaN</td>\n",
              "    </tr>\n",
              "    <tr>\n",
              "      <th>1</th>\n",
              "      <td>1</td>\n",
              "      <td>165227167-K-O-A-BIA-Aug-27-2013.pdf</td>\n",
              "      <td>https://hrf-asylum-cases.s3.amazonaws.com/1652...</td>\n",
              "      <td>Francis</td>\n",
              "      <td>Asylum; withholding of removal; Convention Aga...</td>\n",
              "      <td>08/27/2013</td>\n",
              "      <td>Ghana</td>\n",
              "      <td>Pauley, Roger; Wendtland, Linda S.; Donovan, T...</td>\n",
              "      <td>Sustained</td>\n",
              "      <td>Social, Political</td>\n",
              "      <td>...</td>\n",
              "      <td>Male</td>\n",
              "      <td>NaN</td>\n",
              "      <td>NaN</td>\n",
              "      <td>1</td>\n",
              "      <td>1</td>\n",
              "      <td>Elizabeth</td>\n",
              "      <td>NJ</td>\n",
              "      <td>NaN</td>\n",
              "      <td>NaN</td>\n",
              "      <td>NaN</td>\n",
              "    </tr>\n",
              "    <tr>\n",
              "      <th>2</th>\n",
              "      <td>2</td>\n",
              "      <td>171952033-Luis-Narciso-Sedeno-Trujillo-A088-19...</td>\n",
              "      <td>https://hrf-asylum-cases.s3.amazonaws.com/1719...</td>\n",
              "      <td>Francis</td>\n",
              "      <td>Termination</td>\n",
              "      <td>9/22/2010</td>\n",
              "      <td>NaN</td>\n",
              "      <td>Greer, Anne J.; Pauley, Roger; Wendtland, Lind...</td>\n",
              "      <td>Sustained</td>\n",
              "      <td>NaN</td>\n",
              "      <td>...</td>\n",
              "      <td>Female</td>\n",
              "      <td>NaN</td>\n",
              "      <td>NaN</td>\n",
              "      <td>0</td>\n",
              "      <td>0</td>\n",
              "      <td>Hartford</td>\n",
              "      <td>CT</td>\n",
              "      <td>NaN</td>\n",
              "      <td>NaN</td>\n",
              "      <td>NaN</td>\n",
              "    </tr>\n",
              "    <tr>\n",
              "      <th>3</th>\n",
              "      <td>3</td>\n",
              "      <td>175361890-Jose-Zacaria-Quinteros-A088-239-850-...</td>\n",
              "      <td>https://hrf-asylum-cases.s3.amazonaws.com/1753...</td>\n",
              "      <td>Francis</td>\n",
              "      <td>Suppression, termination, voluntary depa</td>\n",
              "      <td>03/31/2011</td>\n",
              "      <td>Honduras</td>\n",
              "      <td>Greer, Anne J.; Pauley, Roger; Wendtland, Lind...</td>\n",
              "      <td>Denied</td>\n",
              "      <td>NaN</td>\n",
              "      <td>...</td>\n",
              "      <td>Male</td>\n",
              "      <td>NaN</td>\n",
              "      <td>NaN</td>\n",
              "      <td>0</td>\n",
              "      <td>0</td>\n",
              "      <td>Memphis</td>\n",
              "      <td>TN</td>\n",
              "      <td>NaN</td>\n",
              "      <td>NaN</td>\n",
              "      <td>NaN</td>\n",
              "    </tr>\n",
              "    <tr>\n",
              "      <th>4</th>\n",
              "      <td>4</td>\n",
              "      <td>202216334-Francisco-Hernandez-Pina-A073-976-63...</td>\n",
              "      <td>https://hrf-asylum-cases.s3.amazonaws.com/2022...</td>\n",
              "      <td>Francis</td>\n",
              "      <td>Special rule cancellation of removal; cancella...</td>\n",
              "      <td>01/19/2012</td>\n",
              "      <td>Mexico</td>\n",
              "      <td>Cole, Patricia A.; Greer, Anne J.; Pauley, Roger</td>\n",
              "      <td>Sustained</td>\n",
              "      <td>NaN</td>\n",
              "      <td>...</td>\n",
              "      <td>Male</td>\n",
              "      <td>NaN</td>\n",
              "      <td>NaN</td>\n",
              "      <td>1</td>\n",
              "      <td>0</td>\n",
              "      <td>Los Angeles</td>\n",
              "      <td>CA</td>\n",
              "      <td>NaN</td>\n",
              "      <td>NaN</td>\n",
              "      <td>NaN</td>\n",
              "    </tr>\n",
              "  </tbody>\n",
              "</table>\n",
              "<p>5 rows × 23 columns</p>\n",
              "</div>"
            ],
            "text/plain": [
              "   Unnamed: 0                                               UUID  \\\n",
              "0           0  140194281-Ali-Fares-A047-654-200-BIA-Apr-30-20...   \n",
              "1           1                165227167-K-O-A-BIA-Aug-27-2013.pdf   \n",
              "2           2  171952033-Luis-Narciso-Sedeno-Trujillo-A088-19...   \n",
              "3           3  175361890-Jose-Zacaria-Quinteros-A088-239-850-...   \n",
              "4           4  202216334-Francisco-Hernandez-Pina-A073-976-63...   \n",
              "\n",
              "                                            AWS link YOUR NAME HERE  \\\n",
              "0  https://hrf-asylum-cases.s3.amazonaws.com/1401...        Francis   \n",
              "1  https://hrf-asylum-cases.s3.amazonaws.com/1652...        Francis   \n",
              "2  https://hrf-asylum-cases.s3.amazonaws.com/1719...        Francis   \n",
              "3  https://hrf-asylum-cases.s3.amazonaws.com/1753...        Francis   \n",
              "4  https://hrf-asylum-cases.s3.amazonaws.com/2022...        Francis   \n",
              "\n",
              "                                         application date xx/xx/xxxx  \\\n",
              "0                             Waiver of removability      04/30/2013   \n",
              "1  Asylum; withholding of removal; Convention Aga...      08/27/2013   \n",
              "2                                        Termination       9/22/2010   \n",
              "3           Suppression, termination, voluntary depa      03/31/2011   \n",
              "4  Special rule cancellation of removal; cancella...      01/19/2012   \n",
              "\n",
              "  country of origin                                      panel members  \\\n",
              "0           Tunisia                                 Creppy, Michael J.   \n",
              "1             Ghana  Pauley, Roger; Wendtland, Linda S.; Donovan, T...   \n",
              "2               NaN  Greer, Anne J.; Pauley, Roger; Wendtland, Lind...   \n",
              "3          Honduras  Greer, Anne J.; Pauley, Roger; Wendtland, Lind...   \n",
              "4            Mexico   Cole, Patricia A.; Greer, Anne J.; Pauley, Roger   \n",
              "\n",
              "     outcome  protected grounds  ...  gender indigenous applicant language  \\\n",
              "0  Dismissed                NaN  ...    Male        NaN                NaN   \n",
              "1  Sustained  Social, Political  ...    Male        NaN                NaN   \n",
              "2  Sustained                NaN  ...  Female        NaN                NaN   \n",
              "3     Denied                NaN  ...    Male        NaN                NaN   \n",
              "4  Sustained                NaN  ...    Male        NaN                NaN   \n",
              "\n",
              "  credibility  check for one year city of origin state of origin  \\\n",
              "0           0                   0       Honolulu              HI   \n",
              "1           1                   1      Elizabeth              NJ   \n",
              "2           0                   0       Hartford              CT   \n",
              "3           0                   0        Memphis              TN   \n",
              "4           1                   0    Los Angeles              CA   \n",
              "\n",
              "  notes/ random Unnamed: 21 Unnamed: 22  \n",
              "0           NaN         NaN         NaN  \n",
              "1           NaN         NaN         NaN  \n",
              "2           NaN         NaN         NaN  \n",
              "3           NaN         NaN         NaN  \n",
              "4           NaN         NaN         NaN  \n",
              "\n",
              "[5 rows x 23 columns]"
            ]
          },
          "metadata": {},
          "execution_count": 9
        }
      ],
      "metadata": {
        "colab": {
          "base_uri": "https://localhost:8080/",
          "height": 1000
        },
        "id": "uTKvd03OiD3h",
        "outputId": "5c73da2f-9aed-4f95-f523-8fbb061a4e42"
      }
    },
    {
      "cell_type": "code",
      "execution_count": 2,
      "source": [
        "new = df['panel members']\r\n",
        "new"
      ],
      "outputs": [
        {
          "output_type": "execute_result",
          "data": {
            "text/plain": [
              "0                                     Creppy, Michael J.\n",
              "1      Pauley, Roger; Wendtland, Linda S.; Donovan, T...\n",
              "2      Greer, Anne J.; Pauley, Roger; Wendtland, Lind...\n",
              "3      Greer, Anne J.; Pauley, Roger; Wendtland, Lind...\n",
              "4       Cole, Patricia A.; Greer, Anne J.; Pauley, Roger\n",
              "                             ...                        \n",
              "165    O'Connor, Blair Wilson, Earle 8. Donovan, Tere...\n",
              "166    Creppy, Michael J. MONSKY,MEGANFOOTE Hunsucker...\n",
              "167    Grant, Edward R. Goodwin, Deborah K. Donovan, ...\n",
              "168                                    MONSKY,MEGANFOOTE\n",
              "169    Goodwin, Deborah K. Greer, Anne J. Donovan, Te...\n",
              "Name: panel members, Length: 170, dtype: object"
            ]
          },
          "metadata": {},
          "execution_count": 2
        }
      ],
      "metadata": {
        "colab": {
          "base_uri": "https://localhost:8080/"
        },
        "id": "LZ366c6P9ca3",
        "outputId": "ecdbcdc6-41d1-4c17-ea74-175f40720c15"
      }
    },
    {
      "cell_type": "code",
      "execution_count": 3,
      "source": [
        "new.to_csv('judges.csv')"
      ],
      "outputs": [],
      "metadata": {
        "id": "E0qR0MvfBGbp"
      }
    },
    {
      "cell_type": "code",
      "execution_count": 4,
      "source": [
        "import pandas as pd\r\n",
        "\r\n",
        "judges = pd.read_csv('https://raw.githubusercontent.com/evanpersonalbiz/labs34-demo/main/notebooks/judges%20-%20judges.csv')\r\n",
        "\r\n",
        "judges"
      ],
      "outputs": [
        {
          "output_type": "execute_result",
          "data": {
            "text/html": [
              "<div>\n",
              "<style scoped>\n",
              "    .dataframe tbody tr th:only-of-type {\n",
              "        vertical-align: middle;\n",
              "    }\n",
              "\n",
              "    .dataframe tbody tr th {\n",
              "        vertical-align: top;\n",
              "    }\n",
              "\n",
              "    .dataframe thead th {\n",
              "        text-align: right;\n",
              "    }\n",
              "</style>\n",
              "<table border=\"1\" class=\"dataframe\">\n",
              "  <thead>\n",
              "    <tr style=\"text-align: right;\">\n",
              "      <th></th>\n",
              "      <th>initial</th>\n",
              "      <th>appellate</th>\n",
              "      <th>judges</th>\n",
              "    </tr>\n",
              "  </thead>\n",
              "  <tbody>\n",
              "    <tr>\n",
              "      <th>0</th>\n",
              "      <td>1</td>\n",
              "      <td>0</td>\n",
              "      <td>Creppy, Michael J.</td>\n",
              "    </tr>\n",
              "    <tr>\n",
              "      <th>1</th>\n",
              "      <td>0</td>\n",
              "      <td>1</td>\n",
              "      <td>Pauley, Roger; Wendtland, Linda S.; Donovan, T...</td>\n",
              "    </tr>\n",
              "    <tr>\n",
              "      <th>2</th>\n",
              "      <td>0</td>\n",
              "      <td>1</td>\n",
              "      <td>Greer, Anne J.; Pauley, Roger; Wendtland, Lind...</td>\n",
              "    </tr>\n",
              "    <tr>\n",
              "      <th>3</th>\n",
              "      <td>0</td>\n",
              "      <td>1</td>\n",
              "      <td>Greer, Anne J.; Pauley, Roger; Wendtland, Lind...</td>\n",
              "    </tr>\n",
              "    <tr>\n",
              "      <th>4</th>\n",
              "      <td>0</td>\n",
              "      <td>1</td>\n",
              "      <td>Cole, Patricia A.; Greer, Anne J.; Pauley, Roger</td>\n",
              "    </tr>\n",
              "    <tr>\n",
              "      <th>...</th>\n",
              "      <td>...</td>\n",
              "      <td>...</td>\n",
              "      <td>...</td>\n",
              "    </tr>\n",
              "    <tr>\n",
              "      <th>156</th>\n",
              "      <td>0</td>\n",
              "      <td>1</td>\n",
              "      <td>O'Connor, Blair Wilson, Earle 8. Donovan, Tere...</td>\n",
              "    </tr>\n",
              "    <tr>\n",
              "      <th>157</th>\n",
              "      <td>0</td>\n",
              "      <td>1</td>\n",
              "      <td>Creppy, Michael J. MONSKY,MEGANFOOTE Hunsucker...</td>\n",
              "    </tr>\n",
              "    <tr>\n",
              "      <th>158</th>\n",
              "      <td>0</td>\n",
              "      <td>1</td>\n",
              "      <td>Grant, Edward R. Goodwin, Deborah K. Donovan, ...</td>\n",
              "    </tr>\n",
              "    <tr>\n",
              "      <th>159</th>\n",
              "      <td>1</td>\n",
              "      <td>0</td>\n",
              "      <td>MONSKY,MEGANFOOTE</td>\n",
              "    </tr>\n",
              "    <tr>\n",
              "      <th>160</th>\n",
              "      <td>0</td>\n",
              "      <td>1</td>\n",
              "      <td>Goodwin, Deborah K. Greer, Anne J. Donovan, Te...</td>\n",
              "    </tr>\n",
              "  </tbody>\n",
              "</table>\n",
              "<p>161 rows × 3 columns</p>\n",
              "</div>"
            ],
            "text/plain": [
              "     initial  appellate                                             judges\n",
              "0          1          0                                 Creppy, Michael J.\n",
              "1          0          1  Pauley, Roger; Wendtland, Linda S.; Donovan, T...\n",
              "2          0          1  Greer, Anne J.; Pauley, Roger; Wendtland, Lind...\n",
              "3          0          1  Greer, Anne J.; Pauley, Roger; Wendtland, Lind...\n",
              "4          0          1   Cole, Patricia A.; Greer, Anne J.; Pauley, Roger\n",
              "..       ...        ...                                                ...\n",
              "156        0          1  O'Connor, Blair Wilson, Earle 8. Donovan, Tere...\n",
              "157        0          1  Creppy, Michael J. MONSKY,MEGANFOOTE Hunsucker...\n",
              "158        0          1  Grant, Edward R. Goodwin, Deborah K. Donovan, ...\n",
              "159        1          0                                  MONSKY,MEGANFOOTE\n",
              "160        0          1  Goodwin, Deborah K. Greer, Anne J. Donovan, Te...\n",
              "\n",
              "[161 rows x 3 columns]"
            ]
          },
          "metadata": {},
          "execution_count": 4
        }
      ],
      "metadata": {
        "colab": {
          "base_uri": "https://localhost:8080/",
          "height": 419
        },
        "id": "YQ7b1dxjDvUL",
        "outputId": "7133bf5e-a116-4f04-afaf-52e20643c0b9"
      }
    },
    {
      "cell_type": "code",
      "execution_count": 5,
      "source": [
        "judges['initial'].value_counts()"
      ],
      "outputs": [
        {
          "output_type": "execute_result",
          "data": {
            "text/plain": [
              "0    131\n",
              "1     30\n",
              "Name: initial, dtype: int64"
            ]
          },
          "metadata": {},
          "execution_count": 5
        }
      ],
      "metadata": {
        "colab": {
          "base_uri": "https://localhost:8080/"
        },
        "id": "bIhNY3w1Eu8r",
        "outputId": "b1c018c8-4b33-4329-a88a-9b0bd417c69d"
      }
    },
    {
      "cell_type": "code",
      "execution_count": 6,
      "source": [
        "import plotly.graph_objects as go\r\n",
        "\r\n",
        "labels = ['Initial Case', 'Appellate Case']\r\n",
        "values = [30, 131]\r\n",
        "\r\n",
        "# Use `hole` to create a donut-like pie chart\r\n",
        "fig = go.Figure(data=[go.Pie(labels=labels, values=values, hole=.3)])\r\n",
        "\r\n",
        "fig.update_layout(\r\n",
        "  title_text=\"What percent of cases were appealed?\"),\r\n",
        "\r\n",
        "fig.show()"
      ],
      "outputs": [
        {
          "output_type": "display_data",
          "data": {
            "application/vnd.plotly.v1+json": {
              "config": {
                "plotlyServerURL": "https://plot.ly"
              },
              "data": [
                {
                  "hole": 0.3,
                  "labels": [
                    "Initial Case",
                    "Appellate Case"
                  ],
                  "type": "pie",
                  "values": [
                    30,
                    131
                  ]
                }
              ],
              "layout": {
                "template": {
                  "data": {
                    "bar": [
                      {
                        "error_x": {
                          "color": "#2a3f5f"
                        },
                        "error_y": {
                          "color": "#2a3f5f"
                        },
                        "marker": {
                          "line": {
                            "color": "#E5ECF6",
                            "width": 0.5
                          },
                          "pattern": {
                            "fillmode": "overlay",
                            "size": 10,
                            "solidity": 0.2
                          }
                        },
                        "type": "bar"
                      }
                    ],
                    "barpolar": [
                      {
                        "marker": {
                          "line": {
                            "color": "#E5ECF6",
                            "width": 0.5
                          },
                          "pattern": {
                            "fillmode": "overlay",
                            "size": 10,
                            "solidity": 0.2
                          }
                        },
                        "type": "barpolar"
                      }
                    ],
                    "carpet": [
                      {
                        "aaxis": {
                          "endlinecolor": "#2a3f5f",
                          "gridcolor": "white",
                          "linecolor": "white",
                          "minorgridcolor": "white",
                          "startlinecolor": "#2a3f5f"
                        },
                        "baxis": {
                          "endlinecolor": "#2a3f5f",
                          "gridcolor": "white",
                          "linecolor": "white",
                          "minorgridcolor": "white",
                          "startlinecolor": "#2a3f5f"
                        },
                        "type": "carpet"
                      }
                    ],
                    "choropleth": [
                      {
                        "colorbar": {
                          "outlinewidth": 0,
                          "ticks": ""
                        },
                        "type": "choropleth"
                      }
                    ],
                    "contour": [
                      {
                        "colorbar": {
                          "outlinewidth": 0,
                          "ticks": ""
                        },
                        "colorscale": [
                          [
                            0,
                            "#0d0887"
                          ],
                          [
                            0.1111111111111111,
                            "#46039f"
                          ],
                          [
                            0.2222222222222222,
                            "#7201a8"
                          ],
                          [
                            0.3333333333333333,
                            "#9c179e"
                          ],
                          [
                            0.4444444444444444,
                            "#bd3786"
                          ],
                          [
                            0.5555555555555556,
                            "#d8576b"
                          ],
                          [
                            0.6666666666666666,
                            "#ed7953"
                          ],
                          [
                            0.7777777777777778,
                            "#fb9f3a"
                          ],
                          [
                            0.8888888888888888,
                            "#fdca26"
                          ],
                          [
                            1,
                            "#f0f921"
                          ]
                        ],
                        "type": "contour"
                      }
                    ],
                    "contourcarpet": [
                      {
                        "colorbar": {
                          "outlinewidth": 0,
                          "ticks": ""
                        },
                        "type": "contourcarpet"
                      }
                    ],
                    "heatmap": [
                      {
                        "colorbar": {
                          "outlinewidth": 0,
                          "ticks": ""
                        },
                        "colorscale": [
                          [
                            0,
                            "#0d0887"
                          ],
                          [
                            0.1111111111111111,
                            "#46039f"
                          ],
                          [
                            0.2222222222222222,
                            "#7201a8"
                          ],
                          [
                            0.3333333333333333,
                            "#9c179e"
                          ],
                          [
                            0.4444444444444444,
                            "#bd3786"
                          ],
                          [
                            0.5555555555555556,
                            "#d8576b"
                          ],
                          [
                            0.6666666666666666,
                            "#ed7953"
                          ],
                          [
                            0.7777777777777778,
                            "#fb9f3a"
                          ],
                          [
                            0.8888888888888888,
                            "#fdca26"
                          ],
                          [
                            1,
                            "#f0f921"
                          ]
                        ],
                        "type": "heatmap"
                      }
                    ],
                    "heatmapgl": [
                      {
                        "colorbar": {
                          "outlinewidth": 0,
                          "ticks": ""
                        },
                        "colorscale": [
                          [
                            0,
                            "#0d0887"
                          ],
                          [
                            0.1111111111111111,
                            "#46039f"
                          ],
                          [
                            0.2222222222222222,
                            "#7201a8"
                          ],
                          [
                            0.3333333333333333,
                            "#9c179e"
                          ],
                          [
                            0.4444444444444444,
                            "#bd3786"
                          ],
                          [
                            0.5555555555555556,
                            "#d8576b"
                          ],
                          [
                            0.6666666666666666,
                            "#ed7953"
                          ],
                          [
                            0.7777777777777778,
                            "#fb9f3a"
                          ],
                          [
                            0.8888888888888888,
                            "#fdca26"
                          ],
                          [
                            1,
                            "#f0f921"
                          ]
                        ],
                        "type": "heatmapgl"
                      }
                    ],
                    "histogram": [
                      {
                        "marker": {
                          "pattern": {
                            "fillmode": "overlay",
                            "size": 10,
                            "solidity": 0.2
                          }
                        },
                        "type": "histogram"
                      }
                    ],
                    "histogram2d": [
                      {
                        "colorbar": {
                          "outlinewidth": 0,
                          "ticks": ""
                        },
                        "colorscale": [
                          [
                            0,
                            "#0d0887"
                          ],
                          [
                            0.1111111111111111,
                            "#46039f"
                          ],
                          [
                            0.2222222222222222,
                            "#7201a8"
                          ],
                          [
                            0.3333333333333333,
                            "#9c179e"
                          ],
                          [
                            0.4444444444444444,
                            "#bd3786"
                          ],
                          [
                            0.5555555555555556,
                            "#d8576b"
                          ],
                          [
                            0.6666666666666666,
                            "#ed7953"
                          ],
                          [
                            0.7777777777777778,
                            "#fb9f3a"
                          ],
                          [
                            0.8888888888888888,
                            "#fdca26"
                          ],
                          [
                            1,
                            "#f0f921"
                          ]
                        ],
                        "type": "histogram2d"
                      }
                    ],
                    "histogram2dcontour": [
                      {
                        "colorbar": {
                          "outlinewidth": 0,
                          "ticks": ""
                        },
                        "colorscale": [
                          [
                            0,
                            "#0d0887"
                          ],
                          [
                            0.1111111111111111,
                            "#46039f"
                          ],
                          [
                            0.2222222222222222,
                            "#7201a8"
                          ],
                          [
                            0.3333333333333333,
                            "#9c179e"
                          ],
                          [
                            0.4444444444444444,
                            "#bd3786"
                          ],
                          [
                            0.5555555555555556,
                            "#d8576b"
                          ],
                          [
                            0.6666666666666666,
                            "#ed7953"
                          ],
                          [
                            0.7777777777777778,
                            "#fb9f3a"
                          ],
                          [
                            0.8888888888888888,
                            "#fdca26"
                          ],
                          [
                            1,
                            "#f0f921"
                          ]
                        ],
                        "type": "histogram2dcontour"
                      }
                    ],
                    "mesh3d": [
                      {
                        "colorbar": {
                          "outlinewidth": 0,
                          "ticks": ""
                        },
                        "type": "mesh3d"
                      }
                    ],
                    "parcoords": [
                      {
                        "line": {
                          "colorbar": {
                            "outlinewidth": 0,
                            "ticks": ""
                          }
                        },
                        "type": "parcoords"
                      }
                    ],
                    "pie": [
                      {
                        "automargin": true,
                        "type": "pie"
                      }
                    ],
                    "scatter": [
                      {
                        "marker": {
                          "colorbar": {
                            "outlinewidth": 0,
                            "ticks": ""
                          }
                        },
                        "type": "scatter"
                      }
                    ],
                    "scatter3d": [
                      {
                        "line": {
                          "colorbar": {
                            "outlinewidth": 0,
                            "ticks": ""
                          }
                        },
                        "marker": {
                          "colorbar": {
                            "outlinewidth": 0,
                            "ticks": ""
                          }
                        },
                        "type": "scatter3d"
                      }
                    ],
                    "scattercarpet": [
                      {
                        "marker": {
                          "colorbar": {
                            "outlinewidth": 0,
                            "ticks": ""
                          }
                        },
                        "type": "scattercarpet"
                      }
                    ],
                    "scattergeo": [
                      {
                        "marker": {
                          "colorbar": {
                            "outlinewidth": 0,
                            "ticks": ""
                          }
                        },
                        "type": "scattergeo"
                      }
                    ],
                    "scattergl": [
                      {
                        "marker": {
                          "colorbar": {
                            "outlinewidth": 0,
                            "ticks": ""
                          }
                        },
                        "type": "scattergl"
                      }
                    ],
                    "scattermapbox": [
                      {
                        "marker": {
                          "colorbar": {
                            "outlinewidth": 0,
                            "ticks": ""
                          }
                        },
                        "type": "scattermapbox"
                      }
                    ],
                    "scatterpolar": [
                      {
                        "marker": {
                          "colorbar": {
                            "outlinewidth": 0,
                            "ticks": ""
                          }
                        },
                        "type": "scatterpolar"
                      }
                    ],
                    "scatterpolargl": [
                      {
                        "marker": {
                          "colorbar": {
                            "outlinewidth": 0,
                            "ticks": ""
                          }
                        },
                        "type": "scatterpolargl"
                      }
                    ],
                    "scatterternary": [
                      {
                        "marker": {
                          "colorbar": {
                            "outlinewidth": 0,
                            "ticks": ""
                          }
                        },
                        "type": "scatterternary"
                      }
                    ],
                    "surface": [
                      {
                        "colorbar": {
                          "outlinewidth": 0,
                          "ticks": ""
                        },
                        "colorscale": [
                          [
                            0,
                            "#0d0887"
                          ],
                          [
                            0.1111111111111111,
                            "#46039f"
                          ],
                          [
                            0.2222222222222222,
                            "#7201a8"
                          ],
                          [
                            0.3333333333333333,
                            "#9c179e"
                          ],
                          [
                            0.4444444444444444,
                            "#bd3786"
                          ],
                          [
                            0.5555555555555556,
                            "#d8576b"
                          ],
                          [
                            0.6666666666666666,
                            "#ed7953"
                          ],
                          [
                            0.7777777777777778,
                            "#fb9f3a"
                          ],
                          [
                            0.8888888888888888,
                            "#fdca26"
                          ],
                          [
                            1,
                            "#f0f921"
                          ]
                        ],
                        "type": "surface"
                      }
                    ],
                    "table": [
                      {
                        "cells": {
                          "fill": {
                            "color": "#EBF0F8"
                          },
                          "line": {
                            "color": "white"
                          }
                        },
                        "header": {
                          "fill": {
                            "color": "#C8D4E3"
                          },
                          "line": {
                            "color": "white"
                          }
                        },
                        "type": "table"
                      }
                    ]
                  },
                  "layout": {
                    "annotationdefaults": {
                      "arrowcolor": "#2a3f5f",
                      "arrowhead": 0,
                      "arrowwidth": 1
                    },
                    "autotypenumbers": "strict",
                    "coloraxis": {
                      "colorbar": {
                        "outlinewidth": 0,
                        "ticks": ""
                      }
                    },
                    "colorscale": {
                      "diverging": [
                        [
                          0,
                          "#8e0152"
                        ],
                        [
                          0.1,
                          "#c51b7d"
                        ],
                        [
                          0.2,
                          "#de77ae"
                        ],
                        [
                          0.3,
                          "#f1b6da"
                        ],
                        [
                          0.4,
                          "#fde0ef"
                        ],
                        [
                          0.5,
                          "#f7f7f7"
                        ],
                        [
                          0.6,
                          "#e6f5d0"
                        ],
                        [
                          0.7,
                          "#b8e186"
                        ],
                        [
                          0.8,
                          "#7fbc41"
                        ],
                        [
                          0.9,
                          "#4d9221"
                        ],
                        [
                          1,
                          "#276419"
                        ]
                      ],
                      "sequential": [
                        [
                          0,
                          "#0d0887"
                        ],
                        [
                          0.1111111111111111,
                          "#46039f"
                        ],
                        [
                          0.2222222222222222,
                          "#7201a8"
                        ],
                        [
                          0.3333333333333333,
                          "#9c179e"
                        ],
                        [
                          0.4444444444444444,
                          "#bd3786"
                        ],
                        [
                          0.5555555555555556,
                          "#d8576b"
                        ],
                        [
                          0.6666666666666666,
                          "#ed7953"
                        ],
                        [
                          0.7777777777777778,
                          "#fb9f3a"
                        ],
                        [
                          0.8888888888888888,
                          "#fdca26"
                        ],
                        [
                          1,
                          "#f0f921"
                        ]
                      ],
                      "sequentialminus": [
                        [
                          0,
                          "#0d0887"
                        ],
                        [
                          0.1111111111111111,
                          "#46039f"
                        ],
                        [
                          0.2222222222222222,
                          "#7201a8"
                        ],
                        [
                          0.3333333333333333,
                          "#9c179e"
                        ],
                        [
                          0.4444444444444444,
                          "#bd3786"
                        ],
                        [
                          0.5555555555555556,
                          "#d8576b"
                        ],
                        [
                          0.6666666666666666,
                          "#ed7953"
                        ],
                        [
                          0.7777777777777778,
                          "#fb9f3a"
                        ],
                        [
                          0.8888888888888888,
                          "#fdca26"
                        ],
                        [
                          1,
                          "#f0f921"
                        ]
                      ]
                    },
                    "colorway": [
                      "#636efa",
                      "#EF553B",
                      "#00cc96",
                      "#ab63fa",
                      "#FFA15A",
                      "#19d3f3",
                      "#FF6692",
                      "#B6E880",
                      "#FF97FF",
                      "#FECB52"
                    ],
                    "font": {
                      "color": "#2a3f5f"
                    },
                    "geo": {
                      "bgcolor": "white",
                      "lakecolor": "white",
                      "landcolor": "#E5ECF6",
                      "showlakes": true,
                      "showland": true,
                      "subunitcolor": "white"
                    },
                    "hoverlabel": {
                      "align": "left"
                    },
                    "hovermode": "closest",
                    "mapbox": {
                      "style": "light"
                    },
                    "paper_bgcolor": "white",
                    "plot_bgcolor": "#E5ECF6",
                    "polar": {
                      "angularaxis": {
                        "gridcolor": "white",
                        "linecolor": "white",
                        "ticks": ""
                      },
                      "bgcolor": "#E5ECF6",
                      "radialaxis": {
                        "gridcolor": "white",
                        "linecolor": "white",
                        "ticks": ""
                      }
                    },
                    "scene": {
                      "xaxis": {
                        "backgroundcolor": "#E5ECF6",
                        "gridcolor": "white",
                        "gridwidth": 2,
                        "linecolor": "white",
                        "showbackground": true,
                        "ticks": "",
                        "zerolinecolor": "white"
                      },
                      "yaxis": {
                        "backgroundcolor": "#E5ECF6",
                        "gridcolor": "white",
                        "gridwidth": 2,
                        "linecolor": "white",
                        "showbackground": true,
                        "ticks": "",
                        "zerolinecolor": "white"
                      },
                      "zaxis": {
                        "backgroundcolor": "#E5ECF6",
                        "gridcolor": "white",
                        "gridwidth": 2,
                        "linecolor": "white",
                        "showbackground": true,
                        "ticks": "",
                        "zerolinecolor": "white"
                      }
                    },
                    "shapedefaults": {
                      "line": {
                        "color": "#2a3f5f"
                      }
                    },
                    "ternary": {
                      "aaxis": {
                        "gridcolor": "white",
                        "linecolor": "white",
                        "ticks": ""
                      },
                      "baxis": {
                        "gridcolor": "white",
                        "linecolor": "white",
                        "ticks": ""
                      },
                      "bgcolor": "#E5ECF6",
                      "caxis": {
                        "gridcolor": "white",
                        "linecolor": "white",
                        "ticks": ""
                      }
                    },
                    "title": {
                      "x": 0.05
                    },
                    "xaxis": {
                      "automargin": true,
                      "gridcolor": "white",
                      "linecolor": "white",
                      "ticks": "",
                      "title": {
                        "standoff": 15
                      },
                      "zerolinecolor": "white",
                      "zerolinewidth": 2
                    },
                    "yaxis": {
                      "automargin": true,
                      "gridcolor": "white",
                      "linecolor": "white",
                      "ticks": "",
                      "title": {
                        "standoff": 15
                      },
                      "zerolinecolor": "white",
                      "zerolinewidth": 2
                    }
                  }
                },
                "title": {
                  "text": "What percent of cases were appealed?"
                }
              }
            }
          },
          "metadata": {}
        }
      ],
      "metadata": {
        "colab": {
          "base_uri": "https://localhost:8080/",
          "height": 542
        },
        "id": "IjjL4x30FGWK",
        "outputId": "1a84b792-044f-48e0-da8c-a501eccdebb5"
      }
    }
  ]
}