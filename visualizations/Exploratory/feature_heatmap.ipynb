{
 "cells": [
  {
   "cell_type": "code",
   "execution_count": 1,
   "source": [
    "import warnings\r\n",
    "warnings.filterwarnings('ignore')\r\n",
    "import os\r\n",
    "import pandas as pd\r\n",
    "import requests\r\n",
    "from bs4 import BeautifulSoup\r\n",
    "from typing import List, Tuple, Union, Callable, Dict, Iterator\r\n",
    "from collections import defaultdict\r\n",
    "from difflib import SequenceMatcher\r\n",
    "import spacy \r\n",
    "from spacy.matcher import Matcher, PhraseMatcher\r\n",
    "from spacy.tokens.doc import Doc\r\n",
    "from spacy.tokens.span import Span\r\n",
    "from spacy.tokens.token import Token\r\n",
    "from geotext import GeoText ## new library: https://pypi.org/project/geotext/"
   ],
   "outputs": [],
   "metadata": {}
  },
  {
   "cell_type": "code",
   "execution_count": 2,
   "source": [
    "nlp = spacy.load(\"en_core_web_sm\")"
   ],
   "outputs": [],
   "metadata": {}
  },
  {
   "cell_type": "code",
   "execution_count": 3,
   "source": [
    "filenames = os.listdir(r'C:\\Users\\12482\\Desktop\\lambda-school\\labs\\project\\textfolder\\text_cases') # Wherever files are located"
   ],
   "outputs": [],
   "metadata": {}
  },
  {
   "cell_type": "code",
   "execution_count": 4,
   "source": [
    "def similar(a: str, return_b: str, min_score: float) -> Union[str, None]:\r\n",
    "    \"\"\"\r\n",
    "    • Returns 2nd string if similarity score is above supplied\r\n",
    "    minimum score. Else, returns None.\r\n",
    "    \"\"\"\r\n",
    "    if SequenceMatcher(None, a, return_b).ratio() >= min_score:\r\n",
    "        return return_b\r\n",
    "\r\n",
    "\r\n",
    "def similar_in_list(lst: Union[List[str], Iterator[str]]) -> Callable:\r\n",
    "    \"\"\"\r\n",
    "    • Uses a closure on supplied list to return a function that iterates over\r\n",
    "    the list in order to search for the first similar term. It's used widely\r\n",
    "    in the scraper.\r\n",
    "    \"\"\"\r\n",
    "\r\n",
    "    def impl(item: str, min_score: float) -> Union[str, None]:\r\n",
    "        for s in lst:\r\n",
    "            s = similar(item, s, min_score)\r\n",
    "            if s:\r\n",
    "                return s\r\n",
    "\r\n",
    "    return impl"
   ],
   "outputs": [],
   "metadata": {}
  },
  {
   "cell_type": "code",
   "execution_count": 5,
   "source": [
    "members = [\r\n",
    "    \"Adkins-Blanch, Charles K.\",\r\n",
    "    \"Michael P. Baird\",\r\n",
    "    \"Cassidy, William A.\",\r\n",
    "    \"Cole, Patricia A.\",\r\n",
    "    \"Couch, V. Stuart\",\r\n",
    "    \"Creppy, Michael J.\",\r\n",
    "    \"Crossett, John P.\",\r\n",
    "    \"Donovan, Teresa L.\",\r\n",
    "    \"Foote, Megan E.\",\r\n",
    "    \"Geller, Joan B.\",\r\n",
    "    \"Gemoets, Marcos\",\r\n",
    "    \"Gonzalez, Gabriel\",\r\n",
    "    \"Goodwin, Deborah K.\",\r\n",
    "    \"Gorman, Stephanie E.\",\r\n",
    "    \"Grant, Edward R.\",\r\n",
    "    \"Greer, Anne J.\",\r\n",
    "    \"Guendelsberger, John\",\r\n",
    "    \"Hunsucker, Keith E.\",\r\n",
    "    \"Kelly, Edward F.\",\r\n",
    "    \"Kendall Clark, Molly\",\r\n",
    "    \"Liebmann, Beth S.\",\r\n",
    "    \"Liebowitz, Ellen C.\",\r\n",
    "    \"Mahtabfar, Sunita B.\",\r\n",
    "    \"Malphrus, Garry D.\",\r\n",
    "    \"Mann, Ana\",\r\n",
    "    \"Miller, Neil P.\",\r\n",
    "    \"Monsky, Megan Foote\",\r\n",
    "    \"Montante Jr., Phillip J.\",\r\n",
    "    \"Morris, Daniel\",\r\n",
    "    \"Mullane, Hugh G.\",\r\n",
    "    \"Neal, David L.\",\r\n",
    "    \"Noferi, Mark\",\r\n",
    "    \"O'Connor, Blair\",\r\n",
    "    \"O'Herron, Margaret M.\",\r\n",
    "    \"O'Leary, Brian M.\",\r\n",
    "    \"Owen, Sirce E.\",\r\n",
    "    \"Pauley, Roger\",\r\n",
    "    \"Petty, Aaron R.\",\r\n",
    "    \"Pepper, S. Kathleen\",\r\n",
    "    \"RILEY, KEVIN W.\",\r\n",
    "    \"Rosen, Scott\",\r\n",
    "    \"Snow, Thomas G.\",\r\n",
    "    \"Swanwick, Daniel L.\",\r\n",
    "    \"Wendtland, Linda S.\",\r\n",
    "    \"Wetmore, David H.\",\r\n",
    "    \"Wilson, Earle B.\"\r\n",
    "]"
   ],
   "outputs": [],
   "metadata": {}
  },
  {
   "cell_type": "code",
   "execution_count": 6,
   "source": [
    "judges_url = 'https://en.wikipedia.org/wiki/Board_of_Immigration_Appeals'\r\n",
    "html = requests.get(judges_url).text\r\n",
    "soup = BeautifulSoup(html, 'html.parser')\r\n",
    "table = soup.find(\"table\", class_=\"wikitable\")\r\n",
    "web_judges = [itm.get_text().strip() for itm in table.select(\"td\")[1::4]]\r\n",
    "\r\n",
    "web_judges"
   ],
   "outputs": [
    {
     "output_type": "execute_result",
     "data": {
      "text/plain": [
       "['David H. Wetmore',\n",
       " 'Charles Adkins-Blanch',\n",
       " 'Garry D. Malphrus',\n",
       " 'Michael P. Baird',\n",
       " 'William A. Cassidy',\n",
       " 'V. Stuart Couch',\n",
       " 'Michael J. Creppy',\n",
       " 'Deborah K. Goodwin',\n",
       " 'Stephanie E. Gorman',\n",
       " 'Edward R. Grant',\n",
       " 'Anne J. Greer',\n",
       " 'Keith E. Hunsucker',\n",
       " 'Edward F. Kelly',\n",
       " 'Ellen Liebowitz',\n",
       " 'Sunita B. Mahtabfar',\n",
       " 'Ana Landazabal Mann',\n",
       " 'Philip J. Montante, Jr.',\n",
       " 'Hugh Mullane',\n",
       " \"Blair O'Connor\",\n",
       " 'Sirce E. Owen',\n",
       " 'Aaron R. Petty',\n",
       " 'Kevin W. Riley',\n",
       " 'Earle B. Wilson',\n",
       " 'Megan Foote Monsky',\n",
       " 'Joan B. Geller',\n",
       " 'Gabriel Gonzalez',\n",
       " 'Beth Liebmann',\n",
       " 'Mark Noferi',\n",
       " 'S. Kathleen Pepper']"
      ]
     },
     "metadata": {},
     "execution_count": 6
    }
   ],
   "metadata": {
    "scrolled": true
   }
  },
  {
   "cell_type": "code",
   "execution_count": 7,
   "source": [
    "combined_members = members + web_judges"
   ],
   "outputs": [],
   "metadata": {}
  },
  {
   "cell_type": "code",
   "execution_count": 8,
   "source": [
    "class GetJudge:\r\n",
    "    \"\"\" Returns the judge's name if a match is found. \"\"\"\r\n",
    "    accuracy = 0.7\r\n",
    "\r\n",
    "    def __init__(self):\r\n",
    "        # Currently grabs potential judges names from a URL here.\r\n",
    "        # For testing we'll instead alternate `names`\r\n",
    "\r\n",
    "#         names = web_judges\r\n",
    "#         names = members\r\n",
    "        names = combined_members\r\n",
    "        self.is_judge: Callable = similar_in_list(names)\r\n",
    "\r\n",
    "    def __call__(self, name):\r\n",
    "        result = self.is_judge(name, self.accuracy)\r\n",
    "        if not result:\r\n",
    "            flip_name = ' '.join(reversed(name.split(', ')))\r\n",
    "            result = self.is_judge(flip_name, self.accuracy)\r\n",
    "        return result\r\n",
    "\r\n",
    "\r\n",
    "class BIACase:\r\n",
    "    def __init__(self, text: str):\r\n",
    "        \"\"\"\r\n",
    "        Input will be text from a BIA case pdf file, after the pdf has\r\n",
    "        been converted from PDF to text.\r\n",
    "        Scraping works utilizing spaCy, tokenizing the text, and iterating\r\n",
    "        token by token searching for matching keywords.\r\n",
    "        \"\"\"\r\n",
    "        self.doc: Doc = nlp(text)\r\n",
    "        self.ents: Tuple[Span] = self.doc.ents\r\n",
    "        self.if_judge = GetJudge()\r\n",
    "\r\n",
    "    def get_ents(self, labels: List[str]) -> Iterator[Span]:\r\n",
    "        \"\"\"\r\n",
    "        Retrieves entities of a specified label(s) in the document,\r\n",
    "        if no label is specified, returns all entities\r\n",
    "        \"\"\"\r\n",
    "        return (ent for ent in self.ents if ent.label_ in labels)\r\n",
    "\r\n",
    "    def get_panel(self) -> str:\r\n",
    "        \"\"\"\r\n",
    "        Returns the panel members of case in document.\r\n",
    "        \"\"\"\r\n",
    "        panel_members: List[str]\r\n",
    "        panel_members = []\r\n",
    "        possible_members: Iterator[Span]\r\n",
    "        possible_members = map(\r\n",
    "            lambda ent: ent.text, self.get_ents(['PERSON'])\r\n",
    "        )\r\n",
    "        for member in possible_members:\r\n",
    "            judge: Union[str, None]\r\n",
    "            judge = self.if_judge(member)\r\n",
    "            if judge:\r\n",
    "                panel_members.append(judge)\r\n",
    "\r\n",
    "        return '; '.join(set(panel_members))"
   ],
   "outputs": [],
   "metadata": {}
  },
  {
   "cell_type": "code",
   "execution_count": 9,
   "source": [
    "# ** Change `names` to `web_judges` list in GetJudge() **\r\n",
    "web_dict = {}\r\n",
    "\r\n",
    "for file in filenames:\r\n",
    "    f = open(f\"C:\\\\Users\\\\12482\\\\Desktop\\\\lambda-school\\\\labs\\\\project\\\\textfolder\\\\text_cases\\\\{file}\", \"r\",encoding='utf-8')\r\n",
    "    case = BIACase(f.read())\r\n",
    "    web_dict[file] = case.get_panel()\r\n",
    "    f.close()"
   ],
   "outputs": [],
   "metadata": {
    "scrolled": true
   }
  },
  {
   "cell_type": "markdown",
   "source": [
    "### NEW WORK BELOW"
   ],
   "metadata": {}
  },
  {
   "cell_type": "code",
   "execution_count": 49,
   "source": [
    "## idea: create a dataframe with a multitude of features \n",
    "\n",
    "## feature 1 is num of panel members -- > do first\n",
    "\n",
    "## feature 2 is most significant place --> do next\n",
    "\n",
    "## ....... \n",
    "\n",
    "## create df"
   ],
   "outputs": [],
   "metadata": {}
  },
  {
   "cell_type": "code",
   "execution_count": 54,
   "source": [
    "l = list(web_dict.keys()) ## easy access to dict\n",
    "len(web_dict[l[0]].split(',')) ## example --> value is number of panel members"
   ],
   "outputs": [
    {
     "output_type": "execute_result",
     "data": {
      "text/plain": [
       "2"
      ]
     },
     "metadata": {},
     "execution_count": 54
    }
   ],
   "metadata": {}
  },
  {
   "cell_type": "code",
   "execution_count": 56,
   "source": [
    "def func(dict_):\n",
    "    \n",
    "    panel = []\n",
    "    \n",
    "    l = list(dict_.keys())\n",
    "    \n",
    "    for x in l:\n",
    "        panel.append(len(dict_[x].split(',')))\n",
    "        \n",
    "    return panel\n",
    "\n",
    "panel_len = func(web_dict)"
   ],
   "outputs": [],
   "metadata": {}
  },
  {
   "cell_type": "code",
   "execution_count": 26,
   "source": [
    "cache = {}\n",
    "\n",
    "for i in range(len(filenames)):\n",
    "    cache[i] = open(f\"C:\\\\Users\\\\12482\\\\Desktop\\\\lambda-school\\\\labs\\\\project\\\\textfolder\\\\text_cases\\\\{filenames[i]}\", \"r\",encoding='utf-8')\n",
    "    cache[i] = cache[i].read()"
   ],
   "outputs": [],
   "metadata": {}
  },
  {
   "cell_type": "code",
   "execution_count": 47,
   "source": [
    "from collections import Counter # --> returns dict (k:v, for k=word,v=count in file)\n",
    "\n",
    "def func(data):\n",
    "    \n",
    "    file_count = []\n",
    "    \n",
    "    for i in range(len(data)):\n",
    "        file = data[i]\n",
    "        cities_in_file = GeoText(file).cities\n",
    "        c = Counter(cities_in_file)\n",
    "        file_count.append(c.most_common(1))\n",
    "        \n",
    "    return file_count\n",
    "\n",
    "city_count = func(data=cache)"
   ],
   "outputs": [],
   "metadata": {}
  },
  {
   "cell_type": "code",
   "execution_count": 68,
   "source": [
    "def func(data):\n",
    "    l = []\n",
    "    for i in range(len(data)):\n",
    "        l.append(data[i][0][0])\n",
    "    return l\n",
    "cities = func(city_count)"
   ],
   "outputs": [],
   "metadata": {}
  },
  {
   "cell_type": "code",
   "execution_count": 69,
   "source": [
    "df = pd.DataFrame()\n",
    "df['city'] = cities\n",
    "df['panel_count'] = panel_len\n",
    "df.head()"
   ],
   "outputs": [
    {
     "output_type": "execute_result",
     "data": {
      "text/html": [
       "<div>\n",
       "<style scoped>\n",
       "    .dataframe tbody tr th:only-of-type {\n",
       "        vertical-align: middle;\n",
       "    }\n",
       "\n",
       "    .dataframe tbody tr th {\n",
       "        vertical-align: top;\n",
       "    }\n",
       "\n",
       "    .dataframe thead th {\n",
       "        text-align: right;\n",
       "    }\n",
       "</style>\n",
       "<table border=\"1\" class=\"dataframe\">\n",
       "  <thead>\n",
       "    <tr style=\"text-align: right;\">\n",
       "      <th></th>\n",
       "      <th>city</th>\n",
       "      <th>panel_count</th>\n",
       "    </tr>\n",
       "  </thead>\n",
       "  <tbody>\n",
       "    <tr>\n",
       "      <th>0</th>\n",
       "      <td>Los Angeles</td>\n",
       "      <td>2</td>\n",
       "    </tr>\n",
       "    <tr>\n",
       "      <th>1</th>\n",
       "      <td>Virginia</td>\n",
       "      <td>1</td>\n",
       "    </tr>\n",
       "    <tr>\n",
       "      <th>2</th>\n",
       "      <td>Virginia</td>\n",
       "      <td>1</td>\n",
       "    </tr>\n",
       "    <tr>\n",
       "      <th>3</th>\n",
       "      <td>New York</td>\n",
       "      <td>1</td>\n",
       "    </tr>\n",
       "    <tr>\n",
       "      <th>4</th>\n",
       "      <td>March</td>\n",
       "      <td>1</td>\n",
       "    </tr>\n",
       "  </tbody>\n",
       "</table>\n",
       "</div>"
      ],
      "text/plain": [
       "          city  panel_count\n",
       "0  Los Angeles            2\n",
       "1     Virginia            1\n",
       "2     Virginia            1\n",
       "3     New York            1\n",
       "4        March            1"
      ]
     },
     "metadata": {},
     "execution_count": 69
    }
   ],
   "metadata": {}
  },
  {
   "cell_type": "code",
   "execution_count": 74,
   "source": [
    "import category_encoders as ce\n",
    "\n",
    "enc = ce.OrdinalEncoder()\n",
    "enc.fit(df['city'])\n",
    "new = enc.transform(df['city'])"
   ],
   "outputs": [],
   "metadata": {}
  },
  {
   "cell_type": "code",
   "execution_count": 76,
   "source": [
    "df['city'] = new\n",
    "df.head()"
   ],
   "outputs": [
    {
     "output_type": "execute_result",
     "data": {
      "text/html": [
       "<div>\n",
       "<style scoped>\n",
       "    .dataframe tbody tr th:only-of-type {\n",
       "        vertical-align: middle;\n",
       "    }\n",
       "\n",
       "    .dataframe tbody tr th {\n",
       "        vertical-align: top;\n",
       "    }\n",
       "\n",
       "    .dataframe thead th {\n",
       "        text-align: right;\n",
       "    }\n",
       "</style>\n",
       "<table border=\"1\" class=\"dataframe\">\n",
       "  <thead>\n",
       "    <tr style=\"text-align: right;\">\n",
       "      <th></th>\n",
       "      <th>city</th>\n",
       "      <th>panel_count</th>\n",
       "    </tr>\n",
       "  </thead>\n",
       "  <tbody>\n",
       "    <tr>\n",
       "      <th>0</th>\n",
       "      <td>1</td>\n",
       "      <td>2</td>\n",
       "    </tr>\n",
       "    <tr>\n",
       "      <th>1</th>\n",
       "      <td>2</td>\n",
       "      <td>1</td>\n",
       "    </tr>\n",
       "    <tr>\n",
       "      <th>2</th>\n",
       "      <td>2</td>\n",
       "      <td>1</td>\n",
       "    </tr>\n",
       "    <tr>\n",
       "      <th>3</th>\n",
       "      <td>3</td>\n",
       "      <td>1</td>\n",
       "    </tr>\n",
       "    <tr>\n",
       "      <th>4</th>\n",
       "      <td>4</td>\n",
       "      <td>1</td>\n",
       "    </tr>\n",
       "  </tbody>\n",
       "</table>\n",
       "</div>"
      ],
      "text/plain": [
       "   city  panel_count\n",
       "0     1            2\n",
       "1     2            1\n",
       "2     2            1\n",
       "3     3            1\n",
       "4     4            1"
      ]
     },
     "metadata": {},
     "execution_count": 76
    }
   ],
   "metadata": {}
  },
  {
   "cell_type": "code",
   "execution_count": 80,
   "source": [
    "import seaborn as sns\n",
    "sns.heatmap(df.corr())"
   ],
   "outputs": [
    {
     "output_type": "execute_result",
     "data": {
      "text/plain": [
       "<AxesSubplot:>"
      ]
     },
     "metadata": {},
     "execution_count": 80
    },
    {
     "output_type": "display_data",
     "data": {
      "image/png": "[encoded data removed]",
      "text/plain": [
       "<Figure size 432x288 with 2 Axes>"
      ]
     },
     "metadata": {
      "needs_background": "light"
     }
    }
   ],
   "metadata": {}
  },
  {
   "cell_type": "markdown",
   "source": [
    "### NEED TO ENGINEER MORE FEATURES !"
   ],
   "metadata": {}
  }
 ],
 "metadata": {
  "kernelspec": {
   "name": "python3",
   "display_name": "Python 3.8.8 64-bit ('base': conda)"
  },
  "language_info": {
   "codemirror_mode": {
    "name": "ipython",
    "version": 3
   },
   "file_extension": ".py",
   "mimetype": "text/x-python",
   "name": "python",
   "nbconvert_exporter": "python",
   "pygments_lexer": "ipython3",
   "version": "3.8.8"
  },
  "interpreter": {
   "hash": "3f8956436d8ce59f668ff26075b9e4d053dba06b7526eb5909008814682cd7e3"
  }
 },
 "nbformat": 4,
 "nbformat_minor": 5
}