{
 "cells": [
  {
   "cell_type": "markdown",
   "source": [
    "# This notebook is to download files from manually_scrapped.csv for testing the acc of the ocr"
   ],
   "metadata": {}
  },
  {
   "cell_type": "code",
   "execution_count": 5,
   "source": [
    "import requests as re\n",
    "import pandas as pd\n",
    "df = pd.read_csv('manually_scrapped.csv')"
   ],
   "outputs": [],
   "metadata": {}
  },
  {
   "cell_type": "code",
   "execution_count": 15,
   "source": [
    "for i in range(len(df)):\n",
    "    r = re.get(df['AWS link'][i])\n",
    "    name = df['UUID'][i]\n",
    "    open('data/' + name, 'wb').write(r.content)"
   ],
   "outputs": [],
   "metadata": {}
  }
 ],
 "metadata": {
  "orig_nbformat": 4,
  "language_info": {
   "name": "python",
   "version": "3.8.5",
   "mimetype": "text/x-python",
   "codemirror_mode": {
    "name": "ipython",
    "version": 3
   },
   "pygments_lexer": "ipython3",
   "nbconvert_exporter": "python",
   "file_extension": ".py"
  },
  "kernelspec": {
   "name": "python3",
   "display_name": "Python 3.8.5 64-bit ('human-rights-first-asylum-ds-a-bUMUEGIo': pipenv)"
  },
  "interpreter": {
   "hash": "f9a00ff7b4804186bed77c4f59995e5e4a690b80622b30d4fb44d07178b0cbe5"
  }
 },
 "nbformat": 4,
 "nbformat_minor": 2
}