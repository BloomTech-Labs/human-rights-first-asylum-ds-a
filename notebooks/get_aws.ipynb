{
 "cells": [
  {
   "cell_type": "markdown",
   "metadata": {},
   "source": [
    "# This notebook is to download files from manually_scrapped.csv for testing the acc of the ocr"
   ]
  },
  {
   "cell_type": "code",
   "execution_count": 1,
   "metadata": {},
   "outputs": [],
   "source": [
    "# importing a library that simplifes interactions with AWS\n",
    "\n",
    "!pip install boto3 --quiet"
   ]
  },
  {
   "cell_type": "code",
   "execution_count": 2,
   "metadata": {},
   "outputs": [],
   "source": [
    "import requests as re\n",
    "import pandas as pd\n",
    "from boto3.session import Session\n",
    "\n",
    "df = pd.read_csv('manually_scrapped.csv')"
   ]
  },
  {
   "cell_type": "code",
   "execution_count": 3,
   "metadata": {},
   "outputs": [],
   "source": [
    "# creating a session and connecting to our s3 bucket. you have to manually enter the \n",
    "# access keys - or at least i couldn't get them from .env\n",
    "\n",
    "ACCESS_KEY = 'access_key'\n",
    "SECRET_ACCESS_KEY = 'secret_access_key'\n",
    "\n",
    "session = Session(aws_access_key_id=ACCESS_KEY, \n",
    "                  aws_secret_access_key=SECRET_ACCESS_KEY)\n",
    "\n",
    "s3 = session.resource('s3')\n",
    "your_bucket = s3.Bucket('hrf-asylum-cases')"
   ]
  },
  {
   "cell_type": "code",
   "execution_count": 4,
   "metadata": {},
   "outputs": [],
   "source": [
    "# getting the filenames of the pdfs in the s3 hrf-asylum-cases bucket\n",
    "# these can be used in the make_fields function along with the files to\n",
    "# repopulate the ds_cases table.\n",
    "\n",
    "filenames = []\n",
    "\n",
    "for s3_file in your_bucket.objects.all():\n",
    "    filenames.append(s3_file.key)"
   ]
  },
  {
   "cell_type": "code",
   "execution_count": 9,
   "metadata": {},
   "outputs": [],
   "source": [
    "# getting the files stored in the bucket. note they currently download to\n",
    "# the notebook folder. change to your prefer in open(). these files are needed\n",
    "# to check and calibrate the accuracy of the ocr\n",
    "\n",
    "for i in range(len(df)):\n",
    "    r = re.get(df['AWS link'][i])\n",
    "#     print(r)\n",
    "#     open('../' + name, 'wb').write(r.content)"
   ]
  }
 ],
 "metadata": {
  "interpreter": {
   "hash": "f9a00ff7b4804186bed77c4f59995e5e4a690b80622b30d4fb44d07178b0cbe5"
  },
  "kernelspec": {
   "display_name": "human-rights-first-asylum-ds-a",
   "language": "python",
   "name": "human-rights-first-asylum-ds-a"
  },
  "language_info": {
   "codemirror_mode": {
    "name": "ipython",
    "version": 3
   },
   "file_extension": ".py",
   "mimetype": "text/x-python",
   "name": "python",
   "nbconvert_exporter": "python",
   "pygments_lexer": "ipython3",
   "version": "3.9.5"
  }
 },
 "nbformat": 4,
 "nbformat_minor": 2
}
