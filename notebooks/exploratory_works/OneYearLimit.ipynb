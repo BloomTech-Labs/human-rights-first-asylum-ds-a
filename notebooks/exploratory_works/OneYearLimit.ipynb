{
  "nbformat": 4,
  "nbformat_minor": 0,
  "metadata": {
    "colab": {
      "name": "OneYearLimit.ipynb",
      "provenance": [],
      "collapsed_sections": []
    },
    "kernelspec": {
      "name": "python3",
      "display_name": "Python 3"
    }
  },
  "cells": [
    {
      "cell_type": "markdown",
      "metadata": {
        "id": "5Os35p_yuNw1"
      },
      "source": [
        "2/19/21:  This notebook is a ***start*** at answering the following questions posed by the stakeholder and communicated to the team by Frank:\r\n",
        "\r\n",
        "1) Number of decisions where the one-year filing deadline was an issue. Students should add “changed circumstances” or “extraordinary circumstances” to their search. Those are both exceptions to the one year deadline. I imagine that if a decision mentions either of these terms, then the one year deadline is likely at issue in the case.\r\n",
        "\r\n",
        "2) Number of appeals that were affirmed/denied because the applicant did not apply within one year\r\n",
        "\r\n",
        "3) Any other interesting statistics the students see in the data"
      ]
    },
    {
      "cell_type": "code",
      "metadata": {
        "id": "yK8-Kbj4MKly",
        "colab": {
          "base_uri": "https://localhost:8080/"
        },
        "outputId": "8d9d72b4-c1cc-449e-c15b-a6f6f1519cc2"
      },
      "source": [
        "import os\r\n",
        "from google.colab import drive\r\n",
        "# Mounts google drive to individual user (will prompt for creds)\r\n",
        "drive.mount('/content/drive')"
      ],
      "execution_count": 1,
      "outputs": [
        {
          "output_type": "stream",
          "text": [
            "Mounted at /content/drive\n"
          ],
          "name": "stdout"
        }
      ]
    },
    {
      "cell_type": "code",
      "metadata": {
        "id": "1nA9m4WaQIdD"
      },
      "source": [
        "# I couldn't figure out how to mount on a shared drive, so I\r\n",
        "# I simply went into the shared drive, located the file\r\n",
        "# asylum_case_txts, right-clicked, and selected \"Add Shortcut\r\n",
        "# to Drive\".  Then they were in my own drive, and the below code worked.\r\n",
        "\r\n",
        "# These two pieces can be put together to create the route to any txt file\r\n",
        "# with the following format:\r\n",
        "# TXT_DIR + '/' + txt_files[x]\r\n",
        "TXT_DIR = \"./drive/MyDrive/asylum_case_txts\"\r\n",
        "txt_files = os.listdir(TXT_DIR)"
      ],
      "execution_count": 2,
      "outputs": []
    },
    {
      "cell_type": "code",
      "metadata": {
        "colab": {
          "base_uri": "https://localhost:8080/"
        },
        "id": "ko1UyXtbuCzz",
        "outputId": "e4fb3ffc-e54c-4b46-f7c3-b7a2926dd93c"
      },
      "source": [
        "len(txt_files)"
      ],
      "execution_count": 3,
      "outputs": [
        {
          "output_type": "execute_result",
          "data": {
            "text/plain": [
              "354"
            ]
          },
          "metadata": {
            "tags": []
          },
          "execution_count": 3
        }
      ]
    },
    {
      "cell_type": "code",
      "metadata": {
        "id": "nGfBY61jYozE"
      },
      "source": [
        "# Create a corpus (list) so that each element is a separate case\r\n",
        "corpus = []\r\n",
        "for x in range(len(txt_files)):\r\n",
        "  with open(TXT_DIR + '/' + txt_files[x],\"r\") as text:\r\n",
        "    corpus.append(text.readlines())\r\n",
        "# The above code makes nested lists, (each doc is an element of the corpus list,\r\n",
        "# and each line is an element of the doc list).  We want all the text from\r\n",
        "# each doc to be one long string.  The code below does that.\r\n",
        "new_corpus = []\r\n",
        "counter = 0\r\n",
        "for doc in corpus:\r\n",
        "  # for each doc, make a new element in the new_corpus\r\n",
        "  new_corpus.append('')\r\n",
        "  # add each line as a string to the current doc\r\n",
        "  for line in doc:\r\n",
        "    new_corpus[counter] = new_corpus[counter] + line\r\n",
        "  # increase index counter by one, rinse and repeat\r\n",
        "  counter += 1\r\n",
        "\r\n",
        "# Reassign to corpus variable\r\n",
        "corpus = new_corpus"
      ],
      "execution_count": 4,
      "outputs": []
    },
    {
      "cell_type": "code",
      "metadata": {
        "colab": {
          "base_uri": "https://localhost:8080/"
        },
        "id": "x8F2PXfnt5Wp",
        "outputId": "e3377dd4-c351-430a-b8ed-bc2ee9ac4e88"
      },
      "source": [
        "len(corpus)"
      ],
      "execution_count": 5,
      "outputs": [
        {
          "output_type": "execute_result",
          "data": {
            "text/plain": [
              "354"
            ]
          },
          "metadata": {
            "tags": []
          },
          "execution_count": 5
        }
      ]
    },
    {
      "cell_type": "code",
      "metadata": {
        "id": "VDXvFw29lqdA"
      },
      "source": [
        "# Return file names where 'extraordinary circumstance' or 'changed circumstance'\r\n",
        "# is in the text, indicate which of the two phrases the doc includes,\r\n",
        "# and provide the %-age of documents where they appear\r\n",
        "\r\n",
        "def check_for_extraordinary_or_changed(corpus):\r\n",
        "  changed_counter = 0\r\n",
        "  extra_counter = 0\r\n",
        "  for x in range(len(corpus)):\r\n",
        "    if 'extraordinary circumstance' in corpus[x]:\r\n",
        "      print(f'{txt_files[x]}: extraordinary circumstance')\r\n",
        "      extra_counter += 1\r\n",
        "    if 'changed circumstance' in corpus[x]:\r\n",
        "      print(f'{txt_files[x]}: changed circumstance')\r\n",
        "      changed_counter += 1\r\n",
        "  print('Done checking')\r\n",
        "  print(f\"'changed circumstance': {changed_counter}/{len(corpus)}: {round(changed_counter/len(corpus),4)*100}%, 'extraordinary circumstance': {extra_counter}/{len(corpus)}: {round(extra_counter/len(corpus), 4)}%\")"
      ],
      "execution_count": 10,
      "outputs": []
    },
    {
      "cell_type": "code",
      "metadata": {
        "colab": {
          "base_uri": "https://localhost:8080/"
        },
        "id": "XojZIMuclNVe",
        "outputId": "7a0e5176-6309-4e9b-c52f-0293ce4cd71f"
      },
      "source": [
        "check_for_extraordinary_or_changed(corpus)"
      ],
      "execution_count": 11,
      "outputs": [
        {
          "output_type": "stream",
          "text": [
            "Z-X-AXXX-XXX-571-BIA-March-13-2019_secret_password=hRbgkImkeSOkPkBYROtq.txt: changed circumstance\n",
            "M-M-V-AXXX-XXX-262-BIA-May-1-2019_secret_password=pAxThoA3rRI6VmOiC66p.txt: changed circumstance\n",
            "Roderico-Geronimo-Tzum-Sum-A071-575-904-BIA-Aug-18-2017.txt: extraordinary circumstance\n",
            "J-S-S-AXXX-XXX-471-BIA-March-30-2020_secret_password=Xaad4T3TnD5zABc38BRQ.txt: extraordinary circumstance\n",
            "J-S-S-AXXX-XXX-471-BIA-March-30-2020_secret_password=Xaad4T3TnD5zABc38BRQ.txt: changed circumstance\n",
            "K-A-B-R-AXXX-XXX-670-BIA-June-22-2020_secret_password=Ih23KW2ewyidghVNlDo8.txt: extraordinary circumstance\n",
            "A-R-A-AXXX-XXX-199-BIA-March-13-2020_secret_password=racYva0AwoMeWYIwIvbB.txt: extraordinary circumstance\n",
            "A-R-A-AXXX-XXX-199-BIA-March-13-2020_secret_password=racYva0AwoMeWYIwIvbB.txt: changed circumstance\n",
            "G-A-H-AXXX-XXX-097-BIA-July-27-2020_secret_password=IEIh9GHvL68uc2fZJSI9.txt: extraordinary circumstance\n",
            "G-A-H-AXXX-XXX-097-BIA-July-27-2020_secret_password=IEIh9GHvL68uc2fZJSI9.txt: changed circumstance\n",
            "H-A-C-G-AXXX-XXX-420-BIA-May-8-2019_secret_password=nkA2dznSkpGXdniwiJZk.txt: extraordinary circumstance\n",
            "D-A-A-AXXX-XXX-643-BIA-Dec-19-2019_secret_password=xEnQxqofVDdyE4DSdgZk.txt: extraordinary circumstance\n",
            "J-R-F-F-AXXX-XXX-634-BIA-July-9-2019_secret_password=Qy5GXwkhU0zSVaivXRih.txt: extraordinary circumstance\n",
            "J-R-F-F-AXXX-XXX-634-BIA-July-9-2019_secret_password=Qy5GXwkhU0zSVaivXRih.txt: changed circumstance\n",
            "J-J-I-I-AXXX-XXX-297-BIA-May-30-2019_secret_password=dojByDvtlN5UoMMkyEEP.txt: extraordinary circumstance\n",
            "J-J-I-I-AXXX-XXX-297-BIA-May-30-2019_secret_password=dojByDvtlN5UoMMkyEEP.txt: changed circumstance\n",
            "W-S-Y-AXXX-XXX-857-BIA-June-6-2019_secret_password=70fPMUEs2xGdQi5NKHDd.txt: extraordinary circumstance\n",
            "T-O-AXXX-XXX-343-BIA-Dec-30-2019_secret_password=JmwvKcOZXYXGjY3yCyeJ.txt: extraordinary circumstance\n",
            "R-U-J-AXXX-XXX-713-BIA-Oct-15-2019_secret_password=wunNKi2XjXbaw7MQRHgz.txt: changed circumstance\n",
            "M-D-C-J-AXXX-XXX-846-BIA-Feb-18-2020_secret_password=NpXKTulG3RTPNVEsIgDz.txt: extraordinary circumstance\n",
            "M-D-C-J-AXXX-XXX-846-BIA-Feb-18-2020_secret_password=NpXKTulG3RTPNVEsIgDz.txt: changed circumstance\n",
            "M-J-R-M-AXXX-XXX-473-BIA-Oct-31-2019_secret_password=CJAeD0AeISpmDd0mMqMl.txt: extraordinary circumstance\n",
            "D-E-O-G-AXXX-XXX-904-BIA-June-18-2019_secret_password=sx4FE4xMyBkqweEVQ1gY.txt: extraordinary circumstance\n",
            "E-A-D-AXXX-XXX-097-BIA-May-20-2019_secret_password=JvAWXsmMT93ZCqjfWxHG.txt: extraordinary circumstance\n",
            "V-A-P-D-AXXX-XXX-095-630-157-BIA-Dec-13-2019_secret_password=zaDKnEZ5mduHK25goIOY.txt: changed circumstance\n",
            "M-S-AXXX-XXX-870-BIA-Sept-27-2019_secret_password=hNMO7Nok360IRyEefcMl.txt: changed circumstance\n",
            "J-A-G-AXXX-XXX-969-BIA-Aug-1-2019_secret_password=hGtWAfW0GQHLKvMVUKAH.txt: extraordinary circumstance\n",
            "J-A-G-AXXX-XXX-969-BIA-Aug-1-2019_secret_password=hGtWAfW0GQHLKvMVUKAH.txt: changed circumstance\n",
            "C-R-R-AXXX-XXX-955-BIA-Oct-20-2019_secret_password=0IobPI8pu0q6A3SPqPrz.txt: changed circumstance\n",
            "E-R-Z-AXXX-XXX-479-BIA-Oct-12-2018_secret_password=pYklLIvulB9w7Lud3JDi.txt: changed circumstance\n",
            "A-D-AXXX-XXX-526-BIA-May-22-2017.txt: extraordinary circumstance\n",
            "A-D-AXXX-XXX-526-BIA-May-22-2017.txt: changed circumstance\n",
            "H-M-C-J-AXXX-XXX-586-BIA-March-1-2018_secret_password=GG1eV8bffNQDy5GXq1GM.txt: extraordinary circumstance\n",
            "F-M-N-AXXX-XXX-877-BIA-Dec-27-2018_secret_password=rmLNQ3etRDLsWoxqCA96.txt: extraordinary circumstance\n",
            "D-M-R-BIA-June-9-2015.txt: extraordinary circumstance\n",
            "S-V-C-AXXX-XXX-431-BIA-Nov-1-2016.txt: extraordinary circumstance\n",
            "S-V-C-AXXX-XXX-431-BIA-Nov-1-2016.txt: changed circumstance\n",
            "E-Y-A-G-AXXX-XXX-756-BIA-Nov-13-2019_secret_password=bVn9n4Rvh5Qt4biH3vNw.txt: changed circumstance\n",
            "Done checking\n",
            "'changed circumstance': 17/354: 4.8%, 'extraordinary circumstance': 21/354: 0.0593%\n"
          ],
          "name": "stdout"
        }
      ]
    },
    {
      "cell_type": "code",
      "metadata": {
        "id": "WDB0zSZbjBJD"
      },
      "source": [
        ""
      ],
      "execution_count": null,
      "outputs": []
    },
    {
      "cell_type": "markdown",
      "metadata": {
        "id": "gooQETCYsKL9"
      },
      "source": [
        "Above are the txt files that include either the term \"changed circumstance\" or \"extraordinary circumstance\".\r\n",
        "\r\n",
        "#Notes:\r\n",
        "\r\n",
        "1) Some of the text files might have escape sequences between those two words, like \"changed\\ncircumstances\" if the second word was on the next line.\r\n",
        "\r\n",
        "2) The two words might exist together in the PDF, but the OCR might have picked up \"changed c!rcum5tances\" for example, leaving that doc out of the above list.\r\n",
        "\r\n",
        "3) Numbers still need to be calculated, and some quick matplotlib visuals might be great, too.\r\n",
        "\r\n",
        "4) The txt files used so far do not include the new cases provided by stakeholder thru Frank on 2/17/21 and uploaded in PDF format to the shared drive on 2/18/21 by Noah.  Those still need to be run thru OCR."
      ]
    },
    {
      "cell_type": "code",
      "metadata": {
        "id": "QBKjwvg-szcZ"
      },
      "source": [
        ""
      ],
      "execution_count": null,
      "outputs": []
    }
  ]
}