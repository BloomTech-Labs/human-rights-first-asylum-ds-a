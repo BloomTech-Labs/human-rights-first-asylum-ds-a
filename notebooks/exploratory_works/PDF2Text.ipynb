{
 "cells": [
  {
   "cell_type": "markdown",
   "metadata": {
    "id": "xZ4pCuLv6_OM"
   },
   "source": [
    "### DEPENDENCIES:\n",
    "\n",
    "• pdf2image  \n",
    "    `converts each page in a pdf file into a jpeg image`\n",
    "\n",
    "• pytesseract  \n",
    "    `converts the jpeg images into text`"
   ]
  },
  {
   "cell_type": "code",
   "execution_count": null,
   "metadata": {
    "id": "BV_69zzv2woS"
   },
   "outputs": [],
   "source": [
    "%%capture\n",
    "!sudo apt-get install tesseract-ocr\n",
    "!sudo apt-get install poppler-utils --fix-missing\n",
    "!pip install pytesseract\n",
    "!pip install pdf2image"
   ]
  },
  {
   "cell_type": "code",
   "execution_count": null,
   "metadata": {
    "colab": {
     "base_uri": "https://localhost:8080/"
    },
    "id": "_1LMVGiaCDTj",
    "outputId": "7d75aa1a-b4fd-46a2-c317-62d4ba182f1e"
   },
   "outputs": [],
   "source": [
    "from typing import List, Tuple\n",
    "import pytesseract \n",
    "from pdf2image import convert_from_path \n",
    "import os\n",
    "\n",
    "from google.colab import drive\n",
    "drive.mount('/content/drive')"
   ]
  },
  {
   "cell_type": "markdown",
   "metadata": {
    "id": "LM3Y_uBp70x2"
   },
   "source": [
    "• This code uses google drive in order to host the files. If using a different file structure, set your own paths variables `PDF_DIR` and `TXT_DIR`"
   ]
  },
  {
   "cell_type": "code",
   "execution_count": 3,
   "metadata": {
    "id": "lp1_3Qxp7BKW"
   },
   "outputs": [],
   "source": [
    "# Location of PDFs in Google Drive\n",
    "PDF_DIR: str = \"./drive/MyDrive/PDFs\"\n",
    "# Location of .txt files in Google Drive\n",
    "TXT_DIR: str = \"./drive/MyDrive/PDFtxts\"\n",
    "# List of PDF file names"
   ]
  },
  {
   "cell_type": "code",
   "execution_count": 4,
   "metadata": {
    "colab": {
     "base_uri": "https://localhost:8080/",
     "height": 35
    },
    "id": "KEhAv3bXPEqd",
    "outputId": "e4094f38-9479-441d-f035-3f20065c8c05"
   },
   "outputs": [
    {
     "data": {
      "application/vnd.google.colaboratory.intrinsic+json": {
       "type": "string"
      },
      "text/plain": [
       "'./drive/MyDrive/PDFs/140630293-Jose-Javier-Linares-Valencia-A059-170-269-BIA-Aug-23-2012.pdf'"
      ]
     },
     "execution_count": 4,
     "metadata": {
      "tags": []
     },
     "output_type": "execute_result"
    }
   ],
   "source": [
    "pdf_files = os.listdir(PDF_DIR)\n",
    "# Example of how to construct path with\n",
    "PDF_DIR + '/' + pdf_files[0]"
   ]
  },
  {
   "cell_type": "code",
   "execution_count": 5,
   "metadata": {
    "id": "NCo4fsf0L_Zo"
   },
   "outputs": [],
   "source": [
    "def convert_pdf_to_text(pdf_file: str, pdf_dir=PDF_DIR) -> str:\n",
    "    '''\n",
    "    Converts PDF to JPEG and uses Tesseract to convert JEPG to text. \n",
    "    '''\n",
    "    # Assemble path to PDF files\n",
    "    path_to = lambda file: pdf_dir + '/' + file \n",
    "    # Convert pages to list of JPEGS\n",
    "    pages = convert_from_path(path_to(pdf_file))\n",
    "    # Convert JPEGS into list of strings\n",
    "    pages_text: List[str] = [pytesseract.image_to_string(p) for p in pages]\n",
    "    del pages\n",
    "\n",
    "    return ''.join(pages_text)\n",
    "\n",
    "\n",
    "def pdf_text_filename(pdf_file: str) -> str:\n",
    "    '''\n",
    "    Replace \"*.pdf\" with \"*.txt\".\n",
    "    '''\n",
    "    return pdf_file[:-3] + \"txt\""
   ]
  },
  {
   "cell_type": "code",
   "execution_count": 6,
   "metadata": {
    "id": "hU7h-F2CQKuy"
   },
   "outputs": [],
   "source": [
    "def convert_and_save_all(pdf_files: List[str], \n",
    "                         pdf_dir=PDF_DIR, \n",
    "                         txt_dir=TXT_DIR) -> None:\n",
    "    '''\n",
    "    Given a list of pdf files in a directory, this func will convert all\n",
    "    into text files.\n",
    "    '''\n",
    "    txt_files: List[str] = os.listdir(txt_dir)\n",
    "\n",
    "    # List of (*.pdf, *.txt)\n",
    "    translated_file_names: List[Tuple[str, str]] = [\n",
    "        (pdf, pdf_text_filename(pdf)) for pdf in pdf_files \n",
    "                                      if pdf[-3:] == \"pdf\"\n",
    "    ]\n",
    "    # Filtered list of (*.pdf, *.txt) for unconverted PDFs\n",
    "    not_converted: List[Tuple[str, str]] = list(filter(\n",
    "        lambda f: f[1] not in txt_files,\n",
    "        translated_file_names\n",
    "    ))\n",
    "    print(\n",
    "        f\"{ len(not_converted) } \"\n",
    "        f\"out of {len(translated_file_names)} PDF files to convert.\"\n",
    "    )\n",
    "\n",
    "    num_to_convert = len(not_converted)\n",
    "    num_converted = 0\n",
    "\n",
    "    # Assemble path to location of saved .txt file\n",
    "    path_to = lambda file: txt_dir + '/' + file\n",
    "\n",
    "    for pdf, txt_fname in not_converted:\n",
    "        # Print progress\n",
    "        if num_converted % 50 == 0:\n",
    "            print(f\"{ round(num_converted/num_to_convert*100) }% converted...\")\n",
    "\n",
    "        text = convert_pdf_to_text(pdf, pdf_dir)\n",
    "        f = open(path_to(txt_fname), 'w')\n",
    "        f.write(text)\n",
    "        f.close()\n",
    "        # inc num converted\n",
    "        num_converted += 1\n",
    "\n",
    "    print(\"Finished!\")"
   ]
  },
  {
   "cell_type": "code",
   "execution_count": null,
   "metadata": {
    "colab": {
     "base_uri": "https://localhost:8080/"
    },
    "id": "3TeIQQ8tZ01o",
    "outputId": "ff4d4c65-d079-4106-c102-aa4250298b33"
   },
   "outputs": [
    {
     "name": "stdout",
     "output_type": "stream",
     "text": [
      "886 out of 1502 PDF files to convert.\n",
      "0% converted...\n"
     ]
    }
   ],
   "source": [
    "pdf_files: List[str] = os.listdir(PDF_DIR)\n",
    "convert_and_save_all(pdf_files)"
   ]
  }
 ],
 "metadata": {
  "colab": {
   "collapsed_sections": [],
   "name": "PDF2Text.ipynb",
   "provenance": []
  },
  "kernelspec": {
   "display_name": "Python 3",
   "language": "python",
   "name": "python3"
  },
  "language_info": {
   "codemirror_mode": {
    "name": "ipython",
    "version": 3
   },
   "file_extension": ".py",
   "mimetype": "text/x-python",
   "name": "python",
   "nbconvert_exporter": "python",
   "pygments_lexer": "ipython3",
   "version": "3.8.5"
  }
 },
 "nbformat": 4,
 "nbformat_minor": 1
}
