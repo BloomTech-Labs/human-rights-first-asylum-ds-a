{
  "nbformat": 4,
  "nbformat_minor": 0,
  "metadata": {
    "colab": {
      "name": "Case_Summary_Proposed_Feature.ipynb",
      "provenance": [],
      "collapsed_sections": []
    },
    "kernelspec": {
      "name": "python3",
      "display_name": "Python 3"
    },
    "language_info": {
      "name": "python"
    },
    "widgets": {
      "application/vnd.jupyter.widget-state+json": {
        "f68ad22f6fd44e4c86619a16b4a71c5f": {
          "model_module": "@jupyter-widgets/controls",
          "model_name": "HBoxModel",
          "model_module_version": "1.5.0",
          "state": {
            "_view_name": "HBoxView",
            "_dom_classes": [],
            "_model_name": "HBoxModel",
            "_view_module": "@jupyter-widgets/controls",
            "_model_module_version": "1.5.0",
            "_view_count": null,
            "_view_module_version": "1.5.0",
            "box_style": "",
            "layout": "IPY_MODEL_3d804c78483548f19b05614557889bbb",
            "_model_module": "@jupyter-widgets/controls",
            "children": [
              "IPY_MODEL_65f2158dfa0549cab39f46e37c6e5a83",
              "IPY_MODEL_dc34808d32ca43b99c592089c2c218cd",
              "IPY_MODEL_3368c575a04744e5ab34c52b96ed2e44"
            ]
          }
        },
        "3d804c78483548f19b05614557889bbb": {
          "model_module": "@jupyter-widgets/base",
          "model_name": "LayoutModel",
          "model_module_version": "1.2.0",
          "state": {
            "_view_name": "LayoutView",
            "grid_template_rows": null,
            "right": null,
            "justify_content": null,
            "_view_module": "@jupyter-widgets/base",
            "overflow": null,
            "_model_module_version": "1.2.0",
            "_view_count": null,
            "flex_flow": null,
            "width": null,
            "min_width": null,
            "border": null,
            "align_items": null,
            "bottom": null,
            "_model_module": "@jupyter-widgets/base",
            "top": null,
            "grid_column": null,
            "overflow_y": null,
            "overflow_x": null,
            "grid_auto_flow": null,
            "grid_area": null,
            "grid_template_columns": null,
            "flex": null,
            "_model_name": "LayoutModel",
            "justify_items": null,
            "grid_row": null,
            "max_height": null,
            "align_content": null,
            "visibility": null,
            "align_self": null,
            "height": null,
            "min_height": null,
            "padding": null,
            "grid_auto_rows": null,
            "grid_gap": null,
            "max_width": null,
            "order": null,
            "_view_module_version": "1.2.0",
            "grid_template_areas": null,
            "object_position": null,
            "object_fit": null,
            "grid_auto_columns": null,
            "margin": null,
            "display": null,
            "left": null
          }
        },
        "65f2158dfa0549cab39f46e37c6e5a83": {
          "model_module": "@jupyter-widgets/controls",
          "model_name": "HTMLModel",
          "model_module_version": "1.5.0",
          "state": {
            "_view_name": "HTMLView",
            "style": "IPY_MODEL_267d868bb447476ca003d849c1777b91",
            "_dom_classes": [],
            "description": "",
            "_model_name": "HTMLModel",
            "placeholder": "​",
            "_view_module": "@jupyter-widgets/controls",
            "_model_module_version": "1.5.0",
            "value": "Downloading: 100%",
            "_view_count": null,
            "_view_module_version": "1.5.0",
            "description_tooltip": null,
            "_model_module": "@jupyter-widgets/controls",
            "layout": "IPY_MODEL_08712d96b8fc490f8405efe70d51a2dc"
          }
        },
        "dc34808d32ca43b99c592089c2c218cd": {
          "model_module": "@jupyter-widgets/controls",
          "model_name": "FloatProgressModel",
          "model_module_version": "1.5.0",
          "state": {
            "_view_name": "ProgressView",
            "style": "IPY_MODEL_7ebe060e52cf422784c02c03de83f4cd",
            "_dom_classes": [],
            "description": "",
            "_model_name": "FloatProgressModel",
            "bar_style": "success",
            "max": 1508,
            "_view_module": "@jupyter-widgets/controls",
            "_model_module_version": "1.5.0",
            "value": 1508,
            "_view_count": null,
            "_view_module_version": "1.5.0",
            "orientation": "horizontal",
            "min": 0,
            "description_tooltip": null,
            "_model_module": "@jupyter-widgets/controls",
            "layout": "IPY_MODEL_4587e132ec7f4b4abb6fd465e00dce9b"
          }
        },
        "3368c575a04744e5ab34c52b96ed2e44": {
          "model_module": "@jupyter-widgets/controls",
          "model_name": "HTMLModel",
          "model_module_version": "1.5.0",
          "state": {
            "_view_name": "HTMLView",
            "style": "IPY_MODEL_b788c14cfa064a63b77c69c0c24dbed6",
            "_dom_classes": [],
            "description": "",
            "_model_name": "HTMLModel",
            "placeholder": "​",
            "_view_module": "@jupyter-widgets/controls",
            "_model_module_version": "1.5.0",
            "value": " 1.47k/1.47k [00:00&lt;00:00, 25.7kB/s]",
            "_view_count": null,
            "_view_module_version": "1.5.0",
            "description_tooltip": null,
            "_model_module": "@jupyter-widgets/controls",
            "layout": "IPY_MODEL_be783a70e5d14359b809839558f0b506"
          }
        },
        "267d868bb447476ca003d849c1777b91": {
          "model_module": "@jupyter-widgets/controls",
          "model_name": "DescriptionStyleModel",
          "model_module_version": "1.5.0",
          "state": {
            "_view_name": "StyleView",
            "_model_name": "DescriptionStyleModel",
            "description_width": "",
            "_view_module": "@jupyter-widgets/base",
            "_model_module_version": "1.5.0",
            "_view_count": null,
            "_view_module_version": "1.2.0",
            "_model_module": "@jupyter-widgets/controls"
          }
        },
        "08712d96b8fc490f8405efe70d51a2dc": {
          "model_module": "@jupyter-widgets/base",
          "model_name": "LayoutModel",
          "model_module_version": "1.2.0",
          "state": {
            "_view_name": "LayoutView",
            "grid_template_rows": null,
            "right": null,
            "justify_content": null,
            "_view_module": "@jupyter-widgets/base",
            "overflow": null,
            "_model_module_version": "1.2.0",
            "_view_count": null,
            "flex_flow": null,
            "width": null,
            "min_width": null,
            "border": null,
            "align_items": null,
            "bottom": null,
            "_model_module": "@jupyter-widgets/base",
            "top": null,
            "grid_column": null,
            "overflow_y": null,
            "overflow_x": null,
            "grid_auto_flow": null,
            "grid_area": null,
            "grid_template_columns": null,
            "flex": null,
            "_model_name": "LayoutModel",
            "justify_items": null,
            "grid_row": null,
            "max_height": null,
            "align_content": null,
            "visibility": null,
            "align_self": null,
            "height": null,
            "min_height": null,
            "padding": null,
            "grid_auto_rows": null,
            "grid_gap": null,
            "max_width": null,
            "order": null,
            "_view_module_version": "1.2.0",
            "grid_template_areas": null,
            "object_position": null,
            "object_fit": null,
            "grid_auto_columns": null,
            "margin": null,
            "display": null,
            "left": null
          }
        },
        "7ebe060e52cf422784c02c03de83f4cd": {
          "model_module": "@jupyter-widgets/controls",
          "model_name": "ProgressStyleModel",
          "model_module_version": "1.5.0",
          "state": {
            "_view_name": "StyleView",
            "_model_name": "ProgressStyleModel",
            "description_width": "",
            "_view_module": "@jupyter-widgets/base",
            "_model_module_version": "1.5.0",
            "_view_count": null,
            "_view_module_version": "1.2.0",
            "bar_color": null,
            "_model_module": "@jupyter-widgets/controls"
          }
        },
        "4587e132ec7f4b4abb6fd465e00dce9b": {
          "model_module": "@jupyter-widgets/base",
          "model_name": "LayoutModel",
          "model_module_version": "1.2.0",
          "state": {
            "_view_name": "LayoutView",
            "grid_template_rows": null,
            "right": null,
            "justify_content": null,
            "_view_module": "@jupyter-widgets/base",
            "overflow": null,
            "_model_module_version": "1.2.0",
            "_view_count": null,
            "flex_flow": null,
            "width": null,
            "min_width": null,
            "border": null,
            "align_items": null,
            "bottom": null,
            "_model_module": "@jupyter-widgets/base",
            "top": null,
            "grid_column": null,
            "overflow_y": null,
            "overflow_x": null,
            "grid_auto_flow": null,
            "grid_area": null,
            "grid_template_columns": null,
            "flex": null,
            "_model_name": "LayoutModel",
            "justify_items": null,
            "grid_row": null,
            "max_height": null,
            "align_content": null,
            "visibility": null,
            "align_self": null,
            "height": null,
            "min_height": null,
            "padding": null,
            "grid_auto_rows": null,
            "grid_gap": null,
            "max_width": null,
            "order": null,
            "_view_module_version": "1.2.0",
            "grid_template_areas": null,
            "object_position": null,
            "object_fit": null,
            "grid_auto_columns": null,
            "margin": null,
            "display": null,
            "left": null
          }
        },
        "b788c14cfa064a63b77c69c0c24dbed6": {
          "model_module": "@jupyter-widgets/controls",
          "model_name": "DescriptionStyleModel",
          "model_module_version": "1.5.0",
          "state": {
            "_view_name": "StyleView",
            "_model_name": "DescriptionStyleModel",
            "description_width": "",
            "_view_module": "@jupyter-widgets/base",
            "_model_module_version": "1.5.0",
            "_view_count": null,
            "_view_module_version": "1.2.0",
            "_model_module": "@jupyter-widgets/controls"
          }
        },
        "be783a70e5d14359b809839558f0b506": {
          "model_module": "@jupyter-widgets/base",
          "model_name": "LayoutModel",
          "model_module_version": "1.2.0",
          "state": {
            "_view_name": "LayoutView",
            "grid_template_rows": null,
            "right": null,
            "justify_content": null,
            "_view_module": "@jupyter-widgets/base",
            "overflow": null,
            "_model_module_version": "1.2.0",
            "_view_count": null,
            "flex_flow": null,
            "width": null,
            "min_width": null,
            "border": null,
            "align_items": null,
            "bottom": null,
            "_model_module": "@jupyter-widgets/base",
            "top": null,
            "grid_column": null,
            "overflow_y": null,
            "overflow_x": null,
            "grid_auto_flow": null,
            "grid_area": null,
            "grid_template_columns": null,
            "flex": null,
            "_model_name": "LayoutModel",
            "justify_items": null,
            "grid_row": null,
            "max_height": null,
            "align_content": null,
            "visibility": null,
            "align_self": null,
            "height": null,
            "min_height": null,
            "padding": null,
            "grid_auto_rows": null,
            "grid_gap": null,
            "max_width": null,
            "order": null,
            "_view_module_version": "1.2.0",
            "grid_template_areas": null,
            "object_position": null,
            "object_fit": null,
            "grid_auto_columns": null,
            "margin": null,
            "display": null,
            "left": null
          }
        },
        "b4198910877344e1b7e5d118a5f24c4e": {
          "model_module": "@jupyter-widgets/controls",
          "model_name": "HBoxModel",
          "model_module_version": "1.5.0",
          "state": {
            "_view_name": "HBoxView",
            "_dom_classes": [],
            "_model_name": "HBoxModel",
            "_view_module": "@jupyter-widgets/controls",
            "_model_module_version": "1.5.0",
            "_view_count": null,
            "_view_module_version": "1.5.0",
            "box_style": "",
            "layout": "IPY_MODEL_79a67261470d4789b00c41460fe31f31",
            "_model_module": "@jupyter-widgets/controls",
            "children": [
              "IPY_MODEL_49cc54e2daad4b028f53c900a7f756e5",
              "IPY_MODEL_c726fb1b3181431aa8255973416374d8",
              "IPY_MODEL_1adf565d93594dd89fd0837b5e38daab"
            ]
          }
        },
        "79a67261470d4789b00c41460fe31f31": {
          "model_module": "@jupyter-widgets/base",
          "model_name": "LayoutModel",
          "model_module_version": "1.2.0",
          "state": {
            "_view_name": "LayoutView",
            "grid_template_rows": null,
            "right": null,
            "justify_content": null,
            "_view_module": "@jupyter-widgets/base",
            "overflow": null,
            "_model_module_version": "1.2.0",
            "_view_count": null,
            "flex_flow": null,
            "width": null,
            "min_width": null,
            "border": null,
            "align_items": null,
            "bottom": null,
            "_model_module": "@jupyter-widgets/base",
            "top": null,
            "grid_column": null,
            "overflow_y": null,
            "overflow_x": null,
            "grid_auto_flow": null,
            "grid_area": null,
            "grid_template_columns": null,
            "flex": null,
            "_model_name": "LayoutModel",
            "justify_items": null,
            "grid_row": null,
            "max_height": null,
            "align_content": null,
            "visibility": null,
            "align_self": null,
            "height": null,
            "min_height": null,
            "padding": null,
            "grid_auto_rows": null,
            "grid_gap": null,
            "max_width": null,
            "order": null,
            "_view_module_version": "1.2.0",
            "grid_template_areas": null,
            "object_position": null,
            "object_fit": null,
            "grid_auto_columns": null,
            "margin": null,
            "display": null,
            "left": null
          }
        },
        "49cc54e2daad4b028f53c900a7f756e5": {
          "model_module": "@jupyter-widgets/controls",
          "model_name": "HTMLModel",
          "model_module_version": "1.5.0",
          "state": {
            "_view_name": "HTMLView",
            "style": "IPY_MODEL_22b54f0cb3a04e0bb75acb75405fb907",
            "_dom_classes": [],
            "description": "",
            "_model_name": "HTMLModel",
            "placeholder": "​",
            "_view_module": "@jupyter-widgets/controls",
            "_model_module_version": "1.5.0",
            "value": "Downloading: 100%",
            "_view_count": null,
            "_view_module_version": "1.5.0",
            "description_tooltip": null,
            "_model_module": "@jupyter-widgets/controls",
            "layout": "IPY_MODEL_13dabe760fdd45d29d8bbad25bf5fd9e"
          }
        },
        "c726fb1b3181431aa8255973416374d8": {
          "model_module": "@jupyter-widgets/controls",
          "model_name": "FloatProgressModel",
          "model_module_version": "1.5.0",
          "state": {
            "_view_name": "ProgressView",
            "style": "IPY_MODEL_d0138977239f437c866623bc41b0261b",
            "_dom_classes": [],
            "description": "",
            "_model_name": "FloatProgressModel",
            "bar_style": "success",
            "max": 1328,
            "_view_module": "@jupyter-widgets/controls",
            "_model_module_version": "1.5.0",
            "value": 1328,
            "_view_count": null,
            "_view_module_version": "1.5.0",
            "orientation": "horizontal",
            "min": 0,
            "description_tooltip": null,
            "_model_module": "@jupyter-widgets/controls",
            "layout": "IPY_MODEL_32e782dbbc824f49b43b9e5c223764bc"
          }
        },
        "1adf565d93594dd89fd0837b5e38daab": {
          "model_module": "@jupyter-widgets/controls",
          "model_name": "HTMLModel",
          "model_module_version": "1.5.0",
          "state": {
            "_view_name": "HTMLView",
            "style": "IPY_MODEL_77f8bf3a0eb04709a18a97bf28160c57",
            "_dom_classes": [],
            "description": "",
            "_model_name": "HTMLModel",
            "placeholder": "​",
            "_view_module": "@jupyter-widgets/controls",
            "_model_module_version": "1.5.0",
            "value": " 1.30k/1.30k [00:00&lt;00:00, 30.8kB/s]",
            "_view_count": null,
            "_view_module_version": "1.5.0",
            "description_tooltip": null,
            "_model_module": "@jupyter-widgets/controls",
            "layout": "IPY_MODEL_088f247513004b94bf1237a98f709d06"
          }
        },
        "22b54f0cb3a04e0bb75acb75405fb907": {
          "model_module": "@jupyter-widgets/controls",
          "model_name": "DescriptionStyleModel",
          "model_module_version": "1.5.0",
          "state": {
            "_view_name": "StyleView",
            "_model_name": "DescriptionStyleModel",
            "description_width": "",
            "_view_module": "@jupyter-widgets/base",
            "_model_module_version": "1.5.0",
            "_view_count": null,
            "_view_module_version": "1.2.0",
            "_model_module": "@jupyter-widgets/controls"
          }
        },
        "13dabe760fdd45d29d8bbad25bf5fd9e": {
          "model_module": "@jupyter-widgets/base",
          "model_name": "LayoutModel",
          "model_module_version": "1.2.0",
          "state": {
            "_view_name": "LayoutView",
            "grid_template_rows": null,
            "right": null,
            "justify_content": null,
            "_view_module": "@jupyter-widgets/base",
            "overflow": null,
            "_model_module_version": "1.2.0",
            "_view_count": null,
            "flex_flow": null,
            "width": null,
            "min_width": null,
            "border": null,
            "align_items": null,
            "bottom": null,
            "_model_module": "@jupyter-widgets/base",
            "top": null,
            "grid_column": null,
            "overflow_y": null,
            "overflow_x": null,
            "grid_auto_flow": null,
            "grid_area": null,
            "grid_template_columns": null,
            "flex": null,
            "_model_name": "LayoutModel",
            "justify_items": null,
            "grid_row": null,
            "max_height": null,
            "align_content": null,
            "visibility": null,
            "align_self": null,
            "height": null,
            "min_height": null,
            "padding": null,
            "grid_auto_rows": null,
            "grid_gap": null,
            "max_width": null,
            "order": null,
            "_view_module_version": "1.2.0",
            "grid_template_areas": null,
            "object_position": null,
            "object_fit": null,
            "grid_auto_columns": null,
            "margin": null,
            "display": null,
            "left": null
          }
        },
        "d0138977239f437c866623bc41b0261b": {
          "model_module": "@jupyter-widgets/controls",
          "model_name": "ProgressStyleModel",
          "model_module_version": "1.5.0",
          "state": {
            "_view_name": "StyleView",
            "_model_name": "ProgressStyleModel",
            "description_width": "",
            "_view_module": "@jupyter-widgets/base",
            "_model_module_version": "1.5.0",
            "_view_count": null,
            "_view_module_version": "1.2.0",
            "bar_color": null,
            "_model_module": "@jupyter-widgets/controls"
          }
        },
        "32e782dbbc824f49b43b9e5c223764bc": {
          "model_module": "@jupyter-widgets/base",
          "model_name": "LayoutModel",
          "model_module_version": "1.2.0",
          "state": {
            "_view_name": "LayoutView",
            "grid_template_rows": null,
            "right": null,
            "justify_content": null,
            "_view_module": "@jupyter-widgets/base",
            "overflow": null,
            "_model_module_version": "1.2.0",
            "_view_count": null,
            "flex_flow": null,
            "width": null,
            "min_width": null,
            "border": null,
            "align_items": null,
            "bottom": null,
            "_model_module": "@jupyter-widgets/base",
            "top": null,
            "grid_column": null,
            "overflow_y": null,
            "overflow_x": null,
            "grid_auto_flow": null,
            "grid_area": null,
            "grid_template_columns": null,
            "flex": null,
            "_model_name": "LayoutModel",
            "justify_items": null,
            "grid_row": null,
            "max_height": null,
            "align_content": null,
            "visibility": null,
            "align_self": null,
            "height": null,
            "min_height": null,
            "padding": null,
            "grid_auto_rows": null,
            "grid_gap": null,
            "max_width": null,
            "order": null,
            "_view_module_version": "1.2.0",
            "grid_template_areas": null,
            "object_position": null,
            "object_fit": null,
            "grid_auto_columns": null,
            "margin": null,
            "display": null,
            "left": null
          }
        },
        "77f8bf3a0eb04709a18a97bf28160c57": {
          "model_module": "@jupyter-widgets/controls",
          "model_name": "DescriptionStyleModel",
          "model_module_version": "1.5.0",
          "state": {
            "_view_name": "StyleView",
            "_model_name": "DescriptionStyleModel",
            "description_width": "",
            "_view_module": "@jupyter-widgets/base",
            "_model_module_version": "1.5.0",
            "_view_count": null,
            "_view_module_version": "1.2.0",
            "_model_module": "@jupyter-widgets/controls"
          }
        },
        "088f247513004b94bf1237a98f709d06": {
          "model_module": "@jupyter-widgets/base",
          "model_name": "LayoutModel",
          "model_module_version": "1.2.0",
          "state": {
            "_view_name": "LayoutView",
            "grid_template_rows": null,
            "right": null,
            "justify_content": null,
            "_view_module": "@jupyter-widgets/base",
            "overflow": null,
            "_model_module_version": "1.2.0",
            "_view_count": null,
            "flex_flow": null,
            "width": null,
            "min_width": null,
            "border": null,
            "align_items": null,
            "bottom": null,
            "_model_module": "@jupyter-widgets/base",
            "top": null,
            "grid_column": null,
            "overflow_y": null,
            "overflow_x": null,
            "grid_auto_flow": null,
            "grid_area": null,
            "grid_template_columns": null,
            "flex": null,
            "_model_name": "LayoutModel",
            "justify_items": null,
            "grid_row": null,
            "max_height": null,
            "align_content": null,
            "visibility": null,
            "align_self": null,
            "height": null,
            "min_height": null,
            "padding": null,
            "grid_auto_rows": null,
            "grid_gap": null,
            "max_width": null,
            "order": null,
            "_view_module_version": "1.2.0",
            "grid_template_areas": null,
            "object_position": null,
            "object_fit": null,
            "grid_auto_columns": null,
            "margin": null,
            "display": null,
            "left": null
          }
        },
        "3612fa5ef9e7431d9ceca561695cec45": {
          "model_module": "@jupyter-widgets/controls",
          "model_name": "HBoxModel",
          "model_module_version": "1.5.0",
          "state": {
            "_view_name": "HBoxView",
            "_dom_classes": [],
            "_model_name": "HBoxModel",
            "_view_module": "@jupyter-widgets/controls",
            "_model_module_version": "1.5.0",
            "_view_count": null,
            "_view_module_version": "1.5.0",
            "box_style": "",
            "layout": "IPY_MODEL_0e31c1f9907740fb9867fd7dbe0118d0",
            "_model_module": "@jupyter-widgets/controls",
            "children": [
              "IPY_MODEL_0be6b428fe01412ea0712435426a2a62",
              "IPY_MODEL_cd76cd6b41a648be806d359876d9766a",
              "IPY_MODEL_fa724c4c41c944499a80933e5b5e4fdc"
            ]
          }
        },
        "0e31c1f9907740fb9867fd7dbe0118d0": {
          "model_module": "@jupyter-widgets/base",
          "model_name": "LayoutModel",
          "model_module_version": "1.2.0",
          "state": {
            "_view_name": "LayoutView",
            "grid_template_rows": null,
            "right": null,
            "justify_content": null,
            "_view_module": "@jupyter-widgets/base",
            "overflow": null,
            "_model_module_version": "1.2.0",
            "_view_count": null,
            "flex_flow": null,
            "width": null,
            "min_width": null,
            "border": null,
            "align_items": null,
            "bottom": null,
            "_model_module": "@jupyter-widgets/base",
            "top": null,
            "grid_column": null,
            "overflow_y": null,
            "overflow_x": null,
            "grid_auto_flow": null,
            "grid_area": null,
            "grid_template_columns": null,
            "flex": null,
            "_model_name": "LayoutModel",
            "justify_items": null,
            "grid_row": null,
            "max_height": null,
            "align_content": null,
            "visibility": null,
            "align_self": null,
            "height": null,
            "min_height": null,
            "padding": null,
            "grid_auto_rows": null,
            "grid_gap": null,
            "max_width": null,
            "order": null,
            "_view_module_version": "1.2.0",
            "grid_template_areas": null,
            "object_position": null,
            "object_fit": null,
            "grid_auto_columns": null,
            "margin": null,
            "display": null,
            "left": null
          }
        },
        "0be6b428fe01412ea0712435426a2a62": {
          "model_module": "@jupyter-widgets/controls",
          "model_name": "HTMLModel",
          "model_module_version": "1.5.0",
          "state": {
            "_view_name": "HTMLView",
            "style": "IPY_MODEL_227667c3f276467fb76b2ed759ba3954",
            "_dom_classes": [],
            "description": "",
            "_model_name": "HTMLModel",
            "placeholder": "​",
            "_view_module": "@jupyter-widgets/controls",
            "_model_module_version": "1.5.0",
            "value": "Downloading: 100%",
            "_view_count": null,
            "_view_module_version": "1.5.0",
            "description_tooltip": null,
            "_model_module": "@jupyter-widgets/controls",
            "layout": "IPY_MODEL_8538ff0384b146e9a53213f77a480034"
          }
        },
        "cd76cd6b41a648be806d359876d9766a": {
          "model_module": "@jupyter-widgets/controls",
          "model_name": "FloatProgressModel",
          "model_module_version": "1.5.0",
          "state": {
            "_view_name": "ProgressView",
            "style": "IPY_MODEL_91cc983fefbc4e07950efde14d90e935",
            "_dom_classes": [],
            "description": "",
            "_model_name": "FloatProgressModel",
            "bar_style": "success",
            "max": 1912529,
            "_view_module": "@jupyter-widgets/controls",
            "_model_module_version": "1.5.0",
            "value": 1912529,
            "_view_count": null,
            "_view_module_version": "1.5.0",
            "orientation": "horizontal",
            "min": 0,
            "description_tooltip": null,
            "_model_module": "@jupyter-widgets/controls",
            "layout": "IPY_MODEL_c5274aa8443b42318cc95998ae944be5"
          }
        },
        "fa724c4c41c944499a80933e5b5e4fdc": {
          "model_module": "@jupyter-widgets/controls",
          "model_name": "HTMLModel",
          "model_module_version": "1.5.0",
          "state": {
            "_view_name": "HTMLView",
            "style": "IPY_MODEL_e0807eb1fcf2464b869a82b5f4d94c1b",
            "_dom_classes": [],
            "description": "",
            "_model_name": "HTMLModel",
            "placeholder": "​",
            "_view_module": "@jupyter-widgets/controls",
            "_model_module_version": "1.5.0",
            "value": " 1.82M/1.82M [00:00&lt;00:00, 2.92MB/s]",
            "_view_count": null,
            "_view_module_version": "1.5.0",
            "description_tooltip": null,
            "_model_module": "@jupyter-widgets/controls",
            "layout": "IPY_MODEL_2372fff9d5d34ed5bda44d2c730544ec"
          }
        },
        "227667c3f276467fb76b2ed759ba3954": {
          "model_module": "@jupyter-widgets/controls",
          "model_name": "DescriptionStyleModel",
          "model_module_version": "1.5.0",
          "state": {
            "_view_name": "StyleView",
            "_model_name": "DescriptionStyleModel",
            "description_width": "",
            "_view_module": "@jupyter-widgets/base",
            "_model_module_version": "1.5.0",
            "_view_count": null,
            "_view_module_version": "1.2.0",
            "_model_module": "@jupyter-widgets/controls"
          }
        },
        "8538ff0384b146e9a53213f77a480034": {
          "model_module": "@jupyter-widgets/base",
          "model_name": "LayoutModel",
          "model_module_version": "1.2.0",
          "state": {
            "_view_name": "LayoutView",
            "grid_template_rows": null,
            "right": null,
            "justify_content": null,
            "_view_module": "@jupyter-widgets/base",
            "overflow": null,
            "_model_module_version": "1.2.0",
            "_view_count": null,
            "flex_flow": null,
            "width": null,
            "min_width": null,
            "border": null,
            "align_items": null,
            "bottom": null,
            "_model_module": "@jupyter-widgets/base",
            "top": null,
            "grid_column": null,
            "overflow_y": null,
            "overflow_x": null,
            "grid_auto_flow": null,
            "grid_area": null,
            "grid_template_columns": null,
            "flex": null,
            "_model_name": "LayoutModel",
            "justify_items": null,
            "grid_row": null,
            "max_height": null,
            "align_content": null,
            "visibility": null,
            "align_self": null,
            "height": null,
            "min_height": null,
            "padding": null,
            "grid_auto_rows": null,
            "grid_gap": null,
            "max_width": null,
            "order": null,
            "_view_module_version": "1.2.0",
            "grid_template_areas": null,
            "object_position": null,
            "object_fit": null,
            "grid_auto_columns": null,
            "margin": null,
            "display": null,
            "left": null
          }
        },
        "91cc983fefbc4e07950efde14d90e935": {
          "model_module": "@jupyter-widgets/controls",
          "model_name": "ProgressStyleModel",
          "model_module_version": "1.5.0",
          "state": {
            "_view_name": "StyleView",
            "_model_name": "ProgressStyleModel",
            "description_width": "",
            "_view_module": "@jupyter-widgets/base",
            "_model_module_version": "1.5.0",
            "_view_count": null,
            "_view_module_version": "1.2.0",
            "bar_color": null,
            "_model_module": "@jupyter-widgets/controls"
          }
        },
        "c5274aa8443b42318cc95998ae944be5": {
          "model_module": "@jupyter-widgets/base",
          "model_name": "LayoutModel",
          "model_module_version": "1.2.0",
          "state": {
            "_view_name": "LayoutView",
            "grid_template_rows": null,
            "right": null,
            "justify_content": null,
            "_view_module": "@jupyter-widgets/base",
            "overflow": null,
            "_model_module_version": "1.2.0",
            "_view_count": null,
            "flex_flow": null,
            "width": null,
            "min_width": null,
            "border": null,
            "align_items": null,
            "bottom": null,
            "_model_module": "@jupyter-widgets/base",
            "top": null,
            "grid_column": null,
            "overflow_y": null,
            "overflow_x": null,
            "grid_auto_flow": null,
            "grid_area": null,
            "grid_template_columns": null,
            "flex": null,
            "_model_name": "LayoutModel",
            "justify_items": null,
            "grid_row": null,
            "max_height": null,
            "align_content": null,
            "visibility": null,
            "align_self": null,
            "height": null,
            "min_height": null,
            "padding": null,
            "grid_auto_rows": null,
            "grid_gap": null,
            "max_width": null,
            "order": null,
            "_view_module_version": "1.2.0",
            "grid_template_areas": null,
            "object_position": null,
            "object_fit": null,
            "grid_auto_columns": null,
            "margin": null,
            "display": null,
            "left": null
          }
        },
        "e0807eb1fcf2464b869a82b5f4d94c1b": {
          "model_module": "@jupyter-widgets/controls",
          "model_name": "DescriptionStyleModel",
          "model_module_version": "1.5.0",
          "state": {
            "_view_name": "StyleView",
            "_model_name": "DescriptionStyleModel",
            "description_width": "",
            "_view_module": "@jupyter-widgets/base",
            "_model_module_version": "1.5.0",
            "_view_count": null,
            "_view_module_version": "1.2.0",
            "_model_module": "@jupyter-widgets/controls"
          }
        },
        "2372fff9d5d34ed5bda44d2c730544ec": {
          "model_module": "@jupyter-widgets/base",
          "model_name": "LayoutModel",
          "model_module_version": "1.2.0",
          "state": {
            "_view_name": "LayoutView",
            "grid_template_rows": null,
            "right": null,
            "justify_content": null,
            "_view_module": "@jupyter-widgets/base",
            "overflow": null,
            "_model_module_version": "1.2.0",
            "_view_count": null,
            "flex_flow": null,
            "width": null,
            "min_width": null,
            "border": null,
            "align_items": null,
            "bottom": null,
            "_model_module": "@jupyter-widgets/base",
            "top": null,
            "grid_column": null,
            "overflow_y": null,
            "overflow_x": null,
            "grid_auto_flow": null,
            "grid_area": null,
            "grid_template_columns": null,
            "flex": null,
            "_model_name": "LayoutModel",
            "justify_items": null,
            "grid_row": null,
            "max_height": null,
            "align_content": null,
            "visibility": null,
            "align_self": null,
            "height": null,
            "min_height": null,
            "padding": null,
            "grid_auto_rows": null,
            "grid_gap": null,
            "max_width": null,
            "order": null,
            "_view_module_version": "1.2.0",
            "grid_template_areas": null,
            "object_position": null,
            "object_fit": null,
            "grid_auto_columns": null,
            "margin": null,
            "display": null,
            "left": null
          }
        },
        "29bd94c0705e4379beb8861e0bb82c45": {
          "model_module": "@jupyter-widgets/controls",
          "model_name": "HBoxModel",
          "model_module_version": "1.5.0",
          "state": {
            "_view_name": "HBoxView",
            "_dom_classes": [],
            "_model_name": "HBoxModel",
            "_view_module": "@jupyter-widgets/controls",
            "_model_module_version": "1.5.0",
            "_view_count": null,
            "_view_module_version": "1.5.0",
            "box_style": "",
            "layout": "IPY_MODEL_2f8e3053e2b54762a0a670556226f1af",
            "_model_module": "@jupyter-widgets/controls",
            "children": [
              "IPY_MODEL_b5a177cdde594c999ed610940e56e3a5",
              "IPY_MODEL_fa92f7fa8b47478cb2b79c67d8bc7ea9",
              "IPY_MODEL_bcde74ef5b6c4736a52a2f1dfb449465"
            ]
          }
        },
        "2f8e3053e2b54762a0a670556226f1af": {
          "model_module": "@jupyter-widgets/base",
          "model_name": "LayoutModel",
          "model_module_version": "1.2.0",
          "state": {
            "_view_name": "LayoutView",
            "grid_template_rows": null,
            "right": null,
            "justify_content": null,
            "_view_module": "@jupyter-widgets/base",
            "overflow": null,
            "_model_module_version": "1.2.0",
            "_view_count": null,
            "flex_flow": null,
            "width": null,
            "min_width": null,
            "border": null,
            "align_items": null,
            "bottom": null,
            "_model_module": "@jupyter-widgets/base",
            "top": null,
            "grid_column": null,
            "overflow_y": null,
            "overflow_x": null,
            "grid_auto_flow": null,
            "grid_area": null,
            "grid_template_columns": null,
            "flex": null,
            "_model_name": "LayoutModel",
            "justify_items": null,
            "grid_row": null,
            "max_height": null,
            "align_content": null,
            "visibility": null,
            "align_self": null,
            "height": null,
            "min_height": null,
            "padding": null,
            "grid_auto_rows": null,
            "grid_gap": null,
            "max_width": null,
            "order": null,
            "_view_module_version": "1.2.0",
            "grid_template_areas": null,
            "object_position": null,
            "object_fit": null,
            "grid_auto_columns": null,
            "margin": null,
            "display": null,
            "left": null
          }
        },
        "b5a177cdde594c999ed610940e56e3a5": {
          "model_module": "@jupyter-widgets/controls",
          "model_name": "HTMLModel",
          "model_module_version": "1.5.0",
          "state": {
            "_view_name": "HTMLView",
            "style": "IPY_MODEL_f2ccc5f201084599bf21b7e6d5eea13d",
            "_dom_classes": [],
            "description": "",
            "_model_name": "HTMLModel",
            "placeholder": "​",
            "_view_module": "@jupyter-widgets/controls",
            "_model_module_version": "1.5.0",
            "value": "Downloading: 100%",
            "_view_count": null,
            "_view_module_version": "1.5.0",
            "description_tooltip": null,
            "_model_module": "@jupyter-widgets/controls",
            "layout": "IPY_MODEL_78bf1c6e5fc349698e763fd3909f5470"
          }
        },
        "fa92f7fa8b47478cb2b79c67d8bc7ea9": {
          "model_module": "@jupyter-widgets/controls",
          "model_name": "FloatProgressModel",
          "model_module_version": "1.5.0",
          "state": {
            "_view_name": "ProgressView",
            "style": "IPY_MODEL_c724ea0666ba4264ab1b967a32fbdea6",
            "_dom_classes": [],
            "description": "",
            "_model_name": "FloatProgressModel",
            "bar_style": "success",
            "max": 1341,
            "_view_module": "@jupyter-widgets/controls",
            "_model_module_version": "1.5.0",
            "value": 1341,
            "_view_count": null,
            "_view_module_version": "1.5.0",
            "orientation": "horizontal",
            "min": 0,
            "description_tooltip": null,
            "_model_module": "@jupyter-widgets/controls",
            "layout": "IPY_MODEL_e053c2a07984445fbf18cc23213e9562"
          }
        },
        "bcde74ef5b6c4736a52a2f1dfb449465": {
          "model_module": "@jupyter-widgets/controls",
          "model_name": "HTMLModel",
          "model_module_version": "1.5.0",
          "state": {
            "_view_name": "HTMLView",
            "style": "IPY_MODEL_4a43f503121b49538ef9b7c1e0fc549d",
            "_dom_classes": [],
            "description": "",
            "_model_name": "HTMLModel",
            "placeholder": "​",
            "_view_module": "@jupyter-widgets/controls",
            "_model_module_version": "1.5.0",
            "value": " 1.31k/1.31k [00:00&lt;00:00, 30.6kB/s]",
            "_view_count": null,
            "_view_module_version": "1.5.0",
            "description_tooltip": null,
            "_model_module": "@jupyter-widgets/controls",
            "layout": "IPY_MODEL_1a451de1913f4e2380aae6998f69e130"
          }
        },
        "f2ccc5f201084599bf21b7e6d5eea13d": {
          "model_module": "@jupyter-widgets/controls",
          "model_name": "DescriptionStyleModel",
          "model_module_version": "1.5.0",
          "state": {
            "_view_name": "StyleView",
            "_model_name": "DescriptionStyleModel",
            "description_width": "",
            "_view_module": "@jupyter-widgets/base",
            "_model_module_version": "1.5.0",
            "_view_count": null,
            "_view_module_version": "1.2.0",
            "_model_module": "@jupyter-widgets/controls"
          }
        },
        "78bf1c6e5fc349698e763fd3909f5470": {
          "model_module": "@jupyter-widgets/base",
          "model_name": "LayoutModel",
          "model_module_version": "1.2.0",
          "state": {
            "_view_name": "LayoutView",
            "grid_template_rows": null,
            "right": null,
            "justify_content": null,
            "_view_module": "@jupyter-widgets/base",
            "overflow": null,
            "_model_module_version": "1.2.0",
            "_view_count": null,
            "flex_flow": null,
            "width": null,
            "min_width": null,
            "border": null,
            "align_items": null,
            "bottom": null,
            "_model_module": "@jupyter-widgets/base",
            "top": null,
            "grid_column": null,
            "overflow_y": null,
            "overflow_x": null,
            "grid_auto_flow": null,
            "grid_area": null,
            "grid_template_columns": null,
            "flex": null,
            "_model_name": "LayoutModel",
            "justify_items": null,
            "grid_row": null,
            "max_height": null,
            "align_content": null,
            "visibility": null,
            "align_self": null,
            "height": null,
            "min_height": null,
            "padding": null,
            "grid_auto_rows": null,
            "grid_gap": null,
            "max_width": null,
            "order": null,
            "_view_module_version": "1.2.0",
            "grid_template_areas": null,
            "object_position": null,
            "object_fit": null,
            "grid_auto_columns": null,
            "margin": null,
            "display": null,
            "left": null
          }
        },
        "c724ea0666ba4264ab1b967a32fbdea6": {
          "model_module": "@jupyter-widgets/controls",
          "model_name": "ProgressStyleModel",
          "model_module_version": "1.5.0",
          "state": {
            "_view_name": "StyleView",
            "_model_name": "ProgressStyleModel",
            "description_width": "",
            "_view_module": "@jupyter-widgets/base",
            "_model_module_version": "1.5.0",
            "_view_count": null,
            "_view_module_version": "1.2.0",
            "bar_color": null,
            "_model_module": "@jupyter-widgets/controls"
          }
        },
        "e053c2a07984445fbf18cc23213e9562": {
          "model_module": "@jupyter-widgets/base",
          "model_name": "LayoutModel",
          "model_module_version": "1.2.0",
          "state": {
            "_view_name": "LayoutView",
            "grid_template_rows": null,
            "right": null,
            "justify_content": null,
            "_view_module": "@jupyter-widgets/base",
            "overflow": null,
            "_model_module_version": "1.2.0",
            "_view_count": null,
            "flex_flow": null,
            "width": null,
            "min_width": null,
            "border": null,
            "align_items": null,
            "bottom": null,
            "_model_module": "@jupyter-widgets/base",
            "top": null,
            "grid_column": null,
            "overflow_y": null,
            "overflow_x": null,
            "grid_auto_flow": null,
            "grid_area": null,
            "grid_template_columns": null,
            "flex": null,
            "_model_name": "LayoutModel",
            "justify_items": null,
            "grid_row": null,
            "max_height": null,
            "align_content": null,
            "visibility": null,
            "align_self": null,
            "height": null,
            "min_height": null,
            "padding": null,
            "grid_auto_rows": null,
            "grid_gap": null,
            "max_width": null,
            "order": null,
            "_view_module_version": "1.2.0",
            "grid_template_areas": null,
            "object_position": null,
            "object_fit": null,
            "grid_auto_columns": null,
            "margin": null,
            "display": null,
            "left": null
          }
        },
        "4a43f503121b49538ef9b7c1e0fc549d": {
          "model_module": "@jupyter-widgets/controls",
          "model_name": "DescriptionStyleModel",
          "model_module_version": "1.5.0",
          "state": {
            "_view_name": "StyleView",
            "_model_name": "DescriptionStyleModel",
            "description_width": "",
            "_view_module": "@jupyter-widgets/base",
            "_model_module_version": "1.5.0",
            "_view_count": null,
            "_view_module_version": "1.2.0",
            "_model_module": "@jupyter-widgets/controls"
          }
        },
        "1a451de1913f4e2380aae6998f69e130": {
          "model_module": "@jupyter-widgets/base",
          "model_name": "LayoutModel",
          "model_module_version": "1.2.0",
          "state": {
            "_view_name": "LayoutView",
            "grid_template_rows": null,
            "right": null,
            "justify_content": null,
            "_view_module": "@jupyter-widgets/base",
            "overflow": null,
            "_model_module_version": "1.2.0",
            "_view_count": null,
            "flex_flow": null,
            "width": null,
            "min_width": null,
            "border": null,
            "align_items": null,
            "bottom": null,
            "_model_module": "@jupyter-widgets/base",
            "top": null,
            "grid_column": null,
            "overflow_y": null,
            "overflow_x": null,
            "grid_auto_flow": null,
            "grid_area": null,
            "grid_template_columns": null,
            "flex": null,
            "_model_name": "LayoutModel",
            "justify_items": null,
            "grid_row": null,
            "max_height": null,
            "align_content": null,
            "visibility": null,
            "align_self": null,
            "height": null,
            "min_height": null,
            "padding": null,
            "grid_auto_rows": null,
            "grid_gap": null,
            "max_width": null,
            "order": null,
            "_view_module_version": "1.2.0",
            "grid_template_areas": null,
            "object_position": null,
            "object_fit": null,
            "grid_auto_columns": null,
            "margin": null,
            "display": null,
            "left": null
          }
        },
        "7a37d2fcd8664dae9c2c4e5d08dbfcc8": {
          "model_module": "@jupyter-widgets/controls",
          "model_name": "HBoxModel",
          "model_module_version": "1.5.0",
          "state": {
            "_view_name": "HBoxView",
            "_dom_classes": [],
            "_model_name": "HBoxModel",
            "_view_module": "@jupyter-widgets/controls",
            "_model_module_version": "1.5.0",
            "_view_count": null,
            "_view_module_version": "1.5.0",
            "box_style": "",
            "layout": "IPY_MODEL_21f9546e02de409d89235a5e255a64b9",
            "_model_module": "@jupyter-widgets/controls",
            "children": [
              "IPY_MODEL_24bb214702ce45fbbc7c8054ed7f5078",
              "IPY_MODEL_6f82370e54e540d7b84172d6019b419e",
              "IPY_MODEL_230b68287ddb466c8eb3723047480389"
            ]
          }
        },
        "21f9546e02de409d89235a5e255a64b9": {
          "model_module": "@jupyter-widgets/base",
          "model_name": "LayoutModel",
          "model_module_version": "1.2.0",
          "state": {
            "_view_name": "LayoutView",
            "grid_template_rows": null,
            "right": null,
            "justify_content": null,
            "_view_module": "@jupyter-widgets/base",
            "overflow": null,
            "_model_module_version": "1.2.0",
            "_view_count": null,
            "flex_flow": null,
            "width": null,
            "min_width": null,
            "border": null,
            "align_items": null,
            "bottom": null,
            "_model_module": "@jupyter-widgets/base",
            "top": null,
            "grid_column": null,
            "overflow_y": null,
            "overflow_x": null,
            "grid_auto_flow": null,
            "grid_area": null,
            "grid_template_columns": null,
            "flex": null,
            "_model_name": "LayoutModel",
            "justify_items": null,
            "grid_row": null,
            "max_height": null,
            "align_content": null,
            "visibility": null,
            "align_self": null,
            "height": null,
            "min_height": null,
            "padding": null,
            "grid_auto_rows": null,
            "grid_gap": null,
            "max_width": null,
            "order": null,
            "_view_module_version": "1.2.0",
            "grid_template_areas": null,
            "object_position": null,
            "object_fit": null,
            "grid_auto_columns": null,
            "margin": null,
            "display": null,
            "left": null
          }
        },
        "24bb214702ce45fbbc7c8054ed7f5078": {
          "model_module": "@jupyter-widgets/controls",
          "model_name": "HTMLModel",
          "model_module_version": "1.5.0",
          "state": {
            "_view_name": "HTMLView",
            "style": "IPY_MODEL_ae13327a63c640c6ac3f38f0a05fcbb2",
            "_dom_classes": [],
            "description": "",
            "_model_name": "HTMLModel",
            "placeholder": "​",
            "_view_module": "@jupyter-widgets/controls",
            "_model_module_version": "1.5.0",
            "value": "Downloading: 100%",
            "_view_count": null,
            "_view_module_version": "1.5.0",
            "description_tooltip": null,
            "_model_module": "@jupyter-widgets/controls",
            "layout": "IPY_MODEL_66e9bbb1ccb243f59d2b4a34e6ddff03"
          }
        },
        "6f82370e54e540d7b84172d6019b419e": {
          "model_module": "@jupyter-widgets/controls",
          "model_name": "FloatProgressModel",
          "model_module_version": "1.5.0",
          "state": {
            "_view_name": "ProgressView",
            "style": "IPY_MODEL_e3893b11059d48b39a4c6a9f42e56004",
            "_dom_classes": [],
            "description": "",
            "_model_name": "FloatProgressModel",
            "bar_style": "success",
            "max": 2283841687,
            "_view_module": "@jupyter-widgets/controls",
            "_model_module_version": "1.5.0",
            "value": 2283841687,
            "_view_count": null,
            "_view_module_version": "1.5.0",
            "orientation": "horizontal",
            "min": 0,
            "description_tooltip": null,
            "_model_module": "@jupyter-widgets/controls",
            "layout": "IPY_MODEL_a35ee49a41694b339b6d0f0c90c37d81"
          }
        },
        "230b68287ddb466c8eb3723047480389": {
          "model_module": "@jupyter-widgets/controls",
          "model_name": "HTMLModel",
          "model_module_version": "1.5.0",
          "state": {
            "_view_name": "HTMLView",
            "style": "IPY_MODEL_1d97d747e97344bd8811ec8a043f3360",
            "_dom_classes": [],
            "description": "",
            "_model_name": "HTMLModel",
            "placeholder": "​",
            "_view_module": "@jupyter-widgets/controls",
            "_model_module_version": "1.5.0",
            "value": " 2.13G/2.13G [01:04&lt;00:00, 35.8MB/s]",
            "_view_count": null,
            "_view_module_version": "1.5.0",
            "description_tooltip": null,
            "_model_module": "@jupyter-widgets/controls",
            "layout": "IPY_MODEL_f021d8c43ef34a2c8eb63d039cba10c0"
          }
        },
        "ae13327a63c640c6ac3f38f0a05fcbb2": {
          "model_module": "@jupyter-widgets/controls",
          "model_name": "DescriptionStyleModel",
          "model_module_version": "1.5.0",
          "state": {
            "_view_name": "StyleView",
            "_model_name": "DescriptionStyleModel",
            "description_width": "",
            "_view_module": "@jupyter-widgets/base",
            "_model_module_version": "1.5.0",
            "_view_count": null,
            "_view_module_version": "1.2.0",
            "_model_module": "@jupyter-widgets/controls"
          }
        },
        "66e9bbb1ccb243f59d2b4a34e6ddff03": {
          "model_module": "@jupyter-widgets/base",
          "model_name": "LayoutModel",
          "model_module_version": "1.2.0",
          "state": {
            "_view_name": "LayoutView",
            "grid_template_rows": null,
            "right": null,
            "justify_content": null,
            "_view_module": "@jupyter-widgets/base",
            "overflow": null,
            "_model_module_version": "1.2.0",
            "_view_count": null,
            "flex_flow": null,
            "width": null,
            "min_width": null,
            "border": null,
            "align_items": null,
            "bottom": null,
            "_model_module": "@jupyter-widgets/base",
            "top": null,
            "grid_column": null,
            "overflow_y": null,
            "overflow_x": null,
            "grid_auto_flow": null,
            "grid_area": null,
            "grid_template_columns": null,
            "flex": null,
            "_model_name": "LayoutModel",
            "justify_items": null,
            "grid_row": null,
            "max_height": null,
            "align_content": null,
            "visibility": null,
            "align_self": null,
            "height": null,
            "min_height": null,
            "padding": null,
            "grid_auto_rows": null,
            "grid_gap": null,
            "max_width": null,
            "order": null,
            "_view_module_version": "1.2.0",
            "grid_template_areas": null,
            "object_position": null,
            "object_fit": null,
            "grid_auto_columns": null,
            "margin": null,
            "display": null,
            "left": null
          }
        },
        "e3893b11059d48b39a4c6a9f42e56004": {
          "model_module": "@jupyter-widgets/controls",
          "model_name": "ProgressStyleModel",
          "model_module_version": "1.5.0",
          "state": {
            "_view_name": "StyleView",
            "_model_name": "ProgressStyleModel",
            "description_width": "",
            "_view_module": "@jupyter-widgets/base",
            "_model_module_version": "1.5.0",
            "_view_count": null,
            "_view_module_version": "1.2.0",
            "bar_color": null,
            "_model_module": "@jupyter-widgets/controls"
          }
        },
        "a35ee49a41694b339b6d0f0c90c37d81": {
          "model_module": "@jupyter-widgets/base",
          "model_name": "LayoutModel",
          "model_module_version": "1.2.0",
          "state": {
            "_view_name": "LayoutView",
            "grid_template_rows": null,
            "right": null,
            "justify_content": null,
            "_view_module": "@jupyter-widgets/base",
            "overflow": null,
            "_model_module_version": "1.2.0",
            "_view_count": null,
            "flex_flow": null,
            "width": null,
            "min_width": null,
            "border": null,
            "align_items": null,
            "bottom": null,
            "_model_module": "@jupyter-widgets/base",
            "top": null,
            "grid_column": null,
            "overflow_y": null,
            "overflow_x": null,
            "grid_auto_flow": null,
            "grid_area": null,
            "grid_template_columns": null,
            "flex": null,
            "_model_name": "LayoutModel",
            "justify_items": null,
            "grid_row": null,
            "max_height": null,
            "align_content": null,
            "visibility": null,
            "align_self": null,
            "height": null,
            "min_height": null,
            "padding": null,
            "grid_auto_rows": null,
            "grid_gap": null,
            "max_width": null,
            "order": null,
            "_view_module_version": "1.2.0",
            "grid_template_areas": null,
            "object_position": null,
            "object_fit": null,
            "grid_auto_columns": null,
            "margin": null,
            "display": null,
            "left": null
          }
        },
        "1d97d747e97344bd8811ec8a043f3360": {
          "model_module": "@jupyter-widgets/controls",
          "model_name": "DescriptionStyleModel",
          "model_module_version": "1.5.0",
          "state": {
            "_view_name": "StyleView",
            "_model_name": "DescriptionStyleModel",
            "description_width": "",
            "_view_module": "@jupyter-widgets/base",
            "_model_module_version": "1.5.0",
            "_view_count": null,
            "_view_module_version": "1.2.0",
            "_model_module": "@jupyter-widgets/controls"
          }
        },
        "f021d8c43ef34a2c8eb63d039cba10c0": {
          "model_module": "@jupyter-widgets/base",
          "model_name": "LayoutModel",
          "model_module_version": "1.2.0",
          "state": {
            "_view_name": "LayoutView",
            "grid_template_rows": null,
            "right": null,
            "justify_content": null,
            "_view_module": "@jupyter-widgets/base",
            "overflow": null,
            "_model_module_version": "1.2.0",
            "_view_count": null,
            "flex_flow": null,
            "width": null,
            "min_width": null,
            "border": null,
            "align_items": null,
            "bottom": null,
            "_model_module": "@jupyter-widgets/base",
            "top": null,
            "grid_column": null,
            "overflow_y": null,
            "overflow_x": null,
            "grid_auto_flow": null,
            "grid_area": null,
            "grid_template_columns": null,
            "flex": null,
            "_model_name": "LayoutModel",
            "justify_items": null,
            "grid_row": null,
            "max_height": null,
            "align_content": null,
            "visibility": null,
            "align_self": null,
            "height": null,
            "min_height": null,
            "padding": null,
            "grid_auto_rows": null,
            "grid_gap": null,
            "max_width": null,
            "order": null,
            "_view_module_version": "1.2.0",
            "grid_template_areas": null,
            "object_position": null,
            "object_fit": null,
            "grid_auto_columns": null,
            "margin": null,
            "display": null,
            "left": null
          }
        },
        "eb932779562e4560886602bb7fbe1d9f": {
          "model_module": "@jupyter-widgets/controls",
          "model_name": "HBoxModel",
          "model_module_version": "1.5.0",
          "state": {
            "_view_name": "HBoxView",
            "_dom_classes": [],
            "_model_name": "HBoxModel",
            "_view_module": "@jupyter-widgets/controls",
            "_model_module_version": "1.5.0",
            "_view_count": null,
            "_view_module_version": "1.5.0",
            "box_style": "",
            "layout": "IPY_MODEL_7a51bc7aac434ad7adfb9a22b229cd46",
            "_model_module": "@jupyter-widgets/controls",
            "children": [
              "IPY_MODEL_2930123601754022a77e324702b3f6f9",
              "IPY_MODEL_c56deb9e9ee94c2eb9f133f7ae90a406",
              "IPY_MODEL_308f906c23a44079a03a021f9e7e7cfb"
            ]
          }
        },
        "7a51bc7aac434ad7adfb9a22b229cd46": {
          "model_module": "@jupyter-widgets/base",
          "model_name": "LayoutModel",
          "model_module_version": "1.2.0",
          "state": {
            "_view_name": "LayoutView",
            "grid_template_rows": null,
            "right": null,
            "justify_content": null,
            "_view_module": "@jupyter-widgets/base",
            "overflow": null,
            "_model_module_version": "1.2.0",
            "_view_count": null,
            "flex_flow": null,
            "width": null,
            "min_width": null,
            "border": null,
            "align_items": null,
            "bottom": null,
            "_model_module": "@jupyter-widgets/base",
            "top": null,
            "grid_column": null,
            "overflow_y": null,
            "overflow_x": null,
            "grid_auto_flow": null,
            "grid_area": null,
            "grid_template_columns": null,
            "flex": null,
            "_model_name": "LayoutModel",
            "justify_items": null,
            "grid_row": null,
            "max_height": null,
            "align_content": null,
            "visibility": null,
            "align_self": null,
            "height": null,
            "min_height": null,
            "padding": null,
            "grid_auto_rows": null,
            "grid_gap": null,
            "max_width": null,
            "order": null,
            "_view_module_version": "1.2.0",
            "grid_template_areas": null,
            "object_position": null,
            "object_fit": null,
            "grid_auto_columns": null,
            "margin": null,
            "display": null,
            "left": null
          }
        },
        "2930123601754022a77e324702b3f6f9": {
          "model_module": "@jupyter-widgets/controls",
          "model_name": "HTMLModel",
          "model_module_version": "1.5.0",
          "state": {
            "_view_name": "HTMLView",
            "style": "IPY_MODEL_f4f1e0be20364f1a9bd03143d8dbec9d",
            "_dom_classes": [],
            "description": "",
            "_model_name": "HTMLModel",
            "placeholder": "​",
            "_view_module": "@jupyter-widgets/controls",
            "_model_module_version": "1.5.0",
            "value": "Downloading: 100%",
            "_view_count": null,
            "_view_module_version": "1.5.0",
            "description_tooltip": null,
            "_model_module": "@jupyter-widgets/controls",
            "layout": "IPY_MODEL_c9cb29d861d1499c8e47cf899a00ef00"
          }
        },
        "c56deb9e9ee94c2eb9f133f7ae90a406": {
          "model_module": "@jupyter-widgets/controls",
          "model_name": "FloatProgressModel",
          "model_module_version": "1.5.0",
          "state": {
            "_view_name": "ProgressView",
            "style": "IPY_MODEL_770772ae46b7411facb593bc5bcee371",
            "_dom_classes": [],
            "description": "",
            "_model_name": "FloatProgressModel",
            "bar_style": "success",
            "max": 1802,
            "_view_module": "@jupyter-widgets/controls",
            "_model_module_version": "1.5.0",
            "value": 1802,
            "_view_count": null,
            "_view_module_version": "1.5.0",
            "orientation": "horizontal",
            "min": 0,
            "description_tooltip": null,
            "_model_module": "@jupyter-widgets/controls",
            "layout": "IPY_MODEL_7bdcf9696b8c4aafae62e5e20e52af55"
          }
        },
        "308f906c23a44079a03a021f9e7e7cfb": {
          "model_module": "@jupyter-widgets/controls",
          "model_name": "HTMLModel",
          "model_module_version": "1.5.0",
          "state": {
            "_view_name": "HTMLView",
            "style": "IPY_MODEL_32ac0e510cec4b51b9658973cdd27e87",
            "_dom_classes": [],
            "description": "",
            "_model_name": "HTMLModel",
            "placeholder": "​",
            "_view_module": "@jupyter-widgets/controls",
            "_model_module_version": "1.5.0",
            "value": " 1.76k/1.76k [00:00&lt;00:00, 28.1kB/s]",
            "_view_count": null,
            "_view_module_version": "1.5.0",
            "description_tooltip": null,
            "_model_module": "@jupyter-widgets/controls",
            "layout": "IPY_MODEL_d1b62881996f46eab68c515d263f448a"
          }
        },
        "f4f1e0be20364f1a9bd03143d8dbec9d": {
          "model_module": "@jupyter-widgets/controls",
          "model_name": "DescriptionStyleModel",
          "model_module_version": "1.5.0",
          "state": {
            "_view_name": "StyleView",
            "_model_name": "DescriptionStyleModel",
            "description_width": "",
            "_view_module": "@jupyter-widgets/base",
            "_model_module_version": "1.5.0",
            "_view_count": null,
            "_view_module_version": "1.2.0",
            "_model_module": "@jupyter-widgets/controls"
          }
        },
        "c9cb29d861d1499c8e47cf899a00ef00": {
          "model_module": "@jupyter-widgets/base",
          "model_name": "LayoutModel",
          "model_module_version": "1.2.0",
          "state": {
            "_view_name": "LayoutView",
            "grid_template_rows": null,
            "right": null,
            "justify_content": null,
            "_view_module": "@jupyter-widgets/base",
            "overflow": null,
            "_model_module_version": "1.2.0",
            "_view_count": null,
            "flex_flow": null,
            "width": null,
            "min_width": null,
            "border": null,
            "align_items": null,
            "bottom": null,
            "_model_module": "@jupyter-widgets/base",
            "top": null,
            "grid_column": null,
            "overflow_y": null,
            "overflow_x": null,
            "grid_auto_flow": null,
            "grid_area": null,
            "grid_template_columns": null,
            "flex": null,
            "_model_name": "LayoutModel",
            "justify_items": null,
            "grid_row": null,
            "max_height": null,
            "align_content": null,
            "visibility": null,
            "align_self": null,
            "height": null,
            "min_height": null,
            "padding": null,
            "grid_auto_rows": null,
            "grid_gap": null,
            "max_width": null,
            "order": null,
            "_view_module_version": "1.2.0",
            "grid_template_areas": null,
            "object_position": null,
            "object_fit": null,
            "grid_auto_columns": null,
            "margin": null,
            "display": null,
            "left": null
          }
        },
        "770772ae46b7411facb593bc5bcee371": {
          "model_module": "@jupyter-widgets/controls",
          "model_name": "ProgressStyleModel",
          "model_module_version": "1.5.0",
          "state": {
            "_view_name": "StyleView",
            "_model_name": "ProgressStyleModel",
            "description_width": "",
            "_view_module": "@jupyter-widgets/base",
            "_model_module_version": "1.5.0",
            "_view_count": null,
            "_view_module_version": "1.2.0",
            "bar_color": null,
            "_model_module": "@jupyter-widgets/controls"
          }
        },
        "7bdcf9696b8c4aafae62e5e20e52af55": {
          "model_module": "@jupyter-widgets/base",
          "model_name": "LayoutModel",
          "model_module_version": "1.2.0",
          "state": {
            "_view_name": "LayoutView",
            "grid_template_rows": null,
            "right": null,
            "justify_content": null,
            "_view_module": "@jupyter-widgets/base",
            "overflow": null,
            "_model_module_version": "1.2.0",
            "_view_count": null,
            "flex_flow": null,
            "width": null,
            "min_width": null,
            "border": null,
            "align_items": null,
            "bottom": null,
            "_model_module": "@jupyter-widgets/base",
            "top": null,
            "grid_column": null,
            "overflow_y": null,
            "overflow_x": null,
            "grid_auto_flow": null,
            "grid_area": null,
            "grid_template_columns": null,
            "flex": null,
            "_model_name": "LayoutModel",
            "justify_items": null,
            "grid_row": null,
            "max_height": null,
            "align_content": null,
            "visibility": null,
            "align_self": null,
            "height": null,
            "min_height": null,
            "padding": null,
            "grid_auto_rows": null,
            "grid_gap": null,
            "max_width": null,
            "order": null,
            "_view_module_version": "1.2.0",
            "grid_template_areas": null,
            "object_position": null,
            "object_fit": null,
            "grid_auto_columns": null,
            "margin": null,
            "display": null,
            "left": null
          }
        },
        "32ac0e510cec4b51b9658973cdd27e87": {
          "model_module": "@jupyter-widgets/controls",
          "model_name": "DescriptionStyleModel",
          "model_module_version": "1.5.0",
          "state": {
            "_view_name": "StyleView",
            "_model_name": "DescriptionStyleModel",
            "description_width": "",
            "_view_module": "@jupyter-widgets/base",
            "_model_module_version": "1.5.0",
            "_view_count": null,
            "_view_module_version": "1.2.0",
            "_model_module": "@jupyter-widgets/controls"
          }
        },
        "d1b62881996f46eab68c515d263f448a": {
          "model_module": "@jupyter-widgets/base",
          "model_name": "LayoutModel",
          "model_module_version": "1.2.0",
          "state": {
            "_view_name": "LayoutView",
            "grid_template_rows": null,
            "right": null,
            "justify_content": null,
            "_view_module": "@jupyter-widgets/base",
            "overflow": null,
            "_model_module_version": "1.2.0",
            "_view_count": null,
            "flex_flow": null,
            "width": null,
            "min_width": null,
            "border": null,
            "align_items": null,
            "bottom": null,
            "_model_module": "@jupyter-widgets/base",
            "top": null,
            "grid_column": null,
            "overflow_y": null,
            "overflow_x": null,
            "grid_auto_flow": null,
            "grid_area": null,
            "grid_template_columns": null,
            "flex": null,
            "_model_name": "LayoutModel",
            "justify_items": null,
            "grid_row": null,
            "max_height": null,
            "align_content": null,
            "visibility": null,
            "align_self": null,
            "height": null,
            "min_height": null,
            "padding": null,
            "grid_auto_rows": null,
            "grid_gap": null,
            "max_width": null,
            "order": null,
            "_view_module_version": "1.2.0",
            "grid_template_areas": null,
            "object_position": null,
            "object_fit": null,
            "grid_auto_columns": null,
            "margin": null,
            "display": null,
            "left": null
          }
        },
        "17e3e80ecf6a4ab8902fd948e59f6b2f": {
          "model_module": "@jupyter-widgets/controls",
          "model_name": "HBoxModel",
          "model_module_version": "1.5.0",
          "state": {
            "_view_name": "HBoxView",
            "_dom_classes": [],
            "_model_name": "HBoxModel",
            "_view_module": "@jupyter-widgets/controls",
            "_model_module_version": "1.5.0",
            "_view_count": null,
            "_view_module_version": "1.5.0",
            "box_style": "",
            "layout": "IPY_MODEL_f1aa23843c904fdaa3ff9ac40af9b01a",
            "_model_module": "@jupyter-widgets/controls",
            "children": [
              "IPY_MODEL_956698892431487cbc72f42c94d09d86",
              "IPY_MODEL_75484fb674974618855a4d0e52dd2fc7",
              "IPY_MODEL_b2054d9c39bd4dc491f31f14dc9003ee"
            ]
          }
        },
        "f1aa23843c904fdaa3ff9ac40af9b01a": {
          "model_module": "@jupyter-widgets/base",
          "model_name": "LayoutModel",
          "model_module_version": "1.2.0",
          "state": {
            "_view_name": "LayoutView",
            "grid_template_rows": null,
            "right": null,
            "justify_content": null,
            "_view_module": "@jupyter-widgets/base",
            "overflow": null,
            "_model_module_version": "1.2.0",
            "_view_count": null,
            "flex_flow": null,
            "width": null,
            "min_width": null,
            "border": null,
            "align_items": null,
            "bottom": null,
            "_model_module": "@jupyter-widgets/base",
            "top": null,
            "grid_column": null,
            "overflow_y": null,
            "overflow_x": null,
            "grid_auto_flow": null,
            "grid_area": null,
            "grid_template_columns": null,
            "flex": null,
            "_model_name": "LayoutModel",
            "justify_items": null,
            "grid_row": null,
            "max_height": null,
            "align_content": null,
            "visibility": null,
            "align_self": null,
            "height": null,
            "min_height": null,
            "padding": null,
            "grid_auto_rows": null,
            "grid_gap": null,
            "max_width": null,
            "order": null,
            "_view_module_version": "1.2.0",
            "grid_template_areas": null,
            "object_position": null,
            "object_fit": null,
            "grid_auto_columns": null,
            "margin": null,
            "display": null,
            "left": null
          }
        },
        "956698892431487cbc72f42c94d09d86": {
          "model_module": "@jupyter-widgets/controls",
          "model_name": "HTMLModel",
          "model_module_version": "1.5.0",
          "state": {
            "_view_name": "HTMLView",
            "style": "IPY_MODEL_ed09307bac75493d94709fbb9323c0bf",
            "_dom_classes": [],
            "description": "",
            "_model_name": "HTMLModel",
            "placeholder": "​",
            "_view_module": "@jupyter-widgets/controls",
            "_model_module_version": "1.5.0",
            "value": "Downloading: 100%",
            "_view_count": null,
            "_view_module_version": "1.5.0",
            "description_tooltip": null,
            "_model_module": "@jupyter-widgets/controls",
            "layout": "IPY_MODEL_72080b5347fa486caed7bd17acf9cb5f"
          }
        },
        "75484fb674974618855a4d0e52dd2fc7": {
          "model_module": "@jupyter-widgets/controls",
          "model_name": "FloatProgressModel",
          "model_module_version": "1.5.0",
          "state": {
            "_view_name": "ProgressView",
            "style": "IPY_MODEL_7b7995e9828f44bbaeb4dd6aea41cf3b",
            "_dom_classes": [],
            "description": "",
            "_model_name": "FloatProgressModel",
            "bar_style": "success",
            "max": 1222317369,
            "_view_module": "@jupyter-widgets/controls",
            "_model_module_version": "1.5.0",
            "value": 1222317369,
            "_view_count": null,
            "_view_module_version": "1.5.0",
            "orientation": "horizontal",
            "min": 0,
            "description_tooltip": null,
            "_model_module": "@jupyter-widgets/controls",
            "layout": "IPY_MODEL_b7a9358ef2d34ec5bcb73b8fb60455bb"
          }
        },
        "b2054d9c39bd4dc491f31f14dc9003ee": {
          "model_module": "@jupyter-widgets/controls",
          "model_name": "HTMLModel",
          "model_module_version": "1.5.0",
          "state": {
            "_view_name": "HTMLView",
            "style": "IPY_MODEL_1c208c9438084cc6b3af1a09b765212c",
            "_dom_classes": [],
            "description": "",
            "_model_name": "HTMLModel",
            "placeholder": "​",
            "_view_module": "@jupyter-widgets/controls",
            "_model_module_version": "1.5.0",
            "value": " 1.14G/1.14G [00:36&lt;00:00, 30.5MB/s]",
            "_view_count": null,
            "_view_module_version": "1.5.0",
            "description_tooltip": null,
            "_model_module": "@jupyter-widgets/controls",
            "layout": "IPY_MODEL_e065b812336a455697e5ebe8b1568581"
          }
        },
        "ed09307bac75493d94709fbb9323c0bf": {
          "model_module": "@jupyter-widgets/controls",
          "model_name": "DescriptionStyleModel",
          "model_module_version": "1.5.0",
          "state": {
            "_view_name": "StyleView",
            "_model_name": "DescriptionStyleModel",
            "description_width": "",
            "_view_module": "@jupyter-widgets/base",
            "_model_module_version": "1.5.0",
            "_view_count": null,
            "_view_module_version": "1.2.0",
            "_model_module": "@jupyter-widgets/controls"
          }
        },
        "72080b5347fa486caed7bd17acf9cb5f": {
          "model_module": "@jupyter-widgets/base",
          "model_name": "LayoutModel",
          "model_module_version": "1.2.0",
          "state": {
            "_view_name": "LayoutView",
            "grid_template_rows": null,
            "right": null,
            "justify_content": null,
            "_view_module": "@jupyter-widgets/base",
            "overflow": null,
            "_model_module_version": "1.2.0",
            "_view_count": null,
            "flex_flow": null,
            "width": null,
            "min_width": null,
            "border": null,
            "align_items": null,
            "bottom": null,
            "_model_module": "@jupyter-widgets/base",
            "top": null,
            "grid_column": null,
            "overflow_y": null,
            "overflow_x": null,
            "grid_auto_flow": null,
            "grid_area": null,
            "grid_template_columns": null,
            "flex": null,
            "_model_name": "LayoutModel",
            "justify_items": null,
            "grid_row": null,
            "max_height": null,
            "align_content": null,
            "visibility": null,
            "align_self": null,
            "height": null,
            "min_height": null,
            "padding": null,
            "grid_auto_rows": null,
            "grid_gap": null,
            "max_width": null,
            "order": null,
            "_view_module_version": "1.2.0",
            "grid_template_areas": null,
            "object_position": null,
            "object_fit": null,
            "grid_auto_columns": null,
            "margin": null,
            "display": null,
            "left": null
          }
        },
        "7b7995e9828f44bbaeb4dd6aea41cf3b": {
          "model_module": "@jupyter-widgets/controls",
          "model_name": "ProgressStyleModel",
          "model_module_version": "1.5.0",
          "state": {
            "_view_name": "StyleView",
            "_model_name": "ProgressStyleModel",
            "description_width": "",
            "_view_module": "@jupyter-widgets/base",
            "_model_module_version": "1.5.0",
            "_view_count": null,
            "_view_module_version": "1.2.0",
            "bar_color": null,
            "_model_module": "@jupyter-widgets/controls"
          }
        },
        "b7a9358ef2d34ec5bcb73b8fb60455bb": {
          "model_module": "@jupyter-widgets/base",
          "model_name": "LayoutModel",
          "model_module_version": "1.2.0",
          "state": {
            "_view_name": "LayoutView",
            "grid_template_rows": null,
            "right": null,
            "justify_content": null,
            "_view_module": "@jupyter-widgets/base",
            "overflow": null,
            "_model_module_version": "1.2.0",
            "_view_count": null,
            "flex_flow": null,
            "width": null,
            "min_width": null,
            "border": null,
            "align_items": null,
            "bottom": null,
            "_model_module": "@jupyter-widgets/base",
            "top": null,
            "grid_column": null,
            "overflow_y": null,
            "overflow_x": null,
            "grid_auto_flow": null,
            "grid_area": null,
            "grid_template_columns": null,
            "flex": null,
            "_model_name": "LayoutModel",
            "justify_items": null,
            "grid_row": null,
            "max_height": null,
            "align_content": null,
            "visibility": null,
            "align_self": null,
            "height": null,
            "min_height": null,
            "padding": null,
            "grid_auto_rows": null,
            "grid_gap": null,
            "max_width": null,
            "order": null,
            "_view_module_version": "1.2.0",
            "grid_template_areas": null,
            "object_position": null,
            "object_fit": null,
            "grid_auto_columns": null,
            "margin": null,
            "display": null,
            "left": null
          }
        },
        "1c208c9438084cc6b3af1a09b765212c": {
          "model_module": "@jupyter-widgets/controls",
          "model_name": "DescriptionStyleModel",
          "model_module_version": "1.5.0",
          "state": {
            "_view_name": "StyleView",
            "_model_name": "DescriptionStyleModel",
            "description_width": "",
            "_view_module": "@jupyter-widgets/base",
            "_model_module_version": "1.5.0",
            "_view_count": null,
            "_view_module_version": "1.2.0",
            "_model_module": "@jupyter-widgets/controls"
          }
        },
        "e065b812336a455697e5ebe8b1568581": {
          "model_module": "@jupyter-widgets/base",
          "model_name": "LayoutModel",
          "model_module_version": "1.2.0",
          "state": {
            "_view_name": "LayoutView",
            "grid_template_rows": null,
            "right": null,
            "justify_content": null,
            "_view_module": "@jupyter-widgets/base",
            "overflow": null,
            "_model_module_version": "1.2.0",
            "_view_count": null,
            "flex_flow": null,
            "width": null,
            "min_width": null,
            "border": null,
            "align_items": null,
            "bottom": null,
            "_model_module": "@jupyter-widgets/base",
            "top": null,
            "grid_column": null,
            "overflow_y": null,
            "overflow_x": null,
            "grid_auto_flow": null,
            "grid_area": null,
            "grid_template_columns": null,
            "flex": null,
            "_model_name": "LayoutModel",
            "justify_items": null,
            "grid_row": null,
            "max_height": null,
            "align_content": null,
            "visibility": null,
            "align_self": null,
            "height": null,
            "min_height": null,
            "padding": null,
            "grid_auto_rows": null,
            "grid_gap": null,
            "max_width": null,
            "order": null,
            "_view_module_version": "1.2.0",
            "grid_template_areas": null,
            "object_position": null,
            "object_fit": null,
            "grid_auto_columns": null,
            "margin": null,
            "display": null,
            "left": null
          }
        }
      }
    }
  },
  "cells": [
    {
      "cell_type": "code",
      "metadata": {
        "id": "l4P0qMomBMIr",
        "colab": {
          "base_uri": "https://localhost:8080/"
        },
        "outputId": "bb5099da-1a80-4f8b-a55e-a80eec15a474"
      },
      "source": [
        "!pip install transformers"
      ],
      "execution_count": 1,
      "outputs": [
        {
          "output_type": "stream",
          "name": "stdout",
          "text": [
            "Requirement already satisfied: transformers in /usr/local/lib/python3.7/dist-packages (4.11.3)\n",
            "Requirement already satisfied: numpy>=1.17 in /usr/local/lib/python3.7/dist-packages (from transformers) (1.19.5)\n",
            "Requirement already satisfied: tqdm>=4.27 in /usr/local/lib/python3.7/dist-packages (from transformers) (4.62.3)\n",
            "Requirement already satisfied: tokenizers<0.11,>=0.10.1 in /usr/local/lib/python3.7/dist-packages (from transformers) (0.10.3)\n",
            "Requirement already satisfied: requests in /usr/local/lib/python3.7/dist-packages (from transformers) (2.23.0)\n",
            "Requirement already satisfied: packaging>=20.0 in /usr/local/lib/python3.7/dist-packages (from transformers) (21.0)\n",
            "Requirement already satisfied: pyyaml>=5.1 in /usr/local/lib/python3.7/dist-packages (from transformers) (5.4.1)\n",
            "Requirement already satisfied: regex!=2019.12.17 in /usr/local/lib/python3.7/dist-packages (from transformers) (2019.12.20)\n",
            "Requirement already satisfied: sacremoses in /usr/local/lib/python3.7/dist-packages (from transformers) (0.0.46)\n",
            "Requirement already satisfied: filelock in /usr/local/lib/python3.7/dist-packages (from transformers) (3.3.0)\n",
            "Requirement already satisfied: importlib-metadata in /usr/local/lib/python3.7/dist-packages (from transformers) (4.8.1)\n",
            "Requirement already satisfied: huggingface-hub>=0.0.17 in /usr/local/lib/python3.7/dist-packages (from transformers) (0.0.19)\n",
            "Requirement already satisfied: typing-extensions in /usr/local/lib/python3.7/dist-packages (from huggingface-hub>=0.0.17->transformers) (3.7.4.3)\n",
            "Requirement already satisfied: pyparsing>=2.0.2 in /usr/local/lib/python3.7/dist-packages (from packaging>=20.0->transformers) (2.4.7)\n",
            "Requirement already satisfied: zipp>=0.5 in /usr/local/lib/python3.7/dist-packages (from importlib-metadata->transformers) (3.6.0)\n",
            "Requirement already satisfied: idna<3,>=2.5 in /usr/local/lib/python3.7/dist-packages (from requests->transformers) (2.10)\n",
            "Requirement already satisfied: urllib3!=1.25.0,!=1.25.1,<1.26,>=1.21.1 in /usr/local/lib/python3.7/dist-packages (from requests->transformers) (1.25.11)\n",
            "Requirement already satisfied: certifi>=2017.4.17 in /usr/local/lib/python3.7/dist-packages (from requests->transformers) (2021.5.30)\n",
            "Requirement already satisfied: chardet<4,>=3.0.2 in /usr/local/lib/python3.7/dist-packages (from requests->transformers) (3.0.4)\n",
            "Requirement already satisfied: six in /usr/local/lib/python3.7/dist-packages (from sacremoses->transformers) (1.15.0)\n",
            "Requirement already satisfied: joblib in /usr/local/lib/python3.7/dist-packages (from sacremoses->transformers) (1.0.1)\n",
            "Requirement already satisfied: click in /usr/local/lib/python3.7/dist-packages (from sacremoses->transformers) (7.1.2)\n"
          ]
        }
      ]
    },
    {
      "cell_type": "code",
      "metadata": {
        "id": "KTUjRPghKypY",
        "colab": {
          "base_uri": "https://localhost:8080/"
        },
        "outputId": "f431974b-f281-43cd-f024-8d6484ee7dfa"
      },
      "source": [
        "!pip install sentencepiece"
      ],
      "execution_count": 2,
      "outputs": [
        {
          "output_type": "stream",
          "name": "stdout",
          "text": [
            "Requirement already satisfied: sentencepiece in /usr/local/lib/python3.7/dist-packages (0.1.96)\n"
          ]
        }
      ]
    },
    {
      "cell_type": "code",
      "metadata": {
        "id": "AP9MHDp14rtE"
      },
      "source": [
        "import re\n",
        "from transformers import AutoTokenizer, AutoModelForSeq2SeqLM"
      ],
      "execution_count": 3,
      "outputs": []
    },
    {
      "cell_type": "code",
      "metadata": {
        "id": "KPuwStu9z-BA"
      },
      "source": [
        "import pandas as pd"
      ],
      "execution_count": 4,
      "outputs": []
    },
    {
      "cell_type": "code",
      "metadata": {
        "id": "aW2QlrHp0C0r"
      },
      "source": [
        "df = pd.read_csv('/content/uuid_full_text_for_testing.csv')"
      ],
      "execution_count": 5,
      "outputs": []
    },
    {
      "cell_type": "code",
      "metadata": {
        "colab": {
          "base_uri": "https://localhost:8080/",
          "height": 948
        },
        "id": "eZlixY8t0KTW",
        "outputId": "43ff9869-5297-4bba-da39-f878cbd5cc55"
      },
      "source": [
        "df"
      ],
      "execution_count": 6,
      "outputs": [
        {
          "output_type": "execute_result",
          "data": {
            "text/html": [
              "<div>\n",
              "<style scoped>\n",
              "    .dataframe tbody tr th:only-of-type {\n",
              "        vertical-align: middle;\n",
              "    }\n",
              "\n",
              "    .dataframe tbody tr th {\n",
              "        vertical-align: top;\n",
              "    }\n",
              "\n",
              "    .dataframe thead th {\n",
              "        text-align: right;\n",
              "    }\n",
              "</style>\n",
              "<table border=\"1\" class=\"dataframe\">\n",
              "  <thead>\n",
              "    <tr style=\"text-align: right;\">\n",
              "      <th></th>\n",
              "      <th>uuid</th>\n",
              "      <th>full_text</th>\n",
              "    </tr>\n",
              "  </thead>\n",
              "  <tbody>\n",
              "    <tr>\n",
              "      <th>0</th>\n",
              "      <td>09f26e70-c0ee-4609-b0c9-b1e8364f70b0</td>\n",
              "      <td>UNITED STATES DEPARTMENT OF JUSTICE EXECUTIVE ...</td>\n",
              "    </tr>\n",
              "    <tr>\n",
              "      <th>1</th>\n",
              "      <td>2020.02.19 Asylum grant_Redacted</td>\n",
              "      <td>UNITED STATES OEPARTMENT OF JUSTICE EXECUTIVE ...</td>\n",
              "    </tr>\n",
              "    <tr>\n",
              "      <th>2</th>\n",
              "      <td>2cd9ed36-9ddb-4c7e-b910-d35d774329fb</td>\n",
              "      <td>UNITED STATES DEPARTMENT OF JUSTICE EXECUTIVE ...</td>\n",
              "    </tr>\n",
              "    <tr>\n",
              "      <th>3</th>\n",
              "      <td>2cd9ed36-9ddb-4c7e-b910-d35d774329fb</td>\n",
              "      <td>provide a clear benchmark for determining who ...</td>\n",
              "    </tr>\n",
              "    <tr>\n",
              "      <th>4</th>\n",
              "      <td>Annotated Decision for Coding Check, Initial H...</td>\n",
              "      <td>Regan TED STATES DEPARTMENT OF JUSTICE TIVE OF...</td>\n",
              "    </tr>\n",
              "    <tr>\n",
              "      <th>5</th>\n",
              "      <td>Annotated Decision for Coding Check, Initial H...</td>\n",
              "      <td>Carlos treated her. Id. After the Respondent r...</td>\n",
              "    </tr>\n",
              "    <tr>\n",
              "      <th>6</th>\n",
              "      <td>Asylum Grant Honduran Business Owners</td>\n",
              "      <td>INMIGRATION COURT 525 W. VAN BUREN, SUITE 500 ...</td>\n",
              "    </tr>\n",
              "    <tr>\n",
              "      <th>7</th>\n",
              "      <td>Asylum Grant Honduran Business Owners</td>\n",
              "      <td>of her story, because she was afraid it would ...</td>\n",
              "    </tr>\n",
              "    <tr>\n",
              "      <th>8</th>\n",
              "      <td>Asylum Grant Honduran Business Owners</td>\n",
              "      <td>In Martinez-Buendia, Ms. Martinez had refused ...</td>\n",
              "    </tr>\n",
              "    <tr>\n",
              "      <th>9</th>\n",
              "      <td>Chicago Immigration Judge - Post-AB Domestic V...</td>\n",
              "      <td>UNITED STATES DEPARTMENT OF JUSTICE EXECUTIVE ...</td>\n",
              "    </tr>\n",
              "    <tr>\n",
              "      <th>10</th>\n",
              "      <td>Family PSGAnti-gangPO - IJ Feder 9.18.19_Redac...</td>\n",
              "      <td>Ko O UNITED STATES DEPARTMENT OF JUSTICE EXECU...</td>\n",
              "    </tr>\n",
              "    <tr>\n",
              "      <th>11</th>\n",
              "      <td>Family PSGAnti-gangPO - IJ Feder 9.18.19_Redac...</td>\n",
              "      <td>(A.G. 2017), overruled by Matter of -E-A-,27 1...</td>\n",
              "    </tr>\n",
              "    <tr>\n",
              "      <th>12</th>\n",
              "      <td>Honduran Garifuna Asylum Grant IJ Laforest - N...</td>\n",
              "      <td>UNITED STATES DEPARTMENT OF JUSTICE EXECUTIVE ...</td>\n",
              "    </tr>\n",
              "    <tr>\n",
              "      <th>13</th>\n",
              "      <td>Honduran Women, Redacted Asylum Grant, Arlingt...</td>\n",
              "      <td>UNITED STATES DEPARTMENT OF JUSTICE EXECUTIVE ...</td>\n",
              "    </tr>\n",
              "    <tr>\n",
              "      <th>14</th>\n",
              "      <td>Honduran Women, Redacted Asylum Grant, Arlingt...</td>\n",
              "      <td>provide a clear benchmark for determining who ...</td>\n",
              "    </tr>\n",
              "    <tr>\n",
              "      <th>15</th>\n",
              "      <td>Honduras.Women in domestic relationships asylu...</td>\n",
              "      <td>UNITED STATES DEPARTMENT OF JUSTICE EXECUTIVE ...</td>\n",
              "    </tr>\n",
              "    <tr>\n",
              "      <th>16</th>\n",
              "      <td>Honduras.Women in domestic relationships asylu...</td>\n",
              "      <td>NaN</td>\n",
              "    </tr>\n",
              "    <tr>\n",
              "      <th>17</th>\n",
              "      <td>Honduras.Women in domestic relationships asylu...</td>\n",
              "      <td>commit the fraud that was committed by the res...</td>\n",
              "    </tr>\n",
              "    <tr>\n",
              "      <th>18</th>\n",
              "      <td>IJ decision Brazilian National (9th Cir.)</td>\n",
              "      <td>UNITED STATES DEPARTMENT OF JUSTICE EXECUTIVE ...</td>\n",
              "    </tr>\n",
              "    <tr>\n",
              "      <th>19</th>\n",
              "      <td>IJ decision Brazilian National (9th Cir.)</td>\n",
              "      <td>Two Members of Brazil's MST Landless Movement ...</td>\n",
              "    </tr>\n",
              "    <tr>\n",
              "      <th>20</th>\n",
              "      <td>IJ Decision in another UB Case w serious non-p...</td>\n",
              "      <td>NaN</td>\n",
              "    </tr>\n",
              "    <tr>\n",
              "      <th>21</th>\n",
              "      <td>IJ Decision in another UB Case w serious non-p...</td>\n",
              "      <td>that provide a clear benchmark for determinin...</td>\n",
              "    </tr>\n",
              "    <tr>\n",
              "      <th>22</th>\n",
              "      <td>Nicaragua - DV - IJ Rubin Newark, NJ (2020)</td>\n",
              "      <td>UNITED STATES DEPARTMENT OF JUSTICE RECUTIVE O...</td>\n",
              "    </tr>\n",
              "    <tr>\n",
              "      <th>23</th>\n",
              "      <td>Nicaragua - DV - IJ Rubin Newark, NJ (2020)</td>\n",
              "      <td>presumption that the Respondent has a well- fo...</td>\n",
              "    </tr>\n",
              "    <tr>\n",
              "      <th>24</th>\n",
              "      <td>Redacted Grant, PSG Guatemalan Women</td>\n",
              "      <td>UNITED STATES DEPARTMENT OF JUSTICE EXECUTIVE ...</td>\n",
              "    </tr>\n",
              "    <tr>\n",
              "      <th>25</th>\n",
              "      <td>Redacted Grant, PSG Guatemalan Women</td>\n",
              "      <td>establish a cognizable PSG. See C-A:, 23 I&amp;N D...</td>\n",
              "    </tr>\n",
              "    <tr>\n",
              "      <th>26</th>\n",
              "      <td>Redacted IJ Decision _22single Salvadoran moth...</td>\n",
              "      <td>UNITED STATES DEPARTMENT OF JUSTICE, EXECUTIVE...</td>\n",
              "    </tr>\n",
              "    <tr>\n",
              "      <th>27</th>\n",
              "      <td>Redacted_IJ Decision_Asylum grant for false ga...</td>\n",
              "      <td>UNITED SYATES DEPARTMENT OF JUSTICE EXECUTIVE ...</td>\n",
              "    </tr>\n",
              "    <tr>\n",
              "      <th>28</th>\n",
              "      <td>Redacted_IJ Decision_Asylum grant for false ga...</td>\n",
              "      <td>evidence must be provided unless the applicant...</td>\n",
              "    </tr>\n",
              "  </tbody>\n",
              "</table>\n",
              "</div>"
            ],
            "text/plain": [
              "                                                 uuid                                          full_text\n",
              "0                09f26e70-c0ee-4609-b0c9-b1e8364f70b0  UNITED STATES DEPARTMENT OF JUSTICE EXECUTIVE ...\n",
              "1                    2020.02.19 Asylum grant_Redacted  UNITED STATES OEPARTMENT OF JUSTICE EXECUTIVE ...\n",
              "2                2cd9ed36-9ddb-4c7e-b910-d35d774329fb  UNITED STATES DEPARTMENT OF JUSTICE EXECUTIVE ...\n",
              "3                2cd9ed36-9ddb-4c7e-b910-d35d774329fb  provide a clear benchmark for determining who ...\n",
              "4   Annotated Decision for Coding Check, Initial H...  Regan TED STATES DEPARTMENT OF JUSTICE TIVE OF...\n",
              "5   Annotated Decision for Coding Check, Initial H...  Carlos treated her. Id. After the Respondent r...\n",
              "6               Asylum Grant Honduran Business Owners  INMIGRATION COURT 525 W. VAN BUREN, SUITE 500 ...\n",
              "7               Asylum Grant Honduran Business Owners  of her story, because she was afraid it would ...\n",
              "8               Asylum Grant Honduran Business Owners  In Martinez-Buendia, Ms. Martinez had refused ...\n",
              "9   Chicago Immigration Judge - Post-AB Domestic V...  UNITED STATES DEPARTMENT OF JUSTICE EXECUTIVE ...\n",
              "10  Family PSGAnti-gangPO - IJ Feder 9.18.19_Redac...  Ko O UNITED STATES DEPARTMENT OF JUSTICE EXECU...\n",
              "11  Family PSGAnti-gangPO - IJ Feder 9.18.19_Redac...  (A.G. 2017), overruled by Matter of -E-A-,27 1...\n",
              "12  Honduran Garifuna Asylum Grant IJ Laforest - N...  UNITED STATES DEPARTMENT OF JUSTICE EXECUTIVE ...\n",
              "13  Honduran Women, Redacted Asylum Grant, Arlingt...  UNITED STATES DEPARTMENT OF JUSTICE EXECUTIVE ...\n",
              "14  Honduran Women, Redacted Asylum Grant, Arlingt...  provide a clear benchmark for determining who ...\n",
              "15  Honduras.Women in domestic relationships asylu...  UNITED STATES DEPARTMENT OF JUSTICE EXECUTIVE ...\n",
              "16  Honduras.Women in domestic relationships asylu...                                                NaN\n",
              "17  Honduras.Women in domestic relationships asylu...  commit the fraud that was committed by the res...\n",
              "18          IJ decision Brazilian National (9th Cir.)  UNITED STATES DEPARTMENT OF JUSTICE EXECUTIVE ...\n",
              "19          IJ decision Brazilian National (9th Cir.)  Two Members of Brazil's MST Landless Movement ...\n",
              "20  IJ Decision in another UB Case w serious non-p...                                                NaN\n",
              "21  IJ Decision in another UB Case w serious non-p...   that provide a clear benchmark for determinin...\n",
              "22        Nicaragua - DV - IJ Rubin Newark, NJ (2020)  UNITED STATES DEPARTMENT OF JUSTICE RECUTIVE O...\n",
              "23        Nicaragua - DV - IJ Rubin Newark, NJ (2020)  presumption that the Respondent has a well- fo...\n",
              "24               Redacted Grant, PSG Guatemalan Women  UNITED STATES DEPARTMENT OF JUSTICE EXECUTIVE ...\n",
              "25               Redacted Grant, PSG Guatemalan Women  establish a cognizable PSG. See C-A:, 23 I&N D...\n",
              "26  Redacted IJ Decision _22single Salvadoran moth...  UNITED STATES DEPARTMENT OF JUSTICE, EXECUTIVE...\n",
              "27  Redacted_IJ Decision_Asylum grant for false ga...  UNITED SYATES DEPARTMENT OF JUSTICE EXECUTIVE ...\n",
              "28  Redacted_IJ Decision_Asylum grant for false ga...  evidence must be provided unless the applicant..."
            ]
          },
          "metadata": {},
          "execution_count": 6
        }
      ]
    },
    {
      "cell_type": "code",
      "metadata": {
        "id": "Ljwvbgma4LdA"
      },
      "source": [
        "df.iloc[16, 1] = \"The Lead Respondent’s particular social group of “women in Honduras” lacks particularity because the group as defined is too amorphous as it would include al! women in Honduras. Matter of M-E-V-G-, 26 1&N Dec. at 239 (noting that “a 13 particular social group must be narrowly defined”), The two remaining groups as articulated are circular as it is defined by the harm an applicant suffered or fears. See Matter of A-B-, 27 1&N at 335; see also Lukwago v. Ashcroft, 329 F.3d 157, 172 (3d Cir. 2003); Gomez v. INS, 947 F.2d 660, 664 (2d Cir, 1991); Matter of R-A-, 22 18:N Dec. 906, 919 (BIA 1999) (vacated on other grounds). Nevertheless, there is sufficient evidence in the record to demonstrate that the Lead Respondent suffered past persecution on account of her membership in a particular social group composed of “women in domestic relationships in Honduras.” Although the Attomey General overruled Matter of A-R-C-G-, 26 I&N Dec. 338 (BIA 2014) and held that the particular social ‘group of “married women in Guatemala who are unable to leave their relationship” was not cognizable, “social group determinations are made on a case-by-case basis.” Matter of M-E-V- G-, 26 I&N Dec. at 251(citing Matter of Acosta, 19 I&N Dec. at 233), The Attorney General overruled Matter of A-R-C-G-, in part, because the particular social group did not exist independently of the harm suffered by its membe:s. Matter of A-B-, 27 I&N Dee. at 334-35. In this case, however, the particular social group composed of “women in domestic relationships in Honduras” exists independently of the harm asserted. Id. ‘The group also shares “a narrowing characteristic other than their risk of being persecuted.” Jd. Not all women in domestic relationships in Honduras are automatically harmed; they are a group of women who share common experiences due to their relationship staxus and their location. Thus, unlike Matter of A- R-C-G-, the particular group in this matter is not defined by the harm alleged. Cf’ Matter of A-B-, 27 JN Dee. at 335. Based on this particular record, the Lead Respondent has demonstrated that “women in domestic relationships in Honduras” is a viable particular social group. The particular social group is composed of members who share a common immutable characteristic, specifically their gender. Matter of M-E-V-G-,26 I&N Dec. at 237. The Board in Matter of Acosta held that sex is an immutable characteristic as it is a common characteristic that “members of the group either ‘cannot change, or should not be required to change because it is fundamental to their identities of consciences.” 19 I&N Dee. at 233. The record also establishes that Honduran society perceives the Lead Respondent's particular social group of “women in domestic relationships in Honduras” as a socially distinct group. Matter of M-E-V-G-, 26 I&N Dec. at 238. The Board held in Matter of C-A- that 4 “{sJocial groups based on innate characteristics such as sex or family relationships are generally casily recognizable and understood by others to constitute social groups.” 23 I&N Dec. 951, 959 (BIA 2006). Nevertheless, the record demonstrates that Honduran society recognizes “women in domestic relationships” as a distinct group by its creation of laws to protect and prevent women from the consequences of being in abusive domestic relationships. Exh. 4, Tab D2 at 41 (the government of Honduras “ratified regional and international conventions and has laws on the books criminalizing intrafamilial violence, rape, and killings of women”). The government of Honduras enacted the Law Against Domestic Violence in 1997 and the Law of Equal Opportunities for Women in 2000. Jd. at 45. The government also ratified the Convention on the Elimination of All Forms of Discrimination against Women in 2004 and the Inter-American Convention on the Prevention, Punishment, and Eradication of Violence against Women in 2005. Id. In 2006 and 2013, the Law against Domestic Violence was amended. Exh. 4, Tab D4 at 67. Specifically, the Law against Domestic Violence aimed to protect women in domestic relationships from domestic violence and unequal exercise of power by “establishing] a mechanism for abused women to obtain a protective order against their abuser.” Exh. 4, Tab D2 at 48, It does not protect all women who are subjected to violence, rather the law protects women who are harmed by their partner. The Lead Respondent clearly falls within this group. The government of Honduras also passed a law in 2013 criminalizing femicide, defined as “a crime for ‘men who kill women for reasons of gender, with hatred and disdain toward them as women,” punishable with 30-40 years imprisonment, Jd. at 45, 48. Specifically, the law requires that “one of the following four circumstances must also be met: ‘sentimental relationship, history of acts of violence, persecution of any kind, or commission with malice.” id. at 48. The fact that the government of Honduras established these lavis targeting women in domestic relationships demonstrates that society views these women as ¢ distinct group who share commonalities and are in need of special protection. Further demonstrating that Honduran society recognizes women in domestic relationships as a distinct social group is the fact that government institutions and non-profit organizations were established in Honduras to address the specific needs of women in general and those in domestic relationships. id. (establishing the Interagency Commission on the Law against Domestic Violence); Id. (establishing of the National Women’s Institute as the “government agency responsible for the protection and advancement of Honduran Women”); Exh. 4, Tab D1 15 at 38 (although now abolished, the police had an emergency telephone line for female victims of ixh. 4, Tab D3 at 60 (the center of Women’s Rights tracked violent deaths of women); Exh. 4, Tab D8 at 150 (the Honduran government operated reporting centers in violence); ‘Tegucigalpa and San Pedro Sula enabling womer: to report crimes and providing other services focusing on “prevention of gender-based violence”); Exh, 4, Tab D4 at 67 (the Femicide Unit within the Directorate-General of Criminal Investigation and Domestic Violence Offices at all departmental headquarters were created to protec: women from violence); Id. (“The Honduran Supreme Court established specialized court on domestic violence and the Gender Unit.”); Exh. 4, Tab D7 at 109 (the government of Honduras “provides] to victims of domestic violence in hospitals and health centers”). Further demonstrating that Honduran society recognizes the Lead Respondent's particular social group as socially distinct, the government of Honduras created a “Special Women’s Public Prosecutors Office” within the Public Ministry to enforce the Domestic Violence law. Exh. 4, Tab D2 at 48. The record shows that Honduran “society at large” has recognized women in domestic relationships as a distinct group through the enactment of these laws and the creation of programs for women who, as a result of being in a domestic relationship, are victimized. Cf Matter of A-B-, 27 18N Dec. at 336 (citing Matter of W-G-R-, 26 I&N Dec. at 217). ‘Next the particular social group composed of “women in domestic relationships in Honduras” is defined with particularity as the group is “defined by characteristics that provide a clear benchmark for determining who falls within the group.” Matter of A-B-, 27 1&N Dec. at 335 (quoting Matter of M-E-V-G-, 26 1&N Dee. at 239). Members of the group must be women and must be in domestic relationships. > The Attcrney General held in Matter of A-B- that, standing alone, commonly accepted definitions within Guatemalan society, such as “married,” “women,” and “unable to leave the relationship,” are insufficient to establish particularity. Matter of A-B-,27 1&N Dec. at 335. Yet, the Attomey General did not bar that certain terms, standing alone and grouped together, which have commonly accepted definitions in society, are sufficient to establish particularity. The Board held in Matter of M-E-V-G- that “‘tis critical that > While the proposed particular social group encompasses ¢ large group of members, particular social groups are not automatically not viable because the group represents large portions of society. Perdomo v. Holder, 611 F.3d 662 (9th Cir. 2010). “Although the category of protected persons [wthin a particular group] may be large, the number of those ‘who can demonstrate the required nexus likely is not.” Matter of 4-B., 27 1&N Dec. at 318 (quoting Cece v. Holder, 733 F.3d 662, 673 (7th Cir. 2013). 16 the terms used to describe the group have commonly accepted definitions in the society of which the group is part.” Matter of M-E-V-G-, 26 1&N Dec. at 239 (citing Matter of A-M-E- & J-G-U- 24 1&N Dec. 69, 76 (BIA 2007)). This particular record confirms that “women” and “domestic relationships” each have commonly accepted definitions in Honduran society and that the concept of “women in domestic relationships” as a whole has a commonly accepted definition as. well. Exh. 4, Tab D8 at 150 (only female victims of domestic violence are entitled to certain protective measures); Exh. 4, Tab D7 at 109 (noting that “violence between domestic and intimate partners continued to be widespread” in Honduras); Jd. (In 2015, 18,070 women filed complaints of violence against their domestic pariners in the special domestic violence cowts); Exh, 4, Tab D4 at 72 (domestic violence is viewed differently by the justice system and is treated leniently as provisions are not generally enforced). Additionally, the social group composed of women in domestic relationships in Honduras is not “defined by their vulnerability to private criminal activity;” rather, the group is defined by the common experiences that the members share together. Cf Matter of A-B-, 27 I&N Dee. at 335. The group shares experiences that are unique to women in domestic relationships, such as having a partner and not being single. While some members of the group may be subject to violence by their partners, known as domestic violence, the group is not defined by their vulnerability. Instead, domestic violence is a possible consequence that arises from being a member of the group and a member is not autometically vulnerable to private criminal activity as ‘a member of the group. In addition, a domestic relationship as defined in Honduran law is similar to the particular social group of nuclear family, which has been recognized by the Fourth Circuit as the “prototypical example” of a particular social group. Crespin-Valladares, 632 F.3d. at 117. Accordingly, based on the evidence in this particular record “women in domestic relationships in Honduras” is a cognizable particular social group. 3. Nexus ‘Next, there is both objective and subjective evidence to support a finding that the Lead Respondent was persecuted on account of her membership in the group of “women in domestic relationships in Honduras.” See § 208(b)(1)(B)(i) of the Act; INS v. Elias-Zacarias, 502 U.S. 478 (1992). This finding is supported by credible testimony of the Lead Respondent and corroborated by country conditions. Vv ‘The Lead Respondent indicated in her testimony that she was specifically persecuted on account of her domestic relationship with her partner. The Lead Respondent testified credibly that her partner threatened her and harmed her in order to force her to obey his orders. Exh. 4, Tab A at (when the Lead Respondent visited her mother without her partner’s permission, he grabbed her by the neck, pushed her against the door, and insulted her); Id, at 2 (“He told me he would never let me leave and if I left him, he would kill me.”), She also stated that her partner locked her in the house and took the keys in order to prevent her from leaving their house. Id. (‘Hector refused to let me work... he would not allow me to leave... Hector told me that I belonged in the house and that our son was his and I could not leave him, He told me he would never let me leave.”). During another incident, her partner beat her, told her that she had to say with him because she would never be free. /d. at 1. She testified that her partner raped her when she refused to have sex with him. During various incidents, he would verbally insult her, degrade her as a woman, and beat her because she did not clean to his liking, was not home when he arrived, and did not wash his clothes and shoes correctly. Jd. at 1-2. (“Hector called me names like ‘stupid’ ‘son of a bitch’ ‘a piece of tresh.””). The Lead Respondent described that whenever her partner got upset with her, he became aggressive causing him to emotionally and physically abuse her. /d. at 1-2. These statements indicate that at least one central reason for the ‘Lead Respondent's persecution was her status as a woman in a domestic relationship. This is why her partner targeted her rather than some other person. Zavaleta-Policiano, 873 F.3d 241, 249-50 (4th Cir. 2017) (citing Hernandez-Avalos, 784 F.3d at 949-50); Cruz v. Sessions, 853 F.3d at 129-30. In addition, the Lead Respondent has submitted a wealth of information on country conditions that confirms that private actors are persecuting “women in domestic relationships.” Exh. 4, Tab D1 at 34 (woman feels like a prisoner in her own home because her partner nearly killed her and sends her threatening messages); Id. at 35 (in the past decade there has been “a sharp increase in domestic and sexual violence and gender based murder, a phenomenon known as femicide”); Id, at 37 (women are raped by their uncles and fathers. Miss Honduras Beauty Queen was murdered by her boyfriend); Exh. 4, Tab D2 at 45 (the Honduran government “passed a series of laws that offered measures protecting women from violence and discrimination, including a law against domestic violence (1997) and a law of equal opportunities for women (2000).”); /d. at 47 (“[MJurders of women are disproportionately 18 ‘committed by intimate partners and have become increasingly brutal and sexualized.”); Jd. at 48 (Congress added Article 118A to the Honduran Fenal Code criminalizing femicide, defined as ‘men who kill women for reasons of gender who had shared a sentimental relationship); Exh. 4, Tab D1 at 38 (the violent machismo culture “has become a natural, accepted part of Honduran society”); Exh. 4, Tab D4 at 62 (“Violence against women is widespread and systematic in Honduras.”); Exh. 4, Tab D7 at 108 (“Prosecutors treat accusations of spousal rape somewhat differently, however, and evaluate such charges cn a case-by-case basis.”); Jd. at 109 (“Violence between domestic and intimate partners continued to be widespread); Exh, 4, Tab D4 at 69 (“[MJany women reported being repeatedly raped and sexually abused by their intimate partners.”). Such evidence indicates that private actors are targeting women because of their status as a woman in a domestic relationship. It does not appear that such evidence was submitted in Matter of A-B-. Based on the evidence above, the Lead Respondent's partner did not harm her based on their personal relationship, but because of her status as a member of this, ‘group. ‘The Attomey General cautioned in Matter of A-B-, 27 I&N Dec. at 338-39 that “[wJhen Private actors inflict violence based on a personal relationship with a victim, then the victim’s membership in a larger group may well not be ‘one central reason’ for the abuse.” However, the Fourth Circuit has found in similar situations that the familial relationship is one central reason for the persecution, For example, in Hernandez-dvalos, 784 F.3d at 944, the Fourth Circuit reasoned that the respondent’s “maternal authority to control her son’s activities” was at least ‘one central reason she was targeted. Similarly here, the Lead Respondent's partner’s belief that he could contro! her because they were in a domestic relationship was at least one central reason that the abuse occurred. See also Cruz v, Sessions, 853 F.3d at 122 (overruling Board decision that threats were by a “private actor for personal reasons or on general levels of crime or violence” when the threats were by the suspected murderer of the domestic partner of a Honduran woman). In this case under Fourth Circuit law the Lead Respondent's testimony and country conditions in the record indicate that her partner harmed her due to her status as a woman in a domestic relationship, Considering the extensive evidence of machismo culture in Honduras and the persecutor’s various attempts to harm the Lead Respondent, it is clear that the Lead Respondent's membership in the particular social group of “women in domestic relationships in 19 Honduras” was at least one central reason for the persecutor’s actions against her. Consequently, the Lead Respondent successfully established a nexus between the harm she suffered and a protected ground for purposes of asylum. 4. Government Unwilling or Unable to Protect from Private Actor In addition to meeting her burden of proof for the statutory requirements for asylum above, the Lead Respondent has also shown that the government of Honduras is either unwilling § 1208.13(b)(1); Matter Of A-B-, 27 18N Dec. at 337; Mulyani v, Holder, 771 F.3d 190, 198 n.8 (4th Cir. 2014); Justo v. Sessions, 895 F.3d 154, 163 (Ist Cir. 2018) (citations omitted). Since the government’s “unwillingness and inability are two distinct issues... an applicant may be able to prove inability or unable to control the private conduct she suffered and fears, 8 C.F. without proving unwillingness where the government's willing efforts to protect its citizens fall short.” Justo, 895 F.3d at 163 (affirming Khattak v. Holder, 704 F.3d 197, 206 (Ist Cir. 2013)). In the present matter, the record depicts many instances where the government of Honduras has been willing to address domestic violence and violence against women, in general. Exh. 4, Tabs D1-D4, D7-D8. However, this does not reflect its ability to do so. Justo, 895 F.3d at 163 (affirming Khattak v. Holder, 704 F.3d 197, 206 (1st Cir. 2013)); Madrigal v. Holder, 716 F.3d 499, 506-07 (9th Cir. 2012); Garcia v. U.S. Att'y Gen., 665 F.3d 496, 503 (3d Cir. 2011). The record also evidences the Honduran government's numerous failed attempts and ineffective laws and policies to prevent domestic violence and control the perpetrators. See generally Exh. 4, Tabs D1-D4, D7-D8. Specifically, the Lead Respondent's credible testimony in corroboration with the country conditions demonstrate that the government of Honduras is unable to protect her. 8 CER. § 1208.13(b)(1); Hernandez-Avalos, 784 F.3d at 953 (holding that an applicant’s testimony with corroborating country conditions was sufficient to establish that the government was unable or unwilling to protect the applicant); Id, at 951 (quoting Cordova, 759 F.3d at 340). In Hernandez- Avalos, the respondent testified that going to the police was not an option because, while the police arrested gang members, they were then released and retaliated against those who report them, The Fourth Circuit found that she was able to show the government could not protect her based on country conditions, even though she had never filed a police report. In the case at bar, the Lead Respondent's failure to go to police for fear that her partner would retaliate against her also is corroborated by country conditions 20 The Lead Respondent’s failure to report her partner’s abuse to the police is not fatal to showing that the government of Honduras is unwilling or unable to protect as she has demonstrated that reporting the abuse to the police would have been futile. Matter of S-A-,22 I&N Dec. 1328, 1335 (BIA 2000) (holding that failure to report persecution is not essential to showing that a government is unable or unwilling to control private conduct); see also Justo, 895 F.3d at 165 (quoting Morales-Morales v. Sessions, 857 F.3d 130, 135 (Ist Cir. 2017)); Bringas- Rodriguez v. Sessions, 850 F.3d 1051, 1069 (9th Cir. 2017); Lopez v. U.S. Att'y Gen, 504 F.3d 1341, 1345 (11th Cir. 2007). The Lead Respondent testified credibly that she did not report the abuse to the police because the police did not protect other women who had reported the abuse. , Yodani, both reported the abuse to the police, but the police did not protect them). She added that the police discourage Exh, 4, Tab A at 3 (Karina, her partner’s ex-partrer, and her co ‘women from reporting abusive husbands as the machismo culture in Honduras views domestic violence as not a serious crime. Id. at 1. Further, women who report domestic violence are labeled as “scandalized” since they make their family problems public and as such the police do not protect them. Jd. at 2. Country Expert, Claudia Hermannsdorfer, confirms the legitimacy of the Lead Respondent’s fear of reporting her partner’s abuse to the police and the lack of protection that these women receive from police officers. Exh. 4, Tab D2 at 49 (“Women who seek help from the police are often told that the issue is a matter for her husband to decide, and that she should go home, be intimate with him, and he will forgive her. Other times, police simply tell the women to stop disobeying their husbands... Honduran police ignore threats made against women, treating them as nothing more than the product of over-excited emotions.”); dat 40 (“In contexts of impunity such as Honduras, the brutal killings of women denote the complicity of the state through its unwillingness or inability to provide prevention and response mechanisms.”). Other country condition articles also verify the Lead Respondent's claim. Id, at $1 (noting that women “rarely reported for fear of retaliation and due to the rampant impunity in situations of violence against women throughout the county”); Exh. 4, Tab D4 at 70 (women do not report domestic abuse to the police out of fear of retaliation and believed that the police will not help them as the police do not get involved in domestic affairs). One report notes that rape and domestic violence “continued to be underreported, however, due to fear of stigma, retribution, and further violence.” Exh. 4, Tab D7 at 108; Exh. 4, Tab D2 at 50 (“[W]omen are afiaid to report their cases to the police for fear of retaliation.”). Even if the Lead Respondent had reportec the abuse, only two and a half percent of cases of domestic violence were settled in 2014. Exh. 4, Tab D1 at 36. Although victims of domestic violence have various avenues to report the abuse, domestic violence oceurs with impunity. Exh. 4, Tab D4 at 72 (“The failure of authorities to exercise due diligence in investigating, prosecuting and punishing perpetrators of violence against women contributes to an environment of impunity within the country.”); Exh. 4, Tab D8 at 136; Exh. 4, Tab D2 at 41 (“acts of commission and omission [by the government] create conditions that promote impunity and inerease risks of victimization by normalizing the targeting of women for violence.”). According to a report from the United Nations, “Honduras has a 95% impunity rate for sexual violence and femicide crimes.” Exh. 4, Tab D4 at 72. Ninety-six percent of femicides remain unpunished. Exh. 4, Tab D2 at 46. Additionally, 94% of sexual violence goes unpunished, Exh. 4, Tab D4 at 71. In reported cases of sexual violence against women in 2014, only 276 out of 2,621 cases ‘were resolved. Id. at 73. In cases involving domestic violence, few are “investigated or reach the courts,” Exh. 4, Lab D2 at 47. Notwithstanding the Lead Respondent's failure to report the domestic violence, the police and judicial system in Honduras are ineffective when responding to incidents of domestic violence. Jd. at 49 (“[W]hen investigators encounter a woman who has obviously been killed by domestic violence, they often reason, ‘well, the prosecutor wall not fully prosecute this case because this is a crime of passion, so there is no need to conduct an in-depth forensic examination’). Victims of violence are also blaried for the harm. Jd. at 50-51 (“[JJudges often blame female victims, assuming that the woman may have instigated the murder, and use this as an additional reason not to consider the murder or to dismiss the case”). According to Country Conditions Expert, Claudia Hermannsdorfer, the authorities lack sufficient resources to conduet sensitive forensic examinations, making it impossible to make accurate determinations of the extent of sexual violence in femicide victims. {d. at 49-50. Further, the police divert their resources towards investigations of crimes that they consider to be “more serious,” such as drug trafficking, Jd at 49. Moreover, the judiciary is ineffective, poorly funded, and inadequately equipped. Exh. 4, Tab D8 at 138. 22 The mere existence of a legal regime or government policy to combat private persecution is not necessarily evidence of a government’s ability or willingness to control persecutors. Sarhan v. Holder, 658 F.3d 649 (7th Cir. 2011); Fiadjoe v. Att'y Gen, of U.S., 411 F.3d 135, 160-61 (3d Cir. 2005). Although the Honduran government passed a domestic violence law, the Law Against Domestic Violence, which provides women with certain provisional and security measures, the law does not criminalize domestic violence as the law’s focus is preventive. Exh. 4, Tab D8 at 150; Exh. 4, Tab D2 at 48, Rather, it criminalizes serious incidents of domestic violence and dictates imprisonment only when the injuries are severe. Exh. 4, Tab D8 at 150. Otherwise, domestic violence is not criminalized and the only legal penalties for a first time domestic violence offense is a sentence of community service, or if caught in the act, twenty-four hour preventive detention. Exh. 4, Tab D2 at 48, A victim of domestic violence may also obtain arestraining order, but if the perpetrator violates the restraining order, Honduran law only imposes a prison sentence for up to three years ifit was “connected with the crime of intrafamilial violence,” but not including an act of domestic violence. Jd; Exh. 4, Tab D8 at 150. Further, they “insist on reconciliation or mediation as a first step in legal proceedings... where ‘women are often pressured to tolerate or cope with violent situations rather than obtain help to escape them.” Exh. 4, Tab D2 at 48. In regards to rape, while Honduran law criminalizes rape as a public crime, spousal rape is not given the same status and “is evaluated on a case-by-case basis.” Id. at 48. As such, laws regarding violence against women, specifically domestic violence, rape, and femicide, were not effectively implemented and have serious limitations. Id. at 45-46, 48. ‘The Honduran government has not taken effective steps to prevent or combat violence against women, including incidents of domestic violence. Exh. 4, Tab D2 at 44. For example, Honduran law mandates equal legal rights and stetus to women and men, however, the U.S. Department of State Honduras Country Report acknowledges that “many women did not fully enjoy such rights.” Exh. 4, Tab D8 at 151, Honduras lacks specialized services for women in the police and courts that would prevent violence, protect women, or prosecute individuals for harming women. Exh. 4, Tab D2 at 41-42. Before and after the Honduran coup in 2009, the Honduran government passed laws protecting women from violence, including the first law against domestic violence in 1997 and a femicide law in 2013. Id, at 45-46, However, these Jaws were not effectively implemented and rates of violence against women continued to tise. 2 Id, at 46. Additionally, while the anti-femicide law intends to punish those who kill women “with hatred and disdain toward them as women” because of their gender, itis “almost impossible” to meet the heavy burden as it is difficult to provide evidence of hatred and disdain. Id at 48, ‘The institutional mechanisms and bureaucratic units that were created to implement these laws aimed at curving domestic violence were “generally underfunded and understaffed.” Id. For example, upon the passing of the Law Against Domestic Violence, the Honduran government created the Special Women’s Public Office to enforce it, but the office had limited ability to prosecute perpetrators of domestic violence. Id. This pattern has continued since the coup, resulting in the dismantling and weakening of these agencies. Id; Exh. 4, Tab D1 at35. Similarly, in 2008, the Honduran Congress created specialized policing units for the purpose of investigating the murders of women, but within one year, the police units were relocated to investigate general street crime. Exh, 4, Tab D2 at 46. Again, a Gender Unit was created within the Honduran police that was aimed at institutionalizing the police's responsiveness to violence again women, but it was later dismantled. Jd. at $0. Yet again, in 2006, the Law Against Domestic Violence was amended and created the “specialized domestic violence courts, but in 2012, the court system had not yet been set up. 1d. Even after the domestic violence courts were established, the amended domestic violence law kas not been effectively implemented and has been undermined by the police and the courts. /d at 41. The government of Honduras in 2014 downgraded the status of the National Institute for Women, “cut funding to women's rights groups, and abolished the police emergency telephone line for female victims of violence.” Exh. 4, D1 at 38. The government of Honduras’ implementation of these laws and responsiveness to the violence against women has been “lagging, ncnexistent, or even unenforced by state institutions.” Exh. 4, Tab D2 at 48, ‘Thus, based on this particular record, while the government of Honduras has been willing to make efforts control the private actors to combat domestic violence, the Lead Respondent has demonstrated that that the government of Honduras has had “more than ‘difficulty... controlling’ private behavior,” the record established the governments “inability to protect the victims” and inability to implement those efforts to combat domestic violence and violence against women in Honduras. Matter of A-B-, 27 1&N Dec. at 337 (internal quotations omitted); Crespin- Valladares, 632 F.3d at 128 (quoting Menjivar v, Gonzales, 416 F.3d 918, 921 (8th Cir. 2005). 24 Having shown that she was persecuted on a protected ground, the Lead Respondent benefits from a rebuttable presumption that her life or freedom would be threatened in the future. 8 CER. § 1208.16(b)(1)G). 5. Internal Relocation is not a Reasonable Alternative ‘The regulations state that, for purposes of determining whether relocation is reasonable, the burden is on the Lead Respondent to show it is not reasonable if past persecution has not been established. 8 C.F.R. Section 208.13(b)(3)(i). However, in this case the Lead Respondent has suffered from past persecution and there is insufficient evidence to rebut the presumption that the Lead Respondent's life or freedom would be threatened in the future by showing that relocation would be reasonable, The Lead Respondent has demonstrated that she is unable to relocate within Honduras, as noted above, through her credible testimony and country conditions that evidence the inadequate protections and lack of resources for women fleeing harm. In addition, in considering whether relocation is unreasonable the factors to be considered are “whether the applicant would face other serious harm in the place of suggested relocation, any ongoing civil strife within the country, administrative, economic or judicial infrastructure, geographical limitations, and social and cultural constraints, such as age, gender health, and social and familial ties.” In this case, Lead Respoadent has a child at the tender age of five. It would be unreasonable to ask to her relocate for this reason. In addition, “because the purpose of the relocation rule is not to require an applicant te stay one step ahead of persecution in the proposed area, that location must present circumstances that are substantially better than those giving rise to a well-founded fear of persecution on the basis of the original claim.” Matter of M-Z-M-R., 26 18N Dec. 28, 33 (BIA 2012). Based on the country conditions nation-wide discussed above, there does not appear to be such a place in Honduras at this time, Therefore, the Lead Respondent could not avoid future persecution by relocating to another part of Honduras, nor is it reasonable to expect her to do so. Matter of A-B-, 27 I&N Dee. at 344-45, 6. Discretion ‘The Lead Respondent merits relief as a matter of discretion, Although she came to the United States illegally, and circumvented procedures for orderly processing of refugees, she did not\""
      ],
      "execution_count": 7,
      "outputs": []
    },
    {
      "cell_type": "code",
      "metadata": {
        "id": "X93hFpBL5jtN"
      },
      "source": [
        "df.iloc[20, 1] = \"DEPARTMENT OF JuSTIC! OFFICE FOR IMMIGRATION REVIEW IMMIGRATION COURT 31 HOPKINS PLAZA, ROOM 440 BALTIMORE, MD 21201 University of Baltimore School o} Law eyes, Eli School of Law Clinical Prog 1420 N. Charles Street Baltimore, ND 21201 ta the matter of bare | __ Unable to forward - No address provided TH_ Attached is a copy of the decision of the Immigration Judge. This decision is final unless an appeal is filed with the Board of Immigration Appeals within 30 calendar days of the date of the mailing of this written decision for properl your appeal. and fee o: r request Immigration Appeals the Clerk Leesburg Pike, Suite 2000 alls Church, VA 22041 aL the decision of the immigration judge as the result of your F © scheduled deportation or removal hearing This decision is final unless a Notion te Reopen is filed in accordance with Section (3) of tion and Nationality Act, 8 U.S.C. § 1252b(c) (3) in deportation proceedings or section 240(b) (51(C), 6 U.S.C. § 1229a(b) (5) (C) in removal proceedings. If you file a motion to reopen, your motion must be filed with this cour IMMIGRATION COURT 31 HOPKINS PLAZA, ROOM 440 BALTIMORE, MD 21201 Attached is a copy of the decision of the immigration judge relating to a uant to 8 C.F.R. § ative appeal is available. However, you may in 30 days with Reasonable Fear Review. This is a final order. Pu 1208.31(g) (1), no admin: a petition for review w © appeal this Attached is a copy of the decision of the immigration judge relating t redible Fear Review. This is a final order. No appeal is available V.WASHINGTON COURT CLERK IMMIGRATION COURT PF UNITED STATES DEPARTMENT OF JUSTICE EXECUTIVE OFFICE FOR IMMIGRATION REVIEW UNITED STATES IMMIGRATION COURT BALTIMORE, MARYLAND IN THE MATTER OF : IN REMOVAL DP} CHARGE: Section 212(a)(6)(A)(i) of the Immigration and Nationality Act (Act), as amended, in that you are an alien present in the United States without being admitted or paroled, or who entered in the United States at any time or place other than as designated by the Attorney General APPLICATIONS: Asylum under Section 208 of the Act; Withholding of Removal under Section 241(b)(3) of the Act; and Relief under Article 3 of the Convention against Torture (Torture Convention), 8 C.F.R. Section 208.16 et seq. APPEARANCES ON BEHALF OF RESPONDENT: ON BEHALF OF THE DEPARTMENT: Elizabeth Keyes, Attorney at Law Riya Resheidat, Assistant District Counsel University of Baltimore School of Law 31 Hopkins Plaza, Suite 1600 1420 North Charles Street Baltimore, MD 21201 Baltimore, MD 20201 WRITTEN DECISION AND ORDER L Statement of the Case On i: Department of Homeland Security (Department) placed the Respondent into removal proceedings through the filing of a Notice to Appear. Exh. 1. Inthe Notice to Appear, the Department alleged that the Respondent is a native and citizen of Honduras (and not the United States), who entered the United States at Eagle Pass, Texas on | and was not then admitted or paroled after inspection by an immigration officer. Id. Based on the foregoing allegations, the Department charged the Respondent with removability pursuant to § 212(a)(6)(A)(i) of the Act. Ata master calendar hearing a the Respondent, through counsel, admitted all allegations contained in the Noucet© Appear, claiming that allegation three was incorrect and her entry was oof os. She also conceded the charge of removebility. ‘ng evidence. See § 240(c)(3) of the Act; see also Woodby v. INS, 385 U.S. 276 (1966). As relief from removal, the Respondent filed ‘an Application for Asylum and Withholding of Removal, Form 1-589, with U.S. Citizenship and ‘Therefore, removability is established by clear and com Immigration Services (USCIS), who had initial jurisdiction over her application since she entered as an unaccompanied child. See William Wilberforce Trafficking Victims Protection and Reauthorization Act of 2008 (TVPRA), Public Law 110-457. i: 5, the Respondent's asylum application was referred to the Court. Exhs. 3 At an individual hearing i: both parties presented arguments, since the Respondent had been sworn to the application and it was conceded that there was no issue as to her credibility, and the only issue was whether Respondent was barred from receiving asylum or withholding of removal for having committed a serious nonpolitical crime. At the close of the hearing, the Court reserved decision to further review the evidence and testimony presented. Tl. Documentary Evidence © Exhibit 1, Notice to Appear, date 2014 © Exhibit 2, Record of Deportable/ je Alien, Form 1-213 The Note Apes IMM te Respro not av aire rth ne. Exh 1 However, the specie date has RNBEETNgOTmer removably 2 * Exhibit 3, Respondent’s Application for Asylum, Withholding of Removal, and Relief under the Torture Convention, Form 1-589 A. Respondent’s Declaration (Submitted to Asylum Office in B Respondents Supplemental Declaration ‘Submitted to Asylum Office ater C. Office of Refugee Resettlement (ORR), Admission Assessment/ History, dated Discharge Instructions, dated| inary Service Plan, F, (No submission) G. Psychiatric Assessment, dated i H P| reatment Center, Individual Counseling Goals and Objectives, dated July |W, Progress Note, dated| Treatment Center, Medical Discharge Summary Websites of “Hogar San Rafael” and “Street Children in Honduras” |. Monica Ramirez and Anne K. Ream, Migrant Children are Fleeing a Region Rife with Sexual Violence, New Republic (July 2014) Office of the United Nations High Commissioner for Human Rights (UNHCR), Special Rapporteur on violence against women finalizes country mission to Honduras and calls for urgent‘action to address the culture of impunity for crimes against women and girls (July 2014) State Department, 2013 Report on Human Rights for Honduras (Excerpt) Kyra Gurney, Report Details How El Salvador Gangs Use Rape as Weapon, InSight Crime (Nov. 2014) Inter-American Commission on Human Rights, Annual Report on the Int American Commission on Human Rights 2011, December 30, 2011 (Excerpt) Annie Kelly, Honduran Police Turn a Blind Bye to Soaring Number of Femicides,’ The Guardian, May 28, 2011 International Organization of Migration, Fatal Journeys: Tracking Lives Lost during Migration, 2014 (Excerpt) Eline Gordts, // Numbers to Help You Understand the Violence Rocking Mexico, Huffington Post (October 31, 2014) John Burnett, Migrants Say They're Unwilling Mules for Cartels, NPR (Dec. 4, 2011) Canada Immigration and Refugee Board, Honduras: Information on the structure and hierarchy of main gangs; gang recruitment of children (Dec. 2014) + Exhibit 4, Respondent's Supporting Documents, fle P| W. Respondent’s Revised Declaration X. Statements from Employees of Y._ Letter fro Z. Respondent's Performance and Development Summary from the AA. State Department, 2016 Report on Human Rights for Honduras BB. Internal Crisis Group, Mafia of the Poor: Gang Violence and Extortion in Central America (2017) CC. UNHCR, Eligibility Guidelines for Assessing the International Protection Needs of Asylum-Seckers from Honduras (July 2016) DD. Cardenas, Nina Lakhanai, Mexican kidnappers pile misery onto Central Americans fleeing violence, The Guardian (Feb. 21,2017) EB. State Department, 2016 Trafficking in Persons Report ~ Honduras FE, InSight Crime, The Problen: With Counting Gang Members in Honduras (2016) GG. Department Memo: Exercising of Authority Under Sec. 212(d)(3)(B)(i) of the Immigration and Nationality Act + Exhibit 5, Resume and Letter from Psychotherapist | | + Exhibit 6, USCIS Assessment to Refer Respondent’s Asylum Application and Record of Swom Statement of Responder ia II. Statement of the Case A detailed account of Respondent's claim is provided in her sworn declaration. See generally Exh. 4, Tab W. Respondent was born zz: at 1. She was abandoned by her mother and father when she was USPTOUPYears Of and was raised by her sister I 4. Her fath she only speaks to her mother about once or twice a year. Jd. In her declaration, Respondent fas an abusive alcoholic with whom she has no contact and that stated thal treated her like a maid and “physically abuse{d] her with her hands and electric cables,” causing permanent scars. Id. at 1-2. According to the Resporden I also tried to kill her by putting Clorox in her food. Jd. at 2. Respondent was raped by her two uncles and a cousin when she was just six years old. Jd. She said that she was picking cacao leaves in a field when three hooded figures approached her, tied her up, and raped her in tum. Jd. She recognized them as her relatives and later reported the assault to her mother, who beat her for suggesting it. Id. 2 At the merits hearing o} this piece of evidence was marked for identification, Because it was relied on by both parties fer arguments to the Court, it will now be admired into evidence as Exh. 6. 4 Respondent was first approached by the Mara 18 gang when she was ten years old. Id. She initially resisted recruitment and they threatened to kill her family. Id, She tried to avoid going out in public for fear that they would approach her again. [d. About six months later, she went to Tegucigalpa to find work when she was approached by two men who offered to help her obtain employment, Jd, at 2-3. She seid that she followed them in the hopes of getting a job, but, instead, they took her to a remote area and raped her. /d, at 3. As soon as she could, Respondent ran to a nearby police station and informed a police officer there that she had been raped. He told her that he “could not help [her] without any evidence.” Jd. Respondent then returned to her hometown, where she was again approached by Mara 18 members who pushed her to join their gang. She explained that she gave in to their demands because she was tired and had no other family that was “willing to take care of” her. Jd. She stated that they immediately threatened to kill her if she ever refused to follow instructions and forced her to have sex with gang members. Id. The Respondent noted that they also made her “hurt people” on behalf of the gang. Jd. She seid that gang members tortured her when she did not “comply with their orders.” Id. ‘The Respondent said that she saw one of the uncles who raped her again in early 2014 and he told her that she “looked pretty.” /d. Based on that interaction, she believed that he would rape her again if she remained in Honduras. /d. Later that year, her other sister| FEB sccstea that the Respondent come with her to the United States and the Respondent jumped at the chance to leave the gang and establish a new life elsewhere. Jd. The Respondent explained that she an raveled through Mexico on their way to the United States and [I +: sconded with aman they met on the journey, leaving the Respondent to fend for herself. [d. at 3-4, The Respondent stated that she tried to find her sister and was ultimately raped by a man who pretended to help her look o at 4, ‘The Respondent continued to search for her sister and eventually got onto a train where she was detained by someone impersonating an immigration officer. Id. at 4~§. According to the Respondent, this man was actually a “sicario” (hitman), who locked her in @ dark room for a long period of time before he forced her to sell “crystal rocks” to people waiting outside. Id. at 5. The Respondent stated that the “sicario” and his men raped her and threatened to kill her if she “did not continue having sexual relations with them.” Jd. The Respondent attested that she was able to escape this situation with the help of one of the “sicario’s” men and was able to locate her a stayed vit she ultimately entered the United States in Jun| 1d. The Respondent recalled that she was detained by Immigration and Customs Enforcement officers after she entered the United States. 1d. The Respondent stated that she has a great life in the United States. Id. at 6. She explained that she has received necessary medical and psychiatric care since entering the United Jd, She noted that while also attending ESOL classes at the States and that she successfully completed the| she currently works af Hid. She plans to obtain her General Education Degree in the future. 1d, The Respondent fears returning to Honduras because she believes that the gangs will continue to torture her or kill her because she fled fiom them. /d. She noted that she cannot rely on her family for protection from gang violence. id. TV. Statement of the Law A. Credibility and Corroboration The REAL ID Act of 2005 amended various sections of the Act relating to relief from removal. Specifically, the Act was amended to include section 240(c)(4)(B), which provides that in order for an applicant for relief from removal to sustain her burden of establishing eligibility for such relief, she must “comply with the applicable requirements to submit information or documentation” in support of such application. Further, the Court must determine whether testimonial evidence “is credible, is persuasive, and refers to specific facts” sufficient to satisfy the applicant's burden of proof, and weigh such evidence with other evidence in the record. Uncorroborated testimony that is credible, persuasive, and specific may be sufficient to sustain the burden of proof. Cf § 208(b}(1)(B)(ii) of the Act; 8 C.F.R. § 1208.13(a). However, where it is reasonable to expect corroborating evidence for certain alleged facts, such evidence should be provided as long as the applicant has the evidence or can reasonably obtain it. Cf Matier of S-McJ-, 21 1&N Dec. 722, 725 (BIA 2000). The absence of such corroboration may lead to a finding that an applicant has failed to meet her burden of proof. Matter of S-M-J-, 21 1&N Dec. 722, 725-26 (BIA 2000). Nonetheless, the immigration judge must provide the applicant an ‘opportunity to explain the lack of corroborating evidence and ensure that the applicant’s in-Jian v. Gonzales, 489 F.3d 182, 192 (4th Cir, 2007). explanation is included in the record. Id; The Board has made clear that applicants cannot meet their burden of proof by “general and vague”” testimony, and “the weaker an [applicant's] testimony, the greater the need for corroborative evidence.” Matter of Y-B-, 21 I&N Dec. 1136, 1139 (BIA 1998). B. Asylum To qualify for a grant of asylum, an applicant bears the burden of demonstrating that she meets the statutory definition of a refugee. Sections 101(a)(42)(A), 208(b)(1)(A) of the Act ‘The Act defines the term “refugee” as any person who is outside her country of nationality who is unable or unwilling to return to and is unable or unwilling to avail herself of the protection of that country because of past persecution or a well-founded fear of future persecution on account of race, religion, nationality, membership in a particular social group, or political opinion. Section § 101(a)(42)(A) of the Act; 8 C.F.R. § 1208.13(b). When the alleged persecutor is a private actor, the applicant also bears the burden of showing that her “home government was “unable or unwilling to control” her persecutors. Matter of A-B-, 27 1&N Dee. 316, 330 (A.G. 2018) 1. Persecution In order to establish a claim for either asylum or withholding of removal, an applicant must demonstrate that the harm she fears constitutes persecution under the Act, Section 101(a}(42)(A) of the Act. The Board has interpreted “persecution” to include serious threats to an individual’s life or freedom, or the infliction of significant harm on the applicant, as a means cf punishing that person for holding a characteristic that the persecutor seeks (o overcome. ‘Matter of Acosta, 19 1&N Dee. 211, 223 (BIA 1985). To establish past persecution, the applicant must demonstrate that she suffered persecution in her country of nationality on account of an actual or imputed protected ground, and that she is unable or unwilling to return to, or avail herself of the protection of that country because of such persecution. 8 C.F.R. § 1208.13(b)(1). Not every act of discrimination or harassment rises to the level of persecution, as persecution is “an extreme concept that does not include every sort of treatment that our society regards as offensive.” Li v. Gonzales, 405 F.3d 171, 177 (4th Cir. 2005) (internal quotation marks omitted). However, cumulative incidents in the aggregate may rise to the level of persecution. See Baharon v. Holder, 588 F.3d 228, 232-33 (4th Cir, 2009); see also Matter of O-Z- and I-Z-, 22 T&N Dec. 23, 26 (BIA 1998) If the applicant demonstrates past persecution on account of a protected ground, she will benefit from a rebuttable presumption of a well-founded fear of future persecution. 8 CER. § 1208.13(b)(1). ‘The Department can rebut the presumption by showing that the applicant's fear is no longer well-founded due to a fundamental change in circumstances or that the applicant could avoid future persecution by relocating to another part of the country and that, under all the circumstances, it would be reasonable to require her to do so. 8 CFR. § 1208.13(b)(1)(i) - (ii. fan applicant has not met her burden of demonstrating past persecution, the alien bears the burden to show a well-founded fear of future persecution by a preponderance of the evidence. Lopez-Soto v. Ashcroft, 383 F.3d 228, 234 (4th Cir. 2004), A well-founded fear of persecution must be both subjectively genuine and objectively reasonable, INS v, Cardoza-Fonseca, 480 U.S. 480 U.S. 421, 430-31 (1987). To meet this standard, an applicant must possess a subjective fear and must also demonstrate that “a reasonable person in similar circumstances would fear persecution on account of” one or more of the protected grounds, Blanco de Belbruno v. Asherofi, 362 F.3d 272, 284 (4th Cir. 2004) (citing Cruz-Diaz v. INS, 86 F.3d 330, 331 (4th Cir. 1996)); see also 8 CFR. § 1208.13(b)(1) ~ (2) Credible testimony by an applicant may be enough to satisfy the subjective component, depending on the circumstances. Once a subjective fear of persecution is established, the applicant need only show that such fear is grounded in reality to meet the objective element of the test; that is, she must present credible, specific and detailed evidence that a reasonable person in her position would fear persecution. The applicant’s fear may be well-founded even if there is only a slight, though discernible, chance of persecution. INS v. Cardoza-Fonseca, 480 U.S. at 431. 2. Nexus to a Protected Ground An applicant for asylum must also demonstrate that the persecution she experienced or fears would be inflicted “on account of” her race, religion, nationality, membership in a particular social group, or political opinion, 8 C.F.R. § 1208.13(b)(2)(i)(A). Even treatment that is regarded as “morally reprehensible” is not “persecution” within the meaning of the Act unless it occurs “on account of” one of the five enumerated grounds. Matter of T-M-B-, 21 I&N Dee. 775, 777 (BIA 1997). In essence, the applicant must demonstrate that her race, religion, nationality, particular social group, or political opinion would be “at least one central reason” for the persecutor’s actions against her. Section 208(b)(1)(BX(i) of the Act; INS v. Elias-Zacarias, 502 U.S. 478 (1992). 3. Particular Social Group Membership in a particular social group is one of the five enumerated grounds upon which an applicant may base her claim for asylum or withholding of removal. 8 CFR. §§ 1208.13(b), 1208.16(b). To demonstrate persecution on account of membership in a particular social group, an applicant must establish that the group is (1) composed of members who share a common immutable characteristic, (2) defined with particularity, and (3) socially distinct within the society in question. See Matter of A-B-, 27 1&N Dee. at 317; Matter of M-E-V-G-, 26 T&N Dec. 227 (BIA 2014); Matter of W-G-R-, 26 I&N Dec. 208 (BIA 2014); see also Matter of Acosta, 19 I&N Dec. at 212. The group must exist “independently of the alleged underlying, harm.” Matter of A-B-,27 IN Dee. at 317. The shared characteristic “must be one that the members of the group either cannot change, or should not be required to change because it is fundamental to their individual identities or consciences.” See Matter of M-E-V-G-, 26 1&N Dec. at 231 (internal quotation marks omitted), The common characteristic may be as innate as sex, color, or kinship ties, or as subtle as a shared past experience, and will be determined on a case-by-case basis. See Matter of Acosta, 19 I&N Dee. at 2335 see also Matter of M-E-V-G-, 26 I&N Dec. at 251. The “particularity” requirement concerns the boundaries of the proposed social group, while the “social distinction” requirement demands that the members of the proposed social group are significantly set apart from others within the community in question, See Matter of A-B-,27 18N Dec. at 330; Matter of M-E-V-G-, 26 I&N Dec. at 238; see also Matter of W-G-R-, 26 1&N Dec. at 214, 216-17, 4. Serious Nonpolitical Crime Bar ‘An applicant is statutorily ineligible for asylum or withholding of removal under the Act if “there are serious reasons for believing that the alien committed a serious nonpolitical crime outside the United States prior to the arrival of the alien in the United States.” Section 208 (b)(2)(A) (iii) of the Act; see also 24 1(b)(3)(B)(iii) of the Act. ‘The initial burden falls on the Department to provide evidence that a ground for mandatory denial of the application for relief applies, afler which the burden of proof shifts to the applicant seeking the relief to establish, by a preponderance of the evidence that such grounds “do not apply.” 8 C.F.R. § 1240.8(d); ef Matter of S-K-, 23 1&N Dec. 936, 939 (BIA 2006) (explaining burdens of proof in the context of a different mandatory ground for denial). It need not be determined definitively whether an applicant actually committed a serious nonpolitical crime. Rather, it is “enough to find that there are serious reasons for considering that [sJhe has committed such a crime.” Matter of Ballester-Garcia, 17 1&N Dec. 592, 595 (BIA 1980) (internal quotation marks omitted). “Serious reasons for believing” is equivalent to probable cause, Matter of E-A-, 21 1&N Dee. 1, 3 (BIA 2012). In determining the seriousness of the offense, the Court must look to the “atrociousness” of the alleged criminal behavior. INS v, Aguirre-Aguirre, 526 U.S. 415, 422 (1999). When the purported crime is not “obviously heinous,” the Court must consider additional factors in deciding whether or not the applicant's actions constitute a serious nonpolitical crime. Ballester- Garcia, 17 1&N Dec. at 595. These factors include, “the alien's description of the crime, the turpitudinous nature of the crime according to [Board] precedents, the value of any property involved, the length of sentence imposed and served, and the usual punishments imposed for ‘comparable offenses in the United States.” Id. Analyzing whether an applicant has committed a serious nonpolitical crime requires a determination as to whether the offense is political in nature. Matter of McMullen, 19 I&N Dec. 90 (BIA 1984). A crime is political if “the political aspects of the offense outweigh its common- law character.” Id. at 97-98; see also Aguirre-Aguirre, 526 U.S. at 425. C. Withholding of Removal Pursuant to § 241(b)(3) of the Act To establish eligibility for withholding of removal under the Act, an applicant must demonstrate that her “life or freedom would be threatened in that country because of the [applicant's] race, religion, nationality, membership in a particular social group, or political opinion.” Section 241(b)(3)(A) of the Act. Specifically, the applicant must establish that it is more likely than not that she will be subjected to persecution if returned to the country from which she claims protection. & C.F.R. § 1208.16(b)(1)(i); see also INS v, Stevie, 467 U.S. 407, 429-30 (1984); Cardoza-Fonseca, 480 U.S. at 423. An applicant who fails to demonstrate the well-founded fear of persecution required for asylum will necessarily fail to meet the higher burden of proof required for withholding of removal. See Mirisawo v, Holder, $99 F.3d 391, 396 (4th Cir. 2010); Camara v. Ashcroft, 378 F.3d 361, 367. 10 D. Protection under the Convention Against Torture To be extended protection under Article 3 of the Torture Convention, an applicant must establish that it is “more likely than not that he or she would be tortured if removed to the proposed country of removal.” 8 C.F.R. §§ 1208.16(c)(2), 1208.17(a). “Torture” is defined, in part, as the intentional infl jon of severe pain or suffering by a public official, at the instigation of a public official, or with the consent or acquiescence of a public official. 8 C.F.R. § 1208.18(a)(1). Only “extreme form{s] of cruel and inhuman treatment” torture. Matter of J-E-, 23 [&N Dec. 291, 297 (BIA 2002). Before an applicant will qualify for protection under the Torture Convention, “specific grounds must exist that indicate the individual would be personally at risk.” Matter of S-V-, 22 I&N Dec. 1306, 1313 (BIA 2000). ‘The mere existence of a pattern of human rights violations in a country does not constitute a to the level of sufficient ground for finding that a particular person would more likely than not be tortured, Id. Vv. Arguments ‘The Respondent, through counsel, asserts that the Respondent is eligible for asylum as she suffered persecution on account of her membership in four distinct particular social groups, namely (1) Honduran girls viewed as property by their families,” (2) “Honduran women viewed as gang property and unable to leave,” (2) “former gang members,” and (4) “Honduran females.” Respondent's counsel also argues that the acts she performed while she was under the control of the MS-13 gang were not serious nonpolitical crimes as they were committed “under duress and with enormous regret.” The Respondents counsel claims that the definition of a serious nonpolitical crime centers on the “atrociousness” of the act and the intent to commit the crime, Counsel contends that the Respondent lacked the requisite mindset that would make the actions “atrocious.” Counsel argues that the Respondent's participation in the gang was “limited toa few things.” Counsel highlights the fact that the Respondent was under the gang’s control during most of her youth, as she was forcefully recruited when she was ten years old and did not escape until she entered the United States with her sister when she was seventeen years old. Counsel contends that the Respondent, as a victim of repeated rapes and abuse, had experienced a serious level of trauma that left her in a vulnerable position, and that this trauma factored into her participation in the gang’s activities. Counsel also claims that, even if the Respondent had committed a serious nonpolitical crime, she did so under duress, Counsel argues that the serious nonpolitical crime bar is ist analogous to the persecutor bar and, as such, the Court should apply the duress exception outlined in Matter of Negusie, 27 1&N Dec. 347 (BIA 2018). Respondent’s counsel argues that under the Negusie test, the Respondent must demonstrate that she: (1) acted under imminent threat of death or serious bodily injury to herself or others; (2) believed that the threatened harm ‘would be carried out; (3) had no reasonable opportunity to escape or otherwise frustrate the threat; (4) did not place herself in a situation in which she knew or should have known that she would likely be forced to act; and (5) knew or should have known that the harm she inflicted was not greater than the threatened harm. /d. Counsel argues that the Respondent meets all five prongs of this test. ‘The Department's attorney asserts that none of the Respondent’s proposed particular social groups are cognizable under Maiter of A-B-, 27 1&N Dec. 316 (A.G. 2018) as the groups do not exist independently of the harm suffered. ‘The Department also claims that the Respondent has not met her burden to show that the serious nonpolitical bar does not apply to her asylum appli ion. The Department argues that the acts that the Respondent perpetrated while she was in a gang were certainly serious ical crimes under Matter of F-A-, 21 18N Dec. 1 (BIA 2012), and that there is no specific evil intent required for the bar. nonpol ‘The Department contests the Respondent's argument that there is a duress exception for the serious nonpolitical crime bar as Negusie applies to the persecutor bar and there is no case Jaw that supports such a finding in this instance, Additionally, the Department alleges that, even if the Court were to apply the five factor test in Negusie to the case at hand, the Respondent could not establish that she committed the acts under duress, Specifically, the Department argues that the Respondent had a “reasonable opportunity” to escape, but chose to return to gang life. The Department also contends that the Respondent would perform some of the acts of her own volition and that gang members would stop her when she got “out of control.” VL. Findings ‘The Court has considered the arguments of both parties and the entire record carefully. All evidence and testimony has been considered, even if not specifically addressed in the decision. A. Credibility ‘The parties agreed that the materials submitted by Respondent were credible and there ‘was no reason for her to testify. These materials show that at her asylum interview she provided credible responses to the questions asked, including those answers that would place her in legal jeopardy. See generally Exh, 6. For this reason, the asylum officer explicitly found the Respondent credible, noting that her “testimony was detailed, consistent and plausible.” Exh, 6 at 2. After considering the totality of the evidence, the Court finds that the Respondent's claim is credible. B, Asylum 1. Persecution On Account of a Protected Ground? ‘The Respondent suffered persecution on account of her membership comprised of “Honduran females.” [d, The social group is composed of individuals who share common, immutable characteristics, namely sex and nationality. See Matter of Acosta, 19 1&N Dec. at 212, The Board in Matter of Acosta held that sex is an immutable characteristic as itis something that “members of the group either cannot change, or should not be required to change because it is fundamental to their identities.” 19 IGN Dee. at 233. Nor isit possible for someone to amend their nationality in order to avoid certain kinds of treatment. id. Accordingly, the particular social group of Honduran women satisfies the immutability requirement. The particular social group also is socially distinct as it is recognized as a group by the community at large. Country conditions reports and articles explain that Honduran society views “Honduran females” as a separate and distinct group in their community. By virtue of being “female,” Honduran women are more likely to experience certain kinds of harm, including rape and femicide. Exh, 3, Tab P at 54 (stating that “femicide is the leading cause of death for young women” in Honduras); Exh. 4, Tab CC at 145 (noting that “sexual and gender-based violence against women and girls is reportedly widespread, as is the forcible recruitment of girls to carry There is an argument thatthe Department should be held to its concession on September 28, 2017, that, notwithstanding the serious nonpolitcal crime bar, the Respondent was eligible for asylum. Cf: Matier of Velasques, 19 1&N Dec. 377, 362 (BIA 1986) (holding thet respondents are bound by prior counsel's concession of removability). While Mater of 4-Bs,271BN Des, 316 (A.G. 2018) as issued after that concession, before the fedoral district court in Grace etal. v. Whitaker, ‘No, 18-CV01853 (US. District Cour for D.C, Dec. 19, 218), see, eg. slip apa 60, the government took the pasion that nothing in that decision was new law, However, given the Atiomey General's express dislike forthe concessions made in Mauer Of 4B the Coun will engage in a complete analysis a the evidence before it in this mater. B out tasks for the gangs”). Additionally, Honduran women face discrimination in the workforce based on their gender, as well as @ significant disparity in pay between them and their male counterparts. Exh. 4, Tab AA at 52. Women in Honduras are also expected to be the primary caregivers for their children, whereas, men are the primary breadwinners. Id. at $0. In Honduran society, gender roles are narrowly defined and enforced. Id. Because the evidence in the record supports the fact that Honduran society views “Honduran females” as a group, the social distinction requirement is satisfied. Similarly, the group is particular as it is “defined by characteristics\""
      ],
      "execution_count": 8,
      "outputs": []
    },
    {
      "cell_type": "code",
      "metadata": {
        "colab": {
          "base_uri": "https://localhost:8080/",
          "height": 948
        },
        "id": "j1BA5Hu24kYD",
        "outputId": "026879bc-fa02-4663-8aa7-e5f84fcdcd5b"
      },
      "source": [
        "df"
      ],
      "execution_count": 9,
      "outputs": [
        {
          "output_type": "execute_result",
          "data": {
            "text/html": [
              "<div>\n",
              "<style scoped>\n",
              "    .dataframe tbody tr th:only-of-type {\n",
              "        vertical-align: middle;\n",
              "    }\n",
              "\n",
              "    .dataframe tbody tr th {\n",
              "        vertical-align: top;\n",
              "    }\n",
              "\n",
              "    .dataframe thead th {\n",
              "        text-align: right;\n",
              "    }\n",
              "</style>\n",
              "<table border=\"1\" class=\"dataframe\">\n",
              "  <thead>\n",
              "    <tr style=\"text-align: right;\">\n",
              "      <th></th>\n",
              "      <th>uuid</th>\n",
              "      <th>full_text</th>\n",
              "    </tr>\n",
              "  </thead>\n",
              "  <tbody>\n",
              "    <tr>\n",
              "      <th>0</th>\n",
              "      <td>09f26e70-c0ee-4609-b0c9-b1e8364f70b0</td>\n",
              "      <td>UNITED STATES DEPARTMENT OF JUSTICE EXECUTIVE ...</td>\n",
              "    </tr>\n",
              "    <tr>\n",
              "      <th>1</th>\n",
              "      <td>2020.02.19 Asylum grant_Redacted</td>\n",
              "      <td>UNITED STATES OEPARTMENT OF JUSTICE EXECUTIVE ...</td>\n",
              "    </tr>\n",
              "    <tr>\n",
              "      <th>2</th>\n",
              "      <td>2cd9ed36-9ddb-4c7e-b910-d35d774329fb</td>\n",
              "      <td>UNITED STATES DEPARTMENT OF JUSTICE EXECUTIVE ...</td>\n",
              "    </tr>\n",
              "    <tr>\n",
              "      <th>3</th>\n",
              "      <td>2cd9ed36-9ddb-4c7e-b910-d35d774329fb</td>\n",
              "      <td>provide a clear benchmark for determining who ...</td>\n",
              "    </tr>\n",
              "    <tr>\n",
              "      <th>4</th>\n",
              "      <td>Annotated Decision for Coding Check, Initial H...</td>\n",
              "      <td>Regan TED STATES DEPARTMENT OF JUSTICE TIVE OF...</td>\n",
              "    </tr>\n",
              "    <tr>\n",
              "      <th>5</th>\n",
              "      <td>Annotated Decision for Coding Check, Initial H...</td>\n",
              "      <td>Carlos treated her. Id. After the Respondent r...</td>\n",
              "    </tr>\n",
              "    <tr>\n",
              "      <th>6</th>\n",
              "      <td>Asylum Grant Honduran Business Owners</td>\n",
              "      <td>INMIGRATION COURT 525 W. VAN BUREN, SUITE 500 ...</td>\n",
              "    </tr>\n",
              "    <tr>\n",
              "      <th>7</th>\n",
              "      <td>Asylum Grant Honduran Business Owners</td>\n",
              "      <td>of her story, because she was afraid it would ...</td>\n",
              "    </tr>\n",
              "    <tr>\n",
              "      <th>8</th>\n",
              "      <td>Asylum Grant Honduran Business Owners</td>\n",
              "      <td>In Martinez-Buendia, Ms. Martinez had refused ...</td>\n",
              "    </tr>\n",
              "    <tr>\n",
              "      <th>9</th>\n",
              "      <td>Chicago Immigration Judge - Post-AB Domestic V...</td>\n",
              "      <td>UNITED STATES DEPARTMENT OF JUSTICE EXECUTIVE ...</td>\n",
              "    </tr>\n",
              "    <tr>\n",
              "      <th>10</th>\n",
              "      <td>Family PSGAnti-gangPO - IJ Feder 9.18.19_Redac...</td>\n",
              "      <td>Ko O UNITED STATES DEPARTMENT OF JUSTICE EXECU...</td>\n",
              "    </tr>\n",
              "    <tr>\n",
              "      <th>11</th>\n",
              "      <td>Family PSGAnti-gangPO - IJ Feder 9.18.19_Redac...</td>\n",
              "      <td>(A.G. 2017), overruled by Matter of -E-A-,27 1...</td>\n",
              "    </tr>\n",
              "    <tr>\n",
              "      <th>12</th>\n",
              "      <td>Honduran Garifuna Asylum Grant IJ Laforest - N...</td>\n",
              "      <td>UNITED STATES DEPARTMENT OF JUSTICE EXECUTIVE ...</td>\n",
              "    </tr>\n",
              "    <tr>\n",
              "      <th>13</th>\n",
              "      <td>Honduran Women, Redacted Asylum Grant, Arlingt...</td>\n",
              "      <td>UNITED STATES DEPARTMENT OF JUSTICE EXECUTIVE ...</td>\n",
              "    </tr>\n",
              "    <tr>\n",
              "      <th>14</th>\n",
              "      <td>Honduran Women, Redacted Asylum Grant, Arlingt...</td>\n",
              "      <td>provide a clear benchmark for determining who ...</td>\n",
              "    </tr>\n",
              "    <tr>\n",
              "      <th>15</th>\n",
              "      <td>Honduras.Women in domestic relationships asylu...</td>\n",
              "      <td>UNITED STATES DEPARTMENT OF JUSTICE EXECUTIVE ...</td>\n",
              "    </tr>\n",
              "    <tr>\n",
              "      <th>16</th>\n",
              "      <td>Honduras.Women in domestic relationships asylu...</td>\n",
              "      <td>The Lead Respondent’s particular social group ...</td>\n",
              "    </tr>\n",
              "    <tr>\n",
              "      <th>17</th>\n",
              "      <td>Honduras.Women in domestic relationships asylu...</td>\n",
              "      <td>commit the fraud that was committed by the res...</td>\n",
              "    </tr>\n",
              "    <tr>\n",
              "      <th>18</th>\n",
              "      <td>IJ decision Brazilian National (9th Cir.)</td>\n",
              "      <td>UNITED STATES DEPARTMENT OF JUSTICE EXECUTIVE ...</td>\n",
              "    </tr>\n",
              "    <tr>\n",
              "      <th>19</th>\n",
              "      <td>IJ decision Brazilian National (9th Cir.)</td>\n",
              "      <td>Two Members of Brazil's MST Landless Movement ...</td>\n",
              "    </tr>\n",
              "    <tr>\n",
              "      <th>20</th>\n",
              "      <td>IJ Decision in another UB Case w serious non-p...</td>\n",
              "      <td>DEPARTMENT OF JuSTIC! OFFICE FOR IMMIGRATION R...</td>\n",
              "    </tr>\n",
              "    <tr>\n",
              "      <th>21</th>\n",
              "      <td>IJ Decision in another UB Case w serious non-p...</td>\n",
              "      <td>that provide a clear benchmark for determinin...</td>\n",
              "    </tr>\n",
              "    <tr>\n",
              "      <th>22</th>\n",
              "      <td>Nicaragua - DV - IJ Rubin Newark, NJ (2020)</td>\n",
              "      <td>UNITED STATES DEPARTMENT OF JUSTICE RECUTIVE O...</td>\n",
              "    </tr>\n",
              "    <tr>\n",
              "      <th>23</th>\n",
              "      <td>Nicaragua - DV - IJ Rubin Newark, NJ (2020)</td>\n",
              "      <td>presumption that the Respondent has a well- fo...</td>\n",
              "    </tr>\n",
              "    <tr>\n",
              "      <th>24</th>\n",
              "      <td>Redacted Grant, PSG Guatemalan Women</td>\n",
              "      <td>UNITED STATES DEPARTMENT OF JUSTICE EXECUTIVE ...</td>\n",
              "    </tr>\n",
              "    <tr>\n",
              "      <th>25</th>\n",
              "      <td>Redacted Grant, PSG Guatemalan Women</td>\n",
              "      <td>establish a cognizable PSG. See C-A:, 23 I&amp;N D...</td>\n",
              "    </tr>\n",
              "    <tr>\n",
              "      <th>26</th>\n",
              "      <td>Redacted IJ Decision _22single Salvadoran moth...</td>\n",
              "      <td>UNITED STATES DEPARTMENT OF JUSTICE, EXECUTIVE...</td>\n",
              "    </tr>\n",
              "    <tr>\n",
              "      <th>27</th>\n",
              "      <td>Redacted_IJ Decision_Asylum grant for false ga...</td>\n",
              "      <td>UNITED SYATES DEPARTMENT OF JUSTICE EXECUTIVE ...</td>\n",
              "    </tr>\n",
              "    <tr>\n",
              "      <th>28</th>\n",
              "      <td>Redacted_IJ Decision_Asylum grant for false ga...</td>\n",
              "      <td>evidence must be provided unless the applicant...</td>\n",
              "    </tr>\n",
              "  </tbody>\n",
              "</table>\n",
              "</div>"
            ],
            "text/plain": [
              "                                                 uuid                                          full_text\n",
              "0                09f26e70-c0ee-4609-b0c9-b1e8364f70b0  UNITED STATES DEPARTMENT OF JUSTICE EXECUTIVE ...\n",
              "1                    2020.02.19 Asylum grant_Redacted  UNITED STATES OEPARTMENT OF JUSTICE EXECUTIVE ...\n",
              "2                2cd9ed36-9ddb-4c7e-b910-d35d774329fb  UNITED STATES DEPARTMENT OF JUSTICE EXECUTIVE ...\n",
              "3                2cd9ed36-9ddb-4c7e-b910-d35d774329fb  provide a clear benchmark for determining who ...\n",
              "4   Annotated Decision for Coding Check, Initial H...  Regan TED STATES DEPARTMENT OF JUSTICE TIVE OF...\n",
              "5   Annotated Decision for Coding Check, Initial H...  Carlos treated her. Id. After the Respondent r...\n",
              "6               Asylum Grant Honduran Business Owners  INMIGRATION COURT 525 W. VAN BUREN, SUITE 500 ...\n",
              "7               Asylum Grant Honduran Business Owners  of her story, because she was afraid it would ...\n",
              "8               Asylum Grant Honduran Business Owners  In Martinez-Buendia, Ms. Martinez had refused ...\n",
              "9   Chicago Immigration Judge - Post-AB Domestic V...  UNITED STATES DEPARTMENT OF JUSTICE EXECUTIVE ...\n",
              "10  Family PSGAnti-gangPO - IJ Feder 9.18.19_Redac...  Ko O UNITED STATES DEPARTMENT OF JUSTICE EXECU...\n",
              "11  Family PSGAnti-gangPO - IJ Feder 9.18.19_Redac...  (A.G. 2017), overruled by Matter of -E-A-,27 1...\n",
              "12  Honduran Garifuna Asylum Grant IJ Laforest - N...  UNITED STATES DEPARTMENT OF JUSTICE EXECUTIVE ...\n",
              "13  Honduran Women, Redacted Asylum Grant, Arlingt...  UNITED STATES DEPARTMENT OF JUSTICE EXECUTIVE ...\n",
              "14  Honduran Women, Redacted Asylum Grant, Arlingt...  provide a clear benchmark for determining who ...\n",
              "15  Honduras.Women in domestic relationships asylu...  UNITED STATES DEPARTMENT OF JUSTICE EXECUTIVE ...\n",
              "16  Honduras.Women in domestic relationships asylu...  The Lead Respondent’s particular social group ...\n",
              "17  Honduras.Women in domestic relationships asylu...  commit the fraud that was committed by the res...\n",
              "18          IJ decision Brazilian National (9th Cir.)  UNITED STATES DEPARTMENT OF JUSTICE EXECUTIVE ...\n",
              "19          IJ decision Brazilian National (9th Cir.)  Two Members of Brazil's MST Landless Movement ...\n",
              "20  IJ Decision in another UB Case w serious non-p...  DEPARTMENT OF JuSTIC! OFFICE FOR IMMIGRATION R...\n",
              "21  IJ Decision in another UB Case w serious non-p...   that provide a clear benchmark for determinin...\n",
              "22        Nicaragua - DV - IJ Rubin Newark, NJ (2020)  UNITED STATES DEPARTMENT OF JUSTICE RECUTIVE O...\n",
              "23        Nicaragua - DV - IJ Rubin Newark, NJ (2020)  presumption that the Respondent has a well- fo...\n",
              "24               Redacted Grant, PSG Guatemalan Women  UNITED STATES DEPARTMENT OF JUSTICE EXECUTIVE ...\n",
              "25               Redacted Grant, PSG Guatemalan Women  establish a cognizable PSG. See C-A:, 23 I&N D...\n",
              "26  Redacted IJ Decision _22single Salvadoran moth...  UNITED STATES DEPARTMENT OF JUSTICE, EXECUTIVE...\n",
              "27  Redacted_IJ Decision_Asylum grant for false ga...  UNITED SYATES DEPARTMENT OF JUSTICE EXECUTIVE ...\n",
              "28  Redacted_IJ Decision_Asylum grant for false ga...  evidence must be provided unless the applicant..."
            ]
          },
          "metadata": {},
          "execution_count": 9
        }
      ]
    },
    {
      "cell_type": "code",
      "metadata": {
        "id": "ZnOYvwkh161P"
      },
      "source": [
        "df = df.groupby('uuid')['full_text'].apply(' '.join).reset_index()"
      ],
      "execution_count": 9,
      "outputs": []
    },
    {
      "cell_type": "code",
      "metadata": {
        "id": "Ksvb3zka8_8P"
      },
      "source": [
        "# file1 = open('/content/01108e14-b94a-4f59-9a76-9f8cb2f002c2.txt', 'r')\n",
        "# lines = file1.readlines()"
      ],
      "execution_count": null,
      "outputs": []
    },
    {
      "cell_type": "code",
      "metadata": {
        "id": "rc2DoMUU-3Dw"
      },
      "source": [
        "# text = str(lines)"
      ],
      "execution_count": null,
      "outputs": []
    },
    {
      "cell_type": "code",
      "metadata": {
        "id": "Bdm9bbmu5ulQ"
      },
      "source": [
        "def clean_data(text):\n",
        "    \n",
        "    # remove newline characters\n",
        "    text = re.sub('\\n', ' ', text)\n",
        "    \n",
        "    # remove apostrophes\n",
        "    text = re.sub(\"'\", '', text)\n",
        "    \n",
        "    # remove punctuation\n",
        "    text = re.sub('[^a-zA-Z 0-9.]', ' ', text)\n",
        "    \n",
        "    # remove everything that is more than one space\n",
        "    # replace it with just a single space\n",
        "    text = re.sub(\"[ ]{2,}\", ' ', text)\n",
        "    \n",
        "    return text.strip()"
      ],
      "execution_count": 10,
      "outputs": []
    },
    {
      "cell_type": "code",
      "metadata": {
        "id": "vPtuUfN36CI0"
      },
      "source": [
        "df['clean_text'] = df['full_text'].apply(clean_data)"
      ],
      "execution_count": 11,
      "outputs": []
    },
    {
      "cell_type": "code",
      "metadata": {
        "colab": {
          "base_uri": "https://localhost:8080/",
          "height": 545
        },
        "id": "iGMnmC0v6B-O",
        "outputId": "9be711f4-e50a-4501-c637-49e8be4b2339"
      },
      "source": [
        "df"
      ],
      "execution_count": 12,
      "outputs": [
        {
          "output_type": "execute_result",
          "data": {
            "text/html": [
              "<div>\n",
              "<style scoped>\n",
              "    .dataframe tbody tr th:only-of-type {\n",
              "        vertical-align: middle;\n",
              "    }\n",
              "\n",
              "    .dataframe tbody tr th {\n",
              "        vertical-align: top;\n",
              "    }\n",
              "\n",
              "    .dataframe thead th {\n",
              "        text-align: right;\n",
              "    }\n",
              "</style>\n",
              "<table border=\"1\" class=\"dataframe\">\n",
              "  <thead>\n",
              "    <tr style=\"text-align: right;\">\n",
              "      <th></th>\n",
              "      <th>uuid</th>\n",
              "      <th>full_text</th>\n",
              "      <th>clean_text</th>\n",
              "    </tr>\n",
              "  </thead>\n",
              "  <tbody>\n",
              "    <tr>\n",
              "      <th>0</th>\n",
              "      <td>09f26e70-c0ee-4609-b0c9-b1e8364f70b0</td>\n",
              "      <td>UNITED STATES DEPARTMENT OF JUSTICE EXECUTIVE ...</td>\n",
              "      <td>UNITED STATES DEPARTMENT OF JUSTICE EXECUTIVE ...</td>\n",
              "    </tr>\n",
              "    <tr>\n",
              "      <th>1</th>\n",
              "      <td>2020.02.19 Asylum grant_Redacted</td>\n",
              "      <td>UNITED STATES OEPARTMENT OF JUSTICE EXECUTIVE ...</td>\n",
              "      <td>UNITED STATES OEPARTMENT OF JUSTICE EXECUTIVE ...</td>\n",
              "    </tr>\n",
              "    <tr>\n",
              "      <th>2</th>\n",
              "      <td>2cd9ed36-9ddb-4c7e-b910-d35d774329fb</td>\n",
              "      <td>UNITED STATES DEPARTMENT OF JUSTICE EXECUTIVE ...</td>\n",
              "      <td>UNITED STATES DEPARTMENT OF JUSTICE EXECUTIVE ...</td>\n",
              "    </tr>\n",
              "    <tr>\n",
              "      <th>3</th>\n",
              "      <td>Annotated Decision for Coding Check, Initial H...</td>\n",
              "      <td>Regan TED STATES DEPARTMENT OF JUSTICE TIVE OF...</td>\n",
              "      <td>Regan TED STATES DEPARTMENT OF JUSTICE TIVE OF...</td>\n",
              "    </tr>\n",
              "    <tr>\n",
              "      <th>4</th>\n",
              "      <td>Asylum Grant Honduran Business Owners</td>\n",
              "      <td>INMIGRATION COURT 525 W. VAN BUREN, SUITE 500 ...</td>\n",
              "      <td>INMIGRATION COURT 525 W. VAN BUREN SUITE 500 C...</td>\n",
              "    </tr>\n",
              "    <tr>\n",
              "      <th>5</th>\n",
              "      <td>Chicago Immigration Judge - Post-AB Domestic V...</td>\n",
              "      <td>UNITED STATES DEPARTMENT OF JUSTICE EXECUTIVE ...</td>\n",
              "      <td>UNITED STATES DEPARTMENT OF JUSTICE EXECUTIVE ...</td>\n",
              "    </tr>\n",
              "    <tr>\n",
              "      <th>6</th>\n",
              "      <td>Family PSGAnti-gangPO - IJ Feder 9.18.19_Redac...</td>\n",
              "      <td>Ko O UNITED STATES DEPARTMENT OF JUSTICE EXECU...</td>\n",
              "      <td>Ko O UNITED STATES DEPARTMENT OF JUSTICE EXECU...</td>\n",
              "    </tr>\n",
              "    <tr>\n",
              "      <th>7</th>\n",
              "      <td>Honduran Garifuna Asylum Grant IJ Laforest - N...</td>\n",
              "      <td>UNITED STATES DEPARTMENT OF JUSTICE EXECUTIVE ...</td>\n",
              "      <td>UNITED STATES DEPARTMENT OF JUSTICE EXECUTIVE ...</td>\n",
              "    </tr>\n",
              "    <tr>\n",
              "      <th>8</th>\n",
              "      <td>Honduran Women, Redacted Asylum Grant, Arlingt...</td>\n",
              "      <td>UNITED STATES DEPARTMENT OF JUSTICE EXECUTIVE ...</td>\n",
              "      <td>UNITED STATES DEPARTMENT OF JUSTICE EXECUTIVE ...</td>\n",
              "    </tr>\n",
              "    <tr>\n",
              "      <th>9</th>\n",
              "      <td>Honduras.Women in domestic relationships asylu...</td>\n",
              "      <td>UNITED STATES DEPARTMENT OF JUSTICE EXECUTIVE ...</td>\n",
              "      <td>UNITED STATES DEPARTMENT OF JUSTICE EXECUTIVE ...</td>\n",
              "    </tr>\n",
              "    <tr>\n",
              "      <th>10</th>\n",
              "      <td>IJ Decision in another UB Case w serious non-p...</td>\n",
              "      <td>DEPARTMENT OF JuSTIC! OFFICE FOR IMMIGRATION R...</td>\n",
              "      <td>DEPARTMENT OF JuSTIC OFFICE FOR IMMIGRATION RE...</td>\n",
              "    </tr>\n",
              "    <tr>\n",
              "      <th>11</th>\n",
              "      <td>IJ decision Brazilian National (9th Cir.)</td>\n",
              "      <td>UNITED STATES DEPARTMENT OF JUSTICE EXECUTIVE ...</td>\n",
              "      <td>UNITED STATES DEPARTMENT OF JUSTICE EXECUTIVE ...</td>\n",
              "    </tr>\n",
              "    <tr>\n",
              "      <th>12</th>\n",
              "      <td>Nicaragua - DV - IJ Rubin Newark, NJ (2020)</td>\n",
              "      <td>UNITED STATES DEPARTMENT OF JUSTICE RECUTIVE O...</td>\n",
              "      <td>UNITED STATES DEPARTMENT OF JUSTICE RECUTIVE O...</td>\n",
              "    </tr>\n",
              "    <tr>\n",
              "      <th>13</th>\n",
              "      <td>Redacted Grant, PSG Guatemalan Women</td>\n",
              "      <td>UNITED STATES DEPARTMENT OF JUSTICE EXECUTIVE ...</td>\n",
              "      <td>UNITED STATES DEPARTMENT OF JUSTICE EXECUTIVE ...</td>\n",
              "    </tr>\n",
              "    <tr>\n",
              "      <th>14</th>\n",
              "      <td>Redacted IJ Decision _22single Salvadoran moth...</td>\n",
              "      <td>UNITED STATES DEPARTMENT OF JUSTICE, EXECUTIVE...</td>\n",
              "      <td>UNITED STATES DEPARTMENT OF JUSTICE EXECUTIVE ...</td>\n",
              "    </tr>\n",
              "    <tr>\n",
              "      <th>15</th>\n",
              "      <td>Redacted_IJ Decision_Asylum grant for false ga...</td>\n",
              "      <td>UNITED SYATES DEPARTMENT OF JUSTICE EXECUTIVE ...</td>\n",
              "      <td>UNITED SYATES DEPARTMENT OF JUSTICE EXECUTIVE ...</td>\n",
              "    </tr>\n",
              "  </tbody>\n",
              "</table>\n",
              "</div>"
            ],
            "text/plain": [
              "                                                 uuid  ...                                         clean_text\n",
              "0                09f26e70-c0ee-4609-b0c9-b1e8364f70b0  ...  UNITED STATES DEPARTMENT OF JUSTICE EXECUTIVE ...\n",
              "1                    2020.02.19 Asylum grant_Redacted  ...  UNITED STATES OEPARTMENT OF JUSTICE EXECUTIVE ...\n",
              "2                2cd9ed36-9ddb-4c7e-b910-d35d774329fb  ...  UNITED STATES DEPARTMENT OF JUSTICE EXECUTIVE ...\n",
              "3   Annotated Decision for Coding Check, Initial H...  ...  Regan TED STATES DEPARTMENT OF JUSTICE TIVE OF...\n",
              "4               Asylum Grant Honduran Business Owners  ...  INMIGRATION COURT 525 W. VAN BUREN SUITE 500 C...\n",
              "5   Chicago Immigration Judge - Post-AB Domestic V...  ...  UNITED STATES DEPARTMENT OF JUSTICE EXECUTIVE ...\n",
              "6   Family PSGAnti-gangPO - IJ Feder 9.18.19_Redac...  ...  Ko O UNITED STATES DEPARTMENT OF JUSTICE EXECU...\n",
              "7   Honduran Garifuna Asylum Grant IJ Laforest - N...  ...  UNITED STATES DEPARTMENT OF JUSTICE EXECUTIVE ...\n",
              "8   Honduran Women, Redacted Asylum Grant, Arlingt...  ...  UNITED STATES DEPARTMENT OF JUSTICE EXECUTIVE ...\n",
              "9   Honduras.Women in domestic relationships asylu...  ...  UNITED STATES DEPARTMENT OF JUSTICE EXECUTIVE ...\n",
              "10  IJ Decision in another UB Case w serious non-p...  ...  DEPARTMENT OF JuSTIC OFFICE FOR IMMIGRATION RE...\n",
              "11          IJ decision Brazilian National (9th Cir.)  ...  UNITED STATES DEPARTMENT OF JUSTICE EXECUTIVE ...\n",
              "12        Nicaragua - DV - IJ Rubin Newark, NJ (2020)  ...  UNITED STATES DEPARTMENT OF JUSTICE RECUTIVE O...\n",
              "13               Redacted Grant, PSG Guatemalan Women  ...  UNITED STATES DEPARTMENT OF JUSTICE EXECUTIVE ...\n",
              "14  Redacted IJ Decision _22single Salvadoran moth...  ...  UNITED STATES DEPARTMENT OF JUSTICE EXECUTIVE ...\n",
              "15  Redacted_IJ Decision_Asylum grant for false ga...  ...  UNITED SYATES DEPARTMENT OF JUSTICE EXECUTIVE ...\n",
              "\n",
              "[16 rows x 3 columns]"
            ]
          },
          "metadata": {},
          "execution_count": 12
        }
      ]
    },
    {
      "cell_type": "markdown",
      "metadata": {
        "id": "YMB93IBgKCww"
      },
      "source": [
        "## Pegasus for Legal Document Summarization"
      ]
    },
    {
      "cell_type": "code",
      "metadata": {
        "id": "52-IeVaIKCf8",
        "colab": {
          "base_uri": "https://localhost:8080/",
          "height": 177,
          "referenced_widgets": [
            "f68ad22f6fd44e4c86619a16b4a71c5f",
            "3d804c78483548f19b05614557889bbb",
            "65f2158dfa0549cab39f46e37c6e5a83",
            "dc34808d32ca43b99c592089c2c218cd",
            "3368c575a04744e5ab34c52b96ed2e44",
            "267d868bb447476ca003d849c1777b91",
            "08712d96b8fc490f8405efe70d51a2dc",
            "7ebe060e52cf422784c02c03de83f4cd",
            "4587e132ec7f4b4abb6fd465e00dce9b",
            "b788c14cfa064a63b77c69c0c24dbed6",
            "be783a70e5d14359b809839558f0b506",
            "b4198910877344e1b7e5d118a5f24c4e",
            "79a67261470d4789b00c41460fe31f31",
            "49cc54e2daad4b028f53c900a7f756e5",
            "c726fb1b3181431aa8255973416374d8",
            "1adf565d93594dd89fd0837b5e38daab",
            "22b54f0cb3a04e0bb75acb75405fb907",
            "13dabe760fdd45d29d8bbad25bf5fd9e",
            "d0138977239f437c866623bc41b0261b",
            "32e782dbbc824f49b43b9e5c223764bc",
            "77f8bf3a0eb04709a18a97bf28160c57",
            "088f247513004b94bf1237a98f709d06",
            "3612fa5ef9e7431d9ceca561695cec45",
            "0e31c1f9907740fb9867fd7dbe0118d0",
            "0be6b428fe01412ea0712435426a2a62",
            "cd76cd6b41a648be806d359876d9766a",
            "fa724c4c41c944499a80933e5b5e4fdc",
            "227667c3f276467fb76b2ed759ba3954",
            "8538ff0384b146e9a53213f77a480034",
            "91cc983fefbc4e07950efde14d90e935",
            "c5274aa8443b42318cc95998ae944be5",
            "e0807eb1fcf2464b869a82b5f4d94c1b",
            "2372fff9d5d34ed5bda44d2c730544ec",
            "29bd94c0705e4379beb8861e0bb82c45",
            "2f8e3053e2b54762a0a670556226f1af",
            "b5a177cdde594c999ed610940e56e3a5",
            "fa92f7fa8b47478cb2b79c67d8bc7ea9",
            "bcde74ef5b6c4736a52a2f1dfb449465",
            "f2ccc5f201084599bf21b7e6d5eea13d",
            "78bf1c6e5fc349698e763fd3909f5470",
            "c724ea0666ba4264ab1b967a32fbdea6",
            "e053c2a07984445fbf18cc23213e9562",
            "4a43f503121b49538ef9b7c1e0fc549d",
            "1a451de1913f4e2380aae6998f69e130",
            "7a37d2fcd8664dae9c2c4e5d08dbfcc8",
            "21f9546e02de409d89235a5e255a64b9",
            "24bb214702ce45fbbc7c8054ed7f5078",
            "6f82370e54e540d7b84172d6019b419e",
            "230b68287ddb466c8eb3723047480389",
            "ae13327a63c640c6ac3f38f0a05fcbb2",
            "66e9bbb1ccb243f59d2b4a34e6ddff03",
            "e3893b11059d48b39a4c6a9f42e56004",
            "a35ee49a41694b339b6d0f0c90c37d81",
            "1d97d747e97344bd8811ec8a043f3360",
            "f021d8c43ef34a2c8eb63d039cba10c0"
          ]
        },
        "outputId": "607978ff-fb39-445a-b781-e1826294ba9c"
      },
      "source": [
        "tokenizer = AutoTokenizer.from_pretrained(\"nsi319/legal-pegasus\")\n",
        "\n",
        "model = AutoModelForSeq2SeqLM.from_pretrained(\"nsi319/legal-pegasus\")"
      ],
      "execution_count": 30,
      "outputs": [
        {
          "output_type": "display_data",
          "data": {
            "application/vnd.jupyter.widget-view+json": {
              "model_id": "f68ad22f6fd44e4c86619a16b4a71c5f",
              "version_minor": 0,
              "version_major": 2
            },
            "text/plain": [
              "Downloading:   0%|          | 0.00/1.47k [00:00<?, ?B/s]"
            ]
          },
          "metadata": {}
        },
        {
          "output_type": "display_data",
          "data": {
            "application/vnd.jupyter.widget-view+json": {
              "model_id": "b4198910877344e1b7e5d118a5f24c4e",
              "version_minor": 0,
              "version_major": 2
            },
            "text/plain": [
              "Downloading:   0%|          | 0.00/1.30k [00:00<?, ?B/s]"
            ]
          },
          "metadata": {}
        },
        {
          "output_type": "display_data",
          "data": {
            "application/vnd.jupyter.widget-view+json": {
              "model_id": "3612fa5ef9e7431d9ceca561695cec45",
              "version_minor": 0,
              "version_major": 2
            },
            "text/plain": [
              "Downloading:   0%|          | 0.00/1.82M [00:00<?, ?B/s]"
            ]
          },
          "metadata": {}
        },
        {
          "output_type": "display_data",
          "data": {
            "application/vnd.jupyter.widget-view+json": {
              "model_id": "29bd94c0705e4379beb8861e0bb82c45",
              "version_minor": 0,
              "version_major": 2
            },
            "text/plain": [
              "Downloading:   0%|          | 0.00/1.31k [00:00<?, ?B/s]"
            ]
          },
          "metadata": {}
        },
        {
          "output_type": "display_data",
          "data": {
            "application/vnd.jupyter.widget-view+json": {
              "model_id": "7a37d2fcd8664dae9c2c4e5d08dbfcc8",
              "version_minor": 0,
              "version_major": 2
            },
            "text/plain": [
              "Downloading:   0%|          | 0.00/2.13G [00:00<?, ?B/s]"
            ]
          },
          "metadata": {}
        }
      ]
    },
    {
      "cell_type": "code",
      "metadata": {
        "id": "9F8PzNZPIN_L"
      },
      "source": [
        "df.insert(3, 'legal_pegasus_summary', 'str')"
      ],
      "execution_count": 40,
      "outputs": []
    },
    {
      "cell_type": "code",
      "metadata": {
        "id": "iyD0-6YDJA0M"
      },
      "source": [
        "df"
      ],
      "execution_count": null,
      "outputs": []
    },
    {
      "cell_type": "code",
      "metadata": {
        "id": "D_JAs7XJdkPe"
      },
      "source": [
        "help(tokenizer.encode)"
      ],
      "execution_count": null,
      "outputs": []
    },
    {
      "cell_type": "code",
      "metadata": {
        "colab": {
          "base_uri": "https://localhost:8080/"
        },
        "id": "QpSkgH5Wd1ey",
        "outputId": "eeb16b0d-b182-4969-88bc-dc14236c5040"
      },
      "source": [
        "input_token_test = tokenizer.encode(df['clean_text'][1], \n",
        "                                     return_tensors='pt')"
      ],
      "execution_count": 49,
      "outputs": [
        {
          "output_type": "stream",
          "name": "stderr",
          "text": [
            "Token indices sequence length is longer than the specified maximum sequence length for this model (6434 > 1024). Running this sequence through the model will result in indexing errors\n"
          ]
        }
      ]
    },
    {
      "cell_type": "code",
      "metadata": {
        "id": "dueJ7CXbGn3a"
      },
      "source": [
        "for i in range(len(df['clean_text'])):\n",
        "  input_tokenized = tokenizer.encode(df['clean_text'][i], \n",
        "                                     return_tensors='pt', \n",
        "                                     max_length=1024,truncation=True)\n",
        "  summary_ids = model.generate(input_tokenized,\n",
        "                                  num_beams=9,\n",
        "                                  no_repeat_ngram_size=3,\n",
        "                                  length_penalty=2.0,\n",
        "                                  min_length=150,\n",
        "                                  max_length=250,\n",
        "                                  early_stopping=True)\n",
        "  \n",
        "  df['legal_pegasus_summary'][i] = [tokenizer.decode(g, \n",
        "                                                     skip_special_tokens=True, \n",
        "                                                     clean_up_tokenization_spaces=False) for g in summary_ids][0]"
      ],
      "execution_count": 42,
      "outputs": []
    },
    {
      "cell_type": "code",
      "metadata": {
        "colab": {
          "base_uri": "https://localhost:8080/",
          "height": 120
        },
        "id": "nGNRu7moTHAr",
        "outputId": "771204b1-f858-44f7-eeb0-8ff1600a17af"
      },
      "source": [
        "df['legal_pegasus_summary'][1]"
      ],
      "execution_count": 47,
      "outputs": [
        {
          "output_type": "execute_result",
          "data": {
            "application/vnd.google.colaboratory.intrinsic+json": {
              "type": "string"
            },
            "text/plain": [
              "\"The U.S. Attorney's Office for Immigration and Customs Enforcement today announced that a federal immigration court in Baltimore, Maryland has ordered a man to be deported for failing to appear at his scheduled removal hearing. The court found that the respondent, a native and citizen of El Salvador, was not in possession of a valid immigrant visa reentry permit border crossing card or other valid entry document required by the immigration act and that he was not then admitted after inspection by an immigration officer. According to the court's order, the court found the respondents removability to be established by clear and convincing evidence. the court also found that he experienced past persecution when he resisted the demands of members of the ms 13 gang who first demanded that he pay a rent and then began paying the gang members on the 8th day of every month. on April 28th the court ordered the respondent to appear before an immigration judge to determine whether or not he is eligible for relief under article 3 of the convention against torture against torture. The hearing was held in the federal district court for the Eastern District of Maryland and the court granted the Department of Justice's motion for a temporary restraining order and entered a final judgment against the respondent. The final judgment is final unless\""
            ]
          },
          "metadata": {},
          "execution_count": 47
        }
      ]
    },
    {
      "cell_type": "markdown",
      "metadata": {
        "id": "MkZYsU94Hkza"
      },
      "source": [
        "## Gensim Summary"
      ]
    },
    {
      "cell_type": "code",
      "metadata": {
        "id": "0bGfpyA6Holt"
      },
      "source": [
        "from gensim.summarization import summarize"
      ],
      "execution_count": 50,
      "outputs": []
    },
    {
      "cell_type": "code",
      "metadata": {
        "colab": {
          "base_uri": "https://localhost:8080/"
        },
        "id": "w4comCixiPjr",
        "outputId": "f4f6c3ce-29e9-4543-af3a-c4f6c48e4798"
      },
      "source": [
        "print(summarize(df['clean_text'][2], ratio = 0.015))"
      ],
      "execution_count": 53,
      "outputs": [
        {
          "output_type": "stream",
          "name": "stdout",
          "text": [
            "united states department of justice executive office for immigration review united states immigration court 1901 south bell street suite 200 arlington va 22202 in the matters of inremoval proceedings 25 er anette aaa file nos cay er a respondent ee mene ee charge section 212 a 6 a i of the immigration and nationality act as amended ina or act as an alien present in the united states without being admitted or paroled or who arrived in the united states at any time or place other than as designated by the attomey general applications asylum pursuant to ina 208 humanitarian asylum pursuant to 8 cer.\n",
            "the court notes some areas of concem but finds that she satisfactorily explained them or that they are too minor to warrant an adverse credibility finding dhs did not explicitly contest the credibility of saaammgpe testimony but did inquire as to certain inconsistencies in the record during cross examination itis true that some of sunibnnins testimony regarding the events occurring before and after the abuse she suffered were inconsistent with her written statements for example her declaration states that her landlord s son introduced her to tgp while she testified that she met ip at imagen global.\n",
            "to satisfy the refugee definition an applicant must demonstrate that she is unable or unwilling to return to her country of origin because of a well founded fear of future persecution on account of one of the five statutory grounds race religion nationality membership in a particular social group or political opinion.\n",
            "1208.14 a wee claims that she suffered past persecution at the hands of qagp and his criminal associates on account of her membership in the particular social group composed of honduran women.\n",
            "weemnnpebn also argues that she suffered past persecution and has a well founded fear of future persecution on account of other alleged protected grounds however for the sake of administrative efficiency the court declines to address those asserted grounds as mmmm has met her burden to show that she has a fear of future persecution on account of her membership in the cognizable social group composed of honduran women.\n",
            "first the court does not read into the relevant law any requirement regarding the number of police reports an asylum applicant must file to show that a government is unwilling or unable to control a persecutor.\n",
            "nexus an asylum applicant must demonstrate that a protected ground such as membership in a particular social group was at least one central reason for the persecution she suffered or fears she would suffer.\n"
          ]
        }
      ]
    },
    {
      "cell_type": "code",
      "metadata": {
        "id": "8uJz1amZJIJA"
      },
      "source": [
        "df.insert(4, 'gensim_summary', 'str')"
      ],
      "execution_count": null,
      "outputs": []
    },
    {
      "cell_type": "code",
      "metadata": {
        "id": "WCmV7fmXHtJ4"
      },
      "source": [
        "for in range(len(df['clean_text'])):\n",
        "  df['gensim_summary'][i] = summarize(df['clean_text'][i], ratio = 0.02))"
      ],
      "execution_count": null,
      "outputs": []
    },
    {
      "cell_type": "markdown",
      "metadata": {
        "id": "sOx6m3WGKBt5"
      },
      "source": [
        "# BERTSum (Extractive)"
      ]
    },
    {
      "cell_type": "code",
      "metadata": {
        "id": "8qkJwaLhKKCf"
      },
      "source": [
        "!pip install bert-extractive-summarizer"
      ],
      "execution_count": 13,
      "outputs": []
    },
    {
      "cell_type": "code",
      "metadata": {
        "id": "P6DGZIgKupmX"
      },
      "source": [
        "!pip install neuralcoref"
      ],
      "execution_count": 14,
      "outputs": []
    },
    {
      "cell_type": "code",
      "metadata": {
        "colab": {
          "base_uri": "https://localhost:8080/"
        },
        "id": "Egd4VGYDvBFn",
        "outputId": "725eb2a3-7e74-40a4-ad42-3f35ae218928"
      },
      "source": [
        "!pip install spacy"
      ],
      "execution_count": 15,
      "outputs": [
        {
          "output_type": "stream",
          "name": "stdout",
          "text": [
            "Requirement already satisfied: certifi>=2017.4.17 in /usr/local/lib/python3.7/dist-packages (from requests<3.0.0,>=2.13.0->spacy) (2021.5.30)\n",
            "Requirement already satisfied: chardet<4,>=3.0.2 in /usr/local/lib/python3.7/dist-packages (from requests<3.0.0,>=2.13.0->spacy) (3.0.4)\n",
            "Requirement already satisfied: urllib3!=1.25.0,!=1.25.1,<1.26,>=1.21.1 in /usr/local/lib/python3.7/dist-packages (from requests<3.0.0,>=2.13.0->spacy) (1.25.11)\n",
            "Requirement already satisfied: idna<3,>=2.5 in /usr/local/lib/python3.7/dist-packages (from requests<3.0.0,>=2.13.0->spacy) (2.10)\n"
          ]
        }
      ]
    },
    {
      "cell_type": "code",
      "metadata": {
        "colab": {
          "base_uri": "https://localhost:8080/"
        },
        "id": "OglXRY6rwzhL",
        "outputId": "65cf1783-37c1-4457-860c-57ea6bd96cbf"
      },
      "source": [
        "%env(TOKENIZERS_PARALLELISM=True)"
      ],
      "execution_count": 16,
      "outputs": [
        {
          "output_type": "stream",
          "name": "stdout",
          "text": [
            "env: (TOKENIZERS_PARALLELISM=True)\n"
          ]
        }
      ]
    },
    {
      "cell_type": "code",
      "metadata": {
        "colab": {
          "base_uri": "https://localhost:8080/"
        },
        "id": "sQodTuxrKdJX",
        "outputId": "8196a9a2-4a9f-4da8-df0b-8c40992aeafc"
      },
      "source": [
        "from summarizer import Summarizer\n",
        "from summarizer.coreference_handler import CoreferenceHandler"
      ],
      "execution_count": 17,
      "outputs": [
        {
          "output_type": "stream",
          "name": "stderr",
          "text": [
            "/usr/lib/python3.7/importlib/_bootstrap.py:219: RuntimeWarning: spacy.morphology.Morphology size changed, may indicate binary incompatibility. Expected 104 from C header, got 112 from PyObject\n",
            "  return f(*args, **kwds)\n",
            "/usr/lib/python3.7/importlib/_bootstrap.py:219: RuntimeWarning: spacy.vocab.Vocab size changed, may indicate binary incompatibility. Expected 96 from C header, got 104 from PyObject\n",
            "  return f(*args, **kwds)\n",
            "/usr/lib/python3.7/importlib/_bootstrap.py:219: RuntimeWarning: spacy.tokens.span.Span size changed, may indicate binary incompatibility. Expected 72 from C header, got 80 from PyObject\n",
            "  return f(*args, **kwds)\n"
          ]
        }
      ]
    },
    {
      "cell_type": "code",
      "metadata": {
        "id": "z8kKdJlTL_WU"
      },
      "source": [
        "df.insert(3, 'bertsum', 'str')"
      ],
      "execution_count": 18,
      "outputs": []
    },
    {
      "cell_type": "code",
      "metadata": {
        "colab": {
          "base_uri": "https://localhost:8080/"
        },
        "id": "k8sf7id4v2Kl",
        "outputId": "c2443dd7-ba17-4600-a7eb-371043ef2a7c"
      },
      "source": [
        "handler = CoreferenceHandler(greedyness=.4)\n",
        "model = Summarizer(sentence_handler=handler)"
      ],
      "execution_count": 19,
      "outputs": [
        {
          "output_type": "stream",
          "name": "stderr",
          "text": [
            "Some weights of the model checkpoint at bert-large-uncased were not used when initializing BertModel: ['cls.predictions.transform.LayerNorm.weight', 'cls.seq_relationship.bias', 'cls.seq_relationship.weight', 'cls.predictions.transform.LayerNorm.bias', 'cls.predictions.bias', 'cls.predictions.decoder.weight', 'cls.predictions.transform.dense.bias', 'cls.predictions.transform.dense.weight']\n",
            "- This IS expected if you are initializing BertModel from the checkpoint of a model trained on another task or with another architecture (e.g. initializing a BertForSequenceClassification model from a BertForPreTraining model).\n",
            "- This IS NOT expected if you are initializing BertModel from the checkpoint of a model that you expect to be exactly identical (initializing a BertForSequenceClassification model from a BertForSequenceClassification model).\n"
          ]
        }
      ]
    },
    {
      "cell_type": "code",
      "metadata": {
        "id": "SFFgOgBAxWyZ"
      },
      "source": [
        "result = model(df['clean_text'][1], ratio=0.2)\n",
        "df['bertsum'][1] = \"\".join(result)"
      ],
      "execution_count": null,
      "outputs": []
    },
    {
      "cell_type": "code",
      "metadata": {
        "id": "dJys0vpaKTaF"
      },
      "source": [
        "for i in range(len(df['clean_text'])):\n",
        "  result = model(df['clean_text'][i], ratio=0.2)\n",
        "  df['bertsum'][i] = \"\".join(result)"
      ],
      "execution_count": null,
      "outputs": []
    },
    {
      "cell_type": "markdown",
      "metadata": {
        "id": "ZYK_98cnZHTG"
      },
      "source": [
        "## BART CNN Model"
      ]
    },
    {
      "cell_type": "code",
      "metadata": {
        "id": "yj1ZJ1HzZG53"
      },
      "source": [
        "from transformers import pipeline"
      ],
      "execution_count": null,
      "outputs": []
    },
    {
      "cell_type": "code",
      "metadata": {
        "colab": {
          "base_uri": "https://localhost:8080/",
          "height": 194,
          "referenced_widgets": [
            "eb932779562e4560886602bb7fbe1d9f",
            "7a51bc7aac434ad7adfb9a22b229cd46",
            "2930123601754022a77e324702b3f6f9",
            "c56deb9e9ee94c2eb9f133f7ae90a406",
            "308f906c23a44079a03a021f9e7e7cfb",
            "f4f1e0be20364f1a9bd03143d8dbec9d",
            "c9cb29d861d1499c8e47cf899a00ef00",
            "770772ae46b7411facb593bc5bcee371",
            "7bdcf9696b8c4aafae62e5e20e52af55",
            "32ac0e510cec4b51b9658973cdd27e87",
            "d1b62881996f46eab68c515d263f448a",
            "17e3e80ecf6a4ab8902fd948e59f6b2f",
            "f1aa23843c904fdaa3ff9ac40af9b01a",
            "956698892431487cbc72f42c94d09d86",
            "75484fb674974618855a4d0e52dd2fc7",
            "b2054d9c39bd4dc491f31f14dc9003ee",
            "ed09307bac75493d94709fbb9323c0bf",
            "72080b5347fa486caed7bd17acf9cb5f",
            "7b7995e9828f44bbaeb4dd6aea41cf3b",
            "b7a9358ef2d34ec5bcb73b8fb60455bb",
            "1c208c9438084cc6b3af1a09b765212c",
            "e065b812336a455697e5ebe8b1568581",
            "e480c82f452b46859f14cc9ecdfbbed8",
            "27e9295ab4c94db084cb4ec17d8c15a6",
            "bc4fb2a4b8314539b2f36284dad58858"
          ]
        },
        "id": "S-yp49AQZMH6",
        "outputId": "4de0b6e6-6a62-41bb-bcf4-5b67d36caa67"
      },
      "source": [
        "summarizer = pipeline(\"summarization\")"
      ],
      "execution_count": null,
      "outputs": [
        {
          "output_type": "stream",
          "name": "stderr",
          "text": [
            "No model was supplied, defaulted to sshleifer/distilbart-cnn-12-6 (https://huggingface.co/sshleifer/distilbart-cnn-12-6)\n"
          ]
        },
        {
          "output_type": "display_data",
          "data": {
            "application/vnd.jupyter.widget-view+json": {
              "model_id": "eb932779562e4560886602bb7fbe1d9f",
              "version_minor": 0,
              "version_major": 2
            },
            "text/plain": [
              "Downloading:   0%|          | 0.00/1.76k [00:00<?, ?B/s]"
            ]
          },
          "metadata": {}
        },
        {
          "output_type": "display_data",
          "data": {
            "application/vnd.jupyter.widget-view+json": {
              "model_id": "17e3e80ecf6a4ab8902fd948e59f6b2f",
              "version_minor": 0,
              "version_major": 2
            },
            "text/plain": [
              "Downloading:   0%|          | 0.00/1.14G [00:00<?, ?B/s]"
            ]
          },
          "metadata": {}
        },
        {
          "output_type": "display_data",
          "data": {
            "application/vnd.jupyter.widget-view+json": {
              "model_id": "e480c82f452b46859f14cc9ecdfbbed8",
              "version_minor": 0,
              "version_major": 2
            },
            "text/plain": [
              "Downloading:   0%|          | 0.00/26.0 [00:00<?, ?B/s]"
            ]
          },
          "metadata": {}
        },
        {
          "output_type": "display_data",
          "data": {
            "application/vnd.jupyter.widget-view+json": {
              "model_id": "27e9295ab4c94db084cb4ec17d8c15a6",
              "version_minor": 0,
              "version_major": 2
            },
            "text/plain": [
              "Downloading:   0%|          | 0.00/878k [00:00<?, ?B/s]"
            ]
          },
          "metadata": {}
        },
        {
          "output_type": "display_data",
          "data": {
            "application/vnd.jupyter.widget-view+json": {
              "model_id": "bc4fb2a4b8314539b2f36284dad58858",
              "version_minor": 0,
              "version_major": 2
            },
            "text/plain": [
              "Downloading:   0%|          | 0.00/446k [00:00<?, ?B/s]"
            ]
          },
          "metadata": {}
        }
      ]
    },
    {
      "cell_type": "code",
      "metadata": {
        "colab": {
          "base_uri": "https://localhost:8080/"
        },
        "id": "amDxB6fQZSH8",
        "outputId": "a597cf5e-4072-4871-a0e9-544d20f73848"
      },
      "source": [
        "split_clean_text = []\n",
        "n = 4500\n",
        "for i in range(0, len(clean_ij_dec_text), n):\n",
        "  split_clean_text.append(clean_ij_dec_text[i : i+n])\n",
        "\n",
        "print(split_clean_text)"
      ],
      "execution_count": null,
      "outputs": [
        {
          "output_type": "stream",
          "name": "stdout",
          "text": [
            "['united states department of justice executive office for immigration review united states immigration court 1901 south bell street suite 200 arlington va 22202 in the matters of inremoval proceedings file no. a lead respondent and fileno. minor respondent charge section 212 a 7 a i 1 of the immigration and nationality act ina or act as amended as an immigrant who at the time of application for admission is not in possession of a valid unexpired immigrant visa reentry permit border crossing card or other valid entry document required by the act. applications asylum pursuant to ina 208 withholding of removal pursuant to ina 241 b 3 and protection under the united nations convention against torture and other cruel inhuman or degrading treatment or punishment convention against torture or cat pursuant to 8 c.f.r. 1208.16 .18 2017 appearances on behalf of the respondents on behalf of the dhs philip g. schrag esq. carol jun esq. center for applied legal studies assistant chief counsel georgetown law u.s. department of homeland security 600 new jersey avenue nw suite 332 1901 south bell street suite 900 washington dc 20001 adlington va 22202 d irders of the grati 1 procedural history the adult respondent the lead respondent and her minor son jor the rider respondent collectively the respondents are natives and citizens of el salvador. they entered the united states at or near hidalgo texas on 2016. exh. 1. or 2016 the department of homeland security dhs served the respondents with notices to appear nta charging them as inadmissible pursuant in the matters of er ae to ina 212 a 7 ami d. see id dhs commenced proceedings by filing the ntas with the arlington immigration court on may 9 2016. 1d. during a master calendar hearing on mii 2016 the respondents through counsel admitted the factual allegations contained in their nts and conceded inadmissibility as charged. inadmissibility was therefore established by clear and convincing evidence. see 8 cfr. 1240.8 1240.10 c . also on july 11 2016 the lead respondent timely filed an application for asylum and withholding of removal form 1 589 seeking asylum and withholding of removal under the act and protection under the convention against torture. exh 2 see ina 208 a 2 b 8 cfr. 1208.4 a 2 . mmmm is included in the asylum appl derivative beneficiary. id. the lead respondent testified in support of her applications on i 2017. for the following reasons her asylum application will be granted. il summary of the evidence a. documentary evidence the record of proceedings contains the following documents relevant to the respondents applications the lead respondent s nta exhibit 1 the lead respondent s form 1 589 exhibit 2 notice of hearing in removal proceedings issued july 11 2016 exhibit 3 the respondents witness list and supporting documents tabs a mm exhibits 4 6 and the march 8 2017 congressional research service report on el salvador exhibit 7 . all of these documents have been admitted into evidence and considered. b testimonial evidence the lead respondent s testimony and written declaration have been considered in their entirety and are summarized below to the extent relevant to the subsequent analysis. the lead respondent was born on . 1984 in the department of usulutan el salvador. she spent her entire life in the municipality o her father died when she was six years old and as a result she was primarily raised by her mother who instilled in her a belief in women s rights and gender equality. the lead respondent strongly believes that women and men should be treated equally and that women deserve respect which she testified is not a very common belief in el salvador. prior to coming to the united states the lead respondent lived in the neighborhood of ees with her partner eee and their three children. she worked as a community promoter social worker in different communities in usulutin. in this role she conducted home visits in various neighborhoods in and around i she used these visits to speak with her clients about among other things gender equality and the importance of healthy eating and hygiene habits. thus her work as a community promoter reinforced her belief in women s rights she ofien had to take long bus rides and or walk a long way to reach her clients the matters of ape. homes. she was required to wear a shirt and vest emblazoned with her organization s logo whenever she was working including on her commute. one day in early 2015 the lead respondent was walking from ', 'work to her mother s house in downtown to get there she had to walk along the town s main street a dangerous thoroughfare where ms 13 gang members routinely congregated. one of these men a gang member she knew as yelled a crude sexual advance at her. she ignored him and walked away. she was wearing her work shirt and vest at the time. although the incident upset and offended her the lead respondent believed this was a one time encounter. however ii continued to harass her every time she walked down the street. she never responded o him refusing even to look at him in the hopes that he would move on. he did not do so. rather as she continued to disregard him his behavior became more aggressive and menacing. he began following her down the street ofien so closely that she could see him in her peripheral vision. his verbal statements also grow more threatening the longer she denied his advances. he began to tell her that he was going to make her his woman by force whether she liked it or not. the lead respondent understood these statements to be implicit threats to rape her and force her to be his girlfriend. she knew from stories she had heard in the community that being the girlfriend of a gang member meant being obligated to submit sexually not only to that person but o other members of his gang as well. hr continued to follow and threaten to rape the lead respondent innumerable times over the course of the succeeding year including when her partner was with her. as his threats continued and increased she became more and more fearful that her defiance would result in him raping or killing her. nevertheless she did not report him to the police because she knew from news reports that the local police cooperated with the ms 13 gang. she also had heard of people who were killed after reporting gang members. in january 201 moved into an abandoned house three doors away from the lead respondent s home in he walked past her home multiple times per day and he often made threatening comments to her when he saw her when this happened she went inside and prayed he would not try to break into her home. she was under immense stress due to the ongoing threats and her health began to sufler she developed recurrent eye infections neck and back pain nightmares and a rash. she was afraid to leave the house. afier a year of repeated threats and approximately one month afte moved into her neighborhood the lead respondent decided that she had nu chvice but to flee. she did not believe that she could have relocated to another part of el salvador because she knew that the gang had nationwide contacts and she was certain that mmi would have been able to find her anywhere in the country. the lead respondent knew that mem was an ms 13 member because of the way he dressed the fact that he spent time with gang members and engaged in gang lookout activities and by his reputation in 3 i cy the lead respondent and her son im left el salvador on february 15 2016. and their other two children remained in el salvador. due to ongoing safety concems in the children moved to the lead respondent s mother s house. the lead respondent believed that if she were to return o el salvador ii will rape and kall her for defying him by escaping to the united states. iil law analysis findings a. credibility and corroboration the real id act of 2005 applies to this case because the lead respondent s asylum application was filed on or after may 11 2005. see matter of b 24 1 n dee. 42 bia 2006 ina 240 c4 a . a credibility determination may be based on the applicant s demeanor candor or responsiveness the inherent plausibility of her account the consistency between her written and oral statements the internal consistency of each such statement the consistency of each statement with other evidence of record any inaccuracies or falsehoods in such statements or any other factor without regard o whether an inconsistency inaccuracy or falsehood goes to the heart of the applicant s claim. ina 208 b 1 b ii . considering the totality of the circumstances i find that the lead respondent testified credibly. she provided candid straightforward and responsive testimony concerning the events leading to her departure from el salvador and her testimony was consistent with her written statement and record evidence. see generally exhs. 4 7. moreover her demeanor was calm and appropriate given the circumstances and did not indicate any attempt to mislead or to embellish her claim theref', 'ore i will credit her testimony in its entirety. b. asylum an asylum applicant has the burden of demonstrating that she is a refugee within the meaning of section 101 a 42 a of the act. ins v. cardoza fonseca 480 u.s. 421 423 1987 8cflr. 1208.13 a . a refugee isa person who is unwilling or unable to return to her country of origin and is unable or unwilling to avail herself of the protection of her government due to past persecution or a well founded fear of future persecution on account of her race religion nationality membership in a particular social group or political opinion. ina 101 a 42 a . in addition to establishing cligibility for asylum the applicant must demonstrate that a grant of asylum is warranted in the exercise of discretion. ina 208 b i a 8 c.f.r. 1208.14 a . i past persecution an application claiming past persecution must show that she suffered 1 severe harm amount to persecution 2 that was inflicted on account of a protected ground 3 by the government or an agent the government is unwilling or unable to control ina 208 b 1 b i hemandez avalos v. lynch 784 f.3d 944 949 4th cir. 2015 li v. gonzales 405 f.3d 171 176 77 4th cir. 2005 crespin valladares v. holder 632 f.3d 117 128 4th cir. 2011 matter of acosta 19 1 n dec. 211 222 bia 1985 . as discussed below the lead respondent has demonstrated past persecution on account of her imputed political opinion. ithe maes a. i ss 1. harm rising to the level of persecution persecution entails harm or suffering inflicted upon an individual to punish her for possessing a belief or characteristic the persecutor seeks to overcome. see matter of acosta 19 i n dec. at 222 23. persecution is an extreme concept that does not include every sort of treatment our society regards as offensive. li 405 f.3d at 177. rather it requires actions above mere harassment and includes the threat of death torture or injury to one s person or freedom. ida see also hernandez avalos 784 f.3d at 949. threats alone may constitute persecution but only when they are so menacing as to cause significant actual suffering or harm see matt z o 26 i n dec. 586 589 bia 2015 quoting lim v. ins 224 f.3d 929 936 9th cir. 2c00 . find that the lead respondent experienced severe harm that could amount to past persecution if she could show that the government of el salvador was not able to protect her at that time. for over a year the lead respondent was stalked and threatened with rape by a man she knew to be a member of one of the world s most violent criminal organizations. see e.g. exh. 4 exh. 5 tab t exh. 7 at 6. the year long continual escalating threats she experienced went beyond mere harassment. see matter of z z o 26 i n dee. at 58 followed her down the street so closely that she could see his shadow overlapping hers she was afraid to look directly at him believing that he would attack her if she did so he threatened to make her his girlfriend by force which in the context of the society in question was commonly known to be a threat to rape her force her into conditions tantamount to sexual slavery and or murder her. see .g. exh. 4 tab d 13 w hen a gang member demands that a woman become his girlfriend the demand connotes a significant threat to the life of the woman and her family. tab e exh. 5 tabs q s at 344 failure to comply with a demand to become a gang member s sexual partner is reportedly met with severe reprisals including homicides . . . or the threat of such violence. t u exh. 6 tabs x cc be ii jj ll. when he eventually moved into her neighborhood a mere three houses away from her own his threats took on a more menacing tone and represented a significant risk of imminent danger. she was afraid to leave her house and she developed numerous health problems due to the overwhelming stress and anxiety she experienced. although the she was never physically injured the totality of the harm she suffered due to il mee s imminent and menacing threats caused the lead respondent to experience significant actual suffering. see matter of z 2 o 26 i n dec. at 589. 2. source or agent of persecution an applicant for asylum based on past persecution must show she was persecuted by the government or by an agent the government is unwilling or unable to control see orellana v. barr 925 f.3d 145 151 4th cir. 2019 hernandez avalos 784 f.3d at 950 54 matter of s a 22 1 n dec. 1328 1335 bia 2000 whether a government is unable or unwilling to control private actors .... isa factual question that must be res', 'olved based on the record in each case. hernandez avalos 784 f.3d at 951 internal quotations omitted citing crespin valladares 632 f.3d at 128 . in the present case the lead respondent established that the government of el salvador was unwilling or unable o protect her from persecution although she never sought protection from police or other authorities in el salvador under fourth circuit law she was not required to seek government assistance when doing so 1 would have been futile or 2 would have subjected inthe matters i ee abb and her to further harm. orellana 925 f.3d at 153 internal quotations and citations omitted . count conditions in el salvador in 2016 evidence shows that had the lead respondent reported hmm 0 the police she likely would not have received the protection that she needed and she ikely would have faced an increased risk of harm. first although there were programs and laws in place that sought to combat gang violence and violence against women such lawsand programs were ineffectively enforced or poorly implemented. exh 4 tab d 4 21 23 citing bureau of democracy human rights and labor u.s. department of state country reports on human rights practices for el salvador 2016 bureau of democracy human rights and labor u.s. department of state country reports on human rights practices for el salvador 2018 2018 human rights report at 1 10 16 noting widespread government corruption and significant violent crime at the hands of organized criminal elements and stating that efforts by authorities to remedy situations where gangs targeted individuals were generally ineffective . a ccess to a nominal or ineffectual remedy docs not constitute meaningful recourse for the foreign government must be both willing and able to offer an applicant protection. orellana 925 f.3d at 152 internal quotations omitted . based on the totality of country conditions in el salvador as of 2016 i find that it would have been futile for the lead respondent to seek protection from the government. second even had the lead respondent reported een t0 the police the widespread corruption and infiltration of police by the gangs in 2016 might have put her at greater risk of harm. a woman choosing to report sexual advances or violence perpetrated by a gang member to the police is equivalent to signing her own death warrant because police communicate with the gangs and the consequence for the woman is typically homicide. exh. 4 tab d 22 sce also exh. 5 tab t at 364 those who have refused to help a gang or reported a crime a particularly vulnerable to murder . therefore the evidence shows that the government of el salvador was unable to protect the lead respondent from the harm that she suffered fi nexus to a protected ground the lead respondent asserts that the harm she suffered in el salvador was on account of her political opinion and or her membership in a particular social group. for the reasons discussed below i find that she demonstrated a nexus between the harm she suffered and her actual or imputed political opinion. as such need not address the additional protected grounds she raised. to succeed on a claim of persecution on account of political opinion an applicant must prove that 1 she actually holds a political opinion or that a political opinion is imputed to her and 2 she was targeted on account of that opinion. see abdel rahman v gonzales 493 f.3d 444 450 51 4th cir. 2007 . when evaluating whether an applicant was persecuted on account of an imputed opinion the relevant inquiry is not the political views sincerely held or expressed by the victim but rather the persecutor s subjective perception of the victim s views. alvarez lagos v. barr 927 f.3d 236 254 4th cir. 2019 . to establish that the harm was committed on account of a protected ground an applicant must demonstrate that a protected ground was at least one central reason she was harmed. ina 208 b 1 b i quinteros mendoza v. holder 556 f.3d 159 4th cir 2009 . the protected ground need not be the only reason for the persecution however it must be more than incidental tangential superficial or subordinate to another reason for the harm quinteros mendoza 556 f.3d at 164 internal quotations and citation omitted . the persecutor s motivation is an issue of fact. matter of s p 21 1 n dec. 486 490 bia 1996 . the i ee adjudicator must consider not only the articulated purpose of a persecutor s threats but also the intertwined reasons for those threats. cantillano cruz v. sessions', ' 853 f.3d 122 129 4th cir. 2017 oliva v. lynch 807 f.3d 53 59 60 4th cir. 2015 . here the lead respondent s belief in women s rights and equality constitutes a political opinion. sec. e.g. fatin v. ins 12 f.3d 1233 1242 43 3d cir. 1993 w e have little doubt that feminism qualifies as a political opinion within the meaning of the act respondents pre nearing brief at 29.178 cing united states chizenship and immigration services asvlum female asylum applicant jender related claims 27 28 mar. 12 2008 feminism isa politcal opinion oxford english dictionary 3d ed 2012 feminist adj. of relating to or advocating the rights and equality of women . although she never explicitly expressed her views to or in the presence of inr it is clear from the record that her actions were interpreted as an expression of a subversive belief regarding the role of women in gang held territories in el salvador. see alvarez lagos 927 f.3d at 254 given the totality of the circumstances presented here i find that these ascribed beliefs constituted a political opinion that imputed to the lead. the record evidence establishes that salvadoran gang members expect complete submission from women who reside in their territories. at the time the respondents departed form el salvador that country had the highest concentration of gang members per capita in central america. exh. 7 at 6. gangs exercise full territorial control in many neighborhoods throughout the country including the area where the lead respondent lived. see exh. 4 tab d 7 exh. 5 tab v at 429. specifically glangs consider women who reside in their sector to be a part of their territory and property giving the gang the right to sexually exploit these women. exh. 4 tab d. 411. when a woman refuses to comply with gang demands the gang member will . . . seek to make clear that his authority and patriarchal power will not be challenged by a woman. exh. 4 tab e 15. gangs target such women . .. to make clear that their authority and patriarchal power are not defied by those they perceive to be inferior to them. id 16 a woman who refuses 0 comply with gang demands is especially endangered as gangs have no respect for women and expect complete submission from them. . these country conditions support the conclusion that when the lead respondent refused to submit to nee s threats he interpreted this defiance as a challenge to gang s authority which in the context of el salvador constitutes an imputed political opinion. exh. 5 tab v at 429 30 the ground of political opinion needs to reflect the reality of the specific geographical historical political legal judicial and sociocultural context of the country of origin. alvarez lagos 927 f.3d at 255 finding that refusal to comply with a gang s demands might warrant a grant of asylum based on imputed politcal opinion and remanding for he agency to address this issue . in addition to her actions defying his authority the lead respondent was a community promoter who openly advocated ideas of gender equality among her clients throughout the gang s territory. een was fully aware of this work having seen her wearing her uniform around town and this knowledge likely contributed his imputation of a political opinion. accordingly the lead respondent demonstrated both that she actually holds a political opinion and that a political opinion was imputed to her by her persecutor. ith manes a abe 2c moreover the preponderance of the evidence establishes that the lead respondent was persecuted on account of imputed political opinion. note first that there is insufficient evidence that initially targeted her on account of any political opinion. however while il here s original catcalls merely constituted harassment his actions toward her became more threatening as she repeatedly ignored his advances when the lead respondent refused 10 succumb to his threats or to even acknowledge his attempts to assert power over her his behavior became more menacing and his threats grew increasingly violent ultimately rising to the level of persecution as discussed above. thus regardless of his motivation for initiating contact with her the reasons for his persecutory threats and menacing behavior quickly became intertwined with a desire to punish her for the imputed political opinion discussed above. see cantillano cruz 853 f.3d at 129. in other words the harm amounting to persecution was inflicted not because hee was interested in pursuing a romantic or sexual relationship with the lea', 'd respondent but rather to overcome political beliefs regarding women s rights in the gang s territory that he imputed to her. as such the persecution the lead respondent experienced in el salvador was carried out in retaliation for her resistance ae and the gang s authority and that this persecution was inextricably linked to her imputed political opinion. see oliva 807 f.3d at 59 60. therefore the lead respondent has established past persecution on account of political iii well founded fear of future persecution on account of a protected ground dhs can overcome the presumption that the lead respondent has a well founded fear of future persecution based on past harm by showing that 1 there has been a fundamental change in circumstances such that her fear of persecution is no longer well founded or 2 she could avoid future persecution by relocating to another part of the country and that it would be reasonable to expect her to do so under all the circumstances. see 8 c.f.r. 1208.13 b 1 i . dhs did not offer any evidence to rebut the regulatory presumption of future persecution that is triggered by the finding of past persecution. while the government of el salvador has made substantial strides over the last two years to combat gang violence the totality of the country conditions evidence shows that there has not been a meaningful change in country conditions or that the lead respondent will be able to relocate to another part of the country to avoid and his gang s menacing threats. see exh. 4 tab d 21 22 noting that government strategies to combat gang and gender based violence are typically short lived tab e 28 30 tabs y kk. this conclusion is consistent with the fourth circuit s reasoning in alvarez lagos which was based on a consideration of both the applicant s political opinion and the fact that she lived in a violent gang controlled territory. for the above stated reasons the lead respondent has demonstrated a presumed well founded fear of future persecution based on imputed political opinion. she is therefore statutorily eligible for asylum. iv. discretion an applicant must also demonstrate that in the totality of the circumstances she merits a favorable exercise of discretion. see matter of pula 19 1 n dec. 467 473 bia 1987 . a well founded fear of persecution should generally outweigh all but the most egregious adverse inthe matters o ae factors. id. at 474 zuh v. mukasey 547 f.3d 504 507 14 4th cir. 2008 noting that discretionary denials are exceedingly rare and require egregious negative activity by the applicant . the only negative factor in the lead respondent s case is the unlawful manner in. which she attempted to come into the united states. however this negative factor is greatly outweighed by the demonstrated danger of future persecution that she would face if removed to el salvador. see matter of pula 19 1 n dec. at 473. accordingly will grant her asylum application in the exercise of discretion. iv. conclusion the lead respondent has demonstrated past persecution and a presumed well founded fear of future persecution on account of imputed political opinion. her application for asylum under ina 208 a will be granted as a matter of discretion. n s derivative application for asylum is also granted. because the respondents asylum applications are granted it is not necess ry to consider their applications for withholding of removal under the act or for protection under the cat. the following order is entered order the lead respondent s application for asylum under ina 208 a is granted. the minor respondent s derivative application for asylum under ina 208 b 3 is granted. quynh e immigration judge date july 29 2019 appeal rights both parties have the right to appeal the decision in this case. any appeal is due at the board of immigration appeals on or before thirty 30 calendar days from the dete of service of this decision or by august 28 2019.']\n"
          ]
        }
      ]
    },
    {
      "cell_type": "code",
      "metadata": {
        "colab": {
          "base_uri": "https://localhost:8080/"
        },
        "id": "gc6EsP2qZb5d",
        "outputId": "4456cc46-1ed2-4b64-8441-77c3a4eaa105"
      },
      "source": [
        "len(split_clean_text)"
      ],
      "execution_count": null,
      "outputs": [
        {
          "output_type": "execute_result",
          "data": {
            "text/plain": [
              "6"
            ]
          },
          "metadata": {},
          "execution_count": 60
        }
      ]
    },
    {
      "cell_type": "code",
      "metadata": {
        "colab": {
          "base_uri": "https://localhost:8080/"
        },
        "id": "G9pxca_nZeRU",
        "outputId": "ad4167fb-d8e9-4987-b7bb-d7dc8439233b"
      },
      "source": [
        "summary_text = summarizer(split_clean_text[4], max_length=900, min_length=5, \n",
        "                          do_sample=False)[0]['summary_text']\n",
        "print(summary_text)"
      ],
      "execution_count": null,
      "outputs": [
        {
          "output_type": "stream",
          "name": "stderr",
          "text": [
            "Your max_length is set to 900, but you input_length is only 890. You might consider decreasing max_length manually, e.g. summarizer('...', max_length=50)\n"
          ]
        },
        {
          "output_type": "stream",
          "name": "stdout",
          "text": [
            " The lead respondent s belief in women s rights and equality constitutes a political opinion . Her actions were interpreted as an expression of a subversive belief regarding the role of women in gang held territories in el salvador . She was a community promoter who openly advocated ideas of gender equality among her clients throughout the gang s territory .\n"
          ]
        }
      ]
    },
    {
      "cell_type": "code",
      "metadata": {
        "colab": {
          "base_uri": "https://localhost:8080/"
        },
        "id": "IT9odzbFZtvo",
        "outputId": "afd32de9-15f3-41f6-ca51-bdc16870fa9a"
      },
      "source": [
        "summary_text = summarizer(split_clean_text[5], max_length=771, min_length=5, \n",
        "                          do_sample=False)[0]['summary_text']\n",
        "print(summary_text)"
      ],
      "execution_count": null,
      "outputs": [
        {
          "output_type": "stream",
          "name": "stdout",
          "text": [
            " Immigration judge quynh e immigration judge date july 29 2019 appeal rights both parties have the right to appeal the decision in this case . The lead respondent has established past persecution on account of political beliefs regarding women s rights in the gang s territory .\n"
          ]
        }
      ]
    }
  ]
}