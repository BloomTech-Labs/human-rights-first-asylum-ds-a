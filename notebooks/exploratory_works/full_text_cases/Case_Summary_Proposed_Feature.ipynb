{
 "cells": [
  {
   "cell_type": "code",
   "execution_count": 1,
   "metadata": {
    "colab": {
     "base_uri": "https://localhost:8080/"
    },
    "id": "l4P0qMomBMIr",
    "outputId": "bb5099da-1a80-4f8b-a55e-a80eec15a474",
    "pycharm": {
     "is_executing": true
    }
   },
   "outputs": [
    {
     "name": "stdout",
     "output_type": "stream",
     "text": [
      "Requirement already satisfied: transformers in c:\\users\\iamwe\\.virtualenvs\\human-rights-first-asylum-ds-a\\lib\\site-packages (4.11.3)\n",
      "Requirement already satisfied: regex!=2019.12.17 in c:\\users\\iamwe\\.virtualenvs\\human-rights-first-asylum-ds-a\\lib\\site-packages (from transformers) (2021.10.8)\n",
      "Requirement already satisfied: huggingface-hub>=0.0.17 in c:\\users\\iamwe\\.virtualenvs\\human-rights-first-asylum-ds-a\\lib\\site-packages (from transformers) (0.0.19)\n",
      "Requirement already satisfied: numpy>=1.17 in c:\\users\\iamwe\\.virtualenvs\\human-rights-first-asylum-ds-a\\lib\\site-packages (from transformers) (1.19.5)\n",
      "Requirement already satisfied: pyyaml>=5.1 in c:\\users\\iamwe\\.virtualenvs\\human-rights-first-asylum-ds-a\\lib\\site-packages (from transformers) (5.4.1)\n",
      "Requirement already satisfied: requests in c:\\users\\iamwe\\.virtualenvs\\human-rights-first-asylum-ds-a\\lib\\site-packages (from transformers) (2.25.1)\n",
      "Requirement already satisfied: sacremoses in c:\\users\\iamwe\\.virtualenvs\\human-rights-first-asylum-ds-a\\lib\\site-packages (from transformers) (0.0.46)\n",
      "Requirement already satisfied: tokenizers<0.11,>=0.10.1 in c:\\users\\iamwe\\.virtualenvs\\human-rights-first-asylum-ds-a\\lib\\site-packages (from transformers) (0.10.3)\n",
      "Requirement already satisfied: packaging>=20.0 in c:\\users\\iamwe\\.virtualenvs\\human-rights-first-asylum-ds-a\\lib\\site-packages (from transformers) (21.0)\n",
      "Requirement already satisfied: tqdm>=4.27 in c:\\users\\iamwe\\.virtualenvs\\human-rights-first-asylum-ds-a\\lib\\site-packages (from transformers) (4.62.3)\n",
      "Requirement already satisfied: filelock in c:\\users\\iamwe\\.virtualenvs\\human-rights-first-asylum-ds-a\\lib\\site-packages (from transformers) (3.3.0)\n",
      "Requirement already satisfied: typing-extensions in c:\\users\\iamwe\\.virtualenvs\\human-rights-first-asylum-ds-a\\lib\\site-packages (from huggingface-hub>=0.0.17->transformers) (3.10.0.2)\n",
      "Requirement already satisfied: pyparsing>=2.0.2 in c:\\users\\iamwe\\.virtualenvs\\human-rights-first-asylum-ds-a\\lib\\site-packages (from packaging>=20.0->transformers) (2.4.7)\n",
      "Requirement already satisfied: colorama in c:\\users\\iamwe\\.virtualenvs\\human-rights-first-asylum-ds-a\\lib\\site-packages (from tqdm>=4.27->transformers) (0.4.4)\n",
      "Requirement already satisfied: urllib3<1.27,>=1.21.1 in c:\\users\\iamwe\\.virtualenvs\\human-rights-first-asylum-ds-a\\lib\\site-packages (from requests->transformers) (1.26.7)\n",
      "Requirement already satisfied: idna<3,>=2.5 in c:\\users\\iamwe\\.virtualenvs\\human-rights-first-asylum-ds-a\\lib\\site-packages (from requests->transformers) (2.10)\n",
      "Requirement already satisfied: certifi>=2017.4.17 in c:\\users\\iamwe\\.virtualenvs\\human-rights-first-asylum-ds-a\\lib\\site-packages (from requests->transformers) (2021.5.30)\n",
      "Requirement already satisfied: chardet<5,>=3.0.2 in c:\\users\\iamwe\\.virtualenvs\\human-rights-first-asylum-ds-a\\lib\\site-packages (from requests->transformers) (4.0.0)\n",
      "Requirement already satisfied: click in c:\\users\\iamwe\\.virtualenvs\\human-rights-first-asylum-ds-a\\lib\\site-packages (from sacremoses->transformers) (7.1.2)\n",
      "Requirement already satisfied: six in c:\\users\\iamwe\\.virtualenvs\\human-rights-first-asylum-ds-a\\lib\\site-packages (from sacremoses->transformers) (1.15.0)\n",
      "Requirement already satisfied: joblib in c:\\users\\iamwe\\.virtualenvs\\human-rights-first-asylum-ds-a\\lib\\site-packages (from sacremoses->transformers) (1.1.0)\n"
     ]
    }
   ],
   "source": [
    "!pip install transformers"
   ]
  },
  {
   "cell_type": "code",
   "execution_count": 2,
   "metadata": {
    "colab": {
     "base_uri": "https://localhost:8080/"
    },
    "id": "KTUjRPghKypY",
    "outputId": "f431974b-f281-43cd-f024-8d6484ee7dfa"
   },
   "outputs": [
    {
     "name": "stdout",
     "output_type": "stream",
     "text": [
      "Requirement already satisfied: sentencepiece in c:\\users\\iamwe\\.virtualenvs\\human-rights-first-asylum-ds-a\\lib\\site-packages (0.1.96)\n"
     ]
    }
   ],
   "source": [
    "!pip install sentencepiece"
   ]
  },
  {
   "cell_type": "code",
   "execution_count": 3,
   "metadata": {},
   "outputs": [
    {
     "name": "stdout",
     "output_type": "stream",
     "text": [
      "Requirement already satisfied: torch in c:\\users\\iamwe\\.virtualenvs\\human-rights-first-asylum-ds-a\\lib\\site-packages (1.9.1)\n",
      "Requirement already satisfied: typing-extensions in c:\\users\\iamwe\\.virtualenvs\\human-rights-first-asylum-ds-a\\lib\\site-packages (from torch) (3.10.0.2)\n"
     ]
    }
   ],
   "source": [
    "!pip install torch"
   ]
  },
  {
   "cell_type": "code",
   "execution_count": 4,
   "metadata": {},
   "outputs": [
    {
     "name": "stdout",
     "output_type": "stream",
     "text": [
      "Collecting tensorflow\n",
      "  Using cached tensorflow-2.6.0-cp39-cp39-win_amd64.whl (423.3 MB)\n",
      "Collecting absl-py~=0.10\n",
      "  Using cached absl_py-0.14.1-py3-none-any.whl (131 kB)\n",
      "Collecting wrapt~=1.12.1\n",
      "  Using cached wrapt-1.12.1.tar.gz (27 kB)\n",
      "  Preparing metadata (setup.py): started\n",
      "  Preparing metadata (setup.py): finished with status 'done'\n",
      "Collecting keras~=2.6\n",
      "  Using cached keras-2.6.0-py2.py3-none-any.whl (1.3 MB)\n",
      "Collecting grpcio<2.0,>=1.37.0\n",
      "  Using cached grpcio-1.41.0-cp39-cp39-win_amd64.whl (3.2 MB)\n",
      "Requirement already satisfied: six~=1.15.0 in c:\\users\\iamwe\\.virtualenvs\\human-rights-first-asylum-ds-a\\lib\\site-packages (from tensorflow) (1.15.0)\n",
      "Collecting h5py~=3.1.0\n",
      "  Using cached h5py-3.1.0-cp39-cp39-win_amd64.whl (2.7 MB)\n",
      "Collecting flatbuffers~=1.12.0\n",
      "  Using cached flatbuffers-1.12-py2.py3-none-any.whl (15 kB)\n",
      "Requirement already satisfied: numpy~=1.19.2 in c:\\users\\iamwe\\.virtualenvs\\human-rights-first-asylum-ds-a\\lib\\site-packages (from tensorflow) (1.19.5)\n",
      "Requirement already satisfied: wheel~=0.35 in c:\\users\\iamwe\\.virtualenvs\\human-rights-first-asylum-ds-a\\lib\\site-packages (from tensorflow) (0.37.0)\n",
      "Collecting termcolor~=1.1.0\n",
      "  Using cached termcolor-1.1.0.tar.gz (3.9 kB)\n",
      "  Preparing metadata (setup.py): started\n",
      "  Preparing metadata (setup.py): finished with status 'done'\n",
      "Collecting gast==0.4.0\n",
      "  Using cached gast-0.4.0-py3-none-any.whl (9.8 kB)\n",
      "Collecting google-pasta~=0.2\n",
      "  Using cached google_pasta-0.2.0-py3-none-any.whl (57 kB)\n",
      "Collecting tensorflow-estimator~=2.6\n",
      "  Using cached tensorflow_estimator-2.6.0-py2.py3-none-any.whl (462 kB)\n",
      "Requirement already satisfied: protobuf>=3.9.2 in c:\\users\\iamwe\\.virtualenvs\\human-rights-first-asylum-ds-a\\lib\\site-packages (from tensorflow) (3.18.1)\n",
      "Collecting typing-extensions~=3.7.4\n",
      "  Using cached typing_extensions-3.7.4.3-py3-none-any.whl (22 kB)\n",
      "Collecting tensorboard~=2.6\n",
      "  Using cached tensorboard-2.7.0-py3-none-any.whl (5.8 MB)\n",
      "Collecting opt-einsum~=3.3.0\n",
      "  Using cached opt_einsum-3.3.0-py3-none-any.whl (65 kB)\n",
      "Collecting keras-preprocessing~=1.1.2\n",
      "  Using cached Keras_Preprocessing-1.1.2-py2.py3-none-any.whl (42 kB)\n",
      "Collecting astunparse~=1.6.3\n",
      "  Using cached astunparse-1.6.3-py2.py3-none-any.whl (12 kB)\n",
      "Collecting clang~=5.0\n",
      "  Using cached clang-5.0.tar.gz (30 kB)\n",
      "  Preparing metadata (setup.py): started\n",
      "  Preparing metadata (setup.py): finished with status 'done'\n",
      "Requirement already satisfied: setuptools>=41.0.0 in c:\\users\\iamwe\\.virtualenvs\\human-rights-first-asylum-ds-a\\lib\\site-packages (from tensorboard~=2.6->tensorflow) (58.2.0)\n",
      "Requirement already satisfied: werkzeug>=0.11.15 in c:\\users\\iamwe\\.virtualenvs\\human-rights-first-asylum-ds-a\\lib\\site-packages (from tensorboard~=2.6->tensorflow) (2.0.2)\n",
      "Requirement already satisfied: requests<3,>=2.21.0 in c:\\users\\iamwe\\.virtualenvs\\human-rights-first-asylum-ds-a\\lib\\site-packages (from tensorboard~=2.6->tensorflow) (2.25.1)\n",
      "Requirement already satisfied: tensorboard-plugin-wit>=1.6.0 in c:\\users\\iamwe\\.virtualenvs\\human-rights-first-asylum-ds-a\\lib\\site-packages (from tensorboard~=2.6->tensorflow) (1.8.0)\n",
      "Requirement already satisfied: tensorboard-data-server<0.7.0,>=0.6.0 in c:\\users\\iamwe\\.virtualenvs\\human-rights-first-asylum-ds-a\\lib\\site-packages (from tensorboard~=2.6->tensorflow) (0.6.1)\n",
      "Requirement already satisfied: google-auth<3,>=1.6.3 in c:\\users\\iamwe\\.virtualenvs\\human-rights-first-asylum-ds-a\\lib\\site-packages (from tensorboard~=2.6->tensorflow) (2.3.0)\n",
      "Collecting google-auth-oauthlib<0.5,>=0.4.1\n",
      "  Using cached google_auth_oauthlib-0.4.6-py2.py3-none-any.whl (18 kB)\n",
      "Collecting markdown>=2.6.8\n",
      "  Using cached Markdown-3.3.4-py3-none-any.whl (97 kB)\n",
      "Requirement already satisfied: pyasn1-modules>=0.2.1 in c:\\users\\iamwe\\.virtualenvs\\human-rights-first-asylum-ds-a\\lib\\site-packages (from google-auth<3,>=1.6.3->tensorboard~=2.6->tensorflow) (0.2.8)\n",
      "Requirement already satisfied: rsa<5,>=3.1.4 in c:\\users\\iamwe\\.virtualenvs\\human-rights-first-asylum-ds-a\\lib\\site-packages (from google-auth<3,>=1.6.3->tensorboard~=2.6->tensorflow) (4.7.2)\n",
      "Requirement already satisfied: cachetools<5.0,>=2.0.0 in c:\\users\\iamwe\\.virtualenvs\\human-rights-first-asylum-ds-a\\lib\\site-packages (from google-auth<3,>=1.6.3->tensorboard~=2.6->tensorflow) (4.2.4)\n",
      "Requirement already satisfied: requests-oauthlib>=0.7.0 in c:\\users\\iamwe\\.virtualenvs\\human-rights-first-asylum-ds-a\\lib\\site-packages (from google-auth-oauthlib<0.5,>=0.4.1->tensorboard~=2.6->tensorflow) (1.3.0)\n",
      "Requirement already satisfied: certifi>=2017.4.17 in c:\\users\\iamwe\\.virtualenvs\\human-rights-first-asylum-ds-a\\lib\\site-packages (from requests<3,>=2.21.0->tensorboard~=2.6->tensorflow) (2021.5.30)\n",
      "Requirement already satisfied: urllib3<1.27,>=1.21.1 in c:\\users\\iamwe\\.virtualenvs\\human-rights-first-asylum-ds-a\\lib\\site-packages (from requests<3,>=2.21.0->tensorboard~=2.6->tensorflow) (1.26.7)\n",
      "Requirement already satisfied: idna<3,>=2.5 in c:\\users\\iamwe\\.virtualenvs\\human-rights-first-asylum-ds-a\\lib\\site-packages (from requests<3,>=2.21.0->tensorboard~=2.6->tensorflow) (2.10)\n",
      "Requirement already satisfied: chardet<5,>=3.0.2 in c:\\users\\iamwe\\.virtualenvs\\human-rights-first-asylum-ds-a\\lib\\site-packages (from requests<3,>=2.21.0->tensorboard~=2.6->tensorflow) (4.0.0)\n",
      "Requirement already satisfied: pyasn1<0.5.0,>=0.4.6 in c:\\users\\iamwe\\.virtualenvs\\human-rights-first-asylum-ds-a\\lib\\site-packages (from pyasn1-modules>=0.2.1->google-auth<3,>=1.6.3->tensorboard~=2.6->tensorflow) (0.4.8)\n",
      "Requirement already satisfied: oauthlib>=3.0.0 in c:\\users\\iamwe\\.virtualenvs\\human-rights-first-asylum-ds-a\\lib\\site-packages (from requests-oauthlib>=0.7.0->google-auth-oauthlib<0.5,>=0.4.1->tensorboard~=2.6->tensorflow) (3.1.1)\n",
      "Building wheels for collected packages: clang, termcolor, wrapt\n",
      "  Building wheel for clang (setup.py): started\n",
      "  Building wheel for clang (setup.py): finished with status 'done'\n",
      "  Created wheel for clang: filename=clang-5.0-py3-none-any.whl size=30692 sha256=af00b05ebeb79f2703b5cebd7299d5f5f669eb82364d0bc3c447304bd8d1b547\n",
      "  Stored in directory: c:\\users\\iamwe\\appdata\\local\\pip\\cache\\wheels\\3a\\ce\\7a\\27094f689461801c934296d07078773603663dfcaca63bb064\n",
      "  Building wheel for termcolor (setup.py): started\n",
      "  Building wheel for termcolor (setup.py): finished with status 'done'\n",
      "  Created wheel for termcolor: filename=termcolor-1.1.0-py3-none-any.whl size=4847 sha256=dffe76ae2fb97799d5f7cefa28b041be73546098ca404f926f23c75c9dc90bd5\n",
      "  Stored in directory: c:\\users\\iamwe\\appdata\\local\\pip\\cache\\wheels\\b6\\0d\\90\\0d1bbd99855f99cb2f6c2e5ff96f8023fad8ec367695f7d72d\n",
      "  Building wheel for wrapt (setup.py): started\n",
      "  Building wheel for wrapt (setup.py): finished with status 'done'\n",
      "  Created wheel for wrapt: filename=wrapt-1.12.1-cp39-cp39-win_amd64.whl size=33782 sha256=267aa59f6ac1ccc9c2386b32384e86f4f7cbdf301a606b91714bcbef60f7e99d\n",
      "  Stored in directory: c:\\users\\iamwe\\appdata\\local\\pip\\cache\\wheels\\98\\23\\68\\efe259aaca055e93b08e74fbe512819c69a2155c11ba3c0f10\n",
      "Successfully built clang termcolor wrapt\n",
      "Installing collected packages: markdown, grpcio, google-auth-oauthlib, absl-py, wrapt, typing-extensions, termcolor, tensorflow-estimator, tensorboard, opt-einsum, keras-preprocessing, keras, h5py, google-pasta, gast, flatbuffers, clang, astunparse, tensorflow\n",
      "  Attempting uninstall: typing-extensions\n",
      "    Found existing installation: typing-extensions 3.10.0.2\n",
      "    Uninstalling typing-extensions-3.10.0.2:\n",
      "      Successfully uninstalled typing-extensions-3.10.0.2\n",
      "Successfully installed absl-py-0.14.1 astunparse-1.6.3 clang-5.0 flatbuffers-1.12 gast-0.4.0 google-auth-oauthlib-0.4.6 google-pasta-0.2.0 grpcio-1.41.0 h5py-3.1.0 keras-2.6.0 keras-preprocessing-1.1.2 markdown-3.3.4 opt-einsum-3.3.0 tensorboard-2.7.0 tensorflow-2.6.0 tensorflow-estimator-2.6.0 termcolor-1.1.0 typing-extensions-3.7.4.3 wrapt-1.12.1\n"
     ]
    }
   ],
   "source": [
    "!pip install tensorflow"
   ]
  },
  {
   "cell_type": "code",
   "execution_count": 5,
   "metadata": {
    "id": "AP9MHDp14rtE"
   },
   "outputs": [],
   "source": [
    "import re\n",
    "from transformers import AutoTokenizer, AutoModelForSeq2SeqLM"
   ]
  },
  {
   "cell_type": "code",
   "execution_count": 6,
   "metadata": {
    "id": "KPuwStu9z-BA"
   },
   "outputs": [],
   "source": [
    "import pandas as pd"
   ]
  },
  {
   "cell_type": "code",
   "execution_count": 7,
   "metadata": {
    "id": "aW2QlrHp0C0r"
   },
   "outputs": [],
   "source": [
    "df = pd.read_csv(r\"C:\\Users\\iamwe\\Documents\\09.Coding\\Lambda_School\\Data_Science\\06.Labs\\human-rights-first-asylum-ds-a\\notebooks\\exploratory_works\\full_text_cases\\uuid_full_text_for_testing.csv\")"
   ]
  },
  {
   "cell_type": "code",
   "execution_count": 8,
   "metadata": {
    "colab": {
     "base_uri": "https://localhost:8080/",
     "height": 948
    },
    "id": "eZlixY8t0KTW",
    "outputId": "43ff9869-5297-4bba-da39-f878cbd5cc55"
   },
   "outputs": [
    {
     "data": {
      "text/html": [
       "<div>\n",
       "<style scoped>\n",
       "    .dataframe tbody tr th:only-of-type {\n",
       "        vertical-align: middle;\n",
       "    }\n",
       "\n",
       "    .dataframe tbody tr th {\n",
       "        vertical-align: top;\n",
       "    }\n",
       "\n",
       "    .dataframe thead th {\n",
       "        text-align: right;\n",
       "    }\n",
       "</style>\n",
       "<table border=\"1\" class=\"dataframe\">\n",
       "  <thead>\n",
       "    <tr style=\"text-align: right;\">\n",
       "      <th></th>\n",
       "      <th>uuid</th>\n",
       "      <th>full_text</th>\n",
       "    </tr>\n",
       "  </thead>\n",
       "  <tbody>\n",
       "    <tr>\n",
       "      <th>0</th>\n",
       "      <td>09f26e70-c0ee-4609-b0c9-b1e8364f70b0</td>\n",
       "      <td>UNITED STATES DEPARTMENT OF JUSTICE EXECUTIVE ...</td>\n",
       "    </tr>\n",
       "    <tr>\n",
       "      <th>1</th>\n",
       "      <td>2020.02.19 Asylum grant_Redacted</td>\n",
       "      <td>UNITED STATES OEPARTMENT OF JUSTICE EXECUTIVE ...</td>\n",
       "    </tr>\n",
       "    <tr>\n",
       "      <th>2</th>\n",
       "      <td>2cd9ed36-9ddb-4c7e-b910-d35d774329fb</td>\n",
       "      <td>UNITED STATES DEPARTMENT OF JUSTICE EXECUTIVE ...</td>\n",
       "    </tr>\n",
       "    <tr>\n",
       "      <th>3</th>\n",
       "      <td>2cd9ed36-9ddb-4c7e-b910-d35d774329fb</td>\n",
       "      <td>provide a clear benchmark for determining who ...</td>\n",
       "    </tr>\n",
       "    <tr>\n",
       "      <th>4</th>\n",
       "      <td>Annotated Decision for Coding Check, Initial H...</td>\n",
       "      <td>Regan TED STATES DEPARTMENT OF JUSTICE TIVE OF...</td>\n",
       "    </tr>\n",
       "    <tr>\n",
       "      <th>5</th>\n",
       "      <td>Annotated Decision for Coding Check, Initial H...</td>\n",
       "      <td>Carlos treated her. Id. After the Respondent r...</td>\n",
       "    </tr>\n",
       "    <tr>\n",
       "      <th>6</th>\n",
       "      <td>Asylum Grant Honduran Business Owners</td>\n",
       "      <td>INMIGRATION COURT 525 W. VAN BUREN, SUITE 500 ...</td>\n",
       "    </tr>\n",
       "    <tr>\n",
       "      <th>7</th>\n",
       "      <td>Asylum Grant Honduran Business Owners</td>\n",
       "      <td>of her story, because she was afraid it would ...</td>\n",
       "    </tr>\n",
       "    <tr>\n",
       "      <th>8</th>\n",
       "      <td>Asylum Grant Honduran Business Owners</td>\n",
       "      <td>In Martinez-Buendia, Ms. Martinez had refused ...</td>\n",
       "    </tr>\n",
       "    <tr>\n",
       "      <th>9</th>\n",
       "      <td>Chicago Immigration Judge - Post-AB Domestic V...</td>\n",
       "      <td>UNITED STATES DEPARTMENT OF JUSTICE EXECUTIVE ...</td>\n",
       "    </tr>\n",
       "    <tr>\n",
       "      <th>10</th>\n",
       "      <td>Family PSGAnti-gangPO - IJ Feder 9.18.19_Redac...</td>\n",
       "      <td>Ko O UNITED STATES DEPARTMENT OF JUSTICE EXECU...</td>\n",
       "    </tr>\n",
       "    <tr>\n",
       "      <th>11</th>\n",
       "      <td>Family PSGAnti-gangPO - IJ Feder 9.18.19_Redac...</td>\n",
       "      <td>(A.G. 2017), overruled by Matter of -E-A-,27 1...</td>\n",
       "    </tr>\n",
       "    <tr>\n",
       "      <th>12</th>\n",
       "      <td>Honduran Garifuna Asylum Grant IJ Laforest - N...</td>\n",
       "      <td>UNITED STATES DEPARTMENT OF JUSTICE EXECUTIVE ...</td>\n",
       "    </tr>\n",
       "    <tr>\n",
       "      <th>13</th>\n",
       "      <td>Honduran Women, Redacted Asylum Grant, Arlingt...</td>\n",
       "      <td>UNITED STATES DEPARTMENT OF JUSTICE EXECUTIVE ...</td>\n",
       "    </tr>\n",
       "    <tr>\n",
       "      <th>14</th>\n",
       "      <td>Honduran Women, Redacted Asylum Grant, Arlingt...</td>\n",
       "      <td>provide a clear benchmark for determining who ...</td>\n",
       "    </tr>\n",
       "    <tr>\n",
       "      <th>15</th>\n",
       "      <td>Honduras.Women in domestic relationships asylu...</td>\n",
       "      <td>UNITED STATES DEPARTMENT OF JUSTICE EXECUTIVE ...</td>\n",
       "    </tr>\n",
       "    <tr>\n",
       "      <th>16</th>\n",
       "      <td>Honduras.Women in domestic relationships asylu...</td>\n",
       "      <td>NaN</td>\n",
       "    </tr>\n",
       "    <tr>\n",
       "      <th>17</th>\n",
       "      <td>Honduras.Women in domestic relationships asylu...</td>\n",
       "      <td>commit the fraud that was committed by the res...</td>\n",
       "    </tr>\n",
       "    <tr>\n",
       "      <th>18</th>\n",
       "      <td>IJ decision Brazilian National (9th Cir.)</td>\n",
       "      <td>UNITED STATES DEPARTMENT OF JUSTICE EXECUTIVE ...</td>\n",
       "    </tr>\n",
       "    <tr>\n",
       "      <th>19</th>\n",
       "      <td>IJ decision Brazilian National (9th Cir.)</td>\n",
       "      <td>Two Members of Brazil's MST Landless Movement ...</td>\n",
       "    </tr>\n",
       "    <tr>\n",
       "      <th>20</th>\n",
       "      <td>IJ Decision in another UB Case w serious non-p...</td>\n",
       "      <td>NaN</td>\n",
       "    </tr>\n",
       "    <tr>\n",
       "      <th>21</th>\n",
       "      <td>IJ Decision in another UB Case w serious non-p...</td>\n",
       "      <td>that provide a clear benchmark for determinin...</td>\n",
       "    </tr>\n",
       "    <tr>\n",
       "      <th>22</th>\n",
       "      <td>Nicaragua - DV - IJ Rubin Newark, NJ (2020)</td>\n",
       "      <td>UNITED STATES DEPARTMENT OF JUSTICE RECUTIVE O...</td>\n",
       "    </tr>\n",
       "    <tr>\n",
       "      <th>23</th>\n",
       "      <td>Nicaragua - DV - IJ Rubin Newark, NJ (2020)</td>\n",
       "      <td>presumption that the Respondent has a well- fo...</td>\n",
       "    </tr>\n",
       "    <tr>\n",
       "      <th>24</th>\n",
       "      <td>Redacted Grant, PSG Guatemalan Women</td>\n",
       "      <td>UNITED STATES DEPARTMENT OF JUSTICE EXECUTIVE ...</td>\n",
       "    </tr>\n",
       "    <tr>\n",
       "      <th>25</th>\n",
       "      <td>Redacted Grant, PSG Guatemalan Women</td>\n",
       "      <td>establish a cognizable PSG. See C-A:, 23 I&amp;N D...</td>\n",
       "    </tr>\n",
       "    <tr>\n",
       "      <th>26</th>\n",
       "      <td>Redacted IJ Decision _22single Salvadoran moth...</td>\n",
       "      <td>UNITED STATES DEPARTMENT OF JUSTICE, EXECUTIVE...</td>\n",
       "    </tr>\n",
       "    <tr>\n",
       "      <th>27</th>\n",
       "      <td>Redacted_IJ Decision_Asylum grant for false ga...</td>\n",
       "      <td>UNITED SYATES DEPARTMENT OF JUSTICE EXECUTIVE ...</td>\n",
       "    </tr>\n",
       "    <tr>\n",
       "      <th>28</th>\n",
       "      <td>Redacted_IJ Decision_Asylum grant for false ga...</td>\n",
       "      <td>evidence must be provided unless the applicant...</td>\n",
       "    </tr>\n",
       "  </tbody>\n",
       "</table>\n",
       "</div>"
      ],
      "text/plain": [
       "                                                 uuid  \\\n",
       "0                09f26e70-c0ee-4609-b0c9-b1e8364f70b0   \n",
       "1                    2020.02.19 Asylum grant_Redacted   \n",
       "2                2cd9ed36-9ddb-4c7e-b910-d35d774329fb   \n",
       "3                2cd9ed36-9ddb-4c7e-b910-d35d774329fb   \n",
       "4   Annotated Decision for Coding Check, Initial H...   \n",
       "5   Annotated Decision for Coding Check, Initial H...   \n",
       "6               Asylum Grant Honduran Business Owners   \n",
       "7               Asylum Grant Honduran Business Owners   \n",
       "8               Asylum Grant Honduran Business Owners   \n",
       "9   Chicago Immigration Judge - Post-AB Domestic V...   \n",
       "10  Family PSGAnti-gangPO - IJ Feder 9.18.19_Redac...   \n",
       "11  Family PSGAnti-gangPO - IJ Feder 9.18.19_Redac...   \n",
       "12  Honduran Garifuna Asylum Grant IJ Laforest - N...   \n",
       "13  Honduran Women, Redacted Asylum Grant, Arlingt...   \n",
       "14  Honduran Women, Redacted Asylum Grant, Arlingt...   \n",
       "15  Honduras.Women in domestic relationships asylu...   \n",
       "16  Honduras.Women in domestic relationships asylu...   \n",
       "17  Honduras.Women in domestic relationships asylu...   \n",
       "18          IJ decision Brazilian National (9th Cir.)   \n",
       "19          IJ decision Brazilian National (9th Cir.)   \n",
       "20  IJ Decision in another UB Case w serious non-p...   \n",
       "21  IJ Decision in another UB Case w serious non-p...   \n",
       "22        Nicaragua - DV - IJ Rubin Newark, NJ (2020)   \n",
       "23        Nicaragua - DV - IJ Rubin Newark, NJ (2020)   \n",
       "24               Redacted Grant, PSG Guatemalan Women   \n",
       "25               Redacted Grant, PSG Guatemalan Women   \n",
       "26  Redacted IJ Decision _22single Salvadoran moth...   \n",
       "27  Redacted_IJ Decision_Asylum grant for false ga...   \n",
       "28  Redacted_IJ Decision_Asylum grant for false ga...   \n",
       "\n",
       "                                            full_text  \n",
       "0   UNITED STATES DEPARTMENT OF JUSTICE EXECUTIVE ...  \n",
       "1   UNITED STATES OEPARTMENT OF JUSTICE EXECUTIVE ...  \n",
       "2   UNITED STATES DEPARTMENT OF JUSTICE EXECUTIVE ...  \n",
       "3   provide a clear benchmark for determining who ...  \n",
       "4   Regan TED STATES DEPARTMENT OF JUSTICE TIVE OF...  \n",
       "5   Carlos treated her. Id. After the Respondent r...  \n",
       "6   INMIGRATION COURT 525 W. VAN BUREN, SUITE 500 ...  \n",
       "7   of her story, because she was afraid it would ...  \n",
       "8   In Martinez-Buendia, Ms. Martinez had refused ...  \n",
       "9   UNITED STATES DEPARTMENT OF JUSTICE EXECUTIVE ...  \n",
       "10  Ko O UNITED STATES DEPARTMENT OF JUSTICE EXECU...  \n",
       "11  (A.G. 2017), overruled by Matter of -E-A-,27 1...  \n",
       "12  UNITED STATES DEPARTMENT OF JUSTICE EXECUTIVE ...  \n",
       "13  UNITED STATES DEPARTMENT OF JUSTICE EXECUTIVE ...  \n",
       "14  provide a clear benchmark for determining who ...  \n",
       "15  UNITED STATES DEPARTMENT OF JUSTICE EXECUTIVE ...  \n",
       "16                                                NaN  \n",
       "17  commit the fraud that was committed by the res...  \n",
       "18  UNITED STATES DEPARTMENT OF JUSTICE EXECUTIVE ...  \n",
       "19  Two Members of Brazil's MST Landless Movement ...  \n",
       "20                                                NaN  \n",
       "21   that provide a clear benchmark for determinin...  \n",
       "22  UNITED STATES DEPARTMENT OF JUSTICE RECUTIVE O...  \n",
       "23  presumption that the Respondent has a well- fo...  \n",
       "24  UNITED STATES DEPARTMENT OF JUSTICE EXECUTIVE ...  \n",
       "25  establish a cognizable PSG. See C-A:, 23 I&N D...  \n",
       "26  UNITED STATES DEPARTMENT OF JUSTICE, EXECUTIVE...  \n",
       "27  UNITED SYATES DEPARTMENT OF JUSTICE EXECUTIVE ...  \n",
       "28  evidence must be provided unless the applicant...  "
      ]
     },
     "execution_count": 8,
     "metadata": {},
     "output_type": "execute_result"
    }
   ],
   "source": [
    "df"
   ]
  },
  {
   "cell_type": "code",
   "execution_count": 9,
   "metadata": {
    "id": "Ljwvbgma4LdA"
   },
   "outputs": [],
   "source": [
    "df.iloc[16, 1] = \"The Lead Respondent’s particular social group of “women in Honduras” lacks particularity because the group as defined is too amorphous as it would include al! women in Honduras. Matter of M-E-V-G-, 26 1&N Dec. at 239 (noting that “a 13 particular social group must be narrowly defined”), The two remaining groups as articulated are circular as it is defined by the harm an applicant suffered or fears. See Matter of A-B-, 27 1&N at 335; see also Lukwago v. Ashcroft, 329 F.3d 157, 172 (3d Cir. 2003); Gomez v. INS, 947 F.2d 660, 664 (2d Cir, 1991); Matter of R-A-, 22 18:N Dec. 906, 919 (BIA 1999) (vacated on other grounds). Nevertheless, there is sufficient evidence in the record to demonstrate that the Lead Respondent suffered past persecution on account of her membership in a particular social group composed of “women in domestic relationships in Honduras.” Although the Attomey General overruled Matter of A-R-C-G-, 26 I&N Dec. 338 (BIA 2014) and held that the particular social ‘group of “married women in Guatemala who are unable to leave their relationship” was not cognizable, “social group determinations are made on a case-by-case basis.” Matter of M-E-V- G-, 26 I&N Dec. at 251(citing Matter of Acosta, 19 I&N Dec. at 233), The Attorney General overruled Matter of A-R-C-G-, in part, because the particular social group did not exist independently of the harm suffered by its membe:s. Matter of A-B-, 27 I&N Dee. at 334-35. In this case, however, the particular social group composed of “women in domestic relationships in Honduras” exists independently of the harm asserted. Id. ‘The group also shares “a narrowing characteristic other than their risk of being persecuted.” Jd. Not all women in domestic relationships in Honduras are automatically harmed; they are a group of women who share common experiences due to their relationship staxus and their location. Thus, unlike Matter of A- R-C-G-, the particular group in this matter is not defined by the harm alleged. Cf’ Matter of A-B-, 27 JN Dee. at 335. Based on this particular record, the Lead Respondent has demonstrated that “women in domestic relationships in Honduras” is a viable particular social group. The particular social group is composed of members who share a common immutable characteristic, specifically their gender. Matter of M-E-V-G-,26 I&N Dec. at 237. The Board in Matter of Acosta held that sex is an immutable characteristic as it is a common characteristic that “members of the group either ‘cannot change, or should not be required to change because it is fundamental to their identities of consciences.” 19 I&N Dee. at 233. The record also establishes that Honduran society perceives the Lead Respondent's particular social group of “women in domestic relationships in Honduras” as a socially distinct group. Matter of M-E-V-G-, 26 I&N Dec. at 238. The Board held in Matter of C-A- that 4 “{sJocial groups based on innate characteristics such as sex or family relationships are generally casily recognizable and understood by others to constitute social groups.” 23 I&N Dec. 951, 959 (BIA 2006). Nevertheless, the record demonstrates that Honduran society recognizes “women in domestic relationships” as a distinct group by its creation of laws to protect and prevent women from the consequences of being in abusive domestic relationships. Exh. 4, Tab D2 at 41 (the government of Honduras “ratified regional and international conventions and has laws on the books criminalizing intrafamilial violence, rape, and killings of women”). The government of Honduras enacted the Law Against Domestic Violence in 1997 and the Law of Equal Opportunities for Women in 2000. Jd. at 45. The government also ratified the Convention on the Elimination of All Forms of Discrimination against Women in 2004 and the Inter-American Convention on the Prevention, Punishment, and Eradication of Violence against Women in 2005. Id. In 2006 and 2013, the Law against Domestic Violence was amended. Exh. 4, Tab D4 at 67. Specifically, the Law against Domestic Violence aimed to protect women in domestic relationships from domestic violence and unequal exercise of power by “establishing] a mechanism for abused women to obtain a protective order against their abuser.” Exh. 4, Tab D2 at 48, It does not protect all women who are subjected to violence, rather the law protects women who are harmed by their partner. The Lead Respondent clearly falls within this group. The government of Honduras also passed a law in 2013 criminalizing femicide, defined as “a crime for ‘men who kill women for reasons of gender, with hatred and disdain toward them as women,” punishable with 30-40 years imprisonment, Jd. at 45, 48. Specifically, the law requires that “one of the following four circumstances must also be met: ‘sentimental relationship, history of acts of violence, persecution of any kind, or commission with malice.” id. at 48. The fact that the government of Honduras established these lavis targeting women in domestic relationships demonstrates that society views these women as ¢ distinct group who share commonalities and are in need of special protection. Further demonstrating that Honduran society recognizes women in domestic relationships as a distinct social group is the fact that government institutions and non-profit organizations were established in Honduras to address the specific needs of women in general and those in domestic relationships. id. (establishing the Interagency Commission on the Law against Domestic Violence); Id. (establishing of the National Women’s Institute as the “government agency responsible for the protection and advancement of Honduran Women”); Exh. 4, Tab D1 15 at 38 (although now abolished, the police had an emergency telephone line for female victims of ixh. 4, Tab D3 at 60 (the center of Women’s Rights tracked violent deaths of women); Exh. 4, Tab D8 at 150 (the Honduran government operated reporting centers in violence); ‘Tegucigalpa and San Pedro Sula enabling womer: to report crimes and providing other services focusing on “prevention of gender-based violence”); Exh, 4, Tab D4 at 67 (the Femicide Unit within the Directorate-General of Criminal Investigation and Domestic Violence Offices at all departmental headquarters were created to protec: women from violence); Id. (“The Honduran Supreme Court established specialized court on domestic violence and the Gender Unit.”); Exh. 4, Tab D7 at 109 (the government of Honduras “provides] to victims of domestic violence in hospitals and health centers”). Further demonstrating that Honduran society recognizes the Lead Respondent's particular social group as socially distinct, the government of Honduras created a “Special Women’s Public Prosecutors Office” within the Public Ministry to enforce the Domestic Violence law. Exh. 4, Tab D2 at 48. The record shows that Honduran “society at large” has recognized women in domestic relationships as a distinct group through the enactment of these laws and the creation of programs for women who, as a result of being in a domestic relationship, are victimized. Cf Matter of A-B-, 27 18N Dec. at 336 (citing Matter of W-G-R-, 26 I&N Dec. at 217). ‘Next the particular social group composed of “women in domestic relationships in Honduras” is defined with particularity as the group is “defined by characteristics that provide a clear benchmark for determining who falls within the group.” Matter of A-B-, 27 1&N Dec. at 335 (quoting Matter of M-E-V-G-, 26 1&N Dee. at 239). Members of the group must be women and must be in domestic relationships. > The Attcrney General held in Matter of A-B- that, standing alone, commonly accepted definitions within Guatemalan society, such as “married,” “women,” and “unable to leave the relationship,” are insufficient to establish particularity. Matter of A-B-,27 1&N Dec. at 335. Yet, the Attomey General did not bar that certain terms, standing alone and grouped together, which have commonly accepted definitions in society, are sufficient to establish particularity. The Board held in Matter of M-E-V-G- that “‘tis critical that > While the proposed particular social group encompasses ¢ large group of members, particular social groups are not automatically not viable because the group represents large portions of society. Perdomo v. Holder, 611 F.3d 662 (9th Cir. 2010). “Although the category of protected persons [wthin a particular group] may be large, the number of those ‘who can demonstrate the required nexus likely is not.” Matter of 4-B., 27 1&N Dec. at 318 (quoting Cece v. Holder, 733 F.3d 662, 673 (7th Cir. 2013). 16 the terms used to describe the group have commonly accepted definitions in the society of which the group is part.” Matter of M-E-V-G-, 26 1&N Dec. at 239 (citing Matter of A-M-E- & J-G-U- 24 1&N Dec. 69, 76 (BIA 2007)). This particular record confirms that “women” and “domestic relationships” each have commonly accepted definitions in Honduran society and that the concept of “women in domestic relationships” as a whole has a commonly accepted definition as. well. Exh. 4, Tab D8 at 150 (only female victims of domestic violence are entitled to certain protective measures); Exh. 4, Tab D7 at 109 (noting that “violence between domestic and intimate partners continued to be widespread” in Honduras); Jd. (In 2015, 18,070 women filed complaints of violence against their domestic pariners in the special domestic violence cowts); Exh, 4, Tab D4 at 72 (domestic violence is viewed differently by the justice system and is treated leniently as provisions are not generally enforced). Additionally, the social group composed of women in domestic relationships in Honduras is not “defined by their vulnerability to private criminal activity;” rather, the group is defined by the common experiences that the members share together. Cf Matter of A-B-, 27 I&N Dee. at 335. The group shares experiences that are unique to women in domestic relationships, such as having a partner and not being single. While some members of the group may be subject to violence by their partners, known as domestic violence, the group is not defined by their vulnerability. Instead, domestic violence is a possible consequence that arises from being a member of the group and a member is not autometically vulnerable to private criminal activity as ‘a member of the group. In addition, a domestic relationship as defined in Honduran law is similar to the particular social group of nuclear family, which has been recognized by the Fourth Circuit as the “prototypical example” of a particular social group. Crespin-Valladares, 632 F.3d. at 117. Accordingly, based on the evidence in this particular record “women in domestic relationships in Honduras” is a cognizable particular social group. 3. Nexus ‘Next, there is both objective and subjective evidence to support a finding that the Lead Respondent was persecuted on account of her membership in the group of “women in domestic relationships in Honduras.” See § 208(b)(1)(B)(i) of the Act; INS v. Elias-Zacarias, 502 U.S. 478 (1992). This finding is supported by credible testimony of the Lead Respondent and corroborated by country conditions. Vv ‘The Lead Respondent indicated in her testimony that she was specifically persecuted on account of her domestic relationship with her partner. The Lead Respondent testified credibly that her partner threatened her and harmed her in order to force her to obey his orders. Exh. 4, Tab A at (when the Lead Respondent visited her mother without her partner’s permission, he grabbed her by the neck, pushed her against the door, and insulted her); Id, at 2 (“He told me he would never let me leave and if I left him, he would kill me.”), She also stated that her partner locked her in the house and took the keys in order to prevent her from leaving their house. Id. (‘Hector refused to let me work... he would not allow me to leave... Hector told me that I belonged in the house and that our son was his and I could not leave him, He told me he would never let me leave.”). During another incident, her partner beat her, told her that she had to say with him because she would never be free. /d. at 1. She testified that her partner raped her when she refused to have sex with him. During various incidents, he would verbally insult her, degrade her as a woman, and beat her because she did not clean to his liking, was not home when he arrived, and did not wash his clothes and shoes correctly. Jd. at 1-2. (“Hector called me names like ‘stupid’ ‘son of a bitch’ ‘a piece of tresh.””). The Lead Respondent described that whenever her partner got upset with her, he became aggressive causing him to emotionally and physically abuse her. /d. at 1-2. These statements indicate that at least one central reason for the ‘Lead Respondent's persecution was her status as a woman in a domestic relationship. This is why her partner targeted her rather than some other person. Zavaleta-Policiano, 873 F.3d 241, 249-50 (4th Cir. 2017) (citing Hernandez-Avalos, 784 F.3d at 949-50); Cruz v. Sessions, 853 F.3d at 129-30. In addition, the Lead Respondent has submitted a wealth of information on country conditions that confirms that private actors are persecuting “women in domestic relationships.” Exh. 4, Tab D1 at 34 (woman feels like a prisoner in her own home because her partner nearly killed her and sends her threatening messages); Id. at 35 (in the past decade there has been “a sharp increase in domestic and sexual violence and gender based murder, a phenomenon known as femicide”); Id, at 37 (women are raped by their uncles and fathers. Miss Honduras Beauty Queen was murdered by her boyfriend); Exh. 4, Tab D2 at 45 (the Honduran government “passed a series of laws that offered measures protecting women from violence and discrimination, including a law against domestic violence (1997) and a law of equal opportunities for women (2000).”); /d. at 47 (“[MJurders of women are disproportionately 18 ‘committed by intimate partners and have become increasingly brutal and sexualized.”); Jd. at 48 (Congress added Article 118A to the Honduran Fenal Code criminalizing femicide, defined as ‘men who kill women for reasons of gender who had shared a sentimental relationship); Exh. 4, Tab D1 at 38 (the violent machismo culture “has become a natural, accepted part of Honduran society”); Exh. 4, Tab D4 at 62 (“Violence against women is widespread and systematic in Honduras.”); Exh. 4, Tab D7 at 108 (“Prosecutors treat accusations of spousal rape somewhat differently, however, and evaluate such charges cn a case-by-case basis.”); Jd. at 109 (“Violence between domestic and intimate partners continued to be widespread); Exh, 4, Tab D4 at 69 (“[MJany women reported being repeatedly raped and sexually abused by their intimate partners.”). Such evidence indicates that private actors are targeting women because of their status as a woman in a domestic relationship. It does not appear that such evidence was submitted in Matter of A-B-. Based on the evidence above, the Lead Respondent's partner did not harm her based on their personal relationship, but because of her status as a member of this, ‘group. ‘The Attomey General cautioned in Matter of A-B-, 27 I&N Dec. at 338-39 that “[wJhen Private actors inflict violence based on a personal relationship with a victim, then the victim’s membership in a larger group may well not be ‘one central reason’ for the abuse.” However, the Fourth Circuit has found in similar situations that the familial relationship is one central reason for the persecution, For example, in Hernandez-dvalos, 784 F.3d at 944, the Fourth Circuit reasoned that the respondent’s “maternal authority to control her son’s activities” was at least ‘one central reason she was targeted. Similarly here, the Lead Respondent's partner’s belief that he could contro! her because they were in a domestic relationship was at least one central reason that the abuse occurred. See also Cruz v, Sessions, 853 F.3d at 122 (overruling Board decision that threats were by a “private actor for personal reasons or on general levels of crime or violence” when the threats were by the suspected murderer of the domestic partner of a Honduran woman). In this case under Fourth Circuit law the Lead Respondent's testimony and country conditions in the record indicate that her partner harmed her due to her status as a woman in a domestic relationship, Considering the extensive evidence of machismo culture in Honduras and the persecutor’s various attempts to harm the Lead Respondent, it is clear that the Lead Respondent's membership in the particular social group of “women in domestic relationships in 19 Honduras” was at least one central reason for the persecutor’s actions against her. Consequently, the Lead Respondent successfully established a nexus between the harm she suffered and a protected ground for purposes of asylum. 4. Government Unwilling or Unable to Protect from Private Actor In addition to meeting her burden of proof for the statutory requirements for asylum above, the Lead Respondent has also shown that the government of Honduras is either unwilling § 1208.13(b)(1); Matter Of A-B-, 27 18N Dec. at 337; Mulyani v, Holder, 771 F.3d 190, 198 n.8 (4th Cir. 2014); Justo v. Sessions, 895 F.3d 154, 163 (Ist Cir. 2018) (citations omitted). Since the government’s “unwillingness and inability are two distinct issues... an applicant may be able to prove inability or unable to control the private conduct she suffered and fears, 8 C.F. without proving unwillingness where the government's willing efforts to protect its citizens fall short.” Justo, 895 F.3d at 163 (affirming Khattak v. Holder, 704 F.3d 197, 206 (Ist Cir. 2013)). In the present matter, the record depicts many instances where the government of Honduras has been willing to address domestic violence and violence against women, in general. Exh. 4, Tabs D1-D4, D7-D8. However, this does not reflect its ability to do so. Justo, 895 F.3d at 163 (affirming Khattak v. Holder, 704 F.3d 197, 206 (1st Cir. 2013)); Madrigal v. Holder, 716 F.3d 499, 506-07 (9th Cir. 2012); Garcia v. U.S. Att'y Gen., 665 F.3d 496, 503 (3d Cir. 2011). The record also evidences the Honduran government's numerous failed attempts and ineffective laws and policies to prevent domestic violence and control the perpetrators. See generally Exh. 4, Tabs D1-D4, D7-D8. Specifically, the Lead Respondent's credible testimony in corroboration with the country conditions demonstrate that the government of Honduras is unable to protect her. 8 CER. § 1208.13(b)(1); Hernandez-Avalos, 784 F.3d at 953 (holding that an applicant’s testimony with corroborating country conditions was sufficient to establish that the government was unable or unwilling to protect the applicant); Id, at 951 (quoting Cordova, 759 F.3d at 340). In Hernandez- Avalos, the respondent testified that going to the police was not an option because, while the police arrested gang members, they were then released and retaliated against those who report them, The Fourth Circuit found that she was able to show the government could not protect her based on country conditions, even though she had never filed a police report. In the case at bar, the Lead Respondent's failure to go to police for fear that her partner would retaliate against her also is corroborated by country conditions 20 The Lead Respondent’s failure to report her partner’s abuse to the police is not fatal to showing that the government of Honduras is unwilling or unable to protect as she has demonstrated that reporting the abuse to the police would have been futile. Matter of S-A-,22 I&N Dec. 1328, 1335 (BIA 2000) (holding that failure to report persecution is not essential to showing that a government is unable or unwilling to control private conduct); see also Justo, 895 F.3d at 165 (quoting Morales-Morales v. Sessions, 857 F.3d 130, 135 (Ist Cir. 2017)); Bringas- Rodriguez v. Sessions, 850 F.3d 1051, 1069 (9th Cir. 2017); Lopez v. U.S. Att'y Gen, 504 F.3d 1341, 1345 (11th Cir. 2007). The Lead Respondent testified credibly that she did not report the abuse to the police because the police did not protect other women who had reported the abuse. , Yodani, both reported the abuse to the police, but the police did not protect them). She added that the police discourage Exh, 4, Tab A at 3 (Karina, her partner’s ex-partrer, and her co ‘women from reporting abusive husbands as the machismo culture in Honduras views domestic violence as not a serious crime. Id. at 1. Further, women who report domestic violence are labeled as “scandalized” since they make their family problems public and as such the police do not protect them. Jd. at 2. Country Expert, Claudia Hermannsdorfer, confirms the legitimacy of the Lead Respondent’s fear of reporting her partner’s abuse to the police and the lack of protection that these women receive from police officers. Exh. 4, Tab D2 at 49 (“Women who seek help from the police are often told that the issue is a matter for her husband to decide, and that she should go home, be intimate with him, and he will forgive her. Other times, police simply tell the women to stop disobeying their husbands... Honduran police ignore threats made against women, treating them as nothing more than the product of over-excited emotions.”); dat 40 (“In contexts of impunity such as Honduras, the brutal killings of women denote the complicity of the state through its unwillingness or inability to provide prevention and response mechanisms.”). Other country condition articles also verify the Lead Respondent's claim. Id, at $1 (noting that women “rarely reported for fear of retaliation and due to the rampant impunity in situations of violence against women throughout the county”); Exh. 4, Tab D4 at 70 (women do not report domestic abuse to the police out of fear of retaliation and believed that the police will not help them as the police do not get involved in domestic affairs). One report notes that rape and domestic violence “continued to be underreported, however, due to fear of stigma, retribution, and further violence.” Exh. 4, Tab D7 at 108; Exh. 4, Tab D2 at 50 (“[W]omen are afiaid to report their cases to the police for fear of retaliation.”). Even if the Lead Respondent had reportec the abuse, only two and a half percent of cases of domestic violence were settled in 2014. Exh. 4, Tab D1 at 36. Although victims of domestic violence have various avenues to report the abuse, domestic violence oceurs with impunity. Exh. 4, Tab D4 at 72 (“The failure of authorities to exercise due diligence in investigating, prosecuting and punishing perpetrators of violence against women contributes to an environment of impunity within the country.”); Exh. 4, Tab D8 at 136; Exh. 4, Tab D2 at 41 (“acts of commission and omission [by the government] create conditions that promote impunity and inerease risks of victimization by normalizing the targeting of women for violence.”). According to a report from the United Nations, “Honduras has a 95% impunity rate for sexual violence and femicide crimes.” Exh. 4, Tab D4 at 72. Ninety-six percent of femicides remain unpunished. Exh. 4, Tab D2 at 46. Additionally, 94% of sexual violence goes unpunished, Exh. 4, Tab D4 at 71. In reported cases of sexual violence against women in 2014, only 276 out of 2,621 cases ‘were resolved. Id. at 73. In cases involving domestic violence, few are “investigated or reach the courts,” Exh. 4, Lab D2 at 47. Notwithstanding the Lead Respondent's failure to report the domestic violence, the police and judicial system in Honduras are ineffective when responding to incidents of domestic violence. Jd. at 49 (“[W]hen investigators encounter a woman who has obviously been killed by domestic violence, they often reason, ‘well, the prosecutor wall not fully prosecute this case because this is a crime of passion, so there is no need to conduct an in-depth forensic examination’). Victims of violence are also blaried for the harm. Jd. at 50-51 (“[JJudges often blame female victims, assuming that the woman may have instigated the murder, and use this as an additional reason not to consider the murder or to dismiss the case”). According to Country Conditions Expert, Claudia Hermannsdorfer, the authorities lack sufficient resources to conduet sensitive forensic examinations, making it impossible to make accurate determinations of the extent of sexual violence in femicide victims. {d. at 49-50. Further, the police divert their resources towards investigations of crimes that they consider to be “more serious,” such as drug trafficking, Jd at 49. Moreover, the judiciary is ineffective, poorly funded, and inadequately equipped. Exh. 4, Tab D8 at 138. 22 The mere existence of a legal regime or government policy to combat private persecution is not necessarily evidence of a government’s ability or willingness to control persecutors. Sarhan v. Holder, 658 F.3d 649 (7th Cir. 2011); Fiadjoe v. Att'y Gen, of U.S., 411 F.3d 135, 160-61 (3d Cir. 2005). Although the Honduran government passed a domestic violence law, the Law Against Domestic Violence, which provides women with certain provisional and security measures, the law does not criminalize domestic violence as the law’s focus is preventive. Exh. 4, Tab D8 at 150; Exh. 4, Tab D2 at 48, Rather, it criminalizes serious incidents of domestic violence and dictates imprisonment only when the injuries are severe. Exh. 4, Tab D8 at 150. Otherwise, domestic violence is not criminalized and the only legal penalties for a first time domestic violence offense is a sentence of community service, or if caught in the act, twenty-four hour preventive detention. Exh. 4, Tab D2 at 48, A victim of domestic violence may also obtain arestraining order, but if the perpetrator violates the restraining order, Honduran law only imposes a prison sentence for up to three years ifit was “connected with the crime of intrafamilial violence,” but not including an act of domestic violence. Jd; Exh. 4, Tab D8 at 150. Further, they “insist on reconciliation or mediation as a first step in legal proceedings... where ‘women are often pressured to tolerate or cope with violent situations rather than obtain help to escape them.” Exh. 4, Tab D2 at 48. In regards to rape, while Honduran law criminalizes rape as a public crime, spousal rape is not given the same status and “is evaluated on a case-by-case basis.” Id. at 48. As such, laws regarding violence against women, specifically domestic violence, rape, and femicide, were not effectively implemented and have serious limitations. Id. at 45-46, 48. ‘The Honduran government has not taken effective steps to prevent or combat violence against women, including incidents of domestic violence. Exh. 4, Tab D2 at 44. For example, Honduran law mandates equal legal rights and stetus to women and men, however, the U.S. Department of State Honduras Country Report acknowledges that “many women did not fully enjoy such rights.” Exh. 4, Tab D8 at 151, Honduras lacks specialized services for women in the police and courts that would prevent violence, protect women, or prosecute individuals for harming women. Exh. 4, Tab D2 at 41-42. Before and after the Honduran coup in 2009, the Honduran government passed laws protecting women from violence, including the first law against domestic violence in 1997 and a femicide law in 2013. Id, at 45-46, However, these Jaws were not effectively implemented and rates of violence against women continued to tise. 2 Id, at 46. Additionally, while the anti-femicide law intends to punish those who kill women “with hatred and disdain toward them as women” because of their gender, itis “almost impossible” to meet the heavy burden as it is difficult to provide evidence of hatred and disdain. Id at 48, ‘The institutional mechanisms and bureaucratic units that were created to implement these laws aimed at curving domestic violence were “generally underfunded and understaffed.” Id. For example, upon the passing of the Law Against Domestic Violence, the Honduran government created the Special Women’s Public Office to enforce it, but the office had limited ability to prosecute perpetrators of domestic violence. Id. This pattern has continued since the coup, resulting in the dismantling and weakening of these agencies. Id; Exh. 4, Tab D1 at35. Similarly, in 2008, the Honduran Congress created specialized policing units for the purpose of investigating the murders of women, but within one year, the police units were relocated to investigate general street crime. Exh, 4, Tab D2 at 46. Again, a Gender Unit was created within the Honduran police that was aimed at institutionalizing the police's responsiveness to violence again women, but it was later dismantled. Jd. at $0. Yet again, in 2006, the Law Against Domestic Violence was amended and created the “specialized domestic violence courts, but in 2012, the court system had not yet been set up. 1d. Even after the domestic violence courts were established, the amended domestic violence law kas not been effectively implemented and has been undermined by the police and the courts. /d at 41. The government of Honduras in 2014 downgraded the status of the National Institute for Women, “cut funding to women's rights groups, and abolished the police emergency telephone line for female victims of violence.” Exh. 4, D1 at 38. The government of Honduras’ implementation of these laws and responsiveness to the violence against women has been “lagging, ncnexistent, or even unenforced by state institutions.” Exh. 4, Tab D2 at 48, ‘Thus, based on this particular record, while the government of Honduras has been willing to make efforts control the private actors to combat domestic violence, the Lead Respondent has demonstrated that that the government of Honduras has had “more than ‘difficulty... controlling’ private behavior,” the record established the governments “inability to protect the victims” and inability to implement those efforts to combat domestic violence and violence against women in Honduras. Matter of A-B-, 27 1&N Dec. at 337 (internal quotations omitted); Crespin- Valladares, 632 F.3d at 128 (quoting Menjivar v, Gonzales, 416 F.3d 918, 921 (8th Cir. 2005). 24 Having shown that she was persecuted on a protected ground, the Lead Respondent benefits from a rebuttable presumption that her life or freedom would be threatened in the future. 8 CER. § 1208.16(b)(1)G). 5. Internal Relocation is not a Reasonable Alternative ‘The regulations state that, for purposes of determining whether relocation is reasonable, the burden is on the Lead Respondent to show it is not reasonable if past persecution has not been established. 8 C.F.R. Section 208.13(b)(3)(i). However, in this case the Lead Respondent has suffered from past persecution and there is insufficient evidence to rebut the presumption that the Lead Respondent's life or freedom would be threatened in the future by showing that relocation would be reasonable, The Lead Respondent has demonstrated that she is unable to relocate within Honduras, as noted above, through her credible testimony and country conditions that evidence the inadequate protections and lack of resources for women fleeing harm. In addition, in considering whether relocation is unreasonable the factors to be considered are “whether the applicant would face other serious harm in the place of suggested relocation, any ongoing civil strife within the country, administrative, economic or judicial infrastructure, geographical limitations, and social and cultural constraints, such as age, gender health, and social and familial ties.” In this case, Lead Respoadent has a child at the tender age of five. It would be unreasonable to ask to her relocate for this reason. In addition, “because the purpose of the relocation rule is not to require an applicant te stay one step ahead of persecution in the proposed area, that location must present circumstances that are substantially better than those giving rise to a well-founded fear of persecution on the basis of the original claim.” Matter of M-Z-M-R., 26 18N Dec. 28, 33 (BIA 2012). Based on the country conditions nation-wide discussed above, there does not appear to be such a place in Honduras at this time, Therefore, the Lead Respondent could not avoid future persecution by relocating to another part of Honduras, nor is it reasonable to expect her to do so. Matter of A-B-, 27 I&N Dee. at 344-45, 6. Discretion ‘The Lead Respondent merits relief as a matter of discretion, Although she came to the United States illegally, and circumvented procedures for orderly processing of refugees, she did not\""
   ]
  },
  {
   "cell_type": "code",
   "execution_count": 10,
   "metadata": {
    "id": "X93hFpBL5jtN"
   },
   "outputs": [],
   "source": [
    "df.iloc[20, 1] = \"DEPARTMENT OF JuSTIC! OFFICE FOR IMMIGRATION REVIEW IMMIGRATION COURT 31 HOPKINS PLAZA, ROOM 440 BALTIMORE, MD 21201 University of Baltimore School o} Law eyes, Eli School of Law Clinical Prog 1420 N. Charles Street Baltimore, ND 21201 ta the matter of bare | __ Unable to forward - No address provided TH_ Attached is a copy of the decision of the Immigration Judge. This decision is final unless an appeal is filed with the Board of Immigration Appeals within 30 calendar days of the date of the mailing of this written decision for properl your appeal. and fee o: r request Immigration Appeals the Clerk Leesburg Pike, Suite 2000 alls Church, VA 22041 aL the decision of the immigration judge as the result of your F © scheduled deportation or removal hearing This decision is final unless a Notion te Reopen is filed in accordance with Section (3) of tion and Nationality Act, 8 U.S.C. § 1252b(c) (3) in deportation proceedings or section 240(b) (51(C), 6 U.S.C. § 1229a(b) (5) (C) in removal proceedings. If you file a motion to reopen, your motion must be filed with this cour IMMIGRATION COURT 31 HOPKINS PLAZA, ROOM 440 BALTIMORE, MD 21201 Attached is a copy of the decision of the immigration judge relating to a uant to 8 C.F.R. § ative appeal is available. However, you may in 30 days with Reasonable Fear Review. This is a final order. Pu 1208.31(g) (1), no admin: a petition for review w © appeal this Attached is a copy of the decision of the immigration judge relating t redible Fear Review. This is a final order. No appeal is available V.WASHINGTON COURT CLERK IMMIGRATION COURT PF UNITED STATES DEPARTMENT OF JUSTICE EXECUTIVE OFFICE FOR IMMIGRATION REVIEW UNITED STATES IMMIGRATION COURT BALTIMORE, MARYLAND IN THE MATTER OF : IN REMOVAL DP} CHARGE: Section 212(a)(6)(A)(i) of the Immigration and Nationality Act (Act), as amended, in that you are an alien present in the United States without being admitted or paroled, or who entered in the United States at any time or place other than as designated by the Attorney General APPLICATIONS: Asylum under Section 208 of the Act; Withholding of Removal under Section 241(b)(3) of the Act; and Relief under Article 3 of the Convention against Torture (Torture Convention), 8 C.F.R. Section 208.16 et seq. APPEARANCES ON BEHALF OF RESPONDENT: ON BEHALF OF THE DEPARTMENT: Elizabeth Keyes, Attorney at Law Riya Resheidat, Assistant District Counsel University of Baltimore School of Law 31 Hopkins Plaza, Suite 1600 1420 North Charles Street Baltimore, MD 21201 Baltimore, MD 20201 WRITTEN DECISION AND ORDER L Statement of the Case On i: Department of Homeland Security (Department) placed the Respondent into removal proceedings through the filing of a Notice to Appear. Exh. 1. Inthe Notice to Appear, the Department alleged that the Respondent is a native and citizen of Honduras (and not the United States), who entered the United States at Eagle Pass, Texas on | and was not then admitted or paroled after inspection by an immigration officer. Id. Based on the foregoing allegations, the Department charged the Respondent with removability pursuant to § 212(a)(6)(A)(i) of the Act. Ata master calendar hearing a the Respondent, through counsel, admitted all allegations contained in the Noucet© Appear, claiming that allegation three was incorrect and her entry was oof os. She also conceded the charge of removebility. ‘ng evidence. See § 240(c)(3) of the Act; see also Woodby v. INS, 385 U.S. 276 (1966). As relief from removal, the Respondent filed ‘an Application for Asylum and Withholding of Removal, Form 1-589, with U.S. Citizenship and ‘Therefore, removability is established by clear and com Immigration Services (USCIS), who had initial jurisdiction over her application since she entered as an unaccompanied child. See William Wilberforce Trafficking Victims Protection and Reauthorization Act of 2008 (TVPRA), Public Law 110-457. i: 5, the Respondent's asylum application was referred to the Court. Exhs. 3 At an individual hearing i: both parties presented arguments, since the Respondent had been sworn to the application and it was conceded that there was no issue as to her credibility, and the only issue was whether Respondent was barred from receiving asylum or withholding of removal for having committed a serious nonpolitical crime. At the close of the hearing, the Court reserved decision to further review the evidence and testimony presented. Tl. Documentary Evidence © Exhibit 1, Notice to Appear, date 2014 © Exhibit 2, Record of Deportable/ je Alien, Form 1-213 The Note Apes IMM te Respro not av aire rth ne. Exh 1 However, the specie date has RNBEETNgOTmer removably 2 * Exhibit 3, Respondent’s Application for Asylum, Withholding of Removal, and Relief under the Torture Convention, Form 1-589 A. Respondent’s Declaration (Submitted to Asylum Office in B Respondents Supplemental Declaration ‘Submitted to Asylum Office ater C. Office of Refugee Resettlement (ORR), Admission Assessment/ History, dated Discharge Instructions, dated| inary Service Plan, F, (No submission) G. Psychiatric Assessment, dated i H P| reatment Center, Individual Counseling Goals and Objectives, dated July |W, Progress Note, dated| Treatment Center, Medical Discharge Summary Websites of “Hogar San Rafael” and “Street Children in Honduras” |. Monica Ramirez and Anne K. Ream, Migrant Children are Fleeing a Region Rife with Sexual Violence, New Republic (July 2014) Office of the United Nations High Commissioner for Human Rights (UNHCR), Special Rapporteur on violence against women finalizes country mission to Honduras and calls for urgent‘action to address the culture of impunity for crimes against women and girls (July 2014) State Department, 2013 Report on Human Rights for Honduras (Excerpt) Kyra Gurney, Report Details How El Salvador Gangs Use Rape as Weapon, InSight Crime (Nov. 2014) Inter-American Commission on Human Rights, Annual Report on the Int American Commission on Human Rights 2011, December 30, 2011 (Excerpt) Annie Kelly, Honduran Police Turn a Blind Bye to Soaring Number of Femicides,’ The Guardian, May 28, 2011 International Organization of Migration, Fatal Journeys: Tracking Lives Lost during Migration, 2014 (Excerpt) Eline Gordts, // Numbers to Help You Understand the Violence Rocking Mexico, Huffington Post (October 31, 2014) John Burnett, Migrants Say They're Unwilling Mules for Cartels, NPR (Dec. 4, 2011) Canada Immigration and Refugee Board, Honduras: Information on the structure and hierarchy of main gangs; gang recruitment of children (Dec. 2014) + Exhibit 4, Respondent's Supporting Documents, fle P| W. Respondent’s Revised Declaration X. Statements from Employees of Y._ Letter fro Z. Respondent's Performance and Development Summary from the AA. State Department, 2016 Report on Human Rights for Honduras BB. Internal Crisis Group, Mafia of the Poor: Gang Violence and Extortion in Central America (2017) CC. UNHCR, Eligibility Guidelines for Assessing the International Protection Needs of Asylum-Seckers from Honduras (July 2016) DD. Cardenas, Nina Lakhanai, Mexican kidnappers pile misery onto Central Americans fleeing violence, The Guardian (Feb. 21,2017) EB. State Department, 2016 Trafficking in Persons Report ~ Honduras FE, InSight Crime, The Problen: With Counting Gang Members in Honduras (2016) GG. Department Memo: Exercising of Authority Under Sec. 212(d)(3)(B)(i) of the Immigration and Nationality Act + Exhibit 5, Resume and Letter from Psychotherapist | | + Exhibit 6, USCIS Assessment to Refer Respondent’s Asylum Application and Record of Swom Statement of Responder ia II. Statement of the Case A detailed account of Respondent's claim is provided in her sworn declaration. See generally Exh. 4, Tab W. Respondent was born zz: at 1. She was abandoned by her mother and father when she was USPTOUPYears Of and was raised by her sister I 4. Her fath she only speaks to her mother about once or twice a year. Jd. In her declaration, Respondent fas an abusive alcoholic with whom she has no contact and that stated thal treated her like a maid and “physically abuse{d] her with her hands and electric cables,” causing permanent scars. Id. at 1-2. According to the Resporden I also tried to kill her by putting Clorox in her food. Jd. at 2. Respondent was raped by her two uncles and a cousin when she was just six years old. Jd. She said that she was picking cacao leaves in a field when three hooded figures approached her, tied her up, and raped her in tum. Jd. She recognized them as her relatives and later reported the assault to her mother, who beat her for suggesting it. Id. 2 At the merits hearing o} this piece of evidence was marked for identification, Because it was relied on by both parties fer arguments to the Court, it will now be admired into evidence as Exh. 6. 4 Respondent was first approached by the Mara 18 gang when she was ten years old. Id. She initially resisted recruitment and they threatened to kill her family. Id, She tried to avoid going out in public for fear that they would approach her again. [d. About six months later, she went to Tegucigalpa to find work when she was approached by two men who offered to help her obtain employment, Jd, at 2-3. She seid that she followed them in the hopes of getting a job, but, instead, they took her to a remote area and raped her. /d, at 3. As soon as she could, Respondent ran to a nearby police station and informed a police officer there that she had been raped. He told her that he “could not help [her] without any evidence.” Jd. Respondent then returned to her hometown, where she was again approached by Mara 18 members who pushed her to join their gang. She explained that she gave in to their demands because she was tired and had no other family that was “willing to take care of” her. Jd. She stated that they immediately threatened to kill her if she ever refused to follow instructions and forced her to have sex with gang members. Id. The Respondent noted that they also made her “hurt people” on behalf of the gang. Jd. She seid that gang members tortured her when she did not “comply with their orders.” Id. ‘The Respondent said that she saw one of the uncles who raped her again in early 2014 and he told her that she “looked pretty.” /d. Based on that interaction, she believed that he would rape her again if she remained in Honduras. /d. Later that year, her other sister| FEB sccstea that the Respondent come with her to the United States and the Respondent jumped at the chance to leave the gang and establish a new life elsewhere. Jd. The Respondent explained that she an raveled through Mexico on their way to the United States and [I +: sconded with aman they met on the journey, leaving the Respondent to fend for herself. [d. at 3-4, The Respondent stated that she tried to find her sister and was ultimately raped by a man who pretended to help her look o at 4, ‘The Respondent continued to search for her sister and eventually got onto a train where she was detained by someone impersonating an immigration officer. Id. at 4~§. According to the Respondent, this man was actually a “sicario” (hitman), who locked her in @ dark room for a long period of time before he forced her to sell “crystal rocks” to people waiting outside. Id. at 5. The Respondent stated that the “sicario” and his men raped her and threatened to kill her if she “did not continue having sexual relations with them.” Jd. The Respondent attested that she was able to escape this situation with the help of one of the “sicario’s” men and was able to locate her a stayed vit she ultimately entered the United States in Jun| 1d. The Respondent recalled that she was detained by Immigration and Customs Enforcement officers after she entered the United States. 1d. The Respondent stated that she has a great life in the United States. Id. at 6. She explained that she has received necessary medical and psychiatric care since entering the United Jd, She noted that while also attending ESOL classes at the States and that she successfully completed the| she currently works af Hid. She plans to obtain her General Education Degree in the future. 1d, The Respondent fears returning to Honduras because she believes that the gangs will continue to torture her or kill her because she fled fiom them. /d. She noted that she cannot rely on her family for protection from gang violence. id. TV. Statement of the Law A. Credibility and Corroboration The REAL ID Act of 2005 amended various sections of the Act relating to relief from removal. Specifically, the Act was amended to include section 240(c)(4)(B), which provides that in order for an applicant for relief from removal to sustain her burden of establishing eligibility for such relief, she must “comply with the applicable requirements to submit information or documentation” in support of such application. Further, the Court must determine whether testimonial evidence “is credible, is persuasive, and refers to specific facts” sufficient to satisfy the applicant's burden of proof, and weigh such evidence with other evidence in the record. Uncorroborated testimony that is credible, persuasive, and specific may be sufficient to sustain the burden of proof. Cf § 208(b}(1)(B)(ii) of the Act; 8 C.F.R. § 1208.13(a). However, where it is reasonable to expect corroborating evidence for certain alleged facts, such evidence should be provided as long as the applicant has the evidence or can reasonably obtain it. Cf Matier of S-McJ-, 21 1&N Dec. 722, 725 (BIA 2000). The absence of such corroboration may lead to a finding that an applicant has failed to meet her burden of proof. Matter of S-M-J-, 21 1&N Dec. 722, 725-26 (BIA 2000). Nonetheless, the immigration judge must provide the applicant an ‘opportunity to explain the lack of corroborating evidence and ensure that the applicant’s in-Jian v. Gonzales, 489 F.3d 182, 192 (4th Cir, 2007). explanation is included in the record. Id; The Board has made clear that applicants cannot meet their burden of proof by “general and vague”” testimony, and “the weaker an [applicant's] testimony, the greater the need for corroborative evidence.” Matter of Y-B-, 21 I&N Dec. 1136, 1139 (BIA 1998). B. Asylum To qualify for a grant of asylum, an applicant bears the burden of demonstrating that she meets the statutory definition of a refugee. Sections 101(a)(42)(A), 208(b)(1)(A) of the Act ‘The Act defines the term “refugee” as any person who is outside her country of nationality who is unable or unwilling to return to and is unable or unwilling to avail herself of the protection of that country because of past persecution or a well-founded fear of future persecution on account of race, religion, nationality, membership in a particular social group, or political opinion. Section § 101(a)(42)(A) of the Act; 8 C.F.R. § 1208.13(b). When the alleged persecutor is a private actor, the applicant also bears the burden of showing that her “home government was “unable or unwilling to control” her persecutors. Matter of A-B-, 27 1&N Dee. 316, 330 (A.G. 2018) 1. Persecution In order to establish a claim for either asylum or withholding of removal, an applicant must demonstrate that the harm she fears constitutes persecution under the Act, Section 101(a}(42)(A) of the Act. The Board has interpreted “persecution” to include serious threats to an individual’s life or freedom, or the infliction of significant harm on the applicant, as a means cf punishing that person for holding a characteristic that the persecutor seeks (o overcome. ‘Matter of Acosta, 19 1&N Dee. 211, 223 (BIA 1985). To establish past persecution, the applicant must demonstrate that she suffered persecution in her country of nationality on account of an actual or imputed protected ground, and that she is unable or unwilling to return to, or avail herself of the protection of that country because of such persecution. 8 C.F.R. § 1208.13(b)(1). Not every act of discrimination or harassment rises to the level of persecution, as persecution is “an extreme concept that does not include every sort of treatment that our society regards as offensive.” Li v. Gonzales, 405 F.3d 171, 177 (4th Cir. 2005) (internal quotation marks omitted). However, cumulative incidents in the aggregate may rise to the level of persecution. See Baharon v. Holder, 588 F.3d 228, 232-33 (4th Cir, 2009); see also Matter of O-Z- and I-Z-, 22 T&N Dec. 23, 26 (BIA 1998) If the applicant demonstrates past persecution on account of a protected ground, she will benefit from a rebuttable presumption of a well-founded fear of future persecution. 8 CER. § 1208.13(b)(1). ‘The Department can rebut the presumption by showing that the applicant's fear is no longer well-founded due to a fundamental change in circumstances or that the applicant could avoid future persecution by relocating to another part of the country and that, under all the circumstances, it would be reasonable to require her to do so. 8 CFR. § 1208.13(b)(1)(i) - (ii. fan applicant has not met her burden of demonstrating past persecution, the alien bears the burden to show a well-founded fear of future persecution by a preponderance of the evidence. Lopez-Soto v. Ashcroft, 383 F.3d 228, 234 (4th Cir. 2004), A well-founded fear of persecution must be both subjectively genuine and objectively reasonable, INS v, Cardoza-Fonseca, 480 U.S. 480 U.S. 421, 430-31 (1987). To meet this standard, an applicant must possess a subjective fear and must also demonstrate that “a reasonable person in similar circumstances would fear persecution on account of” one or more of the protected grounds, Blanco de Belbruno v. Asherofi, 362 F.3d 272, 284 (4th Cir. 2004) (citing Cruz-Diaz v. INS, 86 F.3d 330, 331 (4th Cir. 1996)); see also 8 CFR. § 1208.13(b)(1) ~ (2) Credible testimony by an applicant may be enough to satisfy the subjective component, depending on the circumstances. Once a subjective fear of persecution is established, the applicant need only show that such fear is grounded in reality to meet the objective element of the test; that is, she must present credible, specific and detailed evidence that a reasonable person in her position would fear persecution. The applicant’s fear may be well-founded even if there is only a slight, though discernible, chance of persecution. INS v. Cardoza-Fonseca, 480 U.S. at 431. 2. Nexus to a Protected Ground An applicant for asylum must also demonstrate that the persecution she experienced or fears would be inflicted “on account of” her race, religion, nationality, membership in a particular social group, or political opinion, 8 C.F.R. § 1208.13(b)(2)(i)(A). Even treatment that is regarded as “morally reprehensible” is not “persecution” within the meaning of the Act unless it occurs “on account of” one of the five enumerated grounds. Matter of T-M-B-, 21 I&N Dee. 775, 777 (BIA 1997). In essence, the applicant must demonstrate that her race, religion, nationality, particular social group, or political opinion would be “at least one central reason” for the persecutor’s actions against her. Section 208(b)(1)(BX(i) of the Act; INS v. Elias-Zacarias, 502 U.S. 478 (1992). 3. Particular Social Group Membership in a particular social group is one of the five enumerated grounds upon which an applicant may base her claim for asylum or withholding of removal. 8 CFR. §§ 1208.13(b), 1208.16(b). To demonstrate persecution on account of membership in a particular social group, an applicant must establish that the group is (1) composed of members who share a common immutable characteristic, (2) defined with particularity, and (3) socially distinct within the society in question. See Matter of A-B-, 27 1&N Dee. at 317; Matter of M-E-V-G-, 26 T&N Dec. 227 (BIA 2014); Matter of W-G-R-, 26 I&N Dec. 208 (BIA 2014); see also Matter of Acosta, 19 I&N Dec. at 212. The group must exist “independently of the alleged underlying, harm.” Matter of A-B-,27 IN Dee. at 317. The shared characteristic “must be one that the members of the group either cannot change, or should not be required to change because it is fundamental to their individual identities or consciences.” See Matter of M-E-V-G-, 26 1&N Dec. at 231 (internal quotation marks omitted), The common characteristic may be as innate as sex, color, or kinship ties, or as subtle as a shared past experience, and will be determined on a case-by-case basis. See Matter of Acosta, 19 I&N Dee. at 2335 see also Matter of M-E-V-G-, 26 I&N Dec. at 251. The “particularity” requirement concerns the boundaries of the proposed social group, while the “social distinction” requirement demands that the members of the proposed social group are significantly set apart from others within the community in question, See Matter of A-B-,27 18N Dec. at 330; Matter of M-E-V-G-, 26 I&N Dec. at 238; see also Matter of W-G-R-, 26 1&N Dec. at 214, 216-17, 4. Serious Nonpolitical Crime Bar ‘An applicant is statutorily ineligible for asylum or withholding of removal under the Act if “there are serious reasons for believing that the alien committed a serious nonpolitical crime outside the United States prior to the arrival of the alien in the United States.” Section 208 (b)(2)(A) (iii) of the Act; see also 24 1(b)(3)(B)(iii) of the Act. ‘The initial burden falls on the Department to provide evidence that a ground for mandatory denial of the application for relief applies, afler which the burden of proof shifts to the applicant seeking the relief to establish, by a preponderance of the evidence that such grounds “do not apply.” 8 C.F.R. § 1240.8(d); ef Matter of S-K-, 23 1&N Dec. 936, 939 (BIA 2006) (explaining burdens of proof in the context of a different mandatory ground for denial). It need not be determined definitively whether an applicant actually committed a serious nonpolitical crime. Rather, it is “enough to find that there are serious reasons for considering that [sJhe has committed such a crime.” Matter of Ballester-Garcia, 17 1&N Dec. 592, 595 (BIA 1980) (internal quotation marks omitted). “Serious reasons for believing” is equivalent to probable cause, Matter of E-A-, 21 1&N Dee. 1, 3 (BIA 2012). In determining the seriousness of the offense, the Court must look to the “atrociousness” of the alleged criminal behavior. INS v, Aguirre-Aguirre, 526 U.S. 415, 422 (1999). When the purported crime is not “obviously heinous,” the Court must consider additional factors in deciding whether or not the applicant's actions constitute a serious nonpolitical crime. Ballester- Garcia, 17 1&N Dec. at 595. These factors include, “the alien's description of the crime, the turpitudinous nature of the crime according to [Board] precedents, the value of any property involved, the length of sentence imposed and served, and the usual punishments imposed for ‘comparable offenses in the United States.” Id. Analyzing whether an applicant has committed a serious nonpolitical crime requires a determination as to whether the offense is political in nature. Matter of McMullen, 19 I&N Dec. 90 (BIA 1984). A crime is political if “the political aspects of the offense outweigh its common- law character.” Id. at 97-98; see also Aguirre-Aguirre, 526 U.S. at 425. C. Withholding of Removal Pursuant to § 241(b)(3) of the Act To establish eligibility for withholding of removal under the Act, an applicant must demonstrate that her “life or freedom would be threatened in that country because of the [applicant's] race, religion, nationality, membership in a particular social group, or political opinion.” Section 241(b)(3)(A) of the Act. Specifically, the applicant must establish that it is more likely than not that she will be subjected to persecution if returned to the country from which she claims protection. & C.F.R. § 1208.16(b)(1)(i); see also INS v, Stevie, 467 U.S. 407, 429-30 (1984); Cardoza-Fonseca, 480 U.S. at 423. An applicant who fails to demonstrate the well-founded fear of persecution required for asylum will necessarily fail to meet the higher burden of proof required for withholding of removal. See Mirisawo v, Holder, $99 F.3d 391, 396 (4th Cir. 2010); Camara v. Ashcroft, 378 F.3d 361, 367. 10 D. Protection under the Convention Against Torture To be extended protection under Article 3 of the Torture Convention, an applicant must establish that it is “more likely than not that he or she would be tortured if removed to the proposed country of removal.” 8 C.F.R. §§ 1208.16(c)(2), 1208.17(a). “Torture” is defined, in part, as the intentional infl jon of severe pain or suffering by a public official, at the instigation of a public official, or with the consent or acquiescence of a public official. 8 C.F.R. § 1208.18(a)(1). Only “extreme form{s] of cruel and inhuman treatment” torture. Matter of J-E-, 23 [&N Dec. 291, 297 (BIA 2002). Before an applicant will qualify for protection under the Torture Convention, “specific grounds must exist that indicate the individual would be personally at risk.” Matter of S-V-, 22 I&N Dec. 1306, 1313 (BIA 2000). ‘The mere existence of a pattern of human rights violations in a country does not constitute a to the level of sufficient ground for finding that a particular person would more likely than not be tortured, Id. Vv. Arguments ‘The Respondent, through counsel, asserts that the Respondent is eligible for asylum as she suffered persecution on account of her membership in four distinct particular social groups, namely (1) Honduran girls viewed as property by their families,” (2) “Honduran women viewed as gang property and unable to leave,” (2) “former gang members,” and (4) “Honduran females.” Respondent's counsel also argues that the acts she performed while she was under the control of the MS-13 gang were not serious nonpolitical crimes as they were committed “under duress and with enormous regret.” The Respondents counsel claims that the definition of a serious nonpolitical crime centers on the “atrociousness” of the act and the intent to commit the crime, Counsel contends that the Respondent lacked the requisite mindset that would make the actions “atrocious.” Counsel argues that the Respondent's participation in the gang was “limited toa few things.” Counsel highlights the fact that the Respondent was under the gang’s control during most of her youth, as she was forcefully recruited when she was ten years old and did not escape until she entered the United States with her sister when she was seventeen years old. Counsel contends that the Respondent, as a victim of repeated rapes and abuse, had experienced a serious level of trauma that left her in a vulnerable position, and that this trauma factored into her participation in the gang’s activities. Counsel also claims that, even if the Respondent had committed a serious nonpolitical crime, she did so under duress, Counsel argues that the serious nonpolitical crime bar is ist analogous to the persecutor bar and, as such, the Court should apply the duress exception outlined in Matter of Negusie, 27 1&N Dec. 347 (BIA 2018). Respondent’s counsel argues that under the Negusie test, the Respondent must demonstrate that she: (1) acted under imminent threat of death or serious bodily injury to herself or others; (2) believed that the threatened harm ‘would be carried out; (3) had no reasonable opportunity to escape or otherwise frustrate the threat; (4) did not place herself in a situation in which she knew or should have known that she would likely be forced to act; and (5) knew or should have known that the harm she inflicted was not greater than the threatened harm. /d. Counsel argues that the Respondent meets all five prongs of this test. ‘The Department's attorney asserts that none of the Respondent’s proposed particular social groups are cognizable under Maiter of A-B-, 27 1&N Dec. 316 (A.G. 2018) as the groups do not exist independently of the harm suffered. ‘The Department also claims that the Respondent has not met her burden to show that the serious nonpolitical bar does not apply to her asylum appli ion. The Department argues that the acts that the Respondent perpetrated while she was in a gang were certainly serious ical crimes under Matter of F-A-, 21 18N Dec. 1 (BIA 2012), and that there is no specific evil intent required for the bar. nonpol ‘The Department contests the Respondent's argument that there is a duress exception for the serious nonpolitical crime bar as Negusie applies to the persecutor bar and there is no case Jaw that supports such a finding in this instance, Additionally, the Department alleges that, even if the Court were to apply the five factor test in Negusie to the case at hand, the Respondent could not establish that she committed the acts under duress, Specifically, the Department argues that the Respondent had a “reasonable opportunity” to escape, but chose to return to gang life. The Department also contends that the Respondent would perform some of the acts of her own volition and that gang members would stop her when she got “out of control.” VL. Findings ‘The Court has considered the arguments of both parties and the entire record carefully. All evidence and testimony has been considered, even if not specifically addressed in the decision. A. Credibility ‘The parties agreed that the materials submitted by Respondent were credible and there ‘was no reason for her to testify. These materials show that at her asylum interview she provided credible responses to the questions asked, including those answers that would place her in legal jeopardy. See generally Exh, 6. For this reason, the asylum officer explicitly found the Respondent credible, noting that her “testimony was detailed, consistent and plausible.” Exh, 6 at 2. After considering the totality of the evidence, the Court finds that the Respondent's claim is credible. B, Asylum 1. Persecution On Account of a Protected Ground? ‘The Respondent suffered persecution on account of her membership comprised of “Honduran females.” [d, The social group is composed of individuals who share common, immutable characteristics, namely sex and nationality. See Matter of Acosta, 19 1&N Dec. at 212, The Board in Matter of Acosta held that sex is an immutable characteristic as itis something that “members of the group either cannot change, or should not be required to change because it is fundamental to their identities.” 19 IGN Dee. at 233. Nor isit possible for someone to amend their nationality in order to avoid certain kinds of treatment. id. Accordingly, the particular social group of Honduran women satisfies the immutability requirement. The particular social group also is socially distinct as it is recognized as a group by the community at large. Country conditions reports and articles explain that Honduran society views “Honduran females” as a separate and distinct group in their community. By virtue of being “female,” Honduran women are more likely to experience certain kinds of harm, including rape and femicide. Exh, 3, Tab P at 54 (stating that “femicide is the leading cause of death for young women” in Honduras); Exh. 4, Tab CC at 145 (noting that “sexual and gender-based violence against women and girls is reportedly widespread, as is the forcible recruitment of girls to carry There is an argument thatthe Department should be held to its concession on September 28, 2017, that, notwithstanding the serious nonpolitcal crime bar, the Respondent was eligible for asylum. Cf: Matier of Velasques, 19 1&N Dec. 377, 362 (BIA 1986) (holding thet respondents are bound by prior counsel's concession of removability). While Mater of 4-Bs,271BN Des, 316 (A.G. 2018) as issued after that concession, before the fedoral district court in Grace etal. v. Whitaker, ‘No, 18-CV01853 (US. District Cour for D.C, Dec. 19, 218), see, eg. slip apa 60, the government took the pasion that nothing in that decision was new law, However, given the Atiomey General's express dislike forthe concessions made in Mauer Of 4B the Coun will engage in a complete analysis a the evidence before it in this mater. B out tasks for the gangs”). Additionally, Honduran women face discrimination in the workforce based on their gender, as well as @ significant disparity in pay between them and their male counterparts. Exh. 4, Tab AA at 52. Women in Honduras are also expected to be the primary caregivers for their children, whereas, men are the primary breadwinners. Id. at $0. In Honduran society, gender roles are narrowly defined and enforced. Id. Because the evidence in the record supports the fact that Honduran society views “Honduran females” as a group, the social distinction requirement is satisfied. Similarly, the group is particular as it is “defined by characteristics\""
   ]
  },
  {
   "cell_type": "code",
   "execution_count": 11,
   "metadata": {
    "colab": {
     "base_uri": "https://localhost:8080/",
     "height": 948
    },
    "id": "j1BA5Hu24kYD",
    "outputId": "026879bc-fa02-4663-8aa7-e5f84fcdcd5b"
   },
   "outputs": [
    {
     "data": {
      "text/html": [
       "<div>\n",
       "<style scoped>\n",
       "    .dataframe tbody tr th:only-of-type {\n",
       "        vertical-align: middle;\n",
       "    }\n",
       "\n",
       "    .dataframe tbody tr th {\n",
       "        vertical-align: top;\n",
       "    }\n",
       "\n",
       "    .dataframe thead th {\n",
       "        text-align: right;\n",
       "    }\n",
       "</style>\n",
       "<table border=\"1\" class=\"dataframe\">\n",
       "  <thead>\n",
       "    <tr style=\"text-align: right;\">\n",
       "      <th></th>\n",
       "      <th>uuid</th>\n",
       "      <th>full_text</th>\n",
       "    </tr>\n",
       "  </thead>\n",
       "  <tbody>\n",
       "    <tr>\n",
       "      <th>0</th>\n",
       "      <td>09f26e70-c0ee-4609-b0c9-b1e8364f70b0</td>\n",
       "      <td>UNITED STATES DEPARTMENT OF JUSTICE EXECUTIVE ...</td>\n",
       "    </tr>\n",
       "    <tr>\n",
       "      <th>1</th>\n",
       "      <td>2020.02.19 Asylum grant_Redacted</td>\n",
       "      <td>UNITED STATES OEPARTMENT OF JUSTICE EXECUTIVE ...</td>\n",
       "    </tr>\n",
       "    <tr>\n",
       "      <th>2</th>\n",
       "      <td>2cd9ed36-9ddb-4c7e-b910-d35d774329fb</td>\n",
       "      <td>UNITED STATES DEPARTMENT OF JUSTICE EXECUTIVE ...</td>\n",
       "    </tr>\n",
       "    <tr>\n",
       "      <th>3</th>\n",
       "      <td>2cd9ed36-9ddb-4c7e-b910-d35d774329fb</td>\n",
       "      <td>provide a clear benchmark for determining who ...</td>\n",
       "    </tr>\n",
       "    <tr>\n",
       "      <th>4</th>\n",
       "      <td>Annotated Decision for Coding Check, Initial H...</td>\n",
       "      <td>Regan TED STATES DEPARTMENT OF JUSTICE TIVE OF...</td>\n",
       "    </tr>\n",
       "    <tr>\n",
       "      <th>5</th>\n",
       "      <td>Annotated Decision for Coding Check, Initial H...</td>\n",
       "      <td>Carlos treated her. Id. After the Respondent r...</td>\n",
       "    </tr>\n",
       "    <tr>\n",
       "      <th>6</th>\n",
       "      <td>Asylum Grant Honduran Business Owners</td>\n",
       "      <td>INMIGRATION COURT 525 W. VAN BUREN, SUITE 500 ...</td>\n",
       "    </tr>\n",
       "    <tr>\n",
       "      <th>7</th>\n",
       "      <td>Asylum Grant Honduran Business Owners</td>\n",
       "      <td>of her story, because she was afraid it would ...</td>\n",
       "    </tr>\n",
       "    <tr>\n",
       "      <th>8</th>\n",
       "      <td>Asylum Grant Honduran Business Owners</td>\n",
       "      <td>In Martinez-Buendia, Ms. Martinez had refused ...</td>\n",
       "    </tr>\n",
       "    <tr>\n",
       "      <th>9</th>\n",
       "      <td>Chicago Immigration Judge - Post-AB Domestic V...</td>\n",
       "      <td>UNITED STATES DEPARTMENT OF JUSTICE EXECUTIVE ...</td>\n",
       "    </tr>\n",
       "    <tr>\n",
       "      <th>10</th>\n",
       "      <td>Family PSGAnti-gangPO - IJ Feder 9.18.19_Redac...</td>\n",
       "      <td>Ko O UNITED STATES DEPARTMENT OF JUSTICE EXECU...</td>\n",
       "    </tr>\n",
       "    <tr>\n",
       "      <th>11</th>\n",
       "      <td>Family PSGAnti-gangPO - IJ Feder 9.18.19_Redac...</td>\n",
       "      <td>(A.G. 2017), overruled by Matter of -E-A-,27 1...</td>\n",
       "    </tr>\n",
       "    <tr>\n",
       "      <th>12</th>\n",
       "      <td>Honduran Garifuna Asylum Grant IJ Laforest - N...</td>\n",
       "      <td>UNITED STATES DEPARTMENT OF JUSTICE EXECUTIVE ...</td>\n",
       "    </tr>\n",
       "    <tr>\n",
       "      <th>13</th>\n",
       "      <td>Honduran Women, Redacted Asylum Grant, Arlingt...</td>\n",
       "      <td>UNITED STATES DEPARTMENT OF JUSTICE EXECUTIVE ...</td>\n",
       "    </tr>\n",
       "    <tr>\n",
       "      <th>14</th>\n",
       "      <td>Honduran Women, Redacted Asylum Grant, Arlingt...</td>\n",
       "      <td>provide a clear benchmark for determining who ...</td>\n",
       "    </tr>\n",
       "    <tr>\n",
       "      <th>15</th>\n",
       "      <td>Honduras.Women in domestic relationships asylu...</td>\n",
       "      <td>UNITED STATES DEPARTMENT OF JUSTICE EXECUTIVE ...</td>\n",
       "    </tr>\n",
       "    <tr>\n",
       "      <th>16</th>\n",
       "      <td>Honduras.Women in domestic relationships asylu...</td>\n",
       "      <td>The Lead Respondent’s particular social group ...</td>\n",
       "    </tr>\n",
       "    <tr>\n",
       "      <th>17</th>\n",
       "      <td>Honduras.Women in domestic relationships asylu...</td>\n",
       "      <td>commit the fraud that was committed by the res...</td>\n",
       "    </tr>\n",
       "    <tr>\n",
       "      <th>18</th>\n",
       "      <td>IJ decision Brazilian National (9th Cir.)</td>\n",
       "      <td>UNITED STATES DEPARTMENT OF JUSTICE EXECUTIVE ...</td>\n",
       "    </tr>\n",
       "    <tr>\n",
       "      <th>19</th>\n",
       "      <td>IJ decision Brazilian National (9th Cir.)</td>\n",
       "      <td>Two Members of Brazil's MST Landless Movement ...</td>\n",
       "    </tr>\n",
       "    <tr>\n",
       "      <th>20</th>\n",
       "      <td>IJ Decision in another UB Case w serious non-p...</td>\n",
       "      <td>DEPARTMENT OF JuSTIC! OFFICE FOR IMMIGRATION R...</td>\n",
       "    </tr>\n",
       "    <tr>\n",
       "      <th>21</th>\n",
       "      <td>IJ Decision in another UB Case w serious non-p...</td>\n",
       "      <td>that provide a clear benchmark for determinin...</td>\n",
       "    </tr>\n",
       "    <tr>\n",
       "      <th>22</th>\n",
       "      <td>Nicaragua - DV - IJ Rubin Newark, NJ (2020)</td>\n",
       "      <td>UNITED STATES DEPARTMENT OF JUSTICE RECUTIVE O...</td>\n",
       "    </tr>\n",
       "    <tr>\n",
       "      <th>23</th>\n",
       "      <td>Nicaragua - DV - IJ Rubin Newark, NJ (2020)</td>\n",
       "      <td>presumption that the Respondent has a well- fo...</td>\n",
       "    </tr>\n",
       "    <tr>\n",
       "      <th>24</th>\n",
       "      <td>Redacted Grant, PSG Guatemalan Women</td>\n",
       "      <td>UNITED STATES DEPARTMENT OF JUSTICE EXECUTIVE ...</td>\n",
       "    </tr>\n",
       "    <tr>\n",
       "      <th>25</th>\n",
       "      <td>Redacted Grant, PSG Guatemalan Women</td>\n",
       "      <td>establish a cognizable PSG. See C-A:, 23 I&amp;N D...</td>\n",
       "    </tr>\n",
       "    <tr>\n",
       "      <th>26</th>\n",
       "      <td>Redacted IJ Decision _22single Salvadoran moth...</td>\n",
       "      <td>UNITED STATES DEPARTMENT OF JUSTICE, EXECUTIVE...</td>\n",
       "    </tr>\n",
       "    <tr>\n",
       "      <th>27</th>\n",
       "      <td>Redacted_IJ Decision_Asylum grant for false ga...</td>\n",
       "      <td>UNITED SYATES DEPARTMENT OF JUSTICE EXECUTIVE ...</td>\n",
       "    </tr>\n",
       "    <tr>\n",
       "      <th>28</th>\n",
       "      <td>Redacted_IJ Decision_Asylum grant for false ga...</td>\n",
       "      <td>evidence must be provided unless the applicant...</td>\n",
       "    </tr>\n",
       "  </tbody>\n",
       "</table>\n",
       "</div>"
      ],
      "text/plain": [
       "                                                 uuid  \\\n",
       "0                09f26e70-c0ee-4609-b0c9-b1e8364f70b0   \n",
       "1                    2020.02.19 Asylum grant_Redacted   \n",
       "2                2cd9ed36-9ddb-4c7e-b910-d35d774329fb   \n",
       "3                2cd9ed36-9ddb-4c7e-b910-d35d774329fb   \n",
       "4   Annotated Decision for Coding Check, Initial H...   \n",
       "5   Annotated Decision for Coding Check, Initial H...   \n",
       "6               Asylum Grant Honduran Business Owners   \n",
       "7               Asylum Grant Honduran Business Owners   \n",
       "8               Asylum Grant Honduran Business Owners   \n",
       "9   Chicago Immigration Judge - Post-AB Domestic V...   \n",
       "10  Family PSGAnti-gangPO - IJ Feder 9.18.19_Redac...   \n",
       "11  Family PSGAnti-gangPO - IJ Feder 9.18.19_Redac...   \n",
       "12  Honduran Garifuna Asylum Grant IJ Laforest - N...   \n",
       "13  Honduran Women, Redacted Asylum Grant, Arlingt...   \n",
       "14  Honduran Women, Redacted Asylum Grant, Arlingt...   \n",
       "15  Honduras.Women in domestic relationships asylu...   \n",
       "16  Honduras.Women in domestic relationships asylu...   \n",
       "17  Honduras.Women in domestic relationships asylu...   \n",
       "18          IJ decision Brazilian National (9th Cir.)   \n",
       "19          IJ decision Brazilian National (9th Cir.)   \n",
       "20  IJ Decision in another UB Case w serious non-p...   \n",
       "21  IJ Decision in another UB Case w serious non-p...   \n",
       "22        Nicaragua - DV - IJ Rubin Newark, NJ (2020)   \n",
       "23        Nicaragua - DV - IJ Rubin Newark, NJ (2020)   \n",
       "24               Redacted Grant, PSG Guatemalan Women   \n",
       "25               Redacted Grant, PSG Guatemalan Women   \n",
       "26  Redacted IJ Decision _22single Salvadoran moth...   \n",
       "27  Redacted_IJ Decision_Asylum grant for false ga...   \n",
       "28  Redacted_IJ Decision_Asylum grant for false ga...   \n",
       "\n",
       "                                            full_text  \n",
       "0   UNITED STATES DEPARTMENT OF JUSTICE EXECUTIVE ...  \n",
       "1   UNITED STATES OEPARTMENT OF JUSTICE EXECUTIVE ...  \n",
       "2   UNITED STATES DEPARTMENT OF JUSTICE EXECUTIVE ...  \n",
       "3   provide a clear benchmark for determining who ...  \n",
       "4   Regan TED STATES DEPARTMENT OF JUSTICE TIVE OF...  \n",
       "5   Carlos treated her. Id. After the Respondent r...  \n",
       "6   INMIGRATION COURT 525 W. VAN BUREN, SUITE 500 ...  \n",
       "7   of her story, because she was afraid it would ...  \n",
       "8   In Martinez-Buendia, Ms. Martinez had refused ...  \n",
       "9   UNITED STATES DEPARTMENT OF JUSTICE EXECUTIVE ...  \n",
       "10  Ko O UNITED STATES DEPARTMENT OF JUSTICE EXECU...  \n",
       "11  (A.G. 2017), overruled by Matter of -E-A-,27 1...  \n",
       "12  UNITED STATES DEPARTMENT OF JUSTICE EXECUTIVE ...  \n",
       "13  UNITED STATES DEPARTMENT OF JUSTICE EXECUTIVE ...  \n",
       "14  provide a clear benchmark for determining who ...  \n",
       "15  UNITED STATES DEPARTMENT OF JUSTICE EXECUTIVE ...  \n",
       "16  The Lead Respondent’s particular social group ...  \n",
       "17  commit the fraud that was committed by the res...  \n",
       "18  UNITED STATES DEPARTMENT OF JUSTICE EXECUTIVE ...  \n",
       "19  Two Members of Brazil's MST Landless Movement ...  \n",
       "20  DEPARTMENT OF JuSTIC! OFFICE FOR IMMIGRATION R...  \n",
       "21   that provide a clear benchmark for determinin...  \n",
       "22  UNITED STATES DEPARTMENT OF JUSTICE RECUTIVE O...  \n",
       "23  presumption that the Respondent has a well- fo...  \n",
       "24  UNITED STATES DEPARTMENT OF JUSTICE EXECUTIVE ...  \n",
       "25  establish a cognizable PSG. See C-A:, 23 I&N D...  \n",
       "26  UNITED STATES DEPARTMENT OF JUSTICE, EXECUTIVE...  \n",
       "27  UNITED SYATES DEPARTMENT OF JUSTICE EXECUTIVE ...  \n",
       "28  evidence must be provided unless the applicant...  "
      ]
     },
     "execution_count": 11,
     "metadata": {},
     "output_type": "execute_result"
    }
   ],
   "source": [
    "df"
   ]
  },
  {
   "cell_type": "code",
   "execution_count": 12,
   "metadata": {
    "id": "ZnOYvwkh161P"
   },
   "outputs": [],
   "source": [
    "df = df.groupby('uuid')['full_text'].apply(' '.join).reset_index()"
   ]
  },
  {
   "cell_type": "code",
   "execution_count": 13,
   "metadata": {
    "pycharm": {
     "name": "#%%\n"
    }
   },
   "outputs": [
    {
     "data": {
      "text/html": [
       "<div>\n",
       "<style scoped>\n",
       "    .dataframe tbody tr th:only-of-type {\n",
       "        vertical-align: middle;\n",
       "    }\n",
       "\n",
       "    .dataframe tbody tr th {\n",
       "        vertical-align: top;\n",
       "    }\n",
       "\n",
       "    .dataframe thead th {\n",
       "        text-align: right;\n",
       "    }\n",
       "</style>\n",
       "<table border=\"1\" class=\"dataframe\">\n",
       "  <thead>\n",
       "    <tr style=\"text-align: right;\">\n",
       "      <th></th>\n",
       "      <th>uuid</th>\n",
       "      <th>full_text</th>\n",
       "    </tr>\n",
       "  </thead>\n",
       "  <tbody>\n",
       "    <tr>\n",
       "      <th>0</th>\n",
       "      <td>09f26e70-c0ee-4609-b0c9-b1e8364f70b0</td>\n",
       "      <td>UNITED STATES DEPARTMENT OF JUSTICE EXECUTIVE ...</td>\n",
       "    </tr>\n",
       "    <tr>\n",
       "      <th>1</th>\n",
       "      <td>2020.02.19 Asylum grant_Redacted</td>\n",
       "      <td>UNITED STATES OEPARTMENT OF JUSTICE EXECUTIVE ...</td>\n",
       "    </tr>\n",
       "    <tr>\n",
       "      <th>2</th>\n",
       "      <td>2cd9ed36-9ddb-4c7e-b910-d35d774329fb</td>\n",
       "      <td>UNITED STATES DEPARTMENT OF JUSTICE EXECUTIVE ...</td>\n",
       "    </tr>\n",
       "    <tr>\n",
       "      <th>3</th>\n",
       "      <td>Annotated Decision for Coding Check, Initial H...</td>\n",
       "      <td>Regan TED STATES DEPARTMENT OF JUSTICE TIVE OF...</td>\n",
       "    </tr>\n",
       "    <tr>\n",
       "      <th>4</th>\n",
       "      <td>Asylum Grant Honduran Business Owners</td>\n",
       "      <td>INMIGRATION COURT 525 W. VAN BUREN, SUITE 500 ...</td>\n",
       "    </tr>\n",
       "    <tr>\n",
       "      <th>5</th>\n",
       "      <td>Chicago Immigration Judge - Post-AB Domestic V...</td>\n",
       "      <td>UNITED STATES DEPARTMENT OF JUSTICE EXECUTIVE ...</td>\n",
       "    </tr>\n",
       "    <tr>\n",
       "      <th>6</th>\n",
       "      <td>Family PSGAnti-gangPO - IJ Feder 9.18.19_Redac...</td>\n",
       "      <td>Ko O UNITED STATES DEPARTMENT OF JUSTICE EXECU...</td>\n",
       "    </tr>\n",
       "    <tr>\n",
       "      <th>7</th>\n",
       "      <td>Honduran Garifuna Asylum Grant IJ Laforest - N...</td>\n",
       "      <td>UNITED STATES DEPARTMENT OF JUSTICE EXECUTIVE ...</td>\n",
       "    </tr>\n",
       "    <tr>\n",
       "      <th>8</th>\n",
       "      <td>Honduran Women, Redacted Asylum Grant, Arlingt...</td>\n",
       "      <td>UNITED STATES DEPARTMENT OF JUSTICE EXECUTIVE ...</td>\n",
       "    </tr>\n",
       "    <tr>\n",
       "      <th>9</th>\n",
       "      <td>Honduras.Women in domestic relationships asylu...</td>\n",
       "      <td>UNITED STATES DEPARTMENT OF JUSTICE EXECUTIVE ...</td>\n",
       "    </tr>\n",
       "    <tr>\n",
       "      <th>10</th>\n",
       "      <td>IJ Decision in another UB Case w serious non-p...</td>\n",
       "      <td>DEPARTMENT OF JuSTIC! OFFICE FOR IMMIGRATION R...</td>\n",
       "    </tr>\n",
       "    <tr>\n",
       "      <th>11</th>\n",
       "      <td>IJ decision Brazilian National (9th Cir.)</td>\n",
       "      <td>UNITED STATES DEPARTMENT OF JUSTICE EXECUTIVE ...</td>\n",
       "    </tr>\n",
       "    <tr>\n",
       "      <th>12</th>\n",
       "      <td>Nicaragua - DV - IJ Rubin Newark, NJ (2020)</td>\n",
       "      <td>UNITED STATES DEPARTMENT OF JUSTICE RECUTIVE O...</td>\n",
       "    </tr>\n",
       "    <tr>\n",
       "      <th>13</th>\n",
       "      <td>Redacted Grant, PSG Guatemalan Women</td>\n",
       "      <td>UNITED STATES DEPARTMENT OF JUSTICE EXECUTIVE ...</td>\n",
       "    </tr>\n",
       "    <tr>\n",
       "      <th>14</th>\n",
       "      <td>Redacted IJ Decision _22single Salvadoran moth...</td>\n",
       "      <td>UNITED STATES DEPARTMENT OF JUSTICE, EXECUTIVE...</td>\n",
       "    </tr>\n",
       "    <tr>\n",
       "      <th>15</th>\n",
       "      <td>Redacted_IJ Decision_Asylum grant for false ga...</td>\n",
       "      <td>UNITED SYATES DEPARTMENT OF JUSTICE EXECUTIVE ...</td>\n",
       "    </tr>\n",
       "  </tbody>\n",
       "</table>\n",
       "</div>"
      ],
      "text/plain": [
       "                                                 uuid  \\\n",
       "0                09f26e70-c0ee-4609-b0c9-b1e8364f70b0   \n",
       "1                    2020.02.19 Asylum grant_Redacted   \n",
       "2                2cd9ed36-9ddb-4c7e-b910-d35d774329fb   \n",
       "3   Annotated Decision for Coding Check, Initial H...   \n",
       "4               Asylum Grant Honduran Business Owners   \n",
       "5   Chicago Immigration Judge - Post-AB Domestic V...   \n",
       "6   Family PSGAnti-gangPO - IJ Feder 9.18.19_Redac...   \n",
       "7   Honduran Garifuna Asylum Grant IJ Laforest - N...   \n",
       "8   Honduran Women, Redacted Asylum Grant, Arlingt...   \n",
       "9   Honduras.Women in domestic relationships asylu...   \n",
       "10  IJ Decision in another UB Case w serious non-p...   \n",
       "11          IJ decision Brazilian National (9th Cir.)   \n",
       "12        Nicaragua - DV - IJ Rubin Newark, NJ (2020)   \n",
       "13               Redacted Grant, PSG Guatemalan Women   \n",
       "14  Redacted IJ Decision _22single Salvadoran moth...   \n",
       "15  Redacted_IJ Decision_Asylum grant for false ga...   \n",
       "\n",
       "                                            full_text  \n",
       "0   UNITED STATES DEPARTMENT OF JUSTICE EXECUTIVE ...  \n",
       "1   UNITED STATES OEPARTMENT OF JUSTICE EXECUTIVE ...  \n",
       "2   UNITED STATES DEPARTMENT OF JUSTICE EXECUTIVE ...  \n",
       "3   Regan TED STATES DEPARTMENT OF JUSTICE TIVE OF...  \n",
       "4   INMIGRATION COURT 525 W. VAN BUREN, SUITE 500 ...  \n",
       "5   UNITED STATES DEPARTMENT OF JUSTICE EXECUTIVE ...  \n",
       "6   Ko O UNITED STATES DEPARTMENT OF JUSTICE EXECU...  \n",
       "7   UNITED STATES DEPARTMENT OF JUSTICE EXECUTIVE ...  \n",
       "8   UNITED STATES DEPARTMENT OF JUSTICE EXECUTIVE ...  \n",
       "9   UNITED STATES DEPARTMENT OF JUSTICE EXECUTIVE ...  \n",
       "10  DEPARTMENT OF JuSTIC! OFFICE FOR IMMIGRATION R...  \n",
       "11  UNITED STATES DEPARTMENT OF JUSTICE EXECUTIVE ...  \n",
       "12  UNITED STATES DEPARTMENT OF JUSTICE RECUTIVE O...  \n",
       "13  UNITED STATES DEPARTMENT OF JUSTICE EXECUTIVE ...  \n",
       "14  UNITED STATES DEPARTMENT OF JUSTICE, EXECUTIVE...  \n",
       "15  UNITED SYATES DEPARTMENT OF JUSTICE EXECUTIVE ...  "
      ]
     },
     "execution_count": 13,
     "metadata": {},
     "output_type": "execute_result"
    }
   ],
   "source": [
    "df"
   ]
  },
  {
   "cell_type": "code",
   "execution_count": null,
   "metadata": {
    "id": "Ksvb3zka8_8P"
   },
   "outputs": [],
   "source": [
    "# file1 = open('/content/01108e14-b94a-4f59-9a76-9f8cb2f002c2.txt', 'r')\n",
    "# lines = file1.readlines()"
   ]
  },
  {
   "cell_type": "code",
   "execution_count": null,
   "metadata": {
    "id": "rc2DoMUU-3Dw"
   },
   "outputs": [],
   "source": [
    "# text = str(lines)"
   ]
  },
  {
   "cell_type": "code",
   "execution_count": 14,
   "metadata": {
    "id": "Bdm9bbmu5ulQ"
   },
   "outputs": [],
   "source": [
    "def clean_data(text):\n",
    "    \n",
    "    # remove newline characters\n",
    "    text = re.sub('\\n', ' ', text)\n",
    "    \n",
    "    # remove apostrophes\n",
    "    text = re.sub(\"'\", '', text)\n",
    "    \n",
    "    # remove punctuation\n",
    "    text = re.sub('[^a-zA-Z 0-9.]', ' ', text)\n",
    "    \n",
    "    # remove everything that is more than one space\n",
    "    # replace it with just a single space\n",
    "    text = re.sub(\"[ ]{2,}\", ' ', text)\n",
    "    \n",
    "    return text.strip()"
   ]
  },
  {
   "cell_type": "code",
   "execution_count": 15,
   "metadata": {
    "id": "vPtuUfN36CI0"
   },
   "outputs": [],
   "source": [
    "df['clean_text'] = df['full_text'].apply(clean_data)"
   ]
  },
  {
   "cell_type": "code",
   "execution_count": 16,
   "metadata": {
    "colab": {
     "base_uri": "https://localhost:8080/",
     "height": 545
    },
    "id": "iGMnmC0v6B-O",
    "outputId": "9be711f4-e50a-4501-c637-49e8be4b2339"
   },
   "outputs": [
    {
     "data": {
      "text/html": [
       "<div>\n",
       "<style scoped>\n",
       "    .dataframe tbody tr th:only-of-type {\n",
       "        vertical-align: middle;\n",
       "    }\n",
       "\n",
       "    .dataframe tbody tr th {\n",
       "        vertical-align: top;\n",
       "    }\n",
       "\n",
       "    .dataframe thead th {\n",
       "        text-align: right;\n",
       "    }\n",
       "</style>\n",
       "<table border=\"1\" class=\"dataframe\">\n",
       "  <thead>\n",
       "    <tr style=\"text-align: right;\">\n",
       "      <th></th>\n",
       "      <th>uuid</th>\n",
       "      <th>full_text</th>\n",
       "      <th>clean_text</th>\n",
       "    </tr>\n",
       "  </thead>\n",
       "  <tbody>\n",
       "    <tr>\n",
       "      <th>0</th>\n",
       "      <td>09f26e70-c0ee-4609-b0c9-b1e8364f70b0</td>\n",
       "      <td>UNITED STATES DEPARTMENT OF JUSTICE EXECUTIVE ...</td>\n",
       "      <td>UNITED STATES DEPARTMENT OF JUSTICE EXECUTIVE ...</td>\n",
       "    </tr>\n",
       "    <tr>\n",
       "      <th>1</th>\n",
       "      <td>2020.02.19 Asylum grant_Redacted</td>\n",
       "      <td>UNITED STATES OEPARTMENT OF JUSTICE EXECUTIVE ...</td>\n",
       "      <td>UNITED STATES OEPARTMENT OF JUSTICE EXECUTIVE ...</td>\n",
       "    </tr>\n",
       "    <tr>\n",
       "      <th>2</th>\n",
       "      <td>2cd9ed36-9ddb-4c7e-b910-d35d774329fb</td>\n",
       "      <td>UNITED STATES DEPARTMENT OF JUSTICE EXECUTIVE ...</td>\n",
       "      <td>UNITED STATES DEPARTMENT OF JUSTICE EXECUTIVE ...</td>\n",
       "    </tr>\n",
       "    <tr>\n",
       "      <th>3</th>\n",
       "      <td>Annotated Decision for Coding Check, Initial H...</td>\n",
       "      <td>Regan TED STATES DEPARTMENT OF JUSTICE TIVE OF...</td>\n",
       "      <td>Regan TED STATES DEPARTMENT OF JUSTICE TIVE OF...</td>\n",
       "    </tr>\n",
       "    <tr>\n",
       "      <th>4</th>\n",
       "      <td>Asylum Grant Honduran Business Owners</td>\n",
       "      <td>INMIGRATION COURT 525 W. VAN BUREN, SUITE 500 ...</td>\n",
       "      <td>INMIGRATION COURT 525 W. VAN BUREN SUITE 500 C...</td>\n",
       "    </tr>\n",
       "    <tr>\n",
       "      <th>5</th>\n",
       "      <td>Chicago Immigration Judge - Post-AB Domestic V...</td>\n",
       "      <td>UNITED STATES DEPARTMENT OF JUSTICE EXECUTIVE ...</td>\n",
       "      <td>UNITED STATES DEPARTMENT OF JUSTICE EXECUTIVE ...</td>\n",
       "    </tr>\n",
       "    <tr>\n",
       "      <th>6</th>\n",
       "      <td>Family PSGAnti-gangPO - IJ Feder 9.18.19_Redac...</td>\n",
       "      <td>Ko O UNITED STATES DEPARTMENT OF JUSTICE EXECU...</td>\n",
       "      <td>Ko O UNITED STATES DEPARTMENT OF JUSTICE EXECU...</td>\n",
       "    </tr>\n",
       "    <tr>\n",
       "      <th>7</th>\n",
       "      <td>Honduran Garifuna Asylum Grant IJ Laforest - N...</td>\n",
       "      <td>UNITED STATES DEPARTMENT OF JUSTICE EXECUTIVE ...</td>\n",
       "      <td>UNITED STATES DEPARTMENT OF JUSTICE EXECUTIVE ...</td>\n",
       "    </tr>\n",
       "    <tr>\n",
       "      <th>8</th>\n",
       "      <td>Honduran Women, Redacted Asylum Grant, Arlingt...</td>\n",
       "      <td>UNITED STATES DEPARTMENT OF JUSTICE EXECUTIVE ...</td>\n",
       "      <td>UNITED STATES DEPARTMENT OF JUSTICE EXECUTIVE ...</td>\n",
       "    </tr>\n",
       "    <tr>\n",
       "      <th>9</th>\n",
       "      <td>Honduras.Women in domestic relationships asylu...</td>\n",
       "      <td>UNITED STATES DEPARTMENT OF JUSTICE EXECUTIVE ...</td>\n",
       "      <td>UNITED STATES DEPARTMENT OF JUSTICE EXECUTIVE ...</td>\n",
       "    </tr>\n",
       "    <tr>\n",
       "      <th>10</th>\n",
       "      <td>IJ Decision in another UB Case w serious non-p...</td>\n",
       "      <td>DEPARTMENT OF JuSTIC! OFFICE FOR IMMIGRATION R...</td>\n",
       "      <td>DEPARTMENT OF JuSTIC OFFICE FOR IMMIGRATION RE...</td>\n",
       "    </tr>\n",
       "    <tr>\n",
       "      <th>11</th>\n",
       "      <td>IJ decision Brazilian National (9th Cir.)</td>\n",
       "      <td>UNITED STATES DEPARTMENT OF JUSTICE EXECUTIVE ...</td>\n",
       "      <td>UNITED STATES DEPARTMENT OF JUSTICE EXECUTIVE ...</td>\n",
       "    </tr>\n",
       "    <tr>\n",
       "      <th>12</th>\n",
       "      <td>Nicaragua - DV - IJ Rubin Newark, NJ (2020)</td>\n",
       "      <td>UNITED STATES DEPARTMENT OF JUSTICE RECUTIVE O...</td>\n",
       "      <td>UNITED STATES DEPARTMENT OF JUSTICE RECUTIVE O...</td>\n",
       "    </tr>\n",
       "    <tr>\n",
       "      <th>13</th>\n",
       "      <td>Redacted Grant, PSG Guatemalan Women</td>\n",
       "      <td>UNITED STATES DEPARTMENT OF JUSTICE EXECUTIVE ...</td>\n",
       "      <td>UNITED STATES DEPARTMENT OF JUSTICE EXECUTIVE ...</td>\n",
       "    </tr>\n",
       "    <tr>\n",
       "      <th>14</th>\n",
       "      <td>Redacted IJ Decision _22single Salvadoran moth...</td>\n",
       "      <td>UNITED STATES DEPARTMENT OF JUSTICE, EXECUTIVE...</td>\n",
       "      <td>UNITED STATES DEPARTMENT OF JUSTICE EXECUTIVE ...</td>\n",
       "    </tr>\n",
       "    <tr>\n",
       "      <th>15</th>\n",
       "      <td>Redacted_IJ Decision_Asylum grant for false ga...</td>\n",
       "      <td>UNITED SYATES DEPARTMENT OF JUSTICE EXECUTIVE ...</td>\n",
       "      <td>UNITED SYATES DEPARTMENT OF JUSTICE EXECUTIVE ...</td>\n",
       "    </tr>\n",
       "  </tbody>\n",
       "</table>\n",
       "</div>"
      ],
      "text/plain": [
       "                                                 uuid  \\\n",
       "0                09f26e70-c0ee-4609-b0c9-b1e8364f70b0   \n",
       "1                    2020.02.19 Asylum grant_Redacted   \n",
       "2                2cd9ed36-9ddb-4c7e-b910-d35d774329fb   \n",
       "3   Annotated Decision for Coding Check, Initial H...   \n",
       "4               Asylum Grant Honduran Business Owners   \n",
       "5   Chicago Immigration Judge - Post-AB Domestic V...   \n",
       "6   Family PSGAnti-gangPO - IJ Feder 9.18.19_Redac...   \n",
       "7   Honduran Garifuna Asylum Grant IJ Laforest - N...   \n",
       "8   Honduran Women, Redacted Asylum Grant, Arlingt...   \n",
       "9   Honduras.Women in domestic relationships asylu...   \n",
       "10  IJ Decision in another UB Case w serious non-p...   \n",
       "11          IJ decision Brazilian National (9th Cir.)   \n",
       "12        Nicaragua - DV - IJ Rubin Newark, NJ (2020)   \n",
       "13               Redacted Grant, PSG Guatemalan Women   \n",
       "14  Redacted IJ Decision _22single Salvadoran moth...   \n",
       "15  Redacted_IJ Decision_Asylum grant for false ga...   \n",
       "\n",
       "                                            full_text  \\\n",
       "0   UNITED STATES DEPARTMENT OF JUSTICE EXECUTIVE ...   \n",
       "1   UNITED STATES OEPARTMENT OF JUSTICE EXECUTIVE ...   \n",
       "2   UNITED STATES DEPARTMENT OF JUSTICE EXECUTIVE ...   \n",
       "3   Regan TED STATES DEPARTMENT OF JUSTICE TIVE OF...   \n",
       "4   INMIGRATION COURT 525 W. VAN BUREN, SUITE 500 ...   \n",
       "5   UNITED STATES DEPARTMENT OF JUSTICE EXECUTIVE ...   \n",
       "6   Ko O UNITED STATES DEPARTMENT OF JUSTICE EXECU...   \n",
       "7   UNITED STATES DEPARTMENT OF JUSTICE EXECUTIVE ...   \n",
       "8   UNITED STATES DEPARTMENT OF JUSTICE EXECUTIVE ...   \n",
       "9   UNITED STATES DEPARTMENT OF JUSTICE EXECUTIVE ...   \n",
       "10  DEPARTMENT OF JuSTIC! OFFICE FOR IMMIGRATION R...   \n",
       "11  UNITED STATES DEPARTMENT OF JUSTICE EXECUTIVE ...   \n",
       "12  UNITED STATES DEPARTMENT OF JUSTICE RECUTIVE O...   \n",
       "13  UNITED STATES DEPARTMENT OF JUSTICE EXECUTIVE ...   \n",
       "14  UNITED STATES DEPARTMENT OF JUSTICE, EXECUTIVE...   \n",
       "15  UNITED SYATES DEPARTMENT OF JUSTICE EXECUTIVE ...   \n",
       "\n",
       "                                           clean_text  \n",
       "0   UNITED STATES DEPARTMENT OF JUSTICE EXECUTIVE ...  \n",
       "1   UNITED STATES OEPARTMENT OF JUSTICE EXECUTIVE ...  \n",
       "2   UNITED STATES DEPARTMENT OF JUSTICE EXECUTIVE ...  \n",
       "3   Regan TED STATES DEPARTMENT OF JUSTICE TIVE OF...  \n",
       "4   INMIGRATION COURT 525 W. VAN BUREN SUITE 500 C...  \n",
       "5   UNITED STATES DEPARTMENT OF JUSTICE EXECUTIVE ...  \n",
       "6   Ko O UNITED STATES DEPARTMENT OF JUSTICE EXECU...  \n",
       "7   UNITED STATES DEPARTMENT OF JUSTICE EXECUTIVE ...  \n",
       "8   UNITED STATES DEPARTMENT OF JUSTICE EXECUTIVE ...  \n",
       "9   UNITED STATES DEPARTMENT OF JUSTICE EXECUTIVE ...  \n",
       "10  DEPARTMENT OF JuSTIC OFFICE FOR IMMIGRATION RE...  \n",
       "11  UNITED STATES DEPARTMENT OF JUSTICE EXECUTIVE ...  \n",
       "12  UNITED STATES DEPARTMENT OF JUSTICE RECUTIVE O...  \n",
       "13  UNITED STATES DEPARTMENT OF JUSTICE EXECUTIVE ...  \n",
       "14  UNITED STATES DEPARTMENT OF JUSTICE EXECUTIVE ...  \n",
       "15  UNITED SYATES DEPARTMENT OF JUSTICE EXECUTIVE ...  "
      ]
     },
     "execution_count": 16,
     "metadata": {},
     "output_type": "execute_result"
    }
   ],
   "source": [
    "df"
   ]
  },
  {
   "cell_type": "markdown",
   "metadata": {
    "id": "YMB93IBgKCww"
   },
   "source": [
    "## Pegasus for Legal Document Summarization"
   ]
  },
  {
   "cell_type": "code",
   "execution_count": 30,
   "metadata": {
    "colab": {
     "base_uri": "https://localhost:8080/",
     "height": 177,
     "referenced_widgets": [
      "f68ad22f6fd44e4c86619a16b4a71c5f",
      "3d804c78483548f19b05614557889bbb",
      "65f2158dfa0549cab39f46e37c6e5a83",
      "dc34808d32ca43b99c592089c2c218cd",
      "3368c575a04744e5ab34c52b96ed2e44",
      "267d868bb447476ca003d849c1777b91",
      "08712d96b8fc490f8405efe70d51a2dc",
      "7ebe060e52cf422784c02c03de83f4cd",
      "4587e132ec7f4b4abb6fd465e00dce9b",
      "b788c14cfa064a63b77c69c0c24dbed6",
      "be783a70e5d14359b809839558f0b506",
      "b4198910877344e1b7e5d118a5f24c4e",
      "79a67261470d4789b00c41460fe31f31",
      "49cc54e2daad4b028f53c900a7f756e5",
      "c726fb1b3181431aa8255973416374d8",
      "1adf565d93594dd89fd0837b5e38daab",
      "22b54f0cb3a04e0bb75acb75405fb907",
      "13dabe760fdd45d29d8bbad25bf5fd9e",
      "d0138977239f437c866623bc41b0261b",
      "32e782dbbc824f49b43b9e5c223764bc",
      "77f8bf3a0eb04709a18a97bf28160c57",
      "088f247513004b94bf1237a98f709d06",
      "3612fa5ef9e7431d9ceca561695cec45",
      "0e31c1f9907740fb9867fd7dbe0118d0",
      "0be6b428fe01412ea0712435426a2a62",
      "cd76cd6b41a648be806d359876d9766a",
      "fa724c4c41c944499a80933e5b5e4fdc",
      "227667c3f276467fb76b2ed759ba3954",
      "8538ff0384b146e9a53213f77a480034",
      "91cc983fefbc4e07950efde14d90e935",
      "c5274aa8443b42318cc95998ae944be5",
      "e0807eb1fcf2464b869a82b5f4d94c1b",
      "2372fff9d5d34ed5bda44d2c730544ec",
      "29bd94c0705e4379beb8861e0bb82c45",
      "2f8e3053e2b54762a0a670556226f1af",
      "b5a177cdde594c999ed610940e56e3a5",
      "fa92f7fa8b47478cb2b79c67d8bc7ea9",
      "bcde74ef5b6c4736a52a2f1dfb449465",
      "f2ccc5f201084599bf21b7e6d5eea13d",
      "78bf1c6e5fc349698e763fd3909f5470",
      "c724ea0666ba4264ab1b967a32fbdea6",
      "e053c2a07984445fbf18cc23213e9562",
      "4a43f503121b49538ef9b7c1e0fc549d",
      "1a451de1913f4e2380aae6998f69e130",
      "7a37d2fcd8664dae9c2c4e5d08dbfcc8",
      "21f9546e02de409d89235a5e255a64b9",
      "24bb214702ce45fbbc7c8054ed7f5078",
      "6f82370e54e540d7b84172d6019b419e",
      "230b68287ddb466c8eb3723047480389",
      "ae13327a63c640c6ac3f38f0a05fcbb2",
      "66e9bbb1ccb243f59d2b4a34e6ddff03",
      "e3893b11059d48b39a4c6a9f42e56004",
      "a35ee49a41694b339b6d0f0c90c37d81",
      "1d97d747e97344bd8811ec8a043f3360",
      "f021d8c43ef34a2c8eb63d039cba10c0"
     ]
    },
    "id": "52-IeVaIKCf8",
    "outputId": "607978ff-fb39-445a-b781-e1826294ba9c"
   },
   "outputs": [
    {
     "data": {
      "application/vnd.jupyter.widget-view+json": {
       "model_id": "f68ad22f6fd44e4c86619a16b4a71c5f",
       "version_major": 2,
       "version_minor": 0
      },
      "text/plain": [
       "Downloading:   0%|          | 0.00/1.47k [00:00<?, ?B/s]"
      ]
     },
     "metadata": {},
     "output_type": "display_data"
    },
    {
     "data": {
      "application/vnd.jupyter.widget-view+json": {
       "model_id": "b4198910877344e1b7e5d118a5f24c4e",
       "version_major": 2,
       "version_minor": 0
      },
      "text/plain": [
       "Downloading:   0%|          | 0.00/1.30k [00:00<?, ?B/s]"
      ]
     },
     "metadata": {},
     "output_type": "display_data"
    },
    {
     "data": {
      "application/vnd.jupyter.widget-view+json": {
       "model_id": "3612fa5ef9e7431d9ceca561695cec45",
       "version_major": 2,
       "version_minor": 0
      },
      "text/plain": [
       "Downloading:   0%|          | 0.00/1.82M [00:00<?, ?B/s]"
      ]
     },
     "metadata": {},
     "output_type": "display_data"
    },
    {
     "data": {
      "application/vnd.jupyter.widget-view+json": {
       "model_id": "29bd94c0705e4379beb8861e0bb82c45",
       "version_major": 2,
       "version_minor": 0
      },
      "text/plain": [
       "Downloading:   0%|          | 0.00/1.31k [00:00<?, ?B/s]"
      ]
     },
     "metadata": {},
     "output_type": "display_data"
    },
    {
     "data": {
      "application/vnd.jupyter.widget-view+json": {
       "model_id": "7a37d2fcd8664dae9c2c4e5d08dbfcc8",
       "version_major": 2,
       "version_minor": 0
      },
      "text/plain": [
       "Downloading:   0%|          | 0.00/2.13G [00:00<?, ?B/s]"
      ]
     },
     "metadata": {},
     "output_type": "display_data"
    }
   ],
   "source": [
    "tokenizer = AutoTokenizer.from_pretrained(\"nsi319/legal-pegasus\")\n",
    "\n",
    "model = AutoModelForSeq2SeqLM.from_pretrained(\"nsi319/legal-pegasus\")"
   ]
  },
  {
   "cell_type": "code",
   "execution_count": 40,
   "metadata": {
    "id": "9F8PzNZPIN_L"
   },
   "outputs": [],
   "source": [
    "df.insert(3, 'legal_pegasus_summary', 'str')"
   ]
  },
  {
   "cell_type": "code",
   "execution_count": null,
   "metadata": {
    "id": "iyD0-6YDJA0M"
   },
   "outputs": [],
   "source": [
    "df"
   ]
  },
  {
   "cell_type": "code",
   "execution_count": null,
   "metadata": {
    "id": "D_JAs7XJdkPe"
   },
   "outputs": [],
   "source": [
    "help(tokenizer.encode)"
   ]
  },
  {
   "cell_type": "code",
   "execution_count": 49,
   "metadata": {
    "colab": {
     "base_uri": "https://localhost:8080/"
    },
    "id": "QpSkgH5Wd1ey",
    "outputId": "eeb16b0d-b182-4969-88bc-dc14236c5040"
   },
   "outputs": [
    {
     "name": "stderr",
     "output_type": "stream",
     "text": [
      "Token indices sequence length is longer than the specified maximum sequence length for this model (6434 > 1024). Running this sequence through the model will result in indexing errors\n"
     ]
    }
   ],
   "source": [
    "input_token_test = tokenizer.encode(df['clean_text'][1], \n",
    "                                     return_tensors='pt')"
   ]
  },
  {
   "cell_type": "code",
   "execution_count": 42,
   "metadata": {
    "id": "dueJ7CXbGn3a"
   },
   "outputs": [],
   "source": [
    "for i in range(len(df['clean_text'])):\n",
    "  input_tokenized = tokenizer.encode(df['clean_text'][i], \n",
    "                                     return_tensors='pt', \n",
    "                                     max_length=1024,truncation=True)\n",
    "  summary_ids = model.generate(input_tokenized,\n",
    "                                  num_beams=9,\n",
    "                                  no_repeat_ngram_size=3,\n",
    "                                  length_penalty=2.0,\n",
    "                                  min_length=150,\n",
    "                                  max_length=250,\n",
    "                                  early_stopping=True)\n",
    "  \n",
    "  df['legal_pegasus_summary'][i] = [tokenizer.decode(g, \n",
    "                                                     skip_special_tokens=True, \n",
    "                                                     clean_up_tokenization_spaces=False) for g in summary_ids][0]"
   ]
  },
  {
   "cell_type": "code",
   "execution_count": 47,
   "metadata": {
    "colab": {
     "base_uri": "https://localhost:8080/",
     "height": 120
    },
    "id": "nGNRu7moTHAr",
    "outputId": "771204b1-f858-44f7-eeb0-8ff1600a17af"
   },
   "outputs": [
    {
     "data": {
      "application/vnd.google.colaboratory.intrinsic+json": {
       "type": "string"
      },
      "text/plain": [
       "\"The U.S. Attorney's Office for Immigration and Customs Enforcement today announced that a federal immigration court in Baltimore, Maryland has ordered a man to be deported for failing to appear at his scheduled removal hearing. The court found that the respondent, a native and citizen of El Salvador, was not in possession of a valid immigrant visa reentry permit border crossing card or other valid entry document required by the immigration act and that he was not then admitted after inspection by an immigration officer. According to the court's order, the court found the respondents removability to be established by clear and convincing evidence. the court also found that he experienced past persecution when he resisted the demands of members of the ms 13 gang who first demanded that he pay a rent and then began paying the gang members on the 8th day of every month. on April 28th the court ordered the respondent to appear before an immigration judge to determine whether or not he is eligible for relief under article 3 of the convention against torture against torture. The hearing was held in the federal district court for the Eastern District of Maryland and the court granted the Department of Justice's motion for a temporary restraining order and entered a final judgment against the respondent. The final judgment is final unless\""
      ]
     },
     "execution_count": 47,
     "metadata": {},
     "output_type": "execute_result"
    }
   ],
   "source": [
    "df['legal_pegasus_summary'][1]"
   ]
  },
  {
   "cell_type": "markdown",
   "metadata": {
    "id": "MkZYsU94Hkza"
   },
   "source": [
    "## Gensim Summary"
   ]
  },
  {
   "cell_type": "code",
   "execution_count": 50,
   "metadata": {
    "id": "0bGfpyA6Holt"
   },
   "outputs": [],
   "source": [
    "from gensim.summarization import summarize"
   ]
  },
  {
   "cell_type": "code",
   "execution_count": 53,
   "metadata": {
    "colab": {
     "base_uri": "https://localhost:8080/"
    },
    "id": "w4comCixiPjr",
    "outputId": "f4f6c3ce-29e9-4543-af3a-c4f6c48e4798"
   },
   "outputs": [
    {
     "name": "stdout",
     "output_type": "stream",
     "text": [
      "united states department of justice executive office for immigration review united states immigration court 1901 south bell street suite 200 arlington va 22202 in the matters of inremoval proceedings 25 er anette aaa file nos cay er a respondent ee mene ee charge section 212 a 6 a i of the immigration and nationality act as amended ina or act as an alien present in the united states without being admitted or paroled or who arrived in the united states at any time or place other than as designated by the attomey general applications asylum pursuant to ina 208 humanitarian asylum pursuant to 8 cer.\n",
      "the court notes some areas of concem but finds that she satisfactorily explained them or that they are too minor to warrant an adverse credibility finding dhs did not explicitly contest the credibility of saaammgpe testimony but did inquire as to certain inconsistencies in the record during cross examination itis true that some of sunibnnins testimony regarding the events occurring before and after the abuse she suffered were inconsistent with her written statements for example her declaration states that her landlord s son introduced her to tgp while she testified that she met ip at imagen global.\n",
      "to satisfy the refugee definition an applicant must demonstrate that she is unable or unwilling to return to her country of origin because of a well founded fear of future persecution on account of one of the five statutory grounds race religion nationality membership in a particular social group or political opinion.\n",
      "1208.14 a wee claims that she suffered past persecution at the hands of qagp and his criminal associates on account of her membership in the particular social group composed of honduran women.\n",
      "weemnnpebn also argues that she suffered past persecution and has a well founded fear of future persecution on account of other alleged protected grounds however for the sake of administrative efficiency the court declines to address those asserted grounds as mmmm has met her burden to show that she has a fear of future persecution on account of her membership in the cognizable social group composed of honduran women.\n",
      "first the court does not read into the relevant law any requirement regarding the number of police reports an asylum applicant must file to show that a government is unwilling or unable to control a persecutor.\n",
      "nexus an asylum applicant must demonstrate that a protected ground such as membership in a particular social group was at least one central reason for the persecution she suffered or fears she would suffer.\n"
     ]
    }
   ],
   "source": [
    "print(summarize(df['clean_text'][2], ratio = 0.015))"
   ]
  },
  {
   "cell_type": "code",
   "execution_count": null,
   "metadata": {
    "id": "8uJz1amZJIJA"
   },
   "outputs": [],
   "source": [
    "df.insert(4, 'gensim_summary', 'str')"
   ]
  },
  {
   "cell_type": "code",
   "execution_count": null,
   "metadata": {
    "id": "WCmV7fmXHtJ4"
   },
   "outputs": [],
   "source": [
    "for in range(len(df['clean_text'])):\n",
    "  df['gensim_summary'][i] = summarize(df['clean_text'][i], ratio = 0.02))"
   ]
  },
  {
   "cell_type": "markdown",
   "metadata": {
    "id": "sOx6m3WGKBt5"
   },
   "source": [
    "# BERTSum (Extractive)"
   ]
  },
  {
   "cell_type": "code",
   "execution_count": 17,
   "metadata": {
    "id": "8qkJwaLhKKCf"
   },
   "outputs": [
    {
     "name": "stdout",
     "output_type": "stream",
     "text": [
      "Requirement already satisfied: bert-extractive-summarizer in c:\\users\\iamwe\\.virtualenvs\\human-rights-first-asylum-ds-a\\lib\\site-packages (0.8.1)\n",
      "Requirement already satisfied: scikit-learn in c:\\users\\iamwe\\.virtualenvs\\human-rights-first-asylum-ds-a\\lib\\site-packages (from bert-extractive-summarizer) (1.0)\n",
      "Requirement already satisfied: spacy in c:\\users\\iamwe\\.virtualenvs\\human-rights-first-asylum-ds-a\\lib\\site-packages (from bert-extractive-summarizer) (2.3.5)\n",
      "Requirement already satisfied: transformers in c:\\users\\iamwe\\.virtualenvs\\human-rights-first-asylum-ds-a\\lib\\site-packages (from bert-extractive-summarizer) (4.11.3)\n",
      "Requirement already satisfied: scipy>=1.1.0 in c:\\users\\iamwe\\.virtualenvs\\human-rights-first-asylum-ds-a\\lib\\site-packages (from scikit-learn->bert-extractive-summarizer) (1.7.1)\n",
      "Requirement already satisfied: threadpoolctl>=2.0.0 in c:\\users\\iamwe\\.virtualenvs\\human-rights-first-asylum-ds-a\\lib\\site-packages (from scikit-learn->bert-extractive-summarizer) (3.0.0)\n",
      "Requirement already satisfied: numpy>=1.14.6 in c:\\users\\iamwe\\.virtualenvs\\human-rights-first-asylum-ds-a\\lib\\site-packages (from scikit-learn->bert-extractive-summarizer) (1.19.5)\n",
      "Requirement already satisfied: joblib>=0.11 in c:\\users\\iamwe\\.virtualenvs\\human-rights-first-asylum-ds-a\\lib\\site-packages (from scikit-learn->bert-extractive-summarizer) (1.1.0)\n",
      "Requirement already satisfied: setuptools in c:\\users\\iamwe\\.virtualenvs\\human-rights-first-asylum-ds-a\\lib\\site-packages (from spacy->bert-extractive-summarizer) (58.2.0)\n",
      "Requirement already satisfied: preshed<3.1.0,>=3.0.2 in c:\\users\\iamwe\\.virtualenvs\\human-rights-first-asylum-ds-a\\lib\\site-packages (from spacy->bert-extractive-summarizer) (3.0.5)\n",
      "Requirement already satisfied: wasabi<1.1.0,>=0.4.0 in c:\\users\\iamwe\\.virtualenvs\\human-rights-first-asylum-ds-a\\lib\\site-packages (from spacy->bert-extractive-summarizer) (0.8.2)\n",
      "Requirement already satisfied: srsly<1.1.0,>=1.0.2 in c:\\users\\iamwe\\.virtualenvs\\human-rights-first-asylum-ds-a\\lib\\site-packages (from spacy->bert-extractive-summarizer) (1.0.5)\n",
      "Requirement already satisfied: blis<0.8.0,>=0.4.0 in c:\\users\\iamwe\\.virtualenvs\\human-rights-first-asylum-ds-a\\lib\\site-packages (from spacy->bert-extractive-summarizer) (0.7.4)\n",
      "Requirement already satisfied: murmurhash<1.1.0,>=0.28.0 in c:\\users\\iamwe\\.virtualenvs\\human-rights-first-asylum-ds-a\\lib\\site-packages (from spacy->bert-extractive-summarizer) (1.0.5)\n",
      "Requirement already satisfied: catalogue<1.1.0,>=0.0.7 in c:\\users\\iamwe\\.virtualenvs\\human-rights-first-asylum-ds-a\\lib\\site-packages (from spacy->bert-extractive-summarizer) (1.0.0)\n",
      "Requirement already satisfied: requests<3.0.0,>=2.13.0 in c:\\users\\iamwe\\.virtualenvs\\human-rights-first-asylum-ds-a\\lib\\site-packages (from spacy->bert-extractive-summarizer) (2.25.1)\n",
      "Requirement already satisfied: plac<1.2.0,>=0.9.6 in c:\\users\\iamwe\\.virtualenvs\\human-rights-first-asylum-ds-a\\lib\\site-packages (from spacy->bert-extractive-summarizer) (1.1.3)\n",
      "Requirement already satisfied: thinc<7.5.0,>=7.4.1 in c:\\users\\iamwe\\.virtualenvs\\human-rights-first-asylum-ds-a\\lib\\site-packages (from spacy->bert-extractive-summarizer) (7.4.5)\n",
      "Requirement already satisfied: tqdm<5.0.0,>=4.38.0 in c:\\users\\iamwe\\.virtualenvs\\human-rights-first-asylum-ds-a\\lib\\site-packages (from spacy->bert-extractive-summarizer) (4.62.3)\n",
      "Requirement already satisfied: cymem<2.1.0,>=2.0.2 in c:\\users\\iamwe\\.virtualenvs\\human-rights-first-asylum-ds-a\\lib\\site-packages (from spacy->bert-extractive-summarizer) (2.0.5)\n",
      "Requirement already satisfied: tokenizers<0.11,>=0.10.1 in c:\\users\\iamwe\\.virtualenvs\\human-rights-first-asylum-ds-a\\lib\\site-packages (from transformers->bert-extractive-summarizer) (0.10.3)\n",
      "Requirement already satisfied: pyyaml>=5.1 in c:\\users\\iamwe\\.virtualenvs\\human-rights-first-asylum-ds-a\\lib\\site-packages (from transformers->bert-extractive-summarizer) (5.4.1)\n",
      "Requirement already satisfied: filelock in c:\\users\\iamwe\\.virtualenvs\\human-rights-first-asylum-ds-a\\lib\\site-packages (from transformers->bert-extractive-summarizer) (3.3.0)\n",
      "Requirement already satisfied: sacremoses in c:\\users\\iamwe\\.virtualenvs\\human-rights-first-asylum-ds-a\\lib\\site-packages (from transformers->bert-extractive-summarizer) (0.0.46)\n",
      "Requirement already satisfied: huggingface-hub>=0.0.17 in c:\\users\\iamwe\\.virtualenvs\\human-rights-first-asylum-ds-a\\lib\\site-packages (from transformers->bert-extractive-summarizer) (0.0.19)\n",
      "Requirement already satisfied: regex!=2019.12.17 in c:\\users\\iamwe\\.virtualenvs\\human-rights-first-asylum-ds-a\\lib\\site-packages (from transformers->bert-extractive-summarizer) (2021.10.8)\n",
      "Requirement already satisfied: packaging>=20.0 in c:\\users\\iamwe\\.virtualenvs\\human-rights-first-asylum-ds-a\\lib\\site-packages (from transformers->bert-extractive-summarizer) (21.0)\n",
      "Requirement already satisfied: typing-extensions in c:\\users\\iamwe\\.virtualenvs\\human-rights-first-asylum-ds-a\\lib\\site-packages (from huggingface-hub>=0.0.17->transformers->bert-extractive-summarizer) (3.7.4.3)\n",
      "Requirement already satisfied: pyparsing>=2.0.2 in c:\\users\\iamwe\\.virtualenvs\\human-rights-first-asylum-ds-a\\lib\\site-packages (from packaging>=20.0->transformers->bert-extractive-summarizer) (2.4.7)\n",
      "Requirement already satisfied: idna<3,>=2.5 in c:\\users\\iamwe\\.virtualenvs\\human-rights-first-asylum-ds-a\\lib\\site-packages (from requests<3.0.0,>=2.13.0->spacy->bert-extractive-summarizer) (2.10)\n",
      "Requirement already satisfied: certifi>=2017.4.17 in c:\\users\\iamwe\\.virtualenvs\\human-rights-first-asylum-ds-a\\lib\\site-packages (from requests<3.0.0,>=2.13.0->spacy->bert-extractive-summarizer) (2021.5.30)\n",
      "Requirement already satisfied: chardet<5,>=3.0.2 in c:\\users\\iamwe\\.virtualenvs\\human-rights-first-asylum-ds-a\\lib\\site-packages (from requests<3.0.0,>=2.13.0->spacy->bert-extractive-summarizer) (4.0.0)\n",
      "Requirement already satisfied: urllib3<1.27,>=1.21.1 in c:\\users\\iamwe\\.virtualenvs\\human-rights-first-asylum-ds-a\\lib\\site-packages (from requests<3.0.0,>=2.13.0->spacy->bert-extractive-summarizer) (1.26.7)\n",
      "Requirement already satisfied: colorama in c:\\users\\iamwe\\.virtualenvs\\human-rights-first-asylum-ds-a\\lib\\site-packages (from tqdm<5.0.0,>=4.38.0->spacy->bert-extractive-summarizer) (0.4.4)\n",
      "Requirement already satisfied: click in c:\\users\\iamwe\\.virtualenvs\\human-rights-first-asylum-ds-a\\lib\\site-packages (from sacremoses->transformers->bert-extractive-summarizer) (7.1.2)\n",
      "Requirement already satisfied: six in c:\\users\\iamwe\\.virtualenvs\\human-rights-first-asylum-ds-a\\lib\\site-packages (from sacremoses->transformers->bert-extractive-summarizer) (1.15.0)\n"
     ]
    }
   ],
   "source": [
    "!pip install bert-extractive-summarizer"
   ]
  },
  {
   "cell_type": "code",
   "execution_count": 23,
   "metadata": {
    "id": "P6DGZIgKupmX"
   },
   "outputs": [
    {
     "name": "stderr",
     "output_type": "stream",
     "text": [
      "ERROR: Can not perform a '--user' install. User site-packages are not visible in this virtualenv.\n"
     ]
    }
   ],
   "source": [
    "!pip install --user neuralcoref"
   ]
  },
  {
   "cell_type": "code",
   "execution_count": 19,
   "metadata": {
    "colab": {
     "base_uri": "https://localhost:8080/"
    },
    "id": "Egd4VGYDvBFn",
    "outputId": "725eb2a3-7e74-40a4-ad42-3f35ae218928"
   },
   "outputs": [
    {
     "name": "stdout",
     "output_type": "stream",
     "text": [
      "Requirement already satisfied: spacy==2.3.5 in c:\\users\\iamwe\\.virtualenvs\\human-rights-first-asylum-ds-a\\lib\\site-packages (2.3.5)\n",
      "Requirement already satisfied: blis<0.8.0,>=0.4.0 in c:\\users\\iamwe\\.virtualenvs\\human-rights-first-asylum-ds-a\\lib\\site-packages (from spacy==2.3.5) (0.7.4)\n",
      "Requirement already satisfied: tqdm<5.0.0,>=4.38.0 in c:\\users\\iamwe\\.virtualenvs\\human-rights-first-asylum-ds-a\\lib\\site-packages (from spacy==2.3.5) (4.62.3)\n",
      "Requirement already satisfied: catalogue<1.1.0,>=0.0.7 in c:\\users\\iamwe\\.virtualenvs\\human-rights-first-asylum-ds-a\\lib\\site-packages (from spacy==2.3.5) (1.0.0)\n",
      "Requirement already satisfied: requests<3.0.0,>=2.13.0 in c:\\users\\iamwe\\.virtualenvs\\human-rights-first-asylum-ds-a\\lib\\site-packages (from spacy==2.3.5) (2.25.1)\n",
      "Requirement already satisfied: numpy>=1.15.0 in c:\\users\\iamwe\\.virtualenvs\\human-rights-first-asylum-ds-a\\lib\\site-packages (from spacy==2.3.5) (1.19.5)\n",
      "Requirement already satisfied: setuptools in c:\\users\\iamwe\\.virtualenvs\\human-rights-first-asylum-ds-a\\lib\\site-packages (from spacy==2.3.5) (58.2.0)\n",
      "Requirement already satisfied: cymem<2.1.0,>=2.0.2 in c:\\users\\iamwe\\.virtualenvs\\human-rights-first-asylum-ds-a\\lib\\site-packages (from spacy==2.3.5) (2.0.5)\n",
      "Requirement already satisfied: murmurhash<1.1.0,>=0.28.0 in c:\\users\\iamwe\\.virtualenvs\\human-rights-first-asylum-ds-a\\lib\\site-packages (from spacy==2.3.5) (1.0.5)\n",
      "Requirement already satisfied: plac<1.2.0,>=0.9.6 in c:\\users\\iamwe\\.virtualenvs\\human-rights-first-asylum-ds-a\\lib\\site-packages (from spacy==2.3.5) (1.1.3)\n",
      "Requirement already satisfied: preshed<3.1.0,>=3.0.2 in c:\\users\\iamwe\\.virtualenvs\\human-rights-first-asylum-ds-a\\lib\\site-packages (from spacy==2.3.5) (3.0.5)\n",
      "Requirement already satisfied: wasabi<1.1.0,>=0.4.0 in c:\\users\\iamwe\\.virtualenvs\\human-rights-first-asylum-ds-a\\lib\\site-packages (from spacy==2.3.5) (0.8.2)\n",
      "Requirement already satisfied: thinc<7.5.0,>=7.4.1 in c:\\users\\iamwe\\.virtualenvs\\human-rights-first-asylum-ds-a\\lib\\site-packages (from spacy==2.3.5) (7.4.5)\n",
      "Requirement already satisfied: srsly<1.1.0,>=1.0.2 in c:\\users\\iamwe\\.virtualenvs\\human-rights-first-asylum-ds-a\\lib\\site-packages (from spacy==2.3.5) (1.0.5)\n",
      "Requirement already satisfied: chardet<5,>=3.0.2 in c:\\users\\iamwe\\.virtualenvs\\human-rights-first-asylum-ds-a\\lib\\site-packages (from requests<3.0.0,>=2.13.0->spacy==2.3.5) (4.0.0)\n",
      "Requirement already satisfied: idna<3,>=2.5 in c:\\users\\iamwe\\.virtualenvs\\human-rights-first-asylum-ds-a\\lib\\site-packages (from requests<3.0.0,>=2.13.0->spacy==2.3.5) (2.10)\n",
      "Requirement already satisfied: certifi>=2017.4.17 in c:\\users\\iamwe\\.virtualenvs\\human-rights-first-asylum-ds-a\\lib\\site-packages (from requests<3.0.0,>=2.13.0->spacy==2.3.5) (2021.5.30)\n",
      "Requirement already satisfied: urllib3<1.27,>=1.21.1 in c:\\users\\iamwe\\.virtualenvs\\human-rights-first-asylum-ds-a\\lib\\site-packages (from requests<3.0.0,>=2.13.0->spacy==2.3.5) (1.26.7)\n",
      "Requirement already satisfied: colorama in c:\\users\\iamwe\\.virtualenvs\\human-rights-first-asylum-ds-a\\lib\\site-packages (from tqdm<5.0.0,>=4.38.0->spacy==2.3.5) (0.4.4)\n"
     ]
    }
   ],
   "source": [
    "!pip install -U spacy==2.3.5"
   ]
  },
  {
   "cell_type": "code",
   "execution_count": 16,
   "metadata": {
    "colab": {
     "base_uri": "https://localhost:8080/"
    },
    "id": "OglXRY6rwzhL",
    "outputId": "65cf1783-37c1-4457-860c-57ea6bd96cbf"
   },
   "outputs": [
    {
     "name": "stdout",
     "output_type": "stream",
     "text": [
      "env: (TOKENIZERS_PARALLELISM=True)\n"
     ]
    }
   ],
   "source": [
    "# %env(TOKENIZERS_PARALLELISM=True)"
   ]
  },
  {
   "cell_type": "code",
   "execution_count": 24,
   "metadata": {
    "colab": {
     "base_uri": "https://localhost:8080/"
    },
    "id": "sQodTuxrKdJX",
    "outputId": "8196a9a2-4a9f-4da8-df0b-8c40992aeafc"
   },
   "outputs": [],
   "source": [
    "from summarizer import Summarizer\n",
    "# from summarizer.coreference_handler import CoreferenceHandler"
   ]
  },
  {
   "cell_type": "code",
   "execution_count": 25,
   "metadata": {
    "id": "z8kKdJlTL_WU"
   },
   "outputs": [],
   "source": [
    "df.insert(3, 'bertsum', 'str')"
   ]
  },
  {
   "cell_type": "code",
   "execution_count": 26,
   "metadata": {
    "colab": {
     "base_uri": "https://localhost:8080/"
    },
    "id": "k8sf7id4v2Kl",
    "outputId": "c2443dd7-ba17-4600-a7eb-371043ef2a7c"
   },
   "outputs": [
    {
     "data": {
      "application/vnd.jupyter.widget-view+json": {
       "model_id": "d5b9e597eb6a45beb1282afb5e53b6f2",
       "version_major": 2,
       "version_minor": 0
      },
      "text/plain": [
       "Downloading:   0%|          | 0.00/571 [00:00<?, ?B/s]"
      ]
     },
     "metadata": {},
     "output_type": "display_data"
    },
    {
     "data": {
      "application/vnd.jupyter.widget-view+json": {
       "model_id": "cc633394bdd145a1b1946d2319793f23",
       "version_major": 2,
       "version_minor": 0
      },
      "text/plain": [
       "Downloading:   0%|          | 0.00/1.25G [00:00<?, ?B/s]"
      ]
     },
     "metadata": {},
     "output_type": "display_data"
    },
    {
     "name": "stderr",
     "output_type": "stream",
     "text": [
      "Some weights of the model checkpoint at bert-large-uncased were not used when initializing BertModel: ['cls.seq_relationship.bias', 'cls.predictions.transform.dense.bias', 'cls.predictions.bias', 'cls.seq_relationship.weight', 'cls.predictions.transform.LayerNorm.weight', 'cls.predictions.transform.LayerNorm.bias', 'cls.predictions.decoder.weight', 'cls.predictions.transform.dense.weight']\n",
      "- This IS expected if you are initializing BertModel from the checkpoint of a model trained on another task or with another architecture (e.g. initializing a BertForSequenceClassification model from a BertForPreTraining model).\n",
      "- This IS NOT expected if you are initializing BertModel from the checkpoint of a model that you expect to be exactly identical (initializing a BertForSequenceClassification model from a BertForSequenceClassification model).\n"
     ]
    },
    {
     "data": {
      "application/vnd.jupyter.widget-view+json": {
       "model_id": "a45784990d9a498b8e1138d4a04c1528",
       "version_major": 2,
       "version_minor": 0
      },
      "text/plain": [
       "Downloading:   0%|          | 0.00/226k [00:00<?, ?B/s]"
      ]
     },
     "metadata": {},
     "output_type": "display_data"
    },
    {
     "data": {
      "application/vnd.jupyter.widget-view+json": {
       "model_id": "8c70f91ee4a34090a75e0f0d1869625d",
       "version_major": 2,
       "version_minor": 0
      },
      "text/plain": [
       "Downloading:   0%|          | 0.00/28.0 [00:00<?, ?B/s]"
      ]
     },
     "metadata": {},
     "output_type": "display_data"
    },
    {
     "data": {
      "application/vnd.jupyter.widget-view+json": {
       "model_id": "09260e93d40449f1a1ca76dba2273841",
       "version_major": 2,
       "version_minor": 0
      },
      "text/plain": [
       "Downloading:   0%|          | 0.00/455k [00:00<?, ?B/s]"
      ]
     },
     "metadata": {},
     "output_type": "display_data"
    }
   ],
   "source": [
    "# handler = CoreferenceHandler(greedyness=.4)\n",
    "model = Summarizer()"
   ]
  },
  {
   "cell_type": "code",
   "execution_count": 31,
   "metadata": {
    "id": "SFFgOgBAxWyZ"
   },
   "outputs": [],
   "source": [
    "# result = model(df['clean_text'][1], ratio=0.05)\n",
    "# df['bertsum'][1] = \"\".join(result)"
   ]
  },
  {
   "cell_type": "code",
   "execution_count": 32,
   "metadata": {},
   "outputs": [
    {
     "data": {
      "text/plain": [
       "'UNITED STATES OEPARTMENT OF JUSTICE EXECUTIVE OFFICE FOR IMMIGRATION REVIEW IMMIGRATION COURT 31 HOPKINS PLAZA ROOM 440 BALTIMORE MD 21201 vacub Law Offices Messer Benjamin G. 12761 Darby Brook Court Suite 102 Woodbridge VA 22192 In the matter of File AMM aTE Feb 19 2020 unable to forward No addresa provided HAttached is a copy of the decision of the Immigration Judge. The Respondent 2 was on a bus when three gang members approached him They told him that they wanted him to cooperate with them by providing information about everyone in his community. The Respondent knew this information but never gave it to the gang members When asked if the gang members only wanted the information one time the Respondent explained that they wanted him to collaborate with them They told him that they might want him to collect the rent They also wanted to use the Respondent s home for their own purposes. Matter of Acosta 19 I N Dec. at 211 235 BIA 1985 . The BIA interpreted persecution to include serious threats to an individual s life or freedom or the infliction of significant harm on the applicant as a means of punishing that person for holding a characteristic that the perseoutor seeks to overcome Matter of Acosta 19 I N Dec. at 222. Baharon v Holder 588 F.3d 228 232 33 4th Cir 2009 Matter of O Z and I Z 22 I N Dec. 23 26 BIA 1998 . 1208.18 a 7 A. Asylum i Timeliness Asa preliminary matter the Respondent did not file his application within one year of entering the United States He entered the United States on June 5 2016 but did not file his asylum application until August 6 2018. Hernandez Avalos v. Lynch 784 F.3d 944 949 4th Cir. In the aggregate the physical abuse that the Respondent suffered and the death threat he received rise to the level of persecution Baharon 588 F.3d at 232 33.'"
      ]
     },
     "execution_count": 32,
     "metadata": {},
     "output_type": "execute_result"
    }
   ],
   "source": [
    "# df['bertsum'][1]"
   ]
  },
  {
   "cell_type": "code",
   "execution_count": 36,
   "metadata": {},
   "outputs": [],
   "source": [
    "# test = \"IEMORANDUM OF DECISION AND ORDER I. Procedural History, ‘The Respondent is a native and citizen of El Salvador, On August 8, 2016, the Department of Homeland Security (“DHS”) issued a Notice to Appear (“NTA”), which alleged that: (1) the Respondent is not a citizen or national of the United States; (2) he is a native and citizen of El Salvador; (3) he arrived at or near the Roma, Texas, port of entry on or about June 5, 2016; (4) he did not then possess or present a valid immigrant visa, reentry permit, border crossing identification card, or other valid entry document; and (5) he was not then admitted or paroled after inspection by an immigration officer. Based on the foregoing allegations, the NTA charged the Respondent with removability pursuant to INA § 212(a)(7A)G)(). The Court found the Respondent's removability to be established by clear and convincing evidence. The Respondent submitted a Form 1-589, Application for Asylum, Withholding of Removal, and Relief under Article 3 of the Convention Against Torture (“CAT”). “He testified in support of his application at an individual hearing on January 3, 2020. The Respondent, through counsel, argues that he is eligible for relief becausé he experienced past persecution on account of his actual or imputed political opinion when he resisted the demands of MS-13 gang members. Evidence Presented A. Documentary Evidence + Exhibit 1, Respondent's Notice to Appear. ‘© Exhibit 2, Respondent's Form 1-870, Record of Determination/Credible Fear Worksheet. ‘+ Exhibit 3, Respondent’s Form 1-589, Application for Asylum and for Withholding of Removal. ‘+ Exhibit 4, Tabbed A-G, Respondent’s Supporting Documentation. B. Testimonial Evidence ‘The Respondent testified that he came to the United States from El Salvador because members of the MS-13 gang threatened him. He explained that, on October 13, 2015, gang members first demanded that he pay a “rent.” He then began paying $100 to the gang members on the thirteenth and twenty-eighth day of every month. On April 28, 2016, gang members threatened the Respondent for the first time. The Respondent 2 ‘was on a bus when three gang members approached him, They told him that they wanted him to cooperate with them by providing information about everyone in his community. He responded that he needed some time to think it over. . The gang members gave him seven days to give them an answer, but told him that if he did not collaborate with them, they would harm his child or his child’s mother. The Respondent never gave the gang members a response. Following the incident, he told a friend what had happened and went to a police station in Sonsonate, a town about two hours away from where he lived, to file a police report, He said that there is a police station in his town, but the gang members who threatened him told him that they had informants in that station, In Sonsonate, the police officer who took the Respondent's report admitted that there were gang members within police ranks and advised the Respondent to leave the country. Several days later, the Respondent had another encounter with the gang members. The Respondent ‘was walking near his home at about 5:00 or 6:00 p.m. when six gang members gathered around him. One put a gun to the Respondents head and forced him to the ground, They asked why he ‘was not taking them seriously and told him that he had to collaborate or they would kill him, his child, and his child’s mother. ‘They then beat him on his stomach: After the beating, one of the members told him that he should be thankful to God that he was still alive and that he was going to be given a second chance. He told the Respondent that he had until May 7, 2036; to provide all the requested information, ‘The Respondent replied that he would do what they asked. The gang members told him that he had to wait one or two minutes to get up or else they would shoot him, They then left as the Respondent was lying face down. ‘The Respondent said that he left El Salvador on May 6, 2016, one day before the deadline. He believes that there is nowhere in El Salvador where he could safely live because the country is small and gang members could easily locate him, He noted that young people would likely report him to the gang for a small amount of money. No one can protect him, not even the police because alot of them are also gang members. On cross-examination, the Respondent was asked why his asylum application stated that he had been paying extortion for around three years when he testified that he had only paid it for about six months, The Respondent replied that hievdid not know why\\\"his applicatibn said that and reiterated that he began paying rent on October 13, 2015, He explained that he was due to make a rent payment on April 28, 2016, but the gang members told him that they no longer needed it. Instead, they said that they needed him to collaborate with them, The gang members wanted the Respondent to give them information about his neighbors, such as when they left for work, where they worked, and their means of living. The Respondent said that they planned to use this information to charge his neighbors rent. The Respondent knew this information, but never gave it to the gang members, ‘When asked if the gang members only wanted the information one time, the Respondent explained that they wanted him to collaborate with them, They told him that they might want him to collect the rent, They also wanted to use the Respondent’s home for their own purposes. The Respondent understood their demand to mean that they wanted him to become a member of thé gang, The Respondent stated that the gang has not harmed anyone in his family. His son and his son’s mother are in the United States. The Respondent’s siblings and parents are in El Salvador, but they have not experienced serious problems in the country. They do not live in the town where the Respondent lived. TI. Statement of the Law A. Asylum An applicant for asylum bears the burden of establishing that he or she meets the definition of a refugee under INA § 101(a)(42)(A), which defines a refugee in part as an alien who is unable or unwilling to retum to her home country because of persecution, or a well-founded fear of persecution, on account of race, religion, nationality, membership in a particular social group, o political opinion. 8 C.F.R. § 1208:13(a); INA § 208(b)(1)(B). The’applitant’s fear 6f persecution must be country-wide. Matter of Acosta, 19 I&N Dec. at 211, 235 (BIA 1985). Additionally, applicants must establish that they are unable or unwilling to avail themselves of the protection of their couniry of nationality.or last habitual residence, INA § 101(a)(42)(A); Mulyani v, Holder, 771 F.3d 190, 199-200 (4th Cir. 2014). When the alleged persecutor is a private actor, the applicant also bears the burden of showing that his or her government was “unable or unwilling to control” the persecutor. Orellana v, Barr, 925 F.3d 145, 151 (4th Cir. 2019). An applicant who establishes statutory eligibility for asylum still bears the burden of demonstrating that a grant of asylum as a matter of discretion is warranted. INA § 208(b)(1). As a preliminary matter, an applicant for asylum must demonstrate by clear and convincing evidence that he filed his application within cne year after the date of his arrival in the United States or by April 1, 1997, whichever is later. INA § 208(a)(2)(B); 8 CAR. § 1268.4(a)(2). This deadline may be excused if the applicant demonstrates either “changed circumstances which materially affect the applicant’s eligibility” for relief or “extraordinary cireumstances relating to the delay in filing...” INA § 208(a)(2)(D). In either instance, the applicant must apply within a reasonable period given the changed or extraordinary circumstances. 8 C.FR. § 1208.4(a)(4)- (5). The applicant has the burden of proving that he did not intentionally create these circumstances, that exceptional circumstances were “directly related” to his failure to apply within one year, and “that the delay was reasonable under the circumstances.” 8 C.F.R. § 1208.4(a)(5). months after the occurrence of changed or extraordinary circumstances is Applying within si presumptively reasonable, but a delay over six months may be unreasonable, 65 FR 76121, 76123- 24 Wee. 6, 2000). “Changed circumstances” include, but are not iimited to: (1) changes in the applicant’s country of nationality or; if the applicant is stateless, country of last habitual residence; (2) changes in the applicant’s eligibility for asylum, including changes in applicable U.S. law and activities the applicant becomes involved in outside the country of feared persecution that place an applicant at risk; or (3) the termination of a relationship that qualified an applicant as a dependent on another's pending asylum application, including attainment of age 21 by the dependent. 8 CFR. § 1208.4(@)(4)G)(A)(C). “Extraordinary circumstances” include, but are not limited to: (1) serious illness or mental or physical disability; (2) legal disability; (3) ineffective assistance of counsel; (4) maintenance of temporary protected status, lawful immigrant or non-immigrant status, or having received parole, until a reasonable period before the filing of the application; (5) filing an asylum application before the one-year deadline which was rejected as not properly filed and was re-filed within a reasonable 5 B period thereafter; or (6) the death or serious illness or incapacity of the applicant’s legal representative or a member of the applicant's immediate family. 8 CFR. § 1208.4(a)(5)(i)-(vi). Following a decision in Mendez Rojas v. Johnson, in a joint stay agreement, the Government has agreed to treat pending asylum applications by applicants in four classes as though they were filed within the one-year deadline, 305 F. Supp. 34 1176 (W.D. Wash., Mar. 29, 2018). Class A.II includes individuals who have been released from the DHS’s custody after having been found to have a credible fear of persecution, did not receive notice from the DHS of the one-year deadline, filed an asylum application after one year, and are in removal proceedings. Jd. at 1179. ii, Credibility and Corroboration An applicant bears the evidentiary burden of proof and persuasion in connection with any asylum, application pursuant to INA § 208. 8 C.F.R. § 1208.13(a), The Board of Immigration Appeals (“BIA”) has recognized the difficulties an asylum applicant may face in dbtaining documentary or other corroborative evidence to support a claim of persecution, Matter of Dass, 20 I&N Dee. 120, 124 (BIA 1989). As a result, uncorroborated testimony that is credible, persuasive, and specific may be sufficient to sustait the burden of proof to establish a claim for asylum. INA § 208(b)(1)(B)Gi); 8 CFR. § 1208.13(a); Matter of Mogharrabi, 19 1&N Dec. 439, 445 (BIA 1987) ili, Past Persecution In order to establish a claim for either asylum or withholding of removal, an applicant must demonstrate that the feared harm constitutes persecution under the INA. The BIA interpreted “persecution” to include serious threats to an individual’s life or freedom, or the infliction of, significant harm on the applicant, as a means of punishing that person for holding a characteristic that the perseoutor seeks to overcome, Matter of Acosta, 19 I&N Dec. at 222. To establish past persecution, applicants must demonstrate thit they suffered persecution in thier country of nationality of} if stateless, in the country of last habitual residence, oxi account of an actual or imputed protected ground, and that they are unable or unwilling to return to, or avail themselves of the protection of, that country because of such persecution, 8 C.F.R. § 1208.13(b)(1). Not every act of discrimination or harassment rises to the level of persecution, as persecution is “an extreme concept that does not include every sort of treatment that our society regards as offensive.” Li v. Gonzales, 405 F.3d 171, 177 (4th Cir. 2005) (internal quotation marks omitted). However, considering the aggregate effect of all the incidents to which a respondent has been subjected, the cumulative treatment may rise to the level of persecution. Baharon v, Holder, 588 F.3d 228, 232-33 (4th Cir, 2009); Matter of O-Z- and I-Z-, 22 I&N Dec. 23, 26 (BIA 1998). An applicant who fails to present a credible basis for a claim of past persecution may nevertheless prevail on a theory of future persecution, iv. Well-founded Fear of Future Persecution If an applicant demonstrates past persecution on account of a protected ground, he or she will benefit from a rebuttable presumption of a well-founded fear of future persecution. 8 E.R. § 1208.13(b)(1). The DHS can rebut the presumption by showing that the applicant's fear is no longer well-founded due to a fundamental change in circumstances or that the applicant could avoid future persecution by relocating to another part of the country and that, under all the circumstances, it would be reasonable to require him or her to do so, 8 C.E.R. § 1208.13(b)(1)(i)- Gi). Ifan applicant has not met the burden of demonstrating past persecution, the applicant bears the burden to show a well-founded fear of future persecution by a preponderance of the evidence. Lopez-Soto v. Ashcroft, 383 F.3d 228, 234 (4th Cir. 2004), A well-founded fear of persecution must be both subjectively genuine and objectively reasonable. N.S. v. Cardoza-Fonseca, 480 U.S. 421, 430-31 (1987). To Hicet this standesd, an applicant must possess a subjective fear and must also demonstrate that “a reasonable person in similar circumstaiices would fear persecution on account of” one or more of the protected grounds, Blanco de Belbruno v. Ashcroft, 362 F.3d 272, 284 (4th Cir. 2004) (citing Cruz-Diaz v, INS, 86 F.3d 330, 331 (4th Cir. 1996); 8 CFR. §1208.13(b)(1)-(2). v ‘Nexus: Applicants for asylum must also'demonstrate that the persecution they fear would be inflicted “on account of” their race, religion, nationality, membership in a particular social group, or political opinion, 8 CFR. § 1208.13(6)(2)()(A), Even treatment that is regarded as “morally reprehensible” is not “persecution” within the meaning of the INA unless it occurs “on account of” one of the five enumerated grounds. Matter of T-M-B-, 21 I&N Dec. 775, 777 (BIA 1997). In essence, applicants must demonstrate that their race, religion, nationality, particular social group, or political opinion would be “at least one central reason” for the persecutor’s actions. INA § 208(b)(1)(B)(i); INS v. Elias-Zacarias, 502 U.S. 478 (1992). vi. Protected Ground— Political Opinion To demonstrate persecution on account of political opinion, applicants must show that their Matter of Acosta, 19 I&N Dec. at 235. Applicants can prove their political opinion with “evidence of verbal or openly ical beliefs or activ: persecutors have targeted them because of their polit expressive behavior ... in furtherance of a protected cause.” Saldarriaga v. Gonzales, 402 F.3d 461, 466 (4th Cir, 2005), Alternatively, “persecution for ‘imputed” grounds (e.g., where one is erroneously thought to hold particular political opinions or mistakenly believed to be a member of religious sect) can satisfy the ‘refuugee” definition.” Matter of S-P-, 21 I&N Dec. 486, 489 (BIA 1996) (citing Matter of A-G-, 19 I&N Dec. 502, 507 (BIA 1987)), Even if a respondent did not actually hold a political opinion, “in determining whether persecution existed on account of, political opinion, we focus on whether the persecutor has attributed a political view to the victim and acted on that attribution.” Singh v, Gonzales, 406 F.3d 191, 196 (3d Cir. 2005) (citing Sangha y, INS, 103 F.3d 1482, 1489 (9th Cir, 1997)). B, Withholding of Removal Pursuant to INA § 241(b)(3) To establish eligibility for withholding of removal under the INA, an applicant must demonstrate that his or her “life or freedom would be threatened in that country because of the alien’s race, religion, nationality, membership in a particular social group, or political opinion.” INA § 241(b)(3). Specifically, applicants must establish that i subject to persecution if returned to the country from which they claim protection, 8 C.F.R. § 1208.16(b)(1)(j); INS v, Stevic, 467 U.S. 407, 429-30 (1984); Cardoza-Fonseca, 480 U.S. at 423. ‘An applicant who fails to demonstrate the well-founded fear of persecution required for asylum is more likely than not that they will be will necessarily fail to meet the higher burden of proof required for withholding of removal. Mirisawo v, Holder, 599 F.3d 391, 396 (4th Cir, 2010); Camara v. Ashcroft, 378 F.3d 361, 367 (4th Cir. 2004) C. Convention Against Torture To be extended protection under the CAT, an applicant must establish that it is “more likely than not that he or she would be tortured if removed to the proposed couritry of removal.” 8 C.ER. §§ 1208.16(c)(2), 1208.17(a); Matter of M-B-A-, 23 I8®N Dec. 474, 477-78 (BIA 2002). “Torture” is defined in part as the intentional infliction of severe physical or mental pain or suffering by, or at the instigation of, or with the consent or acquiescence of a public official. 8 CFR. § 1208.18(@)(1). Acquiescence of a public official requires that the official has awareness of or remains willfully blind to the activity constituting torture, prior to its commission, and thereafter breach his or her legal responsibility to injervene to prevent such activity, 8 CER. § 1208.18(@)(7); Suarez-Valenzuela v. Holder, T14 F.3d 241, 245-46 (4th Cir. 2013). The BIA has specified that only “extreme formfs] of cruel and inhuman treatment” rise to the level of torture, Matter of J-E-, 23 1&N Dec. 291, 297-99 (BIA 2002). In assessing a claim under the CAT, the Court must consider “all evidence relevant to the possibility of future torture” and cannot rely solely on an adverse credibility determination to deny relief, Camara, 378 F.3d at 361. A claim under the CAT is analytically distinct from an asylum claim, Findings concerning the likelihood of a future occurrence and the future conditions a respondent is likely to face are factual findings, and whether future events and conditions satisfy the legal definition of torture is a legal question. Turkson v. Holder, 667 F.3d 523, 529-30 (4th Cir. 2012). IV. Findings of the Court Alll evidence has been reviewed, even if not specifically referenced: in this decision. The Respondent bears the burden of demonstrating that his political opinion was or would be at least one central reason for the persecution he suffered or fears, or that it is more likely than not that he would be tortured if removed to El Salvador. INA § 208(b)(1)(B)(); 8 CFR. § 1208.18(a)(7), A. Asylum i, Timeliness ‘Asa preliminary matter, the Respondent did not file his application within one year of entering the United States, He entered the United States on June 5, 2016, but did not file his asylum application until August 6, 2018. The parties, however, agree that the Respondent is a class joint stay agreement, 305 F. Supp. 3d 1176 (W.D. Wash., Mar 29, 2018). Accordingly, his application will be treated as though it were timely filed: fi, Credibility Based on the totality of the circumstances, the Respondent is credible, INA § 208(6(1)(B)(ii). His testimony was internally consistent and consistent with his asylum application and written statement, It was also consistent with what he told an asylum officer during his credible fear interview. The Respondent’s candid demeanor throughout his testimony also supports a finding that he is credible, Further, he supplied letters from friends and family members, in addition to country conditions evidence, which corroborate his account: iii, Past Persecution ‘The Respondent experienced harm that rises to the level of persecution. The Respondent testified that gang members pointed a gun to his head and beat him after he did not “collaborate” with the gang. Following the beating, the gang members gave the Respondent one more chance to collaborate with them, and they threatened to kill him, his child, and his child’s mother if he did not do so, This credible death threat alone qualifies as harm sufficiently severe to constitute past persecution. Hernandez-Avalos v. Lynch, 784 F.3d 944, 949 (4th Cir. 2015) (death threats alone can qualify as harm severe enough to constitute persecution); Tairou v. Whitaker, 909 F.3d 702, 707-08 (4th Cir. 2018). In the aggregate, the physical abuse that the Respondent suffered and the death threat he received rise to the level of persecution, Baharon, 588 F.3d at 232-33. iv. On Account of Political Opinion ‘The Respondent argues that the harm and death threats he experienced occurred on account of his actual or imputed political opinion. The Fourth Circuit recently recognized that an individual's resistance to gang demands may constitute an imputed political opinion that would serve as a cognizable basis for relief, Alvarez Lagos, 927 F.3d at 251 (remanding for the BIA to determine if the gang imputed a political opinion to the téspondent). Although the BIA in Marter of S-E-G- noted that resisting gang recruitment does not generally constitute a political opinion, it did not analyze political opinions that gang members may impute to those who resist recruitment, 24 [&N Dec, $79, 589 (BIA 2008) (noting only that the respondents in that case “provided no evidence, 10 direct or circumstantial, that the MS-13 gang in El Salvador imputed, or would impute to them, an anti-gang political opinion”). The U.S. Supreme Court in Elias-Zacarias also did not bar imputed political opinion cases arising out of gang recruitment, noting simply there was no indication in that case “that the guerrillas erroneously believed that Elias-Zacarias’ refusal was politically based.” 502 U.S. at 482. Notably, the Fourth Circuit reiterated that an applicant's eligibility for asylum is “a feet-intensive inquiry” that requires substantial engagement with the record. Alvarez Lagos, 927 F.3d at 255 n.4, The Court must examine carefully this particular record to determine if gang members imputed a political opinion to the Respondent when they attacked and threatened him, Country conditions evidence shows that gangs have become “de facto government{s]” in Bl Salvador, which rival or replace legitimate political entities in the country. Exh, 4, Tab F at 161, 260. According to the U.S. State Department’s 2018 Human Rights Report for El Salvador, major gangs in the country exercise control over their own territories, Exh, 4, Tab D at 57. Within these temitories, gangs take on some of the fumetions of legitimate government. For example, gangs have reportedly created checkpoints at the border of their territory to control who may enter. Exh, 4, Tab E at 85. They detain individuals and ask them for identification documentation. Exh. 4, Tab F at 162, Gangs enforce curfews and have ordered stoppages to bus transit. Jd, Gang members also believe that théy, rather than legitimate law enforcement, take on the role of protecting individuals in their territory, and they charge fees for that protection, Jd. at 163, 208- 213, El Salvador’s president recently acknowledged this reality, telling a reporter that gangs “have ade facto power, areal one.” Exh, 4, Tab G at 332, He added that gangs “charge taxes” and “have aquasi-security foree.” Id. Gangs view a wide range of conduct as “resistance” to their claimed political authority over a temitory. Exh, 4, Tab E at 102, 126, This includes refusing to participate in their activities, refusing to join the gang, and reporting gang activity to the police. Jd. People who resist a gang’s “authority” are “subjected to swift and brutal retaliation from the gang.” /d. at 85-86. Punishment for their resistance can range from threats to death. Exh. 4, Tab E at 103; Tab F at 183, 208. ‘This evidence mirrors the Respondent's experience in E] Salvador. MS-13 gang members ordered u the Respondent to “collaborate” with them by providing information about his neighbors. When he did not respond to their demand, the gang members responded swiftly by beating him and threatening to kill him, his child, end his child’s mother. AAs the evidence above indicates, the gang members viewed the Respondent's reluctance to collaborate as resistance to their claimed authority. The United Nations High Commissioner for Refugees (“UNHCR”) notes that individuals in such a situation “may be in need of intemational refugee protection on the grounds of their (imputed) political opinion.” Exh, 4, Tab E at 103, While the Respondent did not openly express a political opinion, gang members believed that he held an opinion in opposition to their political authority because he did not comply with their demands. In essence, gang members in this case imputed a political opinion fo the Respondent and harnied him because of that opinion. Accordingly, the Respondent has established that he experienced past persecution on account of an imputed political opinion. Having shown that he experienced past persecution on account of a protected ground, the Respondent benefits from a rebuttable presumption of a well-founded fear of future persecution. 8 CFR. § 1208.13(6)(1). ‘The DHS has not rebutted that presumption. v, Government Unwilling or Unable to Protect Because the gang members who threatened the Respondent were private actors, the Respondent must show that the governinent would be “unwilling or unable to control [his] persecutor.” Orellana, 925 F.3d at 151. In this case, the Respondent attempted to report the threats he received from gang members to the police. Exh. 4, Tab B at 28, When he went to the police station, however, an officer admitted that there were gang members within the police ranks and suggested that the Respondent leave the country. The Respondent's experience is consistent with country conditions evidence in the record, which suggests that the government of El Salvador is woefully inadequate at controlling gang threats or violence. Exh. 4. The UNHCR notes that in certain parts of El Salvador, “the Government has lost effective control to gangs or other organized criminal groups and is unable to provide protection to civilians.” Exh. 4, Tab E at 116. Another report indicates that “Salvadoran state authorities consistently fail to aid families or individuals in preventing displacement, show indifference to the plight of vietims of violence, and tum their backs on their citizens.” Exh, 4, Tab F at 240, In fact, 68 percent of individuals who reported 12 being victims of extortion in one survey said that authorities “had done nothing to investigate the crime.” Jd, Additionally, the record shows that weakness and corruption within law enforcement has led to high levels of impunity in the country. Exh. 4, Tab E at 96. Gangs also “have their own infiltrators in the police and the military.” Exh. 4, Tab E at 96; Tab F at 183. Given this evidence, the Respondent has demonstrated that the government would be “unwilling or unable to control [his] persecutor.” Orellana, 925 F.3d at 151-52. B, Withholding of Removal and Protection Under the CAT Since the Respondent will be granted asylum under INA § 208, the Court will not reach the merits of his claims for withholding under INA § 241(b)(3) or for relief pursuant to the CAT, as asylum is a greater benefit. INS v. Bagamasbad, 429 U.S. 24 (2006) (noting that “courts and agencies are not required to make findings on issues the decision of which is unnecessary to the results they reach”. V. Conclusion ‘The Respondent demonstrated that he suffered past persecution on account of his imputed political opinion and has demonstrated that Salvadoran authorities are unwilling or unable to protect him. ‘The DHS has not rebutted the presumption of a well-founded fear of persecution. Thus, the Respondent's application for asylum is granted. ORDER It is hereby ordered that: 1. the Respondent’s application for asylum pursuant to INA § 208 is GRANTED. 62/la [2020 x € t cu Date David C. Koelsch Immigration Judge\""
   ]
  },
  {
   "cell_type": "code",
   "execution_count": 37,
   "metadata": {},
   "outputs": [
    {
     "data": {
      "text/plain": [
       "\"IEMORANDUM OF DECISION AND ORDER I. Procedural History, ‘The Respondent is a native and citizen of El Salvador, On August 8, 2016, the Department of Homeland Security (“DHS”) issued a Notice to Appear (“NTA”), which alleged that: ( 3) he arrived at or near the Roma, Texas, port of entry on or about June 5, 2016; ( He responded that he needed some time to think it over. . No one can protect him, not even the police because alot of them are also gang members. The Respondent said that they planned to use this information to charge his neighbors rent. 1) serious illness or mental or physical disability; ( To establish past persecution, applicants must demonstrate thit they suffered persecution in thier country of nationality of} if stateless, in the country of last habitual residence, oxi account of an actual or imputed protected ground, and that they are unable or unwilling to return to, or avail themselves of the protection of, that country because of such persecution, 8 C.F.R. § 1208.13(b)(1). Baharon v, Holder, 588 F.3d 228, 232-33 (4th Cir, 2009); The DHS can rebut the presumption by showing that the applicant's fear is no longer well-founded due to a fundamental change in circumstances or that the applicant could avoid future persecution by relocating to another part of the country and that, under all the circumstances, it would be reasonable to require him or her to do so, 8 C.E.R. § 1208.13(b)(1)(i)- Gi). Lopez-Soto v. Ashcroft, 383 F.3d 228, 234 (4th Cir. To Hicet this standesd, an applicant must possess a subjective fear and must also demonstrate that “a reasonable person in similar circumstaiices would fear persecution on account of” one or more of the protected grounds, Blanco de Belbruno v. Ashcroft, 362 F.3d 272, 284 (4th Cir. Turkson v. Holder, 667 F.3d 523, 529-30 (4th Cir. On Account of Political Opinion ‘The Respondent argues that the harm and death threats he experienced occurred on account of his actual or imputed political opinion. Alvarez Lagos, 927 F.3d at 255 n.4, The Court must examine carefully this particular record to determine if gang members imputed a political opinion to the Respondent when they attacked and threatened him, Country conditions evidence shows that gangs have become “de facto government{s]” in Bl Salvador, which rival or replace legitimate political entities in the country. Jd, Gang members also believe that théy, rather than legitimate law enforcement, take on the role of protecting individuals in their territory, and they charge fees for that protection, Jd. Exh, 4, Tab E at 103, While the Respondent did not openly express a political opinion, gang members believed that he held an opinion in opposition to their political authority because he did not comply with their demands. 4, Tab B at 28, When he went to the police station, however, an officer admitted that there were gang members within the police ranks and suggested that the Respondent leave the country.\""
      ]
     },
     "execution_count": 37,
     "metadata": {},
     "output_type": "execute_result"
    }
   ],
   "source": [
    "# result_test = model(test, ratio=0.1)\n",
    "# test_sum = \"\".join(result_test)\n",
    "# test_sum"
   ]
  },
  {
   "cell_type": "code",
   "execution_count": 38,
   "metadata": {
    "id": "dJys0vpaKTaF"
   },
   "outputs": [],
   "source": [
    "for i in range(len(df['clean_text'])):\n",
    "  result = model(df['clean_text'][i], ratio=0.05)\n",
    "  df['bertsum'][i] = \"\".join(result)"
   ]
  },
  {
   "cell_type": "code",
   "execution_count": 43,
   "metadata": {},
   "outputs": [
    {
     "data": {
      "text/plain": [
       "'INMIGRATION COURT 525 W. VAN BUREN SUITE 500 CHICAGO IL 60607 Respondent IN REMOVAL PROCEEDINGS In the Matter of case No. Respondents status was rescinded under section 246. Respondents application for i. J Cancellation under sectidn 240A b 1 was granted denied withdrawn. Available at http ww.w.cedoh.org Biblioteca CEDOH archivos 00418 20Congressional 20 Research 20Service 20Honduran US 20Relations 20Peter 20 20Meyer 20July 202012.paf EE Immigration and Refugee Board of Canada Honduras Areas of operation of Mara Salvatrucha MS 13 and Mara 18 MS 18also known as the 18 Street gang in Honduras Available at hup www.refworld.org docid 4f4f301c2.html FF Crime Violence and Community Based Prevention in Honduras. Los Chirizos told immy they did not care and she had to weeks to pay or they were going to kill her and her son. She could hear them saying you are going 10 to die... bumed along with your son. Id. elmany could not go to the police because she knew they were complicit or at a minimum acquiesced to the extortion and violence of the Los Chirizos in the area. She was never told of the one year deadline by any government officials or DHS officers. C. Eligibility for Convention Against Torture Relief In order to show prima facie eligibility for Torture Convention relief an applicant must show that it is more likely than not that he or she would be tortured if removed to the proposed country of removal. Unlike asylum and withholding of removal under the Act an applicant for Torture Convention relief need not prove a nexus to a statutory protected ground. The gang has shown their perplexity to commit violence by burning to death a nearby business owner and the owners family as well as mistakenly killing liaagss sister in law believing she waseilamlmp As a result of her persecution iy continues to have deep emotional scars. See Perkovic v. I.N.S. 33 F.3d 615 6th Cir. See Sibanda v. Holder 778 F.3d 616 7 Cir. b. Particularity With respect to particularity the group must be defined by characteristics that provide a clear benchmark for determining who falls within the group. 23 As the UNHCR Eligibility Guidclines for Assessing the International Protections Needs of Asylum Seckers from Honduras provides in its report specifically as to Los Chirizos The modus operandi of Los Chirizos ... is reported to be similar to that of larger gang structures of Barrio 18 an MS... The Chirizas in articular are reportedly known for brutally torturing and killing those who defy them and leaving their bodies in public spaces. This same report also found that t he majority of serious crimes...are never solved. There are also reports that accuse the police of extortion of the gangs. The record makes clear that BEBewould not be safe from Los Chirizos if she were to relocate in Honduras. 2009 Matter of L E A 27 1 N Dec. 40 BIA 2017 . A grant of humanitarian 31 asylum is appropriate if the respondent can demonstrate compelling reasons for being unwilling or unable to return to her horse country and these circumstances arise out of the severity of the past persecution. Last the evidence shows that one central motive of Los Chitizos is targeting GBB due to his family relationship cm vi Respondent Sshould Not Be Statutorily Barred From Asylum and Merits Favorable Exercise of Discretion Although imp filed her application after one year of her last entry she was never informed of the one year deadline from the Department of Homeland Security and is therefore a class member under Mendez Rojas v. Johnson 2018 WL 1532715 W.D. Wash. March 29 2018 . Accordingly Kessy is entitled to withholding of removal In addition her son QM can also establish an independent claim for withholding based on a well founded fear of future persecution on account of his membership in the particular social group Family members of a i The 34 record reflects that QE will most likely be killed if returned to Honduras by Los Chirizos. definition of torture also includes the threat of imminent death or the threat that another person will imminently be subject to death. In addition the record shows that Los Chirizos motive to inflict said torture is to punish MW for her perceived defiance of the gang which also falls within the definition of torture. cJorruption and impunity continued to be serious problems within the security forces.'"
      ]
     },
     "execution_count": 43,
     "metadata": {},
     "output_type": "execute_result"
    }
   ],
   "source": [
    "df['bertsum'][4]"
   ]
  },
  {
   "cell_type": "markdown",
   "metadata": {
    "id": "ZYK_98cnZHTG"
   },
   "source": [
    "## BART CNN Model"
   ]
  },
  {
   "cell_type": "code",
   "execution_count": null,
   "metadata": {
    "id": "yj1ZJ1HzZG53"
   },
   "outputs": [],
   "source": [
    "from transformers import pipeline"
   ]
  },
  {
   "cell_type": "code",
   "execution_count": null,
   "metadata": {
    "colab": {
     "base_uri": "https://localhost:8080/",
     "height": 194,
     "referenced_widgets": [
      "eb932779562e4560886602bb7fbe1d9f",
      "7a51bc7aac434ad7adfb9a22b229cd46",
      "2930123601754022a77e324702b3f6f9",
      "c56deb9e9ee94c2eb9f133f7ae90a406",
      "308f906c23a44079a03a021f9e7e7cfb",
      "f4f1e0be20364f1a9bd03143d8dbec9d",
      "c9cb29d861d1499c8e47cf899a00ef00",
      "770772ae46b7411facb593bc5bcee371",
      "7bdcf9696b8c4aafae62e5e20e52af55",
      "32ac0e510cec4b51b9658973cdd27e87",
      "d1b62881996f46eab68c515d263f448a",
      "17e3e80ecf6a4ab8902fd948e59f6b2f",
      "f1aa23843c904fdaa3ff9ac40af9b01a",
      "956698892431487cbc72f42c94d09d86",
      "75484fb674974618855a4d0e52dd2fc7",
      "b2054d9c39bd4dc491f31f14dc9003ee",
      "ed09307bac75493d94709fbb9323c0bf",
      "72080b5347fa486caed7bd17acf9cb5f",
      "7b7995e9828f44bbaeb4dd6aea41cf3b",
      "b7a9358ef2d34ec5bcb73b8fb60455bb",
      "1c208c9438084cc6b3af1a09b765212c",
      "e065b812336a455697e5ebe8b1568581",
      "e480c82f452b46859f14cc9ecdfbbed8",
      "27e9295ab4c94db084cb4ec17d8c15a6",
      "bc4fb2a4b8314539b2f36284dad58858"
     ]
    },
    "id": "S-yp49AQZMH6",
    "outputId": "4de0b6e6-6a62-41bb-bcf4-5b67d36caa67"
   },
   "outputs": [
    {
     "name": "stderr",
     "output_type": "stream",
     "text": [
      "No model was supplied, defaulted to sshleifer/distilbart-cnn-12-6 (https://huggingface.co/sshleifer/distilbart-cnn-12-6)\n"
     ]
    },
    {
     "data": {
      "application/vnd.jupyter.widget-view+json": {
       "model_id": "eb932779562e4560886602bb7fbe1d9f",
       "version_major": 2,
       "version_minor": 0
      },
      "text/plain": [
       "Downloading:   0%|          | 0.00/1.76k [00:00<?, ?B/s]"
      ]
     },
     "metadata": {},
     "output_type": "display_data"
    },
    {
     "data": {
      "application/vnd.jupyter.widget-view+json": {
       "model_id": "17e3e80ecf6a4ab8902fd948e59f6b2f",
       "version_major": 2,
       "version_minor": 0
      },
      "text/plain": [
       "Downloading:   0%|          | 0.00/1.14G [00:00<?, ?B/s]"
      ]
     },
     "metadata": {},
     "output_type": "display_data"
    },
    {
     "data": {
      "application/vnd.jupyter.widget-view+json": {
       "model_id": "e480c82f452b46859f14cc9ecdfbbed8",
       "version_major": 2,
       "version_minor": 0
      },
      "text/plain": [
       "Downloading:   0%|          | 0.00/26.0 [00:00<?, ?B/s]"
      ]
     },
     "metadata": {},
     "output_type": "display_data"
    },
    {
     "data": {
      "application/vnd.jupyter.widget-view+json": {
       "model_id": "27e9295ab4c94db084cb4ec17d8c15a6",
       "version_major": 2,
       "version_minor": 0
      },
      "text/plain": [
       "Downloading:   0%|          | 0.00/878k [00:00<?, ?B/s]"
      ]
     },
     "metadata": {},
     "output_type": "display_data"
    },
    {
     "data": {
      "application/vnd.jupyter.widget-view+json": {
       "model_id": "bc4fb2a4b8314539b2f36284dad58858",
       "version_major": 2,
       "version_minor": 0
      },
      "text/plain": [
       "Downloading:   0%|          | 0.00/446k [00:00<?, ?B/s]"
      ]
     },
     "metadata": {},
     "output_type": "display_data"
    }
   ],
   "source": [
    "summarizer = pipeline(\"summarization\")"
   ]
  },
  {
   "cell_type": "code",
   "execution_count": null,
   "metadata": {
    "colab": {
     "base_uri": "https://localhost:8080/"
    },
    "id": "amDxB6fQZSH8",
    "outputId": "a597cf5e-4072-4871-a0e9-544d20f73848"
   },
   "outputs": [
    {
     "name": "stdout",
     "output_type": "stream",
     "text": [
      "['united states department of justice executive office for immigration review united states immigration court 1901 south bell street suite 200 arlington va 22202 in the matters of inremoval proceedings file no. a lead respondent and fileno. minor respondent charge section 212 a 7 a i 1 of the immigration and nationality act ina or act as amended as an immigrant who at the time of application for admission is not in possession of a valid unexpired immigrant visa reentry permit border crossing card or other valid entry document required by the act. applications asylum pursuant to ina 208 withholding of removal pursuant to ina 241 b 3 and protection under the united nations convention against torture and other cruel inhuman or degrading treatment or punishment convention against torture or cat pursuant to 8 c.f.r. 1208.16 .18 2017 appearances on behalf of the respondents on behalf of the dhs philip g. schrag esq. carol jun esq. center for applied legal studies assistant chief counsel georgetown law u.s. department of homeland security 600 new jersey avenue nw suite 332 1901 south bell street suite 900 washington dc 20001 adlington va 22202 d irders of the grati 1 procedural history the adult respondent the lead respondent and her minor son jor the rider respondent collectively the respondents are natives and citizens of el salvador. they entered the united states at or near hidalgo texas on 2016. exh. 1. or 2016 the department of homeland security dhs served the respondents with notices to appear nta charging them as inadmissible pursuant in the matters of er ae to ina 212 a 7 ami d. see id dhs commenced proceedings by filing the ntas with the arlington immigration court on may 9 2016. 1d. during a master calendar hearing on mii 2016 the respondents through counsel admitted the factual allegations contained in their nts and conceded inadmissibility as charged. inadmissibility was therefore established by clear and convincing evidence. see 8 cfr. 1240.8 1240.10 c . also on july 11 2016 the lead respondent timely filed an application for asylum and withholding of removal form 1 589 seeking asylum and withholding of removal under the act and protection under the convention against torture. exh 2 see ina 208 a 2 b 8 cfr. 1208.4 a 2 . mmmm is included in the asylum appl derivative beneficiary. id. the lead respondent testified in support of her applications on i 2017. for the following reasons her asylum application will be granted. il summary of the evidence a. documentary evidence the record of proceedings contains the following documents relevant to the respondents applications the lead respondent s nta exhibit 1 the lead respondent s form 1 589 exhibit 2 notice of hearing in removal proceedings issued july 11 2016 exhibit 3 the respondents witness list and supporting documents tabs a mm exhibits 4 6 and the march 8 2017 congressional research service report on el salvador exhibit 7 . all of these documents have been admitted into evidence and considered. b testimonial evidence the lead respondent s testimony and written declaration have been considered in their entirety and are summarized below to the extent relevant to the subsequent analysis. the lead respondent was born on . 1984 in the department of usulutan el salvador. she spent her entire life in the municipality o her father died when she was six years old and as a result she was primarily raised by her mother who instilled in her a belief in women s rights and gender equality. the lead respondent strongly believes that women and men should be treated equally and that women deserve respect which she testified is not a very common belief in el salvador. prior to coming to the united states the lead respondent lived in the neighborhood of ees with her partner eee and their three children. she worked as a community promoter social worker in different communities in usulutin. in this role she conducted home visits in various neighborhoods in and around i she used these visits to speak with her clients about among other things gender equality and the importance of healthy eating and hygiene habits. thus her work as a community promoter reinforced her belief in women s rights she ofien had to take long bus rides and or walk a long way to reach her clients the matters of ape. homes. she was required to wear a shirt and vest emblazoned with her organization s logo whenever she was working including on her commute. one day in early 2015 the lead respondent was walking from ', 'work to her mother s house in downtown to get there she had to walk along the town s main street a dangerous thoroughfare where ms 13 gang members routinely congregated. one of these men a gang member she knew as yelled a crude sexual advance at her. she ignored him and walked away. she was wearing her work shirt and vest at the time. although the incident upset and offended her the lead respondent believed this was a one time encounter. however ii continued to harass her every time she walked down the street. she never responded o him refusing even to look at him in the hopes that he would move on. he did not do so. rather as she continued to disregard him his behavior became more aggressive and menacing. he began following her down the street ofien so closely that she could see him in her peripheral vision. his verbal statements also grow more threatening the longer she denied his advances. he began to tell her that he was going to make her his woman by force whether she liked it or not. the lead respondent understood these statements to be implicit threats to rape her and force her to be his girlfriend. she knew from stories she had heard in the community that being the girlfriend of a gang member meant being obligated to submit sexually not only to that person but o other members of his gang as well. hr continued to follow and threaten to rape the lead respondent innumerable times over the course of the succeeding year including when her partner was with her. as his threats continued and increased she became more and more fearful that her defiance would result in him raping or killing her. nevertheless she did not report him to the police because she knew from news reports that the local police cooperated with the ms 13 gang. she also had heard of people who were killed after reporting gang members. in january 201 moved into an abandoned house three doors away from the lead respondent s home in he walked past her home multiple times per day and he often made threatening comments to her when he saw her when this happened she went inside and prayed he would not try to break into her home. she was under immense stress due to the ongoing threats and her health began to sufler she developed recurrent eye infections neck and back pain nightmares and a rash. she was afraid to leave the house. afier a year of repeated threats and approximately one month afte moved into her neighborhood the lead respondent decided that she had nu chvice but to flee. she did not believe that she could have relocated to another part of el salvador because she knew that the gang had nationwide contacts and she was certain that mmi would have been able to find her anywhere in the country. the lead respondent knew that mem was an ms 13 member because of the way he dressed the fact that he spent time with gang members and engaged in gang lookout activities and by his reputation in 3 i cy the lead respondent and her son im left el salvador on february 15 2016. and their other two children remained in el salvador. due to ongoing safety concems in the children moved to the lead respondent s mother s house. the lead respondent believed that if she were to return o el salvador ii will rape and kall her for defying him by escaping to the united states. iil law analysis findings a. credibility and corroboration the real id act of 2005 applies to this case because the lead respondent s asylum application was filed on or after may 11 2005. see matter of b 24 1 n dee. 42 bia 2006 ina 240 c4 a . a credibility determination may be based on the applicant s demeanor candor or responsiveness the inherent plausibility of her account the consistency between her written and oral statements the internal consistency of each such statement the consistency of each statement with other evidence of record any inaccuracies or falsehoods in such statements or any other factor without regard o whether an inconsistency inaccuracy or falsehood goes to the heart of the applicant s claim. ina 208 b 1 b ii . considering the totality of the circumstances i find that the lead respondent testified credibly. she provided candid straightforward and responsive testimony concerning the events leading to her departure from el salvador and her testimony was consistent with her written statement and record evidence. see generally exhs. 4 7. moreover her demeanor was calm and appropriate given the circumstances and did not indicate any attempt to mislead or to embellish her claim theref', 'ore i will credit her testimony in its entirety. b. asylum an asylum applicant has the burden of demonstrating that she is a refugee within the meaning of section 101 a 42 a of the act. ins v. cardoza fonseca 480 u.s. 421 423 1987 8cflr. 1208.13 a . a refugee isa person who is unwilling or unable to return to her country of origin and is unable or unwilling to avail herself of the protection of her government due to past persecution or a well founded fear of future persecution on account of her race religion nationality membership in a particular social group or political opinion. ina 101 a 42 a . in addition to establishing cligibility for asylum the applicant must demonstrate that a grant of asylum is warranted in the exercise of discretion. ina 208 b i a 8 c.f.r. 1208.14 a . i past persecution an application claiming past persecution must show that she suffered 1 severe harm amount to persecution 2 that was inflicted on account of a protected ground 3 by the government or an agent the government is unwilling or unable to control ina 208 b 1 b i hemandez avalos v. lynch 784 f.3d 944 949 4th cir. 2015 li v. gonzales 405 f.3d 171 176 77 4th cir. 2005 crespin valladares v. holder 632 f.3d 117 128 4th cir. 2011 matter of acosta 19 1 n dec. 211 222 bia 1985 . as discussed below the lead respondent has demonstrated past persecution on account of her imputed political opinion. ithe maes a. i ss 1. harm rising to the level of persecution persecution entails harm or suffering inflicted upon an individual to punish her for possessing a belief or characteristic the persecutor seeks to overcome. see matter of acosta 19 i n dec. at 222 23. persecution is an extreme concept that does not include every sort of treatment our society regards as offensive. li 405 f.3d at 177. rather it requires actions above mere harassment and includes the threat of death torture or injury to one s person or freedom. ida see also hernandez avalos 784 f.3d at 949. threats alone may constitute persecution but only when they are so menacing as to cause significant actual suffering or harm see matt z o 26 i n dec. 586 589 bia 2015 quoting lim v. ins 224 f.3d 929 936 9th cir. 2c00 . find that the lead respondent experienced severe harm that could amount to past persecution if she could show that the government of el salvador was not able to protect her at that time. for over a year the lead respondent was stalked and threatened with rape by a man she knew to be a member of one of the world s most violent criminal organizations. see e.g. exh. 4 exh. 5 tab t exh. 7 at 6. the year long continual escalating threats she experienced went beyond mere harassment. see matter of z z o 26 i n dee. at 58 followed her down the street so closely that she could see his shadow overlapping hers she was afraid to look directly at him believing that he would attack her if she did so he threatened to make her his girlfriend by force which in the context of the society in question was commonly known to be a threat to rape her force her into conditions tantamount to sexual slavery and or murder her. see .g. exh. 4 tab d 13 w hen a gang member demands that a woman become his girlfriend the demand connotes a significant threat to the life of the woman and her family. tab e exh. 5 tabs q s at 344 failure to comply with a demand to become a gang member s sexual partner is reportedly met with severe reprisals including homicides . . . or the threat of such violence. t u exh. 6 tabs x cc be ii jj ll. when he eventually moved into her neighborhood a mere three houses away from her own his threats took on a more menacing tone and represented a significant risk of imminent danger. she was afraid to leave her house and she developed numerous health problems due to the overwhelming stress and anxiety she experienced. although the she was never physically injured the totality of the harm she suffered due to il mee s imminent and menacing threats caused the lead respondent to experience significant actual suffering. see matter of z 2 o 26 i n dec. at 589. 2. source or agent of persecution an applicant for asylum based on past persecution must show she was persecuted by the government or by an agent the government is unwilling or unable to control see orellana v. barr 925 f.3d 145 151 4th cir. 2019 hernandez avalos 784 f.3d at 950 54 matter of s a 22 1 n dec. 1328 1335 bia 2000 whether a government is unable or unwilling to control private actors .... isa factual question that must be res', 'olved based on the record in each case. hernandez avalos 784 f.3d at 951 internal quotations omitted citing crespin valladares 632 f.3d at 128 . in the present case the lead respondent established that the government of el salvador was unwilling or unable o protect her from persecution although she never sought protection from police or other authorities in el salvador under fourth circuit law she was not required to seek government assistance when doing so 1 would have been futile or 2 would have subjected inthe matters i ee abb and her to further harm. orellana 925 f.3d at 153 internal quotations and citations omitted . count conditions in el salvador in 2016 evidence shows that had the lead respondent reported hmm 0 the police she likely would not have received the protection that she needed and she ikely would have faced an increased risk of harm. first although there were programs and laws in place that sought to combat gang violence and violence against women such lawsand programs were ineffectively enforced or poorly implemented. exh 4 tab d 4 21 23 citing bureau of democracy human rights and labor u.s. department of state country reports on human rights practices for el salvador 2016 bureau of democracy human rights and labor u.s. department of state country reports on human rights practices for el salvador 2018 2018 human rights report at 1 10 16 noting widespread government corruption and significant violent crime at the hands of organized criminal elements and stating that efforts by authorities to remedy situations where gangs targeted individuals were generally ineffective . a ccess to a nominal or ineffectual remedy docs not constitute meaningful recourse for the foreign government must be both willing and able to offer an applicant protection. orellana 925 f.3d at 152 internal quotations omitted . based on the totality of country conditions in el salvador as of 2016 i find that it would have been futile for the lead respondent to seek protection from the government. second even had the lead respondent reported een t0 the police the widespread corruption and infiltration of police by the gangs in 2016 might have put her at greater risk of harm. a woman choosing to report sexual advances or violence perpetrated by a gang member to the police is equivalent to signing her own death warrant because police communicate with the gangs and the consequence for the woman is typically homicide. exh. 4 tab d 22 sce also exh. 5 tab t at 364 those who have refused to help a gang or reported a crime a particularly vulnerable to murder . therefore the evidence shows that the government of el salvador was unable to protect the lead respondent from the harm that she suffered fi nexus to a protected ground the lead respondent asserts that the harm she suffered in el salvador was on account of her political opinion and or her membership in a particular social group. for the reasons discussed below i find that she demonstrated a nexus between the harm she suffered and her actual or imputed political opinion. as such need not address the additional protected grounds she raised. to succeed on a claim of persecution on account of political opinion an applicant must prove that 1 she actually holds a political opinion or that a political opinion is imputed to her and 2 she was targeted on account of that opinion. see abdel rahman v gonzales 493 f.3d 444 450 51 4th cir. 2007 . when evaluating whether an applicant was persecuted on account of an imputed opinion the relevant inquiry is not the political views sincerely held or expressed by the victim but rather the persecutor s subjective perception of the victim s views. alvarez lagos v. barr 927 f.3d 236 254 4th cir. 2019 . to establish that the harm was committed on account of a protected ground an applicant must demonstrate that a protected ground was at least one central reason she was harmed. ina 208 b 1 b i quinteros mendoza v. holder 556 f.3d 159 4th cir 2009 . the protected ground need not be the only reason for the persecution however it must be more than incidental tangential superficial or subordinate to another reason for the harm quinteros mendoza 556 f.3d at 164 internal quotations and citation omitted . the persecutor s motivation is an issue of fact. matter of s p 21 1 n dec. 486 490 bia 1996 . the i ee adjudicator must consider not only the articulated purpose of a persecutor s threats but also the intertwined reasons for those threats. cantillano cruz v. sessions', ' 853 f.3d 122 129 4th cir. 2017 oliva v. lynch 807 f.3d 53 59 60 4th cir. 2015 . here the lead respondent s belief in women s rights and equality constitutes a political opinion. sec. e.g. fatin v. ins 12 f.3d 1233 1242 43 3d cir. 1993 w e have little doubt that feminism qualifies as a political opinion within the meaning of the act respondents pre nearing brief at 29.178 cing united states chizenship and immigration services asvlum female asylum applicant jender related claims 27 28 mar. 12 2008 feminism isa politcal opinion oxford english dictionary 3d ed 2012 feminist adj. of relating to or advocating the rights and equality of women . although she never explicitly expressed her views to or in the presence of inr it is clear from the record that her actions were interpreted as an expression of a subversive belief regarding the role of women in gang held territories in el salvador. see alvarez lagos 927 f.3d at 254 given the totality of the circumstances presented here i find that these ascribed beliefs constituted a political opinion that imputed to the lead. the record evidence establishes that salvadoran gang members expect complete submission from women who reside in their territories. at the time the respondents departed form el salvador that country had the highest concentration of gang members per capita in central america. exh. 7 at 6. gangs exercise full territorial control in many neighborhoods throughout the country including the area where the lead respondent lived. see exh. 4 tab d 7 exh. 5 tab v at 429. specifically glangs consider women who reside in their sector to be a part of their territory and property giving the gang the right to sexually exploit these women. exh. 4 tab d. 411. when a woman refuses to comply with gang demands the gang member will . . . seek to make clear that his authority and patriarchal power will not be challenged by a woman. exh. 4 tab e 15. gangs target such women . .. to make clear that their authority and patriarchal power are not defied by those they perceive to be inferior to them. id 16 a woman who refuses 0 comply with gang demands is especially endangered as gangs have no respect for women and expect complete submission from them. . these country conditions support the conclusion that when the lead respondent refused to submit to nee s threats he interpreted this defiance as a challenge to gang s authority which in the context of el salvador constitutes an imputed political opinion. exh. 5 tab v at 429 30 the ground of political opinion needs to reflect the reality of the specific geographical historical political legal judicial and sociocultural context of the country of origin. alvarez lagos 927 f.3d at 255 finding that refusal to comply with a gang s demands might warrant a grant of asylum based on imputed politcal opinion and remanding for he agency to address this issue . in addition to her actions defying his authority the lead respondent was a community promoter who openly advocated ideas of gender equality among her clients throughout the gang s territory. een was fully aware of this work having seen her wearing her uniform around town and this knowledge likely contributed his imputation of a political opinion. accordingly the lead respondent demonstrated both that she actually holds a political opinion and that a political opinion was imputed to her by her persecutor. ith manes a abe 2c moreover the preponderance of the evidence establishes that the lead respondent was persecuted on account of imputed political opinion. note first that there is insufficient evidence that initially targeted her on account of any political opinion. however while il here s original catcalls merely constituted harassment his actions toward her became more threatening as she repeatedly ignored his advances when the lead respondent refused 10 succumb to his threats or to even acknowledge his attempts to assert power over her his behavior became more menacing and his threats grew increasingly violent ultimately rising to the level of persecution as discussed above. thus regardless of his motivation for initiating contact with her the reasons for his persecutory threats and menacing behavior quickly became intertwined with a desire to punish her for the imputed political opinion discussed above. see cantillano cruz 853 f.3d at 129. in other words the harm amounting to persecution was inflicted not because hee was interested in pursuing a romantic or sexual relationship with the lea', 'd respondent but rather to overcome political beliefs regarding women s rights in the gang s territory that he imputed to her. as such the persecution the lead respondent experienced in el salvador was carried out in retaliation for her resistance ae and the gang s authority and that this persecution was inextricably linked to her imputed political opinion. see oliva 807 f.3d at 59 60. therefore the lead respondent has established past persecution on account of political iii well founded fear of future persecution on account of a protected ground dhs can overcome the presumption that the lead respondent has a well founded fear of future persecution based on past harm by showing that 1 there has been a fundamental change in circumstances such that her fear of persecution is no longer well founded or 2 she could avoid future persecution by relocating to another part of the country and that it would be reasonable to expect her to do so under all the circumstances. see 8 c.f.r. 1208.13 b 1 i . dhs did not offer any evidence to rebut the regulatory presumption of future persecution that is triggered by the finding of past persecution. while the government of el salvador has made substantial strides over the last two years to combat gang violence the totality of the country conditions evidence shows that there has not been a meaningful change in country conditions or that the lead respondent will be able to relocate to another part of the country to avoid and his gang s menacing threats. see exh. 4 tab d 21 22 noting that government strategies to combat gang and gender based violence are typically short lived tab e 28 30 tabs y kk. this conclusion is consistent with the fourth circuit s reasoning in alvarez lagos which was based on a consideration of both the applicant s political opinion and the fact that she lived in a violent gang controlled territory. for the above stated reasons the lead respondent has demonstrated a presumed well founded fear of future persecution based on imputed political opinion. she is therefore statutorily eligible for asylum. iv. discretion an applicant must also demonstrate that in the totality of the circumstances she merits a favorable exercise of discretion. see matter of pula 19 1 n dec. 467 473 bia 1987 . a well founded fear of persecution should generally outweigh all but the most egregious adverse inthe matters o ae factors. id. at 474 zuh v. mukasey 547 f.3d 504 507 14 4th cir. 2008 noting that discretionary denials are exceedingly rare and require egregious negative activity by the applicant . the only negative factor in the lead respondent s case is the unlawful manner in. which she attempted to come into the united states. however this negative factor is greatly outweighed by the demonstrated danger of future persecution that she would face if removed to el salvador. see matter of pula 19 1 n dec. at 473. accordingly will grant her asylum application in the exercise of discretion. iv. conclusion the lead respondent has demonstrated past persecution and a presumed well founded fear of future persecution on account of imputed political opinion. her application for asylum under ina 208 a will be granted as a matter of discretion. n s derivative application for asylum is also granted. because the respondents asylum applications are granted it is not necess ry to consider their applications for withholding of removal under the act or for protection under the cat. the following order is entered order the lead respondent s application for asylum under ina 208 a is granted. the minor respondent s derivative application for asylum under ina 208 b 3 is granted. quynh e immigration judge date july 29 2019 appeal rights both parties have the right to appeal the decision in this case. any appeal is due at the board of immigration appeals on or before thirty 30 calendar days from the dete of service of this decision or by august 28 2019.']\n"
     ]
    }
   ],
   "source": [
    "split_clean_text = []\n",
    "n = 4500\n",
    "for i in range(0, len(clean_ij_dec_text), n):\n",
    "  split_clean_text.append(clean_ij_dec_text[i : i+n])\n",
    "\n",
    "print(split_clean_text)"
   ]
  },
  {
   "cell_type": "code",
   "execution_count": null,
   "metadata": {
    "colab": {
     "base_uri": "https://localhost:8080/"
    },
    "id": "gc6EsP2qZb5d",
    "outputId": "4456cc46-1ed2-4b64-8441-77c3a4eaa105"
   },
   "outputs": [
    {
     "data": {
      "text/plain": [
       "6"
      ]
     },
     "execution_count": 60,
     "metadata": {},
     "output_type": "execute_result"
    }
   ],
   "source": [
    "len(split_clean_text)"
   ]
  },
  {
   "cell_type": "code",
   "execution_count": null,
   "metadata": {
    "colab": {
     "base_uri": "https://localhost:8080/"
    },
    "id": "G9pxca_nZeRU",
    "outputId": "ad4167fb-d8e9-4987-b7bb-d7dc8439233b"
   },
   "outputs": [
    {
     "name": "stderr",
     "output_type": "stream",
     "text": [
      "Your max_length is set to 900, but you input_length is only 890. You might consider decreasing max_length manually, e.g. summarizer('...', max_length=50)\n"
     ]
    },
    {
     "name": "stdout",
     "output_type": "stream",
     "text": [
      " The lead respondent s belief in women s rights and equality constitutes a political opinion . Her actions were interpreted as an expression of a subversive belief regarding the role of women in gang held territories in el salvador . She was a community promoter who openly advocated ideas of gender equality among her clients throughout the gang s territory .\n"
     ]
    }
   ],
   "source": [
    "summary_text = summarizer(split_clean_text[4], max_length=900, min_length=5, \n",
    "                          do_sample=False)[0]['summary_text']\n",
    "print(summary_text)"
   ]
  },
  {
   "cell_type": "code",
   "execution_count": null,
   "metadata": {
    "colab": {
     "base_uri": "https://localhost:8080/"
    },
    "id": "IT9odzbFZtvo",
    "outputId": "afd32de9-15f3-41f6-ca51-bdc16870fa9a"
   },
   "outputs": [
    {
     "name": "stdout",
     "output_type": "stream",
     "text": [
      " Immigration judge quynh e immigration judge date july 29 2019 appeal rights both parties have the right to appeal the decision in this case . The lead respondent has established past persecution on account of political beliefs regarding women s rights in the gang s territory .\n"
     ]
    }
   ],
   "source": [
    "summary_text = summarizer(split_clean_text[5], max_length=771, min_length=5, \n",
    "                          do_sample=False)[0]['summary_text']\n",
    "print(summary_text)"
   ]
  }
 ],
 "metadata": {
  "colab": {
   "collapsed_sections": [],
   "name": "Case_Summary_Proposed_Feature.ipynb",
   "provenance": []
  },
  "kernelspec": {
   "display_name": "Python 3 (ipykernel)",
   "language": "python",
   "name": "python3"
  },
  "language_info": {
   "codemirror_mode": {
    "name": "ipython",
    "version": 3
   },
   "file_extension": ".py",
   "mimetype": "text/x-python",
   "name": "python",
   "nbconvert_exporter": "python",
   "pygments_lexer": "ipython3",
   "version": "3.9.6"
  },
  "widgets": {
   "application/vnd.jupyter.widget-state+json": {
    "08712d96b8fc490f8405efe70d51a2dc": {
     "model_module": "@jupyter-widgets/base",
     "model_module_version": "1.2.0",
     "model_name": "LayoutModel",
     "state": {
      "_model_module": "@jupyter-widgets/base",
      "_model_module_version": "1.2.0",
      "_model_name": "LayoutModel",
      "_view_count": null,
      "_view_module": "@jupyter-widgets/base",
      "_view_module_version": "1.2.0",
      "_view_name": "LayoutView",
      "align_content": null,
      "align_items": null,
      "align_self": null,
      "border": null,
      "bottom": null,
      "display": null,
      "flex": null,
      "flex_flow": null,
      "grid_area": null,
      "grid_auto_columns": null,
      "grid_auto_flow": null,
      "grid_auto_rows": null,
      "grid_column": null,
      "grid_gap": null,
      "grid_row": null,
      "grid_template_areas": null,
      "grid_template_columns": null,
      "grid_template_rows": null,
      "height": null,
      "justify_content": null,
      "justify_items": null,
      "left": null,
      "margin": null,
      "max_height": null,
      "max_width": null,
      "min_height": null,
      "min_width": null,
      "object_fit": null,
      "object_position": null,
      "order": null,
      "overflow": null,
      "overflow_x": null,
      "overflow_y": null,
      "padding": null,
      "right": null,
      "top": null,
      "visibility": null,
      "width": null
     }
    },
    "088f247513004b94bf1237a98f709d06": {
     "model_module": "@jupyter-widgets/base",
     "model_module_version": "1.2.0",
     "model_name": "LayoutModel",
     "state": {
      "_model_module": "@jupyter-widgets/base",
      "_model_module_version": "1.2.0",
      "_model_name": "LayoutModel",
      "_view_count": null,
      "_view_module": "@jupyter-widgets/base",
      "_view_module_version": "1.2.0",
      "_view_name": "LayoutView",
      "align_content": null,
      "align_items": null,
      "align_self": null,
      "border": null,
      "bottom": null,
      "display": null,
      "flex": null,
      "flex_flow": null,
      "grid_area": null,
      "grid_auto_columns": null,
      "grid_auto_flow": null,
      "grid_auto_rows": null,
      "grid_column": null,
      "grid_gap": null,
      "grid_row": null,
      "grid_template_areas": null,
      "grid_template_columns": null,
      "grid_template_rows": null,
      "height": null,
      "justify_content": null,
      "justify_items": null,
      "left": null,
      "margin": null,
      "max_height": null,
      "max_width": null,
      "min_height": null,
      "min_width": null,
      "object_fit": null,
      "object_position": null,
      "order": null,
      "overflow": null,
      "overflow_x": null,
      "overflow_y": null,
      "padding": null,
      "right": null,
      "top": null,
      "visibility": null,
      "width": null
     }
    },
    "0be6b428fe01412ea0712435426a2a62": {
     "model_module": "@jupyter-widgets/controls",
     "model_module_version": "1.5.0",
     "model_name": "HTMLModel",
     "state": {
      "_dom_classes": [],
      "_model_module": "@jupyter-widgets/controls",
      "_model_module_version": "1.5.0",
      "_model_name": "HTMLModel",
      "_view_count": null,
      "_view_module": "@jupyter-widgets/controls",
      "_view_module_version": "1.5.0",
      "_view_name": "HTMLView",
      "description": "",
      "description_tooltip": null,
      "layout": "IPY_MODEL_8538ff0384b146e9a53213f77a480034",
      "placeholder": "​",
      "style": "IPY_MODEL_227667c3f276467fb76b2ed759ba3954",
      "value": "Downloading: 100%"
     }
    },
    "0e31c1f9907740fb9867fd7dbe0118d0": {
     "model_module": "@jupyter-widgets/base",
     "model_module_version": "1.2.0",
     "model_name": "LayoutModel",
     "state": {
      "_model_module": "@jupyter-widgets/base",
      "_model_module_version": "1.2.0",
      "_model_name": "LayoutModel",
      "_view_count": null,
      "_view_module": "@jupyter-widgets/base",
      "_view_module_version": "1.2.0",
      "_view_name": "LayoutView",
      "align_content": null,
      "align_items": null,
      "align_self": null,
      "border": null,
      "bottom": null,
      "display": null,
      "flex": null,
      "flex_flow": null,
      "grid_area": null,
      "grid_auto_columns": null,
      "grid_auto_flow": null,
      "grid_auto_rows": null,
      "grid_column": null,
      "grid_gap": null,
      "grid_row": null,
      "grid_template_areas": null,
      "grid_template_columns": null,
      "grid_template_rows": null,
      "height": null,
      "justify_content": null,
      "justify_items": null,
      "left": null,
      "margin": null,
      "max_height": null,
      "max_width": null,
      "min_height": null,
      "min_width": null,
      "object_fit": null,
      "object_position": null,
      "order": null,
      "overflow": null,
      "overflow_x": null,
      "overflow_y": null,
      "padding": null,
      "right": null,
      "top": null,
      "visibility": null,
      "width": null
     }
    },
    "13dabe760fdd45d29d8bbad25bf5fd9e": {
     "model_module": "@jupyter-widgets/base",
     "model_module_version": "1.2.0",
     "model_name": "LayoutModel",
     "state": {
      "_model_module": "@jupyter-widgets/base",
      "_model_module_version": "1.2.0",
      "_model_name": "LayoutModel",
      "_view_count": null,
      "_view_module": "@jupyter-widgets/base",
      "_view_module_version": "1.2.0",
      "_view_name": "LayoutView",
      "align_content": null,
      "align_items": null,
      "align_self": null,
      "border": null,
      "bottom": null,
      "display": null,
      "flex": null,
      "flex_flow": null,
      "grid_area": null,
      "grid_auto_columns": null,
      "grid_auto_flow": null,
      "grid_auto_rows": null,
      "grid_column": null,
      "grid_gap": null,
      "grid_row": null,
      "grid_template_areas": null,
      "grid_template_columns": null,
      "grid_template_rows": null,
      "height": null,
      "justify_content": null,
      "justify_items": null,
      "left": null,
      "margin": null,
      "max_height": null,
      "max_width": null,
      "min_height": null,
      "min_width": null,
      "object_fit": null,
      "object_position": null,
      "order": null,
      "overflow": null,
      "overflow_x": null,
      "overflow_y": null,
      "padding": null,
      "right": null,
      "top": null,
      "visibility": null,
      "width": null
     }
    },
    "17e3e80ecf6a4ab8902fd948e59f6b2f": {
     "model_module": "@jupyter-widgets/controls",
     "model_module_version": "1.5.0",
     "model_name": "HBoxModel",
     "state": {
      "_dom_classes": [],
      "_model_module": "@jupyter-widgets/controls",
      "_model_module_version": "1.5.0",
      "_model_name": "HBoxModel",
      "_view_count": null,
      "_view_module": "@jupyter-widgets/controls",
      "_view_module_version": "1.5.0",
      "_view_name": "HBoxView",
      "box_style": "",
      "children": [
       "IPY_MODEL_956698892431487cbc72f42c94d09d86",
       "IPY_MODEL_75484fb674974618855a4d0e52dd2fc7",
       "IPY_MODEL_b2054d9c39bd4dc491f31f14dc9003ee"
      ],
      "layout": "IPY_MODEL_f1aa23843c904fdaa3ff9ac40af9b01a"
     }
    },
    "1a451de1913f4e2380aae6998f69e130": {
     "model_module": "@jupyter-widgets/base",
     "model_module_version": "1.2.0",
     "model_name": "LayoutModel",
     "state": {
      "_model_module": "@jupyter-widgets/base",
      "_model_module_version": "1.2.0",
      "_model_name": "LayoutModel",
      "_view_count": null,
      "_view_module": "@jupyter-widgets/base",
      "_view_module_version": "1.2.0",
      "_view_name": "LayoutView",
      "align_content": null,
      "align_items": null,
      "align_self": null,
      "border": null,
      "bottom": null,
      "display": null,
      "flex": null,
      "flex_flow": null,
      "grid_area": null,
      "grid_auto_columns": null,
      "grid_auto_flow": null,
      "grid_auto_rows": null,
      "grid_column": null,
      "grid_gap": null,
      "grid_row": null,
      "grid_template_areas": null,
      "grid_template_columns": null,
      "grid_template_rows": null,
      "height": null,
      "justify_content": null,
      "justify_items": null,
      "left": null,
      "margin": null,
      "max_height": null,
      "max_width": null,
      "min_height": null,
      "min_width": null,
      "object_fit": null,
      "object_position": null,
      "order": null,
      "overflow": null,
      "overflow_x": null,
      "overflow_y": null,
      "padding": null,
      "right": null,
      "top": null,
      "visibility": null,
      "width": null
     }
    },
    "1adf565d93594dd89fd0837b5e38daab": {
     "model_module": "@jupyter-widgets/controls",
     "model_module_version": "1.5.0",
     "model_name": "HTMLModel",
     "state": {
      "_dom_classes": [],
      "_model_module": "@jupyter-widgets/controls",
      "_model_module_version": "1.5.0",
      "_model_name": "HTMLModel",
      "_view_count": null,
      "_view_module": "@jupyter-widgets/controls",
      "_view_module_version": "1.5.0",
      "_view_name": "HTMLView",
      "description": "",
      "description_tooltip": null,
      "layout": "IPY_MODEL_088f247513004b94bf1237a98f709d06",
      "placeholder": "​",
      "style": "IPY_MODEL_77f8bf3a0eb04709a18a97bf28160c57",
      "value": " 1.30k/1.30k [00:00&lt;00:00, 30.8kB/s]"
     }
    },
    "1c208c9438084cc6b3af1a09b765212c": {
     "model_module": "@jupyter-widgets/controls",
     "model_module_version": "1.5.0",
     "model_name": "DescriptionStyleModel",
     "state": {
      "_model_module": "@jupyter-widgets/controls",
      "_model_module_version": "1.5.0",
      "_model_name": "DescriptionStyleModel",
      "_view_count": null,
      "_view_module": "@jupyter-widgets/base",
      "_view_module_version": "1.2.0",
      "_view_name": "StyleView",
      "description_width": ""
     }
    },
    "1d97d747e97344bd8811ec8a043f3360": {
     "model_module": "@jupyter-widgets/controls",
     "model_module_version": "1.5.0",
     "model_name": "DescriptionStyleModel",
     "state": {
      "_model_module": "@jupyter-widgets/controls",
      "_model_module_version": "1.5.0",
      "_model_name": "DescriptionStyleModel",
      "_view_count": null,
      "_view_module": "@jupyter-widgets/base",
      "_view_module_version": "1.2.0",
      "_view_name": "StyleView",
      "description_width": ""
     }
    },
    "21f9546e02de409d89235a5e255a64b9": {
     "model_module": "@jupyter-widgets/base",
     "model_module_version": "1.2.0",
     "model_name": "LayoutModel",
     "state": {
      "_model_module": "@jupyter-widgets/base",
      "_model_module_version": "1.2.0",
      "_model_name": "LayoutModel",
      "_view_count": null,
      "_view_module": "@jupyter-widgets/base",
      "_view_module_version": "1.2.0",
      "_view_name": "LayoutView",
      "align_content": null,
      "align_items": null,
      "align_self": null,
      "border": null,
      "bottom": null,
      "display": null,
      "flex": null,
      "flex_flow": null,
      "grid_area": null,
      "grid_auto_columns": null,
      "grid_auto_flow": null,
      "grid_auto_rows": null,
      "grid_column": null,
      "grid_gap": null,
      "grid_row": null,
      "grid_template_areas": null,
      "grid_template_columns": null,
      "grid_template_rows": null,
      "height": null,
      "justify_content": null,
      "justify_items": null,
      "left": null,
      "margin": null,
      "max_height": null,
      "max_width": null,
      "min_height": null,
      "min_width": null,
      "object_fit": null,
      "object_position": null,
      "order": null,
      "overflow": null,
      "overflow_x": null,
      "overflow_y": null,
      "padding": null,
      "right": null,
      "top": null,
      "visibility": null,
      "width": null
     }
    },
    "227667c3f276467fb76b2ed759ba3954": {
     "model_module": "@jupyter-widgets/controls",
     "model_module_version": "1.5.0",
     "model_name": "DescriptionStyleModel",
     "state": {
      "_model_module": "@jupyter-widgets/controls",
      "_model_module_version": "1.5.0",
      "_model_name": "DescriptionStyleModel",
      "_view_count": null,
      "_view_module": "@jupyter-widgets/base",
      "_view_module_version": "1.2.0",
      "_view_name": "StyleView",
      "description_width": ""
     }
    },
    "22b54f0cb3a04e0bb75acb75405fb907": {
     "model_module": "@jupyter-widgets/controls",
     "model_module_version": "1.5.0",
     "model_name": "DescriptionStyleModel",
     "state": {
      "_model_module": "@jupyter-widgets/controls",
      "_model_module_version": "1.5.0",
      "_model_name": "DescriptionStyleModel",
      "_view_count": null,
      "_view_module": "@jupyter-widgets/base",
      "_view_module_version": "1.2.0",
      "_view_name": "StyleView",
      "description_width": ""
     }
    },
    "230b68287ddb466c8eb3723047480389": {
     "model_module": "@jupyter-widgets/controls",
     "model_module_version": "1.5.0",
     "model_name": "HTMLModel",
     "state": {
      "_dom_classes": [],
      "_model_module": "@jupyter-widgets/controls",
      "_model_module_version": "1.5.0",
      "_model_name": "HTMLModel",
      "_view_count": null,
      "_view_module": "@jupyter-widgets/controls",
      "_view_module_version": "1.5.0",
      "_view_name": "HTMLView",
      "description": "",
      "description_tooltip": null,
      "layout": "IPY_MODEL_f021d8c43ef34a2c8eb63d039cba10c0",
      "placeholder": "​",
      "style": "IPY_MODEL_1d97d747e97344bd8811ec8a043f3360",
      "value": " 2.13G/2.13G [01:04&lt;00:00, 35.8MB/s]"
     }
    },
    "2372fff9d5d34ed5bda44d2c730544ec": {
     "model_module": "@jupyter-widgets/base",
     "model_module_version": "1.2.0",
     "model_name": "LayoutModel",
     "state": {
      "_model_module": "@jupyter-widgets/base",
      "_model_module_version": "1.2.0",
      "_model_name": "LayoutModel",
      "_view_count": null,
      "_view_module": "@jupyter-widgets/base",
      "_view_module_version": "1.2.0",
      "_view_name": "LayoutView",
      "align_content": null,
      "align_items": null,
      "align_self": null,
      "border": null,
      "bottom": null,
      "display": null,
      "flex": null,
      "flex_flow": null,
      "grid_area": null,
      "grid_auto_columns": null,
      "grid_auto_flow": null,
      "grid_auto_rows": null,
      "grid_column": null,
      "grid_gap": null,
      "grid_row": null,
      "grid_template_areas": null,
      "grid_template_columns": null,
      "grid_template_rows": null,
      "height": null,
      "justify_content": null,
      "justify_items": null,
      "left": null,
      "margin": null,
      "max_height": null,
      "max_width": null,
      "min_height": null,
      "min_width": null,
      "object_fit": null,
      "object_position": null,
      "order": null,
      "overflow": null,
      "overflow_x": null,
      "overflow_y": null,
      "padding": null,
      "right": null,
      "top": null,
      "visibility": null,
      "width": null
     }
    },
    "24bb214702ce45fbbc7c8054ed7f5078": {
     "model_module": "@jupyter-widgets/controls",
     "model_module_version": "1.5.0",
     "model_name": "HTMLModel",
     "state": {
      "_dom_classes": [],
      "_model_module": "@jupyter-widgets/controls",
      "_model_module_version": "1.5.0",
      "_model_name": "HTMLModel",
      "_view_count": null,
      "_view_module": "@jupyter-widgets/controls",
      "_view_module_version": "1.5.0",
      "_view_name": "HTMLView",
      "description": "",
      "description_tooltip": null,
      "layout": "IPY_MODEL_66e9bbb1ccb243f59d2b4a34e6ddff03",
      "placeholder": "​",
      "style": "IPY_MODEL_ae13327a63c640c6ac3f38f0a05fcbb2",
      "value": "Downloading: 100%"
     }
    },
    "267d868bb447476ca003d849c1777b91": {
     "model_module": "@jupyter-widgets/controls",
     "model_module_version": "1.5.0",
     "model_name": "DescriptionStyleModel",
     "state": {
      "_model_module": "@jupyter-widgets/controls",
      "_model_module_version": "1.5.0",
      "_model_name": "DescriptionStyleModel",
      "_view_count": null,
      "_view_module": "@jupyter-widgets/base",
      "_view_module_version": "1.2.0",
      "_view_name": "StyleView",
      "description_width": ""
     }
    },
    "2930123601754022a77e324702b3f6f9": {
     "model_module": "@jupyter-widgets/controls",
     "model_module_version": "1.5.0",
     "model_name": "HTMLModel",
     "state": {
      "_dom_classes": [],
      "_model_module": "@jupyter-widgets/controls",
      "_model_module_version": "1.5.0",
      "_model_name": "HTMLModel",
      "_view_count": null,
      "_view_module": "@jupyter-widgets/controls",
      "_view_module_version": "1.5.0",
      "_view_name": "HTMLView",
      "description": "",
      "description_tooltip": null,
      "layout": "IPY_MODEL_c9cb29d861d1499c8e47cf899a00ef00",
      "placeholder": "​",
      "style": "IPY_MODEL_f4f1e0be20364f1a9bd03143d8dbec9d",
      "value": "Downloading: 100%"
     }
    },
    "29bd94c0705e4379beb8861e0bb82c45": {
     "model_module": "@jupyter-widgets/controls",
     "model_module_version": "1.5.0",
     "model_name": "HBoxModel",
     "state": {
      "_dom_classes": [],
      "_model_module": "@jupyter-widgets/controls",
      "_model_module_version": "1.5.0",
      "_model_name": "HBoxModel",
      "_view_count": null,
      "_view_module": "@jupyter-widgets/controls",
      "_view_module_version": "1.5.0",
      "_view_name": "HBoxView",
      "box_style": "",
      "children": [
       "IPY_MODEL_b5a177cdde594c999ed610940e56e3a5",
       "IPY_MODEL_fa92f7fa8b47478cb2b79c67d8bc7ea9",
       "IPY_MODEL_bcde74ef5b6c4736a52a2f1dfb449465"
      ],
      "layout": "IPY_MODEL_2f8e3053e2b54762a0a670556226f1af"
     }
    },
    "2f8e3053e2b54762a0a670556226f1af": {
     "model_module": "@jupyter-widgets/base",
     "model_module_version": "1.2.0",
     "model_name": "LayoutModel",
     "state": {
      "_model_module": "@jupyter-widgets/base",
      "_model_module_version": "1.2.0",
      "_model_name": "LayoutModel",
      "_view_count": null,
      "_view_module": "@jupyter-widgets/base",
      "_view_module_version": "1.2.0",
      "_view_name": "LayoutView",
      "align_content": null,
      "align_items": null,
      "align_self": null,
      "border": null,
      "bottom": null,
      "display": null,
      "flex": null,
      "flex_flow": null,
      "grid_area": null,
      "grid_auto_columns": null,
      "grid_auto_flow": null,
      "grid_auto_rows": null,
      "grid_column": null,
      "grid_gap": null,
      "grid_row": null,
      "grid_template_areas": null,
      "grid_template_columns": null,
      "grid_template_rows": null,
      "height": null,
      "justify_content": null,
      "justify_items": null,
      "left": null,
      "margin": null,
      "max_height": null,
      "max_width": null,
      "min_height": null,
      "min_width": null,
      "object_fit": null,
      "object_position": null,
      "order": null,
      "overflow": null,
      "overflow_x": null,
      "overflow_y": null,
      "padding": null,
      "right": null,
      "top": null,
      "visibility": null,
      "width": null
     }
    },
    "308f906c23a44079a03a021f9e7e7cfb": {
     "model_module": "@jupyter-widgets/controls",
     "model_module_version": "1.5.0",
     "model_name": "HTMLModel",
     "state": {
      "_dom_classes": [],
      "_model_module": "@jupyter-widgets/controls",
      "_model_module_version": "1.5.0",
      "_model_name": "HTMLModel",
      "_view_count": null,
      "_view_module": "@jupyter-widgets/controls",
      "_view_module_version": "1.5.0",
      "_view_name": "HTMLView",
      "description": "",
      "description_tooltip": null,
      "layout": "IPY_MODEL_d1b62881996f46eab68c515d263f448a",
      "placeholder": "​",
      "style": "IPY_MODEL_32ac0e510cec4b51b9658973cdd27e87",
      "value": " 1.76k/1.76k [00:00&lt;00:00, 28.1kB/s]"
     }
    },
    "32ac0e510cec4b51b9658973cdd27e87": {
     "model_module": "@jupyter-widgets/controls",
     "model_module_version": "1.5.0",
     "model_name": "DescriptionStyleModel",
     "state": {
      "_model_module": "@jupyter-widgets/controls",
      "_model_module_version": "1.5.0",
      "_model_name": "DescriptionStyleModel",
      "_view_count": null,
      "_view_module": "@jupyter-widgets/base",
      "_view_module_version": "1.2.0",
      "_view_name": "StyleView",
      "description_width": ""
     }
    },
    "32e782dbbc824f49b43b9e5c223764bc": {
     "model_module": "@jupyter-widgets/base",
     "model_module_version": "1.2.0",
     "model_name": "LayoutModel",
     "state": {
      "_model_module": "@jupyter-widgets/base",
      "_model_module_version": "1.2.0",
      "_model_name": "LayoutModel",
      "_view_count": null,
      "_view_module": "@jupyter-widgets/base",
      "_view_module_version": "1.2.0",
      "_view_name": "LayoutView",
      "align_content": null,
      "align_items": null,
      "align_self": null,
      "border": null,
      "bottom": null,
      "display": null,
      "flex": null,
      "flex_flow": null,
      "grid_area": null,
      "grid_auto_columns": null,
      "grid_auto_flow": null,
      "grid_auto_rows": null,
      "grid_column": null,
      "grid_gap": null,
      "grid_row": null,
      "grid_template_areas": null,
      "grid_template_columns": null,
      "grid_template_rows": null,
      "height": null,
      "justify_content": null,
      "justify_items": null,
      "left": null,
      "margin": null,
      "max_height": null,
      "max_width": null,
      "min_height": null,
      "min_width": null,
      "object_fit": null,
      "object_position": null,
      "order": null,
      "overflow": null,
      "overflow_x": null,
      "overflow_y": null,
      "padding": null,
      "right": null,
      "top": null,
      "visibility": null,
      "width": null
     }
    },
    "3368c575a04744e5ab34c52b96ed2e44": {
     "model_module": "@jupyter-widgets/controls",
     "model_module_version": "1.5.0",
     "model_name": "HTMLModel",
     "state": {
      "_dom_classes": [],
      "_model_module": "@jupyter-widgets/controls",
      "_model_module_version": "1.5.0",
      "_model_name": "HTMLModel",
      "_view_count": null,
      "_view_module": "@jupyter-widgets/controls",
      "_view_module_version": "1.5.0",
      "_view_name": "HTMLView",
      "description": "",
      "description_tooltip": null,
      "layout": "IPY_MODEL_be783a70e5d14359b809839558f0b506",
      "placeholder": "​",
      "style": "IPY_MODEL_b788c14cfa064a63b77c69c0c24dbed6",
      "value": " 1.47k/1.47k [00:00&lt;00:00, 25.7kB/s]"
     }
    },
    "3612fa5ef9e7431d9ceca561695cec45": {
     "model_module": "@jupyter-widgets/controls",
     "model_module_version": "1.5.0",
     "model_name": "HBoxModel",
     "state": {
      "_dom_classes": [],
      "_model_module": "@jupyter-widgets/controls",
      "_model_module_version": "1.5.0",
      "_model_name": "HBoxModel",
      "_view_count": null,
      "_view_module": "@jupyter-widgets/controls",
      "_view_module_version": "1.5.0",
      "_view_name": "HBoxView",
      "box_style": "",
      "children": [
       "IPY_MODEL_0be6b428fe01412ea0712435426a2a62",
       "IPY_MODEL_cd76cd6b41a648be806d359876d9766a",
       "IPY_MODEL_fa724c4c41c944499a80933e5b5e4fdc"
      ],
      "layout": "IPY_MODEL_0e31c1f9907740fb9867fd7dbe0118d0"
     }
    },
    "3d804c78483548f19b05614557889bbb": {
     "model_module": "@jupyter-widgets/base",
     "model_module_version": "1.2.0",
     "model_name": "LayoutModel",
     "state": {
      "_model_module": "@jupyter-widgets/base",
      "_model_module_version": "1.2.0",
      "_model_name": "LayoutModel",
      "_view_count": null,
      "_view_module": "@jupyter-widgets/base",
      "_view_module_version": "1.2.0",
      "_view_name": "LayoutView",
      "align_content": null,
      "align_items": null,
      "align_self": null,
      "border": null,
      "bottom": null,
      "display": null,
      "flex": null,
      "flex_flow": null,
      "grid_area": null,
      "grid_auto_columns": null,
      "grid_auto_flow": null,
      "grid_auto_rows": null,
      "grid_column": null,
      "grid_gap": null,
      "grid_row": null,
      "grid_template_areas": null,
      "grid_template_columns": null,
      "grid_template_rows": null,
      "height": null,
      "justify_content": null,
      "justify_items": null,
      "left": null,
      "margin": null,
      "max_height": null,
      "max_width": null,
      "min_height": null,
      "min_width": null,
      "object_fit": null,
      "object_position": null,
      "order": null,
      "overflow": null,
      "overflow_x": null,
      "overflow_y": null,
      "padding": null,
      "right": null,
      "top": null,
      "visibility": null,
      "width": null
     }
    },
    "4587e132ec7f4b4abb6fd465e00dce9b": {
     "model_module": "@jupyter-widgets/base",
     "model_module_version": "1.2.0",
     "model_name": "LayoutModel",
     "state": {
      "_model_module": "@jupyter-widgets/base",
      "_model_module_version": "1.2.0",
      "_model_name": "LayoutModel",
      "_view_count": null,
      "_view_module": "@jupyter-widgets/base",
      "_view_module_version": "1.2.0",
      "_view_name": "LayoutView",
      "align_content": null,
      "align_items": null,
      "align_self": null,
      "border": null,
      "bottom": null,
      "display": null,
      "flex": null,
      "flex_flow": null,
      "grid_area": null,
      "grid_auto_columns": null,
      "grid_auto_flow": null,
      "grid_auto_rows": null,
      "grid_column": null,
      "grid_gap": null,
      "grid_row": null,
      "grid_template_areas": null,
      "grid_template_columns": null,
      "grid_template_rows": null,
      "height": null,
      "justify_content": null,
      "justify_items": null,
      "left": null,
      "margin": null,
      "max_height": null,
      "max_width": null,
      "min_height": null,
      "min_width": null,
      "object_fit": null,
      "object_position": null,
      "order": null,
      "overflow": null,
      "overflow_x": null,
      "overflow_y": null,
      "padding": null,
      "right": null,
      "top": null,
      "visibility": null,
      "width": null
     }
    },
    "49cc54e2daad4b028f53c900a7f756e5": {
     "model_module": "@jupyter-widgets/controls",
     "model_module_version": "1.5.0",
     "model_name": "HTMLModel",
     "state": {
      "_dom_classes": [],
      "_model_module": "@jupyter-widgets/controls",
      "_model_module_version": "1.5.0",
      "_model_name": "HTMLModel",
      "_view_count": null,
      "_view_module": "@jupyter-widgets/controls",
      "_view_module_version": "1.5.0",
      "_view_name": "HTMLView",
      "description": "",
      "description_tooltip": null,
      "layout": "IPY_MODEL_13dabe760fdd45d29d8bbad25bf5fd9e",
      "placeholder": "​",
      "style": "IPY_MODEL_22b54f0cb3a04e0bb75acb75405fb907",
      "value": "Downloading: 100%"
     }
    },
    "4a43f503121b49538ef9b7c1e0fc549d": {
     "model_module": "@jupyter-widgets/controls",
     "model_module_version": "1.5.0",
     "model_name": "DescriptionStyleModel",
     "state": {
      "_model_module": "@jupyter-widgets/controls",
      "_model_module_version": "1.5.0",
      "_model_name": "DescriptionStyleModel",
      "_view_count": null,
      "_view_module": "@jupyter-widgets/base",
      "_view_module_version": "1.2.0",
      "_view_name": "StyleView",
      "description_width": ""
     }
    },
    "65f2158dfa0549cab39f46e37c6e5a83": {
     "model_module": "@jupyter-widgets/controls",
     "model_module_version": "1.5.0",
     "model_name": "HTMLModel",
     "state": {
      "_dom_classes": [],
      "_model_module": "@jupyter-widgets/controls",
      "_model_module_version": "1.5.0",
      "_model_name": "HTMLModel",
      "_view_count": null,
      "_view_module": "@jupyter-widgets/controls",
      "_view_module_version": "1.5.0",
      "_view_name": "HTMLView",
      "description": "",
      "description_tooltip": null,
      "layout": "IPY_MODEL_08712d96b8fc490f8405efe70d51a2dc",
      "placeholder": "​",
      "style": "IPY_MODEL_267d868bb447476ca003d849c1777b91",
      "value": "Downloading: 100%"
     }
    },
    "66e9bbb1ccb243f59d2b4a34e6ddff03": {
     "model_module": "@jupyter-widgets/base",
     "model_module_version": "1.2.0",
     "model_name": "LayoutModel",
     "state": {
      "_model_module": "@jupyter-widgets/base",
      "_model_module_version": "1.2.0",
      "_model_name": "LayoutModel",
      "_view_count": null,
      "_view_module": "@jupyter-widgets/base",
      "_view_module_version": "1.2.0",
      "_view_name": "LayoutView",
      "align_content": null,
      "align_items": null,
      "align_self": null,
      "border": null,
      "bottom": null,
      "display": null,
      "flex": null,
      "flex_flow": null,
      "grid_area": null,
      "grid_auto_columns": null,
      "grid_auto_flow": null,
      "grid_auto_rows": null,
      "grid_column": null,
      "grid_gap": null,
      "grid_row": null,
      "grid_template_areas": null,
      "grid_template_columns": null,
      "grid_template_rows": null,
      "height": null,
      "justify_content": null,
      "justify_items": null,
      "left": null,
      "margin": null,
      "max_height": null,
      "max_width": null,
      "min_height": null,
      "min_width": null,
      "object_fit": null,
      "object_position": null,
      "order": null,
      "overflow": null,
      "overflow_x": null,
      "overflow_y": null,
      "padding": null,
      "right": null,
      "top": null,
      "visibility": null,
      "width": null
     }
    },
    "6f82370e54e540d7b84172d6019b419e": {
     "model_module": "@jupyter-widgets/controls",
     "model_module_version": "1.5.0",
     "model_name": "FloatProgressModel",
     "state": {
      "_dom_classes": [],
      "_model_module": "@jupyter-widgets/controls",
      "_model_module_version": "1.5.0",
      "_model_name": "FloatProgressModel",
      "_view_count": null,
      "_view_module": "@jupyter-widgets/controls",
      "_view_module_version": "1.5.0",
      "_view_name": "ProgressView",
      "bar_style": "success",
      "description": "",
      "description_tooltip": null,
      "layout": "IPY_MODEL_a35ee49a41694b339b6d0f0c90c37d81",
      "max": 2283841687,
      "min": 0,
      "orientation": "horizontal",
      "style": "IPY_MODEL_e3893b11059d48b39a4c6a9f42e56004",
      "value": 2283841687
     }
    },
    "72080b5347fa486caed7bd17acf9cb5f": {
     "model_module": "@jupyter-widgets/base",
     "model_module_version": "1.2.0",
     "model_name": "LayoutModel",
     "state": {
      "_model_module": "@jupyter-widgets/base",
      "_model_module_version": "1.2.0",
      "_model_name": "LayoutModel",
      "_view_count": null,
      "_view_module": "@jupyter-widgets/base",
      "_view_module_version": "1.2.0",
      "_view_name": "LayoutView",
      "align_content": null,
      "align_items": null,
      "align_self": null,
      "border": null,
      "bottom": null,
      "display": null,
      "flex": null,
      "flex_flow": null,
      "grid_area": null,
      "grid_auto_columns": null,
      "grid_auto_flow": null,
      "grid_auto_rows": null,
      "grid_column": null,
      "grid_gap": null,
      "grid_row": null,
      "grid_template_areas": null,
      "grid_template_columns": null,
      "grid_template_rows": null,
      "height": null,
      "justify_content": null,
      "justify_items": null,
      "left": null,
      "margin": null,
      "max_height": null,
      "max_width": null,
      "min_height": null,
      "min_width": null,
      "object_fit": null,
      "object_position": null,
      "order": null,
      "overflow": null,
      "overflow_x": null,
      "overflow_y": null,
      "padding": null,
      "right": null,
      "top": null,
      "visibility": null,
      "width": null
     }
    },
    "75484fb674974618855a4d0e52dd2fc7": {
     "model_module": "@jupyter-widgets/controls",
     "model_module_version": "1.5.0",
     "model_name": "FloatProgressModel",
     "state": {
      "_dom_classes": [],
      "_model_module": "@jupyter-widgets/controls",
      "_model_module_version": "1.5.0",
      "_model_name": "FloatProgressModel",
      "_view_count": null,
      "_view_module": "@jupyter-widgets/controls",
      "_view_module_version": "1.5.0",
      "_view_name": "ProgressView",
      "bar_style": "success",
      "description": "",
      "description_tooltip": null,
      "layout": "IPY_MODEL_b7a9358ef2d34ec5bcb73b8fb60455bb",
      "max": 1222317369,
      "min": 0,
      "orientation": "horizontal",
      "style": "IPY_MODEL_7b7995e9828f44bbaeb4dd6aea41cf3b",
      "value": 1222317369
     }
    },
    "770772ae46b7411facb593bc5bcee371": {
     "model_module": "@jupyter-widgets/controls",
     "model_module_version": "1.5.0",
     "model_name": "ProgressStyleModel",
     "state": {
      "_model_module": "@jupyter-widgets/controls",
      "_model_module_version": "1.5.0",
      "_model_name": "ProgressStyleModel",
      "_view_count": null,
      "_view_module": "@jupyter-widgets/base",
      "_view_module_version": "1.2.0",
      "_view_name": "StyleView",
      "bar_color": null,
      "description_width": ""
     }
    },
    "77f8bf3a0eb04709a18a97bf28160c57": {
     "model_module": "@jupyter-widgets/controls",
     "model_module_version": "1.5.0",
     "model_name": "DescriptionStyleModel",
     "state": {
      "_model_module": "@jupyter-widgets/controls",
      "_model_module_version": "1.5.0",
      "_model_name": "DescriptionStyleModel",
      "_view_count": null,
      "_view_module": "@jupyter-widgets/base",
      "_view_module_version": "1.2.0",
      "_view_name": "StyleView",
      "description_width": ""
     }
    },
    "78bf1c6e5fc349698e763fd3909f5470": {
     "model_module": "@jupyter-widgets/base",
     "model_module_version": "1.2.0",
     "model_name": "LayoutModel",
     "state": {
      "_model_module": "@jupyter-widgets/base",
      "_model_module_version": "1.2.0",
      "_model_name": "LayoutModel",
      "_view_count": null,
      "_view_module": "@jupyter-widgets/base",
      "_view_module_version": "1.2.0",
      "_view_name": "LayoutView",
      "align_content": null,
      "align_items": null,
      "align_self": null,
      "border": null,
      "bottom": null,
      "display": null,
      "flex": null,
      "flex_flow": null,
      "grid_area": null,
      "grid_auto_columns": null,
      "grid_auto_flow": null,
      "grid_auto_rows": null,
      "grid_column": null,
      "grid_gap": null,
      "grid_row": null,
      "grid_template_areas": null,
      "grid_template_columns": null,
      "grid_template_rows": null,
      "height": null,
      "justify_content": null,
      "justify_items": null,
      "left": null,
      "margin": null,
      "max_height": null,
      "max_width": null,
      "min_height": null,
      "min_width": null,
      "object_fit": null,
      "object_position": null,
      "order": null,
      "overflow": null,
      "overflow_x": null,
      "overflow_y": null,
      "padding": null,
      "right": null,
      "top": null,
      "visibility": null,
      "width": null
     }
    },
    "79a67261470d4789b00c41460fe31f31": {
     "model_module": "@jupyter-widgets/base",
     "model_module_version": "1.2.0",
     "model_name": "LayoutModel",
     "state": {
      "_model_module": "@jupyter-widgets/base",
      "_model_module_version": "1.2.0",
      "_model_name": "LayoutModel",
      "_view_count": null,
      "_view_module": "@jupyter-widgets/base",
      "_view_module_version": "1.2.0",
      "_view_name": "LayoutView",
      "align_content": null,
      "align_items": null,
      "align_self": null,
      "border": null,
      "bottom": null,
      "display": null,
      "flex": null,
      "flex_flow": null,
      "grid_area": null,
      "grid_auto_columns": null,
      "grid_auto_flow": null,
      "grid_auto_rows": null,
      "grid_column": null,
      "grid_gap": null,
      "grid_row": null,
      "grid_template_areas": null,
      "grid_template_columns": null,
      "grid_template_rows": null,
      "height": null,
      "justify_content": null,
      "justify_items": null,
      "left": null,
      "margin": null,
      "max_height": null,
      "max_width": null,
      "min_height": null,
      "min_width": null,
      "object_fit": null,
      "object_position": null,
      "order": null,
      "overflow": null,
      "overflow_x": null,
      "overflow_y": null,
      "padding": null,
      "right": null,
      "top": null,
      "visibility": null,
      "width": null
     }
    },
    "7a37d2fcd8664dae9c2c4e5d08dbfcc8": {
     "model_module": "@jupyter-widgets/controls",
     "model_module_version": "1.5.0",
     "model_name": "HBoxModel",
     "state": {
      "_dom_classes": [],
      "_model_module": "@jupyter-widgets/controls",
      "_model_module_version": "1.5.0",
      "_model_name": "HBoxModel",
      "_view_count": null,
      "_view_module": "@jupyter-widgets/controls",
      "_view_module_version": "1.5.0",
      "_view_name": "HBoxView",
      "box_style": "",
      "children": [
       "IPY_MODEL_24bb214702ce45fbbc7c8054ed7f5078",
       "IPY_MODEL_6f82370e54e540d7b84172d6019b419e",
       "IPY_MODEL_230b68287ddb466c8eb3723047480389"
      ],
      "layout": "IPY_MODEL_21f9546e02de409d89235a5e255a64b9"
     }
    },
    "7a51bc7aac434ad7adfb9a22b229cd46": {
     "model_module": "@jupyter-widgets/base",
     "model_module_version": "1.2.0",
     "model_name": "LayoutModel",
     "state": {
      "_model_module": "@jupyter-widgets/base",
      "_model_module_version": "1.2.0",
      "_model_name": "LayoutModel",
      "_view_count": null,
      "_view_module": "@jupyter-widgets/base",
      "_view_module_version": "1.2.0",
      "_view_name": "LayoutView",
      "align_content": null,
      "align_items": null,
      "align_self": null,
      "border": null,
      "bottom": null,
      "display": null,
      "flex": null,
      "flex_flow": null,
      "grid_area": null,
      "grid_auto_columns": null,
      "grid_auto_flow": null,
      "grid_auto_rows": null,
      "grid_column": null,
      "grid_gap": null,
      "grid_row": null,
      "grid_template_areas": null,
      "grid_template_columns": null,
      "grid_template_rows": null,
      "height": null,
      "justify_content": null,
      "justify_items": null,
      "left": null,
      "margin": null,
      "max_height": null,
      "max_width": null,
      "min_height": null,
      "min_width": null,
      "object_fit": null,
      "object_position": null,
      "order": null,
      "overflow": null,
      "overflow_x": null,
      "overflow_y": null,
      "padding": null,
      "right": null,
      "top": null,
      "visibility": null,
      "width": null
     }
    },
    "7b7995e9828f44bbaeb4dd6aea41cf3b": {
     "model_module": "@jupyter-widgets/controls",
     "model_module_version": "1.5.0",
     "model_name": "ProgressStyleModel",
     "state": {
      "_model_module": "@jupyter-widgets/controls",
      "_model_module_version": "1.5.0",
      "_model_name": "ProgressStyleModel",
      "_view_count": null,
      "_view_module": "@jupyter-widgets/base",
      "_view_module_version": "1.2.0",
      "_view_name": "StyleView",
      "bar_color": null,
      "description_width": ""
     }
    },
    "7bdcf9696b8c4aafae62e5e20e52af55": {
     "model_module": "@jupyter-widgets/base",
     "model_module_version": "1.2.0",
     "model_name": "LayoutModel",
     "state": {
      "_model_module": "@jupyter-widgets/base",
      "_model_module_version": "1.2.0",
      "_model_name": "LayoutModel",
      "_view_count": null,
      "_view_module": "@jupyter-widgets/base",
      "_view_module_version": "1.2.0",
      "_view_name": "LayoutView",
      "align_content": null,
      "align_items": null,
      "align_self": null,
      "border": null,
      "bottom": null,
      "display": null,
      "flex": null,
      "flex_flow": null,
      "grid_area": null,
      "grid_auto_columns": null,
      "grid_auto_flow": null,
      "grid_auto_rows": null,
      "grid_column": null,
      "grid_gap": null,
      "grid_row": null,
      "grid_template_areas": null,
      "grid_template_columns": null,
      "grid_template_rows": null,
      "height": null,
      "justify_content": null,
      "justify_items": null,
      "left": null,
      "margin": null,
      "max_height": null,
      "max_width": null,
      "min_height": null,
      "min_width": null,
      "object_fit": null,
      "object_position": null,
      "order": null,
      "overflow": null,
      "overflow_x": null,
      "overflow_y": null,
      "padding": null,
      "right": null,
      "top": null,
      "visibility": null,
      "width": null
     }
    },
    "7ebe060e52cf422784c02c03de83f4cd": {
     "model_module": "@jupyter-widgets/controls",
     "model_module_version": "1.5.0",
     "model_name": "ProgressStyleModel",
     "state": {
      "_model_module": "@jupyter-widgets/controls",
      "_model_module_version": "1.5.0",
      "_model_name": "ProgressStyleModel",
      "_view_count": null,
      "_view_module": "@jupyter-widgets/base",
      "_view_module_version": "1.2.0",
      "_view_name": "StyleView",
      "bar_color": null,
      "description_width": ""
     }
    },
    "8538ff0384b146e9a53213f77a480034": {
     "model_module": "@jupyter-widgets/base",
     "model_module_version": "1.2.0",
     "model_name": "LayoutModel",
     "state": {
      "_model_module": "@jupyter-widgets/base",
      "_model_module_version": "1.2.0",
      "_model_name": "LayoutModel",
      "_view_count": null,
      "_view_module": "@jupyter-widgets/base",
      "_view_module_version": "1.2.0",
      "_view_name": "LayoutView",
      "align_content": null,
      "align_items": null,
      "align_self": null,
      "border": null,
      "bottom": null,
      "display": null,
      "flex": null,
      "flex_flow": null,
      "grid_area": null,
      "grid_auto_columns": null,
      "grid_auto_flow": null,
      "grid_auto_rows": null,
      "grid_column": null,
      "grid_gap": null,
      "grid_row": null,
      "grid_template_areas": null,
      "grid_template_columns": null,
      "grid_template_rows": null,
      "height": null,
      "justify_content": null,
      "justify_items": null,
      "left": null,
      "margin": null,
      "max_height": null,
      "max_width": null,
      "min_height": null,
      "min_width": null,
      "object_fit": null,
      "object_position": null,
      "order": null,
      "overflow": null,
      "overflow_x": null,
      "overflow_y": null,
      "padding": null,
      "right": null,
      "top": null,
      "visibility": null,
      "width": null
     }
    },
    "91cc983fefbc4e07950efde14d90e935": {
     "model_module": "@jupyter-widgets/controls",
     "model_module_version": "1.5.0",
     "model_name": "ProgressStyleModel",
     "state": {
      "_model_module": "@jupyter-widgets/controls",
      "_model_module_version": "1.5.0",
      "_model_name": "ProgressStyleModel",
      "_view_count": null,
      "_view_module": "@jupyter-widgets/base",
      "_view_module_version": "1.2.0",
      "_view_name": "StyleView",
      "bar_color": null,
      "description_width": ""
     }
    },
    "956698892431487cbc72f42c94d09d86": {
     "model_module": "@jupyter-widgets/controls",
     "model_module_version": "1.5.0",
     "model_name": "HTMLModel",
     "state": {
      "_dom_classes": [],
      "_model_module": "@jupyter-widgets/controls",
      "_model_module_version": "1.5.0",
      "_model_name": "HTMLModel",
      "_view_count": null,
      "_view_module": "@jupyter-widgets/controls",
      "_view_module_version": "1.5.0",
      "_view_name": "HTMLView",
      "description": "",
      "description_tooltip": null,
      "layout": "IPY_MODEL_72080b5347fa486caed7bd17acf9cb5f",
      "placeholder": "​",
      "style": "IPY_MODEL_ed09307bac75493d94709fbb9323c0bf",
      "value": "Downloading: 100%"
     }
    },
    "a35ee49a41694b339b6d0f0c90c37d81": {
     "model_module": "@jupyter-widgets/base",
     "model_module_version": "1.2.0",
     "model_name": "LayoutModel",
     "state": {
      "_model_module": "@jupyter-widgets/base",
      "_model_module_version": "1.2.0",
      "_model_name": "LayoutModel",
      "_view_count": null,
      "_view_module": "@jupyter-widgets/base",
      "_view_module_version": "1.2.0",
      "_view_name": "LayoutView",
      "align_content": null,
      "align_items": null,
      "align_self": null,
      "border": null,
      "bottom": null,
      "display": null,
      "flex": null,
      "flex_flow": null,
      "grid_area": null,
      "grid_auto_columns": null,
      "grid_auto_flow": null,
      "grid_auto_rows": null,
      "grid_column": null,
      "grid_gap": null,
      "grid_row": null,
      "grid_template_areas": null,
      "grid_template_columns": null,
      "grid_template_rows": null,
      "height": null,
      "justify_content": null,
      "justify_items": null,
      "left": null,
      "margin": null,
      "max_height": null,
      "max_width": null,
      "min_height": null,
      "min_width": null,
      "object_fit": null,
      "object_position": null,
      "order": null,
      "overflow": null,
      "overflow_x": null,
      "overflow_y": null,
      "padding": null,
      "right": null,
      "top": null,
      "visibility": null,
      "width": null
     }
    },
    "ae13327a63c640c6ac3f38f0a05fcbb2": {
     "model_module": "@jupyter-widgets/controls",
     "model_module_version": "1.5.0",
     "model_name": "DescriptionStyleModel",
     "state": {
      "_model_module": "@jupyter-widgets/controls",
      "_model_module_version": "1.5.0",
      "_model_name": "DescriptionStyleModel",
      "_view_count": null,
      "_view_module": "@jupyter-widgets/base",
      "_view_module_version": "1.2.0",
      "_view_name": "StyleView",
      "description_width": ""
     }
    },
    "b2054d9c39bd4dc491f31f14dc9003ee": {
     "model_module": "@jupyter-widgets/controls",
     "model_module_version": "1.5.0",
     "model_name": "HTMLModel",
     "state": {
      "_dom_classes": [],
      "_model_module": "@jupyter-widgets/controls",
      "_model_module_version": "1.5.0",
      "_model_name": "HTMLModel",
      "_view_count": null,
      "_view_module": "@jupyter-widgets/controls",
      "_view_module_version": "1.5.0",
      "_view_name": "HTMLView",
      "description": "",
      "description_tooltip": null,
      "layout": "IPY_MODEL_e065b812336a455697e5ebe8b1568581",
      "placeholder": "​",
      "style": "IPY_MODEL_1c208c9438084cc6b3af1a09b765212c",
      "value": " 1.14G/1.14G [00:36&lt;00:00, 30.5MB/s]"
     }
    },
    "b4198910877344e1b7e5d118a5f24c4e": {
     "model_module": "@jupyter-widgets/controls",
     "model_module_version": "1.5.0",
     "model_name": "HBoxModel",
     "state": {
      "_dom_classes": [],
      "_model_module": "@jupyter-widgets/controls",
      "_model_module_version": "1.5.0",
      "_model_name": "HBoxModel",
      "_view_count": null,
      "_view_module": "@jupyter-widgets/controls",
      "_view_module_version": "1.5.0",
      "_view_name": "HBoxView",
      "box_style": "",
      "children": [
       "IPY_MODEL_49cc54e2daad4b028f53c900a7f756e5",
       "IPY_MODEL_c726fb1b3181431aa8255973416374d8",
       "IPY_MODEL_1adf565d93594dd89fd0837b5e38daab"
      ],
      "layout": "IPY_MODEL_79a67261470d4789b00c41460fe31f31"
     }
    },
    "b5a177cdde594c999ed610940e56e3a5": {
     "model_module": "@jupyter-widgets/controls",
     "model_module_version": "1.5.0",
     "model_name": "HTMLModel",
     "state": {
      "_dom_classes": [],
      "_model_module": "@jupyter-widgets/controls",
      "_model_module_version": "1.5.0",
      "_model_name": "HTMLModel",
      "_view_count": null,
      "_view_module": "@jupyter-widgets/controls",
      "_view_module_version": "1.5.0",
      "_view_name": "HTMLView",
      "description": "",
      "description_tooltip": null,
      "layout": "IPY_MODEL_78bf1c6e5fc349698e763fd3909f5470",
      "placeholder": "​",
      "style": "IPY_MODEL_f2ccc5f201084599bf21b7e6d5eea13d",
      "value": "Downloading: 100%"
     }
    },
    "b788c14cfa064a63b77c69c0c24dbed6": {
     "model_module": "@jupyter-widgets/controls",
     "model_module_version": "1.5.0",
     "model_name": "DescriptionStyleModel",
     "state": {
      "_model_module": "@jupyter-widgets/controls",
      "_model_module_version": "1.5.0",
      "_model_name": "DescriptionStyleModel",
      "_view_count": null,
      "_view_module": "@jupyter-widgets/base",
      "_view_module_version": "1.2.0",
      "_view_name": "StyleView",
      "description_width": ""
     }
    },
    "b7a9358ef2d34ec5bcb73b8fb60455bb": {
     "model_module": "@jupyter-widgets/base",
     "model_module_version": "1.2.0",
     "model_name": "LayoutModel",
     "state": {
      "_model_module": "@jupyter-widgets/base",
      "_model_module_version": "1.2.0",
      "_model_name": "LayoutModel",
      "_view_count": null,
      "_view_module": "@jupyter-widgets/base",
      "_view_module_version": "1.2.0",
      "_view_name": "LayoutView",
      "align_content": null,
      "align_items": null,
      "align_self": null,
      "border": null,
      "bottom": null,
      "display": null,
      "flex": null,
      "flex_flow": null,
      "grid_area": null,
      "grid_auto_columns": null,
      "grid_auto_flow": null,
      "grid_auto_rows": null,
      "grid_column": null,
      "grid_gap": null,
      "grid_row": null,
      "grid_template_areas": null,
      "grid_template_columns": null,
      "grid_template_rows": null,
      "height": null,
      "justify_content": null,
      "justify_items": null,
      "left": null,
      "margin": null,
      "max_height": null,
      "max_width": null,
      "min_height": null,
      "min_width": null,
      "object_fit": null,
      "object_position": null,
      "order": null,
      "overflow": null,
      "overflow_x": null,
      "overflow_y": null,
      "padding": null,
      "right": null,
      "top": null,
      "visibility": null,
      "width": null
     }
    },
    "bcde74ef5b6c4736a52a2f1dfb449465": {
     "model_module": "@jupyter-widgets/controls",
     "model_module_version": "1.5.0",
     "model_name": "HTMLModel",
     "state": {
      "_dom_classes": [],
      "_model_module": "@jupyter-widgets/controls",
      "_model_module_version": "1.5.0",
      "_model_name": "HTMLModel",
      "_view_count": null,
      "_view_module": "@jupyter-widgets/controls",
      "_view_module_version": "1.5.0",
      "_view_name": "HTMLView",
      "description": "",
      "description_tooltip": null,
      "layout": "IPY_MODEL_1a451de1913f4e2380aae6998f69e130",
      "placeholder": "​",
      "style": "IPY_MODEL_4a43f503121b49538ef9b7c1e0fc549d",
      "value": " 1.31k/1.31k [00:00&lt;00:00, 30.6kB/s]"
     }
    },
    "be783a70e5d14359b809839558f0b506": {
     "model_module": "@jupyter-widgets/base",
     "model_module_version": "1.2.0",
     "model_name": "LayoutModel",
     "state": {
      "_model_module": "@jupyter-widgets/base",
      "_model_module_version": "1.2.0",
      "_model_name": "LayoutModel",
      "_view_count": null,
      "_view_module": "@jupyter-widgets/base",
      "_view_module_version": "1.2.0",
      "_view_name": "LayoutView",
      "align_content": null,
      "align_items": null,
      "align_self": null,
      "border": null,
      "bottom": null,
      "display": null,
      "flex": null,
      "flex_flow": null,
      "grid_area": null,
      "grid_auto_columns": null,
      "grid_auto_flow": null,
      "grid_auto_rows": null,
      "grid_column": null,
      "grid_gap": null,
      "grid_row": null,
      "grid_template_areas": null,
      "grid_template_columns": null,
      "grid_template_rows": null,
      "height": null,
      "justify_content": null,
      "justify_items": null,
      "left": null,
      "margin": null,
      "max_height": null,
      "max_width": null,
      "min_height": null,
      "min_width": null,
      "object_fit": null,
      "object_position": null,
      "order": null,
      "overflow": null,
      "overflow_x": null,
      "overflow_y": null,
      "padding": null,
      "right": null,
      "top": null,
      "visibility": null,
      "width": null
     }
    },
    "c5274aa8443b42318cc95998ae944be5": {
     "model_module": "@jupyter-widgets/base",
     "model_module_version": "1.2.0",
     "model_name": "LayoutModel",
     "state": {
      "_model_module": "@jupyter-widgets/base",
      "_model_module_version": "1.2.0",
      "_model_name": "LayoutModel",
      "_view_count": null,
      "_view_module": "@jupyter-widgets/base",
      "_view_module_version": "1.2.0",
      "_view_name": "LayoutView",
      "align_content": null,
      "align_items": null,
      "align_self": null,
      "border": null,
      "bottom": null,
      "display": null,
      "flex": null,
      "flex_flow": null,
      "grid_area": null,
      "grid_auto_columns": null,
      "grid_auto_flow": null,
      "grid_auto_rows": null,
      "grid_column": null,
      "grid_gap": null,
      "grid_row": null,
      "grid_template_areas": null,
      "grid_template_columns": null,
      "grid_template_rows": null,
      "height": null,
      "justify_content": null,
      "justify_items": null,
      "left": null,
      "margin": null,
      "max_height": null,
      "max_width": null,
      "min_height": null,
      "min_width": null,
      "object_fit": null,
      "object_position": null,
      "order": null,
      "overflow": null,
      "overflow_x": null,
      "overflow_y": null,
      "padding": null,
      "right": null,
      "top": null,
      "visibility": null,
      "width": null
     }
    },
    "c56deb9e9ee94c2eb9f133f7ae90a406": {
     "model_module": "@jupyter-widgets/controls",
     "model_module_version": "1.5.0",
     "model_name": "FloatProgressModel",
     "state": {
      "_dom_classes": [],
      "_model_module": "@jupyter-widgets/controls",
      "_model_module_version": "1.5.0",
      "_model_name": "FloatProgressModel",
      "_view_count": null,
      "_view_module": "@jupyter-widgets/controls",
      "_view_module_version": "1.5.0",
      "_view_name": "ProgressView",
      "bar_style": "success",
      "description": "",
      "description_tooltip": null,
      "layout": "IPY_MODEL_7bdcf9696b8c4aafae62e5e20e52af55",
      "max": 1802,
      "min": 0,
      "orientation": "horizontal",
      "style": "IPY_MODEL_770772ae46b7411facb593bc5bcee371",
      "value": 1802
     }
    },
    "c724ea0666ba4264ab1b967a32fbdea6": {
     "model_module": "@jupyter-widgets/controls",
     "model_module_version": "1.5.0",
     "model_name": "ProgressStyleModel",
     "state": {
      "_model_module": "@jupyter-widgets/controls",
      "_model_module_version": "1.5.0",
      "_model_name": "ProgressStyleModel",
      "_view_count": null,
      "_view_module": "@jupyter-widgets/base",
      "_view_module_version": "1.2.0",
      "_view_name": "StyleView",
      "bar_color": null,
      "description_width": ""
     }
    },
    "c726fb1b3181431aa8255973416374d8": {
     "model_module": "@jupyter-widgets/controls",
     "model_module_version": "1.5.0",
     "model_name": "FloatProgressModel",
     "state": {
      "_dom_classes": [],
      "_model_module": "@jupyter-widgets/controls",
      "_model_module_version": "1.5.0",
      "_model_name": "FloatProgressModel",
      "_view_count": null,
      "_view_module": "@jupyter-widgets/controls",
      "_view_module_version": "1.5.0",
      "_view_name": "ProgressView",
      "bar_style": "success",
      "description": "",
      "description_tooltip": null,
      "layout": "IPY_MODEL_32e782dbbc824f49b43b9e5c223764bc",
      "max": 1328,
      "min": 0,
      "orientation": "horizontal",
      "style": "IPY_MODEL_d0138977239f437c866623bc41b0261b",
      "value": 1328
     }
    },
    "c9cb29d861d1499c8e47cf899a00ef00": {
     "model_module": "@jupyter-widgets/base",
     "model_module_version": "1.2.0",
     "model_name": "LayoutModel",
     "state": {
      "_model_module": "@jupyter-widgets/base",
      "_model_module_version": "1.2.0",
      "_model_name": "LayoutModel",
      "_view_count": null,
      "_view_module": "@jupyter-widgets/base",
      "_view_module_version": "1.2.0",
      "_view_name": "LayoutView",
      "align_content": null,
      "align_items": null,
      "align_self": null,
      "border": null,
      "bottom": null,
      "display": null,
      "flex": null,
      "flex_flow": null,
      "grid_area": null,
      "grid_auto_columns": null,
      "grid_auto_flow": null,
      "grid_auto_rows": null,
      "grid_column": null,
      "grid_gap": null,
      "grid_row": null,
      "grid_template_areas": null,
      "grid_template_columns": null,
      "grid_template_rows": null,
      "height": null,
      "justify_content": null,
      "justify_items": null,
      "left": null,
      "margin": null,
      "max_height": null,
      "max_width": null,
      "min_height": null,
      "min_width": null,
      "object_fit": null,
      "object_position": null,
      "order": null,
      "overflow": null,
      "overflow_x": null,
      "overflow_y": null,
      "padding": null,
      "right": null,
      "top": null,
      "visibility": null,
      "width": null
     }
    },
    "cd76cd6b41a648be806d359876d9766a": {
     "model_module": "@jupyter-widgets/controls",
     "model_module_version": "1.5.0",
     "model_name": "FloatProgressModel",
     "state": {
      "_dom_classes": [],
      "_model_module": "@jupyter-widgets/controls",
      "_model_module_version": "1.5.0",
      "_model_name": "FloatProgressModel",
      "_view_count": null,
      "_view_module": "@jupyter-widgets/controls",
      "_view_module_version": "1.5.0",
      "_view_name": "ProgressView",
      "bar_style": "success",
      "description": "",
      "description_tooltip": null,
      "layout": "IPY_MODEL_c5274aa8443b42318cc95998ae944be5",
      "max": 1912529,
      "min": 0,
      "orientation": "horizontal",
      "style": "IPY_MODEL_91cc983fefbc4e07950efde14d90e935",
      "value": 1912529
     }
    },
    "d0138977239f437c866623bc41b0261b": {
     "model_module": "@jupyter-widgets/controls",
     "model_module_version": "1.5.0",
     "model_name": "ProgressStyleModel",
     "state": {
      "_model_module": "@jupyter-widgets/controls",
      "_model_module_version": "1.5.0",
      "_model_name": "ProgressStyleModel",
      "_view_count": null,
      "_view_module": "@jupyter-widgets/base",
      "_view_module_version": "1.2.0",
      "_view_name": "StyleView",
      "bar_color": null,
      "description_width": ""
     }
    },
    "d1b62881996f46eab68c515d263f448a": {
     "model_module": "@jupyter-widgets/base",
     "model_module_version": "1.2.0",
     "model_name": "LayoutModel",
     "state": {
      "_model_module": "@jupyter-widgets/base",
      "_model_module_version": "1.2.0",
      "_model_name": "LayoutModel",
      "_view_count": null,
      "_view_module": "@jupyter-widgets/base",
      "_view_module_version": "1.2.0",
      "_view_name": "LayoutView",
      "align_content": null,
      "align_items": null,
      "align_self": null,
      "border": null,
      "bottom": null,
      "display": null,
      "flex": null,
      "flex_flow": null,
      "grid_area": null,
      "grid_auto_columns": null,
      "grid_auto_flow": null,
      "grid_auto_rows": null,
      "grid_column": null,
      "grid_gap": null,
      "grid_row": null,
      "grid_template_areas": null,
      "grid_template_columns": null,
      "grid_template_rows": null,
      "height": null,
      "justify_content": null,
      "justify_items": null,
      "left": null,
      "margin": null,
      "max_height": null,
      "max_width": null,
      "min_height": null,
      "min_width": null,
      "object_fit": null,
      "object_position": null,
      "order": null,
      "overflow": null,
      "overflow_x": null,
      "overflow_y": null,
      "padding": null,
      "right": null,
      "top": null,
      "visibility": null,
      "width": null
     }
    },
    "dc34808d32ca43b99c592089c2c218cd": {
     "model_module": "@jupyter-widgets/controls",
     "model_module_version": "1.5.0",
     "model_name": "FloatProgressModel",
     "state": {
      "_dom_classes": [],
      "_model_module": "@jupyter-widgets/controls",
      "_model_module_version": "1.5.0",
      "_model_name": "FloatProgressModel",
      "_view_count": null,
      "_view_module": "@jupyter-widgets/controls",
      "_view_module_version": "1.5.0",
      "_view_name": "ProgressView",
      "bar_style": "success",
      "description": "",
      "description_tooltip": null,
      "layout": "IPY_MODEL_4587e132ec7f4b4abb6fd465e00dce9b",
      "max": 1508,
      "min": 0,
      "orientation": "horizontal",
      "style": "IPY_MODEL_7ebe060e52cf422784c02c03de83f4cd",
      "value": 1508
     }
    },
    "e053c2a07984445fbf18cc23213e9562": {
     "model_module": "@jupyter-widgets/base",
     "model_module_version": "1.2.0",
     "model_name": "LayoutModel",
     "state": {
      "_model_module": "@jupyter-widgets/base",
      "_model_module_version": "1.2.0",
      "_model_name": "LayoutModel",
      "_view_count": null,
      "_view_module": "@jupyter-widgets/base",
      "_view_module_version": "1.2.0",
      "_view_name": "LayoutView",
      "align_content": null,
      "align_items": null,
      "align_self": null,
      "border": null,
      "bottom": null,
      "display": null,
      "flex": null,
      "flex_flow": null,
      "grid_area": null,
      "grid_auto_columns": null,
      "grid_auto_flow": null,
      "grid_auto_rows": null,
      "grid_column": null,
      "grid_gap": null,
      "grid_row": null,
      "grid_template_areas": null,
      "grid_template_columns": null,
      "grid_template_rows": null,
      "height": null,
      "justify_content": null,
      "justify_items": null,
      "left": null,
      "margin": null,
      "max_height": null,
      "max_width": null,
      "min_height": null,
      "min_width": null,
      "object_fit": null,
      "object_position": null,
      "order": null,
      "overflow": null,
      "overflow_x": null,
      "overflow_y": null,
      "padding": null,
      "right": null,
      "top": null,
      "visibility": null,
      "width": null
     }
    },
    "e065b812336a455697e5ebe8b1568581": {
     "model_module": "@jupyter-widgets/base",
     "model_module_version": "1.2.0",
     "model_name": "LayoutModel",
     "state": {
      "_model_module": "@jupyter-widgets/base",
      "_model_module_version": "1.2.0",
      "_model_name": "LayoutModel",
      "_view_count": null,
      "_view_module": "@jupyter-widgets/base",
      "_view_module_version": "1.2.0",
      "_view_name": "LayoutView",
      "align_content": null,
      "align_items": null,
      "align_self": null,
      "border": null,
      "bottom": null,
      "display": null,
      "flex": null,
      "flex_flow": null,
      "grid_area": null,
      "grid_auto_columns": null,
      "grid_auto_flow": null,
      "grid_auto_rows": null,
      "grid_column": null,
      "grid_gap": null,
      "grid_row": null,
      "grid_template_areas": null,
      "grid_template_columns": null,
      "grid_template_rows": null,
      "height": null,
      "justify_content": null,
      "justify_items": null,
      "left": null,
      "margin": null,
      "max_height": null,
      "max_width": null,
      "min_height": null,
      "min_width": null,
      "object_fit": null,
      "object_position": null,
      "order": null,
      "overflow": null,
      "overflow_x": null,
      "overflow_y": null,
      "padding": null,
      "right": null,
      "top": null,
      "visibility": null,
      "width": null
     }
    },
    "e0807eb1fcf2464b869a82b5f4d94c1b": {
     "model_module": "@jupyter-widgets/controls",
     "model_module_version": "1.5.0",
     "model_name": "DescriptionStyleModel",
     "state": {
      "_model_module": "@jupyter-widgets/controls",
      "_model_module_version": "1.5.0",
      "_model_name": "DescriptionStyleModel",
      "_view_count": null,
      "_view_module": "@jupyter-widgets/base",
      "_view_module_version": "1.2.0",
      "_view_name": "StyleView",
      "description_width": ""
     }
    },
    "e3893b11059d48b39a4c6a9f42e56004": {
     "model_module": "@jupyter-widgets/controls",
     "model_module_version": "1.5.0",
     "model_name": "ProgressStyleModel",
     "state": {
      "_model_module": "@jupyter-widgets/controls",
      "_model_module_version": "1.5.0",
      "_model_name": "ProgressStyleModel",
      "_view_count": null,
      "_view_module": "@jupyter-widgets/base",
      "_view_module_version": "1.2.0",
      "_view_name": "StyleView",
      "bar_color": null,
      "description_width": ""
     }
    },
    "eb932779562e4560886602bb7fbe1d9f": {
     "model_module": "@jupyter-widgets/controls",
     "model_module_version": "1.5.0",
     "model_name": "HBoxModel",
     "state": {
      "_dom_classes": [],
      "_model_module": "@jupyter-widgets/controls",
      "_model_module_version": "1.5.0",
      "_model_name": "HBoxModel",
      "_view_count": null,
      "_view_module": "@jupyter-widgets/controls",
      "_view_module_version": "1.5.0",
      "_view_name": "HBoxView",
      "box_style": "",
      "children": [
       "IPY_MODEL_2930123601754022a77e324702b3f6f9",
       "IPY_MODEL_c56deb9e9ee94c2eb9f133f7ae90a406",
       "IPY_MODEL_308f906c23a44079a03a021f9e7e7cfb"
      ],
      "layout": "IPY_MODEL_7a51bc7aac434ad7adfb9a22b229cd46"
     }
    },
    "ed09307bac75493d94709fbb9323c0bf": {
     "model_module": "@jupyter-widgets/controls",
     "model_module_version": "1.5.0",
     "model_name": "DescriptionStyleModel",
     "state": {
      "_model_module": "@jupyter-widgets/controls",
      "_model_module_version": "1.5.0",
      "_model_name": "DescriptionStyleModel",
      "_view_count": null,
      "_view_module": "@jupyter-widgets/base",
      "_view_module_version": "1.2.0",
      "_view_name": "StyleView",
      "description_width": ""
     }
    },
    "f021d8c43ef34a2c8eb63d039cba10c0": {
     "model_module": "@jupyter-widgets/base",
     "model_module_version": "1.2.0",
     "model_name": "LayoutModel",
     "state": {
      "_model_module": "@jupyter-widgets/base",
      "_model_module_version": "1.2.0",
      "_model_name": "LayoutModel",
      "_view_count": null,
      "_view_module": "@jupyter-widgets/base",
      "_view_module_version": "1.2.0",
      "_view_name": "LayoutView",
      "align_content": null,
      "align_items": null,
      "align_self": null,
      "border": null,
      "bottom": null,
      "display": null,
      "flex": null,
      "flex_flow": null,
      "grid_area": null,
      "grid_auto_columns": null,
      "grid_auto_flow": null,
      "grid_auto_rows": null,
      "grid_column": null,
      "grid_gap": null,
      "grid_row": null,
      "grid_template_areas": null,
      "grid_template_columns": null,
      "grid_template_rows": null,
      "height": null,
      "justify_content": null,
      "justify_items": null,
      "left": null,
      "margin": null,
      "max_height": null,
      "max_width": null,
      "min_height": null,
      "min_width": null,
      "object_fit": null,
      "object_position": null,
      "order": null,
      "overflow": null,
      "overflow_x": null,
      "overflow_y": null,
      "padding": null,
      "right": null,
      "top": null,
      "visibility": null,
      "width": null
     }
    },
    "f1aa23843c904fdaa3ff9ac40af9b01a": {
     "model_module": "@jupyter-widgets/base",
     "model_module_version": "1.2.0",
     "model_name": "LayoutModel",
     "state": {
      "_model_module": "@jupyter-widgets/base",
      "_model_module_version": "1.2.0",
      "_model_name": "LayoutModel",
      "_view_count": null,
      "_view_module": "@jupyter-widgets/base",
      "_view_module_version": "1.2.0",
      "_view_name": "LayoutView",
      "align_content": null,
      "align_items": null,
      "align_self": null,
      "border": null,
      "bottom": null,
      "display": null,
      "flex": null,
      "flex_flow": null,
      "grid_area": null,
      "grid_auto_columns": null,
      "grid_auto_flow": null,
      "grid_auto_rows": null,
      "grid_column": null,
      "grid_gap": null,
      "grid_row": null,
      "grid_template_areas": null,
      "grid_template_columns": null,
      "grid_template_rows": null,
      "height": null,
      "justify_content": null,
      "justify_items": null,
      "left": null,
      "margin": null,
      "max_height": null,
      "max_width": null,
      "min_height": null,
      "min_width": null,
      "object_fit": null,
      "object_position": null,
      "order": null,
      "overflow": null,
      "overflow_x": null,
      "overflow_y": null,
      "padding": null,
      "right": null,
      "top": null,
      "visibility": null,
      "width": null
     }
    },
    "f2ccc5f201084599bf21b7e6d5eea13d": {
     "model_module": "@jupyter-widgets/controls",
     "model_module_version": "1.5.0",
     "model_name": "DescriptionStyleModel",
     "state": {
      "_model_module": "@jupyter-widgets/controls",
      "_model_module_version": "1.5.0",
      "_model_name": "DescriptionStyleModel",
      "_view_count": null,
      "_view_module": "@jupyter-widgets/base",
      "_view_module_version": "1.2.0",
      "_view_name": "StyleView",
      "description_width": ""
     }
    },
    "f4f1e0be20364f1a9bd03143d8dbec9d": {
     "model_module": "@jupyter-widgets/controls",
     "model_module_version": "1.5.0",
     "model_name": "DescriptionStyleModel",
     "state": {
      "_model_module": "@jupyter-widgets/controls",
      "_model_module_version": "1.5.0",
      "_model_name": "DescriptionStyleModel",
      "_view_count": null,
      "_view_module": "@jupyter-widgets/base",
      "_view_module_version": "1.2.0",
      "_view_name": "StyleView",
      "description_width": ""
     }
    },
    "f68ad22f6fd44e4c86619a16b4a71c5f": {
     "model_module": "@jupyter-widgets/controls",
     "model_module_version": "1.5.0",
     "model_name": "HBoxModel",
     "state": {
      "_dom_classes": [],
      "_model_module": "@jupyter-widgets/controls",
      "_model_module_version": "1.5.0",
      "_model_name": "HBoxModel",
      "_view_count": null,
      "_view_module": "@jupyter-widgets/controls",
      "_view_module_version": "1.5.0",
      "_view_name": "HBoxView",
      "box_style": "",
      "children": [
       "IPY_MODEL_65f2158dfa0549cab39f46e37c6e5a83",
       "IPY_MODEL_dc34808d32ca43b99c592089c2c218cd",
       "IPY_MODEL_3368c575a04744e5ab34c52b96ed2e44"
      ],
      "layout": "IPY_MODEL_3d804c78483548f19b05614557889bbb"
     }
    },
    "fa724c4c41c944499a80933e5b5e4fdc": {
     "model_module": "@jupyter-widgets/controls",
     "model_module_version": "1.5.0",
     "model_name": "HTMLModel",
     "state": {
      "_dom_classes": [],
      "_model_module": "@jupyter-widgets/controls",
      "_model_module_version": "1.5.0",
      "_model_name": "HTMLModel",
      "_view_count": null,
      "_view_module": "@jupyter-widgets/controls",
      "_view_module_version": "1.5.0",
      "_view_name": "HTMLView",
      "description": "",
      "description_tooltip": null,
      "layout": "IPY_MODEL_2372fff9d5d34ed5bda44d2c730544ec",
      "placeholder": "​",
      "style": "IPY_MODEL_e0807eb1fcf2464b869a82b5f4d94c1b",
      "value": " 1.82M/1.82M [00:00&lt;00:00, 2.92MB/s]"
     }
    },
    "fa92f7fa8b47478cb2b79c67d8bc7ea9": {
     "model_module": "@jupyter-widgets/controls",
     "model_module_version": "1.5.0",
     "model_name": "FloatProgressModel",
     "state": {
      "_dom_classes": [],
      "_model_module": "@jupyter-widgets/controls",
      "_model_module_version": "1.5.0",
      "_model_name": "FloatProgressModel",
      "_view_count": null,
      "_view_module": "@jupyter-widgets/controls",
      "_view_module_version": "1.5.0",
      "_view_name": "ProgressView",
      "bar_style": "success",
      "description": "",
      "description_tooltip": null,
      "layout": "IPY_MODEL_e053c2a07984445fbf18cc23213e9562",
      "max": 1341,
      "min": 0,
      "orientation": "horizontal",
      "style": "IPY_MODEL_c724ea0666ba4264ab1b967a32fbdea6",
      "value": 1341
     }
    }
   }
  }
 },
 "nbformat": 4,
 "nbformat_minor": 1
}