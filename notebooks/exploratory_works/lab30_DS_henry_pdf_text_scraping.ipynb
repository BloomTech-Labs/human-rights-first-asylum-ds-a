{
  "nbformat": 4,
  "nbformat_minor": 0,
  "metadata": {
    "colab": {
      "name": "lab30-DS-henry-pdf-text-scrap.ipynb",
      "provenance": [],
      "collapsed_sections": []
    },
    "kernelspec": {
      "display_name": "Python 3",
      "name": "python3"
    }
  },
  "cells": [
    {
      "cell_type": "code",
      "metadata": {
        "id": "mTkRgdm46_tu"
      },
      "source": [
        ""
      ],
      "execution_count": null,
      "outputs": []
    },
    {
      "cell_type": "code",
      "metadata": {
        "colab": {
          "base_uri": "https://localhost:8080/"
        },
        "id": "uACjstrS0P0a",
        "outputId": "6b66d489-0f80-4f7f-a51b-b6bbd5fdefa9"
      },
      "source": [
        "# Use Spacy wtth large model (lg) tobe compared with the previous team who used \"small model (sm)\"\r\n",
        "\r\n",
        "# 1st: download using python3, instead of just \"python\" and then ... import\r\n",
        "!python3 -m spacy download en_core_web_lg"
      ],
      "execution_count": 1,
      "outputs": [
        {
          "output_type": "stream",
          "text": [
            "Requirement already satisfied: en_core_web_lg==2.2.5 from https://github.com/explosion/spacy-models/releases/download/en_core_web_lg-2.2.5/en_core_web_lg-2.2.5.tar.gz#egg=en_core_web_lg==2.2.5 in /usr/local/lib/python3.6/dist-packages (2.2.5)\n",
            "Requirement already satisfied: spacy>=2.2.2 in /usr/local/lib/python3.6/dist-packages (from en_core_web_lg==2.2.5) (2.2.4)\n",
            "Requirement already satisfied: murmurhash<1.1.0,>=0.28.0 in /usr/local/lib/python3.6/dist-packages (from spacy>=2.2.2->en_core_web_lg==2.2.5) (1.0.5)\n",
            "Requirement already satisfied: tqdm<5.0.0,>=4.38.0 in /usr/local/lib/python3.6/dist-packages (from spacy>=2.2.2->en_core_web_lg==2.2.5) (4.41.1)\n",
            "Requirement already satisfied: catalogue<1.1.0,>=0.0.7 in /usr/local/lib/python3.6/dist-packages (from spacy>=2.2.2->en_core_web_lg==2.2.5) (1.0.0)\n",
            "Requirement already satisfied: plac<1.2.0,>=0.9.6 in /usr/local/lib/python3.6/dist-packages (from spacy>=2.2.2->en_core_web_lg==2.2.5) (1.1.3)\n",
            "Requirement already satisfied: wasabi<1.1.0,>=0.4.0 in /usr/local/lib/python3.6/dist-packages (from spacy>=2.2.2->en_core_web_lg==2.2.5) (0.8.1)\n",
            "Requirement already satisfied: thinc==7.4.0 in /usr/local/lib/python3.6/dist-packages (from spacy>=2.2.2->en_core_web_lg==2.2.5) (7.4.0)\n",
            "Requirement already satisfied: preshed<3.1.0,>=3.0.2 in /usr/local/lib/python3.6/dist-packages (from spacy>=2.2.2->en_core_web_lg==2.2.5) (3.0.5)\n",
            "Requirement already satisfied: blis<0.5.0,>=0.4.0 in /usr/local/lib/python3.6/dist-packages (from spacy>=2.2.2->en_core_web_lg==2.2.5) (0.4.1)\n",
            "Requirement already satisfied: srsly<1.1.0,>=1.0.2 in /usr/local/lib/python3.6/dist-packages (from spacy>=2.2.2->en_core_web_lg==2.2.5) (1.0.5)\n",
            "Requirement already satisfied: setuptools in /usr/local/lib/python3.6/dist-packages (from spacy>=2.2.2->en_core_web_lg==2.2.5) (51.3.3)\n",
            "Requirement already satisfied: numpy>=1.15.0 in /usr/local/lib/python3.6/dist-packages (from spacy>=2.2.2->en_core_web_lg==2.2.5) (1.19.5)\n",
            "Requirement already satisfied: requests<3.0.0,>=2.13.0 in /usr/local/lib/python3.6/dist-packages (from spacy>=2.2.2->en_core_web_lg==2.2.5) (2.23.0)\n",
            "Requirement already satisfied: cymem<2.1.0,>=2.0.2 in /usr/local/lib/python3.6/dist-packages (from spacy>=2.2.2->en_core_web_lg==2.2.5) (2.0.5)\n",
            "Requirement already satisfied: importlib-metadata>=0.20; python_version < \"3.8\" in /usr/local/lib/python3.6/dist-packages (from catalogue<1.1.0,>=0.0.7->spacy>=2.2.2->en_core_web_lg==2.2.5) (3.4.0)\n",
            "Requirement already satisfied: urllib3!=1.25.0,!=1.25.1,<1.26,>=1.21.1 in /usr/local/lib/python3.6/dist-packages (from requests<3.0.0,>=2.13.0->spacy>=2.2.2->en_core_web_lg==2.2.5) (1.24.3)\n",
            "Requirement already satisfied: idna<3,>=2.5 in /usr/local/lib/python3.6/dist-packages (from requests<3.0.0,>=2.13.0->spacy>=2.2.2->en_core_web_lg==2.2.5) (2.10)\n",
            "Requirement already satisfied: certifi>=2017.4.17 in /usr/local/lib/python3.6/dist-packages (from requests<3.0.0,>=2.13.0->spacy>=2.2.2->en_core_web_lg==2.2.5) (2020.12.5)\n",
            "Requirement already satisfied: chardet<4,>=3.0.2 in /usr/local/lib/python3.6/dist-packages (from requests<3.0.0,>=2.13.0->spacy>=2.2.2->en_core_web_lg==2.2.5) (3.0.4)\n",
            "Requirement already satisfied: zipp>=0.5 in /usr/local/lib/python3.6/dist-packages (from importlib-metadata>=0.20; python_version < \"3.8\"->catalogue<1.1.0,>=0.0.7->spacy>=2.2.2->en_core_web_lg==2.2.5) (3.4.0)\n",
            "Requirement already satisfied: typing-extensions>=3.6.4; python_version < \"3.8\" in /usr/local/lib/python3.6/dist-packages (from importlib-metadata>=0.20; python_version < \"3.8\"->catalogue<1.1.0,>=0.0.7->spacy>=2.2.2->en_core_web_lg==2.2.5) (3.7.4.3)\n",
            "\u001b[38;5;2m✔ Download and installation successful\u001b[0m\n",
            "You can now load the model via spacy.load('en_core_web_lg')\n"
          ],
          "name": "stdout"
        }
      ]
    },
    {
      "cell_type": "code",
      "metadata": {
        "id": "YdbXupTq7IV9"
      },
      "source": [
        "import spacy\r\n",
        "nlp = spacy.load('en_core_web_lg')"
      ],
      "execution_count": 2,
      "outputs": []
    },
    {
      "cell_type": "code",
      "metadata": {
        "colab": {
          "base_uri": "https://localhost:8080/"
        },
        "id": "EueSfeN50P3E",
        "outputId": "c1ae0ff4-6b98-42d7-92f0-45635844c5d3"
      },
      "source": [
        "# Install other libraries to convert scanned-pdf.\r\n",
        "# Note: the pdfs are not conversion from docs file, but thet're scanned. That's why it needs OCR to convert\r\n",
        "\r\n",
        "\r\n",
        "# PIL = Python Image Library\r\n",
        "!pip3 install Pillow \r\n",
        "\r\n",
        "!pip3 install pytesseract\r\n",
        "!pip3 install pdf2image\r\n",
        "!sudo apt-get install tesseract-ocr"
      ],
      "execution_count": 3,
      "outputs": [
        {
          "output_type": "stream",
          "text": [
            "Requirement already satisfied: Pillow in /usr/local/lib/python3.6/dist-packages (7.0.0)\n",
            "Collecting pytesseract\n",
            "  Downloading https://files.pythonhosted.org/packages/a0/e6/a4e9fc8a93c1318540e8de6d8d4beb5749b7960388a7c7f27799fc2dd016/pytesseract-0.3.7.tar.gz\n",
            "Requirement already satisfied: Pillow in /usr/local/lib/python3.6/dist-packages (from pytesseract) (7.0.0)\n",
            "Building wheels for collected packages: pytesseract\n",
            "  Building wheel for pytesseract (setup.py) ... \u001b[?25l\u001b[?25hdone\n",
            "  Created wheel for pytesseract: filename=pytesseract-0.3.7-py2.py3-none-any.whl size=13945 sha256=c23bead5ecfcf1dd28ac7d43bed271d754a3bf5e5de16f8137bc0ce1de576c97\n",
            "  Stored in directory: /root/.cache/pip/wheels/81/20/7e/1dd0daad1575d5260916bb1e9781246430647adaef4b3ca3b3\n",
            "Successfully built pytesseract\n",
            "Installing collected packages: pytesseract\n",
            "Successfully installed pytesseract-0.3.7\n",
            "Collecting pdf2image\n",
            "  Downloading https://files.pythonhosted.org/packages/03/62/089030fd16ab3e5c245315d63c80b29250b8f9e4579b5a09306eb7e7539c/pdf2image-1.14.0-py3-none-any.whl\n",
            "Requirement already satisfied: pillow in /usr/local/lib/python3.6/dist-packages (from pdf2image) (7.0.0)\n",
            "Installing collected packages: pdf2image\n",
            "Successfully installed pdf2image-1.14.0\n",
            "Reading package lists... Done\n",
            "Building dependency tree       \n",
            "Reading state information... Done\n",
            "The following additional packages will be installed:\n",
            "  tesseract-ocr-eng tesseract-ocr-osd\n",
            "The following NEW packages will be installed:\n",
            "  tesseract-ocr tesseract-ocr-eng tesseract-ocr-osd\n",
            "0 upgraded, 3 newly installed, 0 to remove and 13 not upgraded.\n",
            "Need to get 4,795 kB of archives.\n",
            "After this operation, 15.8 MB of additional disk space will be used.\n",
            "Get:1 http://archive.ubuntu.com/ubuntu bionic/universe amd64 tesseract-ocr-eng all 4.00~git24-0e00fe6-1.2 [1,588 kB]\n",
            "Get:2 http://archive.ubuntu.com/ubuntu bionic/universe amd64 tesseract-ocr-osd all 4.00~git24-0e00fe6-1.2 [2,989 kB]\n",
            "Get:3 http://archive.ubuntu.com/ubuntu bionic/universe amd64 tesseract-ocr amd64 4.00~git2288-10f4998a-2 [218 kB]\n",
            "Fetched 4,795 kB in 0s (28.2 MB/s)\n",
            "debconf: unable to initialize frontend: Dialog\n",
            "debconf: (No usable dialog-like program is installed, so the dialog based frontend cannot be used. at /usr/share/perl5/Debconf/FrontEnd/Dialog.pm line 76, <> line 3.)\n",
            "debconf: falling back to frontend: Readline\n",
            "debconf: unable to initialize frontend: Readline\n",
            "debconf: (This frontend requires a controlling tty.)\n",
            "debconf: falling back to frontend: Teletype\n",
            "dpkg-preconfigure: unable to re-open stdin: \n",
            "Selecting previously unselected package tesseract-ocr-eng.\n",
            "(Reading database ... 146374 files and directories currently installed.)\n",
            "Preparing to unpack .../tesseract-ocr-eng_4.00~git24-0e00fe6-1.2_all.deb ...\n",
            "Unpacking tesseract-ocr-eng (4.00~git24-0e00fe6-1.2) ...\n",
            "Selecting previously unselected package tesseract-ocr-osd.\n",
            "Preparing to unpack .../tesseract-ocr-osd_4.00~git24-0e00fe6-1.2_all.deb ...\n",
            "Unpacking tesseract-ocr-osd (4.00~git24-0e00fe6-1.2) ...\n",
            "Selecting previously unselected package tesseract-ocr.\n",
            "Preparing to unpack .../tesseract-ocr_4.00~git2288-10f4998a-2_amd64.deb ...\n",
            "Unpacking tesseract-ocr (4.00~git2288-10f4998a-2) ...\n",
            "Setting up tesseract-ocr-osd (4.00~git24-0e00fe6-1.2) ...\n",
            "Setting up tesseract-ocr-eng (4.00~git24-0e00fe6-1.2) ...\n",
            "Setting up tesseract-ocr (4.00~git2288-10f4998a-2) ...\n",
            "Processing triggers for man-db (2.8.3-2ubuntu0.1) ...\n"
          ],
          "name": "stdout"
        }
      ]
    },
    {
      "cell_type": "code",
      "metadata": {
        "colab": {
          "base_uri": "https://localhost:8080/"
        },
        "id": "cXvnt0tc0P6B",
        "outputId": "fbe798fd-fffa-438a-8f4b-9c0a405de909"
      },
      "source": [
        "# Downloads the package lists from the repositories and \"updates\" them to get information on \r\n",
        "# the newest versions of packages and their dependencies. \r\n",
        "\r\n",
        "!apt-get update"
      ],
      "execution_count": 4,
      "outputs": [
        {
          "output_type": "stream",
          "text": [
            "\r0% [Working]\r            \rGet:1 http://ppa.launchpad.net/c2d4u.team/c2d4u4.0+/ubuntu bionic InRelease [15.9 kB]\n",
            "\r0% [Waiting for headers] [Connecting to security.ubuntu.com (91.189.91.38)] [Co\r                                                                               \rHit:2 http://archive.ubuntu.com/ubuntu bionic InRelease\n",
            "\r0% [Connecting to security.ubuntu.com (91.189.91.38)] [Connected to cloud.r-pro\r                                                                               \rGet:3 http://archive.ubuntu.com/ubuntu bionic-updates InRelease [88.7 kB]\n",
            "\r0% [3 InRelease 47.5 kB/88.7 kB 54%] [Connecting to security.ubuntu.com (91.189\r0% [2 InRelease gpgv 242 kB] [3 InRelease 47.5 kB/88.7 kB 54%] [Connecting to s\r                                                                               \rGet:4 https://cloud.r-project.org/bin/linux/ubuntu bionic-cran40/ InRelease [3,626 B]\n",
            "\r0% [2 InRelease gpgv 242 kB] [3 InRelease 47.5 kB/88.7 kB 54%] [Connecting to s\r0% [2 InRelease gpgv 242 kB] [3 InRelease 47.5 kB/88.7 kB 54%] [Connecting to s\r                                                                               \rHit:5 http://ppa.launchpad.net/cran/libgit2/ubuntu bionic InRelease\n",
            "\r0% [2 InRelease gpgv 242 kB] [3 InRelease 47.5 kB/88.7 kB 54%] [Connecting to s\r0% [2 InRelease gpgv 242 kB] [Connecting to security.ubuntu.com (91.189.91.38)]\r                                                                               \rGet:6 http://archive.ubuntu.com/ubuntu bionic-backports InRelease [74.6 kB]\n",
            "\r0% [2 InRelease gpgv 242 kB] [6 InRelease 8,394 B/74.6 kB 11%] [Connecting to s\r                                                                               \rGet:7 http://ppa.launchpad.net/graphics-drivers/ppa/ubuntu bionic InRelease [21.3 kB]\n",
            "\r0% [2 InRelease gpgv 242 kB] [6 InRelease 74.6 kB/74.6 kB 100%] [Connecting to \r0% [2 InRelease gpgv 242 kB] [Connecting to security.ubuntu.com (91.189.91.38)]\r                                                                               \r0% [2 InRelease gpgv 242 kB] [Waiting for headers] [Waiting for headers]\r                                                                        \rGet:8 http://security.ubuntu.com/ubuntu bionic-security InRelease [88.7 kB]\n",
            "Ign:9 https://developer.download.nvidia.com/compute/cuda/repos/ubuntu1804/x86_64  InRelease\n",
            "Ign:10 https://developer.download.nvidia.com/compute/machine-learning/repos/ubuntu1804/x86_64  InRelease\n",
            "Get:11 https://developer.download.nvidia.com/compute/cuda/repos/ubuntu1804/x86_64  Release [697 B]\n",
            "Hit:12 https://developer.download.nvidia.com/compute/machine-learning/repos/ubuntu1804/x86_64  Release\n",
            "Get:13 https://developer.download.nvidia.com/compute/cuda/repos/ubuntu1804/x86_64  Release.gpg [836 B]\n",
            "Get:14 http://ppa.launchpad.net/c2d4u.team/c2d4u4.0+/ubuntu bionic/main Sources [1,724 kB]\n",
            "Get:15 http://ppa.launchpad.net/c2d4u.team/c2d4u4.0+/ubuntu bionic/main amd64 Packages [882 kB]\n",
            "Get:16 https://cloud.r-project.org/bin/linux/ubuntu bionic-cran40/ Packages [44.4 kB]\n",
            "Get:17 http://archive.ubuntu.com/ubuntu bionic-updates/multiverse amd64 Packages [42.6 kB]\n",
            "Get:18 http://archive.ubuntu.com/ubuntu bionic-updates/main amd64 Packages [2,350 kB]\n",
            "Get:19 http://archive.ubuntu.com/ubuntu bionic-updates/restricted amd64 Packages [323 kB]\n",
            "Get:20 http://archive.ubuntu.com/ubuntu bionic-updates/universe amd64 Packages [2,157 kB]\n",
            "Get:21 http://ppa.launchpad.net/graphics-drivers/ppa/ubuntu bionic/main amd64 Packages [49.2 kB]\n",
            "Get:22 http://security.ubuntu.com/ubuntu bionic-security/main amd64 Packages [1,919 kB]\n",
            "Get:24 http://security.ubuntu.com/ubuntu bionic-security/restricted amd64 Packages [293 kB]\n",
            "Get:25 http://security.ubuntu.com/ubuntu bionic-security/universe amd64 Packages [1,386 kB]\n",
            "Ign:26 https://developer.download.nvidia.com/compute/cuda/repos/ubuntu1804/x86_64  Packages\n",
            "Get:26 https://developer.download.nvidia.com/compute/cuda/repos/ubuntu1804/x86_64  Packages [550 kB]\n",
            "Fetched 12.0 MB in 3s (4,063 kB/s)\n",
            "Reading package lists... Done\n"
          ],
          "name": "stdout"
        }
      ]
    },
    {
      "cell_type": "code",
      "metadata": {
        "colab": {
          "base_uri": "https://localhost:8080/"
        },
        "id": "bAzB6EhM0P8c",
        "outputId": "1ce7433d-1ecf-45bc-aa67-cf88ad571383"
      },
      "source": [
        "!apt-get install poppler-utils --fix-missing"
      ],
      "execution_count": 5,
      "outputs": [
        {
          "output_type": "stream",
          "text": [
            "Reading package lists... Done\n",
            "Building dependency tree       \n",
            "Reading state information... Done\n",
            "The following NEW packages will be installed:\n",
            "  poppler-utils\n",
            "0 upgraded, 1 newly installed, 0 to remove and 52 not upgraded.\n",
            "Need to get 154 kB of archives.\n",
            "After this operation, 613 kB of additional disk space will be used.\n",
            "Get:1 http://archive.ubuntu.com/ubuntu bionic-updates/main amd64 poppler-utils amd64 0.62.0-2ubuntu2.12 [154 kB]\n",
            "Fetched 154 kB in 0s (1,999 kB/s)\n",
            "Selecting previously unselected package poppler-utils.\n",
            "(Reading database ... 146421 files and directories currently installed.)\n",
            "Preparing to unpack .../poppler-utils_0.62.0-2ubuntu2.12_amd64.deb ...\n",
            "Unpacking poppler-utils (0.62.0-2ubuntu2.12) ...\n",
            "Setting up poppler-utils (0.62.0-2ubuntu2.12) ...\n",
            "Processing triggers for man-db (2.8.3-2ubuntu0.1) ...\n"
          ],
          "name": "stdout"
        }
      ]
    },
    {
      "cell_type": "code",
      "metadata": {
        "id": "IswcAeJEYf_V"
      },
      "source": [
        "from PIL import Image \r\n",
        "import pytesseract \r\n",
        "import sys \r\n",
        "from pdf2image import convert_from_path \r\n",
        "import os \r\n",
        "import re\r\n",
        "import spacy"
      ],
      "execution_count": 6,
      "outputs": []
    },
    {
      "cell_type": "code",
      "metadata": {
        "colab": {
          "base_uri": "https://localhost:8080/"
        },
        "id": "95Yh8AiX-hgp",
        "outputId": "2ca3fa4f-35b1-44a8-939a-6f750ee388c8"
      },
      "source": [
        "# Get filenames for pdf files. \r\n",
        "# I put only 5 sample pdfs, othrwise it takes a longer time\r\n",
        "\r\n",
        "pdfs = [file for file in os.listdir() if '.pdf' in file]\r\n",
        "pdfs"
      ],
      "execution_count": 7,
      "outputs": [
        {
          "output_type": "execute_result",
          "data": {
            "text/plain": [
              "['125708363-Ferino-Sanchez-Seltik-A094-216-526-BIA-Jan-14-2013.pdf',\n",
              " '125709281-Keno-Bashae-Jumpp-A087-145-628-BIA-Jan-31-2013.pdf',\n",
              " '125483234-Noe-Cesar-Hernandez-Avila-A079-531-484-BIA-Jan-18-2013.pdf',\n",
              " '125722233-Noe-Cesar-Hernandez-Avila-A079-531-484-BIA-Aug-30-2012.pdf',\n",
              " '127010570-Raul-Bosveli-Garcia-Perez-A076-894-739-BIA-Jan-18-2013.pdf']"
            ]
          },
          "metadata": {
            "tags": []
          },
          "execution_count": 7
        }
      ]
    },
    {
      "cell_type": "code",
      "metadata": {
        "colab": {
          "base_uri": "https://localhost:8080/"
        },
        "id": "nl5QMAB3-hlq",
        "outputId": "92b603f7-3980-430b-cb4b-339feb2e152c"
      },
      "source": [
        "# Check the path to pdfs\r\n",
        "\r\n",
        "# os.path.isdir('./temp/')\r\n",
        "os.path.isdir('./')"
      ],
      "execution_count": 8,
      "outputs": [
        {
          "output_type": "execute_result",
          "data": {
            "text/plain": [
              "True"
            ]
          },
          "metadata": {
            "tags": []
          },
          "execution_count": 8
        }
      ]
    },
    {
      "cell_type": "code",
      "metadata": {
        "id": "owaiq4FK-hzF"
      },
      "source": [
        "def ocr_func(pdf_file, txt_folder = './temp/'):\r\n",
        "    '''\r\n",
        "    Takes an uploaded .pdf file, converts it to jpg  and to plain text, and saves it as a\r\n",
        "    .txt file\r\n",
        "    '''\r\n",
        "    #update to recieve input .pdf file as a variable?\r\n",
        "\r\n",
        "    pages = convert_from_path(pdf_file, dpi=300)\r\n",
        "\r\n",
        "    num_pages = 0\r\n",
        "\r\n",
        "    # convert to jpg\r\n",
        "    for image_counter, page in enumerate(pages):\r\n",
        "        filename = 'page_' + str(image_counter) + '.jpg'\r\n",
        "        page.save(filename, 'JPEG')\r\n",
        "        num_pages += 1\r\n",
        "    if not os.path.isdir(txt_folder):\r\n",
        "      os.mkdir(txt_folder)\r\n",
        "    outfile = ''.join(['./temp/',pdf_file.split('.')[0], '.txt'])\r\n",
        "    fulltext = []\r\n",
        "    f = open(outfile, 'a')\r\n",
        "\r\n",
        "    for i in range(num_pages):\r\n",
        "        filename = 'page_' + str(i) + '.jpg'\r\n",
        "        text = str(((pytesseract.image_to_string(Image.open(filename)))))\r\n",
        "        \r\n",
        "        os.remove(filename)\r\n",
        "        # os.remove(pdf_file)\r\n",
        "\r\n",
        "        # replace  \"\\n\" to new line?\r\n",
        "        text = text.replace('-\\n', '') \r\n",
        "\r\n",
        "        # replace \"\\n\" to space, but only just in case.\r\n",
        "        # text = text.replace('\\n', ' ')  #try not to use this\r\n",
        "        fulltext.append(text)\r\n",
        "        f.write(text)\r\n",
        "\r\n",
        "    f.close()\r\n",
        "\r\n",
        "    return (outfile[len(txt_folder):],''.join(fulltext).split('\\n\\n'))\r\n"
      ],
      "execution_count": 9,
      "outputs": []
    },
    {
      "cell_type": "code",
      "metadata": {
        "id": "rxiJeBZb-h2X"
      },
      "source": [
        "def getJudge(text: list) -> tuple:\r\n",
        "        '''\r\n",
        "        In an appeal document, finds the name of the judge on the appeal\r\n",
        "        returns a tuple of 'high confidence' or 'low confidence' \r\n",
        "        and the name of the judge\r\n",
        "        If the word 'judge' is near the token, high confidence is returned\r\n",
        "        This is because the judge name is followed or preceded by their title\r\n",
        "        '''\r\n",
        "        nlp = spacy.load('en_core_web_lg')\r\n",
        "        spaceSepText = ' '.join(text)\r\n",
        "        doc = nlp(spaceSepText)\r\n",
        "        people = [ent for ent in doc.ents if ent.label_ == 'PERSON'\r\n",
        "                        and len(ent.text.split(' ')) in (2,3)][-5:]\r\n",
        "\r\n",
        "        possibleJudges = [doc[person.start-4:person.end+4] for person in people]\r\n",
        "\r\n",
        "        for idx, tokens in enumerate(possibleJudges):\r\n",
        "            if 'judge' in str(tokens).lower():\r\n",
        "              return ('High confidence', people[idx])\r\n",
        "        # return ('low confidence', max(sorted(people, key = len)))\r\n",
        "\r\n",
        "\r\n",
        "def isAppeal(text):\r\n",
        "  appeal = re.compile(r\"(IN REMOVAL PROCEEDINGS\\nAPPEAL($|\\n)|\\nAPPEAL\\n)\")\r\n",
        "  return appeal.search('\\n'.join(text))\r\n"
      ],
      "execution_count": 11,
      "outputs": []
    },
    {
      "cell_type": "code",
      "metadata": {
        "id": "IOy9O_Lp-h5N"
      },
      "source": [
        "\"\"\"\r\n",
        "Court and its county\r\n",
        "\"\"\"\r\n",
        "\r\n",
        "def getCourt(text: list):\r\n",
        "  nlp = spacy.load('en_core_web_lg')\r\n",
        "  spaceSepText = ' '.join(text)\r\n",
        "  doc = nlp(spaceSepText)\r\n",
        "  court = [ent for ent in doc.ents if ent.label_ == 'GPE']\r\n",
        "  print(\"print court :\", court)\r\n",
        "  return court[0].text + ', ' +  court[1].text\r\n",
        "\r\n",
        "def getCoO(text: list):\r\n",
        "#   nlp = spacy.load('en_core_web_lg')\r\n",
        "  nlp = spacy.load('en_core_web_lg')\r\n",
        "  spaceSepText = ' '.join(text)\r\n",
        "  doc = nlp(spaceSepText)\r\n",
        "  places = [ent for ent in doc.ents if ent.label_ == 'GPE']\r\n",
        "\r\n",
        "  possibleCoO = [doc[place.start-4:place.end+4] for place in places]\r\n",
        "\r\n",
        "  \r\n",
        "  for idx, token in enumerate(possibleCoO):\r\n",
        "    return max(sorted(places, key = len))\r\n"
      ],
      "execution_count": 12,
      "outputs": []
    },
    {
      "cell_type": "code",
      "metadata": {
        "colab": {
          "base_uri": "https://localhost:8080/"
        },
        "id": "buOkiqPp-iBa",
        "outputId": "8bf1e6c2-8666-486b-f526-8d0824128968"
      },
      "source": [
        "\"\"\"\r\n",
        "This part is the longest one. convert to JPG & text\r\n",
        "\"\"\"\r\n",
        "\r\n",
        "fullTextList = [ocr_func(PDF_file) for PDF_file in pdfs]\r\n",
        "for file, text in fullTextList:\r\n",
        "  print(\"file: \", file)\r\n",
        "  print(text[:20])"
      ],
      "execution_count": 13,
      "outputs": [
        {
          "output_type": "stream",
          "text": [
            "file:  125708363-Ferino-Sanchez-Seltik-A094-216-526-BIA-Jan-14-2013.txt\n",
            "[' ', 'Sweeney, Maureen A., Esquire', 'University of Maryland Immigration Clinic\\n500 W. Baltimore Street, Suite 360\\nBaltimore, MD 21201', 'Name: SELTIK, FERINO SANCHEZ\\nRiders:094-216-523', 'U.S. Department of Justice\\nExecutive Office for Immigration Review', 'Board of Immigration Appeals\\nOffice of the Clerk', '3107 Leesburg Pike, Suite 2000\\nFails Church, Virginia 22041', 'DHS/ICE Office of Chief Counsel - BAL\\n31 Hopkins Plaza, Room 1600\\nBaltimore, MD 21201', 'A 094-216-526', 'Date of this notice: 1/24/2013', \"Enclosed is a copy of the Board's decision and order in the above-referenced case.\", 'Sincerely,', 'Donna Cans', 'Donna Carr\\nChief Clerk\\nEnclosure\\nPanel Members:\\nGuendelsberger, John\\nAdkins-Blanch, Charles K.\\nManuel, Elise L.\\nTranc', 'Userteam: Docket', 'Cite as: Ferino Sanchez Seltik, A094 216 526 (BIA Jan. 14, 2013)', 'poUDeIT MMM | Jayuas ayerjaddy seSnjay 2p yuRISTUUTT\\n\\x0cU.S. Department of Justice Decision of the Board of Immigration Appeals\\nExecutive Office for Immigration Review', 'Falls Church, Virginia 22041', 'Files: A094 216 526 — Baltimore, MD Date:\\nA094 216 523 JAN 242013', 'In re: FERINO SANCHEZ SELTIK\\nTENORIO DAVILA JUVENTINO a.k.a. Tenorio Cuban Davila']\n",
            "file:  125709281-Keno-Bashae-Jumpp-A087-145-628-BIA-Jan-31-2013.txt\n",
            "['U.S. Department of Justice\\nExecutive Office for Immigration Review', 'Board of Immigration Appeals\\nOffice of the Clerk', ' ', ' ', '5107 Leesburg Pike, Suite 2000\\nFalls Church, Virginia 22041', 'JUMPP, KENO BASHAE DHS/ICE Office of Chief Counsel - MIA\\n130 SAN RENO BLVD 333 South Miami Ave., Suite 200', 'N. LAUDERDALE, FL 33068 Miami, FL 33130', 'Name: JUMPP, KENO BASHAE A 087-145-628', 'Date of this notice: 1/31/2013', \"Enclosed is a copy of the Board's decision and order in the above-referenced case.\", 'Sincerely,', 'Denna Cane', \"pOU'eITMMM | JayUaZ ayetjaddy seSnjayy 29 yuReISTUIUWTT\", 'Donna Carr\\nChief Clerk\\nEnclosure\\nPanel Members:\\nGuendelsberger, John\\nManuel, Elise L.\\nHoffman, Sharon\\nTranc', 'Userteam: Docket', 'Cite as: Keno Bashae Jumpp, A087 145 628 (BIA Jan. 31, 2013) |\\n\\x0cUS,-Department of Justice Decision of the Board of Immigration Appeals\\nte Ocfice', 'Executive for Immigration Review', ', >\\nFalls Church, Virginia 22041', 'File: A087 145 628 — Miami, FL Date: JAN $1203', 'In re: KENO BASHAE JUMPP']\n",
            "file:  125483234-Noe-Cesar-Hernandez-Avila-A079-531-484-BIA-Jan-18-2013.txt\n",
            "[' ', 'Ortega, Hector R., Esq.', 'Ortega, Canossa & Associates, PLC\\n315 W. 9th St., Suite 613', 'Los Angeles, CA 90015', 'Name: HERNANDEZ AVILA, NOE CESAR', 'U.S. Department of Justice\\nExecutive Office for Immigration Review', 'Board of Immigration Appeals\\nOffice of the Clerk', '5107 Leesburg Pike, Suite 2000\\nFalls Church, Virginia 22041', 'DHS/ICE Office of Chief Counsel - LOS\\n606 S. Olive Street, 8th Floor\\nLos Angeles, CA 90014', 'A 079-531-484', 'Date of this notice: 1/18/2013', \"Enclosed is a copy of the Board's decision and order in the above-referenced case.\", 'Sincerely,', 'Donna Carr\\nChief Clerk', 'Enclosure', 'Panel Members:\\nCole, Patricia A.', 'ines', 'Userteam: Docket', 'Cite as: Noe Cesar Hernandez-Avila, A079 531 484 (BIA Jan. 18, 2013)', \"pOU'IeIT MMM | JayUaD ayeT[Jaddy sasnyjay 2p yuRISTUTUT\\n\\x0cU.S. Department of Justice Decision of the Board of Immigration Appeals\\nExecutive Office for Immigration Review\"]\n",
            "file:  125722233-Noe-Cesar-Hernandez-Avila-A079-531-484-BIA-Aug-30-2012.txt\n",
            "[' ', 'Ortega, Hector R., Esq', 'Ortega, Canossa & Associates, PLC\\n315 W. 9th St., Suite 613', 'Los Angeles, CA 90015', 'Name: HERNANDEZ AVILA, NOE CESAR', 'U.S. Department of Justice\\nExecutive Office for Immigration Review', 'Board of Immigration Appeals\\nOffice of the Clerk', '5107 Leesburg Pike, Suite 2000\\nFalls Church, Virginia 22041', 'DHS/ICE Office of Chief Counsel - LOS\\n606 S. Olive Street, 8th Floor\\nLos Angeles, CA 90014', 'A 079-531-484', 'Date of this notice: 8/30/2012', \"Enclosed is a copy of the Board's decision and order in the above-referenced case.\", 'Sincerely,', 'Denna Cary', 'Donna Carr\\nChief Clerk\\nEnclosure\\nPanel Members:\\nCole, Patricia A.\\ntucasd', 'Userteam: Docket', 'Cite as: Noe Cesar Hernandez-Avila, A079 531 484 (BIA Aug. 30, 2012)', \"pOU'DeIT MMM | JayUaD ayeTjaddy sesnjay 29 JueIsTUIWT\\n\\x0cU.S. Department of Justice Decision of the Board of Immigration Appeals\\nExecutive @ffice for Immigration Review\", '; Falls Church, Virginia 22041', ' ']\n",
            "file:  127010570-Raul-Bosveli-Garcia-Perez-A076-894-739-BIA-Jan-18-2013.txt\n",
            "[' ', 'Almas, Aseph', 'Law Offices of Aseph Almas,PLLC\\nP.O. Box 11846', 'Houston, TX 77293', 'Name: GARCIA PEREZ, RAUL BOSVELI', 'U.S. Department of Justice\\nExecutive Office for Immigration Review', 'Board of Immigration Appeals\\nOffice of the Clerk', '5107 Leesburg Pike, Suite 2000\\nFalls Church, Virginia 2204]', 'DHS/ICE Office of Chief Counsel - ATL\\n180 Spring Street, Suite 332\\nAtlanta, GA 30303', 'A 076-894-739', 'Date of this notice: 1/18/2013', \"Enclosed is a copy of the Board's decision and order in the above-referenced case.\", 'Sincerely,', 'Donna Carr\\nChief Clerk\\nEnclosure\\nPanel Members:\\nManuel, Elise L.\\nAdkins-Blanch, Charles K.\\nHoffman, Sharon\\nTranc', 'Userteam: Docket', 'Cite as: Raul Bosveli Garcia Perez, A076 894 739 (BIA Jan. 18 2013)', \"pOU'IeIT MMM | JayUaD ayeT[Jaddy sasnjay 29 yueISTUTUW]\\n\\x0cU.S. Department of Justice Decision of the Board of Immigration Appeals\\nExecutive Office for Immigration Review\", 'File: A076 894 739 — Atlanta, GA Date: JAN 18 2013\\nIn re: RAUL BOSVELI GARCIA PEREZ', 'IN REMOVAL PROCEEDINGS', 'APPEAL']\n"
          ],
          "name": "stdout"
        }
      ]
    },
    {
      "cell_type": "code",
      "metadata": {
        "colab": {
          "base_uri": "https://localhost:8080/"
        },
        "id": "6HtvbqqV-h-a",
        "outputId": "6ca41684-e9dc-47d9-b6d0-063a5f706e06"
      },
      "source": [
        "appeals = []\r\n",
        "originals = []\r\n",
        "print(\"length of full text: \",len(fullTextList))\r\n",
        "for fullText in fullTextList:\r\n",
        "  print('\\nfull text:', fullText[0])\r\n",
        "  if isAppeal(fullText[1]):\r\n",
        "    print(\"Case type:\", 'Appeal Case')\r\n",
        "    judge = getJudge(fullText[1])\r\n",
        "    print('Judge name:', judge)\r\n",
        "    court = getCourt(fullText[1])\r\n",
        "    print('Court', court)\r\n",
        "    coo = getCoO(fullText[1])\r\n",
        "    print('Country of origin', coo)\r\n",
        "    if fullText not in appeals:\r\n",
        "      appeals.append(fullText)\r\n",
        "  else:\r\n",
        "    print(\"Case type:\", 'Original Case')\r\n",
        "    judge = getJudge(fullText[1])\r\n",
        "    print('Judge name: ', judge)\r\n",
        "    court = getCourt(fullText[1])\r\n",
        "    print('Court: ', court)\r\n",
        "    coo = getCoO(fullText[1])\r\n",
        "    print('Country of origin: ', coo)\r\n",
        "    if fullText not in originals:\r\n",
        "      originals.append(fullText)\r\n",
        "    \r\n",
        "    # for x in fullText[1]:\r\n",
        "    #   print(x)\r\n",
        "\r\n"
      ],
      "execution_count": 14,
      "outputs": [
        {
          "output_type": "stream",
          "text": [
            "length of full text:  5\n",
            "\n",
            "full text: 125708363-Ferino-Sanchez-Seltik-A094-216-526-BIA-Jan-14-2013.txt\n",
            "Case type: Appeal Case\n",
            "Judge name: ('High confidence', DAVID W. CROSLAND)\n",
            "print court : [Baltimore, MD, Virginia, Baltimore, MD, Baltimore, MD, U.S., Baltimore, Maryland, Mexico, Mexico, the United States, Mexico, the United States, the United States, Mexico, Baltimore, Maryland]\n",
            "Court Baltimore, MD\n",
            "Country of origin Maryland\n",
            "\n",
            "full text: 125709281-Keno-Bashae-Jumpp-A087-145-628-BIA-Jan-31-2013.txt\n",
            "Case type: Appeal Case\n",
            "Judge name: None\n",
            "print court : [Leesburg Pike, Falls Church, Virginia, SAN RENO, BLVD, South Miami Ave., N. LAUDERDALE, FL, Miami, Falls Church, Miami, FLORIDA, Esq, Davie, U.S.]\n",
            "Court Leesburg Pike, Falls Church\n",
            "Country of origin U.S.\n",
            "\n",
            "full text: 125483234-Noe-Cesar-Hernandez-Avila-A079-531-484-BIA-Jan-18-2013.txt\n",
            "Case type: Original Case\n",
            "Judge name:  None\n",
            "print court : [Los Angeles, Falls Church, Virginia, Los Angeles, California]\n",
            "Court:  Los Angeles, Falls Church\n",
            "Country of origin:  California\n",
            "\n",
            "full text: 125722233-Noe-Cesar-Hernandez-Avila-A079-531-484-BIA-Aug-30-2012.txt\n",
            "Case type: Appeal Case\n",
            "Judge name: ('High confidence', Ashley Tabaddor)\n",
            "print court : [Los Angeles, Falls Church, Virginia, Los Angeles, Falls Church, Virginia, El Salvador, the\n",
            "United States, JueIsTUIWT\n",
            "\f, FL, LOS ANGELES, STE, LOS ANGELES, FL, LOS ANGELES, LOS ANGELES, LOS ANGELES, Los Angeles, California, Los Angeles, California, El Salvador, the United States, the United States, Cal, Dist, Nidof]\n",
            "Court Los Angeles, Falls Church\n",
            "Country of origin Nidof\n",
            "\n",
            "full text: 127010570-Raul-Bosveli-Garcia-Perez-A076-894-739-BIA-Jan-18-2013.txt\n",
            "Case type: Appeal Case\n",
            "Judge name: None\n",
            "print court : [Aseph Almas, PLLC, Houston, Falls Church, Virginia, Atlanta, Atlanta, GA, Guatemala, U.S., ST., SW, ATLANTA, GUATEMALA, the\n",
            "United States]\n",
            "Court Aseph Almas, PLLC\n",
            "Country of origin the\n",
            "United States\n"
          ],
          "name": "stdout"
        }
      ]
    },
    {
      "cell_type": "code",
      "metadata": {
        "colab": {
          "base_uri": "https://localhost:8080/"
        },
        "id": "3yZiQb2C4Xsz",
        "outputId": "43a8e5af-31bc-4c51-e7ec-7599f65eb137"
      },
      "source": [
        "fullText[1]"
      ],
      "execution_count": 15,
      "outputs": [
        {
          "output_type": "execute_result",
          "data": {
            "text/plain": [
              "[' ',\n",
              " 'Almas, Aseph',\n",
              " 'Law Offices of Aseph Almas,PLLC\\nP.O. Box 11846',\n",
              " 'Houston, TX 77293',\n",
              " 'Name: GARCIA PEREZ, RAUL BOSVELI',\n",
              " 'U.S. Department of Justice\\nExecutive Office for Immigration Review',\n",
              " 'Board of Immigration Appeals\\nOffice of the Clerk',\n",
              " '5107 Leesburg Pike, Suite 2000\\nFalls Church, Virginia 2204]',\n",
              " 'DHS/ICE Office of Chief Counsel - ATL\\n180 Spring Street, Suite 332\\nAtlanta, GA 30303',\n",
              " 'A 076-894-739',\n",
              " 'Date of this notice: 1/18/2013',\n",
              " \"Enclosed is a copy of the Board's decision and order in the above-referenced case.\",\n",
              " 'Sincerely,',\n",
              " 'Donna Carr\\nChief Clerk\\nEnclosure\\nPanel Members:\\nManuel, Elise L.\\nAdkins-Blanch, Charles K.\\nHoffman, Sharon\\nTranc',\n",
              " 'Userteam: Docket',\n",
              " 'Cite as: Raul Bosveli Garcia Perez, A076 894 739 (BIA Jan. 18 2013)',\n",
              " \"pOU'IeIT MMM | JayUaD ayeT[Jaddy sasnjay 29 yueISTUTUW]\\n\\x0cU.S. Department of Justice Decision of the Board of Immigration Appeals\\nExecutive Office for Immigration Review\",\n",
              " 'File: A076 894 739 — Atlanta, GA Date: JAN 18 2013\\nIn re: RAUL BOSVELI GARCIA PEREZ',\n",
              " 'IN REMOVAL PROCEEDINGS',\n",
              " 'APPEAL',\n",
              " 'ON BEHALF OF RESPONDENT: Aseph Almas, Esquire',\n",
              " 'ON BEHALF OF DHS: Ozlem B. Barnard\\nAssistant Chief Counsel',\n",
              " 'APPLICATION: Voluntary departure',\n",
              " 'The respondent, a native and citizen of Guatemala, appeals from the decision of the\\nImmigration Judge dated October 28, 2010, granting the respondent pre-conclusion voluntary\\ndeparture under section 240B(a) of the Immigration and Nationality Act, 8 U.S.C. § 1229c(a).\\nThe appeal will be dismissed.',\n",
              " 'We review the findings of fact, including any determination of credibility, made by the\\nImmigration Judge under the “clearly erroneous” standard. 8 C.F.R. § 1003.1(d)(3){i). We\\nreview all other issues, including whether the parties have met the relevant burden of proof, and\\nissues of discretion, under a de novo standard. 8 C.F.R. § 1003.1(d)(3)(ii).',\n",
              " 'Upon request by the respondent and over the Department of Homeland Security’s objection,\\nthe Immigration Judge granted the respondent pre-conclusion voluntary departure, which\\nrequired him to waive appeal of all issues. See 8 C.F.R. § 1240.26(b)(1)(i)(D); see also\\nMatter of Ocampo, 22 1&N Dec. 1301 (BIA 2000). A Notice of Appeal (Form EOIR-26) may\\nnot be filed by any party who has waived appeal. 8C.F.R.§ 1003.3(a)(1); see also\\nMatter of Shih, 20 I&N Dec. 697 (BIA 1993).',\n",
              " 'On appeal, the respondent urges that the Immigration Judge erred in granting his request for\\npre-conclusion voluntary departure because the respondent was not present at the hearing, and\\nthe Immigration Judge did not give the respondent the voluntary departure advisals under\\n8 C.F.R. § 1240.26(b)(iii). However, the respondent’s presence was previously waived at the\\nfinal hearing, and the respondent’s prior counsel who was present affirmatively indicated to the\\nImmigration Judge that he would advise the respondent of all the voluntary departure advisals,\\nand further indicated that he had already done so (Tr. at 66). In a form order granting the\\nrespondent pre-conclusion voluntary departure, the Immigration Judge indicated that there would\\nbe “NO APPEAL” from the decision. The respondent does not claim that the waiver of appeal\\nwas not properly accomplished by his counsel, and upon review of the record before us, we are\\nsatisfied that the respondent, through counsel, accepted pre-conclusion voluntary departure and\\nwaived appeal. We therefore conclude that this case is not properly before us. The Immigration',\n",
              " 'Cite as: Raul Bosveli Garcia Perez, A076 894 739 (BIA Jan. 18 2013)',\n",
              " \"pOU'IeIT MMM | JayUaD ayeT[Jaddy sasnyjay 2p yuRISTUTUT\\n\\x0cA076 894 739\",\n",
              " 'Judge’s decision became administratively final upon the respondent’s waiver of the right to an\\nappeal, and the Board therefore lacks jurisdiction over this case. See Matter of Shih, supra.',\n",
              " 'We note that even if we had jurisdiction over this case, we would dismiss the respondent’s\\nappeal because he has not established that his prior counsel failed to inform him of the required\\nadvisals, and he has therefore not established that his prior counsel was ineffective in this regard.',\n",
              " 'See Matter of Lozada, 19 I&N Dec. 637 (BIA 1988). Accordingly, the following order will be\\nentered.',\n",
              " 'ORDER: The respondent’s appeal is dismissed and the record is returned to the\\nImmigration Court without further action.',\n",
              " 'hy, 2',\n",
              " 'FOR THE B',\n",
              " '2',\n",
              " 'Cite as: Raul Bosveli Garcia Perez, A076 894 739 (BIA Jan. 18 2013)',\n",
              " \"pOU'IeIT MMM | JayUdD oyeT[Jaddy sasnjay 29 yueISTUTUW]\\n\\x0c   \",\n",
              " 'U.S. DEPARTMENT OF JUSTICE\\nEXECUTIVE OFFICE FOR IMMIGRATION REVIEW\\nIMMIGRATION COURT\\n180 SPRING ST., SW, SUITE 241\\nATLANTA, GA 30303',\n",
              " 'In the Matter of: oe Case No.: A076-894-739\\nGARCIA PEREZ, RAUL BOSVELI',\n",
              " '\"RESPONDENT | : me os . IN REMOVAL PROCEEDINGS',\n",
              " \"\\\\ : , _. ORDER OF THE IMMIGRATION JUDGE\\n' . . . 7 Sy\",\n",
              " \"Ypon the basis’ of Respondent's admissions, I have determined that Respondent is\",\n",
              " 'subject to removal on the charge(s) in the Notice to Appear. Respondent has',\n",
              " 'made application solely for voluntary Geparture’ in lieu of xemoval and has',\n",
              " 'waived appeal of all issues. ,',\n",
              " 'It is HEREBY ORDERED that Respondent be GRANTED pre-conclusion voluntary\\ndeparture under: Beet gO oe ce! of. the Act, in lieu of removal, without expense\\nto the Government, on 6r“before FEB. 25, 2011_, or any extensions as may be\\n‘granted by the Field Office Director, Department of Homeland Security, and\\nunder any other conditions the Field Office Director may direct.',\n",
              " '‘It is FURTHER ORDERED:',\n",
              " '[ ] that’ Respondent post a voluntary departure bond in the amount of',\n",
              " 'with the Department of Homeland Security on or before\\n[ ] -that Respondent provide to the pepurtnent of Homeland a his or her\\npassport or other travel documentation sufficient to assure lawful entry into\\nthe country to.which the alien is departing within 60 days of this order, or',\n",
              " 'within any time extensions: that may be granted by the Department of Homeland',\n",
              " 'Security; and/or',\n",
              " '{ ]Other',\n",
              " ' ',\n",
              " 'It is FURTHER ORDERED that if any of the above ordered conditions are not met\\n‘as required or if Respondent fails to depart as required, the above grant of\\npre-conclusion voluntary departure shall be withdrawn without further notice or\\nproceedings and the. following order, entered pursuant to 8 C.F.R. § 1240.26(d),\\nshall become immediately”\"effective: Respondent shall be removed to',\n",
              " '_ GUATEMALA on the charge',\n",
              " '(s) in the Notice to Appear, and in the',\n",
              " 'alternative to',\n",
              " 'Respondent is HEREBY ADVISED that if he or she fails to voluntarily depart the\\nUnited States within the time specified, or within any extensions. that may be\\ngranted by the Department of Homeland Security, Respondent will be subject to\\nthe following penalties:',\n",
              " '1. Respondent will be subject toa civil monetary penalty of not less than',\n",
              " 'JOWIeIT MMM | JayUaD ayerjaddy aa8nyayy 2p yueISTUTWT\\n\\x0c| 4 | @ OO . e ,\\n‘= . ,',\n",
              " '$1,000 and not more than $5,000. INA § 240B(d). The Court has set the\\npresumptive civil monetary penalty amount of $3,000 (or\\ninstead of the presumptive amount). 8 C.F.R. § 1240.26(j).',\n",
              " \"2. Respondent will be ineligible, for a period of 10 years, to receive\\n' cancellation of removal, adjustment of status, registry, voluntary\\ndeparture, or a change in nonimmigrant status. INA § 240B(d).\",\n",
              " 'Respondent: is FURTHER ADVISED that if he or she files a motion to reopen or\\nreconsider during the voluntary departure period, the period allowed for\\nvoluntary departure will not be stayed, tolled, or extended, the grant of\\nvoluntary departure will be terminated automatically, the alternate order of\\nremoval will take effect immediately, and the above penalties for failure to\\ndepart voluntarily under section 240B(d) of the Act, 8 U.S.C. § 1229c(d), will\\nnot apply. 8 C.F.R. §§ 1240.26(b) (3) (iii), (e) (1).',\n",
              " '     \\n  \\n     ',\n",
              " 'EARL\\nImmigration .\\nDate: Oct 28, 2010  *~.;3\"°.\\nAppeal: NO APPEAL',\n",
              " '   ',\n",
              " 'TO: [ JALIEN\\nDATE:\\nAttachments:\\n{ ] Other i\\n“AY EOIR 6 - VB (Vol. Depart. - REMOVAL)',\n",
              " 'DVISALS WAIVED',\n",
              " \"pOU'IeIT MMM | JayUdD oyeT[Jaddy sasnjay 29 yueISTUTUW]\\n\\x0c\"]"
            ]
          },
          "metadata": {
            "tags": []
          },
          "execution_count": 15
        }
      ]
    },
    {
      "cell_type": "code",
      "metadata": {
        "colab": {
          "base_uri": "https://localhost:8080/"
        },
        "id": "mgiLBxGRCV7r",
        "outputId": "43c7c48c-fd70-493b-e7e5-62d0de7ca5ef"
      },
      "source": [
        "originals"
      ],
      "execution_count": 16,
      "outputs": [
        {
          "output_type": "execute_result",
          "data": {
            "text/plain": [
              "[('125483234-Noe-Cesar-Hernandez-Avila-A079-531-484-BIA-Jan-18-2013.txt',\n",
              "  [' ',\n",
              "   'Ortega, Hector R., Esq.',\n",
              "   'Ortega, Canossa & Associates, PLC\\n315 W. 9th St., Suite 613',\n",
              "   'Los Angeles, CA 90015',\n",
              "   'Name: HERNANDEZ AVILA, NOE CESAR',\n",
              "   'U.S. Department of Justice\\nExecutive Office for Immigration Review',\n",
              "   'Board of Immigration Appeals\\nOffice of the Clerk',\n",
              "   '5107 Leesburg Pike, Suite 2000\\nFalls Church, Virginia 22041',\n",
              "   'DHS/ICE Office of Chief Counsel - LOS\\n606 S. Olive Street, 8th Floor\\nLos Angeles, CA 90014',\n",
              "   'A 079-531-484',\n",
              "   'Date of this notice: 1/18/2013',\n",
              "   \"Enclosed is a copy of the Board's decision and order in the above-referenced case.\",\n",
              "   'Sincerely,',\n",
              "   'Donna Carr\\nChief Clerk',\n",
              "   'Enclosure',\n",
              "   'Panel Members:\\nCole, Patricia A.',\n",
              "   'ines',\n",
              "   'Userteam: Docket',\n",
              "   'Cite as: Noe Cesar Hernandez-Avila, A079 531 484 (BIA Jan. 18, 2013)',\n",
              "   \"pOU'IeIT MMM | JayUaD ayeT[Jaddy sasnyjay 2p yuRISTUTUT\\n\\x0cU.S. Department of Justice Decision of the Board of Immigration Appeals\\nExecutive Office for Immigration Review\",\n",
              "   'Falls Church, Virginia_22041',\n",
              "   '   ',\n",
              "   ' ',\n",
              "   'File: A079 531 484 - Los Angeles, CA Date: JAN 18 2013\\nIn re: NOE CESAR HERNANDEZ-AVILA',\n",
              "   'IN REMOVAL PROCEEDINGS',\n",
              "   'MOTION',\n",
              "   'ON BEHALF OF RESPONDENT: Hector R. Ortega, Esquire',\n",
              "   'ON BEHALF OF DHS: Elena Kusky\\nAssistant Chief Counsel',\n",
              "   'APPLICATION: _ Reconsideration',\n",
              "   'The Department of Homeland Security (“DHS”) moves for reconsideration of our August 30,\\n2012, decision dismissing its appeal of the Immigration Judge’s May 27, 2011, decision\\nterminating removal proceedings. The motion will be denied.',\n",
              "   'At issue in this case was whether the respondent’s conviction in violation of California Penal\\nCode § 653w(a) (failure to disclose origin of a recording or audiovisual work) renders him\\nremovable under section 237(a)(2)(A)(i) of the Immigration and Nationality Act, 8 U.S.C.\\n§ 1227(a)(2)(A)(i), as an alien convicted of a crime involving moral turpitude (“CIMT”) within\\n5 years after admission for which a sentence of 1 year or longer may be imposed. In her May 27,\\n2011, decision, the Immigration Judge terminated proceedings, finding that the DHS did not\\nsustain its burden of proof. The DHS appealed, arguing that it submitted sufficient evidence (i.e.\\na police report, including arrest records, Exhibit 7) to support a removability finding under the\\nthird step of Matter of Silva-Trevino, 24 I&N Dec. 687 (A.G. 2008). On August 30, 2012, we\\ndismissed the DHS’s appeal.',\n",
              "   'In its motion for reconsideration, the DHS alleges that we erred in finding that the police\\nreport was “inherently unreliable” because it was not incorporated into the guilty plea, was not\\nsubstantiated by the respondent’s admissions, and was not corroborated by independent witness\\ntestimony.',\n",
              "   'We will deny the DHS’s motion, as we find no errors of fact or law in our prior decision.\\nSection 240(c)(6)(C) of the Act, 8 U.S.C. § 1229a(c)(6)(C); 8 CFR. § 1003.2(b)(1);\\nMatter of O-S-G-, 24 I&N Dec. 56, 58 (BIA 2006) (the movant must specify the factual and legal\\nissues raised on appeal that were erroneously decided or overlooked in our initial decision, or\\nshow how a change in the law materially affects the prior decision). We continue to agree with\\nthe Immigration Judge that without other indicia of reliability, the police report was insufficient\\nto sustain the DHS’s burden of proof standing alone. As noted by the Immigration Judge, “arrest\\nreports are one-sided recitations of events aimed at establishing probable cause or reasonable\\nsuspicion in criminal proceedings” (05/27/11 I.J. Dec. at 6). While evidence outside of the',\n",
              "   'Cite as: Noe Cesar Hernandez-Avila, A079 531 484 (BIA Jan. 18, 2013)',\n",
              "   \"pOU'IeIT MMM | JayUaD ayeT[Jaddy sasnyjay 2p yuRISTUTUT\\n\\x0c=)\",\n",
              "   'A079 531 484',\n",
              "   'record of conviction is appropriate to consider under the Silva-Trevino step 3, we continue to\\nconclude that in this case, the police record was not sufficiently reliable to sustain the DHS’s\\nburden. Accordingly, the following order is entered.',\n",
              "   'ORDER: The DHS’ motion is denied.',\n",
              "   '4 ag My BOARD',\n",
              "   'JW OLITMMM | JayuaD azetfeddy aa8nyay 2p JURIST]',\n",
              "   '2',\n",
              "   'Cite as: Noe Cesar Hernandez-Avila, A079 531 484 (BIA Jan. 18, 2013)\\n\\x0c'])]"
            ]
          },
          "metadata": {
            "tags": []
          },
          "execution_count": 16
        }
      ]
    },
    {
      "cell_type": "code",
      "metadata": {
        "colab": {
          "base_uri": "https://localhost:8080/"
        },
        "id": "PvNpX9wH362d",
        "outputId": "42b2b761-78f9-4941-c8fa-ecc092d11444"
      },
      "source": [
        "appeals"
      ],
      "execution_count": 17,
      "outputs": [
        {
          "output_type": "execute_result",
          "data": {
            "text/plain": [
              "[('125708363-Ferino-Sanchez-Seltik-A094-216-526-BIA-Jan-14-2013.txt',\n",
              "  [' ',\n",
              "   'Sweeney, Maureen A., Esquire',\n",
              "   'University of Maryland Immigration Clinic\\n500 W. Baltimore Street, Suite 360\\nBaltimore, MD 21201',\n",
              "   'Name: SELTIK, FERINO SANCHEZ\\nRiders:094-216-523',\n",
              "   'U.S. Department of Justice\\nExecutive Office for Immigration Review',\n",
              "   'Board of Immigration Appeals\\nOffice of the Clerk',\n",
              "   '3107 Leesburg Pike, Suite 2000\\nFails Church, Virginia 22041',\n",
              "   'DHS/ICE Office of Chief Counsel - BAL\\n31 Hopkins Plaza, Room 1600\\nBaltimore, MD 21201',\n",
              "   'A 094-216-526',\n",
              "   'Date of this notice: 1/24/2013',\n",
              "   \"Enclosed is a copy of the Board's decision and order in the above-referenced case.\",\n",
              "   'Sincerely,',\n",
              "   'Donna Cans',\n",
              "   'Donna Carr\\nChief Clerk\\nEnclosure\\nPanel Members:\\nGuendelsberger, John\\nAdkins-Blanch, Charles K.\\nManuel, Elise L.\\nTranc',\n",
              "   'Userteam: Docket',\n",
              "   'Cite as: Ferino Sanchez Seltik, A094 216 526 (BIA Jan. 14, 2013)',\n",
              "   'poUDeIT MMM | Jayuas ayerjaddy seSnjay 2p yuRISTUUTT\\n\\x0cU.S. Department of Justice Decision of the Board of Immigration Appeals\\nExecutive Office for Immigration Review',\n",
              "   'Falls Church, Virginia 22041',\n",
              "   'Files: A094 216 526 — Baltimore, MD Date:\\nA094 216 523 JAN 242013',\n",
              "   'In re: FERINO SANCHEZ SELTIK\\nTENORIO DAVILA JUVENTINO a.k.a. Tenorio Cuban Davila',\n",
              "   ' ',\n",
              "   'IN REMOVAL PROCEEDINGS\\nAPPEAL\\nON BEHALF OF RESPONDENTS: Maureen A. Sweeney, Esquire',\n",
              "   'ON BEHALF OF DHS: Jennifer Piateski\\nAssistant Chief Counsel',\n",
              "   'APPLICATION: Termination',\n",
              "   'The respondents have appealed from the Immigration Judge’s decision dated February 17,\\n2011. The Immigration Judge denied the respondents’ motion to suppress on January 3, 2011,\\nand granted the respondents’ application for voluntary departure under section 240B(b) of the\\nImmigration and Nationality Act, 8 U.S.C. § 1229c(b), on February 17, 2011. On appeal, the\\nrespondents argue that the Immigration Judge erred in denying their motion to suppress. The\\nrespondents’ appeal will be sustained and the record will be remanded to the Immigration Judge\\nfor further proceedings.',\n",
              "   'The Board reviews an Immigration Judge’s findings of fact, including findings as to the\\ncredibility of testimony, under the “clearly erroneous” standard. 8 C.F.R. § 1003.1(d)(3)(i). The\\nBoard reviews questions of law, discretion, and judgment and all other issues in appeals from\\ndecisions of Immigration Judges de novo. 8 C.F.R. § 1003.1(d\\\\(3)(ii).',\n",
              "   'Upon de novo review, we find it appropriate to remand the record to the Immigration Judge\\nfor further proceedings regarding the respondents’ motion to suppress. The Immigration Judge\\nstated in his January 3, 2011, decision that the exclusionary rule is not applicable in removal\\nproceedings citing to INS v. Lopez-Mendoza, 468 U.S. 1032 (1984). In INS v. Lopez-Mendoza,\\nsupra at 1050-51, the Supreme Court held that the Fourth Amendment exclusionary rule is\\ngenerally inapplicable to deportation proceedings; however, a plurality suggested that this rule\\nmay be applied in civil removal proceedings if there are egregious Fourth Amendment violations\\nthat transgress Fifth Amendment notions of fundamental fairness. The Board recognized the\\nsame exception in Matter of Toro, 17 I&N Dec. 340, 343 (BIA 1980). In light of the foregoing,\\nwe find it appropriate to remand the record to the Immigration Judge to determine whether the\\nFourth Amendment violations alleged by the respondents in their motion to suppress, if true, are\\nso egregious that they would transgress due process protections afforded under the Fifth\\nAmendment. Accordingly, the following order will be entered.',\n",
              "   'Cite as: Ferino Sanchez Seltik, A094 216 526 (BIA Jan. 14, 2013)',\n",
              "   'poUeITMMM | Jayuas ayetjaddy seSnjay 2p yueISTUTUWT\\n\\x0cA094 216 526 et al.',\n",
              "   'ORDER: The respondents’ appeal is sustained and the record is remanded to the\\nImmigration Judge for further proceedings consistent with the foregoing decision.',\n",
              "   'A i BOARD',\n",
              "   'poUDeIT MMM | Jayuas ayerjaddy seSnjay 2p yuRISTUUTT',\n",
              "   'Cite as: Ferino Sanchez Seltik, A094 216 526 (BIA Jan. 14, 2013)\\n\\x0ce',\n",
              "   'UNITED STATES DEPARTMENT OF JUSTICE\\nEXECUTIVE OFFICE FOR IMMIGRATION REVIEW\\nUNITED STATES IMMIGRATION COURT\\nBaltimore, Maryland',\n",
              "   'File Nos.: A 094 216 526 February 17, 2011\\nA 094 216 523',\n",
              "   'In the Matter of',\n",
              "   ')\\nFERINO SANCHEZ SELTIK IN REMOVAL PROCEEDINGS\\nTENORIO CUBAN DAVILA )\\nRespondents\\nCHARGE: Violation of Section 212(a) (6) (I) of the',\n",
              "   'Immigration and Nationality Act.',\n",
              "   'APPLICATION: Application for post hearing voluntary departure.\\nON BEHALF OF RESPONDENT: ON BEHALF OF DHS:\\nRebecca Peters Jennifer BE. Piateski',\n",
              "   'ORAL DECISION OF THE IMMIGRATION JUDGE',\n",
              "   'The respondents are citizens and nationals of Mexico who\\nwere placed in removal proceedings when Notices to Appear were\\nfiled with the Immigration Court.',\n",
              "   'The respondents appeared at a Master Calendar and denied the\\nallegations and denied the grounds of removability.',\n",
              "   \"The respondents' counsel filed a motion to suppress. The\\nGovernment responded to the motion and the Court has considered\",\n",
              "   'the evidence filed by the parties, as well as the briefs, and has',\n",
              "   'you DeIT MMM | JayUa7) aqeyjaddy dasnjay 2p yURISIUIUT]\\n\\x0c ',\n",
              "   'denied the motion to suppress.',\n",
              "   \"The respondents' counsel indicated that the respondents\\nqualified for voluntary departure, post hearing, and stated in\\nher place that the respondents had not been granted voluntary\\ndeparture in the past and that they had never been arrested\\nexcept for Immigration purposes and that if granted voluntary\\ndeparture, they would depart within the period of time before the\\nexpiration of the voluntary departure and pay their own way back\\nto their home country of Mexico.\",\n",
              "   \"Accordingly, it appearing that the respondents are not a\\nnational security threat nor are they aggravated felons and being\\notherwise eligible for voluntary departure, the Court will grant\\npost hearing voluntary departure for a period of 60 days, which\\nwould expire on April 18, 2011, or 60 days after any decision by\\nan Appellate Court. The Court will require that a $500 departure\\nbond be posted for each person within five days of this hearing.\\n'If the respondents fail to depart on or before the expiration of\\ntheir date of voluntary departure, then an automatic order of\\nremoval will go into effect and the respondents will be ordered\\nremoved from the United States to Mexico.\",\n",
              "   'ORDERS',\n",
              "   'The Court hereby finds that the Government has shown by',\n",
              "   'clear and convincing evidence that the respondents are removable',\n",
              "   'from the United States in its charge and, therefore, find them',\n",
              "   '. removable.',\n",
              "   'A 094 216 526/523 2 February 17, 2011',\n",
              "   'poUeITMMM | Jayuas ayetjaddy seSnjay 2p yueISTUTUWT\\n\\x0cThe Court further orders that the respondents be granted\\npost hearing voluntary departure for a period of 60 days until\\nApril 18, 2011, and that they post a departure bond of $500\\nwithin five days of this hearing. If the respondents do not\\ndepart by the expiration of the period of voluntary departure,\\nthen the respondents will be ordered removed from the United',\n",
              "   'States to Mexico automatically.',\n",
              "   ' ',\n",
              "   'United States Immigration dge',\n",
              "   '*',\n",
              "   'A 094 216 526/523 3 February 17, 2011',\n",
              "   'you DeIT MMM | JayUa7) aqeyjaddy dasnjay 2p yURISIUIUT]\\n\\x0c ',\n",
              "   'CERTIFICATE -PAGE',\n",
              "   'I hereby certify that the attached proceeding before\\nJUDGE DAVID W. CROSLAND, in the matters of:',\n",
              "   'FERINO SANCHEZ SELTIK\\nTENORIO CUBAN DAVILA',\n",
              "   'A 094 216 526\\nA 094 216 523',\n",
              "   'Baltimore, Maryland\\nis an accurate, verbatim transcript of the recording as provided by\\nthe Executive Office for Immigration Review and that this is the\\noriginal transcript thereof for the file of the Executive Office',\n",
              "   'for Immigration Review.',\n",
              "   ' \\n \\n  ',\n",
              "   '    ',\n",
              "   'Kristen J. Be tti,\\nFree State Reporting, Inc.',\n",
              "   'poUDeIT MMM | Jayuas ayerjaddy seSnjay 2p yuRISTUUTT',\n",
              "   'April 8, 2011\\n(completion date)',\n",
              "   'By submission of this CERTIFICATE PAGE, the Contractor certifies\\nthat a Sony BEC/T-147, 4-channel transcriber or equivalent, and/or\\nCD, as described in Section C, paragraph C.3.3.2 of the contract,\\nwas used to transcribe the Record of Proceeding shown in the above\\nparagraph.\\n\\x0c']),\n",
              " ('125709281-Keno-Bashae-Jumpp-A087-145-628-BIA-Jan-31-2013.txt',\n",
              "  ['U.S. Department of Justice\\nExecutive Office for Immigration Review',\n",
              "   'Board of Immigration Appeals\\nOffice of the Clerk',\n",
              "   ' ',\n",
              "   ' ',\n",
              "   '5107 Leesburg Pike, Suite 2000\\nFalls Church, Virginia 22041',\n",
              "   'JUMPP, KENO BASHAE DHS/ICE Office of Chief Counsel - MIA\\n130 SAN RENO BLVD 333 South Miami Ave., Suite 200',\n",
              "   'N. LAUDERDALE, FL 33068 Miami, FL 33130',\n",
              "   'Name: JUMPP, KENO BASHAE A 087-145-628',\n",
              "   'Date of this notice: 1/31/2013',\n",
              "   \"Enclosed is a copy of the Board's decision and order in the above-referenced case.\",\n",
              "   'Sincerely,',\n",
              "   'Denna Cane',\n",
              "   \"pOU'eITMMM | JayUaZ ayetjaddy seSnjayy 29 yuReISTUIUWTT\",\n",
              "   'Donna Carr\\nChief Clerk\\nEnclosure\\nPanel Members:\\nGuendelsberger, John\\nManuel, Elise L.\\nHoffman, Sharon\\nTranc',\n",
              "   'Userteam: Docket',\n",
              "   'Cite as: Keno Bashae Jumpp, A087 145 628 (BIA Jan. 31, 2013) |\\n\\x0cUS,-Department of Justice Decision of the Board of Immigration Appeals\\nte Ocfice',\n",
              "   'Executive for Immigration Review',\n",
              "   ', >\\nFalls Church, Virginia 22041',\n",
              "   'File: A087 145 628 — Miami, FL Date: JAN $1203',\n",
              "   'In re: KENO BASHAE JUMPP',\n",
              "   'IN REMOVAL PROCEEDIN GS',\n",
              "   'APPEAL',\n",
              "   'ON BEHALF OF RESPONDENT: Pro se',\n",
              "   'ON BEHALF OF DHS: Michelle M. Odio\\nAssistant Chief Counsel',\n",
              "   'APPLICATION: Reopening',\n",
              "   'The respondent appeals from the December 5, 2011, decision of the Immigration Judge\\ndenying his motion for reconsideration of the prior decision denying his motion to reopen and\\nrescind the in absentia order of removal that was entered on March 8, 2011. The appeal will be\\nsustained, proceedings will be reopened, and the record will be remanded.',\n",
              "   'The Immigration Judge denied the motion to reconsider, finding that the respondent had\\nnot shown any error of law or fact in the June 22, 2011, decision denying the motion to reopen.\\nWe agree with the respondent, however, that the Immigration Judge did not properly analyze the\\nrespondent’s claim that he failed to appear for the scheduled hearing due to “exceptional\\ncircumstances.” In particular, we agree that the circumstances described by the respondent that\\ncaused him to arrive approximately 11 minutes Iate for his scheduled 8:00 a.m. hearing were\\nbeyond his control such that they may be considered “exceptional circumstances” within the\\nmeaning of the applicable law. See sections 240(b)(5X(C)i) and 240(e)(1) of the Immigration\\nand Nationality Act, 8 U.S.C. §§ 1229a(b)(5)(C)(i), 1229a(e\\\\(1). Accordingly, the appeal will be\\nsustained, the denial of the motion to reconsider will be vacated, the in absentia order will be\\nrescinded, the removal proceedings will be reopened, and the record will be remanded.',\n",
              "   'ORDER: The appeal is sustained, and the Immigration Judge’s December 5, 2011,\\ndecision denying reconsideration is vacated.',\n",
              "   'FURTHER ORDER: The Immigration Judge’s March 8, 2011, im absentia order is\\nrescinded, and these removal proceedings are reopened.',\n",
              "   'FURTHER ORDER: The record is remanded to the Immigration Court for further\\nproceedings consistent with the foregoing opinion.',\n",
              "   'De Nat',\n",
              "   'FOR THE BOARD',\n",
              "   'Cite as: Keno Bashae Jumpp, A087 145 628 (BIA Jan. 31, 2013)',\n",
              "   'poUeITMMM | Jayuas ayetjaddy seSnjay 2p yueISTUTUWT\\n\\x0ce e',\n",
              "   'UNITED STATES DEPARTMENT OF JUSTICE\\nEXECUTIVE OFFICE FOR IMMIGRATION REVIEW\\nUNITED STATES IMMIGRATION COURT\\nMIAMI, FLORIDA\\nIN RE:\\nKeno Bashae Jumpp IN Removal PROCEEDINGS\\nA 087-145-628\\nFor the Respondent: For the Department of Homeland Security:\\nGareth H. Bullock, Esq. Michelle M. Odio, Esq.\\n5400 S. University Drive, Suite 301 Assistant Chief Counsel\\nDavie, Florida 33328 Immigration & Customs Enforcement',\n",
              "   'DECISION ON RESPONDENT’S MOTION TO RECONSIDER/REOPEN PORCEEDINGS',\n",
              "   \"On July 21, 2011', Counsel for the Respondent filed with the Immigration Court a motion\\nrequesting that the Court reconsider its denial of Respondent’s Motion to Reopen. Counsel’s motion\\nto reconsider, however, fails to establish any material error of fact or law in this Court’s denial of\\nthe motion to reopen. See 8 C.F.R. §1003.23(b)(2); see also Matter of O-S-G-, 24 I&N Dec. 56 (BIA\\n2006). Additionally, Counsel’s motion fails to correct the Court’s lack of jurisdiction due to the\\nlack of evidence the required filing fee was paid. The Respondent has not alleged lack of notice in\\naccordance with paragraph (1) or (2) of section 239(a) or that he was in federal or State custody and\\nthe failure to appear was through no fault of the alien. See 8 C.F.R. §1003.24(b)(2)(v);\\n§240(b)(5)(C)(ii) of the Immigration and Nationality Act.\",\n",
              "   'Accordingly, Counsel for the Respondent’s Motion to Reconsider/Reopen Proceedings is\\nhereby DENIED.',\n",
              "   'poUDeIT MMM | Jayuas ayerjaddy seSnjay 2p yuRISTUUTT',\n",
              "   'DONE and ORDERED in Chambers this 5\" day of December, 201].',\n",
              "   'Maria Lopez- Cae Reape r 0',\n",
              "   'U.S. Immigration Judge',\n",
              "   ' ',\n",
              "   'cc: Assistant District Counsel!\\nCounsel for Respondent\\nRespondent',\n",
              "   'Mailed out alsa By: a %y',\n",
              "   ' ',\n",
              "   '‘Motion to Reconsider not received by the Immigration Judge until December 5, 2011.\\n\\x0c']),\n",
              " ('125722233-Noe-Cesar-Hernandez-Avila-A079-531-484-BIA-Aug-30-2012.txt',\n",
              "  [' ',\n",
              "   'Ortega, Hector R., Esq',\n",
              "   'Ortega, Canossa & Associates, PLC\\n315 W. 9th St., Suite 613',\n",
              "   'Los Angeles, CA 90015',\n",
              "   'Name: HERNANDEZ AVILA, NOE CESAR',\n",
              "   'U.S. Department of Justice\\nExecutive Office for Immigration Review',\n",
              "   'Board of Immigration Appeals\\nOffice of the Clerk',\n",
              "   '5107 Leesburg Pike, Suite 2000\\nFalls Church, Virginia 22041',\n",
              "   'DHS/ICE Office of Chief Counsel - LOS\\n606 S. Olive Street, 8th Floor\\nLos Angeles, CA 90014',\n",
              "   'A 079-531-484',\n",
              "   'Date of this notice: 8/30/2012',\n",
              "   \"Enclosed is a copy of the Board's decision and order in the above-referenced case.\",\n",
              "   'Sincerely,',\n",
              "   'Denna Cary',\n",
              "   'Donna Carr\\nChief Clerk\\nEnclosure\\nPanel Members:\\nCole, Patricia A.\\ntucasd',\n",
              "   'Userteam: Docket',\n",
              "   'Cite as: Noe Cesar Hernandez-Avila, A079 531 484 (BIA Aug. 30, 2012)',\n",
              "   \"pOU'DeIT MMM | JayUaD ayeTjaddy sesnjay 29 JueIsTUIWT\\n\\x0cU.S. Department of Justice Decision of the Board of Immigration Appeals\\nExecutive @ffice for Immigration Review\",\n",
              "   '; Falls Church, Virginia 22041',\n",
              "   ' ',\n",
              "   'File: A079 531 484 - Los Angeles, CA Date: AUG 39 2012\\nIn re: NOE CESAR HERNANDEZ AVILA',\n",
              "   'IN REMOVAL PROCEEDINGS',\n",
              "   'APPEAL',\n",
              "   'ON BEHALF OF RESPONDENT: Hector R. Ortega. Esquire',\n",
              "   'ON BEHALF OF DHS: Elena Kusky\\nAssistant Chief Counsel',\n",
              "   'CHARGE:',\n",
              "   'Notice: Sec. 237(a)(2)(A)(i). I&N Act [8 U.S.C. § 1227(a)(2)(A)(i)I Convicted of crime involving mora! turpitude',\n",
              "   'APPLICATION: Termination',\n",
              "   'The respondent is a native and citizen of El Salvador and a lawful permanent resident of the\\nUnited States. The Department of Homeland Security (“DHS”) appeals from the Immigration\\nJudge’s May 27, 2011. decision terminating removal proceedings. The appeal will be dismissed.',\n",
              "   'At issue is whether the respondent’s November 20. 2007, conviction under Califormia Penal\\nCode § 653w(a) (failure to disclose origin of a recording or audiovisual work) constitutes a crime\\ninvolving moral turpitude (“CIMT”), thereby rendering the respondent removable under section\\n237(a)(2)(A)(i) of the Immigration and Nationality Act. 8 U.S.C. § 1227(a)(2)(A)(i), as an alien\\nconvicted of a CIMT within 5 years after admission for which a sentence of | year or longer may be\\nimposed.',\n",
              "   \"pOU'DeIT MMM | JayUaD ayeTjaddy sesnjay 29 JueIsTUIWT\",\n",
              "   'CPC § 653w(a)(1) provides:',\n",
              "   'A person is guilty of failure to disclose the origin of a recording or audiovisual work\\nif, for commercial advantage or private financial gain, he or she knowingly advertises\\nor offers for sale or resale, or sells or resells, or causes the rental, sale, or resale of,\\nor rents, or manufactures, or possesses for these purposes, any recording or\\naudiovisual work, the outside cover, box, jacket, or label of which does not clearly\\nand conspicuously disclose the actual true name and address of the manufacturer\\nthereof and the name of the actual author, artist, performer, producer, programmer,\\nor group thereon. This section does not require the original manufacturer or\\nauthorized licensees of software producers to disclose the contributing authors or\\nprogrammers.',\n",
              "   'Cite as: Noe Cesar Hernandez-Avila, A079 531 484 (BIA Aug. 30, 2012)\\n\\x0cA079 $31 484',\n",
              "   '- The record reflects that the respondent pled ne/e contendere to Count | of the Felony Complaint,\\nwhich provides that he ‘did unlawfully fail to disclose the origin of a recording and audiovisual\\nwork” (Exh. 4).',\n",
              "   \"Pursuant to our de novo review and contrary to the DHS’s arguments on appeal, we agree with\\nthe Immigration Judge that CPC § 653w(a) is not categorically a CIMT (I.J. at 3-4). See 8 C.F.R.\\n§ 1003.1(d)(3)(ii). We also agree with the Immigration Judge that the respondent’s conviction is not\\na CIMT under the modified categorical approach because apart from the Felony Complaint, there\\nis no further information regarding the factual basis of his plea (I.J. at 4-5), Moreover, we agree with\\nthe Immigration Judge that without other indicia of reliability, the police reports submitted by the\\nDHS do not support a finding that the respondent's conviction is a CIMT under the third step of\\nMatter of Silva-Trevino, 24 I&N Dec. 687 (A.G. 2008) (I.J. at 5-6). As noted by the Immigration\\nJudge. the arrest reports were not incorporated into the respondent’s plea and are not substantiated\\nby separate witness statements or direct admissions by the respondent (1.J. at 6). In the absence of\\nsuch evidence or a plea colloquy, we agree that the DHS did not meet its burden to establish\\nremovability as charged. Accordingly, the following order is entered.\",\n",
              "   'ORDER: The DHS’s appeal is dismissed.',\n",
              "   'FOR THE BOARD',\n",
              "   'tw',\n",
              "   'Cite as: Noe Cesar Hernandez-Avila, A079 531 484 (BIA Aug. 30, 2012)',\n",
              "   \"pOU'DeIT MMM | JayUaD ayeTjaddy sesnjay 29 JueIsTUIWT\\n\\x0c—_—— wt\",\n",
              "   'UNITED STATES DEPARTMENT OF JUSTICE\\nEXECUTIVE OFFICE FOR IMMIGRATION REVIEW\\nIMMIGRATION COURT',\n",
              "   'woo 606 SOUTH OLIVE ST., 15TH FL.\\nLOS ANGELES, CA 90014\\nORTEGA, CANOSSA AND ASSOCIATES, PLC ’\\nHECTOR &. ORTEGA, ESQ.\\n415@W. 9TH STREET, STE. 613\\nLOS ANGELES, CA 90015\\nIN THE MATTER OF FILE ‘A 079-531-484 DATE: May 31, 2011\\nHERNANDEZ AVILA, NOE CESAR g,',\n",
              "   'UNABLE TO FORWARD - NO ADDRESS PROVIDED',\n",
              "   'Is FINAL UNLESS AN APPEAL IS FILED WITH THE BOARD OF IMMIGRATION APPEALS',\n",
              "   \"' WITHIN 30 CALENDAR DAYS OF THE DATE OF THE MAILING OF THIS WRITTEN DRCISION.\",\n",
              "   'SER THE ENCLOSED FORMS AND INSTRUCTIONS FOR PROPERLY PREPARING. YOUR APPEAL .\\n4 YOUR NOTICE OF APPEAL, ATTACHED DOCUMENTS, AND FEE OR FEE WAIVER: REQUEST\\nMUST BE MAILED TO: BOARD OF IMMIGRATION APPEALS\\nOFFICE OF THE CLERK\\nP.O. BOX 8530\\nFALLS CHURCH, VA 22041',\n",
              "   'ws',\n",
              "   'ATTACHED IS A COPY oF ‘tue “pectsron, OF THE~TMMIGRATION JUDGE AS THE RESULT\\nOF YOUR FAILURE TO APPEze “YOUR” SCHEDULED DEPORTATION OR: REMOVAL HEARING.\\nTHIS DECISION IS FINAL % *\"A MOTION TO REOPEN IS FILED. IN ACCORDANCE\\nWITH SECTION 242B(c) (3) OF = IMMIGRATION AND NATIONALITY ACT, 8 U.S.C.\\nSECTION 1252B(c) (3) IN DEPORTATION “PR NGS OR SECTION 240(c) (6),',\n",
              "   '8 U.S.C. SECTION 1229a(c) (6) IN REMOVAL PROCEEDINGS. IF YOU FILE A MOTION\\nTO REOPEN, YOUR MOTION MUST BE FILED WITH THIS COURT:',\n",
              "   '  \\n  \\n  ',\n",
              "   'IMMIGRATION COURT\\n606 SOUTH OLIVE ST., 15TH FL.\\nLOS ANGELES, CA 90014',\n",
              "   'Xena See odtached Termination dee ALL OTIC Meal eyminaTiont Gee j Siar a',\n",
              "   'FF',\n",
              "   ' ',\n",
              "   'CC: ELENA KUSKY, ESQ. (TRIAL ATTORNEY)\\n606 S. OLIVE ST 8TH FLOOR',\n",
              "   'LOS ANGELES, CA 90014 SENT BY MAIL ON 05/31/2011',\n",
              "   'Be.',\n",
              "   'ATTACHED IS A COPY OF THE DECISION OF THE IMMIGRATION JUDGE. THIS DEC}SION',\n",
              "   'JOUDLITMMM | Ja}yUaD ayeleddy sasnyay 2p JURIST]\\n\\x0cUNITED STATES DEPARTMENT OF JUSTICE\\nEXECUTIVE OFFICE FOR IMMIGRATION REVIEW\\nIMMIGRATION COURT\\nLOS ANGELES, CALIFORNIA',\n",
              "   'File No.: A 79 531 484 )\\n)\\nIn the Matter of: )\\n) IN REMOVAL PROCEEDINGS\\nHERNANDEZ AVILA, )\\nNoe Cesar )\\n)\\nRespondent )\\n)\\nCHARGE: Immigration and Nationality Act (INA) § 237(a){2)(A)(i)',\n",
              "   '-alien convicted of a crime involving moral turpitude committed within five\\nyears after the date of admission for which a sentence of one year or longer\\nmay be imposed.',\n",
              "   'APPLICATION: Motion to Terminate',\n",
              "   'ON BEHALF OF RESPONDENT: ON BEHALF OF THE GOVERNMENT:\\nHector R. Ortega, Esquire Elena Kusky, Assistant Chief Counsel\\nOrtega, Canossa and Associates, PLC Department of Homeland Security',\n",
              "   '315 West Ninth Street, Suite 613 606 South Olive Street, 8th Floor',\n",
              "   'Los Angeles, California 90015 Los Angeles, California 90014',\n",
              "   'DECISION AND ORDER OF THE IMMIGRATION JUDGE\\n1. Procedural History',\n",
              "   'Respondent is a native and citizen of El Salvador whd was admitted to the United States as a\\nlawful permanent resident on January 4, 2005. On November 20, 2007, Respondent was convicted\\nof violating California Penal Code (CPC) section 653w(a) (failure to disclose origin of a recording\\nor audiovisual work). On April 1, 2008, the Government instituted removal proceedings against\\nRespondent by filing a Notice to Appear (NTA) with the Court. See 8 C.F.R. § 1003.14. In the\\nNTA, the Government charges Respondent with removability under INA § 237(a)(2)(A)(i). Exh. 1.',\n",
              "   'Although Respondent failed to appear for his initial hearing on June 5, 2008, the Court reset\\nthe matter to allow the Government time to file a brief and further evidence in support of the\\nremovability charge. On July 15, 2008, Respondent again failed to appear. However, because the\\nGovernment did not have Respondent’s file, the proceedings were administratively closed. The\\nCourt subsequently granted the Govemment’s Motion to Recalendar, filed September 24, 2010.',\n",
              "   \"pOUWILIT MMM | JayUaD ayeyjaddy se8njoy 2 JueISTUTW]\\n\\x0cOn December 2, 2010, Respondent failed to appear. Nevertheless, based upon the\\nGovernment’s failure to file a sufficient brief, proceedings were reset.' On March 3, 2011,\\nRespondent appeared before the Court with counsel. Proceedings were continued after the Court\\ninformed the Government that its brief, filed on January 4, 2010, was insufficient to meet its burden.”\",\n",
              "   'On April 15, 2011, the Government filed a supplemental brief. On April 22, 2011,\\nRespondent filed a Motion to Terminate (Motion).',\n",
              "   'For the following reasons, the Court will GRANT Respondent’s Motion.\\nIl. Law and Analysis',\n",
              "   'The Government bears the burden of proving by clear and convincing evidence that\\nRespondent is removable. INA § 240(c)(3)(A). Pursuant to INA § 237(a)(2)(A)(i), an alien, who\\nwithin five years of admission, has been convicted of a crime involving moral turpitude for\\nwhich a sentence of one year of more may be imposed is removable.',\n",
              "   'Here, Respondent was admitted to the United States as a lawful permanent resident on\\nJanuary 4, 2005. The Government has submitted conviction records establishing that on\\nNovember 20, 2007, Respondent pleaded nolo contendere to violating CPC § 653w(a). Exh. 5.',\n",
              "   'CPC § 653w(a) provides in pertinent part that:',\n",
              "   'A person is guilty of failure to disclose the origin of a recording or audiovisual\\nwork if, for commercial advantage or private financial gain, he or she knowingly\\nadvertises or offers for sale or resale, or sells or resells, or causes the rental, sale\\nor resale, or rents, or manufactures, or possesses for these purposes, any recording\\nor audiovisual work, the cover, box, jacket, or label of which does not clearly and\\nconspicuously disclose the actual true name and address of the manufacturer\\nthereof and the name of the actual author, artist, performer, producer,\\nprogrammer, or group thereon. This section does not require the original\\nmanufacturer or authorized licensees of software producers to disclose the\\ncontributing authors or programmers.',\n",
              "   'In the Ninth Circuit, crimes are deemed to involve moral turpitude if they fall into one of\\ntwo categories: (1) offenses involving grave acts of baseness and depravity that offend the most\\nfundamental values of society and (2) offenses involving fraud. Navarro-Lopez v. Gonzales, 503\\nF.3d 1063, 1074-75 (9th Cir. 2007). To fall within the first category, the crime must involve\\n“some level of depravity or baseness so far contrary to the moral law that it gives rise to moral\\noutrage.” Id. at 1071. Such crimes must also be done willfully or with evil intent. QuinteroSalazar v. Keisler, 506 F.3d 688, 693 (9th Cir. 2007). To fall within the second category, the',\n",
              "   \"' The Government’s brief, filed December 2, 2010, discussed the legislative history of CPC § 653w(a) but failed to\\naddress how the statute’s elements constitute a crime involving moral turpitude under the categorical or modified\\ncategorical approaches.\",\n",
              "   \"? The Government's brief focused on policy rather than the elements of CPC § 653w(a).\",\n",
              "   \"pOU'DeIT MMM | JayUaD ayeTjaddy sesnjay 29 JueIsTUIWT\\n\\x0cintent to defraud need not be evident on the face of the statute, but “may also be implicit in the\\nnature of the crime.” Winestock v. INS, 576 F.2d 234, 237 (9th Cir. 1978).\",\n",
              "   'A precedential decision issued by the Attorney General attempted to established a\\nuniform administrative framework for determining whether an alien has been convicted of a\\ncrime involving moral turpitude. See Matter of Silva-Trevino, 24 I&N Dec. 687 (AG 2008). To\\ndetermine whether an alien’s prior conviction constitutes a crime involving moral turpitude, the\\nCourt should: (1) look to the statute of conviction to determine whether, categorically, there is a\\n“realistic probability, not a theoretical possibility,” that the statute would be applied to reach\\nconduct that does not involve moral turpitude; (2) if that “categorical” inquiry does not resolve\\nthe question, conduct a modified categorical analysis by looking to the alien’s record of\\nconviction, including documents such as the indictment, the judgment of conviction, jury\\ninstructions, a signed guilty plea, and the plea transcript; and (3) if the record of conviction does\\nnot resolve the inquiry. consider any additional evidence the adjudicator determines is\\n“necessary or appropriate” to resolve accurately the moral turpitude question. Id. at 704. Absent\\ncontrolling precedent, the Court is bound to follow Silva-Trevino, Matter of Guevara Alfaro, 25\\nI&N Dec. 417. 424 (BIA 2011).',\n",
              "   'A. Categorical Approach',\n",
              "   'In the present case, the Govemment contends that CPC § 653w(a) is a crime involving\\nmoral turpitude because it is an offense involving fraud. The Govemment concedes that intent to\\ndefraud is not a specific element of CPC § 653w(a). See CPC § 653w(a). Rather, the\\nGovernment argues that CPC § 653w(a) requires that the defendant knowingly conceal the true\\nnature of the product’s origin, which it argues is tantamount to fraud. See id.',\n",
              "   'As noted above, a crime may involve moral turpitude even if the intent to defraud is not\\nan explicit element of the offense. In Matter of Kochlani, 24 I&N Dec. 128, 130 (BIA 2007), the\\nBoard of Immigration Appeals (the Board) held that even though 18 U.S.C. § 2320, the federal\\ncounterfeiting statute, could be violated without proof of a specific intent to deceive the\\npurchaser, it nonetheless involves fraud so as to constitute a crime involving moral turpitude.\\nThe Board reasoned that, like the act of selling counterfeit documents or the act of counterfeiting\\ncurrency, the federal counterfeiting statute requires 1) trafficking in counterfeit or fraudulent\\nitems or objects; 2) proof of intent to traffic and knowledge that the items or objects are\\ncounterfeit; and 3) the prohibited offense results in significant societal harm. Id, at 131.',\n",
              "   'Similar to the congressional intent in support of 18 U.S.C. § 2320, CPC § 653.w(a) “was\\nenacted as part of a comprehensive statutory scheme designed to prevent and punish the\\nmisappropriation of recorded music for commercial advantage or private financial gain.” People\\nv. Anderson, 286 Ca. Rptr. 734, 736 (Cal. Dist. Ct. App. 1991). The legislature’s interest in\\nenacting CPC § 653w(a) was a “desire to protect the public in general, and the many employees\\nof the vast entertainment industry in particular, from the hundreds of millions of dollars in losses\\nsuffered as a result of the piracy and bootlegging of the industry’s products.” Id. at 590. Based\\nupon the legislative intent behind the statute and other court’s interpretations of CPC § 653w(a)’s\\napplication, the Court finds that there is a realistic probability that CPC § 653w(a) applies to\\nconduct which involves knowingly distributing counterfeited items.',\n",
              "   'pOUWILIT MMM | JayUaD ayeyjaddy se8njoy 2 JueISTUTW]\\n\\x0cHowever, unlike the federal counterfeiting statute which at all times requires a showing\\nof an intent to traffic items or objects which the person knew were counterfeit, CPC § 653w(a) is\\nnot limited to knowingly trafficking in counterfeited goods. For example, as noted by\\nRespondent, a person could be convicted under CPC § 653w(a) for selling his own recording or\\naudiovisual work if the item was not in its original packaging. Indeed CPC § 653w(a)’s broad\\nlanguage could realistically allow a conviction if a person knowingly forwarded items for sale\\nwhich were damaged so that a portion of the manufacturer’s label was no longer clearly\\ndisplayed. In either example, the items would not be counterfeited but the individual who\\nknowingly sold or forwarded.the items for sale could be convicted under CPC § 653w(a).’ See\\nalso Anderson v. Nidof, 26 F.3d 100, 102 (9th Cir. 1994) (noting that CPC § 653w(a) prohibits\\nthe selling of works without disclosing the manufacturer and author of the recording regardless\\nof its copyright status). Although preventing the “dishonest dealing and deliberate exploitation\\nof the public and the mark owner” may have been the policy behind CPC § 653w(a), the statute\\nas written encompasses broader conduct, including conduct which does not entail an intent to\\ndefraud. Accordingly, as there is more than a theoretical possibility that the statute could be\\napplied to conduct which does not involve moral turpitude, the Court finds that CPC § 653w(a)\\nis not categorically a crime involving moral turpitude.',\n",
              "   'B. Modified Categorical Approach',\n",
              "   'When the statute is unable to provide a definitive solution, the Court should then conduct\\na ‘‘modified categorical analysis.” Under the modified categorical approach, the Court is\\nrestricted to examining “a narrow specified set of documents that are part of the record of\\nconviction.” Tokalty v. Ashcroft, 371 F.3d 613, 620 (9th Cir. 2004). The Ninth Circuit has\\nformulated a list of documents limited to “the indictment (but only in conjunction with a signed\\nplea agreement), the judgment of conviction, the minute order fully documenting the judgment,\\njury instructions, a signed guilty plea, or the transcript from the plea proceedings.” Ruiz- Vidal\\nv. Gonzales, 473 F.3d 1072, 1079 (9th Cir. 2007).',\n",
              "   'In the present matter, the Government submitted the complaint and the minute order\\nindicating Respondent’s plea.* The Government did not submit the plea agreement. Although\\nthe Government submitted the complaint, there is no evidence that Respondent pleaded “‘as',\n",
              "   '> The Court notes that because CPC § 653w(a) is a relatively new statute, the Court does not have the benefit of case\\nlaw interpreting its application and therefore, the Court is restricted to construing its own examples in which\\nindividuals might tikely be subject to prosecution under the statute.',\n",
              "   \"* The Government has also submitted police reports pertaining to Respondent’s conviction. Police reports may only\\nbe considered in a modified categorical approach if they have been “specifically incorporated into the guilty plea by\\nthe defendant.” Matter of Santos Enrique Milian-Dubon, 25 I&N Dec. 197 (BIA 2010) (internal quotations\\nomitted). In Matter of Santos, the Board considered police reports pertaining to the respondent’s conviction in its\\nmodified categorical analysis because the respondent's plea form included the phrase, “‘stip to police report as\\nfactual basis,’” and was accompanied by the respondent's initials, Id. Consequently, the Board held that the police\\nreports constituted findings of fact adopted by the defendant upon entering into the plea, and thereby became a part\\nof the judicial record on which courts may rely. Id. [n the present case, none of the other documents in the record\\nindicates that Respondent adopted the findings in the police report such that this Court could rely on the reports in\\nits analysis. As a result, the Court may not consider the police reports in conducting its modified categorical\\nanalysis.\",\n",
              "   'pOUWILIT MMM | JayUaD ayeyjaddy se8njoy 2 JueISTUTW]\\n\\x0ccharged in the information.” Thus, even if the complaint provided a factual basis for his\\nconviction, the Court would not be able to rely upon it. United States v. Vidal, 504 F.3d 1072,\\n1087 (9th Cir. 2007). The minute order establishes that on November 20, 2007, Respondent\\npleaded nolo contendere to violating CPC § 653w(a). However, the minute order does not recite\\nthe factual basis for his conviction. The Government has not submitted any other judicial\\ndocument establishing that Respondent was convicted of knowingly intending to defraud,\\nknowingly distributing counterfeited items, or any other morally turpitudinous act. Accordingly,\\nit is inconclusive under the modified categorical approach whether his conviction is a crime\\ninvolving moral turpitude.',\n",
              "   'Cc. Third Step',\n",
              "   'When the Court cannot make a determination under either a categorical inquiry or a\\nmodified categorical analysis, the Court may consider evidence beyond the formal record of\\nconviction. Silva-Trevino, 24 I&N Dec. at 688. This inquiry allows the Court to look beyond\\nthe statutory language and the record of conviction, “to the extent [the Court] deem[s] it\\nnecessary and appropriate.” Id. The goal of this inquiry, however, is to discern the nature of the\\nunderlying conviction, but “not an occasion to relitigate facts or determinations made in the\\nearlier criminal proceeding.” Id. According the Board, the Court should not consider evidence\\noutside the record of conviction when such evidence was excluded from the underlying plea.\\nSee Matter of Ahortalejo-Guzman, 25 I&N Dec. 465, 467 (BIA 2011) (stating that “[w]here the\\nrecord of conviction conclusively shows that a conviction does not involve family violence, the\\nfact that other evidence outside of the record of conviction may indicate that the victim was part\\nof the offender’s family does not establish that the offender was convicted on that basis”). The\\nNinth Circuit has emphasized the “reliability” of documents and attributed little or no weight to a\\nrespondent’s own admissions during the judicial proceeding. See S- Yong v. Holder, 600 F.3d\\n1028, 1035 (9th Cir. 2010) (rejecting court’s reliance solely upon an alien’s judicial admissions\\nand an unidentified “conviction document” to determine that whether his conviction was a\\ncontrolled substance offense).',\n",
              "   'Furthermore, a respondent is expressly guaranteed “a reasonable opportunity to examine\\nthe evidence against [him], to present evidence on the [respondent’s] own behalf, and to crossexamine witnesses presented by the [Department]...” Hermandez-Gadarrama v. Ashcroft, 394\\nF.3d 674, 681; INA §240(b)(4)(B); see also 8 C.F.R. § 1240.10(a)(4). Although the rules of\\nevidence are not applicable to immigration hearings, the constitution and statutory guarantees of\\ndue process require the Government’s decision regarding whether to produce a witness or rely on\\nhearsay statements to not be wholly unfettered. Hermandez-Gadarrama, 394 F.3d at 681; Saidane\\nv. INS, 129 F.3d 1063, 1065 (9th Cir.1997) (citing Baliza v. INS, 709 F.2d 1231, 1233-34 (9th\\nCir. 1983)).',\n",
              "   ' ',\n",
              "   ' ',\n",
              "   ' ',\n",
              "   'In support of its assertion that Respondent’s conviction is a crime involving moral\\nturpitude, the Government has offered the arrest reports underlying Respondent’s conviction.\\nThese reports relate the amount of recording and audiovisual materials in Respondent’s\\npossession, their location, their content, and their descriptions. Respondent’s alleged conduct\\nand profit is also reported. While the Government has argued for the consideration of the arrest',\n",
              "   \"pOU'DeIT MMM | JayUaD ayeTjaddy sesnjay 29 JueIsTUIWT\\n\\x0c_reports underlying Respondent’s subsequent indictment and conviction, the Court finds that the\\n* arrest reports are legally insufficient to meet the Government’s burden in this instance.\",\n",
              "   'As the Board has explained in Matter of Teixeira:',\n",
              "   '{Reliable police reports can be very useful in determining the circumstances\\nsurrounding an arrest. But, a particular criminal incident can often result in the\\nviolation of multiple criminal provisions of law. The arrest report typically will\\nnot tell us what charges the prosecution chose to pursue, nor which of those\\ncharges actually resulted in a “conviction.” There may be a wide gulf between\\nthe most serious offense an individual may have committed and what he\\nultimately is convicted of having done.',\n",
              "   '21 I&N Dec. 316, 326 (BIA 1996).',\n",
              "   'The contents of the arrest reports are entirely hearsay, and the Government has made no\\nindication that it is willing or able to produce the drafter. There is no indication that Respondent\\nadmitted to facts in the arrest reports or that their contents were incorporated in his plea.\\nMoreover, arrest reports are one-sided recitations of events aimed at establishing probable cause\\nor reasonable suspicion in criminal proceedings. The reports are not substantiated by separate\\nwitness statements or Respondent’s direct admissions. As cautioned by the Attorney General in\\nSilva-Treving, the goal of the Court’s “inquiry is to discern the nature of the underlying\\nconviction where a mere examination of the statute itself does not yield the necessary\\ninformation; it is not an occasion to relitigate facts or determinations made in the earlier criminal\\nproceeding.” Silva-Trevino, 24 I&N Dec. at 690. Without more indication of their reliability,\\nthe Court concludes that the arrest report is insufficient to meet the Government’s burden. Jn\\nthis case, the Government has failed to provide any other evidence concerning the nature of\\nRespondent’s conviction.',\n",
              "   ' ',\n",
              "   'Based on the foregoing, the Court cannot conclude that Respondent’s CPC § 653w(a)\\nconviction is a crime involving moral turpitude. Therefore, the Court finds that the Government\\nhas not met its burden to establish removability as charged.',\n",
              "   'ORDER',\n",
              "   'IT IS HEREBY ORDERED that Respondent’s Motion to Terminate be',\n",
              "   'GRANTED.\\nDATE:_3 LLC\\n. Ashley Tabaddor',\n",
              "   'Immigration Judge',\n",
              "   '   \\n ',\n",
              "   '  ',\n",
              "   \"pOU'DeIT MMM | JayUaD ayeTjaddy sesnjay 29 JueIsTUIWT\\n\\x0c\"]),\n",
              " ('127010570-Raul-Bosveli-Garcia-Perez-A076-894-739-BIA-Jan-18-2013.txt',\n",
              "  [' ',\n",
              "   'Almas, Aseph',\n",
              "   'Law Offices of Aseph Almas,PLLC\\nP.O. Box 11846',\n",
              "   'Houston, TX 77293',\n",
              "   'Name: GARCIA PEREZ, RAUL BOSVELI',\n",
              "   'U.S. Department of Justice\\nExecutive Office for Immigration Review',\n",
              "   'Board of Immigration Appeals\\nOffice of the Clerk',\n",
              "   '5107 Leesburg Pike, Suite 2000\\nFalls Church, Virginia 2204]',\n",
              "   'DHS/ICE Office of Chief Counsel - ATL\\n180 Spring Street, Suite 332\\nAtlanta, GA 30303',\n",
              "   'A 076-894-739',\n",
              "   'Date of this notice: 1/18/2013',\n",
              "   \"Enclosed is a copy of the Board's decision and order in the above-referenced case.\",\n",
              "   'Sincerely,',\n",
              "   'Donna Carr\\nChief Clerk\\nEnclosure\\nPanel Members:\\nManuel, Elise L.\\nAdkins-Blanch, Charles K.\\nHoffman, Sharon\\nTranc',\n",
              "   'Userteam: Docket',\n",
              "   'Cite as: Raul Bosveli Garcia Perez, A076 894 739 (BIA Jan. 18 2013)',\n",
              "   \"pOU'IeIT MMM | JayUaD ayeT[Jaddy sasnjay 29 yueISTUTUW]\\n\\x0cU.S. Department of Justice Decision of the Board of Immigration Appeals\\nExecutive Office for Immigration Review\",\n",
              "   'File: A076 894 739 — Atlanta, GA Date: JAN 18 2013\\nIn re: RAUL BOSVELI GARCIA PEREZ',\n",
              "   'IN REMOVAL PROCEEDINGS',\n",
              "   'APPEAL',\n",
              "   'ON BEHALF OF RESPONDENT: Aseph Almas, Esquire',\n",
              "   'ON BEHALF OF DHS: Ozlem B. Barnard\\nAssistant Chief Counsel',\n",
              "   'APPLICATION: Voluntary departure',\n",
              "   'The respondent, a native and citizen of Guatemala, appeals from the decision of the\\nImmigration Judge dated October 28, 2010, granting the respondent pre-conclusion voluntary\\ndeparture under section 240B(a) of the Immigration and Nationality Act, 8 U.S.C. § 1229c(a).\\nThe appeal will be dismissed.',\n",
              "   'We review the findings of fact, including any determination of credibility, made by the\\nImmigration Judge under the “clearly erroneous” standard. 8 C.F.R. § 1003.1(d)(3){i). We\\nreview all other issues, including whether the parties have met the relevant burden of proof, and\\nissues of discretion, under a de novo standard. 8 C.F.R. § 1003.1(d)(3)(ii).',\n",
              "   'Upon request by the respondent and over the Department of Homeland Security’s objection,\\nthe Immigration Judge granted the respondent pre-conclusion voluntary departure, which\\nrequired him to waive appeal of all issues. See 8 C.F.R. § 1240.26(b)(1)(i)(D); see also\\nMatter of Ocampo, 22 1&N Dec. 1301 (BIA 2000). A Notice of Appeal (Form EOIR-26) may\\nnot be filed by any party who has waived appeal. 8C.F.R.§ 1003.3(a)(1); see also\\nMatter of Shih, 20 I&N Dec. 697 (BIA 1993).',\n",
              "   'On appeal, the respondent urges that the Immigration Judge erred in granting his request for\\npre-conclusion voluntary departure because the respondent was not present at the hearing, and\\nthe Immigration Judge did not give the respondent the voluntary departure advisals under\\n8 C.F.R. § 1240.26(b)(iii). However, the respondent’s presence was previously waived at the\\nfinal hearing, and the respondent’s prior counsel who was present affirmatively indicated to the\\nImmigration Judge that he would advise the respondent of all the voluntary departure advisals,\\nand further indicated that he had already done so (Tr. at 66). In a form order granting the\\nrespondent pre-conclusion voluntary departure, the Immigration Judge indicated that there would\\nbe “NO APPEAL” from the decision. The respondent does not claim that the waiver of appeal\\nwas not properly accomplished by his counsel, and upon review of the record before us, we are\\nsatisfied that the respondent, through counsel, accepted pre-conclusion voluntary departure and\\nwaived appeal. We therefore conclude that this case is not properly before us. The Immigration',\n",
              "   'Cite as: Raul Bosveli Garcia Perez, A076 894 739 (BIA Jan. 18 2013)',\n",
              "   \"pOU'IeIT MMM | JayUaD ayeT[Jaddy sasnyjay 2p yuRISTUTUT\\n\\x0cA076 894 739\",\n",
              "   'Judge’s decision became administratively final upon the respondent’s waiver of the right to an\\nappeal, and the Board therefore lacks jurisdiction over this case. See Matter of Shih, supra.',\n",
              "   'We note that even if we had jurisdiction over this case, we would dismiss the respondent’s\\nappeal because he has not established that his prior counsel failed to inform him of the required\\nadvisals, and he has therefore not established that his prior counsel was ineffective in this regard.',\n",
              "   'See Matter of Lozada, 19 I&N Dec. 637 (BIA 1988). Accordingly, the following order will be\\nentered.',\n",
              "   'ORDER: The respondent’s appeal is dismissed and the record is returned to the\\nImmigration Court without further action.',\n",
              "   'hy, 2',\n",
              "   'FOR THE B',\n",
              "   '2',\n",
              "   'Cite as: Raul Bosveli Garcia Perez, A076 894 739 (BIA Jan. 18 2013)',\n",
              "   \"pOU'IeIT MMM | JayUdD oyeT[Jaddy sasnjay 29 yueISTUTUW]\\n\\x0c   \",\n",
              "   'U.S. DEPARTMENT OF JUSTICE\\nEXECUTIVE OFFICE FOR IMMIGRATION REVIEW\\nIMMIGRATION COURT\\n180 SPRING ST., SW, SUITE 241\\nATLANTA, GA 30303',\n",
              "   'In the Matter of: oe Case No.: A076-894-739\\nGARCIA PEREZ, RAUL BOSVELI',\n",
              "   '\"RESPONDENT | : me os . IN REMOVAL PROCEEDINGS',\n",
              "   \"\\\\ : , _. ORDER OF THE IMMIGRATION JUDGE\\n' . . . 7 Sy\",\n",
              "   \"Ypon the basis’ of Respondent's admissions, I have determined that Respondent is\",\n",
              "   'subject to removal on the charge(s) in the Notice to Appear. Respondent has',\n",
              "   'made application solely for voluntary Geparture’ in lieu of xemoval and has',\n",
              "   'waived appeal of all issues. ,',\n",
              "   'It is HEREBY ORDERED that Respondent be GRANTED pre-conclusion voluntary\\ndeparture under: Beet gO oe ce! of. the Act, in lieu of removal, without expense\\nto the Government, on 6r“before FEB. 25, 2011_, or any extensions as may be\\n‘granted by the Field Office Director, Department of Homeland Security, and\\nunder any other conditions the Field Office Director may direct.',\n",
              "   '‘It is FURTHER ORDERED:',\n",
              "   '[ ] that’ Respondent post a voluntary departure bond in the amount of',\n",
              "   'with the Department of Homeland Security on or before\\n[ ] -that Respondent provide to the pepurtnent of Homeland a his or her\\npassport or other travel documentation sufficient to assure lawful entry into\\nthe country to.which the alien is departing within 60 days of this order, or',\n",
              "   'within any time extensions: that may be granted by the Department of Homeland',\n",
              "   'Security; and/or',\n",
              "   '{ ]Other',\n",
              "   ' ',\n",
              "   'It is FURTHER ORDERED that if any of the above ordered conditions are not met\\n‘as required or if Respondent fails to depart as required, the above grant of\\npre-conclusion voluntary departure shall be withdrawn without further notice or\\nproceedings and the. following order, entered pursuant to 8 C.F.R. § 1240.26(d),\\nshall become immediately”\"effective: Respondent shall be removed to',\n",
              "   '_ GUATEMALA on the charge',\n",
              "   '(s) in the Notice to Appear, and in the',\n",
              "   'alternative to',\n",
              "   'Respondent is HEREBY ADVISED that if he or she fails to voluntarily depart the\\nUnited States within the time specified, or within any extensions. that may be\\ngranted by the Department of Homeland Security, Respondent will be subject to\\nthe following penalties:',\n",
              "   '1. Respondent will be subject toa civil monetary penalty of not less than',\n",
              "   'JOWIeIT MMM | JayUaD ayerjaddy aa8nyayy 2p yueISTUTWT\\n\\x0c| 4 | @ OO . e ,\\n‘= . ,',\n",
              "   '$1,000 and not more than $5,000. INA § 240B(d). The Court has set the\\npresumptive civil monetary penalty amount of $3,000 (or\\ninstead of the presumptive amount). 8 C.F.R. § 1240.26(j).',\n",
              "   \"2. Respondent will be ineligible, for a period of 10 years, to receive\\n' cancellation of removal, adjustment of status, registry, voluntary\\ndeparture, or a change in nonimmigrant status. INA § 240B(d).\",\n",
              "   'Respondent: is FURTHER ADVISED that if he or she files a motion to reopen or\\nreconsider during the voluntary departure period, the period allowed for\\nvoluntary departure will not be stayed, tolled, or extended, the grant of\\nvoluntary departure will be terminated automatically, the alternate order of\\nremoval will take effect immediately, and the above penalties for failure to\\ndepart voluntarily under section 240B(d) of the Act, 8 U.S.C. § 1229c(d), will\\nnot apply. 8 C.F.R. §§ 1240.26(b) (3) (iii), (e) (1).',\n",
              "   '     \\n  \\n     ',\n",
              "   'EARL\\nImmigration .\\nDate: Oct 28, 2010  *~.;3\"°.\\nAppeal: NO APPEAL',\n",
              "   '   ',\n",
              "   'TO: [ JALIEN\\nDATE:\\nAttachments:\\n{ ] Other i\\n“AY EOIR 6 - VB (Vol. Depart. - REMOVAL)',\n",
              "   'DVISALS WAIVED',\n",
              "   \"pOU'IeIT MMM | JayUdD oyeT[Jaddy sasnjay 29 yueISTUTUW]\\n\\x0c\"])]"
            ]
          },
          "metadata": {
            "tags": []
          },
          "execution_count": 17
        }
      ]
    },
    {
      "cell_type": "code",
      "metadata": {
        "id": "jqzHCEH--iFI",
        "colab": {
          "base_uri": "https://localhost:8080/"
        },
        "outputId": "2150b481-ff00-41fb-f175-2a93fdde638a"
      },
      "source": [
        "# Print the filename in txt\r\n",
        "\r\n",
        "for name, t in appeals or original:\r\n",
        "  print(name)"
      ],
      "execution_count": 18,
      "outputs": [
        {
          "output_type": "stream",
          "text": [
            "125708363-Ferino-Sanchez-Seltik-A094-216-526-BIA-Jan-14-2013.txt\n",
            "125709281-Keno-Bashae-Jumpp-A087-145-628-BIA-Jan-31-2013.txt\n",
            "125722233-Noe-Cesar-Hernandez-Avila-A079-531-484-BIA-Aug-30-2012.txt\n",
            "127010570-Raul-Bosveli-Garcia-Perez-A076-894-739-BIA-Jan-18-2013.txt\n"
          ],
          "name": "stdout"
        }
      ]
    },
    {
      "cell_type": "code",
      "metadata": {
        "colab": {
          "base_uri": "https://localhost:8080/",
          "height": 79
        },
        "id": "V1w05OXX3Cbb",
        "outputId": "1e4da130-726a-46f7-dae2-8b6385420aa4"
      },
      "source": [
        "# Convert text to DataFrame\r\n",
        "\r\n",
        "import pandas as pd\r\n",
        "\r\n",
        "df_original = pd.DataFrame(originals)\r\n",
        "df_original.head(9)"
      ],
      "execution_count": 19,
      "outputs": [
        {
          "output_type": "execute_result",
          "data": {
            "text/html": [
              "<div>\n",
              "<style scoped>\n",
              "    .dataframe tbody tr th:only-of-type {\n",
              "        vertical-align: middle;\n",
              "    }\n",
              "\n",
              "    .dataframe tbody tr th {\n",
              "        vertical-align: top;\n",
              "    }\n",
              "\n",
              "    .dataframe thead th {\n",
              "        text-align: right;\n",
              "    }\n",
              "</style>\n",
              "<table border=\"1\" class=\"dataframe\">\n",
              "  <thead>\n",
              "    <tr style=\"text-align: right;\">\n",
              "      <th></th>\n",
              "      <th>0</th>\n",
              "      <th>1</th>\n",
              "    </tr>\n",
              "  </thead>\n",
              "  <tbody>\n",
              "    <tr>\n",
              "      <th>0</th>\n",
              "      <td>125483234-Noe-Cesar-Hernandez-Avila-A079-531-4...</td>\n",
              "      <td>[ , Ortega, Hector R., Esq., Ortega, Canossa &amp;...</td>\n",
              "    </tr>\n",
              "  </tbody>\n",
              "</table>\n",
              "</div>"
            ],
            "text/plain": [
              "                                                   0                                                  1\n",
              "0  125483234-Noe-Cesar-Hernandez-Avila-A079-531-4...  [ , Ortega, Hector R., Esq., Ortega, Canossa &..."
            ]
          },
          "metadata": {
            "tags": []
          },
          "execution_count": 19
        }
      ]
    },
    {
      "cell_type": "code",
      "metadata": {
        "id": "gZ6_xKlu3-0Q"
      },
      "source": [
        "# convert dataframe into csv. Testing\r\n",
        "\r\n",
        "df_original.to_csv('original.csv', index = False, header=True)"
      ],
      "execution_count": null,
      "outputs": []
    },
    {
      "cell_type": "code",
      "metadata": {
        "id": "m_bUodk4-hVJ"
      },
      "source": [
        "docs = []\r\n",
        "for text in appeals or originals:\r\n",
        "  docs.append([ent for ent in nlp(' '.join(text[1])).ents])# if ent.label_ == 'PERSON'])"
      ],
      "execution_count": 20,
      "outputs": []
    },
    {
      "cell_type": "code",
      "metadata": {
        "id": "yxaODNXv-hTB"
      },
      "source": [
        "# Get the person's name\r\n",
        "\r\n",
        "fullpeopleLists = []\r\n",
        "for doc in docs:\r\n",
        "  people = []\r\n",
        "  for ent in doc:\r\n",
        "    if ent.label_ == 'PERSON':\r\n",
        "      people.append(ent.text)\r\n",
        "  fullpeopleLists.append(people)\r\n"
      ],
      "execution_count": 24,
      "outputs": []
    },
    {
      "cell_type": "code",
      "metadata": {
        "id": "-HdKbNxU2HaC",
        "colab": {
          "base_uri": "https://localhost:8080/"
        },
        "outputId": "247e915b-3e6c-44f7-abb1-915472b25e42"
      },
      "source": [
        "# Get the name of the asylum seeker\r\n",
        "\r\n",
        "for idx, peopleList in enumerate(fullpeopleLists):\r\n",
        "  print(\"\\nfile_name: \",  fullTextList[idx][0][:])\r\n",
        "  if any([len(person.split(' ')) >= 3 for person in peopleList[-3:]]):\r\n",
        "    print(peopleList[-3:])\r\n",
        "    last = peopleList[-3:]\r\n",
        "    print(max(last, key = len) )\r\n",
        "  else:\r\n",
        "    print('not found')\r\n",
        "    print(peopleList[-3:])\r\n"
      ],
      "execution_count": 25,
      "outputs": [
        {
          "output_type": "stream",
          "text": [
            "\n",
            "file_name:  125708363-Ferino-Sanchez-Seltik-A094-216-526-BIA-Jan-14-2013.txt\n",
            "not found\n",
            "['DAVILA', 'Kristen J.', '| Jayuas']\n",
            "\n",
            "file_name:  125709281-Keno-Bashae-Jumpp-A087-145-628-BIA-Jan-31-2013.txt\n",
            "not found\n",
            "['poUDeIT', '| Jayuas', 'Maria Lopez-']\n",
            "\n",
            "file_name:  125483234-Noe-Cesar-Hernandez-Avila-A079-531-484-BIA-Jan-18-2013.txt\n",
            "not found\n",
            "['Silva-Trevino', 'Jn', 'Ashley Tabaddor']\n",
            "\n",
            "file_name:  125722233-Noe-Cesar-Hernandez-Avila-A079-531-484-BIA-Aug-30-2012.txt\n",
            "['to.which', '| JayUaD ayerjaddy aa8nyayy', 'iii']\n",
            "| JayUaD ayerjaddy aa8nyayy\n"
          ],
          "name": "stdout"
        }
      ]
    },
    {
      "cell_type": "code",
      "metadata": {
        "id": "ruGr9CDN2Hgn"
      },
      "source": [
        "# Get the place, such as Country of Origin and court's county\r\n",
        "\r\n",
        "placeList = []\r\n",
        "for doc in docs:\r\n",
        "  places = []\r\n",
        "  for ent in doc:\r\n",
        "    if ent.label_ == 'GPE':\r\n",
        "      places.append(ent.text)\r\n",
        "  placeList.append(places)"
      ],
      "execution_count": null,
      "outputs": []
    },
    {
      "cell_type": "code",
      "metadata": {
        "id": "HEWn5sXicUMx"
      },
      "source": [
        ""
      ],
      "execution_count": null,
      "outputs": []
    }
  ]
}