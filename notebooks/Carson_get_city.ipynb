{
 "cells": [
  {
   "cell_type": "code",
   "execution_count": 21,
   "id": "democratic-property",
   "metadata": {},
   "outputs": [
    {
     "name": "stdout",
     "output_type": "stream",
     "text": [
      "Requirement already satisfied: spacy in c:\\users\\carso\\appdata\\local\\programs\\python\\python39\\lib\\site-packages (3.0.6)\n",
      "Requirement already satisfied: wasabi<1.1.0,>=0.8.1 in c:\\users\\carso\\appdata\\local\\programs\\python\\python39\\lib\\site-packages (from spacy) (0.8.2)\n",
      "Requirement already satisfied: requests<3.0.0,>=2.13.0 in c:\\users\\carso\\appdata\\local\\programs\\python\\python39\\lib\\site-packages (from spacy) (2.25.1)\n",
      "Requirement already satisfied: spacy-legacy<3.1.0,>=3.0.4 in c:\\users\\carso\\appdata\\local\\programs\\python\\python39\\lib\\site-packages (from spacy) (3.0.5)\n",
      "Requirement already satisfied: murmurhash<1.1.0,>=0.28.0 in c:\\users\\carso\\appdata\\local\\programs\\python\\python39\\lib\\site-packages (from spacy) (1.0.5)\n",
      "Requirement already satisfied: blis<0.8.0,>=0.4.0 in c:\\users\\carso\\appdata\\local\\programs\\python\\python39\\lib\\site-packages (from spacy) (0.7.4)\n",
      "Requirement already satisfied: catalogue<2.1.0,>=2.0.3 in c:\\users\\carso\\appdata\\local\\programs\\python\\python39\\lib\\site-packages (from spacy) (2.0.4)\n",
      "Requirement already satisfied: setuptools in c:\\users\\carso\\appdata\\local\\programs\\python\\python39\\lib\\site-packages (from spacy) (49.2.1)\n",
      "Requirement already satisfied: thinc<8.1.0,>=8.0.3 in c:\\users\\carso\\appdata\\local\\programs\\python\\python39\\lib\\site-packages (from spacy) (8.0.3)\n",
      "Requirement already satisfied: pathy>=0.3.5 in c:\\users\\carso\\appdata\\local\\programs\\python\\python39\\lib\\site-packages (from spacy) (0.5.2)\n",
      "Requirement already satisfied: numpy>=1.15.0 in c:\\users\\carso\\appdata\\local\\programs\\python\\python39\\lib\\site-packages (from spacy) (1.20.1)\n",
      "Requirement already satisfied: tqdm<5.0.0,>=4.38.0 in c:\\users\\carso\\appdata\\local\\programs\\python\\python39\\lib\\site-packages (from spacy) (4.60.0)\n",
      "Requirement already satisfied: typer<0.4.0,>=0.3.0 in c:\\users\\carso\\appdata\\local\\programs\\python\\python39\\lib\\site-packages (from spacy) (0.3.2)\n",
      "Requirement already satisfied: cymem<2.1.0,>=2.0.2 in c:\\users\\carso\\appdata\\local\\programs\\python\\python39\\lib\\site-packages (from spacy) (2.0.5)\n",
      "Requirement already satisfied: srsly<3.0.0,>=2.4.1 in c:\\users\\carso\\appdata\\local\\programs\\python\\python39\\lib\\site-packages (from spacy) (2.4.1)\n",
      "Requirement already satisfied: pydantic<1.8.0,>=1.7.1 in c:\\users\\carso\\appdata\\local\\programs\\python\\python39\\lib\\site-packages (from spacy) (1.7.4)\n",
      "Requirement already satisfied: jinja2 in c:\\users\\carso\\appdata\\local\\programs\\python\\python39\\lib\\site-packages (from spacy) (2.11.3)\n",
      "Requirement already satisfied: packaging>=20.0 in c:\\users\\carso\\appdata\\local\\programs\\python\\python39\\lib\\site-packages (from spacy) (20.9)\n",
      "Requirement already satisfied: preshed<3.1.0,>=3.0.2 in c:\\users\\carso\\appdata\\local\\programs\\python\\python39\\lib\\site-packages (from spacy) (3.0.5)\n",
      "Requirement already satisfied: pyparsing>=2.0.2 in c:\\users\\carso\\appdata\\local\\programs\\python\\python39\\lib\\site-packages (from packaging>=20.0->spacy) (2.4.7)\n",
      "Requirement already satisfied: smart-open<4.0.0,>=2.2.0 in c:\\users\\carso\\appdata\\local\\programs\\python\\python39\\lib\\site-packages (from pathy>=0.3.5->spacy) (3.0.0)\n",
      "Requirement already satisfied: idna<3,>=2.5 in c:\\users\\carso\\appdata\\local\\programs\\python\\python39\\lib\\site-packages (from requests<3.0.0,>=2.13.0->spacy) (2.10)\n",
      "Requirement already satisfied: chardet<5,>=3.0.2 in c:\\users\\carso\\appdata\\local\\programs\\python\\python39\\lib\\site-packages (from requests<3.0.0,>=2.13.0->spacy) (4.0.0)\n",
      "Requirement already satisfied: certifi>=2017.4.17 in c:\\users\\carso\\appdata\\local\\programs\\python\\python39\\lib\\site-packages (from requests<3.0.0,>=2.13.0->spacy) (2020.12.5)\n",
      "Requirement already satisfied: urllib3<1.27,>=1.21.1 in c:\\users\\carso\\appdata\\local\\programs\\python\\python39\\lib\\site-packages (from requests<3.0.0,>=2.13.0->spacy) (1.25.11)\n",
      "Requirement already satisfied: click<7.2.0,>=7.1.1 in c:\\users\\carso\\appdata\\local\\programs\\python\\python39\\lib\\site-packages (from typer<0.4.0,>=0.3.0->spacy) (7.1.2)\n",
      "Requirement already satisfied: MarkupSafe>=0.23 in c:\\users\\carso\\appdata\\local\\programs\\python\\python39\\lib\\site-packages (from jinja2->spacy) (1.1.1)\n",
      "Collecting en-core-web-md==3.0.0\n",
      "  Using cached https://github.com/explosion/spacy-models/releases/download/en_core_web_md-3.0.0/en_core_web_md-3.0.0-py3-none-any.whl (47.1 MB)\n",
      "Requirement already satisfied: spacy<3.1.0,>=3.0.0 in c:\\users\\carso\\appdata\\local\\programs\\python\\python39\\lib\\site-packages (from en-core-web-md==3.0.0) (3.0.6)\n",
      "Requirement already satisfied: cymem<2.1.0,>=2.0.2 in c:\\users\\carso\\appdata\\local\\programs\\python\\python39\\lib\\site-packages (from spacy<3.1.0,>=3.0.0->en-core-web-md==3.0.0) (2.0.5)\n",
      "Requirement already satisfied: jinja2 in c:\\users\\carso\\appdata\\local\\programs\\python\\python39\\lib\\site-packages (from spacy<3.1.0,>=3.0.0->en-core-web-md==3.0.0) (2.11.3)\n",
      "Requirement already satisfied: spacy-legacy<3.1.0,>=3.0.4 in c:\\users\\carso\\appdata\\local\\programs\\python\\python39\\lib\\site-packages (from spacy<3.1.0,>=3.0.0->en-core-web-md==3.0.0) (3.0.5)\n",
      "Requirement already satisfied: setuptools in c:\\users\\carso\\appdata\\local\\programs\\python\\python39\\lib\\site-packages (from spacy<3.1.0,>=3.0.0->en-core-web-md==3.0.0) (49.2.1)\n",
      "Requirement already satisfied: tqdm<5.0.0,>=4.38.0 in c:\\users\\carso\\appdata\\local\\programs\\python\\python39\\lib\\site-packages (from spacy<3.1.0,>=3.0.0->en-core-web-md==3.0.0) (4.60.0)\n",
      "Requirement already satisfied: typer<0.4.0,>=0.3.0 in c:\\users\\carso\\appdata\\local\\programs\\python\\python39\\lib\\site-packages (from spacy<3.1.0,>=3.0.0->en-core-web-md==3.0.0) (0.3.2)\n",
      "Requirement already satisfied: blis<0.8.0,>=0.4.0 in c:\\users\\carso\\appdata\\local\\programs\\python\\python39\\lib\\site-packages (from spacy<3.1.0,>=3.0.0->en-core-web-md==3.0.0) (0.7.4)\n",
      "Requirement already satisfied: srsly<3.0.0,>=2.4.1 in c:\\users\\carso\\appdata\\local\\programs\\python\\python39\\lib\\site-packages (from spacy<3.1.0,>=3.0.0->en-core-web-md==3.0.0) (2.4.1)\n",
      "Requirement already satisfied: preshed<3.1.0,>=3.0.2 in c:\\users\\carso\\appdata\\local\\programs\\python\\python39\\lib\\site-packages (from spacy<3.1.0,>=3.0.0->en-core-web-md==3.0.0) (3.0.5)\n",
      "Requirement already satisfied: wasabi<1.1.0,>=0.8.1 in c:\\users\\carso\\appdata\\local\\programs\\python\\python39\\lib\\site-packages (from spacy<3.1.0,>=3.0.0->en-core-web-md==3.0.0) (0.8.2)\n",
      "Requirement already satisfied: catalogue<2.1.0,>=2.0.3 in c:\\users\\carso\\appdata\\local\\programs\\python\\python39\\lib\\site-packages (from spacy<3.1.0,>=3.0.0->en-core-web-md==3.0.0) (2.0.4)\n",
      "Requirement already satisfied: murmurhash<1.1.0,>=0.28.0 in c:\\users\\carso\\appdata\\local\\programs\\python\\python39\\lib\\site-packages (from spacy<3.1.0,>=3.0.0->en-core-web-md==3.0.0) (1.0.5)\n",
      "Requirement already satisfied: pathy>=0.3.5 in c:\\users\\carso\\appdata\\local\\programs\\python\\python39\\lib\\site-packages (from spacy<3.1.0,>=3.0.0->en-core-web-md==3.0.0) (0.5.2)\n",
      "Requirement already satisfied: requests<3.0.0,>=2.13.0 in c:\\users\\carso\\appdata\\local\\programs\\python\\python39\\lib\\site-packages (from spacy<3.1.0,>=3.0.0->en-core-web-md==3.0.0) (2.25.1)\n",
      "Requirement already satisfied: pydantic<1.8.0,>=1.7.1 in c:\\users\\carso\\appdata\\local\\programs\\python\\python39\\lib\\site-packages (from spacy<3.1.0,>=3.0.0->en-core-web-md==3.0.0) (1.7.4)\n",
      "Requirement already satisfied: packaging>=20.0 in c:\\users\\carso\\appdata\\local\\programs\\python\\python39\\lib\\site-packages (from spacy<3.1.0,>=3.0.0->en-core-web-md==3.0.0) (20.9)\n",
      "Requirement already satisfied: thinc<8.1.0,>=8.0.3 in c:\\users\\carso\\appdata\\local\\programs\\python\\python39\\lib\\site-packages (from spacy<3.1.0,>=3.0.0->en-core-web-md==3.0.0) (8.0.3)\n",
      "Requirement already satisfied: numpy>=1.15.0 in c:\\users\\carso\\appdata\\local\\programs\\python\\python39\\lib\\site-packages (from spacy<3.1.0,>=3.0.0->en-core-web-md==3.0.0) (1.20.1)\n",
      "Requirement already satisfied: pyparsing>=2.0.2 in c:\\users\\carso\\appdata\\local\\programs\\python\\python39\\lib\\site-packages (from packaging>=20.0->spacy<3.1.0,>=3.0.0->en-core-web-md==3.0.0) (2.4.7)\n",
      "Requirement already satisfied: smart-open<4.0.0,>=2.2.0 in c:\\users\\carso\\appdata\\local\\programs\\python\\python39\\lib\\site-packages (from pathy>=0.3.5->spacy<3.1.0,>=3.0.0->en-core-web-md==3.0.0) (3.0.0)\n",
      "Requirement already satisfied: chardet<5,>=3.0.2 in c:\\users\\carso\\appdata\\local\\programs\\python\\python39\\lib\\site-packages (from requests<3.0.0,>=2.13.0->spacy<3.1.0,>=3.0.0->en-core-web-md==3.0.0) (4.0.0)\n",
      "Requirement already satisfied: idna<3,>=2.5 in c:\\users\\carso\\appdata\\local\\programs\\python\\python39\\lib\\site-packages (from requests<3.0.0,>=2.13.0->spacy<3.1.0,>=3.0.0->en-core-web-md==3.0.0) (2.10)\n",
      "Requirement already satisfied: certifi>=2017.4.17 in c:\\users\\carso\\appdata\\local\\programs\\python\\python39\\lib\\site-packages (from requests<3.0.0,>=2.13.0->spacy<3.1.0,>=3.0.0->en-core-web-md==3.0.0) (2020.12.5)\n",
      "Requirement already satisfied: urllib3<1.27,>=1.21.1 in c:\\users\\carso\\appdata\\local\\programs\\python\\python39\\lib\\site-packages (from requests<3.0.0,>=2.13.0->spacy<3.1.0,>=3.0.0->en-core-web-md==3.0.0) (1.25.11)\n",
      "Requirement already satisfied: click<7.2.0,>=7.1.1 in c:\\users\\carso\\appdata\\local\\programs\\python\\python39\\lib\\site-packages (from typer<0.4.0,>=0.3.0->spacy<3.1.0,>=3.0.0->en-core-web-md==3.0.0) (7.1.2)\n",
      "Requirement already satisfied: MarkupSafe>=0.23 in c:\\users\\carso\\appdata\\local\\programs\\python\\python39\\lib\\site-packages (from jinja2->spacy<3.1.0,>=3.0.0->en-core-web-md==3.0.0) (1.1.1)\n",
      "Installing collected packages: en-core-web-md\n",
      "Successfully installed en-core-web-md-3.0.0\n",
      "[+] Download and installation successful\n",
      "You can now load the package via spacy.load('en_core_web_md')\n"
     ]
    }
   ],
   "source": [
    "import sys\n",
    "!{sys.executable} -m pip install spacy\n",
    "!{sys.executable} -m spacy download en_core_web_md"
   ]
  },
  {
   "cell_type": "code",
   "execution_count": 22,
   "id": "sized-lying",
   "metadata": {},
   "outputs": [],
   "source": [
    "import os\n",
    "import spacy\n",
    "from spacy.matcher import Matcher\n",
    "#import en_core_web_md\n",
    "nlp = spacy.load(\"en_core_web_md\")"
   ]
  },
  {
   "cell_type": "code",
   "execution_count": 26,
   "id": "offensive-broad",
   "metadata": {},
   "outputs": [],
   "source": [
    "#Importing the test data we have\n",
    "\n",
    "filenames = os.listdir(r'C:\\Users\\carso\\Lambda Projects\\human-rights-first-asylum-ds-a\\text cases')\n",
    "\n",
    "counter = -1\n",
    "text_dict = {}\n",
    "for file in filenames:\n",
    "    counter += 1\n",
    "    f = open(f\"C:\\\\Users\\\\carso\\\\Lambda Projects\\\\human-rights-first-asylum-ds-a\\\\text cases\\\\{file}\", \"r\", encoding='utf-8')\n",
    "    \n",
    "    text_dict[counter] = nlp(f.read())\n",
    "    f.close()"
   ]
  },
  {
   "cell_type": "code",
   "execution_count": 45,
   "id": "peaceful-lincoln",
   "metadata": {},
   "outputs": [
    {
     "name": "stdout",
     "output_type": "stream",
     "text": [
      "['Kansas City', 'Tacoma', 'Seattle', 'El Paso', 'Fort Worth', 'Los Fresnos', 'San Antonio', 'Pearsall', 'Conroe', 'Harlingen', 'Houston', 'Dallas', 'Batavia', 'Buffalo', 'Napanoch', 'Fishkill', 'New York', 'San Ysidro', 'Sacramento', 'Los Angeles', 'San Diego', 'Van Nuys', 'Imperial', 'San Francisco', 'Adelanto', 'New Orleans', 'Oakdale', 'Chaparral', 'Fort Snelling', 'Omaha', 'Aurora', 'Denver', 'Las Vegas', 'Saipan', 'Memphis', 'Miami', 'Orlando', 'West Valley City', 'Baltimore', 'Falls Church', 'Arlington', 'Eloy', 'Phoenix', 'Tucson', 'Florence', 'Chicago', 'Boston', 'Hartford', 'Detroit', 'Lumpkin', 'Atlanta', 'Philadelphia', 'York', 'Guaynabo', 'San Juan', 'Charlotte', 'Elizabeth', 'Newark', 'Honolulu', 'Cleveland', 'Portland', 'Louisville']\n"
     ]
    }
   ],
   "source": [
    "#Getting the list of all the cities courts are in\n",
    "courts_json = {\"MO\": {\"city\": [\"Kansas City\"], \"zip\": [\"64108\"], \"fullname\": [\"Missouri\"]}, \"WA\": {\"city\": [\"Tacoma\", \"Seattle\"], \"zip\": [\"98174\", \"98174\"], \"fullname\": [\"Washington\"]}, \"TX\": {\"city\": [\"El Paso\", \"Fort Worth\", \"Los Fresnos\", \"San Antonio\", \"Pearsall\", \"Conroe\", \"Harlingen\", \"Houston\", \"Dallas\"], \"zip\": [\"77301\", \"75242\", \"79901\", \"79925\", \"76102\", \"78550\", \"77002\", \"77060\", \"77074\", \"78061\", \"78566\", \"78566\", \"78207\", \"78205\"], \"fullname\": [\"Texas\"]}, \"NY\": {\"city\": [\"Batavia\", \"Buffalo\", \"Napanoch\", \"Fishkill\", \"New York\"], \"zip\": [\"14020\", \"14202\", \"12524\", \"10007\", \"10278\", \"12458\", \"10014\"], \"fullname\": [\"New York\"]}, \"CA\": {\"city\": [\"San Ysidro\", \"Sacramento\", \"Los Angeles\", \"San Diego\", \"Van Nuys\", \"Imperial\", \"San Francisco\", \"Adelanto\"], \"zip\": [\"92301\", \"92251\", \"90012\", \"90014\", \"91401\", \"92154\", \"92143\", \"95814\", \"92101\", \"94104\", \"94111\"], \"fullname\": [\"California\"]}, \"LA\": {\"city\": [\"New Orleans\", \"Oakdale\"], \"zip\": [\"70130\", \"71463\"], \"fullname\": [\"Louisiana\"]}, \"NM\": {\"city\": [\"Chaparral\"], \"zip\": [\"88081\"], \"fullname\": [\"New Mexico\"]}, \"MN\": {\"city\": [\"Fort Snelling\"], \"zip\": [\"55111\"], \"fullname\": [\"Minnesota\"]}, \"NE\": {\"city\": [\"Omaha\"], \"zip\": [\"68110\"], \"fullname\": [\"Nebraska\"]}, \"CO\": {\"city\": [\"Aurora\", \"Denver\"], \"zip\": [\"80010\", \"80294\"], \"fullname\": [\"Colorado\"]}, \"NV\": {\"city\": [\"Las Vegas\"], \"zip\": [\"89106\"], \"fullname\": [\"Nevada\"]}, \"MP\": {\"city\": [\"Saipan\"], \"zip\": [\"96950\", \"96950\"], \"fullname\": [\"Northern Mariana Islands\"]}, \"TN\": {\"city\": [\"Memphis\"], \"zip\": [\"38103\"], \"fullname\": [\"Tennessee\"]}, \"FL\": {\"city\": [\"Miami\", \"Orlando\"], \"zip\": [\"33130\", \"33194\", \"32803\"], \"fullname\": [\"Florida\"]}, \"UT\": {\"city\": [\"West Valley City\"], \"zip\": [\"84119\"], \"fullname\": [\"Utah\"]}, \"MD\": {\"city\": [\"Baltimore\"], \"zip\": [\"21201\"], \"fullname\": [\"Maryland\"]}, \"VA\": {\"city\": [\"Falls Church\", \"Arlington\"], \"zip\": [\"22202\", \"22041\"], \"fullname\": [\"Virginia\"]}, \"AZ\": {\"city\": [\"Eloy\", \"Phoenix\", \"Tucson\", \"Florence\"], \"zip\": [\"85131\", \"85132\", \"85007\", \"85701\"], \"fullname\": [\"Arizona\"]}, \"IL\": {\"city\": [\"Chicago\"], \"zip\": [\"60607\", \"60605\"], \"fullname\": [\"Illinois\"]}, \"MA\": {\"city\": [\"Boston\"], \"zip\": [\"02203\"], \"fullname\": [\"Massachusetts\"]}, \"CT\": {\"city\": [\"Hartford\"], \"zip\": [\"06103\"], \"fullname\": [\"Connecticut\"]}, \"MI\": {\"city\": [\"Detroit\"], \"zip\": [\"48226\"], \"fullname\": [\"Michigan\"]}, \"GA\": {\"city\": [\"Lumpkin\", \"Atlanta\"], \"zip\": [\"30303\", \"30308\", \"31815\"], \"fullname\": [\"Georgia\"]}, \"PA\": {\"city\": [\"Philadelphia\", \"York\"], \"zip\": [\"19107\", \"17402\", \"17402\"], \"fullname\": [\"Pennsylvania\"]}, \"PR\": {\"city\": [\"Guaynabo\", \"San Juan\"], \"zip\": [\"00968\"], \"fullname\": [\"Puerto Rico\"]}, \"NC\": {\"city\": [\"Charlotte\"], \"zip\": [\"28212\"], \"fullname\": [\"North Carolina\"]}, \"NJ\": {\"city\": [\"Elizabeth\", \"Newark\"], \"zip\": [\"07201\", \"07102\"], \"fullname\": [\"New Jersey\"]}, \"HI\": {\"city\": [\"Honolulu\"], \"zip\": [\"96850\"], \"fullname\": [\"Hawaii\"]}, \"OH\": {\"city\": [\"Cleveland\"], \"zip\": [\"44113\"], \"fullname\": [\"Ohio\"]}, \"OR\": {\"city\": [\"Portland\"], \"zip\": [\"97204\"], \"fullname\": [\"Oregon\"]}, \"KY\": {\"city\": [\"Louisville\"], \"zip\": [\"40202\"], \"fullname\": [\"Kentucky\"]}}\n",
    "courts_list = []\n",
    "\n",
    "for item in courts_json:\n",
    "    courts_list.append(courts_json[item]['city'])\n",
    "flatCourts = [ item for elem in courts_list for item in elem]\n"
   ]
  },
  {
   "cell_type": "code",
   "execution_count": 130,
   "id": "caring-economy",
   "metadata": {},
   "outputs": [
    {
     "name": "stdout",
     "output_type": "stream",
     "text": [
      "Falls Church\n",
      "Falls Church\n",
      "El Salvador\n",
      "El Salvador\n",
      "El Salvador\n",
      "El Salvadoran\n",
      "El Salvadoran\n",
      "El Salvadoran\n",
      "El Salvador\n",
      "El Salvadoran\n",
      "El Salvadoran\n",
      "El Salvador\n",
      "El Salvador\n"
     ]
    }
   ],
   "source": [
    "#Searching the docs for the cities and returning it\n",
    "two_word_list = ['Kansas', 'El', 'Fort', 'Los', 'San', 'New', 'Van', 'Las', 'Falls']\n",
    "\n",
    "doc = text_dict[8]\n",
    "\n",
    "for i, item in enumerate(doc):\n",
    "    for j in range(len(flatCourts)):\n",
    "\n",
    "        pattern = flatCourts[j].split()[0]\n",
    "\n",
    "        if str(item) == pattern:\n",
    "\n",
    "            if pattern == 'West':\n",
    "                print(pattern + ' ' + str(doc[i + 1]) + ' ' + str(doc[i + 2]))\n",
    "               #return pattern + str(text_dict[0][i + 1]) + str(text_dict[0][i + 2])\n",
    "            \n",
    "            if pattern in two_word_list:\n",
    "                print(pattern + ' ' + str(doc[i + 1]))\n",
    "                #return pattern + str(text_dict[0][i + 1])\n",
    "    \n"
   ]
  }
 ],
 "metadata": {
  "kernelspec": {
   "display_name": "Python 3 (ipykernel)",
   "language": "python",
   "name": "python3"
  },
  "language_info": {
   "codemirror_mode": {
    "name": "ipython",
    "version": 3
   },
   "file_extension": ".py",
   "mimetype": "text/x-python",
   "name": "python",
   "nbconvert_exporter": "python",
   "pygments_lexer": "ipython3",
   "version": "3.9.5"
  }
 },
 "nbformat": 4,
 "nbformat_minor": 5
}
