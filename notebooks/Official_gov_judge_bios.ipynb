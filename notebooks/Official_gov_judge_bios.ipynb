{
 "cells": [
  {
   "cell_type": "markdown",
   "metadata": {},
   "source": [
    "# Update"
   ]
  },
  {
   "cell_type": "markdown",
   "metadata": {},
   "source": [
    "Based on the resulting data extracting judge bios for use on the application will be paused for now."
   ]
  },
  {
   "cell_type": "markdown",
   "metadata": {},
   "source": [
    "# Judge Biography Extraction Exploration"
   ]
  },
  {
   "cell_type": "code",
   "execution_count": 2,
   "metadata": {},
   "outputs": [],
   "source": [
    "# Import libraries\n",
    "\n",
    "import pandas as pd\n"
   ]
  },
  {
   "cell_type": "code",
   "execution_count": 3,
   "metadata": {},
   "outputs": [
    {
     "name": "stdout",
     "output_type": "stream",
     "text": [
      "The length of the biography data is: 1\n",
      "Biography data example: [                            0                           1\n",
      "0                Access  ECAS                Access  ICOR\n",
      "1  Find Legal  Representation         Submit a  Complaint\n",
      "2      Find Case  Information  Find an  Immigration Court]\n"
     ]
    }
   ],
   "source": [
    "# Load the data\n",
    "bio_data = pd.read_html('https://www.justice.gov/eoir/office-of-the-chief-immigration-judge-bios')\n",
    "\n",
    "# Brief data content overview\n",
    "# Length of the data\n",
    "print('The length of the biography data is:', len(bio_data))\n",
    "\n",
    "# View the first line of data\n",
    "print('Biography data example:', bio_data)\n"
   ]
  }
 ],
 "metadata": {
  "interpreter": {
   "hash": "3f8956436d8ce59f668ff26075b9e4d053dba06b7526eb5909008814682cd7e3"
  },
  "kernelspec": {
   "display_name": "Python 3.8.8 64-bit ('base': conda)",
   "name": "python3"
  },
  "language_info": {
   "codemirror_mode": {
    "name": "ipython",
    "version": 3
   },
   "file_extension": ".py",
   "mimetype": "text/x-python",
   "name": "python",
   "nbconvert_exporter": "python",
   "pygments_lexer": "ipython3",
   "version": "3.8.8"
  },
  "orig_nbformat": 4
 },
 "nbformat": 4,
 "nbformat_minor": 2
}
