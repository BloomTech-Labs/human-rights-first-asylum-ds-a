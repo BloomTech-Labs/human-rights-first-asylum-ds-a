{
  "nbformat": 4,
  "nbformat_minor": 0,
  "metadata": {
    "colab": {
      "name": "Labs34_Bar_Chart",
      "provenance": [],
      "collapsed_sections": []
    },
    "kernelspec": {
      "name": "python3",
      "display_name": "Python 3"
    },
    "language_info": {
      "name": "python"
    }
  },
  "cells": [
    {
      "cell_type": "code",
      "metadata": {
        "id": "rgFS-IM8GYTs"
      },
      "source": [
        "# import\n",
        "import pandas as pd\n",
        "import numpy as np\n",
        "import random\n",
        "import plotly.express as px\n",
        "import plotly.graph_objects as go\n",
        "import seaborn as sns\n",
        "import matplotlib.pyplot as plt\n",
        "import json\n",
        "import requests\n",
        "from plotly.subplots import make_subplots\n"
      ],
      "execution_count": 1,
      "outputs": []
    },
    {
      "cell_type": "markdown",
      "metadata": {
        "id": "edjH_3X6KCnF"
      },
      "source": [
        "# Bar chart"
      ]
    },
    {
      "cell_type": "code",
      "metadata": {
        "id": "ZsLgyRSTKGEm"
      },
      "source": [
        "# run this to create df_web\n",
        "\n",
        "web_url = \"https://asylum-a-api.herokuapp.com\"\n",
        "endpoint = \"/judges/1/cases\"\n",
        "\n",
        "# web_url = \"https://asylum-a-api.herokuapp.com\"\n",
        "# endpoint = \"/cases\"\n",
        "jsondata_2 = {\"judge_id\":2,\"first_name\":\"Patricia\",\"last_name\":\"Cole\",\"judge_county\":\"Virginia Falls\",\"appointed_by\":\"Janet Reno\",\"case_id\":\"099f113a-3514-45be-a2c7-9257eded3fe7\",\"case_url\":\"https://hrf-asylum-cases.s3.amazonaws.com/2ff54195-ce30-456c-be63-2a6c765bdce2.pdf\",\"case_number\":\"A079-531-484\",\"case_date\":\"2012-08-30T00:00:00.000Z\",\"case_outcome\":\"Granted\",\"country_of_origin\":\"El Salvador\",\"protected_grounds\":\"Political Opinion\",\"application_type\":\"initial\",\"case_origin_city\":\"Los Angeles\",\"case_origin_state\":\"CA\",\"gender\":\"Female\",\"appellate\":False,\"status\":\"approved\"},{\"judge_id\":2,\"first_name\":\"Patricia\",\"last_name\":\"Cole\",\"judge_county\":\"Virginia Falls\",\"appointed_by\":\"Janet Reno\",\"case_id\":\"75a1fb1b-1ffe-45d6-b347-9ef67d4b9180\",\"case_url\":\"https://hrf-asylum-cases.s3.amazonaws.com/2ff54195-ce30-456c-be63-2a6c765bdce2.pdf\",\"case_number\":\"A089-207-04\",\"case_date\":\"2012-01-31T00:00:00.000Z\",\"case_outcome\":\"Sustained\",\"country_of_origin\":\"Honduras\",\"protected_grounds\":\"Nationality\",\"application_type\":\"initial\",\"case_origin_city\":\"Imperial\",\"case_origin_state\":\"CA\",\"gender\":\"Female\",\"appellate\":False,\"status\":\"approved\"},{\"judge_id\":2,\"first_name\":\"Patricia\",\"last_name\":\"Cole\",\"judge_county\":\"Virginia Falls\",\"appointed_by\":\"Janet Reno\",\"case_id\":\"04fbe436-da2c-4e20-9cfb-2221ad8e1f29\",\"case_url\":\"https://hrf-asylum-cases.s3.amazonaws.com/2ff54195-ce30-456c-be63-2a6c765bdce2.pdf\",\"case_number\":\"A044-857-956\",\"case_date\":\"2011-12-15T00:00:00.000Z\",\"case_outcome\":\"Terminated\",\"country_of_origin\":\"Mexico\",\"protected_grounds\":\"Political Opinion\",\"application_type\":\"initial\",\"case_origin_city\":\"San Antonio\",\"case_origin_state\":\"TX\",\"gender\":\"Female\",\"appellate\":False,\"status\":\"approved\"}\n",
        "\n",
        "#jsondata = requests.get(web_url+endpoint).json()['data']\n",
        "\n",
        "df_web = pd.DataFrame.from_dict(jsondata_2)\n",
        "\n",
        "keep_cols = [\n",
        "    'case_outcome',\n",
        "    'country_of_origin',\n",
        "    'protected_grounds',\n",
        "    'gender',\n",
        "]\n",
        "\n",
        "# filter dataframe\n",
        "df_web = df_web[keep_cols]\n",
        "df_web"
      ],
      "execution_count": null,
      "outputs": []
    },
    {
      "cell_type": "code",
      "metadata": {
        "id": "zwfPULeGxxDI"
      },
      "source": [
        "# this is the function we are using. Can make any changes.\n",
        "\n",
        "def create_fig(df, feature):\n",
        "  # can also change this outcomes list for the outcomes we want\n",
        "  outcomes_list = ['Denied', 'Granted', 'Remanded', 'Sustained', 'Terminated']\n",
        "  df = df_web.groupby(feature)['case_outcome'].value_counts().unstack(fill_value=0)\n",
        "\n",
        "  fig_data = []\n",
        "  for outcome in outcomes_list:\n",
        "      if outcome in df.columns:\n",
        "          temp = go.Bar(name= outcome,\n",
        "                        x=list(df.index),\n",
        "                        y=df[outcome])\n",
        "          fig_data.append(temp)\n",
        "\n",
        "  fig = go.Figure(fig_data)\n",
        "\n",
        "  # Lots on different things you can do here:\n",
        "  # barmode stack or group\n",
        "  fig.update_layout(barmode='stack')\n",
        "\n",
        "  # This is how we will return it on the API\n",
        "  # return fig.to_json()\n",
        "  return fig"
      ],
      "execution_count": 7,
      "outputs": []
    },
    {
      "cell_type": "code",
      "metadata": {
        "id": "E3ygkn58xzTr"
      },
      "source": [
        "# test with different features, just change the name.\n",
        "fig = create_fig(df_web, 'protected_grounds')\n",
        "fig.show()"
      ],
      "execution_count": null,
      "outputs": []
    },
    {
      "cell_type": "markdown",
      "metadata": {
        "id": "s2Sbe8KqC99i"
      },
      "source": [
        "# to test:"
      ]
    },
    {
      "cell_type": "code",
      "metadata": {
        "id": "AfR1DXtG1OZO"
      },
      "source": [
        "def create_fig(df, feature):\n",
        "  # can also change this outcomes list for the outcomes we want\n",
        "  outcomes_list = ['Denied', 'Granted', 'Remanded', 'Sustained', 'Terminated']\n",
        "  df = df_web.groupby(feature)['case_outcome'].value_counts().unstack(fill_value=0)\n",
        "\n",
        "  fig_data = []\n",
        "  for outcome in outcomes_list:\n",
        "      if outcome in df.columns:\n",
        "          temp = go.Bar(name= outcome,\n",
        "                        x=list(df.index),\n",
        "                        y=df[outcome])\n",
        "          fig_data.append(temp)\n",
        "\n",
        "  fig = go.Figure(fig_data)\n",
        "\n",
        "  # Lots on different things you can do here:\n",
        "  # barmode stack or group\n",
        "  fig.update_layout(barmode='stack')\n",
        "\n",
        "  # This is how we will return it on the API\n",
        "  return fig.to_json()\n",
        " "
      ],
      "execution_count": 9,
      "outputs": []
    },
    {
      "cell_type": "code",
      "metadata": {
        "id": "3Ts6N1R_C54h"
      },
      "source": [
        "#  create json fig to graph with create_fig function\n",
        "fig_json = create_fig(df_web, 'protected_grounds')\n",
        "\n",
        "# graph it!\n",
        "to_graph = json.loads(fig_json)\n",
        "fig = go.Figure(to_graph)\n",
        "fig.show()"
      ],
      "execution_count": null,
      "outputs": []
    }
  ]
}