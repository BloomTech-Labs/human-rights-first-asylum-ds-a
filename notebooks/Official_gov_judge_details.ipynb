{
 "cells": [
  {
   "cell_type": "markdown",
   "metadata": {},
   "source": [
    "# Tool Imports"
   ]
  },
  {
   "cell_type": "code",
   "execution_count": 104,
   "metadata": {},
   "outputs": [],
   "source": [
    "import pandas as pd\n"
   ]
  },
  {
   "cell_type": "markdown",
   "metadata": {},
   "source": [
    "# Overview"
   ]
  },
  {
   "cell_type": "markdown",
   "metadata": {},
   "source": [
    "This notebook aims to scrape the US Department of Justice's Executive Office for Immigration Review website to obtain current detail for each sitting judge.\n"
   ]
  },
  {
   "cell_type": "markdown",
   "metadata": {},
   "source": [
    "## Objectives\n",
    "\n",
    "- Explore the data availability\n",
    "- Understand if additional resources are necessary\n",
    "    - Find if applicable\n",
    "- Find product relevant data: judge name, locale (district, court location, etc.), biography as a stretch goal.\n",
    "- Establish best way to extract data into a readable format for backend end point"
   ]
  },
  {
   "cell_type": "markdown",
   "metadata": {},
   "source": [
    "## Considerations\n",
    "1) Relevance: How are prior practicing judges handled? An individual attorney may upload a case file for a judge no longer practicing law. How will the system handle this use case?\n",
    "\n",
    "2) Timeliness: How current is the information provided? \n",
    "\n",
    "3) Reliability: How reliable is the data being scraped? Given the data is drawn from a .gov site there is a strong likely hood the information can be relied upon for accuracy.\n",
    "\n",
    "4) Scalability: Will the solution in this notebook scale?\n",
    "\n",
    "Product Scope Note: This product formerly included appellate court cases. Cases where the original decision was appealed by either party and elevated to the next step in the immigration court judicial process. Please look for any reference to immigration appeals, BIA, board of appeals, etc. and insure that information is not included unless otherwise requested by the stakeholder. Example web site for exclusion includes: https://www.justice.gov/eoir/board-of-immigration-appeals-bios"
   ]
  },
  {
   "cell_type": "markdown",
   "metadata": {},
   "source": [
    "# Data Establishment"
   ]
  },
  {
   "cell_type": "code",
   "execution_count": 105,
   "metadata": {},
   "outputs": [],
   "source": [
    "# Load the data and save as a variable\n",
    "jurisdiction_data = pd.read_html('https://www.justice.gov/eoir/eoir-immigration-court-listing')\n"
   ]
  },
  {
   "cell_type": "code",
   "execution_count": 106,
   "metadata": {},
   "outputs": [],
   "source": [
    "# Set display option value to none allowing a view of all characters\n",
    "pd.set_option('display.max_colwidth', None)\n",
    "\n",
    "# Source material for this functionality here\n",
    "# https://towardsdatascience.com/8-commonly-used-pandas-display-options-you-should-know-a832365efa95\n"
   ]
  },
  {
   "cell_type": "code",
   "execution_count": 107,
   "metadata": {},
   "outputs": [
    {
     "name": "stdout",
     "output_type": "stream",
     "text": [
      "The length of the district data is 31 .\n",
      "Jurisdiction data example, line 1:                                                                                                                                                                                                                                                                                                                                                                0\n",
      "0  Arizona | California | Colorado | Connecticut | Florida | Georgia | Hawaii | Illinois  Louisiana | Maryland | Massachusetts | Michigan | Minnesota | Missouri Nebraska | Nevada | New Jersey | New Mexico | New York | North Carolina Northern Mariana Islands | Ohio | Oregon | Pennsylvania | Puerto Rico | Tennessee  Texas | Utah | Virginia | Washington\n"
     ]
    }
   ],
   "source": [
    "# Brief data content overview\n",
    "\n",
    "# Length of the data\n",
    "print('The length of the district data is', len(jurisdiction_data), '.')\n",
    "\n",
    "# View the first line of data\n",
    "print('Jurisdiction data example, line 1:', jurisdiction_data[0])\n"
   ]
  },
  {
   "cell_type": "code",
   "execution_count": 108,
   "metadata": {},
   "outputs": [
    {
     "data": {
      "text/html": [
       "<div>\n",
       "<style scoped>\n",
       "    .dataframe tbody tr th:only-of-type {\n",
       "        vertical-align: middle;\n",
       "    }\n",
       "\n",
       "    .dataframe tbody tr th {\n",
       "        vertical-align: top;\n",
       "    }\n",
       "\n",
       "    .dataframe thead th {\n",
       "        text-align: right;\n",
       "    }\n",
       "</style>\n",
       "<table border=\"1\" class=\"dataframe\">\n",
       "  <thead>\n",
       "    <tr style=\"text-align: right;\">\n",
       "      <th></th>\n",
       "      <th>Illinois</th>\n",
       "      <th>Illinois.1</th>\n",
       "      <th>Illinois.2</th>\n",
       "      <th>Illinois.3</th>\n",
       "    </tr>\n",
       "  </thead>\n",
       "  <tbody>\n",
       "    <tr>\n",
       "      <th>0</th>\n",
       "      <td>Court</td>\n",
       "      <td>Address</td>\n",
       "      <td>Immigration Judges</td>\n",
       "      <td>Court Administrator</td>\n",
       "    </tr>\n",
       "    <tr>\n",
       "      <th>1</th>\n",
       "      <td>Chicago</td>\n",
       "      <td>525 West Van Buren Street, Suite 500  Chicago, IL 60607  312-697-5800  Chicago Detained  536 S. Clark Street, Suite 340  Chicago, IL 60605  312-294-8400</td>\n",
       "      <td>Cole, Samuel B.  Crites, Elizabeth  Curran, Brendan  Defoe, Craig A.  Klein, Eliza  Klosowsky, Michael P.  Luskin, Joshua D.  McKenna, Patrick M.  Naseem, Samia  Peyton, Jennifer I.  Rosche, Robin  Salovaara, Kaarina  Saltzman, Eva S.</td>\n",
       "      <td>Barilla, Jody</td>\n",
       "    </tr>\n",
       "  </tbody>\n",
       "</table>\n",
       "</div>"
      ],
      "text/plain": [
       "  Illinois  \\\n",
       "0    Court   \n",
       "1  Chicago   \n",
       "\n",
       "                                                                                                                                                 Illinois.1  \\\n",
       "0                                                                                                                                                   Address   \n",
       "1  525 West Van Buren Street, Suite 500  Chicago, IL 60607  312-697-5800  Chicago Detained  536 S. Clark Street, Suite 340  Chicago, IL 60605  312-294-8400   \n",
       "\n",
       "                                                                                                                                                                                                                                   Illinois.2  \\\n",
       "0                                                                                                                                                                                                                          Immigration Judges   \n",
       "1  Cole, Samuel B.  Crites, Elizabeth  Curran, Brendan  Defoe, Craig A.  Klein, Eliza  Klosowsky, Michael P.  Luskin, Joshua D.  McKenna, Patrick M.  Naseem, Samia  Peyton, Jennifer I.  Rosche, Robin  Salovaara, Kaarina  Saltzman, Eva S.   \n",
       "\n",
       "            Illinois.3  \n",
       "0  Court Administrator  \n",
       "1        Barilla, Jody  "
      ]
     },
     "execution_count": 108,
     "metadata": {},
     "output_type": "execute_result"
    }
   ],
   "source": [
    "# View a random line of data\n",
    "\n",
    "jurisdiction_data[8]\n"
   ]
  },
  {
   "cell_type": "code",
   "execution_count": 109,
   "metadata": {},
   "outputs": [
    {
     "name": "stdout",
     "output_type": "stream",
     "text": [
      "<class 'pandas.core.frame.DataFrame'>\n",
      "RangeIndex: 2 entries, 0 to 1\n",
      "Data columns (total 4 columns):\n",
      " #   Column      Non-Null Count  Dtype \n",
      "---  ------      --------------  ----- \n",
      " 0   Illinois    2 non-null      object\n",
      " 1   Illinois.1  2 non-null      object\n",
      " 2   Illinois.2  2 non-null      object\n",
      " 3   Illinois.3  2 non-null      object\n",
      "dtypes: object(4)\n",
      "memory usage: 192.0+ bytes\n"
     ]
    }
   ],
   "source": [
    "# Random data appears to be a dataframe\n",
    "# Confirm\n",
    "\n",
    "jurisdiction_data[8].info()\n"
   ]
  },
  {
   "cell_type": "code",
   "execution_count": 110,
   "metadata": {},
   "outputs": [
    {
     "data": {
      "text/html": [
       "<div>\n",
       "<style scoped>\n",
       "    .dataframe tbody tr th:only-of-type {\n",
       "        vertical-align: middle;\n",
       "    }\n",
       "\n",
       "    .dataframe tbody tr th {\n",
       "        vertical-align: top;\n",
       "    }\n",
       "\n",
       "    .dataframe thead th {\n",
       "        text-align: right;\n",
       "    }\n",
       "</style>\n",
       "<table border=\"1\" class=\"dataframe\">\n",
       "  <thead>\n",
       "    <tr style=\"text-align: right;\">\n",
       "      <th></th>\n",
       "      <th>Court</th>\n",
       "      <th>Address</th>\n",
       "      <th>Immigration Judges</th>\n",
       "      <th>Court Administrator</th>\n",
       "    </tr>\n",
       "  </thead>\n",
       "  <tbody>\n",
       "    <tr>\n",
       "      <th>1</th>\n",
       "      <td>Chicago</td>\n",
       "      <td>525 West Van Buren Street, Suite 500  Chicago, IL 60607  312-697-5800  Chicago Detained  536 S. Clark Street, Suite 340  Chicago, IL 60605  312-294-8400</td>\n",
       "      <td>Cole, Samuel B.  Crites, Elizabeth  Curran, Brendan  Defoe, Craig A.  Klein, Eliza  Klosowsky, Michael P.  Luskin, Joshua D.  McKenna, Patrick M.  Naseem, Samia  Peyton, Jennifer I.  Rosche, Robin  Salovaara, Kaarina  Saltzman, Eva S.</td>\n",
       "      <td>Barilla, Jody</td>\n",
       "    </tr>\n",
       "  </tbody>\n",
       "</table>\n",
       "</div>"
      ],
      "text/plain": [
       "0    Court  \\\n",
       "1  Chicago   \n",
       "\n",
       "0                                                                                                                                                   Address  \\\n",
       "1  525 West Van Buren Street, Suite 500  Chicago, IL 60607  312-697-5800  Chicago Detained  536 S. Clark Street, Suite 340  Chicago, IL 60605  312-294-8400   \n",
       "\n",
       "0                                                                                                                                                                                                                          Immigration Judges  \\\n",
       "1  Cole, Samuel B.  Crites, Elizabeth  Curran, Brendan  Defoe, Craig A.  Klein, Eliza  Klosowsky, Michael P.  Luskin, Joshua D.  McKenna, Patrick M.  Naseem, Samia  Peyton, Jennifer I.  Rosche, Robin  Salovaara, Kaarina  Saltzman, Eva S.   \n",
       "\n",
       "0 Court Administrator  \n",
       "1       Barilla, Jody  "
      ]
     },
     "execution_count": 110,
     "metadata": {},
     "output_type": "execute_result"
    }
   ],
   "source": [
    "# Remove the first row in place to default the \n",
    "# Accurate label row as the header\n",
    "\n",
    "illinois_df.drop([0], axis=0)"
   ]
  },
  {
   "cell_type": "code",
   "execution_count": 111,
   "metadata": {},
   "outputs": [
    {
     "data": {
      "text/plain": [
       "'Cole, Samuel B.  Crites, Elizabeth  Curran, Brendan  Defoe, Craig A.  Klein, Eliza  Klosowsky, Michael P.  Luskin, Joshua D.  McKenna, Patrick M.  Naseem, Samia  Peyton, Jennifer I.  Rosche, Robin  Salovaara, Kaarina  Saltzman, Eva S.'"
      ]
     },
     "execution_count": 111,
     "metadata": {},
     "output_type": "execute_result"
    }
   ],
   "source": [
    "# Index into the dataframe for the judge names\n",
    "illinois_df.iloc[1, 2]\n"
   ]
  },
  {
   "cell_type": "markdown",
   "metadata": {},
   "source": [
    "# Full Court Coverage List"
   ]
  },
  {
   "cell_type": "code",
   "execution_count": 112,
   "metadata": {},
   "outputs": [
    {
     "name": "stdout",
     "output_type": "stream",
     "text": [
      "2\n"
     ]
    },
    {
     "data": {
      "text/html": [
       "<div>\n",
       "<style scoped>\n",
       "    .dataframe tbody tr th:only-of-type {\n",
       "        vertical-align: middle;\n",
       "    }\n",
       "\n",
       "    .dataframe tbody tr th {\n",
       "        vertical-align: top;\n",
       "    }\n",
       "\n",
       "    .dataframe thead th {\n",
       "        text-align: right;\n",
       "    }\n",
       "</style>\n",
       "<table border=\"1\" class=\"dataframe\">\n",
       "  <thead>\n",
       "    <tr style=\"text-align: right;\">\n",
       "      <th></th>\n",
       "      <th>0</th>\n",
       "      <th>1</th>\n",
       "      <th>2</th>\n",
       "    </tr>\n",
       "  </thead>\n",
       "  <tbody>\n",
       "    <tr>\n",
       "      <th>0</th>\n",
       "      <td>Administrative Control Court  An administrative control court is one that creates and maintains records of proceedings for Immigration Courts within an assigned geographic area.  See 8 C.F.R. § 1003.11.</td>\n",
       "      <td>Assigned Responsibility  The administrative control court may have jurisdiction over: charging documents issued by the following DHS district offices or sub-offices; or charging documents relating to individual aliens in custody at the following detention facilities or Service Processing Centers or incarcerated alien inmates in the custody of Departments of Corrections as specified.</td>\n",
       "      <td>Other Hearing Locations  Detail cities or other hearing sites which may be serviced by the administrative control court.</td>\n",
       "    </tr>\n",
       "    <tr>\n",
       "      <th>1</th>\n",
       "      <td>Adelanto Immigration Court  10250 Rancho Rd., STE 201A  Adelanto, CA 92301  Back to top</td>\n",
       "      <td>Adelanto Detention Facilities, West  Adelanto Detention Facilities (East) - female population  Adelanto Detention Facilities (West) - male population  Lompoc Federal Correctional Institution  United States Penitentiary, Lompoc</td>\n",
       "      <td>Clerical Transfers Allowed  Adelanto Detention Facilities, West  Lompoc Federal Correctional Institution and United States Penitentiary  NOTE: The Lancaster Immigration Court has been closed as of November 1, 2012. Any matter relating to a case heard at that court is now under the jurisdiction of the Adelanto Immigration Court.</td>\n",
       "    </tr>\n",
       "    <tr>\n",
       "      <th>2</th>\n",
       "      <td>Arlington Immigration Court  1901 South Bell Street,  Suite 200  Arlington, VA 22202  Back to top</td>\n",
       "      <td>ARLINGTON, VA - DHS DISTRICT OFFICE (including any sub-offices)</td>\n",
       "      <td>Virginia Televideo Sites:  Farmville Detention Center  Farmville, VA  Caroline County Detention Facility Bowling Green, VA</td>\n",
       "    </tr>\n",
       "    <tr>\n",
       "      <th>3</th>\n",
       "      <td>Atlanta Immigration Court  Peachtree Summit Federal Building  401 W. Peachtree Street, Suite 2600  Atlanta, GA 30308</td>\n",
       "      <td>ATLANTA, GA - DHS DISTRICT OFFICE (including any sub-offices except North Carolina and South Carolina)</td>\n",
       "      <td>NaN</td>\n",
       "    </tr>\n",
       "    <tr>\n",
       "      <th>4</th>\n",
       "      <td>Atlanta Immigration Court  180 Ted Turner Drive, SW, Suite 241  Atlanta, GA 30303  Back to top</td>\n",
       "      <td>ATLANTA, GA - DHS DISTRICT OFFICE (including any sub-offices except North Carolina and South Carolina)  Irwin County Detention Center, Ocilla, GA  Georgia Department of Corrections  Diagnostic Center, Jackson, GA</td>\n",
       "      <td>NaN</td>\n",
       "    </tr>\n",
       "  </tbody>\n",
       "</table>\n",
       "</div>"
      ],
      "text/plain": [
       "                                                                                                                                                                                                            0  \\\n",
       "0  Administrative Control Court  An administrative control court is one that creates and maintains records of proceedings for Immigration Courts within an assigned geographic area.  See 8 C.F.R. § 1003.11.   \n",
       "1                                                                                                                     Adelanto Immigration Court  10250 Rancho Rd., STE 201A  Adelanto, CA 92301  Back to top   \n",
       "2                                                                                                           Arlington Immigration Court  1901 South Bell Street,  Suite 200  Arlington, VA 22202  Back to top   \n",
       "3                                                                                        Atlanta Immigration Court  Peachtree Summit Federal Building  401 W. Peachtree Street, Suite 2600  Atlanta, GA 30308   \n",
       "4                                                                                                              Atlanta Immigration Court  180 Ted Turner Drive, SW, Suite 241  Atlanta, GA 30303  Back to top   \n",
       "\n",
       "                                                                                                                                                                                                                                                                                                                                                                                                   1  \\\n",
       "0  Assigned Responsibility  The administrative control court may have jurisdiction over: charging documents issued by the following DHS district offices or sub-offices; or charging documents relating to individual aliens in custody at the following detention facilities or Service Processing Centers or incarcerated alien inmates in the custody of Departments of Corrections as specified.   \n",
       "1                                                                                                                                                                 Adelanto Detention Facilities, West  Adelanto Detention Facilities (East) - female population  Adelanto Detention Facilities (West) - male population  Lompoc Federal Correctional Institution  United States Penitentiary, Lompoc   \n",
       "2                                                                                                                                                                                                                                                                                                                                    ARLINGTON, VA - DHS DISTRICT OFFICE (including any sub-offices)   \n",
       "3                                                                                                                                                                                                                                                                                             ATLANTA, GA - DHS DISTRICT OFFICE (including any sub-offices except North Carolina and South Carolina)   \n",
       "4                                                                                                                                                                               ATLANTA, GA - DHS DISTRICT OFFICE (including any sub-offices except North Carolina and South Carolina)  Irwin County Detention Center, Ocilla, GA  Georgia Department of Corrections  Diagnostic Center, Jackson, GA   \n",
       "\n",
       "                                                                                                                                                                                                                                                                                                                                           2  \n",
       "0                                                                                                                                                                                                                   Other Hearing Locations  Detail cities or other hearing sites which may be serviced by the administrative control court.  \n",
       "1  Clerical Transfers Allowed  Adelanto Detention Facilities, West  Lompoc Federal Correctional Institution and United States Penitentiary  NOTE: The Lancaster Immigration Court has been closed as of November 1, 2012. Any matter relating to a case heard at that court is now under the jurisdiction of the Adelanto Immigration Court.  \n",
       "2                                                                                                                                                                                                                 Virginia Televideo Sites:  Farmville Detention Center  Farmville, VA  Caroline County Detention Facility Bowling Green, VA  \n",
       "3                                                                                                                                                                                                                                                                                                                                        NaN  \n",
       "4                                                                                                                                                                                                                                                                                                                                        NaN  "
      ]
     },
     "execution_count": 112,
     "metadata": {},
     "output_type": "execute_result"
    }
   ],
   "source": [
    "# Load the court listing data\n",
    "listing_data = pd.read_html('https://www.justice.gov/eoir/immigration-court-administrative-control-list')\n",
    "\n",
    "# Length of the data\n",
    "print(len(listing_data))\n",
    "\n",
    "# View of the data\n",
    "listing_data[1].head()\n"
   ]
  }
 ],
 "metadata": {
  "interpreter": {
   "hash": "3f8956436d8ce59f668ff26075b9e4d053dba06b7526eb5909008814682cd7e3"
  },
  "kernelspec": {
   "display_name": "Python 3.8.8 64-bit ('base': conda)",
   "name": "python3"
  },
  "language_info": {
   "codemirror_mode": {
    "name": "ipython",
    "version": 3
   },
   "file_extension": ".py",
   "mimetype": "text/x-python",
   "name": "python",
   "nbconvert_exporter": "python",
   "pygments_lexer": "ipython3",
   "version": "3.8.8"
  },
  "orig_nbformat": 4
 },
 "nbformat": 4,
 "nbformat_minor": 2
}
