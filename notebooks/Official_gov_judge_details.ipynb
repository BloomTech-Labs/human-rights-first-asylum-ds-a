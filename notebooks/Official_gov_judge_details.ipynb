{
 "cells": [
  {
   "cell_type": "markdown",
   "metadata": {},
   "source": [
    "# Tool Imports"
   ]
  },
  {
   "cell_type": "code",
   "execution_count": 1,
   "metadata": {},
   "outputs": [],
   "source": [
    "import pandas as pd\n"
   ]
  },
  {
   "cell_type": "markdown",
   "metadata": {},
   "source": [
    "# Overview"
   ]
  },
  {
   "cell_type": "markdown",
   "metadata": {},
   "source": [
    "This notebook aims to scrape the US Department of Justice's Executive Office for Immigration Review website to obtain current detail for each sitting judge.\n"
   ]
  },
  {
   "cell_type": "markdown",
   "metadata": {},
   "source": [
    "## Objectives\n",
    "\n",
    "- Explore the data availability\n",
    "- Understand if additional resources are necessary\n",
    "    - Find if applicable\n",
    "- Find product relevant data: judge name, locale (district, court location, etc.), biography as a stretch goal.\n",
    "- Establish best way to extract data into a readable format for backend end point"
   ]
  },
  {
   "cell_type": "markdown",
   "metadata": {},
   "source": [
    "## Considerations\n",
    "1) Relevance: How are prior practicing judges handled? An individual attorney may upload a case file for a judge no longer practicing law. How will the system handle this use case?\n",
    "\n",
    "2) Timeliness: How current is the information provided? \n",
    "\n",
    "3) Reliability: How reliable is the data being scraped? Given the data is drawn from a .gov site there is a strong likely hood the information can be relied upon for accuracy.\n",
    "\n",
    "4) Scalability: Will the solution in this notebook scale?\n",
    "\n",
    "Product Scope Note: This product formerly included appellate court cases. Cases where the original decision was appealed by either party and elevated to the next step in the immigration court judicial process. Please look for any reference to immigration appeals, BIA, board of appeals, etc. and insure that information is not included unless otherwise requested by the stakeholder. Example web site for exclusion includes: https://www.justice.gov/eoir/board-of-immigration-appeals-bios"
   ]
  },
  {
   "cell_type": "markdown",
   "metadata": {},
   "source": [
    "# Data Establishment"
   ]
  },
  {
   "cell_type": "code",
   "execution_count": 30,
   "metadata": {},
   "outputs": [],
   "source": [
    "# Load the data and save as a variable\n",
    "district_data = pd.read_html('https://www.justice.gov/eoir/eoir-immigration-court-listing')\n",
    "\n",
    "bio_data = pd.read_html('https://www.justice.gov/eoir/office-of-the-chief-immigration-judge-bios')\n"
   ]
  },
  {
   "cell_type": "code",
   "execution_count": null,
   "metadata": {},
   "outputs": [],
   "source": [
    "# Establish universal variables of key search words\n",
    "# These variables can be used for string searches\n",
    "\n",
    "accepted_words = ['judge', 'judges', 'eoir', 'immigration judge', 'immigration judges', 'district', 'district court', 'district courts']\n",
    "\n",
    "# rejected_words variable can be used to verify \n",
    "rejected_words = ['appeal', 'appeals', 'bia', 'appellate', 'appeal']\n"
   ]
  },
  {
   "cell_type": "code",
   "execution_count": 53,
   "metadata": {},
   "outputs": [],
   "source": [
    "# Set display option value to none allowing a view of all characters\n",
    "pd.set_option('display.max_colwidth', None)\n",
    "\n",
    "# Source material for this functionality here\n",
    "# https://towardsdatascience.com/8-commonly-used-pandas-display-options-you-should-know-a832365efa95\n"
   ]
  },
  {
   "cell_type": "code",
   "execution_count": 58,
   "metadata": {},
   "outputs": [
    {
     "name": "stdout",
     "output_type": "stream",
     "text": [
      "The length of the district data is: 31\n",
      "The length of the biography data is: 1\n",
      "District data example:                                                                                                                                                                                                                                                                                                                                                                0\n",
      "0  Arizona | California | Colorado | Connecticut | Florida | Georgia | Hawaii | Illinois  Louisiana | Maryland | Massachusetts | Michigan | Minnesota | Missouri Nebraska | Nevada | New Jersey | New Mexico | New York | North Carolina Northern Mariana Islands | Ohio | Oregon | Pennsylvania | Puerto Rico | Tennessee  Texas | Utah | Virginia | Washington\n",
      "Biography data example:                             0                           1\n",
      "0                Access  ECAS                Access  ICOR\n",
      "1  Find Legal  Representation         Submit a  Complaint\n",
      "2      Find Case  Information  Find an  Immigration Court\n"
     ]
    }
   ],
   "source": [
    "# Brief data content overview\n",
    "\n",
    "# Length of the data\n",
    "print('The length of the district data is:', len(district_data))\n",
    "print('The length of the biography data is:', len(bio_data))\n",
    "\n",
    "# View the first line of data\n",
    "print('District data example:', district_data[0])\n",
    "print('Biography data example:', bio_data[0])\n"
   ]
  },
  {
   "cell_type": "code",
   "execution_count": null,
   "metadata": {},
   "outputs": [],
   "source": [
    "# Move forward with district_data"
   ]
  },
  {
   "cell_type": "code",
   "execution_count": 79,
   "metadata": {},
   "outputs": [],
   "source": [
    "# Check to ensure required terms are present\n",
    "\n",
    "def word_check(list):\n",
    "\n",
    "    required_words = ['judge', 'immigration judge', 'judges', 'immigration judges', 'district', 'district court']\n",
    "\n",
    "    for word in list:\n",
    "        if word in required_words:\n",
    "            return True\n"
   ]
  },
  {
   "cell_type": "code",
   "execution_count": 80,
   "metadata": {},
   "outputs": [
    {
     "ename": "ValueError",
     "evalue": "The truth value of a DataFrame is ambiguous. Use a.empty, a.bool(), a.item(), a.any() or a.all().",
     "output_type": "error",
     "traceback": [
      "\u001b[1;31m---------------------------------------------------------------------------\u001b[0m",
      "\u001b[1;31mValueError\u001b[0m                                Traceback (most recent call last)",
      "\u001b[1;32m<ipython-input-80-e4aaffe7ec7a>\u001b[0m in \u001b[0;36m<module>\u001b[1;34m\u001b[0m\n\u001b[1;32m----> 1\u001b[1;33m \u001b[0mword_check\u001b[0m\u001b[1;33m(\u001b[0m\u001b[0mdistrict_data\u001b[0m\u001b[1;33m)\u001b[0m\u001b[1;33m\u001b[0m\u001b[1;33m\u001b[0m\u001b[0m\n\u001b[0m",
      "\u001b[1;32m<ipython-input-79-b7bdf45b2825>\u001b[0m in \u001b[0;36mword_check\u001b[1;34m(list)\u001b[0m\n\u001b[0;32m      6\u001b[0m \u001b[1;33m\u001b[0m\u001b[0m\n\u001b[0;32m      7\u001b[0m     \u001b[1;32mfor\u001b[0m \u001b[0mword\u001b[0m \u001b[1;32min\u001b[0m \u001b[0mlist\u001b[0m\u001b[1;33m:\u001b[0m\u001b[1;33m\u001b[0m\u001b[1;33m\u001b[0m\u001b[0m\n\u001b[1;32m----> 8\u001b[1;33m         \u001b[1;32mif\u001b[0m \u001b[0mword\u001b[0m \u001b[1;32min\u001b[0m \u001b[0mrequired_words\u001b[0m\u001b[1;33m:\u001b[0m\u001b[1;33m\u001b[0m\u001b[1;33m\u001b[0m\u001b[0m\n\u001b[0m\u001b[0;32m      9\u001b[0m             \u001b[1;32mreturn\u001b[0m \u001b[1;32mTrue\u001b[0m\u001b[1;33m\u001b[0m\u001b[1;33m\u001b[0m\u001b[0m\n",
      "\u001b[1;32m~\\anaconda3\\lib\\site-packages\\pandas\\core\\generic.py\u001b[0m in \u001b[0;36m__nonzero__\u001b[1;34m(self)\u001b[0m\n\u001b[0;32m   1440\u001b[0m     \u001b[1;33m@\u001b[0m\u001b[0mfinal\u001b[0m\u001b[1;33m\u001b[0m\u001b[1;33m\u001b[0m\u001b[0m\n\u001b[0;32m   1441\u001b[0m     \u001b[1;32mdef\u001b[0m \u001b[0m__nonzero__\u001b[0m\u001b[1;33m(\u001b[0m\u001b[0mself\u001b[0m\u001b[1;33m)\u001b[0m\u001b[1;33m:\u001b[0m\u001b[1;33m\u001b[0m\u001b[1;33m\u001b[0m\u001b[0m\n\u001b[1;32m-> 1442\u001b[1;33m         raise ValueError(\n\u001b[0m\u001b[0;32m   1443\u001b[0m             \u001b[1;34mf\"The truth value of a {type(self).__name__} is ambiguous. \"\u001b[0m\u001b[1;33m\u001b[0m\u001b[1;33m\u001b[0m\u001b[0m\n\u001b[0;32m   1444\u001b[0m             \u001b[1;34m\"Use a.empty, a.bool(), a.item(), a.any() or a.all().\"\u001b[0m\u001b[1;33m\u001b[0m\u001b[1;33m\u001b[0m\u001b[0m\n",
      "\u001b[1;31mValueError\u001b[0m: The truth value of a DataFrame is ambiguous. Use a.empty, a.bool(), a.item(), a.any() or a.all()."
     ]
    }
   ],
   "source": [
    "word_check(district_data)"
   ]
  },
  {
   "cell_type": "code",
   "execution_count": 81,
   "metadata": {},
   "outputs": [
    {
     "ename": "AttributeError",
     "evalue": "'list' object has no attribute 'item'",
     "output_type": "error",
     "traceback": [
      "\u001b[1;31m---------------------------------------------------------------------------\u001b[0m",
      "\u001b[1;31mAttributeError\u001b[0m                            Traceback (most recent call last)",
      "\u001b[1;32m<ipython-input-81-3c132099dba6>\u001b[0m in \u001b[0;36m<module>\u001b[1;34m\u001b[0m\n\u001b[1;32m----> 1\u001b[1;33m \u001b[0mdistrict_data\u001b[0m\u001b[1;33m.\u001b[0m\u001b[0mitem\u001b[0m\u001b[1;33m(\u001b[0m\u001b[1;33m)\u001b[0m\u001b[1;33m\u001b[0m\u001b[1;33m\u001b[0m\u001b[0m\n\u001b[0m",
      "\u001b[1;31mAttributeError\u001b[0m: 'list' object has no attribute 'item'"
     ]
    }
   ],
   "source": [
    "district_data.item()"
   ]
  },
  {
   "cell_type": "code",
   "execution_count": null,
   "metadata": {},
   "outputs": [],
   "source": [
    "# Goal\n",
    "# Find the string that includes judges names\n",
    "# Split the string by spaces"
   ]
  }
 ],
 "metadata": {
  "interpreter": {
   "hash": "3f8956436d8ce59f668ff26075b9e4d053dba06b7526eb5909008814682cd7e3"
  },
  "kernelspec": {
   "display_name": "Python 3.8.8 64-bit ('base': conda)",
   "name": "python3"
  },
  "language_info": {
   "codemirror_mode": {
    "name": "ipython",
    "version": 3
   },
   "file_extension": ".py",
   "mimetype": "text/x-python",
   "name": "python",
   "nbconvert_exporter": "python",
   "pygments_lexer": "ipython3",
   "version": "3.8.8"
  },
  "orig_nbformat": 4
 },
 "nbformat": 4,
 "nbformat_minor": 2
}
