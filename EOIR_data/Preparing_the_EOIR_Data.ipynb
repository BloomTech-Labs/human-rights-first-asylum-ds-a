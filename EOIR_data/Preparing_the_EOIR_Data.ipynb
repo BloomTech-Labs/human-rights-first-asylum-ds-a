{
 "cells": [
  {
   "cell_type": "code",
   "execution_count": null,
   "id": "fbf97d32",
   "metadata": {},
   "outputs": [],
   "source": [
    "# this is how you would download the files directly using a notebook. it is a large dataset and will take awhile. i used google\n",
    "# drive and processed the files in a colab notebook to share with the team.\n",
    "\n",
    "!wget https://fileshare.eoir.justice.gov/FOIA-TRAC-Report.zip"
   ]
  },
  {
   "cell_type": "code",
   "execution_count": null,
   "id": "5f8a7ae8",
   "metadata": {},
   "outputs": [],
   "source": [
    "import pandas as pd"
   ]
  },
  {
   "cell_type": "code",
   "execution_count": null,
   "id": "76287d41",
   "metadata": {},
   "outputs": [],
   "source": [
    "# these three .csv files contain the bulk of the information you'll need to get started. import from your chosen path. \n",
    "\n",
    "cases_table = '../A_TblCase.csv'\n",
    "proceedings_table = '../B_TblProceeding.csv'\n",
    "judges_table = '../tblLookupJudge.csv'"
   ]
  },
  {
   "cell_type": "code",
   "execution_count": null,
   "id": "543e669d",
   "metadata": {},
   "outputs": [],
   "source": [
    "# this is how you might process the judges table to create a dictionary\n",
    "# of judge names and codes along with a reverse dictionary.\n",
    "\n",
    "\n",
    "judges_cols = ['JUDGE_CODE', 'JUDGE_NAME', 'blnActive']\n",
    "\n",
    "judges_df = pd.read_csv(judges_table, sep=r'\\t', error_bad_lines=False, usecols=judges_cols)\n",
    "\n",
    "active_judges_df = judges_df[judges_df['blnActive'] == 1]\n",
    "\n",
    "# creating a dict of judges names and codes as a reference to check \n",
    "\n",
    "judges_dict = {}\n",
    "\n",
    "for code, judge in zip(judges_df['JUDGE_CODE'], judges_df['JUDGE_NAME']):\n",
    "  if ',' in judge:\n",
    "    clean_name = judge.strip().upper()\n",
    "    judges_dict[code] = clean_name   \n",
    "\n",
    "# creating a reverse dictionary for judge name : code\n",
    "reverse_judge_dict = {v:k for k, v in judges_dict.items()}"
   ]
  },
  {
   "cell_type": "code",
   "execution_count": null,
   "id": "fe0057a0",
   "metadata": {},
   "outputs": [],
   "source": [
    "# this is how you might process the cases table. nrows was used for initial inspection\n",
    "# you can change the chunksize and date of entry filter as you see fit\n",
    "\n",
    "cases_cols = ['IDNCASE', 'ALIEN_STATE', 'NAT', 'DATE_OF_ENTRY']\n",
    "\n",
    "chunksize = 500\n",
    "nrows = 100\n",
    "\n",
    "case_chunks = []\n",
    "\n",
    "for chunk in pd.read_csv(cases_table, sep=r'\\t', error_bad_lines=False, usecols=cases_cols,\n",
    "                      parse_dates=['DATE_OF_ENTRY'], chunksize=chunksize):\n",
    "  \n",
    "  case_chunks.append(chunk[chunk['DATE_OF_ENTRY'] >= '2017'])\n",
    "\n",
    "# creating a dataframe of the cases table from the list of chunks\n",
    "cases_df = pd.concat(case_chunks)"
   ]
  },
  {
   "cell_type": "code",
   "execution_count": null,
   "id": "ac5dcb21",
   "metadata": {},
   "outputs": [],
   "source": [
    "# this is how you might process the proceedings table. again, filter as you see fit.\n",
    "\n",
    "proceedings_cols = ['IDNCASE', 'CASE_TYPE', 'IJ_CODE', 'HEARING_LOC_CODE', 'HEARING_DATE', 'DEC_TYPE', 'DEC_CODE','ABSENTIA']\n",
    "\n",
    "proceedings_chunks = []\n",
    "\n",
    "for chunk in pd.read_csv(proceedings_table, sep=r'\\t', usecols=proceedings_cols, error_bad_lines=False, \n",
    "                             parse_dates=['HEARING_DATE'], chunksize=chunksize):\n",
    "  \n",
    "  proceedings_chunks.append(chunk[chunk['HEARING_DATE'] >= '2017'])\n",
    "\n",
    "# creating a dataframe of the proceedings table from the list of chunks\n",
    "\n",
    "proceedings_df = pd.concat(proceedings_chunks)"
   ]
  },
  {
   "cell_type": "markdown",
   "id": "3e5521d6",
   "metadata": {},
   "source": [
    "## i would merge proceedings and cases and go from there. the above removes a few hurdles and initial frustrations! "
   ]
  }
 ],
 "metadata": {
  "kernelspec": {
   "display_name": "human-rights-first-asylum-ds-a",
   "language": "python",
   "name": "human-rights-first-asylum-ds-a"
  },
  "language_info": {
   "codemirror_mode": {
    "name": "ipython",
    "version": 3
   },
   "file_extension": ".py",
   "mimetype": "text/x-python",
   "name": "python",
   "nbconvert_exporter": "python",
   "pygments_lexer": "ipython3",
   "version": "3.9.5"
  }
 },
 "nbformat": 4,
 "nbformat_minor": 5
}
