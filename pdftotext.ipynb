{
 "metadata": {
  "language_info": {
   "codemirror_mode": {
    "name": "ipython",
    "version": 3
   },
   "file_extension": ".py",
   "mimetype": "text/x-python",
   "name": "python",
   "nbconvert_exporter": "python",
   "pygments_lexer": "ipython3",
   "version": "3.7.0-final"
  },
  "orig_nbformat": 2,
  "kernelspec": {
   "name": "u4-s1-nlp",
   "display_name": "U4-S1-NLP (Python3)",
   "language": "python"
  }
 },
 "nbformat": 4,
 "nbformat_minor": 2,
 "cells": [
  {
   "cell_type": "code",
   "execution_count": 15,
   "metadata": {},
   "outputs": [
    {
     "output_type": "stream",
     "name": "stdout",
     "text": [
      "Requirement already satisfied: pdfminer.six in /Users/edwinapalmer/opt/anaconda3/envs/U4-S1-NLP/lib/python3.7/site-packages (20201018)\n",
      "Requirement already satisfied: cryptography in /Users/edwinapalmer/opt/anaconda3/envs/U4-S1-NLP/lib/python3.7/site-packages (from pdfminer.six) (3.3.1)\n",
      "Requirement already satisfied: chardet; python_version > \"3.0\" in /Users/edwinapalmer/opt/anaconda3/envs/U4-S1-NLP/lib/python3.7/site-packages (from pdfminer.six) (3.0.4)\n",
      "Requirement already satisfied: sortedcontainers in /Users/edwinapalmer/opt/anaconda3/envs/U4-S1-NLP/lib/python3.7/site-packages (from pdfminer.six) (2.3.0)\n",
      "Requirement already satisfied: cffi>=1.12 in /Users/edwinapalmer/opt/anaconda3/envs/U4-S1-NLP/lib/python3.7/site-packages (from cryptography->pdfminer.six) (1.14.4)\n",
      "Requirement already satisfied: six>=1.4.1 in /Users/edwinapalmer/opt/anaconda3/envs/U4-S1-NLP/lib/python3.7/site-packages (from cryptography->pdfminer.six) (1.15.0)\n",
      "Requirement already satisfied: pycparser in /Users/edwinapalmer/opt/anaconda3/envs/U4-S1-NLP/lib/python3.7/site-packages (from cffi>=1.12->cryptography->pdfminer.six) (2.20)\n"
     ]
    }
   ],
   "source": [
    "!pip install pdfminer.six"
   ]
  },
  {
   "cell_type": "code",
   "execution_count": 16,
   "metadata": {},
   "outputs": [],
   "source": [
    "from pdfminer.high_level import extract_text"
   ]
  },
  {
   "source": [
    "with open('/Users/edwinapalmer/Desktop/human-rights-first-asylim-ds-b/app/173103309-Benjamin-Luis-Garcia-A098-237-658-BIA-Jan-21-2011.pdf','rb') as f:\n",
    "    text = extract_text(f)"
   ],
   "cell_type": "code",
   "metadata": {},
   "execution_count": 21,
   "outputs": []
  },
  {
   "cell_type": "code",
   "execution_count": 22,
   "metadata": {},
   "outputs": [
    {
     "output_type": "stream",
     "name": "stdout",
     "text": [
      "U.S. Department of Justice \n\nExecutive \n\nOffice for Immigration \n\nReview \n\nBoard of Immigration \nOffice of the Clerk \n\nAppeals \n\n5107 Leesburg Pike. Suite 2000 \n\nFalls Church, Virginia 2204 / \n\nWillshire, \n\nJohn, Esquire \n\nOHS/ICE  Office \n\nof Chief Counsel -BOS \n\nGBLS/Harvard Immigration & Refugee Clinic \n\nP.O. Box 8728 \n\n197 Friend St. \n\nBoston, MA 02114-0000 \n\nBoston, MA 02114 \n\nName: LUIS-GARCIA, BENJAMIN \n\nA098-237 ·658 \n\nEnclosed is a copy of the Board's decision \n\nand order in the above-referenced \ncase. \n\nDate of this notice: 1/21/2011 \n\nSincerely, \n\nDonna Carr \n\nChief Clerk \n\nEnclosure \n\nPanel Members: \n\nHolmes, David B. \n\nCite as: Benjamin Luis-Garcia, A098 237 658 (BIA Jan. 21, 2011)For more unpublished BIA decisions, visit www.irac.net/unpublishedImmigrant & Refugee Appellate Center | www.irac.net\fDecision of the Board oflmmigration Appeals \n\nFile: A098 237 658 - Boston, MA \n\nDate: \n\n!JAN 21 2011 \n\n. JJ.S. i;>epartment \n\nof Justice \n\nExecutive \n\nOffice for Immigration Review \n\nFalJs Church, Virginia 22041 \n\nIn re: BENJAMIN LUIS-GARCIA \n\nIN REMOVAL PROCEEDINGS \n\nMOTION \n\nON BEHALF OF RESPONDENT:  John E. Willshire, Esquire \n\nAPPLICATION:  Reopening \n\nThis case was previously \n\nbefore the Board on August 23, 2010, when we dismissed \nthe \n\nrespondent's appeal \n\nof the Immigration \n\nJudge's October 16, 2008, decision \n\ndenying his applications \n\nfor asylum, withholding \n\nof removal, and protection \n\nunder the Convention Against Torture. On \n\nOctober 21,  2010, \n\nthe respondent \n\nfiled a timely motion to reopen with the  Board. \n\nThe Department \n\nof Homeland Security \n\nhas not filed an opposition \n\nto the motion to reopen. \n\nGiven the overall circumstances \n\nand evidence presented \n\nby the respondent \n\nin his motion, we find \n\nthat reopening \n\nshould be granted. \n\nIn support of his motion the respondent \n\nSignificantly, \n\nthe respondent \n\nhas filed a declaration \n\nfrom his father'  that \n\nhas filed two declarations. \ninter alia, (a) the \n\nindicates, \n\nrespondent's \n\nfather, an indigenous \n\nMaya Quiche, was a former political \n\nleader and mayor advocating \n\nfor indigenous \n\nrights, \n\n(b) the respondent's \n\nfather was threatened \n\nand targeted \n\nby the government for \n\nhis activities, \n\nand ( c) the respondent's \n\nfather believes \n\nthat his son will face persecution \n\nin Guatemala \n\nbased on his father's political \n\nactivities, \n\nhis son's own pro-indigenous \n\nviews, and on-going \n\nmonitoring \n\nand harassment \n\nof the respondent's \n\nindigenous \n\nfamily in Guatemala (See Respondent's \n\nMotion to Reopen, Statement \n\nof Santos Luis de la Cruz). Consequently, \n\nthe proceedings \n\nwill be \n\nreopened and the record will be remanded. On remand, the parties shall have an opportunity \n\nto \n\nupdate the record. Accordingly, \n\nthe following orders will be entered. \n\nORDER: The respondent's \n\ntimely, unopposed motion to reopen is granted. \n\nFURTHER ORDER: The record is remanded to the Immigration \n\nCourt for further proceedings \n\nconsistent \n\nwith the foregoing opinion and for issuance \n\nof a new decision. \n\nFOR THE BOARD \n\n1 The respondent's \n\nfather did not previously \n\ntell the respondent \n\nabout his political \n\npast and family \n\npersecution because \n\nhe was too traumatized \n\nand feared for his son's safety (see Respondent's \n\nMotion \n\nto Reopen at 2-3, Statement \n\nof Santos Luis de la Cruz at 1-2). \n\nCite as: Benjamin Luis-Garcia, A098 237 658 (BIA Jan. 21, 2011)Immigrant & Refugee Appellate Center | www.irac.net\f\n"
     ]
    }
   ],
   "source": [
    "print(text)"
   ]
  },
  {
   "cell_type": "code",
   "execution_count": null,
   "metadata": {},
   "outputs": [],
   "source": []
  }
 ]
}